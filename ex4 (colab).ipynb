{
  "nbformat": 4,
  "nbformat_minor": 0,
  "metadata": {
    "colab": {
      "name": "ex4.ipynb",
      "version": "0.3.2",
      "provenance": []
    },
    "kernelspec": {
      "name": "python3",
      "display_name": "Python 3"
    }
  },
  "cells": [
    {
      "metadata": {
        "id": "s4uIXfQP8M8Q",
        "colab_type": "text"
      },
      "cell_type": "markdown",
      "source": [
        "# 作業 4：完成 House Prices: Advanced Regression Techniques 並上傳（70）\n",
        "## House Prices: Advanced Regression Techniques "
      ]
    },
    {
      "metadata": {
        "id": "imgRbllf8fMv",
        "colab_type": "code",
        "colab": {}
      },
      "cell_type": "code",
      "source": [
        "import pandas as pd\n",
        "from sklearn.tree import DecisionTreeRegressor\n",
        "from sklearn.metrics import mean_absolute_error\n",
        "from sklearn.metrics import mean_squared_error\n",
        "from sklearn.model_selection import train_test_split\n",
        "from sklearn.ensemble import RandomForestRegressor\n",
        "from sklearn.ensemble import GradientBoostingRegressor\n",
        "from sklearn.ensemble.partial_dependence import plot_partial_dependence,partial_dependence\n",
        "from sklearn.pipeline import make_pipeline\n",
        "from sklearn.model_selection import cross_val_score\n",
        "from sklearn.decomposition import PCA \n",
        "from sklearn.preprocessing import Imputer\n",
        "from matplotlib import pyplot as plt\n",
        "from xgboost import XGBRegressor\n",
        "import numpy as np\n",
        "import math\n",
        "import lightgbm as lgb\n",
        "import tensorflow as tf "
      ],
      "execution_count": 0,
      "outputs": []
    },
    {
      "metadata": {
        "id": "TFRULLMzh1Jl",
        "colab_type": "text"
      },
      "cell_type": "markdown",
      "source": [
        "## **Decision Tree**"
      ]
    },
    {
      "metadata": {
        "id": "NFCRchxdhvsb",
        "colab_type": "code",
        "colab": {}
      },
      "cell_type": "code",
      "source": [
        "house_price_train_url = \"https://s3-ap-northeast-1.amazonaws.com/kaggle-getting-started/house-prices/train.csv\"\n",
        "house_price_test_url = \"https://s3-ap-northeast-1.amazonaws.com/kaggle-getting-started/house-prices/test.csv\"\n",
        "\n",
        "train = pd.read_csv(house_price_train_url)\n",
        "test = pd.read_csv(house_price_test_url)"
      ],
      "execution_count": 0,
      "outputs": []
    },
    {
      "metadata": {
        "id": "6_CQwpIBiEII",
        "colab_type": "code",
        "colab": {}
      },
      "cell_type": "code",
      "source": [
        "X = train.drop(['SalePrice'],axis=1)\n",
        "#print(X)\n",
        "y = train.SalePrice\n",
        "#print (X.SalePrice)\n",
        "val_X = test[list(test)]\n",
        "#print(val_X)"
      ],
      "execution_count": 0,
      "outputs": []
    },
    {
      "metadata": {
        "id": "TSabpQV9iNv0",
        "colab_type": "code",
        "colab": {}
      },
      "cell_type": "code",
      "source": [
        "one_hot_pred = pd.get_dummies(X)\n",
        "one_hot_encoded_test_predictors = pd.get_dummies(val_X)\n",
        "final_train, final_test = one_hot_pred.align(one_hot_encoded_test_predictors,\n",
        "                                                                    join='left', \n",
        "                                                                    axis=1)"
      ],
      "execution_count": 0,
      "outputs": []
    },
    {
      "metadata": {
        "id": "wsPy2-y2iROM",
        "colab_type": "code",
        "outputId": "044b1419-963a-4c36-9604-ca83081e9729",
        "colab": {
          "base_uri": "https://localhost:8080/",
          "height": 71
        }
      },
      "cell_type": "code",
      "source": [
        "my_imputer = Imputer()\n",
        "imputed_X_train = my_imputer.fit_transform(final_train)\n",
        "imputed_X_test = my_imputer.transform(final_test)"
      ],
      "execution_count": 5,
      "outputs": [
        {
          "output_type": "stream",
          "text": [
            "/usr/local/lib/python3.6/dist-packages/sklearn/utils/deprecation.py:58: DeprecationWarning: Class Imputer is deprecated; Imputer was deprecated in version 0.20 and will be removed in 0.22. Import impute.SimpleImputer from sklearn instead.\n",
            "  warnings.warn(msg, category=DeprecationWarning)\n"
          ],
          "name": "stderr"
        }
      ]
    },
    {
      "metadata": {
        "id": "_x_kAesCiURW",
        "colab_type": "code",
        "colab": {}
      },
      "cell_type": "code",
      "source": [
        "new_dt_model=DecisionTreeRegressor()\n",
        "\n",
        "new_dt_model.fit(imputed_X_train,y)\n",
        "\n",
        "dt_predictions=new_dt_model.predict(imputed_X_test)"
      ],
      "execution_count": 0,
      "outputs": []
    },
    {
      "metadata": {
        "id": "qmBTqaj6iZpK",
        "colab_type": "code",
        "colab": {}
      },
      "cell_type": "code",
      "source": [
        "my_submission=pd.DataFrame({'ID': test.Id, 'SalePrice': dt_predictions})\n",
        "\n",
        "my_submission.to_csv('dy_submission.csv',index=False)"
      ],
      "execution_count": 0,
      "outputs": []
    },
    {
      "metadata": {
        "id": "pUy9x2HTif9w",
        "colab_type": "code",
        "outputId": "f9e08076-f6f8-41f0-ccfb-1b6bc147a160",
        "colab": {
          "base_uri": "https://localhost:8080/",
          "height": 34
        }
      },
      "cell_type": "code",
      "source": [
        "!dir"
      ],
      "execution_count": 17,
      "outputs": [
        {
          "output_type": "stream",
          "text": [
            "dy_submission.csv  imp_submission.csv  sample_data  submission.csv\n"
          ],
          "name": "stdout"
        }
      ]
    },
    {
      "metadata": {
        "id": "H_7BzUev8qrD",
        "colab_type": "text"
      },
      "cell_type": "markdown",
      "source": [
        "# Random Forest prediction with select features \n"
      ]
    },
    {
      "metadata": {
        "id": "qWeXCD_n9cps",
        "colab_type": "text"
      },
      "cell_type": "markdown",
      "source": [
        ""
      ]
    },
    {
      "metadata": {
        "id": "Tja9nx-z9dxg",
        "colab_type": "code",
        "outputId": "0ad33a1d-6bd2-4aca-c876-6a4e32a07068",
        "colab": {
          "base_uri": "https://localhost:8080/",
          "height": 71
        }
      },
      "cell_type": "code",
      "source": [
        "from sklearn.ensemble import RandomForestRegressor\n",
        "import pandas as pd\n",
        "\n",
        "train = pd.read_csv(house_price_train_url)\n",
        "train_y=train.SalePrice\n",
        "predictor_cols=['LotArea', 'OverallQual', 'YearBuilt', 'TotRmsAbvGrd']\n",
        "train_X=train[predictor_cols]\n",
        "forest_model=RandomForestRegressor()\n",
        "forest_model.fit(train_X,train_y)\n",
        "test= pd.read_csv(house_price_test_url)\n",
        "test_X=test[predictor_cols]\n",
        "predicted_prices=forest_model.predict(test_X)\n",
        "#print(predicted_prices)"
      ],
      "execution_count": 18,
      "outputs": [
        {
          "output_type": "stream",
          "text": [
            "/usr/local/lib/python3.6/dist-packages/sklearn/ensemble/forest.py:246: FutureWarning: The default value of n_estimators will change from 10 in version 0.20 to 100 in 0.22.\n",
            "  \"10 in version 0.20 to 100 in 0.22.\", FutureWarning)\n"
          ],
          "name": "stderr"
        }
      ]
    },
    {
      "metadata": {
        "id": "XyfkckHa9rXV",
        "colab_type": "code",
        "colab": {}
      },
      "cell_type": "code",
      "source": [
        "my_submission=pd.DataFrame({'ID': test.Id, 'SalePrice': predicted_prices})\n",
        "my_submission.to_csv('submission.csv',index=False)"
      ],
      "execution_count": 0,
      "outputs": []
    },
    {
      "metadata": {
        "id": "paQDnvLm91K4",
        "colab_type": "text"
      },
      "cell_type": "markdown",
      "source": [
        "# **XGBoost**"
      ]
    },
    {
      "metadata": {
        "id": "zG8gpWYe-Pnt",
        "colab_type": "code",
        "outputId": "c10c9d1b-99c9-48af-efc1-83d6c1f131c8",
        "colab": {
          "base_uri": "https://localhost:8080/",
          "height": 71
        }
      },
      "cell_type": "code",
      "source": [
        "my_imputer = Imputer()\n",
        "imputed_X_train_plus = my_imputer.fit_transform(final_train)\n",
        "imputed_X_test_plus = my_imputer.transform(final_test)"
      ],
      "execution_count": 20,
      "outputs": [
        {
          "output_type": "stream",
          "text": [
            "/usr/local/lib/python3.6/dist-packages/sklearn/utils/deprecation.py:58: DeprecationWarning: Class Imputer is deprecated; Imputer was deprecated in version 0.20 and will be removed in 0.22. Import impute.SimpleImputer from sklearn instead.\n",
            "  warnings.warn(msg, category=DeprecationWarning)\n"
          ],
          "name": "stderr"
        }
      ]
    },
    {
      "metadata": {
        "id": "uKrg3Dc79vqD",
        "colab_type": "code",
        "colab": {}
      },
      "cell_type": "code",
      "source": [
        "xgb_model = XGBRegressor()\n",
        "xgb_model.fit(imputed_X_train_plus,y)\n",
        "xgb_pred_prices = xgb_model.predict(imputed_X_test_plus)"
      ],
      "execution_count": 0,
      "outputs": []
    },
    {
      "metadata": {
        "id": "aH5ZXR_i-0q8",
        "colab_type": "code",
        "outputId": "e862c17e-cda3-4dfe-c474-7e0bea6adc0b",
        "colab": {
          "base_uri": "https://localhost:8080/",
          "height": 71
        }
      },
      "cell_type": "code",
      "source": [
        "imp_model = RandomForestRegressor()\n",
        "imp_model.fit(imputed_X_train_plus,y)\n",
        "imp_model_prices = imp_model.predict(imputed_X_test_plus)"
      ],
      "execution_count": 22,
      "outputs": [
        {
          "output_type": "stream",
          "text": [
            "/usr/local/lib/python3.6/dist-packages/sklearn/ensemble/forest.py:246: FutureWarning: The default value of n_estimators will change from 10 in version 0.20 to 100 in 0.22.\n",
            "  \"10 in version 0.20 to 100 in 0.22.\", FutureWarning)\n"
          ],
          "name": "stderr"
        }
      ]
    },
    {
      "metadata": {
        "id": "iA5zYf1a-WWl",
        "colab_type": "code",
        "colab": {}
      },
      "cell_type": "code",
      "source": [
        "my_submission=pd.DataFrame({'ID': test.Id, 'SalePrice': imp_model_prices})\n",
        "\n",
        "my_submission.to_csv('imp_submission.csv',index=False)"
      ],
      "execution_count": 0,
      "outputs": []
    },
    {
      "metadata": {
        "id": "vN6UGNPf929c",
        "colab_type": "text"
      },
      "cell_type": "markdown",
      "source": [
        ""
      ]
    }
  ]
}