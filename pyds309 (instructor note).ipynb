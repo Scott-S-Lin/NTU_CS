{
  "nbformat": 4,
  "nbformat_minor": 0,
  "metadata": {
    "colab": {
      "name": "pyds309.ipynb",
      "version": "0.3.2",
      "provenance": [],
      "collapsed_sections": [
        "Y-1n9xRiKPmf",
        "i6a31y5vKR-8",
        "2pHGW6NA9b_y",
        "bbN80Nafg6Pz",
        "IA-j05j-i-KQ",
        "WXD50_Ktk9cQ",
        "lB0claatKUtc",
        "zI6DtnF43oSS",
        "-F8vWxp-51gl",
        "W8AlPq8h8IVp",
        "JuwFKmGj9XcR",
        "Xnojo1Qm_nWp",
        "IYiuPtEUMJ7V",
        "-03lVtwMQlk0",
        "K4uDyJ_kbqFp",
        "urPP8A4SKWsv",
        "-1NqZj8QKY0-"
      ],
      "toc_visible": true
    },
    "kernelspec": {
      "name": "python3",
      "display_name": "Python 3"
    }
  },
  "cells": [
    {
      "metadata": {
        "id": "ejs75zQ4JqwH",
        "colab_type": "text"
      },
      "cell_type": "markdown",
      "source": [
        "# Python 與資料科學應用\n",
        "\n",
        "## 郭耀仁"
      ]
    },
    {
      "metadata": {
        "id": "2iVsQsuAJ1FW",
        "colab_type": "text"
      },
      "cell_type": "markdown",
      "source": [
        "## 課綱\n",
        "\n",
        "- 靜態網頁擷取\n",
        "- 為什麼我們要用模組？\n",
        "- NumPy\n",
        "- pandas\n",
        "- matplotlib\n",
        "- Scikit-Learn"
      ]
    },
    {
      "metadata": {
        "id": "9VdjYRHvKM3z",
        "colab_type": "text"
      },
      "cell_type": "markdown",
      "source": [
        "## 靜態網頁擷取\n",
        "\n",
        "### 事前準備：判斷資料擺放的位置\n",
        "\n",
        "- Chrome 外掛：\n",
        "  - [Quick JavaScript Switcher](https://chrome.google.com/webstore/detail/quick-javascript-switcher/geddoclleiomckbhadiaipdggiiccfje)\n",
        "  - [JSONView](https://chrome.google.com/webstore/detail/jsonview/chklaanhfefbnpoihckbnefhakgolnmc) \n",
        "  - [Selector Gadget](https://chrome.google.com/webstore/detail/selectorgadget/mhjhnkcfbdhnjickkkdbjoemdmbfginb)\n",
        "  - [EditThisCookie](https://chrome.google.com/webstore/detail/editthiscookie/fngmhnnpilhplaeedifhccceomclgfbg)\n",
        "\n",
        "- 擺放在 JSON data api 的範例網頁：\n",
        "  - <https://ecshweb.pchome.com.tw/search/v3.3/?q=macbook)>\n",
        "  - <https://www.nba.com/lakers/roster>\n",
        "- 擺放在 HTML 的範例網頁：\n",
        "  - <https://tw.stock.yahoo.com/d/i/rank.php?t=pri&e=tse&n=100>\n",
        "  - <https://www.imdb.com/title/tt1477834>"
      ]
    },
    {
      "metadata": {
        "id": "M6mpd9HKXCFN",
        "colab_type": "text"
      },
      "cell_type": "markdown",
      "source": [
        "### `requests` 模組\n",
        "\n",
        "<http://docs.python-requests.org/en/master/>\n",
        "\n",
        "```python\n",
        "r = requests.get('https://api.github.com/user', auth=('user', 'pass'))\n",
        "r.status_code\n",
        "## 200\n",
        "r.headers['content-type']\n",
        "## 'application/json; charset=utf8'\n",
        "r.encoding\n",
        "## 'utf-8'\n",
        "r.text\n",
        "## u'{\"type\":\"User\"...'\n",
        "r.json()\n",
        "## {u'private_gists': 419, u'total_private_repos': 77, ...}\n",
        "```"
      ]
    },
    {
      "metadata": {
        "id": "ZNl9O4qiWSgR",
        "colab_type": "code",
        "colab": {}
      },
      "cell_type": "code",
      "source": [
        "# pchome data json\n",
        "import requests # from requests import get\n",
        "\n",
        "pchome_data_url = \"https://ecshweb.pchome.com.tw/search/v3.3/all/results?q=macbook)&page=1&sort=sale/dc\"\n",
        "response = requests.get(pchome_data_url)"
      ],
      "execution_count": 0,
      "outputs": []
    },
    {
      "metadata": {
        "id": "XmDcV55eYn2K",
        "colab_type": "code",
        "outputId": "df141e5c-b3d9-4522-96b7-7c2a2e27bf6c",
        "colab": {
          "base_uri": "https://localhost:8080/",
          "height": 121
        }
      },
      "cell_type": "code",
      "source": [
        "json_str = response.text\n",
        "json_dict = response.json()\n",
        "print(type(json_str))\n",
        "print(type(json_dict))\n",
        "print(json_str)\n",
        "print(len(json_str))\n",
        "print(json_dict)"
      ],
      "execution_count": 0,
      "outputs": [
        {
          "output_type": "stream",
          "text": [
            "<class 'str'>\n",
            "<class 'dict'>\n",
            "{\"QTime\":64,\"totalRows\":13413,\"totalPage\":100,\"range\":{\"min\":\"\",\"max\":\"\"},\"cateName\":\"\",\"q\":\"macbook)\",\"subq\":\"\",\"token\":[\"macbook\"],\"prods\":[{\"Id\":\"DYAJBL-A90097XCB\",\"cateId\":\"DYAJBG\",\"picS\":\"\\/items\\/DYAJBLA90097XCB\\/000002_1544666864.jpg\",\"picB\":\"\\/items\\/DYAJBLA90097XCB\\/000001_1548381756.jpg\",\"name\":\"MacBook Air 13-inch: 1.8GHz dual-core Intel Core i5, 128GB (MQD32TA\\/A)\",\"describe\":\"2017 MacBook Air 13\\u7b2c\\u4e94\\u4ee3 i5 \\/ 8GB \\/ 128GB \\/ 1.8GHz dual\\\\r\\\\n\\u9650\\u6642\\u512a\\u60e0\\u2605\\u7acb\\u5373\\u77013\\u5343\\u81f31 31(\\u56db)10:00\\u6b62 \\r\\n\\u6578\\u91cf\\u6709\\u9650\\uff0c\\u552e\\u5b8c\\u70ba\\u6b62\\r\\n\\u7db2\\u8def\\u50f9$31900\\uff0e\\u9650\\u6642\\u50f9\\u2198$\\uff12\\uff18\\uff19\\uff10\\uff10\\r\\n\\r\\n\\u25cf intel core  i5 \\u8655\\u7406\\u5668\\r\\n\\u25cf intel hd graphics 6000\\r\\n\\u25cf ssd \\u5132\\u5b58\\u88dd\\u7f6e\\r\\n\\u25cf \\u9577\\u9054 12 \\u5c0f\\u6642\\u96fb\\u6c60\\u7e8c\\u822a\\u529b\\r\\n\\u25cf 802.11 ac wi-fi\\r\\n\\u25cf multi - touch \\u89f8\\u63a7\\u5f0f\\u8ecc\\u8de1\\u677f\\r\\n\\u25cf \\u6700\\u9577\\u53ef\\u9054 30 \\u5929\\u5f85\\u6a5f\\u6642\\u9593\\r\\n\\u25cf \\u7bc0\\u80fd\\u4f4e\\u8017\\u53c8\\u517c\\u5177\\u9ad8\\u6548\\u80fd\\u7684\\u8a2d\\u8a08\\r\\n\\r\\n\\u6ce8\\u610f\\u4e8b\\u9805\",\"price\":28900,\"originPrice\":28900,\"author\":\"\",\"brand\":\"\",\"publishDate\":\"\",\"sellerId\":\"\",\"isPChome\":1,\"isNC17\":0,\"couponActid\":[],\"BU\":\"ec\"},{\"Id\":\"DYAJBL-19009QDO2\",\"cateId\":\"DYAJBL\",\"picS\":\"\\/items\\/DYAJBL19009QDO2\\/000002_1548381532.jpg\",\"picB\":\"\\/items\\/DYAJBL19009QDO2\\/000001_1548381532.jpg\",\"name\":\"MacBook Air 13: 1.6GHz dual-core Intel Core i5, 128GB - Space Grey\",\"describe\":\"MacBook Air 13 \\u7070\\u8272\\u7b2c\\u516b\\u4ee3 i5 \\/ 8GB \\/ 128GB \\/ 1.6GHz\\\\r\\\\n\\u300a\\u964d3\\u5343\\u512a\\u60e0\\u26052018\\u65b0\\u6b3e\\u300b \\r\\n\\u7db2\\u8def\\u50f9$39900\\uff0e\\r\\n\\u9650\\u6642\\u50f9\\u2198$\\uff13\\uff16\\uff19\\uff10\\uff10\\r\\n\\r\\n\\u25cf touch id\\r\\n\\u25cf \\u96d9\\u6838\\u5fc3\\u7b2c\\u516b\\u4ee3 intel core i5 \\u8655\\u7406\\u5668\\r\\n\\u25cf intel uhd graphics 617\\r\\n\\u25cf \\u5feb\\u901f\\u7684 ssd \\u5132\\u5b58\\u88dd\\u7f6e\\r\\n\\u25cf 8gb \\u8a18\\u61b6\\u9ad4\\r\\n\\u25cf \\u7acb\\u9ad4\\u8072\\u63da\\u8072\\u5668\\u5177\\u5099\\u66f4\\u5bec\\u5ee3\\u7684\\u7acb\\u9ad4\\u8072\\r\\n\\u25cf \\u5169\\u500b thunderbolt 3 (usb-c) \\u57e0\\r\\n\\u25cf \\u9577\\u9054 12 \\u5c0f\\u6642\\u96fb\\u6c60\\u7e8c\\u822a\\u529b\\r\\n\\u25cf 802.11ac wi-fi\\r\\n\\r\\n\\u6ce8\\u610f\\u4e8b\\u9805\",\"price\":36900,\"originPrice\":36900,\"author\":\"\",\"brand\":\"\",\"publishDate\":\"\",\"sellerId\":\"\",\"isPChome\":1,\"isNC17\":0,\"couponActid\":[],\"BU\":\"ec\"},{\"Id\":\"DYAJBL-19009QCP8\",\"cateId\":\"DYAJBL\",\"picS\":\"\\/items\\/DYAJBL19009QCP8\\/000002_1548641503.jpg\",\"picB\":\"\\/items\\/DYAJBL19009QCP8\\/000001_1548641503.jpg\",\"name\":\"MacBook Air 13: 1.6GHz dual-core Intel Core i5, 128GB - Space Grey\",\"describe\":\"MacBook Air 13 \\u7070\\u8272\\u7b2c\\u516b\\u4ee3 i5 \\/ 8GB \\/ 128GB \\/ 1.6GHz\\\\r\\\\n\\u300a\\u2605\\u518d\\u8d08\\u8d85\\u503c\\u597d\\u79ae\\u7d44\\u300b\\r\\n\\r\\n\\u25cf touch id\\r\\n\\u25cf \\u96d9\\u6838\\u5fc3\\u7b2c\\u516b\\u4ee3 intel core i5 \\u8655\\u7406\\u5668\\r\\n\\u25cf intel uhd graphics 617\\r\\n\\u25cf \\u5feb\\u901f\\u7684 ssd \\u5132\\u5b58\\u88dd\\u7f6e\\r\\n\\u25cf 8gb \\u8a18\\u61b6\\u9ad4\\r\\n\\u25cf \\u7acb\\u9ad4\\u8072\\u63da\\u8072\\u5668\\u5177\\u5099\\u66f4\\u5bec\\u5ee3\\u7684\\u7acb\\u9ad4\\u8072\\r\\n\\u25cf \\u5169\\u500b thunderbolt 3 (usb-c) \\u57e0\\r\\n\\u25cf \\u9577\\u9054 12 \\u5c0f\\u6642\\u96fb\\u6c60\\u7e8c\\u822a\\u529b\\r\\n\\u25cf 802.11ac wi-fi\\r\\n\\r\\n\\u6ce8\\u610f\\u4e8b\\u9805\",\"price\":39900,\"originPrice\":39900,\"author\":\"\",\"brand\":\"\",\"publishDate\":\"\",\"sellerId\":\"\",\"isPChome\":1,\"isNC17\":0,\"couponActid\":[],\"BU\":\"ec\"},{\"Id\":\"DCADHZ-A9008WQYY\",\"cateId\":\"DCADMP\",\"picS\":\"\\/items\\/DCADHZA9008WQYY\\/000002_1544163763.jpg\",\"picB\":\"\\/items\\/DCADHZA9008WQYY\\/000001_1548208201.jpg\",\"name\":\"New MacBook Pro hub Type-C\\u8f49USB\\u8f49\\u63a5\\u5668mac\\u8f49\\u63db\\u982d \\u591a\\u529f\\u80fd\\u5145\\u96fb\\u96c6\\u7dda\\u5668-T8\",\"describe\":\"WIWU type-c\\u8f49USB \\u8f49\\u63db\\u5668USB 3.1 Type-C HDMI 7 port \\u591a\\u529f\\u80fd\\u96c6\\u7dda\\u5668\\u3010\\u9280\\u8272\\u3011\\u25bc\\u65b0\\u6b3e\\u5c08\\u7528 \\u96d9\\u4ecb\\u9762\\u25bc\\\\r\\\\n\\u2606\\u4e03\\u5408\\u4e00\\u591a\\u529f\\u80fd\\u8f49\\u63a5\\u5668\\u2606\\r\\n\\r\\n\\u25bcnew macbook\\u7684\\u6700\\u4f73\\u642d\\u6a94\\u25bc\\r\\n\\u25c6 \\u4e00\\u7269\\u591a\\u7528\\uff0c\\u9023\\u63a5\\u591a\\u7a2e\\u8a2d\\u5099\\r\\n\\u25c6 typec\\u63a5\\u53e3\\u8a2d\\u8a08\\uff0c\\u53ef\\u96d9\\u5411\\u5145\\u96fb\\u3001\\u50b3\\u8f38\\r\\n\\u25c6 \\u652f\\u63f4\\u5feb\\u5145\\u6280\\u8853\\uff0c\\u8fa6\\u516c\\u5fc5\\u5099\\u7684mac\\u642d\\u6a94\\r\\n\\u25c6 type-c\\u5145\\u96fb\\uff0c\\u908a\\u5145\\u908a\\u73a9\\u4e0d\\u6389\\u96fb\\r\\n\\u25c6 \\u652f\\u63f4 4k hdmi\\u8f49\\u63a5\\u3001sd\\u8b80\\u5361\\u6a5f\\r\\n\\u25c6 \\u56db\\u91cd\\u4fdd\\u8b77\\uff0c\\u8b93\\u60a8\\u4f7f\\u7528\\u8d77\\u4f86\\u66f4\\u653e\\u5fc3\\r\\n\\u25c6 \\u52a0\\u78bc\\u8d08\\u9001\\u7279\\u88fd\\u6536\\u7d0d\\u5305\\uff0c\\u65b9\\u4fbf\\u651c\\u5e36\\u4e0d\\u6613\\u522e\\u50b7\\u7b46\\u96fb\\r\\n\\u25c6 macbook pro\\u65b0\\u6b3e\\u5c08\\u7528\\r\\n\\r\\n\\u25bc\\u6ce8\\u610f\\u4e8b\\u9805\\u25bc\\uff1a\\r\\n\\u2605 \\u8cfc\\u8cb7\\u6642\\u8acb\\u6ce8\\u610f\\uff0c\\u6b64\\u6b3e\\u7522\\u54c1\\u70bamacbook\\u5c08\\u7528\\u7684\\uff0c\\u5176\\u4ed6\\u54c1\\u724c\\u7684\\u7b46\\u96fb\\u6709\\u4e00\\u4e9b\\u662f\\u4e0d\\u80fd\\u652f\\u63f4\\u4f7f\\u7528\\u7684\\r\\n\\u2605 \\u63d0\\u9192\\u82e5macbook pro\\u50c5\\u55ae\\u908a\\u4e00\\u500busb-c\\u57e0\\uff0c\\u4e0d\\u5efa\\u8b70\\u8cfc\\u8cb7\\u6b64\\u914d\\u4ef6 \\r\\n\\r\\n\\u2605\\u5176\\u4ed6\\u984f\\u8272\\u53ef\\u9078\\u64c7\\u2605 \\r\\n\\u25ba\\u25ba\\u9226\\u91d1\\u7070\",\"price\":1790,\"originPrice\":1790,\"author\":\"\",\"brand\":\"\",\"publishDate\":\"\",\"sellerId\":\"\",\"isPChome\":1,\"isNC17\":0,\"couponActid\":[],\"BU\":\"ec\"},{\"Id\":\"DYAJBD-19009C3MU\",\"cateId\":\"DYAJBD\",\"picS\":\"\\/items\\/DYAJBD19009C3MU\\/000002_1544580264.jpg\",\"picB\":\"\\/items\\/DYAJBD19009C3MU\\/000001_1545188587.jpg\",\"name\":\"MacBook Pro 13-inch : 2.3GHz dual-core i5, 256GB - Space Grey (MPXT2TA\\/A)\",\"describe\":\"MacBook Pro 13 \\u7070\\u8272\\u7b2c\\u4e03\\u4ee3 i5 \\/ 8GB \\/ 256GB \\/ 2.3GHz\\\\r\\\\n\\u300a\\u7acb\\u5373\\u77013\\u5343\\u2605\\u518d\\u8d08\\u597d\\u79ae\\u300b \\r\\n\\u7db2\\u8def\\u50f9$47900\\uff0e\\r\\n\\u9650\\u6642\\u50f9\\u2198$\\uff14\\uff14\\uff19\\uff10\\uff10\\r\\n\\r\\n\\u2605\\u6b64\\u6a5f\\u578b\\u7121\\u89f8\\u63a7\\u5217\\u548ctouch id \\r\\n\\r\\n\\u5546\\u54c1\\u7279\\u8272\\r\\n\\u25cf 2.3 ghz \\u8655\\u7406\\u5668 \\r\\n\\u25cf 256 gb \\u5132\\u5b58\\u7a7a\\u9593\\r\\n\\u25cf 2.3 ghz \\u96d9\\u6838\\u5fc3\\u7b2c\\u4e03\\u4ee3 intel core i5 \\u8655\\u7406\\u5668\\r\\n\\u25cf turbo boost \\u53ef\\u9054 3.6 ghz\\r\\n\\u25cf 8 gb 2133 mhz lpddr 3 \\u8a18\\u61b6\\u9ad4\\r\\n\\u25cf 256 gb ssd \\u5132\\u5b58\\u88dd\\u7f6e\\r\\n\\u25cf intel iris plus graphics 640\\r\\n\\u25cf \\u5169\\u500b thunderbolt 3 \\u57e0\\r\\n\\r\\n\\u6ce8\\u610f\\u4e8b\\u9805\",\"price\":44900,\"originPrice\":44900,\"author\":\"\",\"brand\":\"\",\"publishDate\":\"\",\"sellerId\":\"\",\"isPChome\":1,\"isNC17\":0,\"couponActid\":[],\"BU\":\"ec\"},{\"Id\":\"DYAJBD-19009C7V3\",\"cateId\":\"DYAJBD\",\"picS\":\"\\/items\\/DYAJBD19009C7V3\\/000002_1546396003.jpg\",\"picB\":\"\\/items\\/DYAJBD19009C7V3\\/000001_1548384189.jpg\",\"name\":\"MacBook Pro 13-inch : 2.3GHz dual-core i5, 128GB - Space Grey (MPXQ2TA\\/A)\",\"describe\":\"MacBook Pro 13 \\u7070\\u8272 \\u7b2c\\u4e03\\u4ee3 i5 \\/ 8GB \\/ 128GB \\/ 2.3GHz\\\\r\\\\n\\u300a\\u7acb\\u5373\\u77013\\u5343\\u2605\\u518d\\u8d08\\u597d\\u79ae\\u300b \\r\\n\\u7db2\\u8def\\u50f9$41900\\uff0e\\r\\n\\u9650\\u6642\\u50f9\\u2198$\\uff13\\uff18\\uff19\\uff10\\uff10\\r\\n\\r\\n\\u2605\\u6b64\\u6a5f\\u578b\\u7121\\u89f8\\u63a7\\u5217\\u548ctouch id \\r\\n\\r\\n\\u5546\\u54c1\\u7279\\u8272\\r\\n\\u25cf 2.3 ghz \\u8655\\u7406\\u5668 \\r\\n\\u25cf 128 gb \\u5132\\u5b58\\u7a7a\\u9593\\r\\n\\u25cf 2.3 ghz \\u96d9\\u6838\\u5fc3\\u7b2c\\u4e03\\u4ee3 intel core i5 \\u8655\\u7406\\u5668\\r\\n\\u25cf turbo boost \\u53ef\\u9054 3.6 ghz\\r\\n\\u25cf 8 gb 2133 mhz lpddr 3 \\u8a18\\u61b6\\u9ad4\\r\\n\\u25cf 128 gb ssd \\u5132\\u5b58\\u88dd\\u7f6e\\r\\n\\u25cf intel iris plus graphics 640\\r\\n\\u25cf \\u5169\\u500b thunderbolt 3 \\u57e0\\r\\n\\r\\n\\u6ce8\\u610f\\u4e8b\\u9805\",\"price\":38900,\"originPrice\":38900,\"author\":\"\",\"brand\":\"\",\"publishDate\":\"\",\"sellerId\":\"\",\"isPChome\":1,\"isNC17\":0,\"couponActid\":[],\"BU\":\"ec\"},{\"Id\":\"DYAJBL-19009QDOJ\",\"cateId\":\"DYAJBL\",\"picS\":\"\\/items\\/DYAJBL19009QDOJ\\/000002_1547445073.jpg\",\"picB\":\"\\/items\\/DYAJBL19009QDOJ\\/000001_1547445073.jpg\",\"name\":\"MacBook Air 13: 1.6GHz dual-core Intel Core i5, 256GB - Space Grey\",\"describe\":\"MacBook Air 13 \\u7070\\u8272\\u7b2c\\u516b\\u4ee3 i5 \\/ 8GB \\/ 256GB \\/ 1.6GHz\\\\r\\\\n\\u300a\\u964d3\\u5343\\u512a\\u60e0\\u26052018\\u65b0\\u6b3e\\u300b \\r\\n\\u7db2\\u8def\\u50f9$45900\\uff0e\\r\\n\\u9650\\u6642\\u50f9\\u2198$\\uff14\\uff12\\uff19\\uff10\\uff10\\r\\n\\r\\n\\u25cf touch id\\r\\n\\u25cf \\u96d9\\u6838\\u5fc3\\u7b2c\\u516b\\u4ee3 intel core i5 \\u8655\\u7406\\u5668\\r\\n\\u25cf intel uhd graphics 617\\r\\n\\u25cf \\u5feb\\u901f\\u7684 ssd \\u5132\\u5b58\\u88dd\\u7f6e\\r\\n\\u25cf 8gb \\u8a18\\u61b6\\u9ad4\\r\\n\\u25cf \\u7acb\\u9ad4\\u8072\\u63da\\u8072\\u5668\\u5177\\u5099\\u66f4\\u5bec\\u5ee3\\u7684\\u7acb\\u9ad4\\u8072\\r\\n\\u25cf \\u5169\\u500b thunderbolt 3 (usb-c) \\u57e0\\r\\n\\u25cf \\u9577\\u9054 12 \\u5c0f\\u6642\\u96fb\\u6c60\\u7e8c\\u822a\\u529b\\r\\n\\u25cf 802.11ac wi-fi\\r\\n\\r\\n\\u6ce8\\u610f\\u4e8b\\u9805\",\"price\":42900,\"originPrice\":42900,\"author\":\"\",\"brand\":\"\",\"publishDate\":\"\",\"sellerId\":\"\",\"isPChome\":1,\"isNC17\":0,\"couponActid\":[],\"BU\":\"ec\"},{\"Id\":\"DYAJBL-19009QDOL\",\"cateId\":\"DYAJBL\",\"picS\":\"\\/items\\/DYAJBL19009QDOL\\/000002_1547445108.jpg\",\"picB\":\"\\/items\\/DYAJBL19009QDOL\\/000001_1547445108.jpg\",\"name\":\"MacBook Air 13: 1.6GHz dual-core Intel Core i5, 128GB - Gold\",\"describe\":\"MacBook Air 13 \\u91d1\\u8272\\u7b2c\\u516b\\u4ee3 i5 \\/ 8GB \\/ 128GB \\/ 1.6GHz\\\\r\\\\n\\u300a\\u964d3\\u5343\\u512a\\u60e0\\u26052018\\u65b0\\u6b3e\\u300b \\r\\n\\u7db2\\u8def\\u50f9$39900\\uff0e\\r\\n\\u9650\\u6642\\u50f9\\u2198$\\uff13\\uff16\\uff19\\uff10\\uff10\\r\\n\\r\\n\\u25cf touch id\\r\\n\\u25cf \\u96d9\\u6838\\u5fc3\\u7b2c\\u516b\\u4ee3 intel core i5 \\u8655\\u7406\\u5668\\r\\n\\u25cf intel uhd graphics 617\\r\\n\\u25cf \\u5feb\\u901f\\u7684 ssd \\u5132\\u5b58\\u88dd\\u7f6e\\r\\n\\u25cf 8gb \\u8a18\\u61b6\\u9ad4\\r\\n\\u25cf \\u7acb\\u9ad4\\u8072\\u63da\\u8072\\u5668\\u5177\\u5099\\u66f4\\u5bec\\u5ee3\\u7684\\u7acb\\u9ad4\\u8072\\r\\n\\u25cf \\u5169\\u500b thunderbolt 3 (usb-c) \\u57e0\\r\\n\\u25cf \\u9577\\u9054 12 \\u5c0f\\u6642\\u96fb\\u6c60\\u7e8c\\u822a\\u529b\\r\\n\\u25cf 802.11ac wi-fi\\r\\n\\r\\n\\u6ce8\\u610f\\u4e8b\\u9805\",\"price\":36900,\"originPrice\":36900,\"author\":\"\",\"brand\":\"\",\"publishDate\":\"\",\"sellerId\":\"\",\"isPChome\":1,\"isNC17\":0,\"couponActid\":[],\"BU\":\"ec\"},{\"Id\":\"DCADHZ-A9008CTGG\",\"cateId\":\"DCADLA\",\"picS\":\"\\/items\\/DCADHZA9008CTGG\\/000002_1541407853.jpg\",\"picB\":\"\\/items\\/DCADHZA9008CTGG\\/000001_1503307976.jpg\",\"name\":\"innowatt DOCK Pro+ Thunderbolt Type-C Hub for MacBook Pro \\u591a\\u529f\\u80fd\\u5145\\u96fb\\u50b3\\u8f38\\u96c6\\u7dda\\u5668\",\"describe\":\"innowatt THE DOCK Pro+ \\u4e03\\u5408\\u4e00\\u591a\\u529f\\u80fd\\u5145\\u96fb\\u50b3\\u8f38\\u96c6\\u7dda\\u5668 for MacBook Pro with Thunderbolt 3 & HDMI (\\u578b\\u865fiW71)\\\\r\\\\n1.\\u9069\\u7528macbook pro 2016~2019\\u5168\\u7cfb\\u5217\\r\\n2.\\u591a\\u529f\\u80fd\\u96c6\\u7dda\\u5668\\u9ad8\\u968ethunderbolt 3\\u7248\\u672c (iw71)\\r\\n3.\\u7121\\u7dda\\u6536\\u7d0d\\u8d85easy\\uff0c\\u8f15\\u8584\\u77ed\\u5c0f\\u653epocket \\r\\n4.\\u96d9type-c\\u516c\\u982d\\u4e14\\u6b63\\u53cd\\u7686\\u53ef\\u7528\\u7684hub \\r\\n5.usb-c1\\u5177thunderbolt 3 (40gb\\uff09\\u50b3\\u8f38\\u898f\\u683c \\r\\n6.usb-c1\\u6bcd\\u5ea7\\u53ef\\u652f\\u63f4pd\\u5145\\u96fb 5k video\\u8f38\\u51fa \\u96d9\\u5c4f4k\\u8f38\\u51fa \\r\\n7.usb-c2\\u6bcd\\u5ea7\\u53ef\\u652f\\u63f4\\u8cc7\\u6599\\u9ad8\\u901f\\u50b3\\u8f385gb s\\r\\n8.\\u5177\\u5099hdmi 1080p@60hz & 4k@30hz\\r\\n\\r\\n\\u2605\\u82e5\\u672c\\u5340\\u5eab\\u5b58\\u92b7\\u552e\\u4e00\\u7a7a\\uff0c\\u8acb\\u81f3\\u4e0b\\u5217\\u539f\\u5ee0\\u8207pchome\\u5408\\u4f5c\\u7684\\u53e6\\u4e00\\u9023\\u7d50\\u63a1\\u8cfc\\uff0c\\u53ef\\u7372\\u8d08\\u5c08\\u5c6cmacbook pro\\u4fdd\\u8b77\\u6bbc\\r\\n\\u2192\\u300adock pro+ \\u8d08\\u5c08\\u5c6c\\u5ba2\\u88fdmacbook pro\\u4fdd\\u8b77\\u6bbc\\u300b\\r\\n\\r\\n\\u2605\\u672c\\u5c08\\u5340\\u8d08\\u9001\\u597d\\u79ae \\u542b\\u76ae\\u5957 iphone\\u50b3\\u8f38\\u7dda\\u7b49\\r\\n\\r\\n\\u25bcinnowatt\\u71b1\\u92b7\\u63a8\\u85a6 \\r\\n\\u300adock net thunderbolt  usb 3.1\\u591a\\u529f\\u80fd\\u5145\\u96fb\\u50b3\\u8f38\\u96c6\\u7dda\\u5668\\u300b\\r\\n\\u300athe dock s type-c hdmi usb \\u591a\\u529f\\u80fd\\u5145\\u96fb\\u50b3\\u8f38\\u96c6\\u7dda\\u5668\\u300b\\r\\n\\u300adock pro thunderbolt  usb 3.1\\u591a\\u529f\\u80fd\\u5145\\u96fb\\u50b3\\u8f38\\u96c6\\u7dda\\u5668\\u300b\\r\\n\\u300adock dock mini  usb 3.1\\u591a\\u529f\\u80fd\\u5145\\u96fb\\u50b3\\u8f38\\u96c6\\u7dda\\u5668\\u7070\\u8272\\u300b\\r\\n\\u300adock dock mini  usb 3.1\\u591a\\u529f\\u80fd\\u5145\\u96fb\\u50b3\\u8f38\\u96c6\\u7dda\\u5668\\u9280\\u8272\\u300b\\r\\n\\u300aapple macbook pro\\u5c08\\u7528\\u8d85\\u8584\\u9ad8\\u900f\\u9375\\u76e4\\u4fdd\\u8b77\\u819c\\u300b\\r\\n\\u300a\\u87a2\\u5e55\\u9632\\u7aba\\u7247macbook retina12\\u540b\\u300b\\r\\n\\u300a\\u87a2\\u5e55\\u9632\\u7aba\\u7247macbook retina13\\u540b\\u300b\\r\\n\\u300amfi\\u860b\\u679c\\u8a8d\\u8b49 270cm\\u5145\\u96fb\\u50b3\\u8f38\\u7dda\\u300b\\r\\n\\u300atough\\u7dda (1\\u7c73 \\u73ab\\u7470\\u91d1\\uff09\\u300b\\r\\n\\u300atough\\u7dda (1\\u7c73 \\u91d1\\uff09\\u300b\\r\\n\\u300ainnowatt the yoga \\u512a\\u67b6(l) \\u7b46\\u96fb\\u652f\\u67b6\\u300b\",\"price\":2290,\"originPrice\":2290,\"author\":\"\",\"brand\":\"\",\"publishDate\":\"\",\"sellerId\":\"\",\"isPChome\":1,\"isNC17\":0,\"couponActid\":[],\"BU\":\"ec\"},{\"Id\":\"DYAJCS-19009FXVG\",\"cateId\":\"DYAJCS\",\"picS\":\"\\/items\\/DYAJCS19009FXVG\\/000002_1548036822.jpg\",\"picB\":\"\\/items\\/DYAJCS19009FXVG\\/000001_1548036822.jpg\",\"name\":\"MacBook Pro13 Touch Bar: 2.3GHz quad-core 8th- Intel Core i5 , 256GB - Space Grey\",\"describe\":\"MacBook Pro13 \\u7070\\u8272\\u7b2c\\u516b\\u4ee3 i5 \\/ 8GB \\/ 256GB \\/ 2.3GHz\\\\r\\\\n\\u300a\\u964d3\\u5343\\u512a\\u60e0\\u2605\\u518d\\u8d08\\u597d\\u79ae\\u300b \\r\\n\\u7db2\\u8def\\u50f9$57900\\uff0e\\r\\n\\u9650\\u6642\\u50f9\\u2198$\\uff15\\uff14\\uff19\\uff10\\uff10\\r\\n\\r\\n\\u5546\\u54c1\\u7279\\u8272\\r\\n\\u2022 4 \\u6838\\u5fc3 intel core i5 \\u8655\\u7406\\u5668\\r\\n\\u2022 \\u5177\\u5099\\u539f\\u5f69\\u986f\\u793a\\u6280\\u8853\\u7684\\u4eae\\u9e97 retina \\u986f\\u793a\\u5668\\r\\n\\u2022 \\u89f8\\u63a7\\u5217\\u548c touch id\\r\\n\\u2022 intel iris plus graphics 655\\r\\n\\u2022 \\u8d85\\u5feb\\u901f ssd\\r\\n\\u2022 \\u56db\\u500b thunderbolt 3 (usb-c) \\u57e0\\r\\n\\u2022 \\u9577\\u9054 10 \\u5c0f\\u6642\\u96fb\\u6c60\\u7e8c\\u822a\\u529b2\\r\\n\\u2022 802.11ac wi-fi\\r\\n\\u2022 \\u529b\\u5ea6\\u89f8\\u63a7\\u677f\\r\\n\\r\\n\\u6ce8\\u610f\\u4e8b\\u9805\",\"price\":54900,\"originPrice\":54900,\"author\":\"\",\"brand\":\"\",\"publishDate\":\"\",\"sellerId\":\"\",\"isPChome\":1,\"isNC17\":0,\"couponActid\":[],\"BU\":\"ec\"},{\"Id\":\"DYAJCS-19009FXWV\",\"cateId\":\"DYAJCS\",\"picS\":\"\\/items\\/DYAJCS19009FXWV\\/000002_1548036804.jpg\",\"picB\":\"\\/items\\/DYAJCS19009FXWV\\/000001_1548036804.jpg\",\"name\":\"MacBook Pro13 Touch Bar: 2.3GHz quad-core 8th- Intel Core i5, 256GB - Silve\",\"describe\":\"MacBook Pro13 \\u9280\\u8272\\u7b2c\\u516b\\u4ee3 i5 \\/ 8GB \\/ 256GB \\/ 2.3GHz\\\\r\\\\n\\u300a\\u964d3\\u5343\\u512a\\u60e0\\u2605\\u518d\\u8d08\\u597d\\u79ae\\u300b \\r\\n\\u7db2\\u8def\\u50f9$57900\\uff0e\\r\\n\\u9650\\u6642\\u50f9\\u2198$\\uff15\\uff14\\uff19\\uff10\\uff10\\r\\n\\r\\n\\u5546\\u54c1\\u7279\\u8272\\r\\n\\u2022 4 \\u6838\\u5fc3 intel core i5 \\u8655\\u7406\\u5668\\r\\n\\u2022 \\u5177\\u5099\\u539f\\u5f69\\u986f\\u793a\\u6280\\u8853\\u7684\\u4eae\\u9e97 retina \\u986f\\u793a\\u5668\\r\\n\\u2022 \\u89f8\\u63a7\\u5217\\u548c touch id\\r\\n\\u2022 intel iris plus graphics 655\\r\\n\\u2022 \\u8d85\\u5feb\\u901f ssd\\r\\n\\u2022 \\u56db\\u500b thunderbolt 3 (usb-c) \\u57e0\\r\\n\\u2022 \\u9577\\u9054 10 \\u5c0f\\u6642\\u96fb\\u6c60\\u7e8c\\u822a\\u529b2\\r\\n\\u2022 802.11ac wi-fi\\r\\n\\u2022 \\u529b\\u5ea6\\u89f8\\u63a7\\u677f\\r\\n\\r\\n\\u6ce8\\u610f\\u4e8b\\u9805\",\"price\":54900,\"originPrice\":54900,\"author\":\"\",\"brand\":\"\",\"publishDate\":\"\",\"sellerId\":\"\",\"isPChome\":1,\"isNC17\":0,\"couponActid\":[],\"BU\":\"ec\"},{\"Id\":\"DYAJBL-19009QDNG\",\"cateId\":\"DYAJBL\",\"picS\":\"\\/items\\/DYAJBL19009QDNG\\/000002_1547445040.jpg\",\"picB\":\"\\/items\\/DYAJBL19009QDNG\\/000001_1547445040.jpg\",\"name\":\"MacBook Air 13: 1.6GHz dual-core Intel Core i5, 256GB - Gold\",\"describe\":\"MacBook Air 13 \\u91d1\\u8272\\u7b2c\\u516b\\u4ee3 i5 \\/ 8GB \\/ 256GB \\/ 1.6GHz\\\\r\\\\n\\u300a\\u964d3\\u5343\\u512a\\u60e0\\u26052018\\u65b0\\u6b3e\\u300b \\r\\n\\u7db2\\u8def\\u50f9$45900\\uff0e\\r\\n\\u9650\\u6642\\u50f9\\u2198$\\uff14\\uff12\\uff19\\uff10\\uff10\\r\\n\\r\\n\\u25cf touch id\\r\\n\\u25cf \\u96d9\\u6838\\u5fc3\\u7b2c\\u516b\\u4ee3 intel core i5 \\u8655\\u7406\\u5668\\r\\n\\u25cf intel uhd graphics 617\\r\\n\\u25cf \\u5feb\\u901f\\u7684 ssd \\u5132\\u5b58\\u88dd\\u7f6e\\r\\n\\u25cf 8gb \\u8a18\\u61b6\\u9ad4\\r\\n\\u25cf \\u7acb\\u9ad4\\u8072\\u63da\\u8072\\u5668\\u5177\\u5099\\u66f4\\u5bec\\u5ee3\\u7684\\u7acb\\u9ad4\\u8072\\r\\n\\u25cf \\u5169\\u500b thunderbolt 3 (usb-c) \\u57e0\\r\\n\\u25cf \\u9577\\u9054 12 \\u5c0f\\u6642\\u96fb\\u6c60\\u7e8c\\u822a\\u529b\\r\\n\\u25cf 802.11ac wi-fi\\r\\n\\r\\n\\u6ce8\\u610f\\u4e8b\\u9805\",\"price\":42900,\"originPrice\":42900,\"author\":\"\",\"brand\":\"\",\"publishDate\":\"\",\"sellerId\":\"\",\"isPChome\":1,\"isNC17\":0,\"couponActid\":[],\"BU\":\"ec\"},{\"Id\":\"DYAJBD-19009C3LV\",\"cateId\":\"DYAJBD\",\"picS\":\"\\/items\\/DYAJBD19009C3LV\\/000002_1545903221.jpg\",\"picB\":\"\\/items\\/DYAJBD19009C3LV\\/000001_1545903221.jpg\",\"name\":\"MacBook Pro 13-inch: 2.3GHz dual-core i5, 128GB - Silver (MPXR2TA\\/A)\",\"describe\":\"MacBook Pro 13 \\u9280\\u8272\\u7b2c\\u4e03\\u4ee3 i5 \\/ 8GB \\/ 128GB \\/ 2.3GHz\\\\r\\\\n\\u300a\\u7acb\\u5373\\u77013\\u5343\\u2605\\u518d\\u8d08\\u597d\\u79ae\\u300b \\r\\n\\u7db2\\u8def\\u50f9$41900\\uff0e\\r\\n\\u9650\\u6642\\u50f9\\u2198$\\uff13\\uff18\\uff19\\uff10\\uff10\\r\\n\\r\\n\\u2605\\u6b64\\u6a5f\\u578b\\u7121\\u89f8\\u63a7\\u5217\\u548ctouch id \\r\\n\\r\\n\\u5546\\u54c1\\u7279\\u8272\\r\\n\\u25cf 2.3 ghz \\u8655\\u7406\\u5668 \\r\\n\\u25cf 128 gb \\u5132\\u5b58\\u7a7a\\u9593\\r\\n\\u25cf 2.3 ghz \\u96d9\\u6838\\u5fc3\\u7b2c\\u4e03\\u4ee3 intel core i5 \\u8655\\u7406\\u5668\\r\\n\\u25cf turbo boost \\u53ef\\u9054 3.6 ghz\\r\\n\\u25cf 8 gb 2133 mhz lpddr 3 \\u8a18\\u61b6\\u9ad4\\r\\n\\u25cf 128 gb ssd \\u5132\\u5b58\\u88dd\\u7f6e\\r\\n\\u25cf intel iris plus graphics 640\\r\\n\\u25cf \\u5169\\u500b thunderbolt 3 \\u57e0\\r\\n\\r\\n\\u6ce8\\u610f\\u4e8b\\u9805\",\"price\":38900,\"originPrice\":38900,\"author\":\"\",\"brand\":\"\",\"publishDate\":\"\",\"sellerId\":\"\",\"isPChome\":1,\"isNC17\":0,\"couponActid\":[],\"BU\":\"ec\"},{\"Id\":\"DYAJBL-A9009J0CH\",\"cateId\":\"DYAJBL\",\"picS\":\"\\/items\\/DYAJBLA9009J0CH\\/000002_1544173097.jpg\",\"picB\":\"\\/items\\/DYAJBLA9009J0CH\\/000001_1544173097.jpg\",\"name\":\"MacBook Air 13: 1.6GHz dual-core Intel Core i5, 128GB - Space Grey\\u00a0\\u00a0\\u00a0\",\"describe\":\"MacBook Air 13 \\u7070\\u8272\\u7b2c\\u516b\\u4ee3 i5 \\/ 8GB \\/ 128GB \\/ 1.6GHz\\\\r\\\\n\\u2605\\u518d\\u8d08hdmi\\u8f49\\u63a5\\u7dda+\\u9632\\u76dc\\u5f8c\\u80cc\\u5305\\u2605\\u65b0\\u54c1\\u9650\\u91cf\\u5230\\u8ca8\\r\\n\\r\\n\\u25cf touch id\\r\\n\\u25cf \\u96d9\\u6838\\u5fc3\\u7b2c\\u516b\\u4ee3 intel core i5 \\u8655\\u7406\\u5668\\r\\n\\u25cf intel uhd graphics 617\\r\\n\\u25cf \\u5feb\\u901f\\u7684 ssd \\u5132\\u5b58\\u88dd\\u7f6e\\r\\n\\u25cf 8gb \\u8a18\\u61b6\\u9ad4\\r\\n\\u25cf \\u7acb\\u9ad4\\u8072\\u63da\\u8072\\u5668\\u5177\\u5099\\u66f4\\u5bec\\u5ee3\\u7684\\u7acb\\u9ad4\\u8072\\r\\n\\u25cf \\u5169\\u500b thunderbolt 3 (usb-c) \\u57e0\\r\\n\\u25cf \\u9577\\u9054 12 \\u5c0f\\u6642\\u96fb\\u6c60\\u7e8c\\u822a\\u529b\\r\\n\\u25cf 802.11ac wi-fi\\r\\n\\r\\n\\u6ce8\\u610f\\u4e8b\\u9805\",\"price\":39900,\"originPrice\":39900,\"author\":\"\",\"brand\":\"\",\"publishDate\":\"\",\"sellerId\":\"\",\"isPChome\":1,\"isNC17\":0,\"couponActid\":[],\"BU\":\"ec\"},{\"Id\":\"DYAJBF-19009PCD9\",\"cateId\":\"DYAJBF\",\"picS\":\"\\/items\\/DYAJBF19009PCD9\\/000002_1548641192.png\",\"picB\":\"\\/items\\/DYAJBF19009PCD9\\/000001_1548641192.jpg\",\"name\":\"MacBook Pro 13-inch : 2.3GHz dual-core i5, 256GB - Silver (Z0UL000E2)\",\"describe\":\"MacBook Pro 13 \\u9280\\u8272RAM\\u5347\\u7d1a16GB \\/ 256GB \\/ i5 \\/ 2.3GHz\\\\r\\\\n\\u300a95\\u6298\\u512a\\u60e0\\u2605\\u518d\\u8d08\\u597d\\u79ae\\u300b \\r\\n\\u7db2\\u8def\\u50f9$54420\\uff0e\\r\\n\\u9650\\u6642\\u50f9\\u2198$\\uff15\\uff11\\uff16\\uff19\\uff19\\r\\n\\r\\n\\u2605\\u6b64\\u6a5f\\u578b\\u7121\\u89f8\\u63a7\\u5217\\u548ctouch id \\r\\n\\r\\n\\u2605\\u6b64\\u5546\\u54c1\\u70ba\\u898f\\u683c\\u7279\\u88fd\\u6a5f\\r\\n\\u25cf\\u539fram8gb\\u2197\\u5347\\u7d1a16gb \\r\\n\\r\\n\\u2605\\u4e3b\\u6a5f\\u7cbe\\u5178\\u4ecb\\u7d39\\r\\n\\u25cf 13 \\u540b\\u6a5f\\u578b\\u539a\\u5ea6 14.9 \\u516c\\u91d0\\uff0c\\u91cd\\u91cf\\u66f4\\u50c5\\u6709 1.37 \\u516c\\u65a4\\r\\n\\r\\n\\u25cf retina \\u986f\\u793a\\u5668\\u4eae\\u5ea6\\u9ad8\\u9054 500 \\u5c3c\\u7279\\uff0c\\u53ef\\u5728\\u660e\\u4eae\\u7684\\r\\n   \\u5149\\u7dda\\u74b0\\u5883\\u4e0b\\u5448\\u73fe\\u66f4\\u591a\\u7d30\\u7bc0\\r\\n\\r\\n\\u25cf \\u9019\\u6b3e\\u986f\\u793a\\u5668\\u5177\\u6709\\u9ad8\\u5c0d\\u6bd4\\u7387\\uff0c\\u8272\\u5f69\\u6578\\u66f4\\u8d85\\u51fa\\u6a19\\u6e96 rgb \\r\\n   \\u986f\\u793a\\u566825%\\uff0c\\u56e0\\u6b64\\u53ef\\u8b93\\u7167\\u7247\\u756b\\u8cea\\u66f4\\u52a0\\u903c\\u771f\\u5beb\\u5be6\\r\\n\\r\\n\\u25cf thunderbolt 3 \\u9023\\u63a5\\u57e0\\u5c07\\u5145\\u96fb\\u3001\\u8cc7\\u6599\\u50b3\\u8f38\\u8207\\u8996\\u8a0a\\u8f38\\u51fa\\r\\n   \\u4e09\\u5927\\u529f\\u80fd\\u96c6\\u65bc\\u4e00\\u8eab\\r\\n\\r\\n\\u25cf thunderbolt 3 \\u6280\\u8853\\u7684\\u50b3\\u8f38\\u901f\\u5ea6\\u9ad8\\u905440gbps\\uff0c\\u5728\\u50b3\\u8f38\\r\\n   \\u8cc7\\u6599\\u901f\\u5ea6\\u53ca\\u8996\\u8a0a\\u983b\\u5bec\\u65b9\\u9762\\u90fd\\u662f thunderbolt 2 \\u7684\\u5169\\u500d\\r\\n\\r\\n\\u6ce8\\u610f\\u4e8b\\u9805\",\"price\":51699,\"originPrice\":51699,\"author\":\"\",\"brand\":\"\",\"publishDate\":\"\",\"sellerId\":\"\",\"isPChome\":1,\"isNC17\":0,\"couponActid\":[],\"BU\":\"ec\"},{\"Id\":\"DYAJBL-19009FB34\",\"cateId\":\"DYAJBG\",\"picS\":\"\\/items\\/DYAJBL19009FB34\\/000002_1546394156.jpg\",\"picB\":\"\\/items\\/DYAJBL19009FB34\\/000001_1548381757.jpg\",\"name\":\"MacBook Air 13-inch: 1.8GHz dual-core Intel Core i5, 128GB (MQD32TA\\/A)\",\"describe\":\"2017 MacBook Air 13\\u7b2c\\u4e94\\u4ee3 i5 \\/ 8GB \\/ 128GB \\/ 1.8GHz dual\\\\r\\\\n\\u300a\\u964d2\\u5343\\u512a\\u60e0\\u2605\\u518d\\u8d08\\u597d\\u79ae\\u300b \\r\\n\\u7db2\\u8def\\u50f9$31900\\uff0e\\r\\n\\u9650\\u6642\\u50f9\\u2198$\\uff12\\uff19\\uff19\\uff10\\uff10\\r\\n\\r\\n\\u25cf intel core  i5 \\u8655\\u7406\\u5668\\r\\n\\u25cf intel hd graphics 6000\\r\\n\\u25cf ssd \\u5132\\u5b58\\u88dd\\u7f6e\\r\\n\\u25cf \\u9577\\u9054 12 \\u5c0f\\u6642\\u96fb\\u6c60\\u7e8c\\u822a\\u529b\\r\\n\\u25cf 802.11 ac wi-fi\\r\\n\\u25cf multi - touch \\u89f8\\u63a7\\u5f0f\\u8ecc\\u8de1\\u677f\\r\\n\\u25cf \\u6700\\u9577\\u53ef\\u9054 30 \\u5929\\u5f85\\u6a5f\\u6642\\u9593\\r\\n\\u25cf \\u7bc0\\u80fd\\u4f4e\\u8017\\u53c8\\u517c\\u5177\\u9ad8\\u6548\\u80fd\\u7684\\u8a2d\\u8a08\\r\\n\\r\\n\\u6ce8\\u610f\\u4e8b\\u9805\",\"price\":29900,\"originPrice\":29900,\"author\":\"\",\"brand\":\"\",\"publishDate\":\"\",\"sellerId\":\"\",\"isPChome\":1,\"isNC17\":0,\"couponActid\":[],\"BU\":\"ec\"},{\"Id\":\"DYAJBD-A90097XIB\",\"cateId\":\"DYAJBD\",\"picS\":\"\\/items\\/DYAJBDA90097XIB\\/000002_1544086661.jpg\",\"picB\":\"\\/items\\/DYAJBDA90097XIB\\/000001_1546999441.jpg\",\"name\":\"MacBook Pro13 Touch Bar: 2.3GHz quad-core 8th- Intel\\u00a0Core\\u00a0i5, 256GB - Silve\",\"describe\":\"MacBook Pro13 \\u9280\\u8272\\u7b2c\\u516b\\u4ee3 i5 \\/ 8GB \\/ 256GB \\/ 2.3GHz\\\\r\\\\n\\u26052018\\u65b0\\u6b3e\\u89f8\\u63a7\\r\\n\\u5546\\u54c1\\u7279\\u8272\\r\\n\\u2022 4 \\u6838\\u5fc3 intel core i5 \\u8655\\u7406\\u5668\\r\\n\\u2022 \\u5177\\u5099\\u539f\\u5f69\\u986f\\u793a\\u6280\\u8853\\u7684\\u4eae\\u9e97 retina \\u986f\\u793a\\u5668\\r\\n\\u2022 \\u89f8\\u63a7\\u5217\\u548c touch id\\r\\n\\u2022 intel iris plus graphics 655\\r\\n\\u2022 \\u8d85\\u5feb\\u901f ssd\\r\\n\\u2022 \\u56db\\u500b thunderbolt 3 (usb-c) \\u57e0\\r\\n\\u2022 \\u9577\\u9054 10 \\u5c0f\\u6642\\u96fb\\u6c60\\u7e8c\\u822a\\u529b2\\r\\n\\u2022 802.11ac wi-fi\\r\\n\\u2022 \\u529b\\u5ea6\\u89f8\\u63a7\\u677f\\r\\n\\r\\n\\u6ce8\\u610f\\u4e8b\\u9805\",\"price\":51530,\"originPrice\":51530,\"author\":\"\",\"brand\":\"\",\"publishDate\":\"\",\"sellerId\":\"\",\"isPChome\":1,\"isNC17\":0,\"couponActid\":[],\"BU\":\"ec\"},{\"Id\":\"DYAJCS-19009QLN7\",\"cateId\":\"DYAJCR\",\"picS\":\"\\/items\\/DYAJCS19009QLN7\\/000002_1547607133.jpg\",\"picB\":\"\\/items\\/DYAJCS19009QLN7\\/000001_1547607133.jpg\",\"name\":\"MacBook Pro15 Touch Bar: 2.2GHz 6-core 8th- Intel Core i7, 256GB - Silver\",\"describe\":\"MacBook Pro15 \\u9280\\u8272 \\u7b2c\\u516b\\u4ee3 i7 \\/ 16GB \\/ 256GB \\/ 2.2GHz\\\\r\\\\n\\u964d3\\u5343\\u512a\\u60e0\\u2605\\u518d\\u8d08\\u597d\\u79ae\\u81f31 31(\\u56db)10:00\\u6b62 \\r\\n\\u6578\\u91cf\\u6709\\u9650\\uff0c\\u552e\\u5b8c\\u70ba\\u6b62\\r\\n\\u7db2\\u8def\\u50f9$77900\\uff0e\\u9650\\u6642\\u50f9\\u2198$\\uff17\\uff14\\uff19\\uff10\\uff10\\r\\n\\r\\n\\u26052018\\u65b0\\u6b3e\\u89f8\\u63a7\\r\\n\\u5546\\u54c1\\u7279\\u8272\\r\\n\\u2022 6 \\u6838\\u5fc3 intel core i7 \\u8655\\u7406\\u5668\\r\\n\\u2022 \\u5177\\u5099\\u539f\\u5f69\\u986f\\u793a\\u6280\\u8853\\u7684\\u4eae\\u9e97 retina \\u986f\\u793a\\u5668\\r\\n\\u2022 \\u89f8\\u63a7\\u5217\\u548c touch id\\r\\n\\u2022 radeon pro 555x \\u7e6a\\u5716\\u8655\\u7406\\u5668\\u914d\\u5099 4gb \\u8996\\u8a0a\\u8a18\\u61b6\\u9ad4\\r\\n\\u2022 intel uhd graphics 630\\r\\n\\u2022 \\u8d85\\u5feb\\u901f ssd\\r\\n\\u2022 \\u56db\\u500b thunderbolt 3 (usb-c) \\u57e0\\r\\n\\u2022 \\u9577\\u9054 10 \\u5c0f\\u6642\\u96fb\\u6c60\\u7e8c\\u822a\\u529b\\r\\n\\u2022 802.11ac wi-fi\\r\\n\\u2022 \\u529b\\u5ea6\\u89f8\\u63a7\\u677f\\r\\n\\r\\n\\u6ce8\\u610f\\u4e8b\\u9805\",\"price\":74900,\"originPrice\":74900,\"author\":\"\",\"brand\":\"\",\"publishDate\":\"\",\"sellerId\":\"\",\"isPChome\":1,\"isNC17\":0,\"couponActid\":[],\"BU\":\"ec\"},{\"Id\":\"DCADLA-A9009LMQZ\",\"cateId\":\"DCADLA\",\"picS\":\"\\/items\\/DCADLAA9009LMQZ\\/000002_1542967034.jpg\",\"picB\":\"\\/items\\/DCADLAA9009LMQZ\\/000001_1542967034.jpg\",\"name\":\"innowatt DOCK NET RJ45 & HDMI Type-C Hub for Macbook Pro \\u591a\\u529f\\u80fd\\u5145\\u96fb\\u50b3\\u8f38\\u96c6\\u7dda\\u5668 iW71N\",\"describe\":\"innowatt DOCK NET Thunderbolt 3 & RJ45 & HDMI Type-C Hub for Macbook Pro \\u591a\\u529f\\u80fd\\u5145\\u96fb\\u50b3\\u8f38\\u96c6\\u7dda\\u5668 iW71N\\\\r\\\\n1.\\u9069\\u7528macbook pro 2016~2019\\u5168\\u7cfb\\u5217 \\r\\n2.\\u591a\\u529f\\u80fd\\u96c6\\u7dda\\u5668\\u9ad8\\u968ethunderbolt 3\\u7248\\u672c (iw71n) \\r\\n3.usb-c\\u5177thunderbolt 3 (40gb\\uff09\\u50b3\\u8f38\\u898f\\u683c \\r\\n4.\\u652f\\u63f4pd\\u5145\\u96fb 5k video\\u8f38\\u51fa \\u96d9\\u5c4f4k\\u8f38\\u51fa \\r\\n5.\\u5177\\u5099hdmi 1080p@60hz & 4k@30hz \\r\\n6.\\u5177\\u5099rj45\\u7db2\\u8def\\u5b54\\u8a2d\\u8a08 \\u96a8\\u63d2\\u5373\\u7528\\u4e0d\\u9700\\u8a2d\\u5b9a \\u53ef\\u90541 gb s \\r\\n7.\\u7121\\u7dda\\u6536\\u7d0d\\u8d85easy\\uff0c\\u8f15\\u8584\\u77ed\\u5c0f\\u653epocket\\r\\n\\r\\n\\u2605\\u82e5\\u672c\\u5340\\u5eab\\u5b58\\u92b7\\u552e\\u4e00\\u7a7a\\uff0c\\u8acb\\u81f3\\u4e0b\\u5217\\u539f\\u5ee0\\u8207pchome\\u5408\\u4f5c\\u7684\\u53e6\\u4e00\\u9023\\u7d50\\u63a1\\u8cfc\\uff0c\\u53ef\\u7372\\u8d08\\u5c08\\u5c6cmacbook pro\\u4fdd\\u8b77\\u6bbc\\r\\n\\u2192\\u300adock net \\u8d08\\u5c08\\u5c6c\\u5ba2\\u88fdmacbook pro\\u4fdd\\u8b77\\u6bbc\\u300b\\r\\n\\r\\n\\u2605\\u672c\\u5c08\\u5340\\u8d08\\u9001\\u591a\\u91cd\\u597d\\u79ae \\u542b\\u76ae\\u5957 iphone\\u50b3\\u8f38\\u7dda\\u7b49\\r\\n\\r\\n\\u25bcinnowatt\\u71b1\\u92b7\\u63a8\\u85a6 \\r\\n\\u300athe dock s type-c hdmi usb \\u591a\\u529f\\u80fd\\u5145\\u96fb\\u50b3\\u8f38\\u96c6\\u7dda\\u5668\\u300b\\r\\n\\u300adock pro+ thunderbolt  usb 3.1\\u591a\\u529f\\u80fd\\u5145\\u96fb\\u50b3\\u8f38\\u96c6\\u7dda\\u5668\\u300b\\r\\n\\u300adock pro thunderbolt  usb 3.1\\u591a\\u529f\\u80fd\\u5145\\u96fb\\u50b3\\u8f38\\u96c6\\u7dda\\u5668\\u300b\\r\\n\\u300adock dock mini  usb 3.1\\u591a\\u529f\\u80fd\\u5145\\u96fb\\u50b3\\u8f38\\u96c6\\u7dda\\u5668\\u7070\\u8272\\u300b\\r\\n\\u300adock dock mini  usb 3.1\\u591a\\u529f\\u80fd\\u5145\\u96fb\\u50b3\\u8f38\\u96c6\\u7dda\\u5668\\u9280\\u8272\\u300b\\r\\n\\u300aapple macbook pro\\u5c08\\u7528\\u8d85\\u8584\\u9ad8\\u900f\\u9375\\u76e4\\u4fdd\\u8b77\\u819c\\u300b\\r\\n\\u300a\\u87a2\\u5e55\\u9632\\u7aba\\u7247macbook retina12\\u540b\\u300b\\r\\n\\u300a\\u87a2\\u5e55\\u9632\\u7aba\\u7247macbook retina13\\u540b\\u300b\\r\\n\\u300amfi\\u860b\\u679c\\u8a8d\\u8b49 270cm\\u5145\\u96fb\\u50b3\\u8f38\\u7dda\\u300b\\r\\n\\u300atough\\u7dda (1\\u7c73 \\u73ab\\u7470\\u91d1\\uff09\\u300b\\r\\n\\u300atough\\u7dda (1\\u7c73 \\u91d1\\uff09\\u300b\\r\\n\\u300ainnowatt the yoga \\u512a\\u67b6(l) \\u7b46\\u96fb\\u652f\\u67b6\\u300b\",\"price\":2490,\"originPrice\":2490,\"author\":\"\",\"brand\":\"\",\"publishDate\":\"\",\"sellerId\":\"\",\"isPChome\":1,\"isNC17\":0,\"couponActid\":[],\"BU\":\"ec\"},{\"Id\":\"DYAJCS-19009FXWN\",\"cateId\":\"DYAJCR\",\"picS\":\"\\/items\\/DYAJCS19009FXWN\\/000002_1544004628.jpg\",\"picB\":\"\\/items\\/DYAJCS19009FXWN\\/000001_1538028054.jpg\",\"name\":\"MacBook Pro15 Touch Bar: 2.6GHz 6-core 8th- Intel Core i7, 512GB - Silver\",\"describe\":\"MacBook Pro15 \\u9280\\u8272 i7 \\/ 16GB \\/ 512GB \\/ 2.6GHz\\\\r\\\\n95\\u6298\\u512a\\u60e0\\u2605\\u518d\\u9001\\u8d85\\u503c\\u96d9\\u91cd\\u597d\\u79ae \\r\\n\\u6578\\u91cf\\u6709\\u9650\\uff0c\\u552e\\u5b8c\\u70ba\\u6b62\\r\\n\\u7db2\\u8def\\u50f9$89900\\uff0e\\u9650\\u6642\\u50f9\\u2198$\\uff18\\uff15\\uff14\\uff10\\uff15\\r\\n\\r\\n\\u26052018\\u65b0\\u6b3e\\u89f8\\u63a7\\r\\n\\u5546\\u54c1\\u7279\\u8272\\r\\n\\u2022 6 \\u6838\\u5fc3 intel core i7 \\u8655\\u7406\\u5668\\r\\n\\u2022 \\u5177\\u5099\\u539f\\u5f69\\u986f\\u793a\\u6280\\u8853\\u7684\\u4eae\\u9e97 retina \\u986f\\u793a\\u5668\\r\\n\\u2022 \\u89f8\\u63a7\\u5217\\u548c touch id\\r\\n\\u2022 radeon pro 560x \\u7e6a\\u5716\\u8655\\u7406\\u5668\\u914d\\u5099 4gb \\u8996\\u8a0a\\u8a18\\u61b6\\u9ad4\\r\\n\\u2022 intel uhd graphics 630\\r\\n\\u2022 \\u8d85\\u5feb\\u901f ssd\\r\\n\\u2022 \\u56db\\u500b thunderbolt 3 (usb-c) \\u57e0\\r\\n\\u2022 \\u9577\\u9054 10 \\u5c0f\\u6642\\u96fb\\u6c60\\u7e8c\\u822a\\u529b\\r\\n\\u2022 802.11ac wi-fi\\r\\n\\u2022 \\u529b\\u5ea6\\u89f8\\u63a7\\u677f\\r\\n\\r\\n\\u6ce8\\u610f\\u4e8b\\u9805\",\"price\":85405,\"originPrice\":85405,\"author\":\"\",\"brand\":\"\",\"publishDate\":\"\",\"sellerId\":\"\",\"isPChome\":1,\"isNC17\":0,\"couponActid\":[],\"BU\":\"ec\"}]}\n",
            "27799\n",
            "{'QTime': 64, 'totalRows': 13413, 'totalPage': 100, 'range': {'min': '', 'max': ''}, 'cateName': '', 'q': 'macbook)', 'subq': '', 'token': ['macbook'], 'prods': [{'Id': 'DYAJBL-A90097XCB', 'cateId': 'DYAJBG', 'picS': '/items/DYAJBLA90097XCB/000002_1544666864.jpg', 'picB': '/items/DYAJBLA90097XCB/000001_1548381756.jpg', 'name': 'MacBook Air 13-inch: 1.8GHz dual-core Intel Core i5, 128GB (MQD32TA/A)', 'describe': '2017 MacBook Air 13第五代 i5 / 8GB / 128GB / 1.8GHz dual\\\\r\\\\n限時優惠★立即省3千至1 31(四)10:00止 \\r\\n數量有限，售完為止\\r\\n網路價$31900．限時價↘$２８９００\\r\\n\\r\\n● intel core  i5 處理器\\r\\n● intel hd graphics 6000\\r\\n● ssd 儲存裝置\\r\\n● 長達 12 小時電池續航力\\r\\n● 802.11 ac wi-fi\\r\\n● multi - touch 觸控式軌跡板\\r\\n● 最長可達 30 天待機時間\\r\\n● 節能低耗又兼具高效能的設計\\r\\n\\r\\n注意事項', 'price': 28900, 'originPrice': 28900, 'author': '', 'brand': '', 'publishDate': '', 'sellerId': '', 'isPChome': 1, 'isNC17': 0, 'couponActid': [], 'BU': 'ec'}, {'Id': 'DYAJBL-19009QDO2', 'cateId': 'DYAJBL', 'picS': '/items/DYAJBL19009QDO2/000002_1548381532.jpg', 'picB': '/items/DYAJBL19009QDO2/000001_1548381532.jpg', 'name': 'MacBook Air 13: 1.6GHz dual-core Intel Core i5, 128GB - Space Grey', 'describe': 'MacBook Air 13 灰色第八代 i5 / 8GB / 128GB / 1.6GHz\\\\r\\\\n《降3千優惠★2018新款》 \\r\\n網路價$39900．\\r\\n限時價↘$３６９００\\r\\n\\r\\n● touch id\\r\\n● 雙核心第八代 intel core i5 處理器\\r\\n● intel uhd graphics 617\\r\\n● 快速的 ssd 儲存裝置\\r\\n● 8gb 記憶體\\r\\n● 立體聲揚聲器具備更寬廣的立體聲\\r\\n● 兩個 thunderbolt 3 (usb-c) 埠\\r\\n● 長達 12 小時電池續航力\\r\\n● 802.11ac wi-fi\\r\\n\\r\\n注意事項', 'price': 36900, 'originPrice': 36900, 'author': '', 'brand': '', 'publishDate': '', 'sellerId': '', 'isPChome': 1, 'isNC17': 0, 'couponActid': [], 'BU': 'ec'}, {'Id': 'DYAJBL-19009QCP8', 'cateId': 'DYAJBL', 'picS': '/items/DYAJBL19009QCP8/000002_1548641503.jpg', 'picB': '/items/DYAJBL19009QCP8/000001_1548641503.jpg', 'name': 'MacBook Air 13: 1.6GHz dual-core Intel Core i5, 128GB - Space Grey', 'describe': 'MacBook Air 13 灰色第八代 i5 / 8GB / 128GB / 1.6GHz\\\\r\\\\n《★再贈超值好禮組》\\r\\n\\r\\n● touch id\\r\\n● 雙核心第八代 intel core i5 處理器\\r\\n● intel uhd graphics 617\\r\\n● 快速的 ssd 儲存裝置\\r\\n● 8gb 記憶體\\r\\n● 立體聲揚聲器具備更寬廣的立體聲\\r\\n● 兩個 thunderbolt 3 (usb-c) 埠\\r\\n● 長達 12 小時電池續航力\\r\\n● 802.11ac wi-fi\\r\\n\\r\\n注意事項', 'price': 39900, 'originPrice': 39900, 'author': '', 'brand': '', 'publishDate': '', 'sellerId': '', 'isPChome': 1, 'isNC17': 0, 'couponActid': [], 'BU': 'ec'}, {'Id': 'DCADHZ-A9008WQYY', 'cateId': 'DCADMP', 'picS': '/items/DCADHZA9008WQYY/000002_1544163763.jpg', 'picB': '/items/DCADHZA9008WQYY/000001_1548208201.jpg', 'name': 'New MacBook Pro hub Type-C轉USB轉接器mac轉換頭 多功能充電集線器-T8', 'describe': 'WIWU type-c轉USB 轉換器USB 3.1 Type-C HDMI 7 port 多功能集線器【銀色】▼新款專用 雙介面▼\\\\r\\\\n☆七合一多功能轉接器☆\\r\\n\\r\\n▼new macbook的最佳搭檔▼\\r\\n◆ 一物多用，連接多種設備\\r\\n◆ typec接口設計，可雙向充電、傳輸\\r\\n◆ 支援快充技術，辦公必備的mac搭檔\\r\\n◆ type-c充電，邊充邊玩不掉電\\r\\n◆ 支援 4k hdmi轉接、sd讀卡機\\r\\n◆ 四重保護，讓您使用起來更放心\\r\\n◆ 加碼贈送特製收納包，方便攜帶不易刮傷筆電\\r\\n◆ macbook pro新款專用\\r\\n\\r\\n▼注意事項▼：\\r\\n★ 購買時請注意，此款產品為macbook專用的，其他品牌的筆電有一些是不能支援使用的\\r\\n★ 提醒若macbook pro僅單邊一個usb-c埠，不建議購買此配件 \\r\\n\\r\\n★其他顏色可選擇★ \\r\\n►►鈦金灰', 'price': 1790, 'originPrice': 1790, 'author': '', 'brand': '', 'publishDate': '', 'sellerId': '', 'isPChome': 1, 'isNC17': 0, 'couponActid': [], 'BU': 'ec'}, {'Id': 'DYAJBD-19009C3MU', 'cateId': 'DYAJBD', 'picS': '/items/DYAJBD19009C3MU/000002_1544580264.jpg', 'picB': '/items/DYAJBD19009C3MU/000001_1545188587.jpg', 'name': 'MacBook Pro 13-inch : 2.3GHz dual-core i5, 256GB - Space Grey (MPXT2TA/A)', 'describe': 'MacBook Pro 13 灰色第七代 i5 / 8GB / 256GB / 2.3GHz\\\\r\\\\n《立即省3千★再贈好禮》 \\r\\n網路價$47900．\\r\\n限時價↘$４４９００\\r\\n\\r\\n★此機型無觸控列和touch id \\r\\n\\r\\n商品特色\\r\\n● 2.3 ghz 處理器 \\r\\n● 256 gb 儲存空間\\r\\n● 2.3 ghz 雙核心第七代 intel core i5 處理器\\r\\n● turbo boost 可達 3.6 ghz\\r\\n● 8 gb 2133 mhz lpddr 3 記憶體\\r\\n● 256 gb ssd 儲存裝置\\r\\n● intel iris plus graphics 640\\r\\n● 兩個 thunderbolt 3 埠\\r\\n\\r\\n注意事項', 'price': 44900, 'originPrice': 44900, 'author': '', 'brand': '', 'publishDate': '', 'sellerId': '', 'isPChome': 1, 'isNC17': 0, 'couponActid': [], 'BU': 'ec'}, {'Id': 'DYAJBD-19009C7V3', 'cateId': 'DYAJBD', 'picS': '/items/DYAJBD19009C7V3/000002_1546396003.jpg', 'picB': '/items/DYAJBD19009C7V3/000001_1548384189.jpg', 'name': 'MacBook Pro 13-inch : 2.3GHz dual-core i5, 128GB - Space Grey (MPXQ2TA/A)', 'describe': 'MacBook Pro 13 灰色 第七代 i5 / 8GB / 128GB / 2.3GHz\\\\r\\\\n《立即省3千★再贈好禮》 \\r\\n網路價$41900．\\r\\n限時價↘$３８９００\\r\\n\\r\\n★此機型無觸控列和touch id \\r\\n\\r\\n商品特色\\r\\n● 2.3 ghz 處理器 \\r\\n● 128 gb 儲存空間\\r\\n● 2.3 ghz 雙核心第七代 intel core i5 處理器\\r\\n● turbo boost 可達 3.6 ghz\\r\\n● 8 gb 2133 mhz lpddr 3 記憶體\\r\\n● 128 gb ssd 儲存裝置\\r\\n● intel iris plus graphics 640\\r\\n● 兩個 thunderbolt 3 埠\\r\\n\\r\\n注意事項', 'price': 38900, 'originPrice': 38900, 'author': '', 'brand': '', 'publishDate': '', 'sellerId': '', 'isPChome': 1, 'isNC17': 0, 'couponActid': [], 'BU': 'ec'}, {'Id': 'DYAJBL-19009QDOJ', 'cateId': 'DYAJBL', 'picS': '/items/DYAJBL19009QDOJ/000002_1547445073.jpg', 'picB': '/items/DYAJBL19009QDOJ/000001_1547445073.jpg', 'name': 'MacBook Air 13: 1.6GHz dual-core Intel Core i5, 256GB - Space Grey', 'describe': 'MacBook Air 13 灰色第八代 i5 / 8GB / 256GB / 1.6GHz\\\\r\\\\n《降3千優惠★2018新款》 \\r\\n網路價$45900．\\r\\n限時價↘$４２９００\\r\\n\\r\\n● touch id\\r\\n● 雙核心第八代 intel core i5 處理器\\r\\n● intel uhd graphics 617\\r\\n● 快速的 ssd 儲存裝置\\r\\n● 8gb 記憶體\\r\\n● 立體聲揚聲器具備更寬廣的立體聲\\r\\n● 兩個 thunderbolt 3 (usb-c) 埠\\r\\n● 長達 12 小時電池續航力\\r\\n● 802.11ac wi-fi\\r\\n\\r\\n注意事項', 'price': 42900, 'originPrice': 42900, 'author': '', 'brand': '', 'publishDate': '', 'sellerId': '', 'isPChome': 1, 'isNC17': 0, 'couponActid': [], 'BU': 'ec'}, {'Id': 'DYAJBL-19009QDOL', 'cateId': 'DYAJBL', 'picS': '/items/DYAJBL19009QDOL/000002_1547445108.jpg', 'picB': '/items/DYAJBL19009QDOL/000001_1547445108.jpg', 'name': 'MacBook Air 13: 1.6GHz dual-core Intel Core i5, 128GB - Gold', 'describe': 'MacBook Air 13 金色第八代 i5 / 8GB / 128GB / 1.6GHz\\\\r\\\\n《降3千優惠★2018新款》 \\r\\n網路價$39900．\\r\\n限時價↘$３６９００\\r\\n\\r\\n● touch id\\r\\n● 雙核心第八代 intel core i5 處理器\\r\\n● intel uhd graphics 617\\r\\n● 快速的 ssd 儲存裝置\\r\\n● 8gb 記憶體\\r\\n● 立體聲揚聲器具備更寬廣的立體聲\\r\\n● 兩個 thunderbolt 3 (usb-c) 埠\\r\\n● 長達 12 小時電池續航力\\r\\n● 802.11ac wi-fi\\r\\n\\r\\n注意事項', 'price': 36900, 'originPrice': 36900, 'author': '', 'brand': '', 'publishDate': '', 'sellerId': '', 'isPChome': 1, 'isNC17': 0, 'couponActid': [], 'BU': 'ec'}, {'Id': 'DCADHZ-A9008CTGG', 'cateId': 'DCADLA', 'picS': '/items/DCADHZA9008CTGG/000002_1541407853.jpg', 'picB': '/items/DCADHZA9008CTGG/000001_1503307976.jpg', 'name': 'innowatt DOCK Pro+ Thunderbolt Type-C Hub for MacBook Pro 多功能充電傳輸集線器', 'describe': 'innowatt THE DOCK Pro+ 七合一多功能充電傳輸集線器 for MacBook Pro with Thunderbolt 3 & HDMI (型號iW71)\\\\r\\\\n1.適用macbook pro 2016~2019全系列\\r\\n2.多功能集線器高階thunderbolt 3版本 (iw71)\\r\\n3.無線收納超easy，輕薄短小放pocket \\r\\n4.雙type-c公頭且正反皆可用的hub \\r\\n5.usb-c1具thunderbolt 3 (40gb）傳輸規格 \\r\\n6.usb-c1母座可支援pd充電 5k video輸出 雙屏4k輸出 \\r\\n7.usb-c2母座可支援資料高速傳輸5gb s\\r\\n8.具備hdmi 1080p@60hz & 4k@30hz\\r\\n\\r\\n★若本區庫存銷售一空，請至下列原廠與pchome合作的另一連結採購，可獲贈專屬macbook pro保護殼\\r\\n→《dock pro+ 贈專屬客製macbook pro保護殼》\\r\\n\\r\\n★本專區贈送好禮 含皮套 iphone傳輸線等\\r\\n\\r\\n▼innowatt熱銷推薦 \\r\\n《dock net thunderbolt  usb 3.1多功能充電傳輸集線器》\\r\\n《the dock s type-c hdmi usb 多功能充電傳輸集線器》\\r\\n《dock pro thunderbolt  usb 3.1多功能充電傳輸集線器》\\r\\n《dock dock mini  usb 3.1多功能充電傳輸集線器灰色》\\r\\n《dock dock mini  usb 3.1多功能充電傳輸集線器銀色》\\r\\n《apple macbook pro專用超薄高透鍵盤保護膜》\\r\\n《螢幕防窺片macbook retina12吋》\\r\\n《螢幕防窺片macbook retina13吋》\\r\\n《mfi蘋果認證 270cm充電傳輸線》\\r\\n《tough線 (1米 玫瑰金）》\\r\\n《tough線 (1米 金）》\\r\\n《innowatt the yoga 優架(l) 筆電支架》', 'price': 2290, 'originPrice': 2290, 'author': '', 'brand': '', 'publishDate': '', 'sellerId': '', 'isPChome': 1, 'isNC17': 0, 'couponActid': [], 'BU': 'ec'}, {'Id': 'DYAJCS-19009FXVG', 'cateId': 'DYAJCS', 'picS': '/items/DYAJCS19009FXVG/000002_1548036822.jpg', 'picB': '/items/DYAJCS19009FXVG/000001_1548036822.jpg', 'name': 'MacBook Pro13 Touch Bar: 2.3GHz quad-core 8th- Intel Core i5 , 256GB - Space Grey', 'describe': 'MacBook Pro13 灰色第八代 i5 / 8GB / 256GB / 2.3GHz\\\\r\\\\n《降3千優惠★再贈好禮》 \\r\\n網路價$57900．\\r\\n限時價↘$５４９００\\r\\n\\r\\n商品特色\\r\\n• 4 核心 intel core i5 處理器\\r\\n• 具備原彩顯示技術的亮麗 retina 顯示器\\r\\n• 觸控列和 touch id\\r\\n• intel iris plus graphics 655\\r\\n• 超快速 ssd\\r\\n• 四個 thunderbolt 3 (usb-c) 埠\\r\\n• 長達 10 小時電池續航力2\\r\\n• 802.11ac wi-fi\\r\\n• 力度觸控板\\r\\n\\r\\n注意事項', 'price': 54900, 'originPrice': 54900, 'author': '', 'brand': '', 'publishDate': '', 'sellerId': '', 'isPChome': 1, 'isNC17': 0, 'couponActid': [], 'BU': 'ec'}, {'Id': 'DYAJCS-19009FXWV', 'cateId': 'DYAJCS', 'picS': '/items/DYAJCS19009FXWV/000002_1548036804.jpg', 'picB': '/items/DYAJCS19009FXWV/000001_1548036804.jpg', 'name': 'MacBook Pro13 Touch Bar: 2.3GHz quad-core 8th- Intel Core i5, 256GB - Silve', 'describe': 'MacBook Pro13 銀色第八代 i5 / 8GB / 256GB / 2.3GHz\\\\r\\\\n《降3千優惠★再贈好禮》 \\r\\n網路價$57900．\\r\\n限時價↘$５４９００\\r\\n\\r\\n商品特色\\r\\n• 4 核心 intel core i5 處理器\\r\\n• 具備原彩顯示技術的亮麗 retina 顯示器\\r\\n• 觸控列和 touch id\\r\\n• intel iris plus graphics 655\\r\\n• 超快速 ssd\\r\\n• 四個 thunderbolt 3 (usb-c) 埠\\r\\n• 長達 10 小時電池續航力2\\r\\n• 802.11ac wi-fi\\r\\n• 力度觸控板\\r\\n\\r\\n注意事項', 'price': 54900, 'originPrice': 54900, 'author': '', 'brand': '', 'publishDate': '', 'sellerId': '', 'isPChome': 1, 'isNC17': 0, 'couponActid': [], 'BU': 'ec'}, {'Id': 'DYAJBL-19009QDNG', 'cateId': 'DYAJBL', 'picS': '/items/DYAJBL19009QDNG/000002_1547445040.jpg', 'picB': '/items/DYAJBL19009QDNG/000001_1547445040.jpg', 'name': 'MacBook Air 13: 1.6GHz dual-core Intel Core i5, 256GB - Gold', 'describe': 'MacBook Air 13 金色第八代 i5 / 8GB / 256GB / 1.6GHz\\\\r\\\\n《降3千優惠★2018新款》 \\r\\n網路價$45900．\\r\\n限時價↘$４２９００\\r\\n\\r\\n● touch id\\r\\n● 雙核心第八代 intel core i5 處理器\\r\\n● intel uhd graphics 617\\r\\n● 快速的 ssd 儲存裝置\\r\\n● 8gb 記憶體\\r\\n● 立體聲揚聲器具備更寬廣的立體聲\\r\\n● 兩個 thunderbolt 3 (usb-c) 埠\\r\\n● 長達 12 小時電池續航力\\r\\n● 802.11ac wi-fi\\r\\n\\r\\n注意事項', 'price': 42900, 'originPrice': 42900, 'author': '', 'brand': '', 'publishDate': '', 'sellerId': '', 'isPChome': 1, 'isNC17': 0, 'couponActid': [], 'BU': 'ec'}, {'Id': 'DYAJBD-19009C3LV', 'cateId': 'DYAJBD', 'picS': '/items/DYAJBD19009C3LV/000002_1545903221.jpg', 'picB': '/items/DYAJBD19009C3LV/000001_1545903221.jpg', 'name': 'MacBook Pro 13-inch: 2.3GHz dual-core i5, 128GB - Silver (MPXR2TA/A)', 'describe': 'MacBook Pro 13 銀色第七代 i5 / 8GB / 128GB / 2.3GHz\\\\r\\\\n《立即省3千★再贈好禮》 \\r\\n網路價$41900．\\r\\n限時價↘$３８９００\\r\\n\\r\\n★此機型無觸控列和touch id \\r\\n\\r\\n商品特色\\r\\n● 2.3 ghz 處理器 \\r\\n● 128 gb 儲存空間\\r\\n● 2.3 ghz 雙核心第七代 intel core i5 處理器\\r\\n● turbo boost 可達 3.6 ghz\\r\\n● 8 gb 2133 mhz lpddr 3 記憶體\\r\\n● 128 gb ssd 儲存裝置\\r\\n● intel iris plus graphics 640\\r\\n● 兩個 thunderbolt 3 埠\\r\\n\\r\\n注意事項', 'price': 38900, 'originPrice': 38900, 'author': '', 'brand': '', 'publishDate': '', 'sellerId': '', 'isPChome': 1, 'isNC17': 0, 'couponActid': [], 'BU': 'ec'}, {'Id': 'DYAJBL-A9009J0CH', 'cateId': 'DYAJBL', 'picS': '/items/DYAJBLA9009J0CH/000002_1544173097.jpg', 'picB': '/items/DYAJBLA9009J0CH/000001_1544173097.jpg', 'name': 'MacBook Air 13: 1.6GHz dual-core Intel Core i5, 128GB - Space Grey\\xa0\\xa0\\xa0', 'describe': 'MacBook Air 13 灰色第八代 i5 / 8GB / 128GB / 1.6GHz\\\\r\\\\n★再贈hdmi轉接線+防盜後背包★新品限量到貨\\r\\n\\r\\n● touch id\\r\\n● 雙核心第八代 intel core i5 處理器\\r\\n● intel uhd graphics 617\\r\\n● 快速的 ssd 儲存裝置\\r\\n● 8gb 記憶體\\r\\n● 立體聲揚聲器具備更寬廣的立體聲\\r\\n● 兩個 thunderbolt 3 (usb-c) 埠\\r\\n● 長達 12 小時電池續航力\\r\\n● 802.11ac wi-fi\\r\\n\\r\\n注意事項', 'price': 39900, 'originPrice': 39900, 'author': '', 'brand': '', 'publishDate': '', 'sellerId': '', 'isPChome': 1, 'isNC17': 0, 'couponActid': [], 'BU': 'ec'}, {'Id': 'DYAJBF-19009PCD9', 'cateId': 'DYAJBF', 'picS': '/items/DYAJBF19009PCD9/000002_1548641192.png', 'picB': '/items/DYAJBF19009PCD9/000001_1548641192.jpg', 'name': 'MacBook Pro 13-inch : 2.3GHz dual-core i5, 256GB - Silver (Z0UL000E2)', 'describe': 'MacBook Pro 13 銀色RAM升級16GB / 256GB / i5 / 2.3GHz\\\\r\\\\n《95折優惠★再贈好禮》 \\r\\n網路價$54420．\\r\\n限時價↘$５１６９９\\r\\n\\r\\n★此機型無觸控列和touch id \\r\\n\\r\\n★此商品為規格特製機\\r\\n●原ram8gb↗升級16gb \\r\\n\\r\\n★主機精典介紹\\r\\n● 13 吋機型厚度 14.9 公釐，重量更僅有 1.37 公斤\\r\\n\\r\\n● retina 顯示器亮度高達 500 尼特，可在明亮的\\r\\n   光線環境下呈現更多細節\\r\\n\\r\\n● 這款顯示器具有高對比率，色彩數更超出標準 rgb \\r\\n   顯示器25%，因此可讓照片畫質更加逼真寫實\\r\\n\\r\\n● thunderbolt 3 連接埠將充電、資料傳輸與視訊輸出\\r\\n   三大功能集於一身\\r\\n\\r\\n● thunderbolt 3 技術的傳輸速度高達40gbps，在傳輸\\r\\n   資料速度及視訊頻寬方面都是 thunderbolt 2 的兩倍\\r\\n\\r\\n注意事項', 'price': 51699, 'originPrice': 51699, 'author': '', 'brand': '', 'publishDate': '', 'sellerId': '', 'isPChome': 1, 'isNC17': 0, 'couponActid': [], 'BU': 'ec'}, {'Id': 'DYAJBL-19009FB34', 'cateId': 'DYAJBG', 'picS': '/items/DYAJBL19009FB34/000002_1546394156.jpg', 'picB': '/items/DYAJBL19009FB34/000001_1548381757.jpg', 'name': 'MacBook Air 13-inch: 1.8GHz dual-core Intel Core i5, 128GB (MQD32TA/A)', 'describe': '2017 MacBook Air 13第五代 i5 / 8GB / 128GB / 1.8GHz dual\\\\r\\\\n《降2千優惠★再贈好禮》 \\r\\n網路價$31900．\\r\\n限時價↘$２９９００\\r\\n\\r\\n● intel core  i5 處理器\\r\\n● intel hd graphics 6000\\r\\n● ssd 儲存裝置\\r\\n● 長達 12 小時電池續航力\\r\\n● 802.11 ac wi-fi\\r\\n● multi - touch 觸控式軌跡板\\r\\n● 最長可達 30 天待機時間\\r\\n● 節能低耗又兼具高效能的設計\\r\\n\\r\\n注意事項', 'price': 29900, 'originPrice': 29900, 'author': '', 'brand': '', 'publishDate': '', 'sellerId': '', 'isPChome': 1, 'isNC17': 0, 'couponActid': [], 'BU': 'ec'}, {'Id': 'DYAJBD-A90097XIB', 'cateId': 'DYAJBD', 'picS': '/items/DYAJBDA90097XIB/000002_1544086661.jpg', 'picB': '/items/DYAJBDA90097XIB/000001_1546999441.jpg', 'name': 'MacBook Pro13 Touch Bar: 2.3GHz quad-core 8th- Intel\\xa0Core\\xa0i5, 256GB - Silve', 'describe': 'MacBook Pro13 銀色第八代 i5 / 8GB / 256GB / 2.3GHz\\\\r\\\\n★2018新款觸控\\r\\n商品特色\\r\\n• 4 核心 intel core i5 處理器\\r\\n• 具備原彩顯示技術的亮麗 retina 顯示器\\r\\n• 觸控列和 touch id\\r\\n• intel iris plus graphics 655\\r\\n• 超快速 ssd\\r\\n• 四個 thunderbolt 3 (usb-c) 埠\\r\\n• 長達 10 小時電池續航力2\\r\\n• 802.11ac wi-fi\\r\\n• 力度觸控板\\r\\n\\r\\n注意事項', 'price': 51530, 'originPrice': 51530, 'author': '', 'brand': '', 'publishDate': '', 'sellerId': '', 'isPChome': 1, 'isNC17': 0, 'couponActid': [], 'BU': 'ec'}, {'Id': 'DYAJCS-19009QLN7', 'cateId': 'DYAJCR', 'picS': '/items/DYAJCS19009QLN7/000002_1547607133.jpg', 'picB': '/items/DYAJCS19009QLN7/000001_1547607133.jpg', 'name': 'MacBook Pro15 Touch Bar: 2.2GHz 6-core 8th- Intel Core i7, 256GB - Silver', 'describe': 'MacBook Pro15 銀色 第八代 i7 / 16GB / 256GB / 2.2GHz\\\\r\\\\n降3千優惠★再贈好禮至1 31(四)10:00止 \\r\\n數量有限，售完為止\\r\\n網路價$77900．限時價↘$７４９００\\r\\n\\r\\n★2018新款觸控\\r\\n商品特色\\r\\n• 6 核心 intel core i7 處理器\\r\\n• 具備原彩顯示技術的亮麗 retina 顯示器\\r\\n• 觸控列和 touch id\\r\\n• radeon pro 555x 繪圖處理器配備 4gb 視訊記憶體\\r\\n• intel uhd graphics 630\\r\\n• 超快速 ssd\\r\\n• 四個 thunderbolt 3 (usb-c) 埠\\r\\n• 長達 10 小時電池續航力\\r\\n• 802.11ac wi-fi\\r\\n• 力度觸控板\\r\\n\\r\\n注意事項', 'price': 74900, 'originPrice': 74900, 'author': '', 'brand': '', 'publishDate': '', 'sellerId': '', 'isPChome': 1, 'isNC17': 0, 'couponActid': [], 'BU': 'ec'}, {'Id': 'DCADLA-A9009LMQZ', 'cateId': 'DCADLA', 'picS': '/items/DCADLAA9009LMQZ/000002_1542967034.jpg', 'picB': '/items/DCADLAA9009LMQZ/000001_1542967034.jpg', 'name': 'innowatt DOCK NET RJ45 & HDMI Type-C Hub for Macbook Pro 多功能充電傳輸集線器 iW71N', 'describe': 'innowatt DOCK NET Thunderbolt 3 & RJ45 & HDMI Type-C Hub for Macbook Pro 多功能充電傳輸集線器 iW71N\\\\r\\\\n1.適用macbook pro 2016~2019全系列 \\r\\n2.多功能集線器高階thunderbolt 3版本 (iw71n) \\r\\n3.usb-c具thunderbolt 3 (40gb）傳輸規格 \\r\\n4.支援pd充電 5k video輸出 雙屏4k輸出 \\r\\n5.具備hdmi 1080p@60hz & 4k@30hz \\r\\n6.具備rj45網路孔設計 隨插即用不需設定 可達1 gb s \\r\\n7.無線收納超easy，輕薄短小放pocket\\r\\n\\r\\n★若本區庫存銷售一空，請至下列原廠與pchome合作的另一連結採購，可獲贈專屬macbook pro保護殼\\r\\n→《dock net 贈專屬客製macbook pro保護殼》\\r\\n\\r\\n★本專區贈送多重好禮 含皮套 iphone傳輸線等\\r\\n\\r\\n▼innowatt熱銷推薦 \\r\\n《the dock s type-c hdmi usb 多功能充電傳輸集線器》\\r\\n《dock pro+ thunderbolt  usb 3.1多功能充電傳輸集線器》\\r\\n《dock pro thunderbolt  usb 3.1多功能充電傳輸集線器》\\r\\n《dock dock mini  usb 3.1多功能充電傳輸集線器灰色》\\r\\n《dock dock mini  usb 3.1多功能充電傳輸集線器銀色》\\r\\n《apple macbook pro專用超薄高透鍵盤保護膜》\\r\\n《螢幕防窺片macbook retina12吋》\\r\\n《螢幕防窺片macbook retina13吋》\\r\\n《mfi蘋果認證 270cm充電傳輸線》\\r\\n《tough線 (1米 玫瑰金）》\\r\\n《tough線 (1米 金）》\\r\\n《innowatt the yoga 優架(l) 筆電支架》', 'price': 2490, 'originPrice': 2490, 'author': '', 'brand': '', 'publishDate': '', 'sellerId': '', 'isPChome': 1, 'isNC17': 0, 'couponActid': [], 'BU': 'ec'}, {'Id': 'DYAJCS-19009FXWN', 'cateId': 'DYAJCR', 'picS': '/items/DYAJCS19009FXWN/000002_1544004628.jpg', 'picB': '/items/DYAJCS19009FXWN/000001_1538028054.jpg', 'name': 'MacBook Pro15 Touch Bar: 2.6GHz 6-core 8th- Intel Core i7, 512GB - Silver', 'describe': 'MacBook Pro15 銀色 i7 / 16GB / 512GB / 2.6GHz\\\\r\\\\n95折優惠★再送超值雙重好禮 \\r\\n數量有限，售完為止\\r\\n網路價$89900．限時價↘$８５４０５\\r\\n\\r\\n★2018新款觸控\\r\\n商品特色\\r\\n• 6 核心 intel core i7 處理器\\r\\n• 具備原彩顯示技術的亮麗 retina 顯示器\\r\\n• 觸控列和 touch id\\r\\n• radeon pro 560x 繪圖處理器配備 4gb 視訊記憶體\\r\\n• intel uhd graphics 630\\r\\n• 超快速 ssd\\r\\n• 四個 thunderbolt 3 (usb-c) 埠\\r\\n• 長達 10 小時電池續航力\\r\\n• 802.11ac wi-fi\\r\\n• 力度觸控板\\r\\n\\r\\n注意事項', 'price': 85405, 'originPrice': 85405, 'author': '', 'brand': '', 'publishDate': '', 'sellerId': '', 'isPChome': 1, 'isNC17': 0, 'couponActid': [], 'BU': 'ec'}]}\n"
          ],
          "name": "stdout"
        }
      ]
    },
    {
      "metadata": {
        "id": "jFVfKXWfZ4fX",
        "colab_type": "code",
        "outputId": "8aa447b2-3a23-4192-db48-feda2787b624",
        "colab": {
          "base_uri": "https://localhost:8080/",
          "height": 70
        }
      },
      "cell_type": "code",
      "source": [
        "print(json_dict.keys())\n",
        "print(len(json_dict.keys()))"
      ],
      "execution_count": 0,
      "outputs": [
        {
          "output_type": "stream",
          "text": [
            "dict_keys(['QTime', 'totalRows', 'totalPage', 'range', 'cateName', 'q', 'subq', 'token', 'prods'])\n",
            "9\n"
          ],
          "name": "stdout"
        }
      ]
    },
    {
      "metadata": {
        "id": "4yryDfsmcVpM",
        "colab_type": "code",
        "outputId": "5bb29cb6-bd89-4d67-afd8-f07ab76a70e1",
        "colab": {
          "base_uri": "https://localhost:8080/",
          "height": 121
        }
      },
      "cell_type": "code",
      "source": [
        "# 求 json_dict[\"prods\"] 的長度為何？（有幾個 prods）\n",
        "prods_len = len(json_dict[\"prods\"])\n",
        "print(\"這個頁面有 {} 個產品\".format(prods_len))\n",
        "# 回傳我最高價與最低價分別為多少？max(), min()\n",
        "#json_dict[\"prods\"][0][\"price\"]\n",
        "#json_dict[\"prods\"][1][\"price\"]\n",
        "#...\n",
        "#json_dict[\"prods\"][__][\"price\"]\n",
        "# for loop\n",
        "prod_prices = []\n",
        "for i in range(prods_len):\n",
        "  prod_prices.append(json_dict[\"prods\"][i][\"price\"])\n",
        "# 或者採用 list comprehension\n",
        "#prod_prices = [json_dict[\"prods\"][i][\"price\"] for i in range(prods_len)]\n",
        "print(prod_prices)\n",
        "print(\"產品的最高價：{}\".format(max(prod_prices)))\n",
        "print(\"產品的最低價：{}\".format(min(prod_prices)))\n",
        "# （Optional）平均價格為多少？\n",
        "print(\"平均的價格為：{}\".format(sum(prod_prices) / prods_len))"
      ],
      "execution_count": 0,
      "outputs": [
        {
          "output_type": "stream",
          "text": [
            "這個頁面有 20 個產品\n",
            "[28900, 36900, 39900, 1790, 44900, 38900, 42900, 36900, 2290, 54900, 54900, 42900, 38900, 39900, 51699, 29900, 51530, 74900, 2490, 85405]\n",
            "產品的最高價：85405\n",
            "產品的最低價：1790\n",
            "平均的價格為：40040.2\n"
          ],
          "name": "stdout"
        }
      ]
    },
    {
      "metadata": {
        "id": "woWk85g2m7iM",
        "colab_type": "code",
        "outputId": "f549c6d0-316a-4d41-cd86-171cb2d8bbc7",
        "colab": {
          "base_uri": "https://localhost:8080/",
          "height": 84
        }
      },
      "cell_type": "code",
      "source": [
        "import numpy as np\n",
        "\n",
        "prod_prices_arr = np.array(prod_prices)\n",
        "print(prod_prices_arr.mean())\n",
        "print(prod_prices_arr.mean())\n",
        "print(np.median(prod_prices_arr))\n",
        "print(prod_prices_arr.std())"
      ],
      "execution_count": 0,
      "outputs": [
        {
          "output_type": "stream",
          "text": [
            "40040.2\n",
            "40040.2\n",
            "39900.0\n",
            "20700.45591913376\n"
          ],
          "name": "stdout"
        }
      ]
    },
    {
      "metadata": {
        "id": "06cdio6LobFS",
        "colab_type": "code",
        "colab": {}
      },
      "cell_type": "code",
      "source": [
        "import requests\n",
        "\n",
        "lakers_roster_url = \"https://data.nba.com/data/10s/v2015/json/mobile_teams/nba/2018/teams/lakers/player_averages_02.json\"\n",
        "response = requests.get(lakers_roster_url)"
      ],
      "execution_count": 0,
      "outputs": []
    },
    {
      "metadata": {
        "id": "JdQ77zbYotpJ",
        "colab_type": "code",
        "outputId": "720042a9-b3b9-429e-da49-5cf2c296829c",
        "colab": {
          "base_uri": "https://localhost:8080/",
          "height": 70
        }
      },
      "cell_type": "code",
      "source": [
        "json_dict = response.json()\n",
        "num_of_players = len(json_dict[\"tpsts\"][\"pl\"])\n",
        "print(\"洛杉磯湖人隊有 {} 個球員\".format(num_of_players))\n",
        "#json_dict[\"tpsts\"][\"pl\"][0][\"fn\"] + \" \" + json_dict[\"tpsts\"][\"pl\"][0][\"ln\"]\n",
        "lakers_roster = []\n",
        "for i in range(num_of_players):\n",
        "  player_name = \"{} {}\".format(json_dict[\"tpsts\"][\"pl\"][i][\"fn\"], json_dict[\"tpsts\"][\"pl\"][i][\"ln\"])\n",
        "  lakers_roster.append(player_name)\n",
        "# list comprehension\n",
        "#lakers_roster = [\"{} {}\".format(json_dict[\"tpsts\"][\"pl\"][i][\"fn\"], json_dict[\"tpsts\"][\"pl\"][i][\"ln\"]) for i in range(num_of_players)]\n",
        "print(lakers_roster)\n",
        "# [\"Tyson Chandler\", \"LeBron James\", \"Rajon Rondo\", ...]"
      ],
      "execution_count": 0,
      "outputs": [
        {
          "output_type": "stream",
          "text": [
            "洛杉磯湖人隊有 17 個球員\n",
            "['Tyson Chandler', 'LeBron James', 'Rajon Rondo', 'Michael Beasley', 'JaVale McGee', 'Lance Stephenson', 'Kentavious Caldwell-Pope', 'Brandon Ingram', 'Ivica Zubac', 'Alex Caruso', 'Lonzo Ball', 'Kyle Kuzma', 'Josh Hart', 'Svi Mykhailiuk', 'Moritz Wagner', 'Isaac Bonga', 'Johnathan Williams']\n"
          ],
          "name": "stdout"
        }
      ]
    },
    {
      "metadata": {
        "id": "-ePn3uz6u6PU",
        "colab_type": "text"
      },
      "cell_type": "markdown",
      "source": [
        "### PyQuery 模組\n",
        "\n",
        "<https://pythonhosted.org/pyquery/>\n",
        "\n",
        "```python\n",
        "from pyquery import PyQuery as pq\n",
        "\n",
        "d = pq(filename=path_to_html_file)\n",
        "d(\"#hello\")\n",
        "## [<p#hello.hello>]\n",
        "p = d(\"#hello\")\n",
        "print(p.html())\n",
        "## Hello world !\n",
        "p.html(\"you know <a href='http://python.org/'>Python</a> rocks\")\n",
        "## [<p#hello.hello>]\n",
        "print(p.html())\n",
        "## you know <a href=\"http://python.org/\">Python</a> rocks\n",
        "print(p.text())\n",
        "## you know Python rocks\n",
        "```\n",
        "\n",
        "- 使用 CSS Selector 來進行資料位置的指定：[Selector Gadget](https://chrome.google.com/webstore/detail/selectorgadget/mhjhnkcfbdhnjickkkdbjoemdmbfginb)"
      ]
    },
    {
      "metadata": {
        "id": "lUvxVSnPu4_L",
        "colab_type": "code",
        "colab": {}
      },
      "cell_type": "code",
      "source": [
        "import requests\n",
        "\n",
        "yahoo_stock_url = \"https://tw.stock.yahoo.com/d/i/rank.php?t=pri&e=tse&n=100\"\n",
        "response = requests.get(yahoo_stock_url)"
      ],
      "execution_count": 0,
      "outputs": []
    },
    {
      "metadata": {
        "id": "fAL-_Y1XNdli",
        "colab_type": "code",
        "outputId": "80a868b9-f802-4915-fc4a-3ba35046d467",
        "colab": {
          "base_uri": "https://localhost:8080/",
          "height": 636
        }
      },
      "cell_type": "code",
      "source": [
        "response.json()"
      ],
      "execution_count": 0,
      "outputs": [
        {
          "output_type": "error",
          "ename": "JSONDecodeError",
          "evalue": "ignored",
          "traceback": [
            "\u001b[0;31m---------------------------------------------------------------------------\u001b[0m",
            "\u001b[0;31mJSONDecodeError\u001b[0m                           Traceback (most recent call last)",
            "\u001b[0;32m<ipython-input-2-34c975fa6377>\u001b[0m in \u001b[0;36m<module>\u001b[0;34m()\u001b[0m\n\u001b[0;32m----> 1\u001b[0;31m \u001b[0mresponse\u001b[0m\u001b[0;34m.\u001b[0m\u001b[0mjson\u001b[0m\u001b[0;34m(\u001b[0m\u001b[0;34m)\u001b[0m\u001b[0;34m\u001b[0m\u001b[0;34m\u001b[0m\u001b[0m\n\u001b[0m",
            "\u001b[0;32m/usr/local/lib/python3.6/dist-packages/requests/models.py\u001b[0m in \u001b[0;36mjson\u001b[0;34m(self, **kwargs)\u001b[0m\n\u001b[1;32m    890\u001b[0m                     \u001b[0;31m# used.\u001b[0m\u001b[0;34m\u001b[0m\u001b[0;34m\u001b[0m\u001b[0;34m\u001b[0m\u001b[0m\n\u001b[1;32m    891\u001b[0m                     \u001b[0;32mpass\u001b[0m\u001b[0;34m\u001b[0m\u001b[0;34m\u001b[0m\u001b[0m\n\u001b[0;32m--> 892\u001b[0;31m         \u001b[0;32mreturn\u001b[0m \u001b[0mcomplexjson\u001b[0m\u001b[0;34m.\u001b[0m\u001b[0mloads\u001b[0m\u001b[0;34m(\u001b[0m\u001b[0mself\u001b[0m\u001b[0;34m.\u001b[0m\u001b[0mtext\u001b[0m\u001b[0;34m,\u001b[0m \u001b[0;34m**\u001b[0m\u001b[0mkwargs\u001b[0m\u001b[0;34m)\u001b[0m\u001b[0;34m\u001b[0m\u001b[0;34m\u001b[0m\u001b[0m\n\u001b[0m\u001b[1;32m    893\u001b[0m \u001b[0;34m\u001b[0m\u001b[0m\n\u001b[1;32m    894\u001b[0m     \u001b[0;34m@\u001b[0m\u001b[0mproperty\u001b[0m\u001b[0;34m\u001b[0m\u001b[0;34m\u001b[0m\u001b[0m\n",
            "\u001b[0;32m/usr/lib/python3.6/json/__init__.py\u001b[0m in \u001b[0;36mloads\u001b[0;34m(s, encoding, cls, object_hook, parse_float, parse_int, parse_constant, object_pairs_hook, **kw)\u001b[0m\n\u001b[1;32m    352\u001b[0m             \u001b[0mparse_int\u001b[0m \u001b[0;32mis\u001b[0m \u001b[0;32mNone\u001b[0m \u001b[0;32mand\u001b[0m \u001b[0mparse_float\u001b[0m \u001b[0;32mis\u001b[0m \u001b[0;32mNone\u001b[0m \u001b[0;32mand\u001b[0m\u001b[0;34m\u001b[0m\u001b[0;34m\u001b[0m\u001b[0m\n\u001b[1;32m    353\u001b[0m             parse_constant is None and object_pairs_hook is None and not kw):\n\u001b[0;32m--> 354\u001b[0;31m         \u001b[0;32mreturn\u001b[0m \u001b[0m_default_decoder\u001b[0m\u001b[0;34m.\u001b[0m\u001b[0mdecode\u001b[0m\u001b[0;34m(\u001b[0m\u001b[0ms\u001b[0m\u001b[0;34m)\u001b[0m\u001b[0;34m\u001b[0m\u001b[0;34m\u001b[0m\u001b[0m\n\u001b[0m\u001b[1;32m    355\u001b[0m     \u001b[0;32mif\u001b[0m \u001b[0mcls\u001b[0m \u001b[0;32mis\u001b[0m \u001b[0;32mNone\u001b[0m\u001b[0;34m:\u001b[0m\u001b[0;34m\u001b[0m\u001b[0;34m\u001b[0m\u001b[0m\n\u001b[1;32m    356\u001b[0m         \u001b[0mcls\u001b[0m \u001b[0;34m=\u001b[0m \u001b[0mJSONDecoder\u001b[0m\u001b[0;34m\u001b[0m\u001b[0;34m\u001b[0m\u001b[0m\n",
            "\u001b[0;32m/usr/lib/python3.6/json/decoder.py\u001b[0m in \u001b[0;36mdecode\u001b[0;34m(self, s, _w)\u001b[0m\n\u001b[1;32m    337\u001b[0m \u001b[0;34m\u001b[0m\u001b[0m\n\u001b[1;32m    338\u001b[0m         \"\"\"\n\u001b[0;32m--> 339\u001b[0;31m         \u001b[0mobj\u001b[0m\u001b[0;34m,\u001b[0m \u001b[0mend\u001b[0m \u001b[0;34m=\u001b[0m \u001b[0mself\u001b[0m\u001b[0;34m.\u001b[0m\u001b[0mraw_decode\u001b[0m\u001b[0;34m(\u001b[0m\u001b[0ms\u001b[0m\u001b[0;34m,\u001b[0m \u001b[0midx\u001b[0m\u001b[0;34m=\u001b[0m\u001b[0m_w\u001b[0m\u001b[0;34m(\u001b[0m\u001b[0ms\u001b[0m\u001b[0;34m,\u001b[0m \u001b[0;36m0\u001b[0m\u001b[0;34m)\u001b[0m\u001b[0;34m.\u001b[0m\u001b[0mend\u001b[0m\u001b[0;34m(\u001b[0m\u001b[0;34m)\u001b[0m\u001b[0;34m)\u001b[0m\u001b[0;34m\u001b[0m\u001b[0;34m\u001b[0m\u001b[0m\n\u001b[0m\u001b[1;32m    340\u001b[0m         \u001b[0mend\u001b[0m \u001b[0;34m=\u001b[0m \u001b[0m_w\u001b[0m\u001b[0;34m(\u001b[0m\u001b[0ms\u001b[0m\u001b[0;34m,\u001b[0m \u001b[0mend\u001b[0m\u001b[0;34m)\u001b[0m\u001b[0;34m.\u001b[0m\u001b[0mend\u001b[0m\u001b[0;34m(\u001b[0m\u001b[0;34m)\u001b[0m\u001b[0;34m\u001b[0m\u001b[0;34m\u001b[0m\u001b[0m\n\u001b[1;32m    341\u001b[0m         \u001b[0;32mif\u001b[0m \u001b[0mend\u001b[0m \u001b[0;34m!=\u001b[0m \u001b[0mlen\u001b[0m\u001b[0;34m(\u001b[0m\u001b[0ms\u001b[0m\u001b[0;34m)\u001b[0m\u001b[0;34m:\u001b[0m\u001b[0;34m\u001b[0m\u001b[0;34m\u001b[0m\u001b[0m\n",
            "\u001b[0;32m/usr/lib/python3.6/json/decoder.py\u001b[0m in \u001b[0;36mraw_decode\u001b[0;34m(self, s, idx)\u001b[0m\n\u001b[1;32m    355\u001b[0m             \u001b[0mobj\u001b[0m\u001b[0;34m,\u001b[0m \u001b[0mend\u001b[0m \u001b[0;34m=\u001b[0m \u001b[0mself\u001b[0m\u001b[0;34m.\u001b[0m\u001b[0mscan_once\u001b[0m\u001b[0;34m(\u001b[0m\u001b[0ms\u001b[0m\u001b[0;34m,\u001b[0m \u001b[0midx\u001b[0m\u001b[0;34m)\u001b[0m\u001b[0;34m\u001b[0m\u001b[0;34m\u001b[0m\u001b[0m\n\u001b[1;32m    356\u001b[0m         \u001b[0;32mexcept\u001b[0m \u001b[0mStopIteration\u001b[0m \u001b[0;32mas\u001b[0m \u001b[0merr\u001b[0m\u001b[0;34m:\u001b[0m\u001b[0;34m\u001b[0m\u001b[0;34m\u001b[0m\u001b[0m\n\u001b[0;32m--> 357\u001b[0;31m             \u001b[0;32mraise\u001b[0m \u001b[0mJSONDecodeError\u001b[0m\u001b[0;34m(\u001b[0m\u001b[0;34m\"Expecting value\"\u001b[0m\u001b[0;34m,\u001b[0m \u001b[0ms\u001b[0m\u001b[0;34m,\u001b[0m \u001b[0merr\u001b[0m\u001b[0;34m.\u001b[0m\u001b[0mvalue\u001b[0m\u001b[0;34m)\u001b[0m \u001b[0;32mfrom\u001b[0m \u001b[0;32mNone\u001b[0m\u001b[0;34m\u001b[0m\u001b[0;34m\u001b[0m\u001b[0m\n\u001b[0m\u001b[1;32m    358\u001b[0m         \u001b[0;32mreturn\u001b[0m \u001b[0mobj\u001b[0m\u001b[0;34m,\u001b[0m \u001b[0mend\u001b[0m\u001b[0;34m\u001b[0m\u001b[0;34m\u001b[0m\u001b[0m\n",
            "\u001b[0;31mJSONDecodeError\u001b[0m: Expecting value: line 1 column 1 (char 0)"
          ]
        }
      ]
    },
    {
      "metadata": {
        "id": "pDHSsVTUvRif",
        "colab_type": "code",
        "outputId": "1c000fbf-cf04-496d-b8d0-0d42c753e595",
        "colab": {
          "base_uri": "https://localhost:8080/",
          "height": 34
        }
      },
      "cell_type": "code",
      "source": [
        "len(response.text)"
      ],
      "execution_count": 0,
      "outputs": [
        {
          "output_type": "execute_result",
          "data": {
            "text/plain": [
              "59162"
            ]
          },
          "metadata": {
            "tags": []
          },
          "execution_count": 3
        }
      ]
    },
    {
      "metadata": {
        "id": "LwtNEH9zQ0cY",
        "colab_type": "code",
        "outputId": "90967242-ae45-460d-9bf4-d8d00aeba425",
        "colab": {
          "base_uri": "https://localhost:8080/",
          "height": 154
        }
      },
      "cell_type": "code",
      "source": [
        "!pip install pyquery"
      ],
      "execution_count": 0,
      "outputs": [
        {
          "output_type": "stream",
          "text": [
            "Collecting pyquery\n",
            "  Downloading https://files.pythonhosted.org/packages/09/c7/ce8c9c37ab8ff8337faad3335c088d60bed4a35a4bed33a64f0e64fbcf29/pyquery-1.4.0-py2.py3-none-any.whl\n",
            "Requirement already satisfied: lxml>=2.1 in /usr/local/lib/python3.6/dist-packages (from pyquery) (4.2.6)\n",
            "Collecting cssselect>0.7.9 (from pyquery)\n",
            "  Downloading https://files.pythonhosted.org/packages/7b/44/25b7283e50585f0b4156960691d951b05d061abf4a714078393e51929b30/cssselect-1.0.3-py2.py3-none-any.whl\n",
            "Installing collected packages: cssselect, pyquery\n",
            "Successfully installed cssselect-1.0.3 pyquery-1.4.0\n"
          ],
          "name": "stdout"
        }
      ]
    },
    {
      "metadata": {
        "id": "acgFj8mKN486",
        "colab_type": "code",
        "outputId": "0607a46b-0e10-4d4a-9177-8c72fe9b6dfe",
        "colab": {
          "base_uri": "https://localhost:8080/",
          "height": 34
        }
      },
      "cell_type": "code",
      "source": [
        "from pyquery import PyQuery as pq\n",
        "\n",
        "#html_file = response.text\n",
        "yahoo_stock_url = \"https://tw.stock.yahoo.com/d/i/rank.php?t=pri&e=tse&n=100\"\n",
        "doc = pq(yahoo_stock_url)\n",
        "print(type(doc))"
      ],
      "execution_count": 0,
      "outputs": [
        {
          "output_type": "stream",
          "text": [
            "<class 'pyquery.pyquery.PyQuery'>\n"
          ],
          "name": "stdout"
        }
      ]
    },
    {
      "metadata": {
        "id": "yVc8xqSVRTg0",
        "colab_type": "code",
        "outputId": "7a79e2eb-ab74-40ef-cc5e-f757c69c44a9",
        "colab": {
          "base_uri": "https://localhost:8080/",
          "height": 1697
        }
      },
      "cell_type": "code",
      "source": [
        "for e in doc(\".name a\"):\n",
        "  print(e.text)"
      ],
      "execution_count": 0,
      "outputs": [
        {
          "output_type": "stream",
          "text": [
            "3008 大立光\n",
            "5269 祥碩\n",
            "6409 旭隼\n",
            "6415 矽力-KY\n",
            "1590 亞德客-KY\n",
            "1476 儒鴻\n",
            "2059 川湖\n",
            "2912 統一超\n",
            "2327 國巨\n",
            "2207 和泰車\n",
            "4137 麗豐-KY\n",
            "2231 為升\n",
            "8464 億豐\n",
            "6414 樺漢\n",
            "2454 聯發科\n",
            "8341 日友\n",
            "2049 上銀\n",
            "2474 可成\n",
            "2227 裕日車\n",
            "8454 富邦媒\n",
            "2395 研華\n",
            "2357 華碩\n",
            "3406 玉晶光\n",
            "2330 台積電\n",
            "2723 美食-KY\n",
            "3533 嘉澤\n",
            "1707 葡萄王\n",
            "3443 創意\n",
            "9910 豐泰\n",
            "1477 聚陽\n",
            "3665 貿聯-KY\n",
            "2492 華新科\n",
            "6452 康友-KY\n",
            "8422 可寧衛\n",
            "6666 羅麗芬-KY\n",
            "2379 瑞昱\n",
            "6504 南六\n",
            "3034 聯詠\n",
            "1537 廣隆\n",
            "1256 鮮活果汁-KY\n",
            "2439 美律\n",
            "3130 一零四\n",
            "9921 巨大\n",
            "2308 台達電\n",
            "6670 復盛應用\n",
            "4912 聯德控股-KY\n",
            "9914 美利達\n",
            "3413 京鼎\n",
            "1558 伸興\n",
            "2707 晶華\n",
            "8482 商億-KY\n",
            "1723 中碳\n",
            "6230 超眾\n",
            "8480 泰昇-KY\n",
            "4536 拓凱\n",
            "8070 長華\n",
            "4763 材料-KY\n",
            "4551 智伸科\n",
            "2239 英利-KY\n",
            "5288 豐祥-KY\n",
            "2360 致茂\n",
            "3532 台勝科\n",
            "1536 和大\n",
            "4438 廣越\n",
            "4943 康控-KY\n",
            "4766 南寶\n",
            "4190 佐登-KY\n",
            "5871 中租-KY\n",
            "6464 台數科\n",
            "3026 禾伸堂\n",
            "6271 同欣電\n",
            "8016 矽創\n",
            "3045 台灣大\n",
            "6505 台塑化\n",
            "2412 中華電\n",
            "8114 振樺電\n",
            "6456 GIS-KY\n",
            "1326 台化\n",
            "6552 易華電\n",
            "1760 寶齡富錦\n",
            "2345 智邦\n",
            "6533 晶心科\n",
            "1301 台塑\n",
            "3454 晶睿\n",
            "6581 鋼聯\n",
            "2939 凱羿-KY\n",
            "9941 裕融\n",
            "1232 大統益\n",
            "5234 達興材料\n",
            "2404 漢唐\n",
            "4739 康普\n",
            "3708 上緯投控\n",
            "2496 卓越\n",
            "6277 宏正\n",
            "8499 鼎炫-KY\n",
            "6416 瑞祺電通\n",
            "3530 晶相光\n",
            "2373 震旦行\n",
            "3376 新日興\n",
            "2731 雄獅\n"
          ],
          "name": "stdout"
        }
      ]
    },
    {
      "metadata": {
        "id": "skOFlIEHVuK_",
        "colab_type": "code",
        "colab": {}
      },
      "cell_type": "code",
      "source": [
        "from pyquery import PyQuery as pq\n",
        "\n",
        "yahoo_stock_url = \"https://tw.stock.yahoo.com/d/i/rank.php?t=pri&e=tse&n=100\"\n",
        "doc = pq(yahoo_stock_url)"
      ],
      "execution_count": 0,
      "outputs": []
    },
    {
      "metadata": {
        "id": "cSVX3KitWo--",
        "colab_type": "code",
        "outputId": "99998968-f3c6-4508-bdaa-576b5e536921",
        "colab": {
          "base_uri": "https://localhost:8080/",
          "height": 54
        }
      },
      "cell_type": "code",
      "source": [
        "ticker_company_css = \".name a\"\n",
        "price_css = \".name+ td\"\n",
        "ticker_company = [e.text for e in doc(ticker_company_css)]\n",
        "print(ticker_company)"
      ],
      "execution_count": 0,
      "outputs": [
        {
          "output_type": "stream",
          "text": [
            "['3008 大立光', '5269 祥碩', '6409 旭隼', '6415 矽力-KY', '1590 亞德客-KY', '1476 儒鴻', '2059 川湖', '2912 統一超', '2327 國巨', '2207 和泰車', '4137 麗豐-KY', '2231 為升', '8464 億豐', '6414 樺漢', '2454 聯發科', '8341 日友', '2049 上銀', '2474 可成', '2227 裕日車', '8454 富邦媒', '2395 研華', '2357 華碩', '3406 玉晶光', '2330 台積電', '2723 美食-KY', '3533 嘉澤', '1707 葡萄王', '3443 創意', '9910 豐泰', '1477 聚陽', '3665 貿聯-KY', '2492 華新科', '6452 康友-KY', '8422 可寧衛', '6666 羅麗芬-KY', '2379 瑞昱', '6504 南六', '3034 聯詠', '1537 廣隆', '1256 鮮活果汁-KY', '2439 美律', '3130 一零四', '9921 巨大', '2308 台達電', '6670 復盛應用', '4912 聯德控股-KY', '9914 美利達', '3413 京鼎', '1558 伸興', '2707 晶華', '8482 商億-KY', '1723 中碳', '6230 超眾', '8480 泰昇-KY', '4536 拓凱', '8070 長華', '4763 材料-KY', '4551 智伸科', '2239 英利-KY', '5288 豐祥-KY', '2360 致茂', '3532 台勝科', '1536 和大', '4438 廣越', '4943 康控-KY', '4766 南寶', '4190 佐登-KY', '5871 中租-KY', '6464 台數科', '3026 禾伸堂', '6271 同欣電', '8016 矽創', '3045 台灣大', '6505 台塑化', '2412 中華電', '8114 振樺電', '6456 GIS-KY', '1326 台化', '6552 易華電', '1760 寶齡富錦', '2345 智邦', '6533 晶心科', '1301 台塑', '3454 晶睿', '6581 鋼聯', '2939 凱羿-KY', '9941 裕融', '1232 大統益', '5234 達興材料', '2404 漢唐', '4739 康普', '3708 上緯投控', '2496 卓越', '6277 宏正', '8499 鼎炫-KY', '6416 瑞祺電通', '3530 晶相光', '2373 震旦行', '3376 新日興', '2731 雄獅']\n"
          ],
          "name": "stdout"
        }
      ]
    },
    {
      "metadata": {
        "id": "t-_6GUbSWubL",
        "colab_type": "code",
        "outputId": "8806ef7c-28ef-47e0-b880-12d33882129c",
        "colab": {
          "base_uri": "https://localhost:8080/",
          "height": 54
        }
      },
      "cell_type": "code",
      "source": [
        "price = [float(e.text) for e in doc(price_css)]\n",
        "print(price)"
      ],
      "execution_count": 0,
      "outputs": [
        {
          "output_type": "stream",
          "text": [
            "[3780.0, 553.0, 531.0, 443.5, 361.0, 345.0, 340.0, 323.0, 321.0, 290.0, 283.5, 273.0, 262.0, 249.0, 245.5, 245.0, 243.0, 230.5, 229.5, 226.0, 226.0, 226.0, 225.5, 222.5, 210.5, 210.0, 210.0, 202.0, 190.5, 186.5, 181.0, 171.5, 170.5, 170.0, 168.5, 160.0, 158.5, 157.0, 157.0, 155.0, 155.0, 155.0, 152.0, 149.0, 148.5, 148.0, 148.0, 141.0, 138.5, 137.0, 136.0, 135.5, 135.5, 134.0, 132.0, 131.0, 130.0, 129.0, 125.0, 123.0, 121.5, 120.5, 119.5, 117.0, 116.5, 114.5, 114.0, 112.0, 112.0, 110.5, 110.0, 110.0, 109.0, 108.5, 107.0, 106.5, 106.5, 106.0, 105.5, 105.0, 104.0, 101.0, 101.0, 101.0, 100.0, 100.0, 99.8, 99.7, 94.9, 94.3, 93.8, 93.3, 92.9, 92.5, 92.3, 91.6, 90.8, 89.5, 88.9, 87.3]\n"
          ],
          "name": "stdout"
        }
      ]
    },
    {
      "metadata": {
        "id": "o7_ktv1UZuXn",
        "colab_type": "code",
        "outputId": "af12291f-9aab-44e6-8316-c6595d6cf55c",
        "colab": {
          "base_uri": "https://localhost:8080/",
          "height": 121
        }
      },
      "cell_type": "code",
      "source": [
        "# 將 ticker_company 拆開成 ticker / company 兩個 list\n",
        "# str.split()\n",
        "ticker = [i.split()[0] for i in ticker_company]\n",
        "company = [i.split()[1] for i in ticker_company]\n",
        "print(ticker)\n",
        "print(company)\n",
        "# 將 -KY 的資料挑出來 ticker_ky / company_ky / price_ky\n",
        "# in\n",
        "ticker_ky, company_ky, price_ky = [], [], []\n",
        "for i in range(len(company)):\n",
        "  if \"KY\" in company[i]:\n",
        "    ticker_ky.append(ticker[i])\n",
        "    company_ky.append(company[i])\n",
        "    price_ky.append(price[i])\n",
        "    \n",
        "print(ticker_ky)\n",
        "print(company_ky)\n",
        "print(price_ky)"
      ],
      "execution_count": 0,
      "outputs": [
        {
          "output_type": "stream",
          "text": [
            "['3008', '5269', '6409', '6415', '1590', '1476', '2059', '2912', '2327', '2207', '4137', '2231', '8464', '6414', '2454', '8341', '2049', '2474', '2227', '8454', '2395', '2357', '3406', '2330', '2723', '3533', '1707', '3443', '9910', '1477', '3665', '2492', '6452', '8422', '6666', '2379', '6504', '3034', '1537', '1256', '2439', '3130', '9921', '2308', '6670', '4912', '9914', '3413', '1558', '2707', '8482', '1723', '6230', '8480', '4536', '8070', '4763', '4551', '2239', '5288', '2360', '3532', '1536', '4438', '4943', '4766', '4190', '5871', '6464', '3026', '6271', '8016', '3045', '6505', '2412', '8114', '6456', '1326', '6552', '1760', '2345', '6533', '1301', '3454', '6581', '2939', '9941', '1232', '5234', '2404', '4739', '3708', '2496', '6277', '8499', '6416', '3530', '2373', '3376', '2731']\n",
            "['大立光', '祥碩', '旭隼', '矽力-KY', '亞德客-KY', '儒鴻', '川湖', '統一超', '國巨', '和泰車', '麗豐-KY', '為升', '億豐', '樺漢', '聯發科', '日友', '上銀', '可成', '裕日車', '富邦媒', '研華', '華碩', '玉晶光', '台積電', '美食-KY', '嘉澤', '葡萄王', '創意', '豐泰', '聚陽', '貿聯-KY', '華新科', '康友-KY', '可寧衛', '羅麗芬-KY', '瑞昱', '南六', '聯詠', '廣隆', '鮮活果汁-KY', '美律', '一零四', '巨大', '台達電', '復盛應用', '聯德控股-KY', '美利達', '京鼎', '伸興', '晶華', '商億-KY', '中碳', '超眾', '泰昇-KY', '拓凱', '長華', '材料-KY', '智伸科', '英利-KY', '豐祥-KY', '致茂', '台勝科', '和大', '廣越', '康控-KY', '南寶', '佐登-KY', '中租-KY', '台數科', '禾伸堂', '同欣電', '矽創', '台灣大', '台塑化', '中華電', '振樺電', 'GIS-KY', '台化', '易華電', '寶齡富錦', '智邦', '晶心科', '台塑', '晶睿', '鋼聯', '凱羿-KY', '裕融', '大統益', '達興材料', '漢唐', '康普', '上緯投控', '卓越', '宏正', '鼎炫-KY', '瑞祺電通', '晶相光', '震旦行', '新日興', '雄獅']\n",
            "['6415', '1590', '4137', '2723', '3665', '6452', '6666', '1256', '4912', '8482', '8480', '4763', '2239', '5288', '4943', '4190', '5871', '6456', '2939', '8499']\n",
            "['矽力-KY', '亞德客-KY', '麗豐-KY', '美食-KY', '貿聯-KY', '康友-KY', '羅麗芬-KY', '鮮活果汁-KY', '聯德控股-KY', '商億-KY', '泰昇-KY', '材料-KY', '英利-KY', '豐祥-KY', '康控-KY', '佐登-KY', '中租-KY', 'GIS-KY', '凱羿-KY', '鼎炫-KY']\n",
            "[443.5, 361.0, 283.5, 210.5, 181.0, 170.5, 168.5, 155.0, 148.0, 136.0, 134.0, 130.0, 125.0, 123.0, 116.5, 114.0, 112.0, 106.5, 100.0, 92.3]\n"
          ],
          "name": "stdout"
        }
      ]
    },
    {
      "metadata": {
        "id": "U0vSvqh1osJp",
        "colab_type": "code",
        "colab": {}
      },
      "cell_type": "code",
      "source": [
        "from pyquery import PyQuery as pq\n",
        "\n",
        "movie_url = \"https://www.imdb.com/title/tt4779682\"\n",
        "doc = pq(movie_url)"
      ],
      "execution_count": 0,
      "outputs": []
    },
    {
      "metadata": {
        "id": "CY500Dquq9AD",
        "colab_type": "code",
        "outputId": "2e30d961-96a3-48b4-968f-335d5b2574ec",
        "colab": {
          "base_uri": "https://localhost:8080/",
          "height": 87
        }
      },
      "cell_type": "code",
      "source": [
        "rating_css = \"strong span\"\n",
        "time_css = \"time\"\n",
        "cast_css = \".primary_photo+ td a\"\n",
        "rating = float(doc(rating_css).text())\n",
        "movie_time = [e.text() for e in doc(time_css).items()]\n",
        "cast = [e.text() for e in doc(cast_css).items()]\n",
        "movie_dict = {\n",
        "    'The Meg': {\n",
        "        \"rating\": rating,\n",
        "        \"movieTime\": movie_time,\n",
        "        \"cast\": cast\n",
        "    }\n",
        "}\n",
        "for k in movie_dict.keys():\n",
        "  for v in movie_dict[k].values():\n",
        "    print(v)"
      ],
      "execution_count": 0,
      "outputs": [
        {
          "output_type": "stream",
          "text": [
            "5.7\n",
            "['1h 53min', '113 min']\n",
            "['Jason Statham', 'Bingbing Li', 'Rainn Wilson', 'Cliff Curtis', 'Winston Chao', 'Shuya Sophia Cai', 'Ruby Rose', 'Page Kennedy', 'Robert Taylor', 'Ólafur Darri Ólafsson', 'Jessica McNamee', 'Masi Oka', 'Raymond Vinten', 'Hongmei Mai', 'Wei Yi']\n"
          ],
          "name": "stdout"
        }
      ]
    },
    {
      "metadata": {
        "id": "hrmrHm9PsuGf",
        "colab_type": "code",
        "colab": {}
      },
      "cell_type": "code",
      "source": [
        "def get_movie_info(movie_url):\n",
        "  doc = pq(movie_url)\n",
        "  rating_css = \"strong span\"\n",
        "  time_css = \"time\"\n",
        "  cast_css = \".primary_photo+ td a\"\n",
        "  rating = float(doc(rating_css).text())\n",
        "  movie_time = [e.text() for e in doc(time_css).items()]\n",
        "  cast = [e.text() for e in doc(cast_css).items()]\n",
        "  movie_dict = {\n",
        "      \"rating\": rating,\n",
        "      \"movieTime\": movie_time,\n",
        "      \"cast\": cast\n",
        "  }\n",
        "  return movie_dict"
      ],
      "execution_count": 0,
      "outputs": []
    },
    {
      "metadata": {
        "id": "NhiTn4cZzvHi",
        "colab_type": "code",
        "outputId": "2dc77ca6-a26a-47ad-aed2-130ee0204890",
        "colab": {
          "base_uri": "https://localhost:8080/",
          "height": 302
        }
      },
      "cell_type": "code",
      "source": [
        "get_movie_info(\"https://www.imdb.com/title/tt7349662\")"
      ],
      "execution_count": 0,
      "outputs": [
        {
          "output_type": "execute_result",
          "data": {
            "text/plain": [
              "{'cast': ['Alec Baldwin',\n",
              "  'John David Washington',\n",
              "  'Isiah Whitlock Jr.',\n",
              "  'Robert John Burke',\n",
              "  'Brian Tarantina',\n",
              "  'Arthur J. Nascarella',\n",
              "  'Ken Garito',\n",
              "  'Frederick Weller',\n",
              "  'Adam Driver',\n",
              "  'Michael Buscemi',\n",
              "  'Laura Harrier',\n",
              "  'Damaris Lewis',\n",
              "  'Ato Blankson-Wood',\n",
              "  'Corey Hawkins',\n",
              "  'Dared Wright'],\n",
              " 'movieTime': ['2h 15min', '135 min'],\n",
              " 'rating': 7.5}"
            ]
          },
          "metadata": {
            "tags": []
          },
          "execution_count": 72
        }
      ]
    },
    {
      "metadata": {
        "id": "uOvorzDEz6s2",
        "colab_type": "code",
        "outputId": "bc5b5fde-587a-47d9-e10c-9b7acef753f0",
        "colab": {
          "base_uri": "https://localhost:8080/",
          "height": 302
        }
      },
      "cell_type": "code",
      "source": [
        "get_movie_info(\"https://www.imdb.com/title/tt6628394\")"
      ],
      "execution_count": 0,
      "outputs": [
        {
          "output_type": "execute_result",
          "data": {
            "text/plain": [
              "{'cast': ['Jeff Bridges',\n",
              "  'Cynthia Erivo',\n",
              "  'Dakota Johnson',\n",
              "  'Jon Hamm',\n",
              "  'Chris Hemsworth',\n",
              "  'Cailee Spaeny',\n",
              "  'Lewis Pullman',\n",
              "  'Nick Offerman',\n",
              "  'Xavier Dolan',\n",
              "  'Shea Whigham',\n",
              "  \"Mark O'Brien\",\n",
              "  'Charles Halford',\n",
              "  \"Jim O'Heir\",\n",
              "  'Gerry Nairn',\n",
              "  'Alvina August'],\n",
              " 'movieTime': ['2h 21min', '141 min'],\n",
              " 'rating': 7.2}"
            ]
          },
          "metadata": {
            "tags": []
          },
          "execution_count": 73
        }
      ]
    },
    {
      "metadata": {
        "id": "xjiwgjkY072h",
        "colab_type": "code",
        "outputId": "cde99712-6833-46ad-9027-c59c9efc6db6",
        "colab": {
          "base_uri": "https://localhost:8080/",
          "height": 34
        }
      },
      "cell_type": "code",
      "source": [
        "from urllib.parse import quote_plus\n",
        "\n",
        "movie_title = \"la la land\"\n",
        "query_str = quote_plus(movie_title)\n",
        "query_result_url = \"https://www.imdb.com/find?q={}&s=tt&ttype=ft&ref_=fn_ft\".format(query_str)\n",
        "print(query_result_url)"
      ],
      "execution_count": 0,
      "outputs": [
        {
          "output_type": "stream",
          "text": [
            "https://www.imdb.com/find?q=la+la+land&s=tt&ttype=ft&ref_=fn_ft\n"
          ],
          "name": "stdout"
        }
      ]
    },
    {
      "metadata": {
        "id": "8NGOBHho2qZO",
        "colab_type": "code",
        "outputId": "351a3342-efc9-40ba-ce37-5d0d76bbfac3",
        "colab": {
          "base_uri": "https://localhost:8080/",
          "height": 319
        }
      },
      "cell_type": "code",
      "source": [
        "doc = pq(query_result_url)\n",
        "href = doc(\".odd:nth-child(1) .result_text a\").attr(\"href\")\n",
        "movie_url = \"https://www.imdb.com\" + href\n",
        "print(movie_url)\n",
        "get_movie_info(movie_url)"
      ],
      "execution_count": 0,
      "outputs": [
        {
          "output_type": "stream",
          "text": [
            "https://www.imdb.com/title/tt3783958/?ref_=fn_ft_tt_1\n"
          ],
          "name": "stdout"
        },
        {
          "output_type": "execute_result",
          "data": {
            "text/plain": [
              "{'cast': ['Ryan Gosling',\n",
              "  'Emma Stone',\n",
              "  'Amiée Conn',\n",
              "  'Terry Walters',\n",
              "  'Thom Shelton',\n",
              "  'Cinda Adams',\n",
              "  'Callie Hernandez',\n",
              "  'Jessica Rothe',\n",
              "  'Sonoya Mizuno',\n",
              "  'Rosemarie DeWitt',\n",
              "  'J.K. Simmons',\n",
              "  'Claudine Claudio',\n",
              "  'Jason Fuchs',\n",
              "  'D.A. Wallach',\n",
              "  'Trevor Lissauer'],\n",
              " 'movieTime': ['2h 8min', '128 min'],\n",
              " 'rating': 8.0}"
            ]
          },
          "metadata": {
            "tags": []
          },
          "execution_count": 87
        }
      ]
    },
    {
      "metadata": {
        "id": "FKB9Xdil35_7",
        "colab_type": "code",
        "outputId": "495e9402-a0f8-4faf-e05b-f2dfcf677433",
        "colab": {
          "base_uri": "https://localhost:8080/",
          "height": 34
        }
      },
      "cell_type": "code",
      "source": [
        "p = pq('<p id=\"hello\" class=\"world\" href=\"movie_url\"></p>')('p')\n",
        "p.attr(\"href\")"
      ],
      "execution_count": 0,
      "outputs": [
        {
          "output_type": "execute_result",
          "data": {
            "text/plain": [
              "'movie_url'"
            ]
          },
          "metadata": {
            "tags": []
          },
          "execution_count": 84
        }
      ]
    },
    {
      "metadata": {
        "id": "CxYxKYndZE56",
        "colab_type": "code",
        "outputId": "5bfbd91d-673a-4e5a-acb1-2992c6a2b291",
        "colab": {
          "base_uri": "https://localhost:8080/",
          "height": 34
        }
      },
      "cell_type": "code",
      "source": [
        "import datetime\n",
        "\n",
        "print(datetime.datetime.now())"
      ],
      "execution_count": 0,
      "outputs": [
        {
          "output_type": "stream",
          "text": [
            "2019-01-30 06:15:22.380797\n"
          ],
          "name": "stdout"
        }
      ]
    },
    {
      "metadata": {
        "id": "9-cnwmpNZtrB",
        "colab_type": "code",
        "outputId": "dd7ca264-b9b1-4fe2-8fc7-feb5f6559f8d",
        "colab": {
          "base_uri": "https://localhost:8080/",
          "height": 154
        }
      },
      "cell_type": "code",
      "source": [
        "!pip install pyquery"
      ],
      "execution_count": 0,
      "outputs": [
        {
          "output_type": "stream",
          "text": [
            "Collecting pyquery\n",
            "  Downloading https://files.pythonhosted.org/packages/09/c7/ce8c9c37ab8ff8337faad3335c088d60bed4a35a4bed33a64f0e64fbcf29/pyquery-1.4.0-py2.py3-none-any.whl\n",
            "Collecting cssselect>0.7.9 (from pyquery)\n",
            "  Downloading https://files.pythonhosted.org/packages/7b/44/25b7283e50585f0b4156960691d951b05d061abf4a714078393e51929b30/cssselect-1.0.3-py2.py3-none-any.whl\n",
            "Requirement already satisfied: lxml>=2.1 in /usr/local/lib/python3.6/dist-packages (from pyquery) (4.2.6)\n",
            "Installing collected packages: cssselect, pyquery\n",
            "Successfully installed cssselect-1.0.3 pyquery-1.4.0\n"
          ],
          "name": "stdout"
        }
      ]
    },
    {
      "metadata": {
        "id": "q9wIlW9N5PAN",
        "colab_type": "code",
        "outputId": "b0e735fa-c6d5-4bb1-f928-403539121fc4",
        "colab": {
          "base_uri": "https://localhost:8080/",
          "height": 655
        }
      },
      "cell_type": "code",
      "source": [
        "from pyquery import PyQuery as pq\n",
        "\n",
        "china_airline_movie_url = \"http://www.fantasy-sky.com/ContentList.aspx?section=002\"\n",
        "doc = pq(china_airline_movie_url)\n",
        "print(doc(\".movies-name\"))"
      ],
      "execution_count": 0,
      "outputs": [
        {
          "output_type": "stream",
          "text": [
            "<h4 class=\"movies-name\">黑色黨徒</h4>&#13;\n",
            "                            <h4 class=\"movies-name\">壞事大飯店</h4>&#13;\n",
            "                            <h4 class=\"movies-name\">滴答屋</h4>&#13;\n",
            "                            <h4 class=\"movies-name\">聖誕頌歌</h4>&#13;\n",
            "                            <h4 class=\"movies-name\">拳力逃脫</h4>&#13;\n",
            "                            <h4 class=\"movies-name\">猛毒</h4>&#13;\n",
            "                            <h4 class=\"movies-name\">血薄荷</h4>&#13;\n",
            "                            <h4 class=\"movies-name\">小腳怪</h4>&#13;\n",
            "                            <h4 class=\"movies-name\">摯友維尼</h4>&#13;\n",
            "                            <h4 class=\"movies-name\">惡魔島</h4>&#13;\n",
            "                            <h4 class=\"movies-name\">人肉搜索</h4>&#13;\n",
            "                            <h4 class=\"movies-name\">終極戰士：掠奪者</h4>&#13;\n",
            "                            <h4 class=\"movies-name\">巨齒鯊</h4>&#13;\n",
            "                            <h4 class=\"movies-name\">紅盒子</h4>&#13;\n",
            "                            <h4 class=\"movies-name\">黃金兄弟</h4>&#13;\n",
            "                            <h4 class=\"movies-name\">一出好戲</h4>&#13;\n",
            "                            <h4 class=\"movies-name\">狄仁傑之四大天王</h4>&#13;\n",
            "                            <h4 class=\"movies-name\">角頭2：王者再起</h4>&#13;\n",
            "                            <h4 class=\"movies-name\">暴雪將至</h4>&#13;\n",
            "                            <h4 class=\"movies-name\">脫皮爸爸</h4>&#13;\n",
            "                            <h4 class=\"movies-name\">退而不休</h4>&#13;\n",
            "                            <h4 class=\"movies-name\">密戰</h4>&#13;\n",
            "                            <h4 class=\"movies-name\">L風暴</h4>&#13;\n",
            "                            <h4 class=\"movies-name\">銀魂2</h4>&#13;\n",
            "                            <h4 class=\"movies-name\">陪睡大人</h4>&#13;\n",
            "                            <h4 class=\"movies-name\">電影哆啦A夢：大雄的金銀島</h4>&#13;\n",
            "                            <h4 class=\"movies-name\">市長夫人的秘密</h4>&#13;\n",
            "                            <h4 class=\"movies-name\">家族真命苦3</h4>&#13;\n",
            "                            <h4 class=\"movies-name\">切小金家的旅館</h4>&#13;\n",
            "                            <h4 class=\"movies-name\">隱藏的大明星</h4>&#13;\n",
            "                            <h4 class=\"movies-name\">物怪</h4>&#13;\n",
            "                            <h4 class=\"movies-name\">北風</h4>&#13;\n",
            "                            <h4 class=\"movies-name\">把哥哥退貨可以嗎</h4>&#13;\n",
            "                            <h4 class=\"movies-name\">家戰</h4>&#13;\n",
            "                            <h4 class=\"movies-name\">與神同行：最終審判</h4>&#13;\n",
            "                            <h4 class=\"movies-name\">永遠的朋友：靈犬貝兒</h4>&#13;\n",
            "                            <h4 class=\"movies-name\">猛虎還活著</h4>&#13;\n",
            "                            \n"
          ],
          "name": "stdout"
        }
      ]
    },
    {
      "metadata": {
        "id": "mu38OJMvgFFx",
        "colab_type": "text"
      },
      "cell_type": "markdown",
      "source": [
        "請同學找出華航機上電影的 Top 5 IMDB rating 電影名稱、評等"
      ]
    },
    {
      "metadata": {
        "id": "6Ul5zuNnbrAA",
        "colab_type": "code",
        "colab": {}
      },
      "cell_type": "code",
      "source": [
        "import requests\n",
        "from pyquery import PyQuery as pq\n",
        "\n",
        "def get_movie_titles_from_ci():\n",
        "  lang_cookies = {\n",
        "      \"COOKIE_LANGUAGE\": \"en\"\n",
        "  }\n",
        "  china_airline_movie_url = \"http://www.fantasy-sky.com/ContentList.aspx?section=002&category=0020\"\n",
        "  movie_title_urls = [china_airline_movie_url + str(i) for i in range(1, 5)]\n",
        "  all_movie_titles = []\n",
        "  for mtu in movie_title_urls:\n",
        "    response = requests.get(mtu, cookies=lang_cookies)\n",
        "    doc_str = response.text\n",
        "    doc = pq(doc_str)\n",
        "    movie_titles = [e.text() for e in doc(\".movies-name\").items()]\n",
        "    all_movie_titles += movie_titles\n",
        "  return all_movie_titles"
      ],
      "execution_count": 0,
      "outputs": []
    },
    {
      "metadata": {
        "id": "w55edfLNfa1Y",
        "colab_type": "code",
        "colab": {}
      },
      "cell_type": "code",
      "source": [
        "from urllib.parse import quote_plus\n",
        "\n",
        "def get_movie_url(movie_title):\n",
        "  query_str = quote_plus(movie_title)\n",
        "  query_result_url = \"https://www.imdb.com/find?q={}&s=tt&ttype=ft&ref_=fn_ft\".format(query_str)\n",
        "  doc = pq(query_result_url)\n",
        "  try:\n",
        "    href = doc(\".odd:nth-child(1) .result_text a\").attr(\"href\")\n",
        "    movie_url = \"https://www.imdb.com\" + href\n",
        "  except:\n",
        "    movie_url = None\n",
        "  return movie_url"
      ],
      "execution_count": 0,
      "outputs": []
    },
    {
      "metadata": {
        "id": "q9hVrAvGf-aV",
        "colab_type": "code",
        "colab": {}
      },
      "cell_type": "code",
      "source": [
        "def get_movie_info(movie_url):\n",
        "  doc = pq(movie_url)\n",
        "  rating_css = \"strong span\"\n",
        "  time_css = \"time\"\n",
        "  cast_css = \".primary_photo+ td a\"\n",
        "  rating = float(doc(rating_css).text())\n",
        "  movie_time = [e.text() for e in doc(time_css).items()]\n",
        "  cast = [e.text() for e in doc(cast_css).items()]\n",
        "  movie_dict = {\n",
        "      \"rating\": rating,\n",
        "      \"movieTime\": movie_time,\n",
        "      \"cast\": cast\n",
        "  }\n",
        "  return movie_dict"
      ],
      "execution_count": 0,
      "outputs": []
    },
    {
      "metadata": {
        "id": "GNeiLG3rcpGE",
        "colab_type": "code",
        "colab": {}
      },
      "cell_type": "code",
      "source": [
        "ci_movie_titles = get_movie_titles_from_ci()\n",
        "how_many_movies = len(ci_movie_titles)"
      ],
      "execution_count": 0,
      "outputs": []
    },
    {
      "metadata": {
        "id": "V3kF4co9eWnK",
        "colab_type": "code",
        "outputId": "0c90e144-b55c-4833-b870-d71e971cc960",
        "colab": {
          "base_uri": "https://localhost:8080/",
          "height": 8484
        }
      },
      "cell_type": "code",
      "source": [
        "ci_all_movie_urls = []\n",
        "ci_all_movie_titles = []\n",
        "for i, movie_title in enumerate(ci_movie_titles):\n",
        "  if get_movie_url(movie_title) == None:\n",
        "    continue\n",
        "  else:\n",
        "    print(\"現在正在轉換 {} 名稱成為網址...\".format(movie_title))\n",
        "    print(\"還剩下 {} 個電影名稱待轉...\".format(how_many_movies - (i+1)))\n",
        "    print(\"=========\")\n",
        "    movie_url = get_movie_url(movie_title)\n",
        "    ci_all_movie_urls.append(movie_url)\n",
        "    ci_all_movie_titles.append(movie_title)"
      ],
      "execution_count": 0,
      "outputs": [
        {
          "output_type": "stream",
          "text": [
            "現在正在轉換 BlacKkKlansman 名稱成為網址...\n",
            "還剩下 169 個電影名稱待轉...\n",
            "=========\n",
            "現在正在轉換 Bad Times at the El Royale 名稱成為網址...\n",
            "還剩下 168 個電影名稱待轉...\n",
            "=========\n",
            "現在正在轉換 The House with a Clock in its Walls 名稱成為網址...\n",
            "還剩下 167 個電影名稱待轉...\n",
            "=========\n",
            "現在正在轉換 The Man Who Invented Christmas 名稱成為網址...\n",
            "還剩下 166 個電影名稱待轉...\n",
            "=========\n",
            "現在正在轉換 Mile 22 名稱成為網址...\n",
            "還剩下 165 個電影名稱待轉...\n",
            "=========\n",
            "現在正在轉換 Venom 名稱成為網址...\n",
            "還剩下 164 個電影名稱待轉...\n",
            "=========\n",
            "現在正在轉換 Peppermint 名稱成為網址...\n",
            "還剩下 163 個電影名稱待轉...\n",
            "=========\n",
            "現在正在轉換 Smallfoot 名稱成為網址...\n",
            "還剩下 162 個電影名稱待轉...\n",
            "=========\n",
            "現在正在轉換 Christopher Robin 名稱成為網址...\n",
            "還剩下 161 個電影名稱待轉...\n",
            "=========\n",
            "現在正在轉換 Papillon 名稱成為網址...\n",
            "還剩下 160 個電影名稱待轉...\n",
            "=========\n",
            "現在正在轉換 Searching 名稱成為網址...\n",
            "還剩下 159 個電影名稱待轉...\n",
            "=========\n",
            "現在正在轉換 The Predator 名稱成為網址...\n",
            "還剩下 158 個電影名稱待轉...\n",
            "=========\n",
            "現在正在轉換 The Meg 名稱成為網址...\n",
            "還剩下 157 個電影名稱待轉...\n",
            "=========\n",
            "現在正在轉換 Father 名稱成為網址...\n",
            "還剩下 156 個電影名稱待轉...\n",
            "=========\n",
            "現在正在轉換 Golden Job 名稱成為網址...\n",
            "還剩下 155 個電影名稱待轉...\n",
            "=========\n",
            "現在正在轉換 The Island 名稱成為網址...\n",
            "還剩下 154 個電影名稱待轉...\n",
            "=========\n",
            "現在正在轉換 Detective Dee: The Four Heavenly Kings 名稱成為網址...\n",
            "還剩下 153 個電影名稱待轉...\n",
            "=========\n",
            "現在正在轉換 The Looming Storm 名稱成為網址...\n",
            "還剩下 151 個電影名稱待轉...\n",
            "=========\n",
            "現在正在轉換 Shed Skin Papa 名稱成為網址...\n",
            "還剩下 150 個電影名稱待轉...\n",
            "=========\n",
            "現在正在轉換 Life in Overtime 名稱成為網址...\n",
            "還剩下 149 個電影名稱待轉...\n",
            "=========\n",
            "現在正在轉換 Eternal Wave 名稱成為網址...\n",
            "還剩下 148 個電影名稱待轉...\n",
            "=========\n",
            "現在正在轉換 L Storm 名稱成為網址...\n",
            "還剩下 147 個電影名稱待轉...\n",
            "=========\n",
            "現在正在轉換 Gintama 2 名稱成為網址...\n",
            "還剩下 146 個電影名稱待轉...\n",
            "=========\n",
            "現在正在轉換 Doraemon the Movie: Nobita's Treasure Island 名稱成為網址...\n",
            "還剩下 144 個電影名稱待轉...\n",
            "=========\n",
            "現在正在轉換 Let's Cheat Together 名稱成為網址...\n",
            "還剩下 143 個電影名稱待轉...\n",
            "=========\n",
            "現在正在轉換 What a Wonderful Family 3 My Wife, My Life 名稱成為網址...\n",
            "還剩下 142 個電影名稱待轉...\n",
            "=========\n",
            "現在正在轉換 Secrets in the Hot Spring 名稱成為網址...\n",
            "還剩下 141 個電影名稱待轉...\n",
            "=========\n",
            "現在正在轉換 Secret Superstar 名稱成為網址...\n",
            "還剩下 140 個電影名稱待轉...\n",
            "=========\n",
            "現在正在轉換 Monstrum 名稱成為網址...\n",
            "還剩下 139 個電影名稱待轉...\n",
            "=========\n",
            "現在正在轉換 The Spy Gone North 名稱成為網址...\n",
            "還剩下 138 個電影名稱待轉...\n",
            "=========\n",
            "現在正在轉換 Brother of the Year 名稱成為網址...\n",
            "還剩下 137 個電影名稱待轉...\n",
            "=========\n",
            "現在正在轉換 Custody 名稱成為網址...\n",
            "還剩下 136 個電影名稱待轉...\n",
            "=========\n",
            "現在正在轉換 Along With The Gods: The Last 49 Days 名稱成為網址...\n",
            "還剩下 135 個電影名稱待轉...\n",
            "=========\n",
            "現在正在轉換 Belle and Sebastian, Friends for Life 名稱成為網址...\n",
            "還剩下 134 個電影名稱待轉...\n",
            "=========\n",
            "現在正在轉換 Tiger Zinda Hai 名稱成為網址...\n",
            "還剩下 133 個電影名稱待轉...\n",
            "=========\n",
            "現在正在轉換 Trolls 名稱成為網址...\n",
            "還剩下 132 個電影名稱待轉...\n",
            "=========\n",
            "現在正在轉換 Turbo 名稱成為網址...\n",
            "還剩下 131 個電影名稱待轉...\n",
            "=========\n",
            "現在正在轉換 Yogi Bear 名稱成為網址...\n",
            "還剩下 130 個電影名稱待轉...\n",
            "=========\n",
            "現在正在轉換 Happy Feet Two 名稱成為網址...\n",
            "還剩下 129 個電影名稱待轉...\n",
            "=========\n",
            "現在正在轉換 Alvin and the Chipmunks: The Squeakquel 名稱成為網址...\n",
            "還剩下 128 個電影名稱待轉...\n",
            "=========\n",
            "現在正在轉換 Epic 名稱成為網址...\n",
            "還剩下 127 個電影名稱待轉...\n",
            "=========\n",
            "現在正在轉換 Hotel Transylvania 名稱成為網址...\n",
            "還剩下 126 個電影名稱待轉...\n",
            "=========\n",
            "現在正在轉換 Hotel Transylvania 2 名稱成為網址...\n",
            "還剩下 125 個電影名稱待轉...\n",
            "=========\n",
            "現在正在轉換 Ice Age: Continental Drift 名稱成為網址...\n",
            "還剩下 124 個電影名稱待轉...\n",
            "=========\n",
            "現在正在轉換 Mazinger Z: Infinity 名稱成為網址...\n",
            "還剩下 123 個電影名稱待轉...\n",
            "=========\n",
            "現在正在轉換 Rio 名稱成為網址...\n",
            "還剩下 122 個電影名稱待轉...\n",
            "=========\n",
            "現在正在轉換 Rio 2 名稱成為網址...\n",
            "還剩下 121 個電影名稱待轉...\n",
            "=========\n",
            "現在正在轉換 Monster Hunt 2 名稱成為網址...\n",
            "還剩下 120 個電影名稱待轉...\n",
            "=========\n",
            "現在正在轉換 Initial D 名稱成為網址...\n",
            "還剩下 119 個電影名稱待轉...\n",
            "=========\n",
            "現在正在轉換 Animal World 名稱成為網址...\n",
            "還剩下 118 個電影名稱待轉...\n",
            "=========\n",
            "現在正在轉換 Kano 名稱成為網址...\n",
            "還剩下 117 個電影名稱待轉...\n",
            "=========\n",
            "現在正在轉換 Our Time Will Come 名稱成為網址...\n",
            "還剩下 116 個電影名稱待轉...\n",
            "=========\n",
            "現在正在轉換 Chasing the Dragon 名稱成為網址...\n",
            "還剩下 115 個電影名稱待轉...\n",
            "=========\n",
            "現在正在轉換 Angels Wear White 名稱成為網址...\n",
            "還剩下 114 個電影名稱待轉...\n",
            "=========\n",
            "現在正在轉換 The Place 名稱成為網址...\n",
            "還剩下 113 個電影名稱待轉...\n",
            "=========\n",
            "現在正在轉換 Namiya 名稱成為網址...\n",
            "還剩下 112 個電影名稱待轉...\n",
            "=========\n",
            "現在正在轉換 Soul Mate 名稱成為網址...\n",
            "還剩下 111 個電影名稱待轉...\n",
            "=========\n",
            "現在正在轉換 The Great Buddha + 名稱成為網址...\n",
            "還剩下 110 個電影名稱待轉...\n",
            "=========\n",
            "現在正在轉換 The Bold, The Corrupt, and the Beautiful 名稱成為網址...\n",
            "還剩下 109 個電影名稱待轉...\n",
            "=========\n",
            "現在正在轉換 Detective Chinatown 名稱成為網址...\n",
            "還剩下 108 個電影名稱待轉...\n",
            "=========\n",
            "現在正在轉換 Detective Chinatown 2 名稱成為網址...\n",
            "還剩下 107 個電影名稱待轉...\n",
            "=========\n",
            "現在正在轉換 Omotenashi 名稱成為網址...\n",
            "還剩下 106 個電影名稱待轉...\n",
            "=========\n",
            "現在正在轉換 Long Time No Sea 名稱成為網址...\n",
            "還剩下 105 個電影名稱待轉...\n",
            "=========\n",
            "現在正在轉換 The Leakers 名稱成為網址...\n",
            "還剩下 104 個電影名稱待轉...\n",
            "=========\n",
            "現在正在轉換 After the rain 名稱成為網址...\n",
            "還剩下 103 個電影名稱待轉...\n",
            "=========\n",
            "現在正在轉換 50 First Kisses 名稱成為網址...\n",
            "還剩下 102 個電影名稱待轉...\n",
            "=========\n",
            "現在正在轉換 On Happiness Road 名稱成為網址...\n",
            "還剩下 101 個電影名稱待轉...\n",
            "=========\n",
            "現在正在轉換 Last Winter, We Parted 名稱成為網址...\n",
            "還剩下 100 個電影名稱待轉...\n",
            "=========\n",
            "現在正在轉換 DESTINY: The Tale of Kamakura 名稱成為網址...\n",
            "還剩下 99 個電影名稱待轉...\n",
            "=========\n",
            "現在正在轉換 Laplace's Witch 名稱成為網址...\n",
            "還剩下 98 個電影名稱待轉...\n",
            "=========\n",
            "現在正在轉換 Color Me True 名稱成為網址...\n",
            "還剩下 97 個電影名稱待轉...\n",
            "=========\n",
            "現在正在轉換 Detective Conan: Zero the Enforcer 名稱成為網址...\n",
            "還剩下 96 個電影名稱待轉...\n",
            "=========\n",
            "現在正在轉換 Believer 名稱成為網址...\n",
            "還剩下 95 個電影名稱待轉...\n",
            "=========\n",
            "現在正在轉換 A Bag of Marbles 名稱成為網址...\n",
            "還剩下 94 個電影名稱待轉...\n",
            "=========\n",
            "現在正在轉換 The Scythian Lamb 名稱成為網址...\n",
            "還剩下 93 個電影名稱待轉...\n",
            "=========\n",
            "現在正在轉換 Master 名稱成為網址...\n",
            "還剩下 92 個電影名稱待轉...\n",
            "=========\n",
            "現在正在轉換 Be With You 名稱成為網址...\n",
            "還剩下 91 個電影名稱待轉...\n",
            "=========\n",
            "現在正在轉換 Along With The Gods: The Two Worlds 名稱成為網址...\n",
            "還剩下 90 個電影名稱待轉...\n",
            "=========\n",
            "現在正在轉換 Champion 名稱成為網址...\n",
            "還剩下 89 個電影名稱待轉...\n",
            "=========\n",
            "現在正在轉換 The Trough 名稱成為網址...\n",
            "還剩下 88 個電影名稱待轉...\n",
            "=========\n",
            "現在正在轉換 Kofi 名稱成為網址...\n",
            "還剩下 87 個電影名稱待轉...\n",
            "=========\n",
            "現在正在轉換 What a Man Wants 名稱成為網址...\n",
            "還剩下 86 個電影名稱待轉...\n",
            "=========\n",
            "現在正在轉換 Keys To The Heart 名稱成為網址...\n",
            "還剩下 85 個電影名稱待轉...\n",
            "=========\n",
            "現在正在轉換 Golmaal Again 名稱成為網址...\n",
            "還剩下 84 個電影名稱待轉...\n",
            "=========\n",
            "現在正在轉換 Dr. Knock 名稱成為網址...\n",
            "還剩下 83 個電影名稱待轉...\n",
            "=========\n",
            "現在正在轉換 At the End of the Tunnel 名稱成為網址...\n",
            "還剩下 82 個電影名稱待轉...\n",
            "=========\n",
            "現在正在轉換 Jab Harry Met Sejal 名稱成為網址...\n",
            "還剩下 81 個電影名稱待轉...\n",
            "=========\n",
            "現在正在轉換 Les Tuche 2 名稱成為網址...\n",
            "還剩下 80 個電影名稱待轉...\n",
            "=========\n",
            "現在正在轉換 Monky 名稱成為網址...\n",
            "還剩下 79 個電影名稱待轉...\n",
            "=========\n",
            "現在正在轉換 ROCK'N ROLL 名稱成為網址...\n",
            "還剩下 78 個電影名稱待轉...\n",
            "=========\n",
            "現在正在轉換 The Together Project 名稱成為網址...\n",
            "還剩下 77 個電影名稱待轉...\n",
            "=========\n",
            "現在正在轉換 La La Land 名稱成為網址...\n",
            "還剩下 76 個電影名稱待轉...\n",
            "=========\n",
            "現在正在轉換 Les Misérables 名稱成為網址...\n",
            "還剩下 75 個電影名稱待轉...\n",
            "=========\n",
            "現在正在轉換 The Grand Budapest Hotel 名稱成為網址...\n",
            "還剩下 74 個電影名稱待轉...\n",
            "=========\n",
            "現在正在轉換 The Martian 名稱成為網址...\n",
            "還剩下 73 個電影名稱待轉...\n",
            "=========\n",
            "現在正在轉換 Three Billboards Outside Ebbing, Missouri 名稱成為網址...\n",
            "還剩下 72 個電影名稱待轉...\n",
            "=========\n",
            "現在正在轉換 Ant-Man and the Wasp 名稱成為網址...\n",
            "還剩下 71 個電影名稱待轉...\n",
            "=========\n",
            "現在正在轉換 Ant-Man 名稱成為網址...\n",
            "還剩下 70 個電影名稱待轉...\n",
            "=========\n",
            "現在正在轉換 Anna and The King 名稱成為網址...\n",
            "還剩下 69 個電影名稱待轉...\n",
            "=========\n",
            "現在正在轉換 300: Rise of an Empire 名稱成為網址...\n",
            "還剩下 68 個電影名稱待轉...\n",
            "=========\n",
            "現在正在轉換 500 Days of Summer 名稱成為網址...\n",
            "還剩下 67 個電影名稱待轉...\n",
            "=========\n",
            "現在正在轉換 American Pastoral 名稱成為網址...\n",
            "還剩下 66 個電影名稱待轉...\n",
            "=========\n",
            "現在正在轉換 Avatar 名稱成為網址...\n",
            "還剩下 65 個電影名稱待轉...\n",
            "=========\n",
            "現在正在轉換 Babel 名稱成為網址...\n",
            "還剩下 64 個電影名稱待轉...\n",
            "=========\n",
            "現在正在轉換 Batman v Superman: Dawn of Justice 名稱成為網址...\n",
            "還剩下 63 個電影名稱待轉...\n",
            "=========\n",
            "現在正在轉換 Birdman 名稱成為網址...\n",
            "還剩下 62 個電影名稱待轉...\n",
            "=========\n",
            "現在正在轉換 Black Mass 名稱成為網址...\n",
            "還剩下 61 個電影名稱待轉...\n",
            "=========\n",
            "現在正在轉換 Charlie and the Chocolate Factory 名稱成為網址...\n",
            "還剩下 60 個電影名稱待轉...\n",
            "=========\n",
            "現在正在轉換 CHIPS 名稱成為網址...\n",
            "還剩下 59 個電影名稱待轉...\n",
            "=========\n",
            "現在正在轉換 Chronicle 名稱成為網址...\n",
            "還剩下 58 個電影名稱待轉...\n",
            "=========\n",
            "現在正在轉換 Clash of the Titans 名稱成為網址...\n",
            "還剩下 57 個電影名稱待轉...\n",
            "=========\n",
            "現在正在轉換 Collateral Beauty 名稱成為網址...\n",
            "還剩下 56 個電影名稱待轉...\n",
            "=========\n",
            "現在正在轉換 Crazy Rich Asians 名稱成為網址...\n",
            "還剩下 55 個電影名稱待轉...\n",
            "=========\n",
            "現在正在轉換 Dark Shadows 名稱成為網址...\n",
            "還剩下 54 個電影名稱待轉...\n",
            "=========\n",
            "現在正在轉換 Date Night 名稱成為網址...\n",
            "還剩下 53 個電影名稱待轉...\n",
            "=========\n",
            "現在正在轉換 Deadpool 名稱成為網址...\n",
            "還剩下 52 個電影名稱待轉...\n",
            "=========\n",
            "現在正在轉換 Deadpool 2 名稱成為網址...\n",
            "還剩下 51 個電影名稱待轉...\n",
            "=========\n",
            "現在正在轉換 Entourage 名稱成為網址...\n",
            "還剩下 50 個電影名稱待轉...\n",
            "=========\n",
            "現在正在轉換 Gangster Squad 名稱成為網址...\n",
            "還剩下 49 個電影名稱待轉...\n",
            "=========\n",
            "現在正在轉換 Going In Style 名稱成為網址...\n",
            "還剩下 48 個電影名稱待轉...\n",
            "=========\n",
            "現在正在轉換 Marmaduke 名稱成為網址...\n",
            "還剩下 47 個電影名稱待轉...\n",
            "=========\n",
            "現在正在轉換 Gravity 名稱成為網址...\n",
            "還剩下 46 個電影名稱待轉...\n",
            "=========\n",
            "現在正在轉換 Green Lantern 名稱成為網址...\n",
            "還剩下 45 個電影名稱待轉...\n",
            "=========\n",
            "現在正在轉換 Gulliver's Travels 名稱成為網址...\n",
            "還剩下 44 個電影名稱待轉...\n",
            "=========\n",
            "現在正在轉換 Hail, Caesar! 名稱成為網址...\n",
            "還剩下 43 個電影名稱待轉...\n",
            "=========\n",
            "現在正在轉換 Hitchcock 名稱成為網址...\n",
            "還剩下 42 個電影名稱待轉...\n",
            "=========\n",
            "現在正在轉換 Hugo 名稱成為網址...\n",
            "還剩下 41 個電影名稱待轉...\n",
            "=========\n",
            "現在正在轉換 I Am Legend 名稱成為網址...\n",
            "還剩下 40 個電影名稱待轉...\n",
            "=========\n",
            "現在正在轉換 If I Stay 名稱成為網址...\n",
            "還剩下 39 個電影名稱待轉...\n",
            "=========\n",
            "現在正在轉換 King Kong 名稱成為網址...\n",
            "還剩下 38 個電影名稱待轉...\n",
            "=========\n",
            "現在正在轉換 Knight and Day 名稱成為網址...\n",
            "還剩下 37 個電影名稱待轉...\n",
            "=========\n",
            "現在正在轉換 Inception 名稱成為網址...\n",
            "還剩下 36 個電影名稱待轉...\n",
            "=========\n",
            "現在正在轉換 Live by Night 名稱成為網址...\n",
            "還剩下 35 個電影名稱待轉...\n",
            "=========\n",
            "現在正在轉換 Mad Max: Fury Road 名稱成為網址...\n",
            "還剩下 34 個電影名稱待轉...\n",
            "=========\n",
            "現在正在轉換 Gone Girl 名稱成為網址...\n",
            "還剩下 33 個電影名稱待轉...\n",
            "=========\n",
            "現在正在轉換 Hacksaw Ridge 名稱成為網址...\n",
            "還剩下 32 個電影名稱待轉...\n",
            "=========\n",
            "現在正在轉換 Jersey Boys 名稱成為網址...\n",
            "還剩下 31 個電影名稱待轉...\n",
            "=========\n",
            "現在正在轉換 Jurassic Park III 名稱成為網址...\n",
            "還剩下 30 個電影名稱待轉...\n",
            "=========\n",
            "現在正在轉換 Music and Lyrics 名稱成為網址...\n",
            "還剩下 29 個電影名稱待轉...\n",
            "=========\n",
            "現在正在轉換 My Sister's Keeper 名稱成為網址...\n",
            "還剩下 28 個電影名稱待轉...\n",
            "=========\n",
            "現在正在轉換 Man On A Ledge 名稱成為網址...\n",
            "還剩下 27 個電影名稱待轉...\n",
            "=========\n",
            "現在正在轉換 Maze Runner: The Scorch Trials 名稱成為網址...\n",
            "還剩下 26 個電影名稱待轉...\n",
            "=========\n",
            "現在正在轉換 Nerve 名稱成為網址...\n",
            "還剩下 25 個電影名稱待轉...\n",
            "=========\n",
            "現在正在轉換 Pacific Rim 名稱成為網址...\n",
            "還剩下 24 個電影名稱待轉...\n",
            "=========\n",
            "現在正在轉換 Paper Towns 名稱成為網址...\n",
            "還剩下 23 個電影名稱待轉...\n",
            "=========\n",
            "現在正在轉換 Run All Night 名稱成為網址...\n",
            "還剩下 22 個電影名稱待轉...\n",
            "=========\n",
            "現在正在轉換 The Darjeeling Limited 名稱成為網址...\n",
            "還剩下 21 個電影名稱待轉...\n",
            "=========\n",
            "現在正在轉換 Snatched 名稱成為網址...\n",
            "還剩下 20 個電影名稱待轉...\n",
            "=========\n",
            "現在正在轉換 Spy 名稱成為網址...\n",
            "還剩下 19 個電影名稱待轉...\n",
            "=========\n",
            "現在正在轉換 The Day the Earth Stood Still 名稱成為網址...\n",
            "還剩下 18 個電影名稱待轉...\n",
            "=========\n",
            "現在正在轉換 The East 名稱成為網址...\n",
            "還剩下 17 個電影名稱待轉...\n",
            "=========\n",
            "現在正在轉換 The Judge 名稱成為網址...\n",
            "還剩下 16 個電影名稱待轉...\n",
            "=========\n",
            "現在正在轉換 The Lego Ninjago Movie 名稱成為網址...\n",
            "還剩下 15 個電影名稱待轉...\n",
            "=========\n",
            "現在正在轉換 The Man from U.N.C.L.E. 名稱成為網址...\n",
            "還剩下 14 個電影名稱待轉...\n",
            "=========\n",
            "現在正在轉換 The Man Who Knew Infinity 名稱成為網址...\n",
            "還剩下 13 個電影名稱待轉...\n",
            "=========\n",
            "現在正在轉換 The Monuments Men 名稱成為網址...\n",
            "還剩下 12 個電影名稱待轉...\n",
            "=========\n",
            "現在正在轉換 This Is Where I Leave You 名稱成為網址...\n",
            "還剩下 11 個電影名稱待轉...\n",
            "=========\n",
            "現在正在轉換 The Second Best Exotic Marigold Hotel 名稱成為網址...\n",
            "還剩下 10 個電影名稱待轉...\n",
            "=========\n",
            "現在正在轉換 The Sessions 名稱成為網址...\n",
            "還剩下 9 個電影名稱待轉...\n",
            "=========\n",
            "現在正在轉換 The Water Diviner 名稱成為網址...\n",
            "還剩下 8 個電影名稱待轉...\n",
            "=========\n",
            "現在正在轉換 This Means War 名稱成為網址...\n",
            "還剩下 7 個電影名稱待轉...\n",
            "=========\n",
            "現在正在轉換 Unknown 名稱成為網址...\n",
            "還剩下 6 個電影名稱待轉...\n",
            "=========\n",
            "現在正在轉換 Wall Street: Money Never Sleeps 名稱成為網址...\n",
            "還剩下 5 個電影名稱待轉...\n",
            "=========\n",
            "現在正在轉換 War Dogs 名稱成為網址...\n",
            "還剩下 4 個電影名稱待轉...\n",
            "=========\n",
            "現在正在轉換 Water for Elephants 名稱成為網址...\n",
            "還剩下 3 個電影名稱待轉...\n",
            "=========\n",
            "現在正在轉換 We Bought A Zoo 名稱成為網址...\n",
            "還剩下 2 個電影名稱待轉...\n",
            "=========\n",
            "現在正在轉換 We're the Millers 名稱成為網址...\n",
            "還剩下 1 個電影名稱待轉...\n",
            "=========\n",
            "現在正在轉換 Winter's Tale 名稱成為網址...\n",
            "還剩下 0 個電影名稱待轉...\n",
            "=========\n"
          ],
          "name": "stdout"
        }
      ]
    },
    {
      "metadata": {
        "id": "U7pD38l9kIPj",
        "colab_type": "code",
        "outputId": "80f9d548-db6a-48c3-bc87-09c4dcba5c6f",
        "colab": {
          "base_uri": "https://localhost:8080/",
          "height": 34
        }
      },
      "cell_type": "code",
      "source": [
        "print(len(ci_all_movie_urls))"
      ],
      "execution_count": 0,
      "outputs": [
        {
          "output_type": "stream",
          "text": [
            "168\n"
          ],
          "name": "stdout"
        }
      ]
    },
    {
      "metadata": {
        "id": "fCzPaekushW1",
        "colab_type": "code",
        "outputId": "e6025de5-6c9d-4ead-d600-e6d5bffdae0c",
        "colab": {
          "base_uri": "https://localhost:8080/",
          "height": 34
        }
      },
      "cell_type": "code",
      "source": [
        "print(len(ci_all_movie_titles))"
      ],
      "execution_count": 0,
      "outputs": [
        {
          "output_type": "stream",
          "text": [
            "168\n"
          ],
          "name": "stdout"
        }
      ]
    },
    {
      "metadata": {
        "id": "10srGLy7uHpS",
        "colab_type": "code",
        "outputId": "ad594924-8ca8-4051-a70d-2fc3433c8352",
        "colab": {
          "base_uri": "https://localhost:8080/",
          "height": 5678
        }
      },
      "cell_type": "code",
      "source": [
        "movie_ratings = dict()\n",
        "for mt, mu in zip(ci_all_movie_titles, ci_all_movie_urls):\n",
        "  movie_info = get_movie_info(mu)\n",
        "  movie_rating = movie_info[\"rating\"]\n",
        "  movie_ratings[mt] = movie_rating\n",
        "  print(\"現在在擷取 {} 的評等: {}\".format(mt, movie_rating))\n",
        "  print(\"=========\")\n",
        "print(len(movie_ratings))"
      ],
      "execution_count": 0,
      "outputs": [
        {
          "output_type": "stream",
          "text": [
            "現在在擷取 BlacKkKlansman 的評等: 7.5\n",
            "=========\n",
            "現在在擷取 Bad Times at the El Royale 的評等: 7.2\n",
            "=========\n",
            "現在在擷取 The House with a Clock in its Walls 的評等: 6.1\n",
            "=========\n",
            "現在在擷取 The Man Who Invented Christmas 的評等: 7.0\n",
            "=========\n",
            "現在在擷取 Mile 22 的評等: 6.1\n",
            "=========\n",
            "現在在擷取 Venom 的評等: 6.8\n",
            "=========\n",
            "現在在擷取 Peppermint 的評等: 6.5\n",
            "=========\n",
            "現在在擷取 Smallfoot 的評等: 6.7\n",
            "=========\n",
            "現在在擷取 Christopher Robin 的評等: 7.4\n",
            "=========\n",
            "現在在擷取 Papillon 的評等: 7.1\n",
            "=========\n",
            "現在在擷取 Searching 的評等: 7.7\n",
            "=========\n",
            "現在在擷取 The Predator 的評等: 5.4\n",
            "=========\n",
            "現在在擷取 The Meg 的評等: 5.7\n",
            "=========\n",
            "現在在擷取 Father 的評等: 6.0\n",
            "=========\n",
            "現在在擷取 Golden Job 的評等: 5.7\n",
            "=========\n",
            "現在在擷取 The Island 的評等: 6.9\n",
            "=========\n",
            "現在在擷取 Detective Dee: The Four Heavenly Kings 的評等: 6.3\n",
            "=========\n",
            "現在在擷取 The Looming Storm 的評等: 6.5\n",
            "=========\n",
            "現在在擷取 Shed Skin Papa 的評等: 5.9\n",
            "=========\n",
            "現在在擷取 Life in Overtime 的評等: 7.2\n",
            "=========\n",
            "現在在擷取 Eternal Wave 的評等: 5.7\n",
            "=========\n",
            "現在在擷取 L Storm 的評等: 6.0\n",
            "=========\n",
            "現在在擷取 Gintama 2 的評等: 6.8\n",
            "=========\n",
            "現在在擷取 Doraemon the Movie: Nobita's Treasure Island 的評等: 6.6\n",
            "=========\n",
            "現在在擷取 Let's Cheat Together 的評等: 3.4\n",
            "=========\n",
            "現在在擷取 What a Wonderful Family 3 My Wife, My Life 的評等: 7.1\n",
            "=========\n",
            "現在在擷取 Secrets in the Hot Spring 的評等: 6.0\n",
            "=========\n",
            "現在在擷取 Secret Superstar 的評等: 8.0\n",
            "=========\n",
            "現在在擷取 Monstrum 的評等: 7.3\n",
            "=========\n",
            "現在在擷取 The Spy Gone North 的評等: 7.1\n",
            "=========\n",
            "現在在擷取 Brother of the Year 的評等: 6.8\n",
            "=========\n",
            "現在在擷取 Custody 的評等: 7.6\n",
            "=========\n",
            "現在在擷取 Along With The Gods: The Last 49 Days 的評等: 7.1\n",
            "=========\n",
            "現在在擷取 Belle and Sebastian, Friends for Life 的評等: 6.4\n",
            "=========\n",
            "現在在擷取 Tiger Zinda Hai 的評等: 6.1\n",
            "=========\n",
            "現在在擷取 Trolls 的評等: 6.5\n",
            "=========\n",
            "現在在擷取 Turbo 的評等: 6.4\n",
            "=========\n",
            "現在在擷取 Yogi Bear 的評等: 4.6\n",
            "=========\n",
            "現在在擷取 Happy Feet Two 的評等: 5.9\n",
            "=========\n",
            "現在在擷取 Alvin and the Chipmunks: The Squeakquel 的評等: 4.5\n",
            "=========\n",
            "現在在擷取 Epic 的評等: 6.7\n",
            "=========\n",
            "現在在擷取 Hotel Transylvania 的評等: 7.1\n",
            "=========\n",
            "現在在擷取 Hotel Transylvania 2 的評等: 6.7\n",
            "=========\n",
            "現在在擷取 Ice Age: Continental Drift 的評等: 6.6\n",
            "=========\n",
            "現在在擷取 Mazinger Z: Infinity 的評等: 6.0\n",
            "=========\n",
            "現在在擷取 Rio 的評等: 6.9\n",
            "=========\n",
            "現在在擷取 Rio 2 的評等: 6.3\n",
            "=========\n",
            "現在在擷取 Monster Hunt 2 的評等: 5.3\n",
            "=========\n",
            "現在在擷取 Initial D 的評等: 6.4\n",
            "=========\n",
            "現在在擷取 Animal World 的評等: 6.5\n",
            "=========\n",
            "現在在擷取 Kano 的評等: 7.8\n",
            "=========\n",
            "現在在擷取 Our Time Will Come 的評等: 6.5\n",
            "=========\n",
            "現在在擷取 Chasing the Dragon 的評等: 6.8\n",
            "=========\n",
            "現在在擷取 Angels Wear White 的評等: 7.3\n",
            "=========\n",
            "現在在擷取 The Place 的評等: 7.1\n",
            "=========\n",
            "現在在擷取 Namiya 的評等: 4.9\n",
            "=========\n",
            "現在在擷取 Soul Mate 的評等: 7.5\n",
            "=========\n",
            "現在在擷取 The Great Buddha + 的評等: 7.6\n",
            "=========\n",
            "現在在擷取 The Bold, The Corrupt, and the Beautiful 的評等: 7.3\n",
            "=========\n",
            "現在在擷取 Detective Chinatown 的評等: 6.6\n",
            "=========\n",
            "現在在擷取 Detective Chinatown 2 的評等: 6.1\n",
            "=========\n",
            "現在在擷取 Omotenashi 的評等: 7.0\n",
            "=========\n",
            "現在在擷取 Long Time No Sea 的評等: 7.4\n",
            "=========\n",
            "現在在擷取 The Leakers 的評等: 5.4\n",
            "=========\n",
            "現在在擷取 After the rain 的評等: 6.1\n",
            "=========\n",
            "現在在擷取 50 First Kisses 的評等: 6.4\n",
            "=========\n",
            "現在在擷取 On Happiness Road 的評等: 7.0\n",
            "=========\n",
            "現在在擷取 Last Winter, We Parted 的評等: 6.9\n",
            "=========\n",
            "現在在擷取 DESTINY: The Tale of Kamakura 的評等: 7.0\n",
            "=========\n",
            "現在在擷取 Laplace's Witch 的評等: 5.4\n",
            "=========\n",
            "現在在擷取 Color Me True 的評等: 7.2\n",
            "=========\n",
            "現在在擷取 Detective Conan: Zero the Enforcer 的評等: 6.2\n",
            "=========\n",
            "現在在擷取 Believer 的評等: 7.2\n",
            "=========\n",
            "現在在擷取 A Bag of Marbles 的評等: 7.3\n",
            "=========\n",
            "現在在擷取 The Scythian Lamb 的評等: 6.4\n",
            "=========\n",
            "現在在擷取 Master 的評等: 7.1\n",
            "=========\n",
            "現在在擷取 Be With You 的評等: 7.5\n",
            "=========\n",
            "現在在擷取 Along With The Gods: The Two Worlds 的評等: 7.3\n",
            "=========\n",
            "現在在擷取 Champion 的評等: 8.6\n",
            "=========\n",
            "現在在擷取 The Trough 的評等: 4.7\n",
            "=========\n",
            "現在在擷取 Kofi 的評等: 7.5\n",
            "=========\n",
            "現在在擷取 What a Man Wants 的評等: 6.3\n",
            "=========\n",
            "現在在擷取 Keys To The Heart 的評等: 7.4\n",
            "=========\n",
            "現在在擷取 Golmaal Again 的評等: 5.0\n",
            "=========\n",
            "現在在擷取 Dr. Knock 的評等: 6.0\n",
            "=========\n",
            "現在在擷取 At the End of the Tunnel 的評等: 7.1\n",
            "=========\n",
            "現在在擷取 Jab Harry Met Sejal 的評等: 5.4\n",
            "=========\n",
            "現在在擷取 Les Tuche 2 的評等: 4.8\n",
            "=========\n",
            "現在在擷取 Monky 的評等: 4.6\n",
            "=========\n",
            "現在在擷取 ROCK'N ROLL 的評等: 6.0\n",
            "=========\n",
            "現在在擷取 The Together Project 的評等: 6.3\n",
            "=========\n",
            "現在在擷取 La La Land 的評等: 8.0\n",
            "=========\n",
            "現在在擷取 Les Misérables 的評等: 7.6\n",
            "=========\n",
            "現在在擷取 The Grand Budapest Hotel 的評等: 8.1\n",
            "=========\n",
            "現在在擷取 The Martian 的評等: 8.0\n",
            "=========\n",
            "現在在擷取 Three Billboards Outside Ebbing, Missouri 的評等: 8.2\n",
            "=========\n",
            "現在在擷取 Ant-Man and the Wasp 的評等: 7.1\n",
            "=========\n",
            "現在在擷取 Ant-Man 的評等: 7.3\n",
            "=========\n",
            "現在在擷取 Anna and The King 的評等: 6.7\n",
            "=========\n",
            "現在在擷取 300: Rise of an Empire 的評等: 6.2\n",
            "=========\n",
            "現在在擷取 500 Days of Summer 的評等: 7.7\n",
            "=========\n",
            "現在在擷取 American Pastoral 的評等: 6.1\n",
            "=========\n",
            "現在在擷取 Avatar 的評等: 7.8\n",
            "=========\n",
            "現在在擷取 Babel 的評等: 7.5\n",
            "=========\n",
            "現在在擷取 Batman v Superman: Dawn of Justice 的評等: 6.5\n",
            "=========\n",
            "現在在擷取 Birdman 的評等: 7.7\n",
            "=========\n",
            "現在在擷取 Black Mass 的評等: 6.9\n",
            "=========\n",
            "現在在擷取 Charlie and the Chocolate Factory 的評等: 6.7\n",
            "=========\n",
            "現在在擷取 CHIPS 的評等: 6.0\n",
            "=========\n",
            "現在在擷取 Chronicle 的評等: 7.1\n",
            "=========\n",
            "現在在擷取 Clash of the Titans 的評等: 5.8\n",
            "=========\n",
            "現在在擷取 Collateral Beauty 的評等: 6.8\n",
            "=========\n",
            "現在在擷取 Crazy Rich Asians 的評等: 7.0\n",
            "=========\n",
            "現在在擷取 Dark Shadows 的評等: 6.2\n",
            "=========\n",
            "現在在擷取 Date Night 的評等: 6.3\n",
            "=========\n",
            "現在在擷取 Deadpool 的評等: 8.0\n",
            "=========\n",
            "現在在擷取 Deadpool 2 的評等: 7.8\n",
            "=========\n",
            "現在在擷取 Entourage 的評等: 6.6\n",
            "=========\n",
            "現在在擷取 Gangster Squad 的評等: 6.7\n",
            "=========\n",
            "現在在擷取 Going In Style 的評等: 6.6\n",
            "=========\n",
            "現在在擷取 Marmaduke 的評等: 4.2\n",
            "=========\n",
            "現在在擷取 Gravity 的評等: 7.7\n",
            "=========\n",
            "現在在擷取 Green Lantern 的評等: 5.5\n",
            "=========\n",
            "現在在擷取 Gulliver's Travels 的評等: 4.9\n",
            "=========\n",
            "現在在擷取 Hail, Caesar! 的評等: 6.3\n",
            "=========\n",
            "現在在擷取 Hitchcock 的評等: 6.8\n",
            "=========\n",
            "現在在擷取 Hugo 的評等: 7.5\n",
            "=========\n",
            "現在在擷取 I Am Legend 的評等: 7.2\n",
            "=========\n",
            "現在在擷取 If I Stay 的評等: 6.8\n",
            "=========\n",
            "現在在擷取 King Kong 的評等: 7.2\n",
            "=========\n",
            "現在在擷取 Knight and Day 的評等: 6.3\n",
            "=========\n",
            "現在在擷取 Inception 的評等: 8.8\n",
            "=========\n",
            "現在在擷取 Live by Night 的評等: 6.4\n",
            "=========\n",
            "現在在擷取 Mad Max: Fury Road 的評等: 8.1\n",
            "=========\n",
            "現在在擷取 Gone Girl 的評等: 8.1\n",
            "=========\n",
            "現在在擷取 Hacksaw Ridge 的評等: 8.1\n",
            "=========\n",
            "現在在擷取 Jersey Boys 的評等: 6.8\n",
            "=========\n",
            "現在在擷取 Jurassic Park III 的評等: 5.9\n",
            "=========\n",
            "現在在擷取 Music and Lyrics 的評等: 6.5\n",
            "=========\n",
            "現在在擷取 My Sister's Keeper 的評等: 7.4\n",
            "=========\n",
            "現在在擷取 Man On A Ledge 的評等: 6.6\n",
            "=========\n",
            "現在在擷取 Maze Runner: The Scorch Trials 的評等: 6.3\n",
            "=========\n",
            "現在在擷取 Nerve 的評等: 6.6\n",
            "=========\n",
            "現在在擷取 Pacific Rim 的評等: 6.9\n",
            "=========\n",
            "現在在擷取 Paper Towns 的評等: 6.3\n",
            "=========\n",
            "現在在擷取 Run All Night 的評等: 6.6\n",
            "=========\n",
            "現在在擷取 The Darjeeling Limited 的評等: 7.2\n",
            "=========\n",
            "現在在擷取 Snatched 的評等: 4.5\n",
            "=========\n",
            "現在在擷取 Spy 的評等: 7.0\n",
            "=========\n",
            "現在在擷取 The Day the Earth Stood Still 的評等: 5.5\n",
            "=========\n",
            "現在在擷取 The East 的評等: 6.8\n",
            "=========\n",
            "現在在擷取 The Judge 的評等: 7.4\n",
            "=========\n",
            "現在在擷取 The Lego Ninjago Movie 的評等: 6.0\n",
            "=========\n",
            "現在在擷取 The Man from U.N.C.L.E. 的評等: 7.3\n",
            "=========\n",
            "現在在擷取 The Man Who Knew Infinity 的評等: 7.2\n",
            "=========\n",
            "現在在擷取 The Monuments Men 的評等: 6.1\n",
            "=========\n",
            "現在在擷取 This Is Where I Leave You 的評等: 6.6\n",
            "=========\n",
            "現在在擷取 The Second Best Exotic Marigold Hotel 的評等: 6.6\n",
            "=========\n",
            "現在在擷取 The Sessions 的評等: 7.2\n",
            "=========\n",
            "現在在擷取 The Water Diviner 的評等: 7.1\n",
            "=========\n",
            "現在在擷取 This Means War 的評等: 6.3\n",
            "=========\n",
            "現在在擷取 Unknown 的評等: 6.9\n",
            "=========\n",
            "現在在擷取 Wall Street: Money Never Sleeps 的評等: 6.2\n",
            "=========\n",
            "現在在擷取 War Dogs 的評等: 7.1\n",
            "=========\n",
            "現在在擷取 Water for Elephants 的評等: 6.9\n",
            "=========\n",
            "現在在擷取 We Bought A Zoo 的評等: 7.1\n",
            "=========\n",
            "現在在擷取 We're the Millers 的評等: 7.0\n",
            "=========\n",
            "現在在擷取 Winter's Tale 的評等: 6.2\n",
            "=========\n",
            "168\n"
          ],
          "name": "stdout"
        }
      ]
    },
    {
      "metadata": {
        "id": "Ptu0xbhXwOBD",
        "colab_type": "code",
        "outputId": "3bb74ac2-8d3f-4b25-8cc2-1bc717f0657c",
        "colab": {
          "base_uri": "https://localhost:8080/",
          "height": 54
        }
      },
      "cell_type": "code",
      "source": [
        "movie_ratings.items()"
      ],
      "execution_count": 0,
      "outputs": [
        {
          "output_type": "execute_result",
          "data": {
            "text/plain": [
              "dict_items([('BlacKkKlansman', 7.5), ('Bad Times at the El Royale', 7.2), ('The House with a Clock in its Walls', 6.1), ('The Man Who Invented Christmas', 7.0), ('Mile 22', 6.1), ('Venom', 6.8), ('Peppermint', 6.5), ('Smallfoot', 6.7), ('Christopher Robin', 7.4), ('Papillon', 7.1), ('Searching', 7.7), ('The Predator', 5.4), ('The Meg', 5.7), ('Father', 6.0), ('Golden Job', 5.7), ('The Island', 6.9), ('Detective Dee: The Four Heavenly Kings', 6.3), ('The Looming Storm', 6.5), ('Shed Skin Papa', 5.9), ('Life in Overtime', 7.2), ('Eternal Wave', 5.7), ('L Storm', 6.0), ('Gintama 2', 6.8), (\"Doraemon the Movie: Nobita's Treasure Island\", 6.6), (\"Let's Cheat Together\", 3.4), ('What a Wonderful Family 3 My Wife, My Life', 7.1), ('Secrets in the Hot Spring', 6.0), ('Secret Superstar', 8.0), ('Monstrum', 7.3), ('The Spy Gone North', 7.1), ('Brother of the Year', 6.8), ('Custody', 7.6), ('Along With The Gods: The Last 49 Days', 7.1), ('Belle and Sebastian, Friends for Life', 6.4), ('Tiger Zinda Hai', 6.1), ('Trolls', 6.5), ('Turbo', 6.4), ('Yogi Bear', 4.6), ('Happy Feet Two', 5.9), ('Alvin and the Chipmunks: The Squeakquel', 4.5), ('Epic', 6.7), ('Hotel Transylvania', 7.1), ('Hotel Transylvania 2', 6.7), ('Ice Age: Continental Drift', 6.6), ('Mazinger Z: Infinity', 6.0), ('Rio', 6.9), ('Rio 2', 6.3), ('Monster Hunt 2', 5.3), ('Initial D', 6.4), ('Animal World', 6.5), ('Kano', 7.8), ('Our Time Will Come', 6.5), ('Chasing the Dragon', 6.8), ('Angels Wear White', 7.3), ('The Place', 7.1), ('Namiya', 4.9), ('Soul Mate', 7.5), ('The Great Buddha +', 7.6), ('The Bold, The Corrupt, and the Beautiful', 7.3), ('Detective Chinatown', 6.6), ('Detective Chinatown 2', 6.1), ('Omotenashi', 7.0), ('Long Time No Sea', 7.4), ('The Leakers', 5.4), ('After the rain', 6.1), ('50 First Kisses', 6.4), ('On Happiness Road', 7.0), ('Last Winter, We Parted', 6.9), ('DESTINY: The Tale of Kamakura', 7.0), (\"Laplace's Witch\", 5.4), ('Color Me True', 7.2), ('Detective Conan: Zero the Enforcer', 6.2), ('Believer', 7.2), ('A Bag of Marbles', 7.3), ('The Scythian Lamb', 6.4), ('Master', 7.1), ('Be With You', 7.5), ('Along With The Gods: The Two Worlds', 7.3), ('Champion', 8.6), ('The Trough', 4.7), ('Kofi', 7.5), ('What a Man Wants', 6.3), ('Keys To The Heart', 7.4), ('Golmaal Again', 5.0), ('Dr. Knock', 6.0), ('At the End of the Tunnel', 7.1), ('Jab Harry Met Sejal', 5.4), ('Les Tuche 2', 4.8), ('Monky', 4.6), (\"ROCK'N ROLL\", 6.0), ('The Together Project', 6.3), ('La La Land', 8.0), ('Les Misérables', 7.6), ('The Grand Budapest Hotel', 8.1), ('The Martian', 8.0), ('Three Billboards Outside Ebbing, Missouri', 8.2), ('Ant-Man and the Wasp', 7.1), ('Ant-Man', 7.3), ('Anna and The King', 6.7), ('300: Rise of an Empire', 6.2), ('500 Days of Summer', 7.7), ('American Pastoral', 6.1), ('Avatar', 7.8), ('Babel', 7.5), ('Batman v Superman: Dawn of Justice', 6.5), ('Birdman', 7.7), ('Black Mass', 6.9), ('Charlie and the Chocolate Factory', 6.7), ('CHIPS', 6.0), ('Chronicle', 7.1), ('Clash of the Titans', 5.8), ('Collateral Beauty', 6.8), ('Crazy Rich Asians', 7.0), ('Dark Shadows', 6.2), ('Date Night', 6.3), ('Deadpool', 8.0), ('Deadpool 2', 7.8), ('Entourage', 6.6), ('Gangster Squad', 6.7), ('Going In Style', 6.6), ('Marmaduke', 4.2), ('Gravity', 7.7), ('Green Lantern', 5.5), (\"Gulliver's Travels\", 4.9), ('Hail, Caesar!', 6.3), ('Hitchcock', 6.8), ('Hugo', 7.5), ('I Am Legend', 7.2), ('If I Stay', 6.8), ('King Kong', 7.2), ('Knight and Day', 6.3), ('Inception', 8.8), ('Live by Night', 6.4), ('Mad Max: Fury Road', 8.1), ('Gone Girl', 8.1), ('Hacksaw Ridge', 8.1), ('Jersey Boys', 6.8), ('Jurassic Park III', 5.9), ('Music and Lyrics', 6.5), (\"My Sister's Keeper\", 7.4), ('Man On A Ledge', 6.6), ('Maze Runner: The Scorch Trials', 6.3), ('Nerve', 6.6), ('Pacific Rim', 6.9), ('Paper Towns', 6.3), ('Run All Night', 6.6), ('The Darjeeling Limited', 7.2), ('Snatched', 4.5), ('Spy', 7.0), ('The Day the Earth Stood Still', 5.5), ('The East', 6.8), ('The Judge', 7.4), ('The Lego Ninjago Movie', 6.0), ('The Man from U.N.C.L.E.', 7.3), ('The Man Who Knew Infinity', 7.2), ('The Monuments Men', 6.1), ('This Is Where I Leave You', 6.6), ('The Second Best Exotic Marigold Hotel', 6.6), ('The Sessions', 7.2), ('The Water Diviner', 7.1), ('This Means War', 6.3), ('Unknown', 6.9), ('Wall Street: Money Never Sleeps', 6.2), ('War Dogs', 7.1), ('Water for Elephants', 6.9), ('We Bought A Zoo', 7.1), (\"We're the Millers\", 7.0), (\"Winter's Tale\", 6.2)])"
            ]
          },
          "metadata": {
            "tags": []
          },
          "execution_count": 19
        }
      ]
    },
    {
      "metadata": {
        "id": "ndIfDtyJwbPS",
        "colab_type": "code",
        "outputId": "835a415a-cb45-4f29-ed33-50df932ec296",
        "colab": {
          "base_uri": "https://localhost:8080/",
          "height": 195
        }
      },
      "cell_type": "code",
      "source": [
        "import pandas as pd\n",
        "\n",
        "movie_df = pd.DataFrame()\n",
        "movie_df[\"movie_title\"] = list(movie_ratings.keys())\n",
        "movie_df[\"movie_rating\"] = list(movie_ratings.values())\n",
        "movie_df.sort_values(\"movie_rating\", ascending=False).head()"
      ],
      "execution_count": 0,
      "outputs": [
        {
          "output_type": "execute_result",
          "data": {
            "text/html": [
              "<div>\n",
              "<style scoped>\n",
              "    .dataframe tbody tr th:only-of-type {\n",
              "        vertical-align: middle;\n",
              "    }\n",
              "\n",
              "    .dataframe tbody tr th {\n",
              "        vertical-align: top;\n",
              "    }\n",
              "\n",
              "    .dataframe thead th {\n",
              "        text-align: right;\n",
              "    }\n",
              "</style>\n",
              "<table border=\"1\" class=\"dataframe\">\n",
              "  <thead>\n",
              "    <tr style=\"text-align: right;\">\n",
              "      <th></th>\n",
              "      <th>movie_title</th>\n",
              "      <th>movie_rating</th>\n",
              "    </tr>\n",
              "  </thead>\n",
              "  <tbody>\n",
              "    <tr>\n",
              "      <th>131</th>\n",
              "      <td>Inception</td>\n",
              "      <td>8.8</td>\n",
              "    </tr>\n",
              "    <tr>\n",
              "      <th>78</th>\n",
              "      <td>Champion</td>\n",
              "      <td>8.6</td>\n",
              "    </tr>\n",
              "    <tr>\n",
              "      <th>95</th>\n",
              "      <td>Three Billboards Outside Ebbing, Missouri</td>\n",
              "      <td>8.2</td>\n",
              "    </tr>\n",
              "    <tr>\n",
              "      <th>135</th>\n",
              "      <td>Hacksaw Ridge</td>\n",
              "      <td>8.1</td>\n",
              "    </tr>\n",
              "    <tr>\n",
              "      <th>133</th>\n",
              "      <td>Mad Max: Fury Road</td>\n",
              "      <td>8.1</td>\n",
              "    </tr>\n",
              "  </tbody>\n",
              "</table>\n",
              "</div>"
            ],
            "text/plain": [
              "                                   movie_title  movie_rating\n",
              "131                                  Inception           8.8\n",
              "78                                    Champion           8.6\n",
              "95   Three Billboards Outside Ebbing, Missouri           8.2\n",
              "135                              Hacksaw Ridge           8.1\n",
              "133                         Mad Max: Fury Road           8.1"
            ]
          },
          "metadata": {
            "tags": []
          },
          "execution_count": 22
        }
      ]
    },
    {
      "metadata": {
        "id": "Y-1n9xRiKPmf",
        "colab_type": "text"
      },
      "cell_type": "markdown",
      "source": [
        "## 為什麼我們要用模組？\n",
        "\n",
        "- 用其他的方式（函數、資料結構）解決問題\n",
        "- 可以站在巨人的肩膀上\n",
        "- 應用領域：\n",
        "  - NumPy 陣列、矩陣的計算\n",
        "  - pandas 表格資料的處理\n",
        "  - matplotlib 作圖\n",
        "  - scikit-learn 快速實踐機器學習"
      ]
    },
    {
      "metadata": {
        "id": "Ch3h4179l5wL",
        "colab_type": "code",
        "outputId": "4c269743-95a2-4e3c-fc48-61bdc2fe04c9",
        "colab": {
          "base_uri": "https://localhost:8080/",
          "height": 195
        }
      },
      "cell_type": "code",
      "source": [
        "import pandas as pd\n",
        "\n",
        "df = pd.DataFrame()\n",
        "df[\"ticker\"] = ticker\n",
        "df[\"company\"] = company\n",
        "df[\"price\"] = price\n",
        "df.head()"
      ],
      "execution_count": 0,
      "outputs": [
        {
          "output_type": "execute_result",
          "data": {
            "text/html": [
              "<div>\n",
              "<style scoped>\n",
              "    .dataframe tbody tr th:only-of-type {\n",
              "        vertical-align: middle;\n",
              "    }\n",
              "\n",
              "    .dataframe tbody tr th {\n",
              "        vertical-align: top;\n",
              "    }\n",
              "\n",
              "    .dataframe thead th {\n",
              "        text-align: right;\n",
              "    }\n",
              "</style>\n",
              "<table border=\"1\" class=\"dataframe\">\n",
              "  <thead>\n",
              "    <tr style=\"text-align: right;\">\n",
              "      <th></th>\n",
              "      <th>ticker</th>\n",
              "      <th>company</th>\n",
              "      <th>price</th>\n",
              "    </tr>\n",
              "  </thead>\n",
              "  <tbody>\n",
              "    <tr>\n",
              "      <th>0</th>\n",
              "      <td>3008</td>\n",
              "      <td>大立光</td>\n",
              "      <td>3780.0</td>\n",
              "    </tr>\n",
              "    <tr>\n",
              "      <th>1</th>\n",
              "      <td>5269</td>\n",
              "      <td>祥碩</td>\n",
              "      <td>553.0</td>\n",
              "    </tr>\n",
              "    <tr>\n",
              "      <th>2</th>\n",
              "      <td>6409</td>\n",
              "      <td>旭隼</td>\n",
              "      <td>531.0</td>\n",
              "    </tr>\n",
              "    <tr>\n",
              "      <th>3</th>\n",
              "      <td>6415</td>\n",
              "      <td>矽力-KY</td>\n",
              "      <td>443.5</td>\n",
              "    </tr>\n",
              "    <tr>\n",
              "      <th>4</th>\n",
              "      <td>1590</td>\n",
              "      <td>亞德客-KY</td>\n",
              "      <td>361.0</td>\n",
              "    </tr>\n",
              "  </tbody>\n",
              "</table>\n",
              "</div>"
            ],
            "text/plain": [
              "  ticker company   price\n",
              "0   3008     大立光  3780.0\n",
              "1   5269      祥碩   553.0\n",
              "2   6409      旭隼   531.0\n",
              "3   6415   矽力-KY   443.5\n",
              "4   1590  亞德客-KY   361.0"
            ]
          },
          "metadata": {
            "tags": []
          },
          "execution_count": 44
        }
      ]
    },
    {
      "metadata": {
        "id": "o70WfwN_mWnD",
        "colab_type": "code",
        "outputId": "4b00c1fc-71dd-4e0b-b3b6-4fc48f62321d",
        "colab": {
          "base_uri": "https://localhost:8080/",
          "height": 195
        }
      },
      "cell_type": "code",
      "source": [
        "is_ky = df[\"company\"].str.contains(\"KY\")\n",
        "ky_df = df[is_ky]\n",
        "ky_df.head()"
      ],
      "execution_count": 0,
      "outputs": [
        {
          "output_type": "execute_result",
          "data": {
            "text/html": [
              "<div>\n",
              "<style scoped>\n",
              "    .dataframe tbody tr th:only-of-type {\n",
              "        vertical-align: middle;\n",
              "    }\n",
              "\n",
              "    .dataframe tbody tr th {\n",
              "        vertical-align: top;\n",
              "    }\n",
              "\n",
              "    .dataframe thead th {\n",
              "        text-align: right;\n",
              "    }\n",
              "</style>\n",
              "<table border=\"1\" class=\"dataframe\">\n",
              "  <thead>\n",
              "    <tr style=\"text-align: right;\">\n",
              "      <th></th>\n",
              "      <th>ticker</th>\n",
              "      <th>company</th>\n",
              "      <th>price</th>\n",
              "    </tr>\n",
              "  </thead>\n",
              "  <tbody>\n",
              "    <tr>\n",
              "      <th>3</th>\n",
              "      <td>6415</td>\n",
              "      <td>矽力-KY</td>\n",
              "      <td>443.5</td>\n",
              "    </tr>\n",
              "    <tr>\n",
              "      <th>4</th>\n",
              "      <td>1590</td>\n",
              "      <td>亞德客-KY</td>\n",
              "      <td>361.0</td>\n",
              "    </tr>\n",
              "    <tr>\n",
              "      <th>10</th>\n",
              "      <td>4137</td>\n",
              "      <td>麗豐-KY</td>\n",
              "      <td>283.5</td>\n",
              "    </tr>\n",
              "    <tr>\n",
              "      <th>24</th>\n",
              "      <td>2723</td>\n",
              "      <td>美食-KY</td>\n",
              "      <td>210.5</td>\n",
              "    </tr>\n",
              "    <tr>\n",
              "      <th>30</th>\n",
              "      <td>3665</td>\n",
              "      <td>貿聯-KY</td>\n",
              "      <td>181.0</td>\n",
              "    </tr>\n",
              "  </tbody>\n",
              "</table>\n",
              "</div>"
            ],
            "text/plain": [
              "   ticker company  price\n",
              "3    6415   矽力-KY  443.5\n",
              "4    1590  亞德客-KY  361.0\n",
              "10   4137   麗豐-KY  283.5\n",
              "24   2723   美食-KY  210.5\n",
              "30   3665   貿聯-KY  181.0"
            ]
          },
          "metadata": {
            "tags": []
          },
          "execution_count": 48
        }
      ]
    },
    {
      "metadata": {
        "id": "qFE0QMUImyVO",
        "colab_type": "code",
        "outputId": "52db96ec-3f0d-42b5-a1e9-34ed1620ea8f",
        "colab": {
          "base_uri": "https://localhost:8080/",
          "height": 195
        }
      },
      "cell_type": "code",
      "source": [
        "non_ky_df = df[~is_ky]\n",
        "non_ky_df.head()"
      ],
      "execution_count": 0,
      "outputs": [
        {
          "output_type": "execute_result",
          "data": {
            "text/html": [
              "<div>\n",
              "<style scoped>\n",
              "    .dataframe tbody tr th:only-of-type {\n",
              "        vertical-align: middle;\n",
              "    }\n",
              "\n",
              "    .dataframe tbody tr th {\n",
              "        vertical-align: top;\n",
              "    }\n",
              "\n",
              "    .dataframe thead th {\n",
              "        text-align: right;\n",
              "    }\n",
              "</style>\n",
              "<table border=\"1\" class=\"dataframe\">\n",
              "  <thead>\n",
              "    <tr style=\"text-align: right;\">\n",
              "      <th></th>\n",
              "      <th>ticker</th>\n",
              "      <th>company</th>\n",
              "      <th>price</th>\n",
              "    </tr>\n",
              "  </thead>\n",
              "  <tbody>\n",
              "    <tr>\n",
              "      <th>0</th>\n",
              "      <td>3008</td>\n",
              "      <td>大立光</td>\n",
              "      <td>3780.0</td>\n",
              "    </tr>\n",
              "    <tr>\n",
              "      <th>1</th>\n",
              "      <td>5269</td>\n",
              "      <td>祥碩</td>\n",
              "      <td>553.0</td>\n",
              "    </tr>\n",
              "    <tr>\n",
              "      <th>2</th>\n",
              "      <td>6409</td>\n",
              "      <td>旭隼</td>\n",
              "      <td>531.0</td>\n",
              "    </tr>\n",
              "    <tr>\n",
              "      <th>5</th>\n",
              "      <td>1476</td>\n",
              "      <td>儒鴻</td>\n",
              "      <td>345.0</td>\n",
              "    </tr>\n",
              "    <tr>\n",
              "      <th>6</th>\n",
              "      <td>2059</td>\n",
              "      <td>川湖</td>\n",
              "      <td>340.0</td>\n",
              "    </tr>\n",
              "  </tbody>\n",
              "</table>\n",
              "</div>"
            ],
            "text/plain": [
              "  ticker company   price\n",
              "0   3008     大立光  3780.0\n",
              "1   5269      祥碩   553.0\n",
              "2   6409      旭隼   531.0\n",
              "5   1476      儒鴻   345.0\n",
              "6   2059      川湖   340.0"
            ]
          },
          "metadata": {
            "tags": []
          },
          "execution_count": 49
        }
      ]
    },
    {
      "metadata": {
        "id": "m_L4HxFSnZ79",
        "colab_type": "code",
        "outputId": "84f6a99d-2ca9-4d2c-f1dc-c09ae1b39086",
        "colab": {
          "base_uri": "https://localhost:8080/",
          "height": 34
        }
      },
      "cell_type": "code",
      "source": [
        "!ls"
      ],
      "execution_count": 0,
      "outputs": [
        {
          "output_type": "stream",
          "text": [
            "sample_data\n"
          ],
          "name": "stdout"
        }
      ]
    },
    {
      "metadata": {
        "id": "oyL0ftmjnwhp",
        "colab_type": "code",
        "colab": {}
      },
      "cell_type": "code",
      "source": [
        "df.to_csv(\"yahoo_stock.csv\", index=False)"
      ],
      "execution_count": 0,
      "outputs": []
    },
    {
      "metadata": {
        "id": "XtKRouMkn_Xg",
        "colab_type": "code",
        "outputId": "0647e387-3313-4766-e113-eac32c09b81b",
        "colab": {
          "base_uri": "https://localhost:8080/",
          "height": 34
        }
      },
      "cell_type": "code",
      "source": [
        "!ls"
      ],
      "execution_count": 0,
      "outputs": [
        {
          "output_type": "stream",
          "text": [
            "sample_data  yahoo_stock.csv\n"
          ],
          "name": "stdout"
        }
      ]
    },
    {
      "metadata": {
        "id": "r--k5n6FoDOa",
        "colab_type": "code",
        "colab": {}
      },
      "cell_type": "code",
      "source": [
        "from google.colab import files\n",
        "\n",
        "files.download(\"yahoo_stock.csv\")"
      ],
      "execution_count": 0,
      "outputs": []
    },
    {
      "metadata": {
        "id": "i6a31y5vKR-8",
        "colab_type": "text"
      },
      "cell_type": "markdown",
      "source": [
        "## NumPy\n",
        "\n",
        "Numerical Python\n",
        "\n",
        "<http://www.numpy.org/>\n",
        "\n",
        "- Installation\n",
        "\n",
        "```bash\n",
        "pip install numpy\n",
        "```\n",
        "\n",
        "- Import\n",
        "\n",
        "```python\n",
        "import numpy as np\n",
        "```\n",
        "\n",
        "- Create: `np.array()`\n",
        "- Data Structure: `ndarray`\n",
        "- 跟 list 不同的特性\n",
        "  - Element-wise opeartion / Broadcasting\n",
        "  - Indexing / Slicing 是更彈性的\n",
        "  - Supporting **boolean filtering**\n",
        "  - 隱性轉換資料的型別"
      ]
    },
    {
      "metadata": {
        "id": "7csq04MA1zqs",
        "colab_type": "code",
        "outputId": "11dbc4e7-f807-4ff1-d0af-00a9c01dd971",
        "colab": {
          "base_uri": "https://localhost:8080/",
          "height": 34
        }
      },
      "cell_type": "code",
      "source": [
        "# Pythonic\n",
        "city_temperatures = [22, 9, -4, -1, 21] # in celsius\n",
        "city_temperatures_fahrenheit = [cel*9/5 + 32 for cel in city_temperatures]\n",
        "city_temperatures_fahrenheit = list(map(lambda x: x*9/5 + 32, city_temperatures))\n",
        "print(city_temperatures_fahrenheit)"
      ],
      "execution_count": 0,
      "outputs": [
        {
          "output_type": "stream",
          "text": [
            "[71.6, 48.2, 24.8, 30.2, 69.8]\n"
          ],
          "name": "stdout"
        }
      ]
    },
    {
      "metadata": {
        "id": "NbUUZPI64F4t",
        "colab_type": "code",
        "outputId": "4a73ae8a-e854-4372-d8f0-88e9016a77c1",
        "colab": {
          "base_uri": "https://localhost:8080/",
          "height": 162
        }
      },
      "cell_type": "code",
      "source": [
        "city_temperatures / 5"
      ],
      "execution_count": 0,
      "outputs": [
        {
          "output_type": "error",
          "ename": "TypeError",
          "evalue": "ignored",
          "traceback": [
            "\u001b[0;31m---------------------------------------------------------------------------\u001b[0m",
            "\u001b[0;31mTypeError\u001b[0m                                 Traceback (most recent call last)",
            "\u001b[0;32m<ipython-input-30-656d9320d65a>\u001b[0m in \u001b[0;36m<module>\u001b[0;34m()\u001b[0m\n\u001b[0;32m----> 1\u001b[0;31m \u001b[0mcity_temperatures\u001b[0m \u001b[0;34m/\u001b[0m \u001b[0;36m5\u001b[0m\u001b[0;34m\u001b[0m\u001b[0;34m\u001b[0m\u001b[0m\n\u001b[0m",
            "\u001b[0;31mTypeError\u001b[0m: unsupported operand type(s) for /: 'list' and 'int'"
          ]
        }
      ]
    },
    {
      "metadata": {
        "id": "rinCm1si3VJQ",
        "colab_type": "code",
        "outputId": "701a27f1-6563-4b23-ca8f-8a0e638e4704",
        "colab": {
          "base_uri": "https://localhost:8080/",
          "height": 50
        }
      },
      "cell_type": "code",
      "source": [
        "# NumPy\n",
        "import numpy as np\n",
        "\n",
        "arr = np.array(city_temperatures)\n",
        "print(type(arr))\n",
        "arr * 9/5 + 32"
      ],
      "execution_count": 0,
      "outputs": [
        {
          "output_type": "stream",
          "text": [
            "<class 'numpy.ndarray'>\n"
          ],
          "name": "stdout"
        },
        {
          "output_type": "execute_result",
          "data": {
            "text/plain": [
              "array([71.6, 48.2, 24.8, 30.2, 69.8])"
            ]
          },
          "metadata": {
            "tags": []
          },
          "execution_count": 28
        }
      ]
    },
    {
      "metadata": {
        "id": "myO0QogW5S-Y",
        "colab_type": "code",
        "outputId": "47d6c7f5-c8fa-4a62-b19f-4d23cb860f13",
        "colab": {
          "base_uri": "https://localhost:8080/",
          "height": 34
        }
      },
      "cell_type": "code",
      "source": [
        "city_temperatures # Taipei, Tokyo, New York, London, Honolulu\n",
        "city_temperatures[:2] + [city_temperatures[3]]"
      ],
      "execution_count": 0,
      "outputs": [
        {
          "output_type": "execute_result",
          "data": {
            "text/plain": [
              "[22, 9, -1]"
            ]
          },
          "metadata": {
            "tags": []
          },
          "execution_count": 38
        }
      ]
    },
    {
      "metadata": {
        "id": "1D9Wu0XL5-93",
        "colab_type": "code",
        "outputId": "24ba8fd2-5161-4c45-8023-c3e1a7cb9cd7",
        "colab": {
          "base_uri": "https://localhost:8080/",
          "height": 34
        }
      },
      "cell_type": "code",
      "source": [
        "arr[[0, 1, 3]]"
      ],
      "execution_count": 0,
      "outputs": [
        {
          "output_type": "execute_result",
          "data": {
            "text/plain": [
              "array([22,  9, -1])"
            ]
          },
          "metadata": {
            "tags": []
          },
          "execution_count": 39
        }
      ]
    },
    {
      "metadata": {
        "id": "K9Y9zvp76yUL",
        "colab_type": "code",
        "outputId": "fbfd3a53-8a7e-45b9-d23a-2799570d6965",
        "colab": {
          "base_uri": "https://localhost:8080/",
          "height": 34
        }
      },
      "cell_type": "code",
      "source": [
        "# Pythonic\n",
        "cold_temperatures = [t for t in city_temperatures if t < 0]\n",
        "cold_temperatures = list(filter(lambda x: x < 0, city_temperatures))\n",
        "print(cold_temperatures)"
      ],
      "execution_count": 0,
      "outputs": [
        {
          "output_type": "stream",
          "text": [
            "[-4, -1]\n"
          ],
          "name": "stdout"
        }
      ]
    },
    {
      "metadata": {
        "id": "UnjVdAgg7X_Q",
        "colab_type": "code",
        "outputId": "46d26471-1b50-427b-9101-66cb183d40be",
        "colab": {
          "base_uri": "https://localhost:8080/",
          "height": 34
        }
      },
      "cell_type": "code",
      "source": [
        "# NumPy\n",
        "arr[arr < 0]"
      ],
      "execution_count": 0,
      "outputs": [
        {
          "output_type": "execute_result",
          "data": {
            "text/plain": [
              "array([-4, -1])"
            ]
          },
          "metadata": {
            "tags": []
          },
          "execution_count": 43
        }
      ]
    },
    {
      "metadata": {
        "id": "gmH1LH8L8dCw",
        "colab_type": "code",
        "outputId": "48f48ab1-640c-4419-ca29-51db6bf0cf90",
        "colab": {
          "base_uri": "https://localhost:8080/",
          "height": 118
        }
      },
      "cell_type": "code",
      "source": [
        "for i in [87, 8.7, True, False, \"Hello world\", [0, 1, 2, 3]]:\n",
        "  print(type(i))"
      ],
      "execution_count": 0,
      "outputs": [
        {
          "output_type": "stream",
          "text": [
            "<class 'int'>\n",
            "<class 'float'>\n",
            "<class 'bool'>\n",
            "<class 'bool'>\n",
            "<class 'str'>\n",
            "<class 'list'>\n"
          ],
          "name": "stdout"
        }
      ]
    },
    {
      "metadata": {
        "id": "9nHtTI-18vuG",
        "colab_type": "code",
        "outputId": "69a0f668-d5ca-4684-adb2-f217075bb4cb",
        "colab": {
          "base_uri": "https://localhost:8080/",
          "height": 84
        }
      },
      "cell_type": "code",
      "source": [
        "for i in np.array([87, 8.7, True, \"Hello world\"]):\n",
        "  print(type(i))"
      ],
      "execution_count": 0,
      "outputs": [
        {
          "output_type": "stream",
          "text": [
            "<class 'numpy.str_'>\n",
            "<class 'numpy.str_'>\n",
            "<class 'numpy.str_'>\n",
            "<class 'numpy.str_'>\n"
          ],
          "name": "stdout"
        }
      ]
    },
    {
      "metadata": {
        "id": "2pHGW6NA9b_y",
        "colab_type": "text"
      },
      "cell_type": "markdown",
      "source": [
        "### ndarray 建立方法\n",
        "\n",
        "- `np.array`\n",
        "- `np.arange`\n",
        "- `np.linspace`\n",
        "- `np.empty` / `np.zeros` / `np.ones`\n",
        "- `np.random.normal` / `np.random.uniform`"
      ]
    },
    {
      "metadata": {
        "id": "pxi4uBuT9iSU",
        "colab_type": "code",
        "outputId": "58685fbc-2ddf-4130-f1b2-da1016e402bc",
        "colab": {
          "base_uri": "https://localhost:8080/",
          "height": 84
        }
      },
      "cell_type": "code",
      "source": [
        "stupid_arr = np.array(87)\n",
        "print(stupid_arr)\n",
        "print(type(stupid_arr))\n",
        "print(stupid_arr.shape)\n",
        "print(stupid_arr.ndim)"
      ],
      "execution_count": 0,
      "outputs": [
        {
          "output_type": "stream",
          "text": [
            "87\n",
            "<class 'numpy.ndarray'>\n",
            "()\n",
            "0\n"
          ],
          "name": "stdout"
        }
      ]
    },
    {
      "metadata": {
        "id": "Hn75qUcv-MTg",
        "colab_type": "code",
        "outputId": "cf429d38-2ca0-461d-c882-5d74bf6b8dd5",
        "colab": {
          "base_uri": "https://localhost:8080/",
          "height": 84
        }
      },
      "cell_type": "code",
      "source": [
        "temp_arr = np.array([22, 9, -4, -1, 21])\n",
        "print(temp_arr)\n",
        "print(temp_arr.shape)\n",
        "print(temp_arr.ndim)\n",
        "print(city_temperatures_fahrenheit)"
      ],
      "execution_count": 0,
      "outputs": [
        {
          "output_type": "stream",
          "text": [
            "[22  9 -4 -1 21]\n",
            "(5,)\n",
            "1\n",
            "[71.6, 48.2, 24.8, 30.2, 69.8]\n"
          ],
          "name": "stdout"
        }
      ]
    },
    {
      "metadata": {
        "id": "M35xAVT3_La5",
        "colab_type": "code",
        "outputId": "d514b337-f1c3-4844-b2ff-16be47f7959d",
        "colab": {
          "base_uri": "https://localhost:8080/",
          "height": 168
        }
      },
      "cell_type": "code",
      "source": [
        "temp_arr = np.array([\n",
        "    [22, 71.6],\n",
        "    [9, 48.2],\n",
        "    [-4, 24.8],\n",
        "    [-1, 30.2],\n",
        "    [21, 69.8]\n",
        "])\n",
        "print(temp_arr)\n",
        "print(temp_arr.shape)\n",
        "print(temp_arr.ndim)\n",
        "print(temp_arr.T)"
      ],
      "execution_count": 0,
      "outputs": [
        {
          "output_type": "stream",
          "text": [
            "[[22.  71.6]\n",
            " [ 9.  48.2]\n",
            " [-4.  24.8]\n",
            " [-1.  30.2]\n",
            " [21.  69.8]]\n",
            "(5, 2)\n",
            "2\n",
            "[[22.   9.  -4.  -1.  21. ]\n",
            " [71.6 48.2 24.8 30.2 69.8]]\n"
          ],
          "name": "stdout"
        }
      ]
    },
    {
      "metadata": {
        "id": "tyC9ujjBBEXf",
        "colab_type": "code",
        "outputId": "1e267150-76e1-490b-eeb9-23433fd5e7af",
        "colab": {
          "base_uri": "https://localhost:8080/",
          "height": 168
        }
      },
      "cell_type": "code",
      "source": [
        "arr = np.arange(24).reshape(2, 3, 4)\n",
        "print(arr.shape)\n",
        "print(arr.ndim)\n",
        "print(arr)"
      ],
      "execution_count": 0,
      "outputs": [
        {
          "output_type": "stream",
          "text": [
            "(2, 3, 4)\n",
            "3\n",
            "[[[ 0  1  2  3]\n",
            "  [ 4  5  6  7]\n",
            "  [ 8  9 10 11]]\n",
            "\n",
            " [[12 13 14 15]\n",
            "  [16 17 18 19]\n",
            "  [20 21 22 23]]]\n"
          ],
          "name": "stdout"
        }
      ]
    },
    {
      "metadata": {
        "id": "261cM1C1CCZD",
        "colab_type": "code",
        "outputId": "784e8150-b637-4570-bf18-7aba6bc790e1",
        "colab": {
          "base_uri": "https://localhost:8080/",
          "height": 34
        }
      },
      "cell_type": "code",
      "source": [
        "np.linspace(1, 10, 10)"
      ],
      "execution_count": 0,
      "outputs": [
        {
          "output_type": "execute_result",
          "data": {
            "text/plain": [
              "array([ 1.,  2.,  3.,  4.,  5.,  6.,  7.,  8.,  9., 10.])"
            ]
          },
          "metadata": {
            "tags": []
          },
          "execution_count": 83
        }
      ]
    },
    {
      "metadata": {
        "id": "AopK1LinDZsc",
        "colab_type": "code",
        "outputId": "9660232a-eef3-4fb7-e2e7-08e9987ba7ba",
        "colab": {
          "base_uri": "https://localhost:8080/",
          "height": 67
        }
      },
      "cell_type": "code",
      "source": [
        "np.ones((3, 2))"
      ],
      "execution_count": 0,
      "outputs": [
        {
          "output_type": "execute_result",
          "data": {
            "text/plain": [
              "array([[1., 1.],\n",
              "       [1., 1.],\n",
              "       [1., 1.]])"
            ]
          },
          "metadata": {
            "tags": []
          },
          "execution_count": 90
        }
      ]
    },
    {
      "metadata": {
        "id": "9HvEexcnEgNt",
        "colab_type": "code",
        "outputId": "b605fd38-cfad-4d6b-fd15-b2d156530a92",
        "colab": {
          "base_uri": "https://localhost:8080/",
          "height": 347
        }
      },
      "cell_type": "code",
      "source": [
        "import matplotlib.pyplot as plt\n",
        "\n",
        "plt.hist(np.random.normal(size=(1000,)))\n",
        "plt.show()"
      ],
      "execution_count": 0,
      "outputs": [
        {
          "output_type": "display_data",
          "data": {
            "image/png": "[encoded data removed]",
            "text/plain": [
              "<Figure size 576x396 with 1 Axes>"
            ]
          },
          "metadata": {
            "tags": []
          }
        }
      ]
    },
    {
      "metadata": {
        "id": "IqODTq3RFKMq",
        "colab_type": "code",
        "outputId": "28c3fe23-5222-4cbc-9b40-d5660a2b8530",
        "colab": {
          "base_uri": "https://localhost:8080/",
          "height": 347
        }
      },
      "cell_type": "code",
      "source": [
        "import matplotlib.pyplot as plt\n",
        "\n",
        "plt.hist(np.random.uniform(size=(1000,)))\n",
        "plt.show()"
      ],
      "execution_count": 0,
      "outputs": [
        {
          "output_type": "display_data",
          "data": {
            "image/png": "[encoded data removed]",
            "text/plain": [
              "<Figure size 576x396 with 1 Axes>"
            ]
          },
          "metadata": {
            "tags": []
          }
        }
      ]
    },
    {
      "metadata": {
        "id": "bbN80Nafg6Pz",
        "colab_type": "text"
      },
      "cell_type": "markdown",
      "source": [
        "### ndarray 的常用屬性\n",
        "\n",
        "- `.shape`\n",
        "- `.ndim`\n",
        "- `.dtype`"
      ]
    },
    {
      "metadata": {
        "id": "5PJRRdMxgujo",
        "colab_type": "code",
        "outputId": "cadfd3f2-1d34-4cf0-e2ff-d52cacbfb2bd",
        "colab": {
          "base_uri": "https://localhost:8080/",
          "height": 52
        }
      },
      "cell_type": "code",
      "source": [
        "import numpy as np\n",
        "\n",
        "arr = np.array([True, False])\n",
        "print(arr)\n",
        "print(arr.dtype)"
      ],
      "execution_count": 0,
      "outputs": [
        {
          "output_type": "stream",
          "text": [
            "[ True False]\n",
            "bool\n"
          ],
          "name": "stdout"
        }
      ]
    },
    {
      "metadata": {
        "id": "tsbcoZ1Mhrs6",
        "colab_type": "code",
        "outputId": "d2cc6d5c-14e6-4958-9995-1560131099bc",
        "colab": {
          "base_uri": "https://localhost:8080/",
          "height": 52
        }
      },
      "cell_type": "code",
      "source": [
        "arr = np.append(arr, 87)\n",
        "print(arr)\n",
        "print(arr.dtype)"
      ],
      "execution_count": 0,
      "outputs": [
        {
          "output_type": "stream",
          "text": [
            "[ 1  0 87]\n",
            "int64\n"
          ],
          "name": "stdout"
        }
      ]
    },
    {
      "metadata": {
        "id": "cx1RgXAsiHa0",
        "colab_type": "code",
        "outputId": "92e46157-408a-41d7-e77a-8d6f3126335b",
        "colab": {
          "base_uri": "https://localhost:8080/",
          "height": 52
        }
      },
      "cell_type": "code",
      "source": [
        "arr = np.append(arr, 8.7)\n",
        "print(arr)\n",
        "print(arr.dtype)"
      ],
      "execution_count": 0,
      "outputs": [
        {
          "output_type": "stream",
          "text": [
            "[ 1.   0.  87.   8.7]\n",
            "float64\n"
          ],
          "name": "stdout"
        }
      ]
    },
    {
      "metadata": {
        "id": "uNmSbacKiPTQ",
        "colab_type": "code",
        "outputId": "2538144e-e0b1-41e5-f1e2-0f10e8ab6cf3",
        "colab": {
          "base_uri": "https://localhost:8080/",
          "height": 52
        }
      },
      "cell_type": "code",
      "source": [
        "arr = np.append(arr, \"NumPy\")\n",
        "print(arr)\n",
        "print(arr.dtype)"
      ],
      "execution_count": 0,
      "outputs": [
        {
          "output_type": "stream",
          "text": [
            "['1.0' '0.0' '87.0' '8.7' 'NumPy']\n",
            "<U32\n"
          ],
          "name": "stdout"
        }
      ]
    },
    {
      "metadata": {
        "id": "IA-j05j-i-KQ",
        "colab_type": "text"
      },
      "cell_type": "markdown",
      "source": [
        "### ndarray 的常用方法\n",
        "\n",
        "- `.astype()`\n",
        "- `.reshape()`\n",
        "- `.ravel()`\n",
        "- `.sum()` /  `.mean()` /  `.median()` /  `.std()` ... 搭配 `axis=None` or `axis=0` or `axis=1`"
      ]
    },
    {
      "metadata": {
        "id": "QvmEUAWgicSN",
        "colab_type": "code",
        "outputId": "7b0026c7-0667-46c5-a106-d9eb5e12a565",
        "colab": {
          "base_uri": "https://localhost:8080/",
          "height": 52
        }
      },
      "cell_type": "code",
      "source": [
        "arr = np.array([87])\n",
        "print(arr)\n",
        "print(arr.dtype)"
      ],
      "execution_count": 0,
      "outputs": [
        {
          "output_type": "stream",
          "text": [
            "[87]\n",
            "int64\n"
          ],
          "name": "stdout"
        }
      ]
    },
    {
      "metadata": {
        "id": "yXJGm8q4jI96",
        "colab_type": "code",
        "outputId": "57751ca1-134a-442d-a74e-045477398bc6",
        "colab": {
          "base_uri": "https://localhost:8080/",
          "height": 35
        }
      },
      "cell_type": "code",
      "source": [
        "arr = arr.astype(\"int64\")\n",
        "print(arr.dtype)"
      ],
      "execution_count": 0,
      "outputs": [
        {
          "output_type": "stream",
          "text": [
            "int64\n"
          ],
          "name": "stdout"
        }
      ]
    },
    {
      "metadata": {
        "id": "wcfidjAVjuPU",
        "colab_type": "code",
        "outputId": "66b47266-7b47-4c62-ac80-7869f44cb5dc",
        "colab": {
          "base_uri": "https://localhost:8080/",
          "height": 35
        }
      },
      "cell_type": "code",
      "source": [
        "arr = np.array([87])\n",
        "arr = arr.reshape(())\n",
        "print(arr)"
      ],
      "execution_count": 0,
      "outputs": [
        {
          "output_type": "stream",
          "text": [
            "87\n"
          ],
          "name": "stdout"
        }
      ]
    },
    {
      "metadata": {
        "id": "8w19tPK3kB5q",
        "colab_type": "code",
        "outputId": "1151d20f-e9ac-4948-f12c-d95997655828",
        "colab": {
          "base_uri": "https://localhost:8080/",
          "height": 87
        }
      },
      "cell_type": "code",
      "source": [
        "arr = np.array([87, 78, 7, 8])\n",
        "print(arr)\n",
        "print(arr.reshape(2, 2))\n",
        "print(arr.reshape(2, 2).ravel())"
      ],
      "execution_count": 0,
      "outputs": [
        {
          "output_type": "stream",
          "text": [
            "[87 78  7  8]\n",
            "[[87 78]\n",
            " [ 7  8]]\n",
            "[87 78  7  8]\n"
          ],
          "name": "stdout"
        }
      ]
    },
    {
      "metadata": {
        "id": "m-neP8rekdmr",
        "colab_type": "code",
        "outputId": "dfcca6e5-c9d0-4cd1-bee7-eca07209fa91",
        "colab": {
          "base_uri": "https://localhost:8080/",
          "height": 87
        }
      },
      "cell_type": "code",
      "source": [
        "print(arr.reshape(-1, 1))"
      ],
      "execution_count": 0,
      "outputs": [
        {
          "output_type": "stream",
          "text": [
            "[[87]\n",
            " [78]\n",
            " [ 7]\n",
            " [ 8]]\n"
          ],
          "name": "stdout"
        }
      ]
    },
    {
      "metadata": {
        "id": "DuyrvbAOv7yx",
        "colab_type": "code",
        "outputId": "88a03d7b-2393-4884-fb96-4c3a1b6a02af",
        "colab": {
          "base_uri": "https://localhost:8080/",
          "height": 87
        }
      },
      "cell_type": "code",
      "source": [
        "import numpy as np\n",
        "\n",
        "temps_c = np.array([25, 11, -14, -3, 22])\n",
        "temps_f = temps_c * 9 / 5 + 32\n",
        "temps_arr = np.vstack([temps_c, temps_f])\n",
        "print(temps_arr)\n",
        "print(temps_arr.min())\n",
        "print(temps_arr.min(axis=1))"
      ],
      "execution_count": 0,
      "outputs": [
        {
          "output_type": "stream",
          "text": [
            "[[ 25.   11.  -14.   -3.   22. ]\n",
            " [ 77.   51.8   6.8  26.6  71.6]]\n",
            "-14.0\n",
            "[-14.    6.8]\n"
          ],
          "name": "stdout"
        }
      ]
    },
    {
      "metadata": {
        "id": "ZPTQIphyxcle",
        "colab_type": "code",
        "outputId": "f6361a22-f990-46e7-9789-a11982cebeae",
        "colab": {
          "base_uri": "https://localhost:8080/",
          "height": 139
        }
      },
      "cell_type": "code",
      "source": [
        "temps_arr_t = temps_arr.T\n",
        "print(temps_arr_t)\n",
        "print(temps_arr_t.min())\n",
        "print(temps_arr_t.min(axis=0))"
      ],
      "execution_count": 0,
      "outputs": [
        {
          "output_type": "stream",
          "text": [
            "[[ 25.   77. ]\n",
            " [ 11.   51.8]\n",
            " [-14.    6.8]\n",
            " [ -3.   26.6]\n",
            " [ 22.   71.6]]\n",
            "-14.0\n",
            "[-14.    6.8]\n"
          ],
          "name": "stdout"
        }
      ]
    },
    {
      "metadata": {
        "id": "WXD50_Ktk9cQ",
        "colab_type": "text"
      },
      "cell_type": "markdown",
      "source": [
        "### ndarray 的矩陣函數、方法\n",
        "\n",
        "- `np.eye`: **I**dentity matrix\n",
        "- `np.diag`\n",
        "- `np.transpose` / `array.T`\n",
        "- `np.dot` /  `array.dot`"
      ]
    },
    {
      "metadata": {
        "id": "yypKV1walJp7",
        "colab_type": "code",
        "outputId": "7122501d-cb95-4a5b-8ea9-ad8e948d98a1",
        "colab": {
          "base_uri": "https://localhost:8080/",
          "height": 52
        }
      },
      "cell_type": "code",
      "source": [
        "np.eye(2)"
      ],
      "execution_count": 0,
      "outputs": [
        {
          "output_type": "execute_result",
          "data": {
            "text/plain": [
              "array([[1., 0.],\n",
              "       [0., 1.]])"
            ]
          },
          "metadata": {
            "tags": []
          },
          "execution_count": 31
        }
      ]
    },
    {
      "metadata": {
        "id": "44_fkcl6lcJa",
        "colab_type": "code",
        "outputId": "b743c1cf-ace8-46dd-8f76-9768b4242173",
        "colab": {
          "base_uri": "https://localhost:8080/",
          "height": 87
        }
      },
      "cell_type": "code",
      "source": [
        "np.diag([1, 2, 3, 4])"
      ],
      "execution_count": 0,
      "outputs": [
        {
          "output_type": "execute_result",
          "data": {
            "text/plain": [
              "array([[1, 0, 0, 0],\n",
              "       [0, 2, 0, 0],\n",
              "       [0, 0, 3, 0],\n",
              "       [0, 0, 0, 4]])"
            ]
          },
          "metadata": {
            "tags": []
          },
          "execution_count": 32
        }
      ]
    },
    {
      "metadata": {
        "id": "7J9xS55dlrVQ",
        "colab_type": "code",
        "outputId": "805fa291-aee1-4b33-a823-ce119329d7c5",
        "colab": {
          "base_uri": "https://localhost:8080/",
          "height": 156
        }
      },
      "cell_type": "code",
      "source": [
        "arr = np.ones((3, 5))\n",
        "print(arr)\n",
        "print(np.transpose(arr))"
      ],
      "execution_count": 0,
      "outputs": [
        {
          "output_type": "stream",
          "text": [
            "[[1. 1. 1. 1. 1.]\n",
            " [1. 1. 1. 1. 1.]\n",
            " [1. 1. 1. 1. 1.]]\n",
            "[[1. 1. 1.]\n",
            " [1. 1. 1.]\n",
            " [1. 1. 1.]\n",
            " [1. 1. 1.]\n",
            " [1. 1. 1.]]\n"
          ],
          "name": "stdout"
        }
      ]
    },
    {
      "metadata": {
        "id": "aHWSGXSRmCGD",
        "colab_type": "code",
        "outputId": "e98c1401-3412-43d3-f1bf-2bde32338918",
        "colab": {
          "base_uri": "https://localhost:8080/",
          "height": 121
        }
      },
      "cell_type": "code",
      "source": [
        "arr = np.ones((2, 2))\n",
        "arr_2 = np.array([2])\n",
        "print(arr)\n",
        "print(arr*arr)\n",
        "print(arr*arr_2)"
      ],
      "execution_count": 0,
      "outputs": [
        {
          "output_type": "stream",
          "text": [
            "[[1. 1.]\n",
            " [1. 1.]]\n",
            "[[1. 1.]\n",
            " [1. 1.]]\n",
            "[[2. 2.]\n",
            " [2. 2.]]\n"
          ],
          "name": "stdout"
        }
      ]
    },
    {
      "metadata": {
        "id": "1id8XWvUm0kw",
        "colab_type": "code",
        "outputId": "a3cf815e-45d8-4057-96b4-bd33a2a57b69",
        "colab": {
          "base_uri": "https://localhost:8080/",
          "height": 52
        }
      },
      "cell_type": "code",
      "source": [
        "np.dot(arr, arr) # arr.dot(arr)"
      ],
      "execution_count": 0,
      "outputs": [
        {
          "output_type": "execute_result",
          "data": {
            "text/plain": [
              "array([[2., 2.],\n",
              "       [2., 2.]])"
            ]
          },
          "metadata": {
            "tags": []
          },
          "execution_count": 39
        }
      ]
    },
    {
      "metadata": {
        "id": "DA3yvj22m83h",
        "colab_type": "code",
        "outputId": "9ee08dfa-897c-4fd2-9b7c-df1b974dac49",
        "colab": {
          "base_uri": "https://localhost:8080/",
          "height": 187
        }
      },
      "cell_type": "code",
      "source": [
        "np.dot(arr, arr_2)"
      ],
      "execution_count": 0,
      "outputs": [
        {
          "output_type": "error",
          "ename": "ValueError",
          "evalue": "ignored",
          "traceback": [
            "\u001b[0;31m---------------------------------------------------------------------------\u001b[0m",
            "\u001b[0;31mValueError\u001b[0m                                Traceback (most recent call last)",
            "\u001b[0;32m<ipython-input-40-6171b30b6038>\u001b[0m in \u001b[0;36m<module>\u001b[0;34m()\u001b[0m\n\u001b[0;32m----> 1\u001b[0;31m \u001b[0mnp\u001b[0m\u001b[0;34m.\u001b[0m\u001b[0mdot\u001b[0m\u001b[0;34m(\u001b[0m\u001b[0marr\u001b[0m\u001b[0;34m,\u001b[0m \u001b[0marr_2\u001b[0m\u001b[0;34m)\u001b[0m\u001b[0;34m\u001b[0m\u001b[0;34m\u001b[0m\u001b[0m\n\u001b[0m",
            "\u001b[0;31mValueError\u001b[0m: shapes (2,2) and (1,) not aligned: 2 (dim 1) != 1 (dim 0)"
          ]
        }
      ]
    },
    {
      "metadata": {
        "id": "bYhikqras4hX",
        "colab_type": "code",
        "outputId": "621fd40f-b206-4895-855c-9d8855f70825",
        "colab": {
          "base_uri": "https://localhost:8080/",
          "height": 35
        }
      },
      "cell_type": "code",
      "source": [
        "import numpy as np\n",
        "\n",
        "u = np.array([4, -4, -3]).reshape(-1, 1)\n",
        "v = np.array([4, 2, 4]).reshape(-1, 1)\n",
        "u_T = u.T\n",
        "u_T.dot(v)"
      ],
      "execution_count": 0,
      "outputs": [
        {
          "output_type": "execute_result",
          "data": {
            "text/plain": [
              "array([[-4]])"
            ]
          },
          "metadata": {
            "tags": []
          },
          "execution_count": 42
        }
      ]
    },
    {
      "metadata": {
        "id": "JYix40K7tXyO",
        "colab_type": "code",
        "outputId": "1d2fea1e-df60-49c4-aa82-49f6135993ca",
        "colab": {
          "base_uri": "https://localhost:8080/",
          "height": 225
        }
      },
      "cell_type": "code",
      "source": [
        "import numpy as np\n",
        "\n",
        "A = np.arange(1, 10).reshape(3, 3)\n",
        "I = np.eye(3)\n",
        "print(A)\n",
        "print(I)\n",
        "print(A.dot(I))\n",
        "print(I.dot(A))"
      ],
      "execution_count": 0,
      "outputs": [
        {
          "output_type": "stream",
          "text": [
            "[[1 2 3]\n",
            " [4 5 6]\n",
            " [7 8 9]]\n",
            "[[1. 0. 0.]\n",
            " [0. 1. 0.]\n",
            " [0. 0. 1.]]\n",
            "[[1. 2. 3.]\n",
            " [4. 5. 6.]\n",
            " [7. 8. 9.]]\n",
            "[[1. 2. 3.]\n",
            " [4. 5. 6.]\n",
            " [7. 8. 9.]]\n"
          ],
          "name": "stdout"
        }
      ]
    },
    {
      "metadata": {
        "id": "w5wtMRKfu9q_",
        "colab_type": "code",
        "outputId": "64084491-f620-4f0d-997e-a3b7af253344",
        "colab": {
          "base_uri": "https://localhost:8080/",
          "height": 156
        }
      },
      "cell_type": "code",
      "source": [
        "import numpy as np\n",
        "\n",
        "A = np.array([1, 2, 4, 5]).reshape(2, 2)\n",
        "B = np.arange(4, 0, -1).reshape(2, 2)\n",
        "print(A)\n",
        "print(B)\n",
        "print(A.dot(B))\n",
        "print(B.dot(A))"
      ],
      "execution_count": 0,
      "outputs": [
        {
          "output_type": "stream",
          "text": [
            "[[1 2]\n",
            " [4 5]]\n",
            "[[4 3]\n",
            " [2 1]]\n",
            "[[ 8  5]\n",
            " [26 17]]\n",
            "[[16 23]\n",
            " [ 6  9]]\n"
          ],
          "name": "stdout"
        }
      ]
    },
    {
      "metadata": {
        "id": "lB0claatKUtc",
        "colab_type": "text"
      },
      "cell_type": "markdown",
      "source": [
        "## Pandas\n",
        "\n",
        "- **Pan**el **Da**taFrame **S**eries\n",
        "\n",
        "<https://pandas.pydata.org/pandas-docs/stable/>\n",
        "\n",
        "- 不錯的功能：\n",
        "  - I/O\n",
        "  - 提供 Series, DataFrame...等資料結構\n",
        "  - 作圖（matplotlib.pyplot）\n",
        "  \n",
        "- Installation: `pip install pandas`\n",
        "- Import: `import pandas as pd`"
      ]
    },
    {
      "metadata": {
        "id": "zI6DtnF43oSS",
        "colab_type": "text"
      },
      "cell_type": "markdown",
      "source": [
        "### Series 建立方法"
      ]
    },
    {
      "metadata": {
        "id": "xh8M9WW63jY_",
        "colab_type": "code",
        "outputId": "d11091c0-9f34-4d05-d37b-9b387d1b4635",
        "colab": {
          "base_uri": "https://localhost:8080/",
          "height": 139
        }
      },
      "cell_type": "code",
      "source": [
        "import pandas as pd\n",
        "\n",
        "temps_c = [25, 11, -14, -3, 22]\n",
        "cities = [\"Taipei\", \"Tokyo\", \"New York\", \"London\", \"Honolulu\"]\n",
        "temp_ser = pd.Series(temps_c, index=cities)\n",
        "print(temp_ser)\n",
        "print(type(temp_ser))"
      ],
      "execution_count": 0,
      "outputs": [
        {
          "output_type": "stream",
          "text": [
            "Taipei      25\n",
            "Tokyo       11\n",
            "New York   -14\n",
            "London      -3\n",
            "Honolulu    22\n",
            "dtype: int64\n",
            "<class 'pandas.core.series.Series'>\n"
          ],
          "name": "stdout"
        }
      ]
    },
    {
      "metadata": {
        "id": "hEdRJ8A44lZd",
        "colab_type": "code",
        "outputId": "466e1c0a-3b6b-4632-ddcd-7e4118321fa1",
        "colab": {
          "base_uri": "https://localhost:8080/",
          "height": 52
        }
      },
      "cell_type": "code",
      "source": [
        "print(temp_ser[\"New York\"])\n",
        "print(temp_ser[2])"
      ],
      "execution_count": 0,
      "outputs": [
        {
          "output_type": "stream",
          "text": [
            "-14\n",
            "-14\n"
          ],
          "name": "stdout"
        }
      ]
    },
    {
      "metadata": {
        "id": "Dz93YAe244Xa",
        "colab_type": "code",
        "outputId": "7c27f633-8d9b-41de-c0fc-237cb77a4c1d",
        "colab": {
          "base_uri": "https://localhost:8080/",
          "height": 55
        }
      },
      "cell_type": "code",
      "source": [
        "print(temp_ser.index)"
      ],
      "execution_count": 0,
      "outputs": [
        {
          "output_type": "stream",
          "text": [
            "Index(['Taipei', 'Tokyo', 'New York', 'London', 'Honolulu'], dtype='object')\n"
          ],
          "name": "stdout"
        }
      ]
    },
    {
      "metadata": {
        "id": "0-7J6ghA5AVx",
        "colab_type": "code",
        "outputId": "38dd758d-d770-43f4-a680-2e4625c9e82d",
        "colab": {
          "base_uri": "https://localhost:8080/",
          "height": 55
        }
      },
      "cell_type": "code",
      "source": [
        "print(temp_ser.index)"
      ],
      "execution_count": 0,
      "outputs": [
        {
          "output_type": "stream",
          "text": [
            "Index(['Taipei', 'Tokyo', 'New York', 'London', 'Honolulu'], dtype='object')\n"
          ],
          "name": "stdout"
        }
      ]
    },
    {
      "metadata": {
        "id": "l4FlR_oU47aR",
        "colab_type": "code",
        "outputId": "43d572b6-7ce9-4be1-a0d9-08dd833cfa59",
        "colab": {
          "base_uri": "https://localhost:8080/",
          "height": 35
        }
      },
      "cell_type": "code",
      "source": [
        "print(temp_ser.values)"
      ],
      "execution_count": 0,
      "outputs": [
        {
          "output_type": "stream",
          "text": [
            "[ 25  11 -14  -3  22]\n"
          ],
          "name": "stdout"
        }
      ]
    },
    {
      "metadata": {
        "id": "GUnz3kPp5SM5",
        "colab_type": "code",
        "outputId": "7c73de30-de5d-4860-f475-e9ecfb81f749",
        "colab": {
          "base_uri": "https://localhost:8080/",
          "height": 35
        }
      },
      "cell_type": "code",
      "source": [
        "print(type(temp_ser.values))"
      ],
      "execution_count": 0,
      "outputs": [
        {
          "output_type": "stream",
          "text": [
            "<class 'numpy.ndarray'>\n"
          ],
          "name": "stdout"
        }
      ]
    },
    {
      "metadata": {
        "id": "USVqfUSA8B12",
        "colab_type": "code",
        "outputId": "e48d752b-5058-4fe7-a0e0-42cb38179012",
        "colab": {
          "base_uri": "https://localhost:8080/",
          "height": 121
        }
      },
      "cell_type": "code",
      "source": [
        "import pandas as pd\n",
        "\n",
        "temps_dict = {\n",
        "    \"Taipei\": 25,\n",
        "    \"Tokyo\": 11,\n",
        "    \"New York\": -14,\n",
        "    \"London\": -3,\n",
        "    \"Honolulu\": 22\n",
        "}\n",
        "\n",
        "temp_ser = pd.Series(temps_dict)\n",
        "print(temp_ser)"
      ],
      "execution_count": 0,
      "outputs": [
        {
          "output_type": "stream",
          "text": [
            "Honolulu    22\n",
            "London      -3\n",
            "New York   -14\n",
            "Taipei      25\n",
            "Tokyo       11\n",
            "dtype: int64\n"
          ],
          "name": "stdout"
        }
      ]
    },
    {
      "metadata": {
        "id": "-F8vWxp-51gl",
        "colab_type": "text"
      },
      "cell_type": "markdown",
      "source": [
        "### Series 性質\n",
        "\n",
        "- 繼承一切 ndarray 的特性\n",
        "  - Element-wise opeartion / Broadcasting\n",
        "  - Indexing / Slicing 是更彈性的\n",
        "  - Supporting boolean filtering\n",
        "  - 隱性轉換資料的型別"
      ]
    },
    {
      "metadata": {
        "id": "SXS-ZeKo5kQX",
        "colab_type": "code",
        "outputId": "c64a5b17-cc6c-4c50-e7a8-55c4c6f47196",
        "colab": {
          "base_uri": "https://localhost:8080/",
          "height": 121
        }
      },
      "cell_type": "code",
      "source": [
        "temp_ser * 9 / 5 + 32"
      ],
      "execution_count": 0,
      "outputs": [
        {
          "output_type": "execute_result",
          "data": {
            "text/plain": [
              "Taipei      77.0\n",
              "Tokyo       51.8\n",
              "New York     6.8\n",
              "London      26.6\n",
              "Honolulu    71.6\n",
              "dtype: float64"
            ]
          },
          "metadata": {
            "tags": []
          },
          "execution_count": 84
        }
      ]
    },
    {
      "metadata": {
        "id": "etGx__Nn6K5K",
        "colab_type": "code",
        "outputId": "2ee8a974-8ed2-4787-86fe-df61338191cd",
        "colab": {
          "base_uri": "https://localhost:8080/",
          "height": 87
        }
      },
      "cell_type": "code",
      "source": [
        "temp_ser[[0, 1, 3]]"
      ],
      "execution_count": 0,
      "outputs": [
        {
          "output_type": "execute_result",
          "data": {
            "text/plain": [
              "Taipei    25\n",
              "Tokyo     11\n",
              "London    -3\n",
              "dtype: int64"
            ]
          },
          "metadata": {
            "tags": []
          },
          "execution_count": 87
        }
      ]
    },
    {
      "metadata": {
        "id": "6dV68y-Q6TWf",
        "colab_type": "code",
        "outputId": "8417b693-62ac-438a-889e-675e30751d74",
        "colab": {
          "base_uri": "https://localhost:8080/",
          "height": 87
        }
      },
      "cell_type": "code",
      "source": [
        "temp_ser[[\"Taipei\", \"Tokyo\", \"London\"]]"
      ],
      "execution_count": 0,
      "outputs": [
        {
          "output_type": "execute_result",
          "data": {
            "text/plain": [
              "Taipei    25\n",
              "Tokyo     11\n",
              "London    -3\n",
              "dtype: int64"
            ]
          },
          "metadata": {
            "tags": []
          },
          "execution_count": 89
        }
      ]
    },
    {
      "metadata": {
        "id": "1pN32DTj6dy1",
        "colab_type": "code",
        "outputId": "81aa3e82-433e-46e8-e62d-2dd2ad638fd5",
        "colab": {
          "base_uri": "https://localhost:8080/",
          "height": 121
        }
      },
      "cell_type": "code",
      "source": [
        "temp_ser < 0"
      ],
      "execution_count": 0,
      "outputs": [
        {
          "output_type": "execute_result",
          "data": {
            "text/plain": [
              "Taipei      False\n",
              "Tokyo       False\n",
              "New York     True\n",
              "London       True\n",
              "Honolulu    False\n",
              "dtype: bool"
            ]
          },
          "metadata": {
            "tags": []
          },
          "execution_count": 90
        }
      ]
    },
    {
      "metadata": {
        "id": "StfIKUix6iFC",
        "colab_type": "code",
        "outputId": "fb4c6807-4343-478a-aacd-408362950c64",
        "colab": {
          "base_uri": "https://localhost:8080/",
          "height": 69
        }
      },
      "cell_type": "code",
      "source": [
        "temp_ser[temp_ser < 0]"
      ],
      "execution_count": 0,
      "outputs": [
        {
          "output_type": "execute_result",
          "data": {
            "text/plain": [
              "New York   -14\n",
              "London      -3\n",
              "dtype: int64"
            ]
          },
          "metadata": {
            "tags": []
          },
          "execution_count": 91
        }
      ]
    },
    {
      "metadata": {
        "id": "aegxqy7B6lup",
        "colab_type": "code",
        "outputId": "8163ad6d-9722-4dfe-d1e0-902bef245796",
        "colab": {
          "base_uri": "https://localhost:8080/",
          "height": 69
        }
      },
      "cell_type": "code",
      "source": [
        "temp_ser[[False, False, True, True, False]]"
      ],
      "execution_count": 0,
      "outputs": [
        {
          "output_type": "execute_result",
          "data": {
            "text/plain": [
              "New York   -14\n",
              "London      -3\n",
              "dtype: int64"
            ]
          },
          "metadata": {
            "tags": []
          },
          "execution_count": 92
        }
      ]
    },
    {
      "metadata": {
        "id": "2JhSzavC6v8B",
        "colab_type": "code",
        "outputId": "7dc56d77-94f1-4c9b-da7c-c13ca03031a8",
        "colab": {
          "base_uri": "https://localhost:8080/",
          "height": 35
        }
      },
      "cell_type": "code",
      "source": [
        "arr = np.array([True, False])\n",
        "ser = pd.Series(arr)\n",
        "print(ser.dtype)"
      ],
      "execution_count": 0,
      "outputs": [
        {
          "output_type": "stream",
          "text": [
            "bool\n"
          ],
          "name": "stdout"
        }
      ]
    },
    {
      "metadata": {
        "id": "iskHxB4x63CP",
        "colab_type": "code",
        "outputId": "ce01d931-d859-4e3b-b8dd-cee000a2b7dc",
        "colab": {
          "base_uri": "https://localhost:8080/",
          "height": 35
        }
      },
      "cell_type": "code",
      "source": [
        "arr = np.array([True, False, 87])\n",
        "ser = pd.Series(arr)\n",
        "print(ser.dtype)"
      ],
      "execution_count": 0,
      "outputs": [
        {
          "output_type": "stream",
          "text": [
            "int64\n"
          ],
          "name": "stdout"
        }
      ]
    },
    {
      "metadata": {
        "id": "Yh7DJJUb65NR",
        "colab_type": "code",
        "outputId": "c5f6f0a0-4b0e-4ad3-8a00-a8382413ddcb",
        "colab": {
          "base_uri": "https://localhost:8080/",
          "height": 35
        }
      },
      "cell_type": "code",
      "source": [
        "arr = np.array([True, False, 87, 8.7])\n",
        "ser = pd.Series(arr)\n",
        "print(ser.dtype)"
      ],
      "execution_count": 0,
      "outputs": [
        {
          "output_type": "stream",
          "text": [
            "float64\n"
          ],
          "name": "stdout"
        }
      ]
    },
    {
      "metadata": {
        "id": "swm7PbRK673x",
        "colab_type": "code",
        "outputId": "2552cb6a-2bed-4d61-e37d-b3a9a77b0acf",
        "colab": {
          "base_uri": "https://localhost:8080/",
          "height": 35
        }
      },
      "cell_type": "code",
      "source": [
        "arr = np.array([True, False, 87, 8.7, \"pandas\"])\n",
        "ser = pd.Series(arr)\n",
        "print(ser.dtype)"
      ],
      "execution_count": 0,
      "outputs": [
        {
          "output_type": "stream",
          "text": [
            "object\n"
          ],
          "name": "stdout"
        }
      ]
    },
    {
      "metadata": {
        "id": "W8AlPq8h8IVp",
        "colab_type": "text"
      },
      "cell_type": "markdown",
      "source": [
        "### DataFrame 建立方法\n",
        "\n",
        "> Flexible and powerful data analysis / manipulation library for Python, providing labeled data structures similar to R data.frame objects, statistical functions, and much more"
      ]
    },
    {
      "metadata": {
        "id": "KucPyESA8Lsf",
        "colab_type": "code",
        "outputId": "20e705b5-c228-4e91-faf8-d7ef995912de",
        "colab": {
          "base_uri": "https://localhost:8080/",
          "height": 219
        }
      },
      "cell_type": "code",
      "source": [
        "import pandas as pd\n",
        "\n",
        "df = pd.DataFrame()\n",
        "df[\"city\"] = cities\n",
        "df[\"temp_c\"] = temps_c\n",
        "print(type(df))\n",
        "df"
      ],
      "execution_count": 0,
      "outputs": [
        {
          "output_type": "stream",
          "text": [
            "<class 'pandas.core.frame.DataFrame'>\n"
          ],
          "name": "stdout"
        },
        {
          "output_type": "execute_result",
          "data": {
            "text/html": [
              "<div>\n",
              "<style scoped>\n",
              "    .dataframe tbody tr th:only-of-type {\n",
              "        vertical-align: middle;\n",
              "    }\n",
              "\n",
              "    .dataframe tbody tr th {\n",
              "        vertical-align: top;\n",
              "    }\n",
              "\n",
              "    .dataframe thead th {\n",
              "        text-align: right;\n",
              "    }\n",
              "</style>\n",
              "<table border=\"1\" class=\"dataframe\">\n",
              "  <thead>\n",
              "    <tr style=\"text-align: right;\">\n",
              "      <th></th>\n",
              "      <th>city</th>\n",
              "      <th>temp_c</th>\n",
              "    </tr>\n",
              "  </thead>\n",
              "  <tbody>\n",
              "    <tr>\n",
              "      <th>0</th>\n",
              "      <td>Taipei</td>\n",
              "      <td>25</td>\n",
              "    </tr>\n",
              "    <tr>\n",
              "      <th>1</th>\n",
              "      <td>Tokyo</td>\n",
              "      <td>11</td>\n",
              "    </tr>\n",
              "    <tr>\n",
              "      <th>2</th>\n",
              "      <td>New York</td>\n",
              "      <td>-14</td>\n",
              "    </tr>\n",
              "    <tr>\n",
              "      <th>3</th>\n",
              "      <td>London</td>\n",
              "      <td>-3</td>\n",
              "    </tr>\n",
              "    <tr>\n",
              "      <th>4</th>\n",
              "      <td>Honolulu</td>\n",
              "      <td>22</td>\n",
              "    </tr>\n",
              "  </tbody>\n",
              "</table>\n",
              "</div>"
            ],
            "text/plain": [
              "       city  temp_c\n",
              "0    Taipei      25\n",
              "1     Tokyo      11\n",
              "2  New York     -14\n",
              "3    London      -3\n",
              "4  Honolulu      22"
            ]
          },
          "metadata": {
            "tags": []
          },
          "execution_count": 103
        }
      ]
    },
    {
      "metadata": {
        "id": "Fknz5f8q8xji",
        "colab_type": "code",
        "outputId": "fbb1b2c1-be75-48bc-c43f-9147f2e3319d",
        "colab": {
          "base_uri": "https://localhost:8080/",
          "height": 202
        }
      },
      "cell_type": "code",
      "source": [
        "import pandas as pd\n",
        "\n",
        "temps_dict = {\n",
        "    \"temp_c\": [25, 11, -14, -3, 22],\n",
        "    \"city\": [\"Taipei\", \"Tokyo\", \"New York\", \"London\", \"Honolulu\"]\n",
        "}\n",
        "df = pd.DataFrame(temps_dict)\n",
        "df"
      ],
      "execution_count": 0,
      "outputs": [
        {
          "output_type": "execute_result",
          "data": {
            "text/html": [
              "<div>\n",
              "<style scoped>\n",
              "    .dataframe tbody tr th:only-of-type {\n",
              "        vertical-align: middle;\n",
              "    }\n",
              "\n",
              "    .dataframe tbody tr th {\n",
              "        vertical-align: top;\n",
              "    }\n",
              "\n",
              "    .dataframe thead th {\n",
              "        text-align: right;\n",
              "    }\n",
              "</style>\n",
              "<table border=\"1\" class=\"dataframe\">\n",
              "  <thead>\n",
              "    <tr style=\"text-align: right;\">\n",
              "      <th></th>\n",
              "      <th>city</th>\n",
              "      <th>temp_c</th>\n",
              "    </tr>\n",
              "  </thead>\n",
              "  <tbody>\n",
              "    <tr>\n",
              "      <th>0</th>\n",
              "      <td>Taipei</td>\n",
              "      <td>25</td>\n",
              "    </tr>\n",
              "    <tr>\n",
              "      <th>1</th>\n",
              "      <td>Tokyo</td>\n",
              "      <td>11</td>\n",
              "    </tr>\n",
              "    <tr>\n",
              "      <th>2</th>\n",
              "      <td>New York</td>\n",
              "      <td>-14</td>\n",
              "    </tr>\n",
              "    <tr>\n",
              "      <th>3</th>\n",
              "      <td>London</td>\n",
              "      <td>-3</td>\n",
              "    </tr>\n",
              "    <tr>\n",
              "      <th>4</th>\n",
              "      <td>Honolulu</td>\n",
              "      <td>22</td>\n",
              "    </tr>\n",
              "  </tbody>\n",
              "</table>\n",
              "</div>"
            ],
            "text/plain": [
              "       city  temp_c\n",
              "0    Taipei      25\n",
              "1     Tokyo      11\n",
              "2  New York     -14\n",
              "3    London      -3\n",
              "4  Honolulu      22"
            ]
          },
          "metadata": {
            "tags": []
          },
          "execution_count": 106
        }
      ]
    },
    {
      "metadata": {
        "id": "JuwFKmGj9XcR",
        "colab_type": "text"
      },
      "cell_type": "markdown",
      "source": [
        "### DataFrame  性質\n",
        "\n",
        "- `df.index`\n",
        "- `df.columns`\n",
        "- `df.values`\n",
        "- `df.shape`\n",
        "- `df.dtypes`\n",
        "- `df.head()`\n",
        "- `df.tail()`\n",
        "- `df.info()`\n",
        "- `df.describe()`"
      ]
    },
    {
      "metadata": {
        "id": "dbcbmnoZ9Wt5",
        "colab_type": "code",
        "outputId": "ff626171-5683-489b-814a-75b95b490887",
        "colab": {
          "base_uri": "https://localhost:8080/",
          "height": 35
        }
      },
      "cell_type": "code",
      "source": [
        "df.index"
      ],
      "execution_count": 0,
      "outputs": [
        {
          "output_type": "execute_result",
          "data": {
            "text/plain": [
              "RangeIndex(start=0, stop=5, step=1)"
            ]
          },
          "metadata": {
            "tags": []
          },
          "execution_count": 107
        }
      ]
    },
    {
      "metadata": {
        "id": "c-KMWwPd9fpr",
        "colab_type": "code",
        "outputId": "66727af0-2747-42b8-abd6-6bd47805ae47",
        "colab": {
          "base_uri": "https://localhost:8080/",
          "height": 35
        }
      },
      "cell_type": "code",
      "source": [
        "df.columns"
      ],
      "execution_count": 0,
      "outputs": [
        {
          "output_type": "execute_result",
          "data": {
            "text/plain": [
              "Index(['city', 'temp_c'], dtype='object')"
            ]
          },
          "metadata": {
            "tags": []
          },
          "execution_count": 108
        }
      ]
    },
    {
      "metadata": {
        "id": "zVXdLgYO9o8O",
        "colab_type": "code",
        "outputId": "a9e5d9b0-6d53-4d8a-8012-b39413906046",
        "colab": {
          "base_uri": "https://localhost:8080/",
          "height": 104
        }
      },
      "cell_type": "code",
      "source": [
        "df.values"
      ],
      "execution_count": 0,
      "outputs": [
        {
          "output_type": "execute_result",
          "data": {
            "text/plain": [
              "array([['Taipei', 25],\n",
              "       ['Tokyo', 11],\n",
              "       ['New York', -14],\n",
              "       ['London', -3],\n",
              "       ['Honolulu', 22]], dtype=object)"
            ]
          },
          "metadata": {
            "tags": []
          },
          "execution_count": 109
        }
      ]
    },
    {
      "metadata": {
        "id": "QSuVrU3Y9tAW",
        "colab_type": "code",
        "outputId": "2da726d9-aa73-48f0-8375-b85148b6e216",
        "colab": {
          "base_uri": "https://localhost:8080/",
          "height": 69
        }
      },
      "cell_type": "code",
      "source": [
        "df.dtypes"
      ],
      "execution_count": 0,
      "outputs": [
        {
          "output_type": "execute_result",
          "data": {
            "text/plain": [
              "city      object\n",
              "temp_c     int64\n",
              "dtype: object"
            ]
          },
          "metadata": {
            "tags": []
          },
          "execution_count": 124
        }
      ]
    },
    {
      "metadata": {
        "id": "l56sLFIm-BaQ",
        "colab_type": "code",
        "outputId": "ad93f9bc-64c9-4a13-b5b1-6206607536bf",
        "colab": {
          "base_uri": "https://localhost:8080/",
          "height": 121
        }
      },
      "cell_type": "code",
      "source": [
        "df[\"city\"]"
      ],
      "execution_count": 0,
      "outputs": [
        {
          "output_type": "execute_result",
          "data": {
            "text/plain": [
              "0      Taipei\n",
              "1       Tokyo\n",
              "2    New York\n",
              "3      London\n",
              "4    Honolulu\n",
              "Name: city, dtype: object"
            ]
          },
          "metadata": {
            "tags": []
          },
          "execution_count": 111
        }
      ]
    },
    {
      "metadata": {
        "id": "PiEi1nUC-GE6",
        "colab_type": "code",
        "outputId": "0fd18f47-4750-405c-b8bb-ee8bd89ad8d0",
        "colab": {
          "base_uri": "https://localhost:8080/",
          "height": 35
        }
      },
      "cell_type": "code",
      "source": [
        "print(type(df[\"city\"]))"
      ],
      "execution_count": 0,
      "outputs": [
        {
          "output_type": "stream",
          "text": [
            "<class 'pandas.core.series.Series'>\n"
          ],
          "name": "stdout"
        }
      ]
    },
    {
      "metadata": {
        "id": "ys-prVlA-Pyk",
        "colab_type": "code",
        "outputId": "27150ddd-7cd8-4820-8f0a-5a86b69c070c",
        "colab": {
          "base_uri": "https://localhost:8080/",
          "height": 35
        }
      },
      "cell_type": "code",
      "source": [
        "print(df[\"city\"].index)"
      ],
      "execution_count": 0,
      "outputs": [
        {
          "output_type": "stream",
          "text": [
            "RangeIndex(start=0, stop=5, step=1)\n"
          ],
          "name": "stdout"
        }
      ]
    },
    {
      "metadata": {
        "id": "lBDxHJey-WPd",
        "colab_type": "code",
        "outputId": "f14642db-43f1-4e5f-e0be-e647f7521d3c",
        "colab": {
          "base_uri": "https://localhost:8080/",
          "height": 35
        }
      },
      "cell_type": "code",
      "source": [
        "print(df[\"city\"].values)"
      ],
      "execution_count": 0,
      "outputs": [
        {
          "output_type": "stream",
          "text": [
            "['Taipei' 'Tokyo' 'New York' 'London' 'Honolulu']\n"
          ],
          "name": "stdout"
        }
      ]
    },
    {
      "metadata": {
        "id": "U4SZquXB-uMg",
        "colab_type": "code",
        "outputId": "a5d1b852-d9b9-428c-b506-56c34e3a63f0",
        "colab": {
          "base_uri": "https://localhost:8080/",
          "height": 35
        }
      },
      "cell_type": "code",
      "source": [
        "df.shape"
      ],
      "execution_count": 0,
      "outputs": [
        {
          "output_type": "execute_result",
          "data": {
            "text/plain": [
              "(5, 2)"
            ]
          },
          "metadata": {
            "tags": []
          },
          "execution_count": 117
        }
      ]
    },
    {
      "metadata": {
        "id": "mRJWiA8P-xcA",
        "colab_type": "code",
        "outputId": "be212e27-cc97-4fc4-fc1e-a9edcdcb42ca",
        "colab": {
          "base_uri": "https://localhost:8080/",
          "height": 141
        }
      },
      "cell_type": "code",
      "source": [
        "df.head(n=3)"
      ],
      "execution_count": 0,
      "outputs": [
        {
          "output_type": "execute_result",
          "data": {
            "text/html": [
              "<div>\n",
              "<style scoped>\n",
              "    .dataframe tbody tr th:only-of-type {\n",
              "        vertical-align: middle;\n",
              "    }\n",
              "\n",
              "    .dataframe tbody tr th {\n",
              "        vertical-align: top;\n",
              "    }\n",
              "\n",
              "    .dataframe thead th {\n",
              "        text-align: right;\n",
              "    }\n",
              "</style>\n",
              "<table border=\"1\" class=\"dataframe\">\n",
              "  <thead>\n",
              "    <tr style=\"text-align: right;\">\n",
              "      <th></th>\n",
              "      <th>city</th>\n",
              "      <th>temp_c</th>\n",
              "    </tr>\n",
              "  </thead>\n",
              "  <tbody>\n",
              "    <tr>\n",
              "      <th>0</th>\n",
              "      <td>Taipei</td>\n",
              "      <td>25</td>\n",
              "    </tr>\n",
              "    <tr>\n",
              "      <th>1</th>\n",
              "      <td>Tokyo</td>\n",
              "      <td>11</td>\n",
              "    </tr>\n",
              "    <tr>\n",
              "      <th>2</th>\n",
              "      <td>New York</td>\n",
              "      <td>-14</td>\n",
              "    </tr>\n",
              "  </tbody>\n",
              "</table>\n",
              "</div>"
            ],
            "text/plain": [
              "       city  temp_c\n",
              "0    Taipei      25\n",
              "1     Tokyo      11\n",
              "2  New York     -14"
            ]
          },
          "metadata": {
            "tags": []
          },
          "execution_count": 119
        }
      ]
    },
    {
      "metadata": {
        "id": "zfFmqEWS-60e",
        "colab_type": "code",
        "outputId": "94cc7155-1a7e-4099-b524-7372dd39823a",
        "colab": {
          "base_uri": "https://localhost:8080/",
          "height": 141
        }
      },
      "cell_type": "code",
      "source": [
        "df.tail(n=3)"
      ],
      "execution_count": 0,
      "outputs": [
        {
          "output_type": "execute_result",
          "data": {
            "text/html": [
              "<div>\n",
              "<style scoped>\n",
              "    .dataframe tbody tr th:only-of-type {\n",
              "        vertical-align: middle;\n",
              "    }\n",
              "\n",
              "    .dataframe tbody tr th {\n",
              "        vertical-align: top;\n",
              "    }\n",
              "\n",
              "    .dataframe thead th {\n",
              "        text-align: right;\n",
              "    }\n",
              "</style>\n",
              "<table border=\"1\" class=\"dataframe\">\n",
              "  <thead>\n",
              "    <tr style=\"text-align: right;\">\n",
              "      <th></th>\n",
              "      <th>city</th>\n",
              "      <th>temp_c</th>\n",
              "    </tr>\n",
              "  </thead>\n",
              "  <tbody>\n",
              "    <tr>\n",
              "      <th>2</th>\n",
              "      <td>New York</td>\n",
              "      <td>-14</td>\n",
              "    </tr>\n",
              "    <tr>\n",
              "      <th>3</th>\n",
              "      <td>London</td>\n",
              "      <td>-3</td>\n",
              "    </tr>\n",
              "    <tr>\n",
              "      <th>4</th>\n",
              "      <td>Honolulu</td>\n",
              "      <td>22</td>\n",
              "    </tr>\n",
              "  </tbody>\n",
              "</table>\n",
              "</div>"
            ],
            "text/plain": [
              "       city  temp_c\n",
              "2  New York     -14\n",
              "3    London      -3\n",
              "4  Honolulu      22"
            ]
          },
          "metadata": {
            "tags": []
          },
          "execution_count": 120
        }
      ]
    },
    {
      "metadata": {
        "id": "qbmlmexp-_mE",
        "colab_type": "code",
        "outputId": "337082a8-f605-4ef3-f6b1-e613fcafbd03",
        "colab": {
          "base_uri": "https://localhost:8080/",
          "height": 139
        }
      },
      "cell_type": "code",
      "source": [
        "df.info()"
      ],
      "execution_count": 0,
      "outputs": [
        {
          "output_type": "stream",
          "text": [
            "<class 'pandas.core.frame.DataFrame'>\n",
            "RangeIndex: 5 entries, 0 to 4\n",
            "Data columns (total 2 columns):\n",
            "city      5 non-null object\n",
            "temp_c    5 non-null int64\n",
            "dtypes: int64(1), object(1)\n",
            "memory usage: 160.0+ bytes\n"
          ],
          "name": "stdout"
        }
      ]
    },
    {
      "metadata": {
        "id": "ATjxtwpv_Cn7",
        "colab_type": "code",
        "outputId": "3a7cc824-d360-488e-d455-bb24a937e6ce",
        "colab": {
          "base_uri": "https://localhost:8080/",
          "height": 284
        }
      },
      "cell_type": "code",
      "source": [
        "df.describe()"
      ],
      "execution_count": 0,
      "outputs": [
        {
          "output_type": "execute_result",
          "data": {
            "text/html": [
              "<div>\n",
              "<style scoped>\n",
              "    .dataframe tbody tr th:only-of-type {\n",
              "        vertical-align: middle;\n",
              "    }\n",
              "\n",
              "    .dataframe tbody tr th {\n",
              "        vertical-align: top;\n",
              "    }\n",
              "\n",
              "    .dataframe thead th {\n",
              "        text-align: right;\n",
              "    }\n",
              "</style>\n",
              "<table border=\"1\" class=\"dataframe\">\n",
              "  <thead>\n",
              "    <tr style=\"text-align: right;\">\n",
              "      <th></th>\n",
              "      <th>temp_c</th>\n",
              "    </tr>\n",
              "  </thead>\n",
              "  <tbody>\n",
              "    <tr>\n",
              "      <th>count</th>\n",
              "      <td>5.000000</td>\n",
              "    </tr>\n",
              "    <tr>\n",
              "      <th>mean</th>\n",
              "      <td>8.200000</td>\n",
              "    </tr>\n",
              "    <tr>\n",
              "      <th>std</th>\n",
              "      <td>16.574076</td>\n",
              "    </tr>\n",
              "    <tr>\n",
              "      <th>min</th>\n",
              "      <td>-14.000000</td>\n",
              "    </tr>\n",
              "    <tr>\n",
              "      <th>25%</th>\n",
              "      <td>-3.000000</td>\n",
              "    </tr>\n",
              "    <tr>\n",
              "      <th>50%</th>\n",
              "      <td>11.000000</td>\n",
              "    </tr>\n",
              "    <tr>\n",
              "      <th>75%</th>\n",
              "      <td>22.000000</td>\n",
              "    </tr>\n",
              "    <tr>\n",
              "      <th>max</th>\n",
              "      <td>25.000000</td>\n",
              "    </tr>\n",
              "  </tbody>\n",
              "</table>\n",
              "</div>"
            ],
            "text/plain": [
              "          temp_c\n",
              "count   5.000000\n",
              "mean    8.200000\n",
              "std    16.574076\n",
              "min   -14.000000\n",
              "25%    -3.000000\n",
              "50%    11.000000\n",
              "75%    22.000000\n",
              "max    25.000000"
            ]
          },
          "metadata": {
            "tags": []
          },
          "execution_count": 122
        }
      ]
    },
    {
      "metadata": {
        "id": "Xnojo1Qm_nWp",
        "colab_type": "text"
      },
      "cell_type": "markdown",
      "source": [
        "### DatFrame 基礎操作\n",
        "\n",
        "|操作|方法名|\n",
        "|-------|-----------|\n",
        "|select|`.loc`, `.iloc`|\n",
        "|filter|`.loc`, `.iloc`|\n",
        "|arrange|`.sort_values`, `sort_index`|\n",
        "|mutate|`.map`|\n",
        "|summarise|...|\n",
        "|group by| `.group_by()`|"
      ]
    },
    {
      "metadata": {
        "id": "fEttZDWGAVET",
        "colab_type": "code",
        "outputId": "010e8a5a-2788-420c-8209-ebe47a8c98bc",
        "colab": {
          "base_uri": "https://localhost:8080/",
          "height": 195
        }
      },
      "cell_type": "code",
      "source": [
        "import pandas as pd\n",
        "\n",
        "temps_c = [25, 11, -14, -3, 22]\n",
        "cities = [\"Taipei\", \"Tokyo\", \"New York\", \"London\", \"Honolulu\"]\n",
        "df = pd.DataFrame()\n",
        "df[\"city\"] = cities\n",
        "df[\"temp\"] = temps_c\n",
        "df"
      ],
      "execution_count": 0,
      "outputs": [
        {
          "output_type": "execute_result",
          "data": {
            "text/html": [
              "<div>\n",
              "<style scoped>\n",
              "    .dataframe tbody tr th:only-of-type {\n",
              "        vertical-align: middle;\n",
              "    }\n",
              "\n",
              "    .dataframe tbody tr th {\n",
              "        vertical-align: top;\n",
              "    }\n",
              "\n",
              "    .dataframe thead th {\n",
              "        text-align: right;\n",
              "    }\n",
              "</style>\n",
              "<table border=\"1\" class=\"dataframe\">\n",
              "  <thead>\n",
              "    <tr style=\"text-align: right;\">\n",
              "      <th></th>\n",
              "      <th>city</th>\n",
              "      <th>temp</th>\n",
              "    </tr>\n",
              "  </thead>\n",
              "  <tbody>\n",
              "    <tr>\n",
              "      <th>0</th>\n",
              "      <td>Taipei</td>\n",
              "      <td>25</td>\n",
              "    </tr>\n",
              "    <tr>\n",
              "      <th>1</th>\n",
              "      <td>Tokyo</td>\n",
              "      <td>11</td>\n",
              "    </tr>\n",
              "    <tr>\n",
              "      <th>2</th>\n",
              "      <td>New York</td>\n",
              "      <td>-14</td>\n",
              "    </tr>\n",
              "    <tr>\n",
              "      <th>3</th>\n",
              "      <td>London</td>\n",
              "      <td>-3</td>\n",
              "    </tr>\n",
              "    <tr>\n",
              "      <th>4</th>\n",
              "      <td>Honolulu</td>\n",
              "      <td>22</td>\n",
              "    </tr>\n",
              "  </tbody>\n",
              "</table>\n",
              "</div>"
            ],
            "text/plain": [
              "       city  temp\n",
              "0    Taipei    25\n",
              "1     Tokyo    11\n",
              "2  New York   -14\n",
              "3    London    -3\n",
              "4  Honolulu    22"
            ]
          },
          "metadata": {
            "tags": []
          },
          "execution_count": 153
        }
      ]
    },
    {
      "metadata": {
        "id": "r7oIV5S-Artb",
        "colab_type": "code",
        "outputId": "0e62aab8-11c8-4d52-be9b-06398af7edd9",
        "colab": {
          "base_uri": "https://localhost:8080/",
          "height": 118
        }
      },
      "cell_type": "code",
      "source": [
        "df[\"city\"] # df[[\"city\"]]"
      ],
      "execution_count": 0,
      "outputs": [
        {
          "output_type": "execute_result",
          "data": {
            "text/plain": [
              "0      Taipei\n",
              "1       Tokyo\n",
              "2    New York\n",
              "3      London\n",
              "4    Honolulu\n",
              "Name: city, dtype: object"
            ]
          },
          "metadata": {
            "tags": []
          },
          "execution_count": 127
        }
      ]
    },
    {
      "metadata": {
        "id": "Q0M9Nd7WAt2w",
        "colab_type": "code",
        "outputId": "513f9093-0fe4-4fa6-bdc6-fb341c8a62b1",
        "colab": {
          "base_uri": "https://localhost:8080/",
          "height": 195
        }
      },
      "cell_type": "code",
      "source": [
        "df[[\"temp\"]]"
      ],
      "execution_count": 0,
      "outputs": [
        {
          "output_type": "execute_result",
          "data": {
            "text/html": [
              "<div>\n",
              "<style scoped>\n",
              "    .dataframe tbody tr th:only-of-type {\n",
              "        vertical-align: middle;\n",
              "    }\n",
              "\n",
              "    .dataframe tbody tr th {\n",
              "        vertical-align: top;\n",
              "    }\n",
              "\n",
              "    .dataframe thead th {\n",
              "        text-align: right;\n",
              "    }\n",
              "</style>\n",
              "<table border=\"1\" class=\"dataframe\">\n",
              "  <thead>\n",
              "    <tr style=\"text-align: right;\">\n",
              "      <th></th>\n",
              "      <th>temp</th>\n",
              "    </tr>\n",
              "  </thead>\n",
              "  <tbody>\n",
              "    <tr>\n",
              "      <th>0</th>\n",
              "      <td>25</td>\n",
              "    </tr>\n",
              "    <tr>\n",
              "      <th>1</th>\n",
              "      <td>11</td>\n",
              "    </tr>\n",
              "    <tr>\n",
              "      <th>2</th>\n",
              "      <td>-14</td>\n",
              "    </tr>\n",
              "    <tr>\n",
              "      <th>3</th>\n",
              "      <td>-3</td>\n",
              "    </tr>\n",
              "    <tr>\n",
              "      <th>4</th>\n",
              "      <td>22</td>\n",
              "    </tr>\n",
              "  </tbody>\n",
              "</table>\n",
              "</div>"
            ],
            "text/plain": [
              "   temp\n",
              "0    25\n",
              "1    11\n",
              "2   -14\n",
              "3    -3\n",
              "4    22"
            ]
          },
          "metadata": {
            "tags": []
          },
          "execution_count": 129
        }
      ]
    },
    {
      "metadata": {
        "id": "dHSe86QiA8lu",
        "colab_type": "code",
        "outputId": "b51fab73-0c83-4422-e368-35cc61ad6242",
        "colab": {
          "base_uri": "https://localhost:8080/",
          "height": 106
        }
      },
      "cell_type": "code",
      "source": [
        "df[df[\"temp\"] < 0]"
      ],
      "execution_count": 0,
      "outputs": [
        {
          "output_type": "execute_result",
          "data": {
            "text/html": [
              "<div>\n",
              "<style scoped>\n",
              "    .dataframe tbody tr th:only-of-type {\n",
              "        vertical-align: middle;\n",
              "    }\n",
              "\n",
              "    .dataframe tbody tr th {\n",
              "        vertical-align: top;\n",
              "    }\n",
              "\n",
              "    .dataframe thead th {\n",
              "        text-align: right;\n",
              "    }\n",
              "</style>\n",
              "<table border=\"1\" class=\"dataframe\">\n",
              "  <thead>\n",
              "    <tr style=\"text-align: right;\">\n",
              "      <th></th>\n",
              "      <th>city</th>\n",
              "      <th>temp</th>\n",
              "    </tr>\n",
              "  </thead>\n",
              "  <tbody>\n",
              "    <tr>\n",
              "      <th>2</th>\n",
              "      <td>New York</td>\n",
              "      <td>-14</td>\n",
              "    </tr>\n",
              "    <tr>\n",
              "      <th>3</th>\n",
              "      <td>London</td>\n",
              "      <td>-3</td>\n",
              "    </tr>\n",
              "  </tbody>\n",
              "</table>\n",
              "</div>"
            ],
            "text/plain": [
              "       city  temp\n",
              "2  New York   -14\n",
              "3    London    -3"
            ]
          },
          "metadata": {
            "tags": []
          },
          "execution_count": 132
        }
      ]
    },
    {
      "metadata": {
        "id": "V0xEPZ_RBUuW",
        "colab_type": "code",
        "outputId": "d5cea13b-e9a0-492c-a54f-391e47b5a669",
        "colab": {
          "base_uri": "https://localhost:8080/",
          "height": 136
        }
      },
      "cell_type": "code",
      "source": [
        "df[~df[\"temp\"] < 0]"
      ],
      "execution_count": 0,
      "outputs": [
        {
          "output_type": "execute_result",
          "data": {
            "text/html": [
              "<div>\n",
              "<style scoped>\n",
              "    .dataframe tbody tr th:only-of-type {\n",
              "        vertical-align: middle;\n",
              "    }\n",
              "\n",
              "    .dataframe tbody tr th {\n",
              "        vertical-align: top;\n",
              "    }\n",
              "\n",
              "    .dataframe thead th {\n",
              "        text-align: right;\n",
              "    }\n",
              "</style>\n",
              "<table border=\"1\" class=\"dataframe\">\n",
              "  <thead>\n",
              "    <tr style=\"text-align: right;\">\n",
              "      <th></th>\n",
              "      <th>city</th>\n",
              "      <th>temp</th>\n",
              "    </tr>\n",
              "  </thead>\n",
              "  <tbody>\n",
              "    <tr>\n",
              "      <th>0</th>\n",
              "      <td>Taipei</td>\n",
              "      <td>25</td>\n",
              "    </tr>\n",
              "    <tr>\n",
              "      <th>1</th>\n",
              "      <td>Tokyo</td>\n",
              "      <td>11</td>\n",
              "    </tr>\n",
              "    <tr>\n",
              "      <th>4</th>\n",
              "      <td>Honolulu</td>\n",
              "      <td>22</td>\n",
              "    </tr>\n",
              "  </tbody>\n",
              "</table>\n",
              "</div>"
            ],
            "text/plain": [
              "       city  temp\n",
              "0    Taipei    25\n",
              "1     Tokyo    11\n",
              "4  Honolulu    22"
            ]
          },
          "metadata": {
            "tags": []
          },
          "execution_count": 133
        }
      ]
    },
    {
      "metadata": {
        "id": "HqlZW_nNBgZQ",
        "colab_type": "code",
        "outputId": "5d4316fb-3255-49f4-b47d-0f0f9735ef6b",
        "colab": {
          "base_uri": "https://localhost:8080/",
          "height": 106
        }
      },
      "cell_type": "code",
      "source": [
        "# .loc\n",
        "df.loc[[2, 3], [\"city\"]]"
      ],
      "execution_count": 0,
      "outputs": [
        {
          "output_type": "execute_result",
          "data": {
            "text/html": [
              "<div>\n",
              "<style scoped>\n",
              "    .dataframe tbody tr th:only-of-type {\n",
              "        vertical-align: middle;\n",
              "    }\n",
              "\n",
              "    .dataframe tbody tr th {\n",
              "        vertical-align: top;\n",
              "    }\n",
              "\n",
              "    .dataframe thead th {\n",
              "        text-align: right;\n",
              "    }\n",
              "</style>\n",
              "<table border=\"1\" class=\"dataframe\">\n",
              "  <thead>\n",
              "    <tr style=\"text-align: right;\">\n",
              "      <th></th>\n",
              "      <th>city</th>\n",
              "    </tr>\n",
              "  </thead>\n",
              "  <tbody>\n",
              "    <tr>\n",
              "      <th>2</th>\n",
              "      <td>New York</td>\n",
              "    </tr>\n",
              "    <tr>\n",
              "      <th>3</th>\n",
              "      <td>London</td>\n",
              "    </tr>\n",
              "  </tbody>\n",
              "</table>\n",
              "</div>"
            ],
            "text/plain": [
              "       city\n",
              "2  New York\n",
              "3    London"
            ]
          },
          "metadata": {
            "tags": []
          },
          "execution_count": 134
        }
      ]
    },
    {
      "metadata": {
        "id": "A8Ixg6AyCAwc",
        "colab_type": "code",
        "outputId": "8cf52c58-16c1-43d3-fad7-94956216301e",
        "colab": {
          "base_uri": "https://localhost:8080/",
          "height": 106
        }
      },
      "cell_type": "code",
      "source": [
        "# .iloc\n",
        "df.iloc[[2, 3], [0]]"
      ],
      "execution_count": 0,
      "outputs": [
        {
          "output_type": "execute_result",
          "data": {
            "text/html": [
              "<div>\n",
              "<style scoped>\n",
              "    .dataframe tbody tr th:only-of-type {\n",
              "        vertical-align: middle;\n",
              "    }\n",
              "\n",
              "    .dataframe tbody tr th {\n",
              "        vertical-align: top;\n",
              "    }\n",
              "\n",
              "    .dataframe thead th {\n",
              "        text-align: right;\n",
              "    }\n",
              "</style>\n",
              "<table border=\"1\" class=\"dataframe\">\n",
              "  <thead>\n",
              "    <tr style=\"text-align: right;\">\n",
              "      <th></th>\n",
              "      <th>city</th>\n",
              "    </tr>\n",
              "  </thead>\n",
              "  <tbody>\n",
              "    <tr>\n",
              "      <th>2</th>\n",
              "      <td>New York</td>\n",
              "    </tr>\n",
              "    <tr>\n",
              "      <th>3</th>\n",
              "      <td>London</td>\n",
              "    </tr>\n",
              "  </tbody>\n",
              "</table>\n",
              "</div>"
            ],
            "text/plain": [
              "       city\n",
              "2  New York\n",
              "3    London"
            ]
          },
          "metadata": {
            "tags": []
          },
          "execution_count": 136
        }
      ]
    },
    {
      "metadata": {
        "id": "0lGXEXclCa4i",
        "colab_type": "code",
        "outputId": "60278c6a-5150-41d6-aa73-2888550c61cb",
        "colab": {
          "base_uri": "https://localhost:8080/",
          "height": 195
        }
      },
      "cell_type": "code",
      "source": [
        "df_reverse = df.sort_index(ascending=False)\n",
        "df_reverse"
      ],
      "execution_count": 0,
      "outputs": [
        {
          "output_type": "execute_result",
          "data": {
            "text/html": [
              "<div>\n",
              "<style scoped>\n",
              "    .dataframe tbody tr th:only-of-type {\n",
              "        vertical-align: middle;\n",
              "    }\n",
              "\n",
              "    .dataframe tbody tr th {\n",
              "        vertical-align: top;\n",
              "    }\n",
              "\n",
              "    .dataframe thead th {\n",
              "        text-align: right;\n",
              "    }\n",
              "</style>\n",
              "<table border=\"1\" class=\"dataframe\">\n",
              "  <thead>\n",
              "    <tr style=\"text-align: right;\">\n",
              "      <th></th>\n",
              "      <th>city</th>\n",
              "      <th>temp</th>\n",
              "    </tr>\n",
              "  </thead>\n",
              "  <tbody>\n",
              "    <tr>\n",
              "      <th>4</th>\n",
              "      <td>Honolulu</td>\n",
              "      <td>22</td>\n",
              "    </tr>\n",
              "    <tr>\n",
              "      <th>3</th>\n",
              "      <td>London</td>\n",
              "      <td>-3</td>\n",
              "    </tr>\n",
              "    <tr>\n",
              "      <th>2</th>\n",
              "      <td>New York</td>\n",
              "      <td>-14</td>\n",
              "    </tr>\n",
              "    <tr>\n",
              "      <th>1</th>\n",
              "      <td>Tokyo</td>\n",
              "      <td>11</td>\n",
              "    </tr>\n",
              "    <tr>\n",
              "      <th>0</th>\n",
              "      <td>Taipei</td>\n",
              "      <td>25</td>\n",
              "    </tr>\n",
              "  </tbody>\n",
              "</table>\n",
              "</div>"
            ],
            "text/plain": [
              "       city  temp\n",
              "4  Honolulu    22\n",
              "3    London    -3\n",
              "2  New York   -14\n",
              "1     Tokyo    11\n",
              "0    Taipei    25"
            ]
          },
          "metadata": {
            "tags": []
          },
          "execution_count": 137
        }
      ]
    },
    {
      "metadata": {
        "id": "8LUq3fsnCwBZ",
        "colab_type": "code",
        "outputId": "33e6815c-997d-4646-f448-61b0e61d0df5",
        "colab": {
          "base_uri": "https://localhost:8080/",
          "height": 106
        }
      },
      "cell_type": "code",
      "source": [
        "df_reverse.loc[[2, 3], [\"city\"]]"
      ],
      "execution_count": 0,
      "outputs": [
        {
          "output_type": "execute_result",
          "data": {
            "text/html": [
              "<div>\n",
              "<style scoped>\n",
              "    .dataframe tbody tr th:only-of-type {\n",
              "        vertical-align: middle;\n",
              "    }\n",
              "\n",
              "    .dataframe tbody tr th {\n",
              "        vertical-align: top;\n",
              "    }\n",
              "\n",
              "    .dataframe thead th {\n",
              "        text-align: right;\n",
              "    }\n",
              "</style>\n",
              "<table border=\"1\" class=\"dataframe\">\n",
              "  <thead>\n",
              "    <tr style=\"text-align: right;\">\n",
              "      <th></th>\n",
              "      <th>city</th>\n",
              "    </tr>\n",
              "  </thead>\n",
              "  <tbody>\n",
              "    <tr>\n",
              "      <th>2</th>\n",
              "      <td>New York</td>\n",
              "    </tr>\n",
              "    <tr>\n",
              "      <th>3</th>\n",
              "      <td>London</td>\n",
              "    </tr>\n",
              "  </tbody>\n",
              "</table>\n",
              "</div>"
            ],
            "text/plain": [
              "       city\n",
              "2  New York\n",
              "3    London"
            ]
          },
          "metadata": {
            "tags": []
          },
          "execution_count": 139
        }
      ]
    },
    {
      "metadata": {
        "id": "iokhIwu2C9wB",
        "colab_type": "code",
        "outputId": "4fb6c895-385b-47f5-fffa-aa43ff25d18c",
        "colab": {
          "base_uri": "https://localhost:8080/",
          "height": 106
        }
      },
      "cell_type": "code",
      "source": [
        "df_reverse.iloc[[2, 1], [0]]"
      ],
      "execution_count": 0,
      "outputs": [
        {
          "output_type": "execute_result",
          "data": {
            "text/html": [
              "<div>\n",
              "<style scoped>\n",
              "    .dataframe tbody tr th:only-of-type {\n",
              "        vertical-align: middle;\n",
              "    }\n",
              "\n",
              "    .dataframe tbody tr th {\n",
              "        vertical-align: top;\n",
              "    }\n",
              "\n",
              "    .dataframe thead th {\n",
              "        text-align: right;\n",
              "    }\n",
              "</style>\n",
              "<table border=\"1\" class=\"dataframe\">\n",
              "  <thead>\n",
              "    <tr style=\"text-align: right;\">\n",
              "      <th></th>\n",
              "      <th>city</th>\n",
              "    </tr>\n",
              "  </thead>\n",
              "  <tbody>\n",
              "    <tr>\n",
              "      <th>2</th>\n",
              "      <td>New York</td>\n",
              "    </tr>\n",
              "    <tr>\n",
              "      <th>3</th>\n",
              "      <td>London</td>\n",
              "    </tr>\n",
              "  </tbody>\n",
              "</table>\n",
              "</div>"
            ],
            "text/plain": [
              "       city\n",
              "2  New York\n",
              "3    London"
            ]
          },
          "metadata": {
            "tags": []
          },
          "execution_count": 142
        }
      ]
    },
    {
      "metadata": {
        "id": "YWc-P491F_Zs",
        "colab_type": "code",
        "outputId": "b464cff0-32a2-459e-b207-6c1ecde975b6",
        "colab": {
          "base_uri": "https://localhost:8080/",
          "height": 195
        }
      },
      "cell_type": "code",
      "source": [
        "df.sort_index(ascending=False)"
      ],
      "execution_count": 0,
      "outputs": [
        {
          "output_type": "execute_result",
          "data": {
            "text/html": [
              "<div>\n",
              "<style scoped>\n",
              "    .dataframe tbody tr th:only-of-type {\n",
              "        vertical-align: middle;\n",
              "    }\n",
              "\n",
              "    .dataframe tbody tr th {\n",
              "        vertical-align: top;\n",
              "    }\n",
              "\n",
              "    .dataframe thead th {\n",
              "        text-align: right;\n",
              "    }\n",
              "</style>\n",
              "<table border=\"1\" class=\"dataframe\">\n",
              "  <thead>\n",
              "    <tr style=\"text-align: right;\">\n",
              "      <th></th>\n",
              "      <th>city</th>\n",
              "      <th>temp</th>\n",
              "    </tr>\n",
              "  </thead>\n",
              "  <tbody>\n",
              "    <tr>\n",
              "      <th>4</th>\n",
              "      <td>Honolulu</td>\n",
              "      <td>22</td>\n",
              "    </tr>\n",
              "    <tr>\n",
              "      <th>3</th>\n",
              "      <td>London</td>\n",
              "      <td>-3</td>\n",
              "    </tr>\n",
              "    <tr>\n",
              "      <th>2</th>\n",
              "      <td>New York</td>\n",
              "      <td>-14</td>\n",
              "    </tr>\n",
              "    <tr>\n",
              "      <th>1</th>\n",
              "      <td>Tokyo</td>\n",
              "      <td>11</td>\n",
              "    </tr>\n",
              "    <tr>\n",
              "      <th>0</th>\n",
              "      <td>Taipei</td>\n",
              "      <td>25</td>\n",
              "    </tr>\n",
              "  </tbody>\n",
              "</table>\n",
              "</div>"
            ],
            "text/plain": [
              "       city  temp\n",
              "4  Honolulu    22\n",
              "3    London    -3\n",
              "2  New York   -14\n",
              "1     Tokyo    11\n",
              "0    Taipei    25"
            ]
          },
          "metadata": {
            "tags": []
          },
          "execution_count": 144
        }
      ]
    },
    {
      "metadata": {
        "id": "5jrx8P5MGXmY",
        "colab_type": "code",
        "outputId": "b010950b-1358-4f78-b33b-20f88b0a7007",
        "colab": {
          "base_uri": "https://localhost:8080/",
          "height": 195
        }
      },
      "cell_type": "code",
      "source": [
        "df.sort_values(\"city\")"
      ],
      "execution_count": 0,
      "outputs": [
        {
          "output_type": "execute_result",
          "data": {
            "text/html": [
              "<div>\n",
              "<style scoped>\n",
              "    .dataframe tbody tr th:only-of-type {\n",
              "        vertical-align: middle;\n",
              "    }\n",
              "\n",
              "    .dataframe tbody tr th {\n",
              "        vertical-align: top;\n",
              "    }\n",
              "\n",
              "    .dataframe thead th {\n",
              "        text-align: right;\n",
              "    }\n",
              "</style>\n",
              "<table border=\"1\" class=\"dataframe\">\n",
              "  <thead>\n",
              "    <tr style=\"text-align: right;\">\n",
              "      <th></th>\n",
              "      <th>city</th>\n",
              "      <th>temp</th>\n",
              "    </tr>\n",
              "  </thead>\n",
              "  <tbody>\n",
              "    <tr>\n",
              "      <th>4</th>\n",
              "      <td>Honolulu</td>\n",
              "      <td>22</td>\n",
              "    </tr>\n",
              "    <tr>\n",
              "      <th>3</th>\n",
              "      <td>London</td>\n",
              "      <td>-3</td>\n",
              "    </tr>\n",
              "    <tr>\n",
              "      <th>2</th>\n",
              "      <td>New York</td>\n",
              "      <td>-14</td>\n",
              "    </tr>\n",
              "    <tr>\n",
              "      <th>0</th>\n",
              "      <td>Taipei</td>\n",
              "      <td>25</td>\n",
              "    </tr>\n",
              "    <tr>\n",
              "      <th>1</th>\n",
              "      <td>Tokyo</td>\n",
              "      <td>11</td>\n",
              "    </tr>\n",
              "  </tbody>\n",
              "</table>\n",
              "</div>"
            ],
            "text/plain": [
              "       city  temp\n",
              "4  Honolulu    22\n",
              "3    London    -3\n",
              "2  New York   -14\n",
              "0    Taipei    25\n",
              "1     Tokyo    11"
            ]
          },
          "metadata": {
            "tags": []
          },
          "execution_count": 145
        }
      ]
    },
    {
      "metadata": {
        "id": "ks3Jb0_WGiqK",
        "colab_type": "code",
        "outputId": "fc349acd-fa31-4b8c-f1c7-dd9d6e987ad2",
        "colab": {
          "base_uri": "https://localhost:8080/",
          "height": 195
        }
      },
      "cell_type": "code",
      "source": [
        "countries = [\"Taiwan\", \"Japan\", \"United States\", \"United Kingdom\", \"United States\"]\n",
        "df[\"country\"] = countries\n",
        "df"
      ],
      "execution_count": 0,
      "outputs": [
        {
          "output_type": "execute_result",
          "data": {
            "text/html": [
              "<div>\n",
              "<style scoped>\n",
              "    .dataframe tbody tr th:only-of-type {\n",
              "        vertical-align: middle;\n",
              "    }\n",
              "\n",
              "    .dataframe tbody tr th {\n",
              "        vertical-align: top;\n",
              "    }\n",
              "\n",
              "    .dataframe thead th {\n",
              "        text-align: right;\n",
              "    }\n",
              "</style>\n",
              "<table border=\"1\" class=\"dataframe\">\n",
              "  <thead>\n",
              "    <tr style=\"text-align: right;\">\n",
              "      <th></th>\n",
              "      <th>city</th>\n",
              "      <th>temp</th>\n",
              "      <th>country</th>\n",
              "    </tr>\n",
              "  </thead>\n",
              "  <tbody>\n",
              "    <tr>\n",
              "      <th>0</th>\n",
              "      <td>Taipei</td>\n",
              "      <td>25</td>\n",
              "      <td>Taiwan</td>\n",
              "    </tr>\n",
              "    <tr>\n",
              "      <th>1</th>\n",
              "      <td>Tokyo</td>\n",
              "      <td>11</td>\n",
              "      <td>Japan</td>\n",
              "    </tr>\n",
              "    <tr>\n",
              "      <th>2</th>\n",
              "      <td>New York</td>\n",
              "      <td>-14</td>\n",
              "      <td>United States</td>\n",
              "    </tr>\n",
              "    <tr>\n",
              "      <th>3</th>\n",
              "      <td>London</td>\n",
              "      <td>-3</td>\n",
              "      <td>United Kingdom</td>\n",
              "    </tr>\n",
              "    <tr>\n",
              "      <th>4</th>\n",
              "      <td>Honolulu</td>\n",
              "      <td>22</td>\n",
              "      <td>United States</td>\n",
              "    </tr>\n",
              "  </tbody>\n",
              "</table>\n",
              "</div>"
            ],
            "text/plain": [
              "       city  temp         country\n",
              "0    Taipei    25          Taiwan\n",
              "1     Tokyo    11           Japan\n",
              "2  New York   -14   United States\n",
              "3    London    -3  United Kingdom\n",
              "4  Honolulu    22   United States"
            ]
          },
          "metadata": {
            "tags": []
          },
          "execution_count": 154
        }
      ]
    },
    {
      "metadata": {
        "id": "hwGNrLW2HFv9",
        "colab_type": "code",
        "colab": {}
      },
      "cell_type": "code",
      "source": [
        "df = df[[\"country\", \"city\", \"temp\"]]"
      ],
      "execution_count": 0,
      "outputs": []
    },
    {
      "metadata": {
        "id": "A1IW8M3yJYKp",
        "colab_type": "code",
        "outputId": "e59ab3a8-6810-4fb5-f69b-293bd56dd2b7",
        "colab": {
          "base_uri": "https://localhost:8080/",
          "height": 195
        }
      },
      "cell_type": "code",
      "source": [
        "continents = [\"Asia\", \"Asia\", \"North America\", \"Europe\", \"North America\"]\n",
        "df = df.assign(continent = continents)\n",
        "df"
      ],
      "execution_count": 0,
      "outputs": [
        {
          "output_type": "execute_result",
          "data": {
            "text/html": [
              "<div>\n",
              "<style scoped>\n",
              "    .dataframe tbody tr th:only-of-type {\n",
              "        vertical-align: middle;\n",
              "    }\n",
              "\n",
              "    .dataframe tbody tr th {\n",
              "        vertical-align: top;\n",
              "    }\n",
              "\n",
              "    .dataframe thead th {\n",
              "        text-align: right;\n",
              "    }\n",
              "</style>\n",
              "<table border=\"1\" class=\"dataframe\">\n",
              "  <thead>\n",
              "    <tr style=\"text-align: right;\">\n",
              "      <th></th>\n",
              "      <th>country</th>\n",
              "      <th>city</th>\n",
              "      <th>temp</th>\n",
              "      <th>continent</th>\n",
              "    </tr>\n",
              "  </thead>\n",
              "  <tbody>\n",
              "    <tr>\n",
              "      <th>0</th>\n",
              "      <td>Taiwan</td>\n",
              "      <td>Taipei</td>\n",
              "      <td>25</td>\n",
              "      <td>Asia</td>\n",
              "    </tr>\n",
              "    <tr>\n",
              "      <th>1</th>\n",
              "      <td>Japan</td>\n",
              "      <td>Tokyo</td>\n",
              "      <td>11</td>\n",
              "      <td>Asia</td>\n",
              "    </tr>\n",
              "    <tr>\n",
              "      <th>2</th>\n",
              "      <td>United States</td>\n",
              "      <td>New York</td>\n",
              "      <td>-14</td>\n",
              "      <td>North America</td>\n",
              "    </tr>\n",
              "    <tr>\n",
              "      <th>3</th>\n",
              "      <td>United Kingdom</td>\n",
              "      <td>London</td>\n",
              "      <td>-3</td>\n",
              "      <td>Europe</td>\n",
              "    </tr>\n",
              "    <tr>\n",
              "      <th>4</th>\n",
              "      <td>United States</td>\n",
              "      <td>Honolulu</td>\n",
              "      <td>22</td>\n",
              "      <td>North America</td>\n",
              "    </tr>\n",
              "  </tbody>\n",
              "</table>\n",
              "</div>"
            ],
            "text/plain": [
              "          country      city  temp      continent\n",
              "0          Taiwan    Taipei    25           Asia\n",
              "1           Japan     Tokyo    11           Asia\n",
              "2   United States  New York   -14  North America\n",
              "3  United Kingdom    London    -3         Europe\n",
              "4   United States  Honolulu    22  North America"
            ]
          },
          "metadata": {
            "tags": []
          },
          "execution_count": 156
        }
      ]
    },
    {
      "metadata": {
        "id": "-lUCqrP4JwmA",
        "colab_type": "code",
        "colab": {}
      },
      "cell_type": "code",
      "source": [
        "df = df.drop(\"continent\", axis=1)"
      ],
      "execution_count": 0,
      "outputs": []
    },
    {
      "metadata": {
        "id": "rJcvlTxPLCAG",
        "colab_type": "code",
        "colab": {}
      },
      "cell_type": "code",
      "source": [
        "def get_continent(x):\n",
        "  if x == \"Taiwan\" or x == \"Japan\":\n",
        "    cont = \"Asia\"\n",
        "  elif x == \"United Kingdom\":\n",
        "    cont = \"Europe\"\n",
        "  else:\n",
        "    cont = \"North America\"\n",
        "  return cont"
      ],
      "execution_count": 0,
      "outputs": []
    },
    {
      "metadata": {
        "id": "GADZVjXTLnDH",
        "colab_type": "code",
        "outputId": "eaf313b1-f792-488e-a7b1-232482512994",
        "colab": {
          "base_uri": "https://localhost:8080/",
          "height": 118
        }
      },
      "cell_type": "code",
      "source": [
        "df[\"country\"].map(get_continent)"
      ],
      "execution_count": 0,
      "outputs": [
        {
          "output_type": "execute_result",
          "data": {
            "text/plain": [
              "0             Asia\n",
              "1             Asia\n",
              "2    North America\n",
              "3           Europe\n",
              "4    North America\n",
              "Name: country, dtype: object"
            ]
          },
          "metadata": {
            "tags": []
          },
          "execution_count": 168
        }
      ]
    },
    {
      "metadata": {
        "id": "B8bKR1hxMHTM",
        "colab_type": "code",
        "outputId": "37bf8285-0d0e-4f09-8d6e-f70bd29760bf",
        "colab": {
          "base_uri": "https://localhost:8080/",
          "height": 118
        }
      },
      "cell_type": "code",
      "source": [
        "country_continent_dict = {\n",
        "    \"Taiwan\": \"Asia\",\n",
        "    \"Japan\": \"Asia\",\n",
        "    \"United States\": \"North America\",\n",
        "    \"United Kingdom\": \"Europe\"\n",
        "}\n",
        "df[\"country\"].map(country_continent_dict)"
      ],
      "execution_count": 0,
      "outputs": [
        {
          "output_type": "execute_result",
          "data": {
            "text/plain": [
              "0             Asia\n",
              "1             Asia\n",
              "2    North America\n",
              "3           Europe\n",
              "4    North America\n",
              "Name: country, dtype: object"
            ]
          },
          "metadata": {
            "tags": []
          },
          "execution_count": 170
        }
      ]
    },
    {
      "metadata": {
        "id": "8u49e0QVMpvj",
        "colab_type": "code",
        "outputId": "67cb8a0b-3c5e-484c-883f-03dfe8bf0dc8",
        "colab": {
          "base_uri": "https://localhost:8080/",
          "height": 34
        }
      },
      "cell_type": "code",
      "source": [
        "df[\"temp\"].min()"
      ],
      "execution_count": 0,
      "outputs": [
        {
          "output_type": "execute_result",
          "data": {
            "text/plain": [
              "-14"
            ]
          },
          "metadata": {
            "tags": []
          },
          "execution_count": 171
        }
      ]
    },
    {
      "metadata": {
        "id": "dCmtixhvMxlP",
        "colab_type": "code",
        "outputId": "890f047f-a001-4b16-ee41-c1e3b0e293ca",
        "colab": {
          "base_uri": "https://localhost:8080/",
          "height": 34
        }
      },
      "cell_type": "code",
      "source": [
        "df[\"temp\"].max()"
      ],
      "execution_count": 0,
      "outputs": [
        {
          "output_type": "execute_result",
          "data": {
            "text/plain": [
              "25"
            ]
          },
          "metadata": {
            "tags": []
          },
          "execution_count": 172
        }
      ]
    },
    {
      "metadata": {
        "id": "AfP32Y4sM1nn",
        "colab_type": "code",
        "outputId": "c9b8e914-bbc7-4ed5-e3d5-8dc96166eadf",
        "colab": {
          "base_uri": "https://localhost:8080/",
          "height": 195
        }
      },
      "cell_type": "code",
      "source": [
        "df[\"continent\"] = df[\"country\"].map(get_continent)\n",
        "df"
      ],
      "execution_count": 0,
      "outputs": [
        {
          "output_type": "execute_result",
          "data": {
            "text/html": [
              "<div>\n",
              "<style scoped>\n",
              "    .dataframe tbody tr th:only-of-type {\n",
              "        vertical-align: middle;\n",
              "    }\n",
              "\n",
              "    .dataframe tbody tr th {\n",
              "        vertical-align: top;\n",
              "    }\n",
              "\n",
              "    .dataframe thead th {\n",
              "        text-align: right;\n",
              "    }\n",
              "</style>\n",
              "<table border=\"1\" class=\"dataframe\">\n",
              "  <thead>\n",
              "    <tr style=\"text-align: right;\">\n",
              "      <th></th>\n",
              "      <th>country</th>\n",
              "      <th>city</th>\n",
              "      <th>temp</th>\n",
              "      <th>continent</th>\n",
              "    </tr>\n",
              "  </thead>\n",
              "  <tbody>\n",
              "    <tr>\n",
              "      <th>0</th>\n",
              "      <td>Taiwan</td>\n",
              "      <td>Taipei</td>\n",
              "      <td>25</td>\n",
              "      <td>Asia</td>\n",
              "    </tr>\n",
              "    <tr>\n",
              "      <th>1</th>\n",
              "      <td>Japan</td>\n",
              "      <td>Tokyo</td>\n",
              "      <td>11</td>\n",
              "      <td>Asia</td>\n",
              "    </tr>\n",
              "    <tr>\n",
              "      <th>2</th>\n",
              "      <td>United States</td>\n",
              "      <td>New York</td>\n",
              "      <td>-14</td>\n",
              "      <td>North America</td>\n",
              "    </tr>\n",
              "    <tr>\n",
              "      <th>3</th>\n",
              "      <td>United Kingdom</td>\n",
              "      <td>London</td>\n",
              "      <td>-3</td>\n",
              "      <td>Europe</td>\n",
              "    </tr>\n",
              "    <tr>\n",
              "      <th>4</th>\n",
              "      <td>United States</td>\n",
              "      <td>Honolulu</td>\n",
              "      <td>22</td>\n",
              "      <td>North America</td>\n",
              "    </tr>\n",
              "  </tbody>\n",
              "</table>\n",
              "</div>"
            ],
            "text/plain": [
              "          country      city  temp      continent\n",
              "0          Taiwan    Taipei    25           Asia\n",
              "1           Japan     Tokyo    11           Asia\n",
              "2   United States  New York   -14  North America\n",
              "3  United Kingdom    London    -3         Europe\n",
              "4   United States  Honolulu    22  North America"
            ]
          },
          "metadata": {
            "tags": []
          },
          "execution_count": 174
        }
      ]
    },
    {
      "metadata": {
        "id": "TwKVs8tsM8qB",
        "colab_type": "code",
        "outputId": "a9736e3e-be19-4f6f-fa97-92a1b065d342",
        "colab": {
          "base_uri": "https://localhost:8080/",
          "height": 166
        }
      },
      "cell_type": "code",
      "source": [
        "grouped = df.groupby(\"continent\")\n",
        "grouped.max()"
      ],
      "execution_count": 0,
      "outputs": [
        {
          "output_type": "execute_result",
          "data": {
            "text/html": [
              "<div>\n",
              "<style scoped>\n",
              "    .dataframe tbody tr th:only-of-type {\n",
              "        vertical-align: middle;\n",
              "    }\n",
              "\n",
              "    .dataframe tbody tr th {\n",
              "        vertical-align: top;\n",
              "    }\n",
              "\n",
              "    .dataframe thead th {\n",
              "        text-align: right;\n",
              "    }\n",
              "</style>\n",
              "<table border=\"1\" class=\"dataframe\">\n",
              "  <thead>\n",
              "    <tr style=\"text-align: right;\">\n",
              "      <th></th>\n",
              "      <th>country</th>\n",
              "      <th>city</th>\n",
              "      <th>temp</th>\n",
              "    </tr>\n",
              "    <tr>\n",
              "      <th>continent</th>\n",
              "      <th></th>\n",
              "      <th></th>\n",
              "      <th></th>\n",
              "    </tr>\n",
              "  </thead>\n",
              "  <tbody>\n",
              "    <tr>\n",
              "      <th>Asia</th>\n",
              "      <td>Taiwan</td>\n",
              "      <td>Tokyo</td>\n",
              "      <td>25</td>\n",
              "    </tr>\n",
              "    <tr>\n",
              "      <th>Europe</th>\n",
              "      <td>United Kingdom</td>\n",
              "      <td>London</td>\n",
              "      <td>-3</td>\n",
              "    </tr>\n",
              "    <tr>\n",
              "      <th>North America</th>\n",
              "      <td>United States</td>\n",
              "      <td>New York</td>\n",
              "      <td>22</td>\n",
              "    </tr>\n",
              "  </tbody>\n",
              "</table>\n",
              "</div>"
            ],
            "text/plain": [
              "                      country      city  temp\n",
              "continent                                    \n",
              "Asia                   Taiwan     Tokyo    25\n",
              "Europe         United Kingdom    London    -3\n",
              "North America   United States  New York    22"
            ]
          },
          "metadata": {
            "tags": []
          },
          "execution_count": 176
        }
      ]
    },
    {
      "metadata": {
        "id": "QOvxT7EhNRTr",
        "colab_type": "code",
        "outputId": "339eb9b1-6a83-4e94-e248-31498c61bb61",
        "colab": {
          "base_uri": "https://localhost:8080/",
          "height": 166
        }
      },
      "cell_type": "code",
      "source": [
        "grouped.min()"
      ],
      "execution_count": 0,
      "outputs": [
        {
          "output_type": "execute_result",
          "data": {
            "text/html": [
              "<div>\n",
              "<style scoped>\n",
              "    .dataframe tbody tr th:only-of-type {\n",
              "        vertical-align: middle;\n",
              "    }\n",
              "\n",
              "    .dataframe tbody tr th {\n",
              "        vertical-align: top;\n",
              "    }\n",
              "\n",
              "    .dataframe thead th {\n",
              "        text-align: right;\n",
              "    }\n",
              "</style>\n",
              "<table border=\"1\" class=\"dataframe\">\n",
              "  <thead>\n",
              "    <tr style=\"text-align: right;\">\n",
              "      <th></th>\n",
              "      <th>country</th>\n",
              "      <th>city</th>\n",
              "      <th>temp</th>\n",
              "    </tr>\n",
              "    <tr>\n",
              "      <th>continent</th>\n",
              "      <th></th>\n",
              "      <th></th>\n",
              "      <th></th>\n",
              "    </tr>\n",
              "  </thead>\n",
              "  <tbody>\n",
              "    <tr>\n",
              "      <th>Asia</th>\n",
              "      <td>Japan</td>\n",
              "      <td>Taipei</td>\n",
              "      <td>11</td>\n",
              "    </tr>\n",
              "    <tr>\n",
              "      <th>Europe</th>\n",
              "      <td>United Kingdom</td>\n",
              "      <td>London</td>\n",
              "      <td>-3</td>\n",
              "    </tr>\n",
              "    <tr>\n",
              "      <th>North America</th>\n",
              "      <td>United States</td>\n",
              "      <td>Honolulu</td>\n",
              "      <td>-14</td>\n",
              "    </tr>\n",
              "  </tbody>\n",
              "</table>\n",
              "</div>"
            ],
            "text/plain": [
              "                      country      city  temp\n",
              "continent                                    \n",
              "Asia                    Japan    Taipei    11\n",
              "Europe         United Kingdom    London    -3\n",
              "North America   United States  Honolulu   -14"
            ]
          },
          "metadata": {
            "tags": []
          },
          "execution_count": 177
        }
      ]
    },
    {
      "metadata": {
        "id": "IYiuPtEUMJ7V",
        "colab_type": "text"
      },
      "cell_type": "markdown",
      "source": [
        "### DataFrame 的 index"
      ]
    },
    {
      "metadata": {
        "id": "NvXOuqKaMIYK",
        "colab_type": "code",
        "outputId": "b88aed89-5941-4622-d1f4-eed9a6215eb1",
        "colab": {
          "base_uri": "https://localhost:8080/",
          "height": 195
        }
      },
      "cell_type": "code",
      "source": [
        "import pandas as pd\n",
        "\n",
        "cities = [\"Taipei\", \"Tokyo\", \"New York\", \"London\", \"Honolulu\"]\n",
        "temps_c = [17, 4, 1, 3, 18]\n",
        "df = pd.DataFrame()\n",
        "df[\"city\"] = cities\n",
        "df[\"temp_c\"] = temps_c\n",
        "df"
      ],
      "execution_count": 0,
      "outputs": [
        {
          "output_type": "execute_result",
          "data": {
            "text/html": [
              "<div>\n",
              "<style scoped>\n",
              "    .dataframe tbody tr th:only-of-type {\n",
              "        vertical-align: middle;\n",
              "    }\n",
              "\n",
              "    .dataframe tbody tr th {\n",
              "        vertical-align: top;\n",
              "    }\n",
              "\n",
              "    .dataframe thead th {\n",
              "        text-align: right;\n",
              "    }\n",
              "</style>\n",
              "<table border=\"1\" class=\"dataframe\">\n",
              "  <thead>\n",
              "    <tr style=\"text-align: right;\">\n",
              "      <th></th>\n",
              "      <th>city</th>\n",
              "      <th>temp_c</th>\n",
              "    </tr>\n",
              "  </thead>\n",
              "  <tbody>\n",
              "    <tr>\n",
              "      <th>0</th>\n",
              "      <td>Taipei</td>\n",
              "      <td>17</td>\n",
              "    </tr>\n",
              "    <tr>\n",
              "      <th>1</th>\n",
              "      <td>Tokyo</td>\n",
              "      <td>4</td>\n",
              "    </tr>\n",
              "    <tr>\n",
              "      <th>2</th>\n",
              "      <td>New York</td>\n",
              "      <td>1</td>\n",
              "    </tr>\n",
              "    <tr>\n",
              "      <th>3</th>\n",
              "      <td>London</td>\n",
              "      <td>3</td>\n",
              "    </tr>\n",
              "    <tr>\n",
              "      <th>4</th>\n",
              "      <td>Honolulu</td>\n",
              "      <td>18</td>\n",
              "    </tr>\n",
              "  </tbody>\n",
              "</table>\n",
              "</div>"
            ],
            "text/plain": [
              "       city  temp_c\n",
              "0    Taipei      17\n",
              "1     Tokyo       4\n",
              "2  New York       1\n",
              "3    London       3\n",
              "4  Honolulu      18"
            ]
          },
          "metadata": {
            "tags": []
          },
          "execution_count": 1
        }
      ]
    },
    {
      "metadata": {
        "id": "fozAVgPrNPNR",
        "colab_type": "code",
        "outputId": "7cd3ffbf-7850-411b-8660-348b80faa6ca",
        "colab": {
          "base_uri": "https://localhost:8080/",
          "height": 34
        }
      },
      "cell_type": "code",
      "source": [
        "df.index"
      ],
      "execution_count": 0,
      "outputs": [
        {
          "output_type": "execute_result",
          "data": {
            "text/plain": [
              "RangeIndex(start=0, stop=5, step=1)"
            ]
          },
          "metadata": {
            "tags": []
          },
          "execution_count": 2
        }
      ]
    },
    {
      "metadata": {
        "id": "FbludkoGNTru",
        "colab_type": "code",
        "outputId": "df8acdb6-21dc-4aab-dec3-373844926f86",
        "colab": {
          "base_uri": "https://localhost:8080/",
          "height": 50
        }
      },
      "cell_type": "code",
      "source": [
        "df.set_index(\"city\").loc[\"Taipei\", :]"
      ],
      "execution_count": 0,
      "outputs": [
        {
          "output_type": "execute_result",
          "data": {
            "text/plain": [
              "temp_c    17\n",
              "Name: Taipei, dtype: int64"
            ]
          },
          "metadata": {
            "tags": []
          },
          "execution_count": 5
        }
      ]
    },
    {
      "metadata": {
        "id": "tkwQu66kN3VX",
        "colab_type": "code",
        "outputId": "ae2361f4-908c-46b7-fe70-0ebb2ae748af",
        "colab": {
          "base_uri": "https://localhost:8080/",
          "height": 34
        }
      },
      "cell_type": "code",
      "source": [
        "max_temp = df[\"temp_c\"].max()\n",
        "max_temp"
      ],
      "execution_count": 0,
      "outputs": [
        {
          "output_type": "execute_result",
          "data": {
            "text/plain": [
              "18"
            ]
          },
          "metadata": {
            "tags": []
          },
          "execution_count": 9
        }
      ]
    },
    {
      "metadata": {
        "id": "A5ZS6c8BOI2G",
        "colab_type": "code",
        "outputId": "74bf2fef-0265-4449-e8ba-a54491891f05",
        "colab": {
          "base_uri": "https://localhost:8080/",
          "height": 34
        }
      },
      "cell_type": "code",
      "source": [
        "min_temp = df[\"temp_c\"].min()\n",
        "min_temp"
      ],
      "execution_count": 0,
      "outputs": [
        {
          "output_type": "execute_result",
          "data": {
            "text/plain": [
              "1"
            ]
          },
          "metadata": {
            "tags": []
          },
          "execution_count": 10
        }
      ]
    },
    {
      "metadata": {
        "id": "kzLhbIzsOMoX",
        "colab_type": "code",
        "outputId": "d9027c83-2ae1-4ce6-d917-652017f57df0",
        "colab": {
          "base_uri": "https://localhost:8080/",
          "height": 34
        }
      },
      "cell_type": "code",
      "source": [
        "df[df[\"temp_c\"] == max_temp][\"city\"].values[0]"
      ],
      "execution_count": 0,
      "outputs": [
        {
          "output_type": "execute_result",
          "data": {
            "text/plain": [
              "'Honolulu'"
            ]
          },
          "metadata": {
            "tags": []
          },
          "execution_count": 15
        }
      ]
    },
    {
      "metadata": {
        "id": "h6DcAbZhO_IN",
        "colab_type": "code",
        "outputId": "b53e13aa-ffd2-455d-f1a7-24d4e7bbf31f",
        "colab": {
          "base_uri": "https://localhost:8080/",
          "height": 34
        }
      },
      "cell_type": "code",
      "source": [
        "df[df[\"temp_c\"] == min_temp][\"city\"].values[0]"
      ],
      "execution_count": 0,
      "outputs": [
        {
          "output_type": "execute_result",
          "data": {
            "text/plain": [
              "'New York'"
            ]
          },
          "metadata": {
            "tags": []
          },
          "execution_count": 21
        }
      ]
    },
    {
      "metadata": {
        "id": "XBhR7WQTPXg-",
        "colab_type": "code",
        "outputId": "0e32fe1b-7a16-4652-cc69-6a64f22dae33",
        "colab": {
          "base_uri": "https://localhost:8080/",
          "height": 225
        }
      },
      "cell_type": "code",
      "source": [
        "df_reindexed = df.set_index(\"city\")\n",
        "df_reindexed"
      ],
      "execution_count": 0,
      "outputs": [
        {
          "output_type": "execute_result",
          "data": {
            "text/html": [
              "<div>\n",
              "<style scoped>\n",
              "    .dataframe tbody tr th:only-of-type {\n",
              "        vertical-align: middle;\n",
              "    }\n",
              "\n",
              "    .dataframe tbody tr th {\n",
              "        vertical-align: top;\n",
              "    }\n",
              "\n",
              "    .dataframe thead th {\n",
              "        text-align: right;\n",
              "    }\n",
              "</style>\n",
              "<table border=\"1\" class=\"dataframe\">\n",
              "  <thead>\n",
              "    <tr style=\"text-align: right;\">\n",
              "      <th></th>\n",
              "      <th>temp_c</th>\n",
              "    </tr>\n",
              "    <tr>\n",
              "      <th>city</th>\n",
              "      <th></th>\n",
              "    </tr>\n",
              "  </thead>\n",
              "  <tbody>\n",
              "    <tr>\n",
              "      <th>Taipei</th>\n",
              "      <td>17</td>\n",
              "    </tr>\n",
              "    <tr>\n",
              "      <th>Tokyo</th>\n",
              "      <td>4</td>\n",
              "    </tr>\n",
              "    <tr>\n",
              "      <th>New York</th>\n",
              "      <td>1</td>\n",
              "    </tr>\n",
              "    <tr>\n",
              "      <th>London</th>\n",
              "      <td>3</td>\n",
              "    </tr>\n",
              "    <tr>\n",
              "      <th>Honolulu</th>\n",
              "      <td>18</td>\n",
              "    </tr>\n",
              "  </tbody>\n",
              "</table>\n",
              "</div>"
            ],
            "text/plain": [
              "          temp_c\n",
              "city            \n",
              "Taipei        17\n",
              "Tokyo          4\n",
              "New York       1\n",
              "London         3\n",
              "Honolulu      18"
            ]
          },
          "metadata": {
            "tags": []
          },
          "execution_count": 23
        }
      ]
    },
    {
      "metadata": {
        "id": "53i1Ji3jPkYH",
        "colab_type": "code",
        "outputId": "54049e45-9673-4889-f310-e46b3f683be1",
        "colab": {
          "base_uri": "https://localhost:8080/",
          "height": 34
        }
      },
      "cell_type": "code",
      "source": [
        "df_reindexed[\"temp_c\"].idxmax()"
      ],
      "execution_count": 0,
      "outputs": [
        {
          "output_type": "execute_result",
          "data": {
            "text/plain": [
              "'Honolulu'"
            ]
          },
          "metadata": {
            "tags": []
          },
          "execution_count": 27
        }
      ]
    },
    {
      "metadata": {
        "id": "RmO1mmcBQEOv",
        "colab_type": "code",
        "outputId": "52fb98ac-8543-4ff6-97fc-f78cb603544d",
        "colab": {
          "base_uri": "https://localhost:8080/",
          "height": 34
        }
      },
      "cell_type": "code",
      "source": [
        "df_reindexed[\"temp_c\"].idxmin()"
      ],
      "execution_count": 0,
      "outputs": [
        {
          "output_type": "execute_result",
          "data": {
            "text/plain": [
              "'New York'"
            ]
          },
          "metadata": {
            "tags": []
          },
          "execution_count": 28
        }
      ]
    },
    {
      "metadata": {
        "id": "KUOAjNvAQL9c",
        "colab_type": "code",
        "outputId": "049a8467-e6cd-476b-d825-8a99d3aca0e9",
        "colab": {
          "base_uri": "https://localhost:8080/",
          "height": 195
        }
      },
      "cell_type": "code",
      "source": [
        "df_reindexed.reset_index()"
      ],
      "execution_count": 0,
      "outputs": [
        {
          "output_type": "execute_result",
          "data": {
            "text/html": [
              "<div>\n",
              "<style scoped>\n",
              "    .dataframe tbody tr th:only-of-type {\n",
              "        vertical-align: middle;\n",
              "    }\n",
              "\n",
              "    .dataframe tbody tr th {\n",
              "        vertical-align: top;\n",
              "    }\n",
              "\n",
              "    .dataframe thead th {\n",
              "        text-align: right;\n",
              "    }\n",
              "</style>\n",
              "<table border=\"1\" class=\"dataframe\">\n",
              "  <thead>\n",
              "    <tr style=\"text-align: right;\">\n",
              "      <th></th>\n",
              "      <th>city</th>\n",
              "      <th>temp_c</th>\n",
              "    </tr>\n",
              "  </thead>\n",
              "  <tbody>\n",
              "    <tr>\n",
              "      <th>0</th>\n",
              "      <td>Taipei</td>\n",
              "      <td>17</td>\n",
              "    </tr>\n",
              "    <tr>\n",
              "      <th>1</th>\n",
              "      <td>Tokyo</td>\n",
              "      <td>4</td>\n",
              "    </tr>\n",
              "    <tr>\n",
              "      <th>2</th>\n",
              "      <td>New York</td>\n",
              "      <td>1</td>\n",
              "    </tr>\n",
              "    <tr>\n",
              "      <th>3</th>\n",
              "      <td>London</td>\n",
              "      <td>3</td>\n",
              "    </tr>\n",
              "    <tr>\n",
              "      <th>4</th>\n",
              "      <td>Honolulu</td>\n",
              "      <td>18</td>\n",
              "    </tr>\n",
              "  </tbody>\n",
              "</table>\n",
              "</div>"
            ],
            "text/plain": [
              "       city  temp_c\n",
              "0    Taipei      17\n",
              "1     Tokyo       4\n",
              "2  New York       1\n",
              "3    London       3\n",
              "4  Honolulu      18"
            ]
          },
          "metadata": {
            "tags": []
          },
          "execution_count": 30
        }
      ]
    },
    {
      "metadata": {
        "id": "-03lVtwMQlk0",
        "colab_type": "text"
      },
      "cell_type": "markdown",
      "source": [
        "## pandas：奧運獎牌排行"
      ]
    },
    {
      "metadata": {
        "id": "pzkizTOeQgKm",
        "colab_type": "code",
        "colab": {}
      },
      "cell_type": "code",
      "source": [
        "import pandas as pd\n",
        "\n",
        "df = pd.read_csv('https://storage.googleapis.com/py_ml_datasets/olympics.csv', index_col=0, skiprows=1)\n",
        "\n",
        "for col in df.columns:\n",
        "    if col[:2]=='01':\n",
        "        df.rename(columns={col:'Gold'+col[4:]}, inplace=True)\n",
        "    if col[:2]=='02':\n",
        "        df.rename(columns={col:'Silver'+col[4:]}, inplace=True)\n",
        "    if col[:2]=='03':\n",
        "        df.rename(columns={col:'Bronze'+col[4:]}, inplace=True)\n",
        "    if col[:1]=='№':\n",
        "        df.rename(columns={col:'#'+col[1:]}, inplace=True)\n",
        "\n",
        "names_ids = df.index.str.split('\\s\\(') # split the index by '('\n",
        "\n",
        "df.index = names_ids.str[0] # the [0] element is the country name (new index) \n",
        "df['ID'] = names_ids.str[1].str[:3] # the [1] element is the abbreviation or ID (take first 3 characters from that)\n",
        "\n",
        "df = df.drop('Totals')"
      ],
      "execution_count": 0,
      "outputs": []
    },
    {
      "metadata": {
        "id": "vBf2tYq8Qsoq",
        "colab_type": "code",
        "outputId": "8554a36a-f69b-4e95-9edf-1b62111c0961",
        "colab": {
          "base_uri": "https://localhost:8080/",
          "height": 34
        }
      },
      "cell_type": "code",
      "source": [
        "df.shape"
      ],
      "execution_count": 0,
      "outputs": [
        {
          "output_type": "execute_result",
          "data": {
            "text/plain": [
              "(146, 16)"
            ]
          },
          "metadata": {
            "tags": []
          },
          "execution_count": 32
        }
      ]
    },
    {
      "metadata": {
        "id": "63WL7MDfQvfz",
        "colab_type": "code",
        "outputId": "0ba1c8a7-f176-451a-c2fc-36b647d0e907",
        "colab": {
          "base_uri": "https://localhost:8080/",
          "height": 232
        }
      },
      "cell_type": "code",
      "source": [
        "df.head()"
      ],
      "execution_count": 0,
      "outputs": [
        {
          "output_type": "execute_result",
          "data": {
            "text/html": [
              "<div>\n",
              "<style scoped>\n",
              "    .dataframe tbody tr th:only-of-type {\n",
              "        vertical-align: middle;\n",
              "    }\n",
              "\n",
              "    .dataframe tbody tr th {\n",
              "        vertical-align: top;\n",
              "    }\n",
              "\n",
              "    .dataframe thead th {\n",
              "        text-align: right;\n",
              "    }\n",
              "</style>\n",
              "<table border=\"1\" class=\"dataframe\">\n",
              "  <thead>\n",
              "    <tr style=\"text-align: right;\">\n",
              "      <th></th>\n",
              "      <th># Summer</th>\n",
              "      <th>Gold</th>\n",
              "      <th>Silver</th>\n",
              "      <th>Bronze</th>\n",
              "      <th>Total</th>\n",
              "      <th># Winter</th>\n",
              "      <th>Gold.1</th>\n",
              "      <th>Silver.1</th>\n",
              "      <th>Bronze.1</th>\n",
              "      <th>Total.1</th>\n",
              "      <th># Games</th>\n",
              "      <th>Gold.2</th>\n",
              "      <th>Silver.2</th>\n",
              "      <th>Bronze.2</th>\n",
              "      <th>Combined total</th>\n",
              "      <th>ID</th>\n",
              "    </tr>\n",
              "  </thead>\n",
              "  <tbody>\n",
              "    <tr>\n",
              "      <th>Afghanistan</th>\n",
              "      <td>13</td>\n",
              "      <td>0</td>\n",
              "      <td>0</td>\n",
              "      <td>2</td>\n",
              "      <td>2</td>\n",
              "      <td>0</td>\n",
              "      <td>0</td>\n",
              "      <td>0</td>\n",
              "      <td>0</td>\n",
              "      <td>0</td>\n",
              "      <td>13</td>\n",
              "      <td>0</td>\n",
              "      <td>0</td>\n",
              "      <td>2</td>\n",
              "      <td>2</td>\n",
              "      <td>AFG</td>\n",
              "    </tr>\n",
              "    <tr>\n",
              "      <th>Algeria</th>\n",
              "      <td>12</td>\n",
              "      <td>5</td>\n",
              "      <td>2</td>\n",
              "      <td>8</td>\n",
              "      <td>15</td>\n",
              "      <td>3</td>\n",
              "      <td>0</td>\n",
              "      <td>0</td>\n",
              "      <td>0</td>\n",
              "      <td>0</td>\n",
              "      <td>15</td>\n",
              "      <td>5</td>\n",
              "      <td>2</td>\n",
              "      <td>8</td>\n",
              "      <td>15</td>\n",
              "      <td>ALG</td>\n",
              "    </tr>\n",
              "    <tr>\n",
              "      <th>Argentina</th>\n",
              "      <td>23</td>\n",
              "      <td>18</td>\n",
              "      <td>24</td>\n",
              "      <td>28</td>\n",
              "      <td>70</td>\n",
              "      <td>18</td>\n",
              "      <td>0</td>\n",
              "      <td>0</td>\n",
              "      <td>0</td>\n",
              "      <td>0</td>\n",
              "      <td>41</td>\n",
              "      <td>18</td>\n",
              "      <td>24</td>\n",
              "      <td>28</td>\n",
              "      <td>70</td>\n",
              "      <td>ARG</td>\n",
              "    </tr>\n",
              "    <tr>\n",
              "      <th>Armenia</th>\n",
              "      <td>5</td>\n",
              "      <td>1</td>\n",
              "      <td>2</td>\n",
              "      <td>9</td>\n",
              "      <td>12</td>\n",
              "      <td>6</td>\n",
              "      <td>0</td>\n",
              "      <td>0</td>\n",
              "      <td>0</td>\n",
              "      <td>0</td>\n",
              "      <td>11</td>\n",
              "      <td>1</td>\n",
              "      <td>2</td>\n",
              "      <td>9</td>\n",
              "      <td>12</td>\n",
              "      <td>ARM</td>\n",
              "    </tr>\n",
              "    <tr>\n",
              "      <th>Australasia</th>\n",
              "      <td>2</td>\n",
              "      <td>3</td>\n",
              "      <td>4</td>\n",
              "      <td>5</td>\n",
              "      <td>12</td>\n",
              "      <td>0</td>\n",
              "      <td>0</td>\n",
              "      <td>0</td>\n",
              "      <td>0</td>\n",
              "      <td>0</td>\n",
              "      <td>2</td>\n",
              "      <td>3</td>\n",
              "      <td>4</td>\n",
              "      <td>5</td>\n",
              "      <td>12</td>\n",
              "      <td>ANZ</td>\n",
              "    </tr>\n",
              "  </tbody>\n",
              "</table>\n",
              "</div>"
            ],
            "text/plain": [
              "             # Summer  Gold  Silver  Bronze  Total  # Winter  Gold.1  \\\n",
              "Afghanistan        13     0       0       2      2         0       0   \n",
              "Algeria            12     5       2       8     15         3       0   \n",
              "Argentina          23    18      24      28     70        18       0   \n",
              "Armenia             5     1       2       9     12         6       0   \n",
              "Australasia         2     3       4       5     12         0       0   \n",
              "\n",
              "             Silver.1  Bronze.1  Total.1  # Games  Gold.2  Silver.2  Bronze.2  \\\n",
              "Afghanistan         0         0        0       13       0         0         2   \n",
              "Algeria             0         0        0       15       5         2         8   \n",
              "Argentina           0         0        0       41      18        24        28   \n",
              "Armenia             0         0        0       11       1         2         9   \n",
              "Australasia         0         0        0        2       3         4         5   \n",
              "\n",
              "             Combined total   ID  \n",
              "Afghanistan               2  AFG  \n",
              "Algeria                  15  ALG  \n",
              "Argentina                70  ARG  \n",
              "Armenia                  12  ARM  \n",
              "Australasia              12  ANZ  "
            ]
          },
          "metadata": {
            "tags": []
          },
          "execution_count": 33
        }
      ]
    },
    {
      "metadata": {
        "id": "JqpcUHaTQ6-1",
        "colab_type": "code",
        "outputId": "f2902a42-ead3-44cf-8fd7-827438ec0e07",
        "colab": {
          "base_uri": "https://localhost:8080/",
          "height": 134
        }
      },
      "cell_type": "code",
      "source": [
        "df.index"
      ],
      "execution_count": 0,
      "outputs": [
        {
          "output_type": "execute_result",
          "data": {
            "text/plain": [
              "Index(['Afghanistan', 'Algeria', 'Argentina', 'Armenia', 'Australasia',\n",
              "       'Australia', 'Austria', 'Azerbaijan', 'Bahamas', 'Bahrain',\n",
              "       ...\n",
              "       'Uruguay', 'Uzbekistan', 'Venezuela', 'Vietnam', 'Virgin Islands',\n",
              "       'Yugoslavia', 'Independent Olympic Participants', 'Zambia', 'Zimbabwe',\n",
              "       'Mixed team'],\n",
              "      dtype='object', length=146)"
            ]
          },
          "metadata": {
            "tags": []
          },
          "execution_count": 34
        }
      ]
    },
    {
      "metadata": {
        "id": "2lgC-Ga9Rche",
        "colab_type": "code",
        "outputId": "12925335-583a-4d32-efe2-01e0c4c95c05",
        "colab": {
          "base_uri": "https://localhost:8080/",
          "height": 34
        }
      },
      "cell_type": "code",
      "source": [
        "# Q1\n",
        "df[\"Gold\"].idxmax()"
      ],
      "execution_count": 0,
      "outputs": [
        {
          "output_type": "execute_result",
          "data": {
            "text/plain": [
              "'United States'"
            ]
          },
          "metadata": {
            "tags": []
          },
          "execution_count": 36
        }
      ]
    },
    {
      "metadata": {
        "id": "B--hGwbRXtQI",
        "colab_type": "code",
        "outputId": "447c8dbe-1811-4f5e-ce9e-cc6d4c02ef5b",
        "colab": {
          "base_uri": "https://localhost:8080/",
          "height": 34
        }
      },
      "cell_type": "code",
      "source": [
        "# Q2\n",
        "((df[\"Gold\"] - df[\"Gold.1\"])).abs().idxmax()"
      ],
      "execution_count": 0,
      "outputs": [
        {
          "output_type": "execute_result",
          "data": {
            "text/plain": [
              "'United States'"
            ]
          },
          "metadata": {
            "tags": []
          },
          "execution_count": 40
        }
      ]
    },
    {
      "metadata": {
        "id": "97CkXHEjX2-p",
        "colab_type": "code",
        "outputId": "bfdeab0a-aa85-4cc4-f995-74bd2edbc7ad",
        "colab": {
          "base_uri": "https://localhost:8080/",
          "height": 34
        }
      },
      "cell_type": "code",
      "source": [
        "(df[\"Gold.1\"] - df[\"Gold\"]).abs().idxmax()"
      ],
      "execution_count": 0,
      "outputs": [
        {
          "output_type": "execute_result",
          "data": {
            "text/plain": [
              "'United States'"
            ]
          },
          "metadata": {
            "tags": []
          },
          "execution_count": 41
        }
      ]
    },
    {
      "metadata": {
        "id": "ECEHAvcsSUHt",
        "colab_type": "code",
        "outputId": "ed2e7eeb-83a2-4151-8494-8f56ce16b28f",
        "colab": {
          "base_uri": "https://localhost:8080/",
          "height": 34
        }
      },
      "cell_type": "code",
      "source": [
        "# Q3\n",
        "ratio = (df[\"Gold\"] - df[\"Gold.1\"]) / df[\"Gold.2\"]\n",
        "ratio[ratio != 1].idxmax()"
      ],
      "execution_count": 0,
      "outputs": [
        {
          "output_type": "execute_result",
          "data": {
            "text/plain": [
              "'Bulgaria'"
            ]
          },
          "metadata": {
            "tags": []
          },
          "execution_count": 46
        }
      ]
    },
    {
      "metadata": {
        "id": "upjMD5PVY3s5",
        "colab_type": "code",
        "outputId": "ab510283-1777-4e25-e5fd-05595fa87200",
        "colab": {
          "base_uri": "https://localhost:8080/",
          "height": 114
        }
      },
      "cell_type": "code",
      "source": [
        "df.loc[[\"Bulgaria\"], :]"
      ],
      "execution_count": 0,
      "outputs": [
        {
          "output_type": "execute_result",
          "data": {
            "text/html": [
              "<div>\n",
              "<style scoped>\n",
              "    .dataframe tbody tr th:only-of-type {\n",
              "        vertical-align: middle;\n",
              "    }\n",
              "\n",
              "    .dataframe tbody tr th {\n",
              "        vertical-align: top;\n",
              "    }\n",
              "\n",
              "    .dataframe thead th {\n",
              "        text-align: right;\n",
              "    }\n",
              "</style>\n",
              "<table border=\"1\" class=\"dataframe\">\n",
              "  <thead>\n",
              "    <tr style=\"text-align: right;\">\n",
              "      <th></th>\n",
              "      <th># Summer</th>\n",
              "      <th>Gold</th>\n",
              "      <th>Silver</th>\n",
              "      <th>Bronze</th>\n",
              "      <th>Total</th>\n",
              "      <th># Winter</th>\n",
              "      <th>Gold.1</th>\n",
              "      <th>Silver.1</th>\n",
              "      <th>Bronze.1</th>\n",
              "      <th>Total.1</th>\n",
              "      <th># Games</th>\n",
              "      <th>Gold.2</th>\n",
              "      <th>Silver.2</th>\n",
              "      <th>Bronze.2</th>\n",
              "      <th>Combined total</th>\n",
              "      <th>ID</th>\n",
              "    </tr>\n",
              "  </thead>\n",
              "  <tbody>\n",
              "    <tr>\n",
              "      <th>Bulgaria</th>\n",
              "      <td>19</td>\n",
              "      <td>51</td>\n",
              "      <td>85</td>\n",
              "      <td>78</td>\n",
              "      <td>214</td>\n",
              "      <td>19</td>\n",
              "      <td>1</td>\n",
              "      <td>2</td>\n",
              "      <td>3</td>\n",
              "      <td>6</td>\n",
              "      <td>38</td>\n",
              "      <td>52</td>\n",
              "      <td>87</td>\n",
              "      <td>81</td>\n",
              "      <td>220</td>\n",
              "      <td>BUL</td>\n",
              "    </tr>\n",
              "  </tbody>\n",
              "</table>\n",
              "</div>"
            ],
            "text/plain": [
              "          # Summer  Gold  Silver  Bronze  Total  # Winter  Gold.1  Silver.1  \\\n",
              "Bulgaria        19    51      85      78    214        19       1         2   \n",
              "\n",
              "          Bronze.1  Total.1  # Games  Gold.2  Silver.2  Bronze.2  \\\n",
              "Bulgaria         3        6       38      52        87        81   \n",
              "\n",
              "          Combined total   ID  \n",
              "Bulgaria             220  BUL  "
            ]
          },
          "metadata": {
            "tags": []
          },
          "execution_count": 47
        }
      ]
    },
    {
      "metadata": {
        "id": "K4uDyJ_kbqFp",
        "colab_type": "text"
      },
      "cell_type": "markdown",
      "source": [
        "## pandas：美國普查"
      ]
    },
    {
      "metadata": {
        "id": "Nz76i2x6buDy",
        "colab_type": "code",
        "colab": {}
      },
      "cell_type": "code",
      "source": [
        "import pandas as pd\n",
        "\n",
        "df = pd.read_csv('https://storage.googleapis.com/py_ml_datasets/census.csv')"
      ],
      "execution_count": 0,
      "outputs": []
    },
    {
      "metadata": {
        "id": "v5bC1XZ3b25P",
        "colab_type": "code",
        "outputId": "7f3e6b84-7790-47a5-d98f-0e5339141865",
        "colab": {
          "base_uri": "https://localhost:8080/",
          "height": 34
        }
      },
      "cell_type": "code",
      "source": [
        "df.shape"
      ],
      "execution_count": 0,
      "outputs": [
        {
          "output_type": "execute_result",
          "data": {
            "text/plain": [
              "(3193, 100)"
            ]
          },
          "metadata": {
            "tags": []
          },
          "execution_count": 3
        }
      ]
    },
    {
      "metadata": {
        "id": "J-o9N-hcb_bh",
        "colab_type": "code",
        "outputId": "a3ece44a-5bf6-4a97-c709-16f418643670",
        "colab": {
          "base_uri": "https://localhost:8080/",
          "height": 311
        }
      },
      "cell_type": "code",
      "source": [
        "df.head()"
      ],
      "execution_count": 0,
      "outputs": [
        {
          "output_type": "execute_result",
          "data": {
            "text/html": [
              "<div>\n",
              "<style scoped>\n",
              "    .dataframe tbody tr th:only-of-type {\n",
              "        vertical-align: middle;\n",
              "    }\n",
              "\n",
              "    .dataframe tbody tr th {\n",
              "        vertical-align: top;\n",
              "    }\n",
              "\n",
              "    .dataframe thead th {\n",
              "        text-align: right;\n",
              "    }\n",
              "</style>\n",
              "<table border=\"1\" class=\"dataframe\">\n",
              "  <thead>\n",
              "    <tr style=\"text-align: right;\">\n",
              "      <th></th>\n",
              "      <th>SUMLEV</th>\n",
              "      <th>REGION</th>\n",
              "      <th>DIVISION</th>\n",
              "      <th>STATE</th>\n",
              "      <th>COUNTY</th>\n",
              "      <th>STNAME</th>\n",
              "      <th>CTYNAME</th>\n",
              "      <th>CENSUS2010POP</th>\n",
              "      <th>ESTIMATESBASE2010</th>\n",
              "      <th>POPESTIMATE2010</th>\n",
              "      <th>...</th>\n",
              "      <th>RDOMESTICMIG2011</th>\n",
              "      <th>RDOMESTICMIG2012</th>\n",
              "      <th>RDOMESTICMIG2013</th>\n",
              "      <th>RDOMESTICMIG2014</th>\n",
              "      <th>RDOMESTICMIG2015</th>\n",
              "      <th>RNETMIG2011</th>\n",
              "      <th>RNETMIG2012</th>\n",
              "      <th>RNETMIG2013</th>\n",
              "      <th>RNETMIG2014</th>\n",
              "      <th>RNETMIG2015</th>\n",
              "    </tr>\n",
              "  </thead>\n",
              "  <tbody>\n",
              "    <tr>\n",
              "      <th>0</th>\n",
              "      <td>40</td>\n",
              "      <td>3</td>\n",
              "      <td>6</td>\n",
              "      <td>1</td>\n",
              "      <td>0</td>\n",
              "      <td>Alabama</td>\n",
              "      <td>Alabama</td>\n",
              "      <td>4779736</td>\n",
              "      <td>4780127</td>\n",
              "      <td>4785161</td>\n",
              "      <td>...</td>\n",
              "      <td>0.002295</td>\n",
              "      <td>-0.193196</td>\n",
              "      <td>0.381066</td>\n",
              "      <td>0.582002</td>\n",
              "      <td>-0.467369</td>\n",
              "      <td>1.030015</td>\n",
              "      <td>0.826644</td>\n",
              "      <td>1.383282</td>\n",
              "      <td>1.724718</td>\n",
              "      <td>0.712594</td>\n",
              "    </tr>\n",
              "    <tr>\n",
              "      <th>1</th>\n",
              "      <td>50</td>\n",
              "      <td>3</td>\n",
              "      <td>6</td>\n",
              "      <td>1</td>\n",
              "      <td>1</td>\n",
              "      <td>Alabama</td>\n",
              "      <td>Autauga County</td>\n",
              "      <td>54571</td>\n",
              "      <td>54571</td>\n",
              "      <td>54660</td>\n",
              "      <td>...</td>\n",
              "      <td>7.242091</td>\n",
              "      <td>-2.915927</td>\n",
              "      <td>-3.012349</td>\n",
              "      <td>2.265971</td>\n",
              "      <td>-2.530799</td>\n",
              "      <td>7.606016</td>\n",
              "      <td>-2.626146</td>\n",
              "      <td>-2.722002</td>\n",
              "      <td>2.592270</td>\n",
              "      <td>-2.187333</td>\n",
              "    </tr>\n",
              "    <tr>\n",
              "      <th>2</th>\n",
              "      <td>50</td>\n",
              "      <td>3</td>\n",
              "      <td>6</td>\n",
              "      <td>1</td>\n",
              "      <td>3</td>\n",
              "      <td>Alabama</td>\n",
              "      <td>Baldwin County</td>\n",
              "      <td>182265</td>\n",
              "      <td>182265</td>\n",
              "      <td>183193</td>\n",
              "      <td>...</td>\n",
              "      <td>14.832960</td>\n",
              "      <td>17.647293</td>\n",
              "      <td>21.845705</td>\n",
              "      <td>19.243287</td>\n",
              "      <td>17.197872</td>\n",
              "      <td>15.844176</td>\n",
              "      <td>18.559627</td>\n",
              "      <td>22.727626</td>\n",
              "      <td>20.317142</td>\n",
              "      <td>18.293499</td>\n",
              "    </tr>\n",
              "    <tr>\n",
              "      <th>3</th>\n",
              "      <td>50</td>\n",
              "      <td>3</td>\n",
              "      <td>6</td>\n",
              "      <td>1</td>\n",
              "      <td>5</td>\n",
              "      <td>Alabama</td>\n",
              "      <td>Barbour County</td>\n",
              "      <td>27457</td>\n",
              "      <td>27457</td>\n",
              "      <td>27341</td>\n",
              "      <td>...</td>\n",
              "      <td>-4.728132</td>\n",
              "      <td>-2.500690</td>\n",
              "      <td>-7.056824</td>\n",
              "      <td>-3.904217</td>\n",
              "      <td>-10.543299</td>\n",
              "      <td>-4.874741</td>\n",
              "      <td>-2.758113</td>\n",
              "      <td>-7.167664</td>\n",
              "      <td>-3.978583</td>\n",
              "      <td>-10.543299</td>\n",
              "    </tr>\n",
              "    <tr>\n",
              "      <th>4</th>\n",
              "      <td>50</td>\n",
              "      <td>3</td>\n",
              "      <td>6</td>\n",
              "      <td>1</td>\n",
              "      <td>7</td>\n",
              "      <td>Alabama</td>\n",
              "      <td>Bibb County</td>\n",
              "      <td>22915</td>\n",
              "      <td>22919</td>\n",
              "      <td>22861</td>\n",
              "      <td>...</td>\n",
              "      <td>-5.527043</td>\n",
              "      <td>-5.068871</td>\n",
              "      <td>-6.201001</td>\n",
              "      <td>-0.177537</td>\n",
              "      <td>0.177258</td>\n",
              "      <td>-5.088389</td>\n",
              "      <td>-4.363636</td>\n",
              "      <td>-5.403729</td>\n",
              "      <td>0.754533</td>\n",
              "      <td>1.107861</td>\n",
              "    </tr>\n",
              "  </tbody>\n",
              "</table>\n",
              "<p>5 rows × 100 columns</p>\n",
              "</div>"
            ],
            "text/plain": [
              "   SUMLEV  REGION  DIVISION  STATE  COUNTY   STNAME         CTYNAME  \\\n",
              "0      40       3         6      1       0  Alabama         Alabama   \n",
              "1      50       3         6      1       1  Alabama  Autauga County   \n",
              "2      50       3         6      1       3  Alabama  Baldwin County   \n",
              "3      50       3         6      1       5  Alabama  Barbour County   \n",
              "4      50       3         6      1       7  Alabama     Bibb County   \n",
              "\n",
              "   CENSUS2010POP  ESTIMATESBASE2010  POPESTIMATE2010     ...       \\\n",
              "0        4779736            4780127          4785161     ...        \n",
              "1          54571              54571            54660     ...        \n",
              "2         182265             182265           183193     ...        \n",
              "3          27457              27457            27341     ...        \n",
              "4          22915              22919            22861     ...        \n",
              "\n",
              "   RDOMESTICMIG2011  RDOMESTICMIG2012  RDOMESTICMIG2013  RDOMESTICMIG2014  \\\n",
              "0          0.002295         -0.193196          0.381066          0.582002   \n",
              "1          7.242091         -2.915927         -3.012349          2.265971   \n",
              "2         14.832960         17.647293         21.845705         19.243287   \n",
              "3         -4.728132         -2.500690         -7.056824         -3.904217   \n",
              "4         -5.527043         -5.068871         -6.201001         -0.177537   \n",
              "\n",
              "   RDOMESTICMIG2015  RNETMIG2011  RNETMIG2012  RNETMIG2013  RNETMIG2014  \\\n",
              "0         -0.467369     1.030015     0.826644     1.383282     1.724718   \n",
              "1         -2.530799     7.606016    -2.626146    -2.722002     2.592270   \n",
              "2         17.197872    15.844176    18.559627    22.727626    20.317142   \n",
              "3        -10.543299    -4.874741    -2.758113    -7.167664    -3.978583   \n",
              "4          0.177258    -5.088389    -4.363636    -5.403729     0.754533   \n",
              "\n",
              "   RNETMIG2015  \n",
              "0     0.712594  \n",
              "1    -2.187333  \n",
              "2    18.293499  \n",
              "3   -10.543299  \n",
              "4     1.107861  \n",
              "\n",
              "[5 rows x 100 columns]"
            ]
          },
          "metadata": {
            "tags": []
          },
          "execution_count": 4
        }
      ]
    },
    {
      "metadata": {
        "id": "Cs7NoMlwcz2F",
        "colab_type": "code",
        "outputId": "b81f75aa-292f-4b67-924f-d5d2bea81386",
        "colab": {
          "base_uri": "https://localhost:8080/",
          "height": 34
        }
      },
      "cell_type": "code",
      "source": [
        "df[\"STNAME\"].unique().size"
      ],
      "execution_count": 0,
      "outputs": [
        {
          "output_type": "execute_result",
          "data": {
            "text/plain": [
              "51"
            ]
          },
          "metadata": {
            "tags": []
          },
          "execution_count": 5
        }
      ]
    },
    {
      "metadata": {
        "id": "ZZfFi6CcdBGo",
        "colab_type": "code",
        "outputId": "86273725-a4b6-4374-cbe4-e636dc3c9cf1",
        "colab": {
          "base_uri": "https://localhost:8080/",
          "height": 34
        }
      },
      "cell_type": "code",
      "source": [
        "df[df[\"SUMLEV\"] == 40].shape"
      ],
      "execution_count": 0,
      "outputs": [
        {
          "output_type": "execute_result",
          "data": {
            "text/plain": [
              "(51, 100)"
            ]
          },
          "metadata": {
            "tags": []
          },
          "execution_count": 6
        }
      ]
    },
    {
      "metadata": {
        "id": "pP1-O8VeeaoT",
        "colab_type": "code",
        "outputId": "b872b7b5-30c7-4d7b-dcd4-8aee2327340a",
        "colab": {
          "base_uri": "https://localhost:8080/",
          "height": 50
        }
      },
      "cell_type": "code",
      "source": [
        "# Q1\n",
        "# Iteration\n",
        "us_state_list = df[\"STNAME\"].unique()\n",
        "n_of_counties = []\n",
        "for st in us_state_list:\n",
        "  subset = df[df[\"STNAME\"] == st]\n",
        "  noc = subset.shape[0] - 1\n",
        "  n_of_counties.append(noc)\n",
        "noc_ser = pd.Series(n_of_counties, index=us_state_list)\n",
        "print(noc_ser.idxmax())\n",
        "print(noc_ser.max())"
      ],
      "execution_count": 0,
      "outputs": [
        {
          "output_type": "stream",
          "text": [
            "Texas\n",
            "254\n"
          ],
          "name": "stdout"
        }
      ]
    },
    {
      "metadata": {
        "id": "ZY6CiHkQlJZl",
        "colab_type": "code",
        "outputId": "c1f95172-d803-4745-8ec8-bcd950cdbd96",
        "colab": {
          "base_uri": "https://localhost:8080/",
          "height": 50
        }
      },
      "cell_type": "code",
      "source": [
        "# DataFrame\n",
        "grouped = df.groupby(\"STNAME\")\n",
        "print(grouped[\"CTYNAME\"].count().idxmax())\n",
        "print((grouped[\"CTYNAME\"].count() - 1).max())"
      ],
      "execution_count": 0,
      "outputs": [
        {
          "output_type": "stream",
          "text": [
            "Texas\n",
            "254\n"
          ],
          "name": "stdout"
        }
      ]
    },
    {
      "metadata": {
        "id": "vZ6t-yA8r5Ak",
        "colab_type": "code",
        "outputId": "522ab627-02a0-4397-d131-57f8d60b944a",
        "colab": {
          "base_uri": "https://localhost:8080/",
          "height": 34
        }
      },
      "cell_type": "code",
      "source": [
        "# Q2\n",
        "# Iteration\n",
        "county_df = df[df[\"SUMLEV\"] == 50]\n",
        "us_state_list = county_df[\"STNAME\"].unique()\n",
        "state_top3_pop = []\n",
        "for st in us_state_list:\n",
        "  subset = county_df[county_df[\"STNAME\"] == st]\n",
        "  top3_pop = subset.sort_values(\"CENSUS2010POP\", ascending=False)[:3][\"CENSUS2010POP\"].sum()\n",
        "  state_top3_pop.append(top3_pop)\n",
        "state_top3_pop_ser = pd.Series(state_top3_pop, index=us_state_list)\n",
        "ans = list(state_top3_pop_ser.sort_values(ascending=False)[:3].index)\n",
        "print(ans)"
      ],
      "execution_count": 0,
      "outputs": [
        {
          "output_type": "stream",
          "text": [
            "['California', 'Texas', 'Illinois']\n"
          ],
          "name": "stdout"
        }
      ]
    },
    {
      "metadata": {
        "id": "rkftmdVXuNO-",
        "colab_type": "code",
        "outputId": "eaff6abe-bb4f-4e15-c453-dbced98c4480",
        "colab": {
          "base_uri": "https://localhost:8080/",
          "height": 34
        }
      },
      "cell_type": "code",
      "source": [
        "# DataFrame\n",
        "county_df = df[df[\"SUMLEV\"] == 50]\n",
        "grouped = county_df.groupby(\"STNAME\")\n",
        "ans = list(grouped[\"CENSUS2010POP\"].nlargest(3).groupby(\"STNAME\").sum().nlargest(3).index)\n",
        "print(ans)"
      ],
      "execution_count": 0,
      "outputs": [
        {
          "output_type": "stream",
          "text": [
            "['California', 'Texas', 'Illinois']\n"
          ],
          "name": "stdout"
        }
      ]
    },
    {
      "metadata": {
        "id": "sICBDpkcytyZ",
        "colab_type": "code",
        "outputId": "09f070cd-b6c9-4e88-d27d-ecd2cf95d159",
        "colab": {
          "base_uri": "https://localhost:8080/",
          "height": 34
        }
      },
      "cell_type": "code",
      "source": [
        "# Q3\n",
        "# Iteration\n",
        "county_df = df[df[\"SUMLEV\"] == 50]\n",
        "indice = county_df.index\n",
        "diff_pop_list = []\n",
        "for i in indice:\n",
        "  subset = county_df.loc[i, \"POPESTIMATE2010\":\"POPESTIMATE2015\"]\n",
        "  max_pop = subset.max()\n",
        "  min_pop = subset.min()\n",
        "  diff_pop = max_pop - min_pop\n",
        "  diff_pop_list.append(diff_pop)\n",
        "diff_pop_ser = pd.Series(diff_pop_list, index=county_df[\"CTYNAME\"].values)\n",
        "diff_pop_ser.idxmax()"
      ],
      "execution_count": 0,
      "outputs": [
        {
          "output_type": "execute_result",
          "data": {
            "text/plain": [
              "'Harris County'"
            ]
          },
          "metadata": {
            "tags": []
          },
          "execution_count": 11
        }
      ]
    },
    {
      "metadata": {
        "id": "2DGisnLV4csM",
        "colab_type": "code",
        "outputId": "c4bd40a9-4c9c-495e-a888-0f530f19ae76",
        "colab": {
          "base_uri": "https://localhost:8080/",
          "height": 34
        }
      },
      "cell_type": "code",
      "source": [
        "# DataFrame\n",
        "county_df = df[df[\"SUMLEV\"] == 50]\n",
        "max_pop = county_df.loc[:, \"POPESTIMATE2010\":\"POPESTIMATE2015\"].max(axis=1)\n",
        "min_pop = county_df.loc[:, \"POPESTIMATE2010\":\"POPESTIMATE2015\"].min(axis=1)\n",
        "diff_pop = max_pop - min_pop\n",
        "max_idx = diff_pop.idxmax()\n",
        "county_df.loc[[max_idx], :][\"CTYNAME\"].values[0]"
      ],
      "execution_count": 0,
      "outputs": [
        {
          "output_type": "execute_result",
          "data": {
            "text/plain": [
              "'Harris County'"
            ]
          },
          "metadata": {
            "tags": []
          },
          "execution_count": 12
        }
      ]
    },
    {
      "metadata": {
        "id": "-hq6W3sGWBVU",
        "colab_type": "code",
        "outputId": "98bdc33c-eb6c-4863-cca5-118356b0d941",
        "colab": {
          "base_uri": "https://localhost:8080/",
          "height": 195
        }
      },
      "cell_type": "code",
      "source": [
        "#Q4\n",
        "county_filter = df[\"SUMLEV\"] == 50\n",
        "#region_filter = (df[\"REGION\"] == 1) | (df[\"REGION\"] == 2)\n",
        "region_filter = df[\"REGION\"].isin([1, 2])\n",
        "pop_filter = df[\"POPESTIMATE2015\"] > df[\"POPESTIMATE2014\"]\n",
        "washington_filter = df[\"CTYNAME\"].str.startswith(\"Washington\")\n",
        "df[county_filter & region_filter & pop_filter & washington_filter][[\"STNAME\", \"CTYNAME\"]]"
      ],
      "execution_count": 0,
      "outputs": [
        {
          "output_type": "execute_result",
          "data": {
            "text/html": [
              "<div>\n",
              "<style scoped>\n",
              "    .dataframe tbody tr th:only-of-type {\n",
              "        vertical-align: middle;\n",
              "    }\n",
              "\n",
              "    .dataframe tbody tr th {\n",
              "        vertical-align: top;\n",
              "    }\n",
              "\n",
              "    .dataframe thead th {\n",
              "        text-align: right;\n",
              "    }\n",
              "</style>\n",
              "<table border=\"1\" class=\"dataframe\">\n",
              "  <thead>\n",
              "    <tr style=\"text-align: right;\">\n",
              "      <th></th>\n",
              "      <th>STNAME</th>\n",
              "      <th>CTYNAME</th>\n",
              "    </tr>\n",
              "  </thead>\n",
              "  <tbody>\n",
              "    <tr>\n",
              "      <th>896</th>\n",
              "      <td>Iowa</td>\n",
              "      <td>Washington County</td>\n",
              "    </tr>\n",
              "    <tr>\n",
              "      <th>1419</th>\n",
              "      <td>Minnesota</td>\n",
              "      <td>Washington County</td>\n",
              "    </tr>\n",
              "    <tr>\n",
              "      <th>2345</th>\n",
              "      <td>Pennsylvania</td>\n",
              "      <td>Washington County</td>\n",
              "    </tr>\n",
              "    <tr>\n",
              "      <th>2355</th>\n",
              "      <td>Rhode Island</td>\n",
              "      <td>Washington County</td>\n",
              "    </tr>\n",
              "    <tr>\n",
              "      <th>3163</th>\n",
              "      <td>Wisconsin</td>\n",
              "      <td>Washington County</td>\n",
              "    </tr>\n",
              "  </tbody>\n",
              "</table>\n",
              "</div>"
            ],
            "text/plain": [
              "            STNAME            CTYNAME\n",
              "896           Iowa  Washington County\n",
              "1419     Minnesota  Washington County\n",
              "2345  Pennsylvania  Washington County\n",
              "2355  Rhode Island  Washington County\n",
              "3163     Wisconsin  Washington County"
            ]
          },
          "metadata": {
            "tags": []
          },
          "execution_count": 47
        }
      ]
    },
    {
      "metadata": {
        "id": "agl3DdtTgXu7",
        "colab_type": "code",
        "outputId": "b13d009d-65ae-412f-e66f-756472e8f483",
        "colab": {
          "base_uri": "https://localhost:8080/",
          "height": 1534
        }
      },
      "cell_type": "code",
      "source": [
        "county_df[county_df[\"CTYNAME\"].str.contains(\"Washington\")]"
      ],
      "execution_count": 0,
      "outputs": [
        {
          "output_type": "execute_result",
          "data": {
            "text/html": [
              "<div>\n",
              "<style scoped>\n",
              "    .dataframe tbody tr th:only-of-type {\n",
              "        vertical-align: middle;\n",
              "    }\n",
              "\n",
              "    .dataframe tbody tr th {\n",
              "        vertical-align: top;\n",
              "    }\n",
              "\n",
              "    .dataframe thead th {\n",
              "        text-align: right;\n",
              "    }\n",
              "</style>\n",
              "<table border=\"1\" class=\"dataframe\">\n",
              "  <thead>\n",
              "    <tr style=\"text-align: right;\">\n",
              "      <th></th>\n",
              "      <th>SUMLEV</th>\n",
              "      <th>REGION</th>\n",
              "      <th>DIVISION</th>\n",
              "      <th>STATE</th>\n",
              "      <th>COUNTY</th>\n",
              "      <th>STNAME</th>\n",
              "      <th>CTYNAME</th>\n",
              "      <th>CENSUS2010POP</th>\n",
              "      <th>ESTIMATESBASE2010</th>\n",
              "      <th>POPESTIMATE2010</th>\n",
              "      <th>...</th>\n",
              "      <th>RDOMESTICMIG2011</th>\n",
              "      <th>RDOMESTICMIG2012</th>\n",
              "      <th>RDOMESTICMIG2013</th>\n",
              "      <th>RDOMESTICMIG2014</th>\n",
              "      <th>RDOMESTICMIG2015</th>\n",
              "      <th>RNETMIG2011</th>\n",
              "      <th>RNETMIG2012</th>\n",
              "      <th>RNETMIG2013</th>\n",
              "      <th>RNETMIG2014</th>\n",
              "      <th>RNETMIG2015</th>\n",
              "    </tr>\n",
              "  </thead>\n",
              "  <tbody>\n",
              "    <tr>\n",
              "      <th>65</th>\n",
              "      <td>50</td>\n",
              "      <td>3</td>\n",
              "      <td>6</td>\n",
              "      <td>1</td>\n",
              "      <td>129</td>\n",
              "      <td>Alabama</td>\n",
              "      <td>Washington County</td>\n",
              "      <td>17581</td>\n",
              "      <td>17583</td>\n",
              "      <td>17610</td>\n",
              "      <td>...</td>\n",
              "      <td>-14.708407</td>\n",
              "      <td>-13.062030</td>\n",
              "      <td>-11.181733</td>\n",
              "      <td>1.067236</td>\n",
              "      <td>-0.950486</td>\n",
              "      <td>-13.849940</td>\n",
              "      <td>-12.075121</td>\n",
              "      <td>-10.122411</td>\n",
              "      <td>2.193763</td>\n",
              "      <td>0.118811</td>\n",
              "    </tr>\n",
              "    <tr>\n",
              "      <th>186</th>\n",
              "      <td>50</td>\n",
              "      <td>3</td>\n",
              "      <td>7</td>\n",
              "      <td>5</td>\n",
              "      <td>143</td>\n",
              "      <td>Arkansas</td>\n",
              "      <td>Washington County</td>\n",
              "      <td>203065</td>\n",
              "      <td>203060</td>\n",
              "      <td>204026</td>\n",
              "      <td>...</td>\n",
              "      <td>5.763423</td>\n",
              "      <td>5.801883</td>\n",
              "      <td>10.908233</td>\n",
              "      <td>7.168967</td>\n",
              "      <td>9.211963</td>\n",
              "      <td>9.191373</td>\n",
              "      <td>8.872065</td>\n",
              "      <td>14.267128</td>\n",
              "      <td>10.975336</td>\n",
              "      <td>12.950540</td>\n",
              "    </tr>\n",
              "    <tr>\n",
              "      <th>311</th>\n",
              "      <td>50</td>\n",
              "      <td>4</td>\n",
              "      <td>8</td>\n",
              "      <td>8</td>\n",
              "      <td>121</td>\n",
              "      <td>Colorado</td>\n",
              "      <td>Washington County</td>\n",
              "      <td>4814</td>\n",
              "      <td>4814</td>\n",
              "      <td>4801</td>\n",
              "      <td>...</td>\n",
              "      <td>-3.537981</td>\n",
              "      <td>-12.780222</td>\n",
              "      <td>10.930110</td>\n",
              "      <td>1.463823</td>\n",
              "      <td>15.336788</td>\n",
              "      <td>-2.913632</td>\n",
              "      <td>-12.570710</td>\n",
              "      <td>11.140305</td>\n",
              "      <td>1.672940</td>\n",
              "      <td>15.544041</td>\n",
              "    </tr>\n",
              "    <tr>\n",
              "      <th>396</th>\n",
              "      <td>50</td>\n",
              "      <td>3</td>\n",
              "      <td>5</td>\n",
              "      <td>12</td>\n",
              "      <td>133</td>\n",
              "      <td>Florida</td>\n",
              "      <td>Washington County</td>\n",
              "      <td>24896</td>\n",
              "      <td>24896</td>\n",
              "      <td>24754</td>\n",
              "      <td>...</td>\n",
              "      <td>-5.796984</td>\n",
              "      <td>10.967886</td>\n",
              "      <td>-8.778317</td>\n",
              "      <td>-5.505710</td>\n",
              "      <td>11.155898</td>\n",
              "      <td>-5.756446</td>\n",
              "      <td>11.008357</td>\n",
              "      <td>-8.697411</td>\n",
              "      <td>-5.301794</td>\n",
              "      <td>11.359472</td>\n",
              "    </tr>\n",
              "    <tr>\n",
              "      <th>547</th>\n",
              "      <td>50</td>\n",
              "      <td>3</td>\n",
              "      <td>5</td>\n",
              "      <td>13</td>\n",
              "      <td>303</td>\n",
              "      <td>Georgia</td>\n",
              "      <td>Washington County</td>\n",
              "      <td>21187</td>\n",
              "      <td>21187</td>\n",
              "      <td>21110</td>\n",
              "      <td>...</td>\n",
              "      <td>-6.219880</td>\n",
              "      <td>-11.035998</td>\n",
              "      <td>-12.870571</td>\n",
              "      <td>-3.054694</td>\n",
              "      <td>8.835458</td>\n",
              "      <td>-6.219880</td>\n",
              "      <td>-11.035998</td>\n",
              "      <td>-12.870571</td>\n",
              "      <td>-3.006206</td>\n",
              "      <td>8.883739</td>\n",
              "    </tr>\n",
              "    <tr>\n",
              "      <th>607</th>\n",
              "      <td>50</td>\n",
              "      <td>4</td>\n",
              "      <td>8</td>\n",
              "      <td>16</td>\n",
              "      <td>87</td>\n",
              "      <td>Idaho</td>\n",
              "      <td>Washington County</td>\n",
              "      <td>10198</td>\n",
              "      <td>10198</td>\n",
              "      <td>10195</td>\n",
              "      <td>...</td>\n",
              "      <td>-5.508558</td>\n",
              "      <td>-6.342285</td>\n",
              "      <td>-8.501700</td>\n",
              "      <td>6.613558</td>\n",
              "      <td>-5.302121</td>\n",
              "      <td>-5.606925</td>\n",
              "      <td>-6.342285</td>\n",
              "      <td>-8.501700</td>\n",
              "      <td>6.713763</td>\n",
              "      <td>-5.102041</td>\n",
              "    </tr>\n",
              "    <tr>\n",
              "      <th>703</th>\n",
              "      <td>50</td>\n",
              "      <td>2</td>\n",
              "      <td>3</td>\n",
              "      <td>17</td>\n",
              "      <td>189</td>\n",
              "      <td>Illinois</td>\n",
              "      <td>Washington County</td>\n",
              "      <td>14716</td>\n",
              "      <td>14716</td>\n",
              "      <td>14701</td>\n",
              "      <td>...</td>\n",
              "      <td>-8.057633</td>\n",
              "      <td>2.192006</td>\n",
              "      <td>-12.192182</td>\n",
              "      <td>-2.775850</td>\n",
              "      <td>-10.605638</td>\n",
              "      <td>-8.125918</td>\n",
              "      <td>2.123506</td>\n",
              "      <td>-12.192182</td>\n",
              "      <td>-2.775850</td>\n",
              "      <td>-10.605638</td>\n",
              "    </tr>\n",
              "    <tr>\n",
              "      <th>799</th>\n",
              "      <td>50</td>\n",
              "      <td>2</td>\n",
              "      <td>3</td>\n",
              "      <td>18</td>\n",
              "      <td>175</td>\n",
              "      <td>Indiana</td>\n",
              "      <td>Washington County</td>\n",
              "      <td>28262</td>\n",
              "      <td>28262</td>\n",
              "      <td>28284</td>\n",
              "      <td>...</td>\n",
              "      <td>-3.683894</td>\n",
              "      <td>-9.517699</td>\n",
              "      <td>-5.310179</td>\n",
              "      <td>0.717901</td>\n",
              "      <td>-5.454774</td>\n",
              "      <td>-3.258829</td>\n",
              "      <td>-9.161231</td>\n",
              "      <td>-4.879624</td>\n",
              "      <td>1.148641</td>\n",
              "      <td>-5.024134</td>\n",
              "    </tr>\n",
              "    <tr>\n",
              "      <th>896</th>\n",
              "      <td>50</td>\n",
              "      <td>2</td>\n",
              "      <td>4</td>\n",
              "      <td>19</td>\n",
              "      <td>183</td>\n",
              "      <td>Iowa</td>\n",
              "      <td>Washington County</td>\n",
              "      <td>21704</td>\n",
              "      <td>21704</td>\n",
              "      <td>21697</td>\n",
              "      <td>...</td>\n",
              "      <td>5.743693</td>\n",
              "      <td>2.468684</td>\n",
              "      <td>-0.364282</td>\n",
              "      <td>0.272171</td>\n",
              "      <td>1.849596</td>\n",
              "      <td>5.881542</td>\n",
              "      <td>2.560117</td>\n",
              "      <td>-0.273212</td>\n",
              "      <td>0.408256</td>\n",
              "      <td>1.984933</td>\n",
              "    </tr>\n",
              "    <tr>\n",
              "      <th>1005</th>\n",
              "      <td>50</td>\n",
              "      <td>2</td>\n",
              "      <td>4</td>\n",
              "      <td>20</td>\n",
              "      <td>201</td>\n",
              "      <td>Kansas</td>\n",
              "      <td>Washington County</td>\n",
              "      <td>5799</td>\n",
              "      <td>5799</td>\n",
              "      <td>5782</td>\n",
              "      <td>...</td>\n",
              "      <td>10.504563</td>\n",
              "      <td>-18.164519</td>\n",
              "      <td>-18.821460</td>\n",
              "      <td>-5.501819</td>\n",
              "      <td>-6.948156</td>\n",
              "      <td>12.054417</td>\n",
              "      <td>-16.780555</td>\n",
              "      <td>-17.238347</td>\n",
              "      <td>-3.549561</td>\n",
              "      <td>-4.988420</td>\n",
              "    </tr>\n",
              "    <tr>\n",
              "      <th>1125</th>\n",
              "      <td>50</td>\n",
              "      <td>3</td>\n",
              "      <td>6</td>\n",
              "      <td>21</td>\n",
              "      <td>229</td>\n",
              "      <td>Kentucky</td>\n",
              "      <td>Washington County</td>\n",
              "      <td>11717</td>\n",
              "      <td>11717</td>\n",
              "      <td>11742</td>\n",
              "      <td>...</td>\n",
              "      <td>3.996259</td>\n",
              "      <td>7.610672</td>\n",
              "      <td>-1.852320</td>\n",
              "      <td>2.013592</td>\n",
              "      <td>6.245316</td>\n",
              "      <td>3.826205</td>\n",
              "      <td>7.695235</td>\n",
              "      <td>-1.768123</td>\n",
              "      <td>2.097491</td>\n",
              "      <td>6.328587</td>\n",
              "    </tr>\n",
              "    <tr>\n",
              "      <th>1190</th>\n",
              "      <td>50</td>\n",
              "      <td>3</td>\n",
              "      <td>7</td>\n",
              "      <td>22</td>\n",
              "      <td>117</td>\n",
              "      <td>Louisiana</td>\n",
              "      <td>Washington Parish</td>\n",
              "      <td>47168</td>\n",
              "      <td>47171</td>\n",
              "      <td>47099</td>\n",
              "      <td>...</td>\n",
              "      <td>0.636693</td>\n",
              "      <td>-10.514642</td>\n",
              "      <td>-5.140614</td>\n",
              "      <td>-1.057904</td>\n",
              "      <td>1.273500</td>\n",
              "      <td>0.594246</td>\n",
              "      <td>-10.535969</td>\n",
              "      <td>-5.140614</td>\n",
              "      <td>-1.057904</td>\n",
              "      <td>1.273500</td>\n",
              "    </tr>\n",
              "    <tr>\n",
              "      <th>1211</th>\n",
              "      <td>50</td>\n",
              "      <td>1</td>\n",
              "      <td>1</td>\n",
              "      <td>23</td>\n",
              "      <td>29</td>\n",
              "      <td>Maine</td>\n",
              "      <td>Washington County</td>\n",
              "      <td>32856</td>\n",
              "      <td>32856</td>\n",
              "      <td>32824</td>\n",
              "      <td>...</td>\n",
              "      <td>0.213626</td>\n",
              "      <td>-3.280699</td>\n",
              "      <td>-4.262285</td>\n",
              "      <td>-9.111049</td>\n",
              "      <td>-4.284274</td>\n",
              "      <td>0.366217</td>\n",
              "      <td>-2.790127</td>\n",
              "      <td>-3.829879</td>\n",
              "      <td>-8.643015</td>\n",
              "      <td>-3.811744</td>\n",
              "    </tr>\n",
              "    <tr>\n",
              "      <th>1234</th>\n",
              "      <td>50</td>\n",
              "      <td>3</td>\n",
              "      <td>5</td>\n",
              "      <td>24</td>\n",
              "      <td>43</td>\n",
              "      <td>Maryland</td>\n",
              "      <td>Washington County</td>\n",
              "      <td>147430</td>\n",
              "      <td>147430</td>\n",
              "      <td>147738</td>\n",
              "      <td>...</td>\n",
              "      <td>3.736213</td>\n",
              "      <td>-1.167699</td>\n",
              "      <td>-2.572657</td>\n",
              "      <td>-2.349838</td>\n",
              "      <td>-3.264127</td>\n",
              "      <td>5.246883</td>\n",
              "      <td>0.429498</td>\n",
              "      <td>-0.857552</td>\n",
              "      <td>-0.455239</td>\n",
              "      <td>-1.377890</td>\n",
              "    </tr>\n",
              "    <tr>\n",
              "      <th>1419</th>\n",
              "      <td>50</td>\n",
              "      <td>2</td>\n",
              "      <td>4</td>\n",
              "      <td>27</td>\n",
              "      <td>163</td>\n",
              "      <td>Minnesota</td>\n",
              "      <td>Washington County</td>\n",
              "      <td>238136</td>\n",
              "      <td>238134</td>\n",
              "      <td>238995</td>\n",
              "      <td>...</td>\n",
              "      <td>2.555118</td>\n",
              "      <td>3.260957</td>\n",
              "      <td>2.285952</td>\n",
              "      <td>3.072543</td>\n",
              "      <td>0.678755</td>\n",
              "      <td>4.178076</td>\n",
              "      <td>4.907905</td>\n",
              "      <td>4.009584</td>\n",
              "      <td>5.040262</td>\n",
              "      <td>2.615204</td>\n",
              "    </tr>\n",
              "    <tr>\n",
              "      <th>1501</th>\n",
              "      <td>50</td>\n",
              "      <td>3</td>\n",
              "      <td>6</td>\n",
              "      <td>28</td>\n",
              "      <td>151</td>\n",
              "      <td>Mississippi</td>\n",
              "      <td>Washington County</td>\n",
              "      <td>51137</td>\n",
              "      <td>51135</td>\n",
              "      <td>51076</td>\n",
              "      <td>...</td>\n",
              "      <td>-17.258533</td>\n",
              "      <td>-12.536440</td>\n",
              "      <td>-11.003217</td>\n",
              "      <td>-15.335437</td>\n",
              "      <td>-24.304734</td>\n",
              "      <td>-17.278235</td>\n",
              "      <td>-12.178256</td>\n",
              "      <td>-10.602371</td>\n",
              "      <td>-14.930808</td>\n",
              "      <td>-23.893487</td>\n",
              "    </tr>\n",
              "    <tr>\n",
              "      <th>1618</th>\n",
              "      <td>50</td>\n",
              "      <td>2</td>\n",
              "      <td>4</td>\n",
              "      <td>29</td>\n",
              "      <td>221</td>\n",
              "      <td>Missouri</td>\n",
              "      <td>Washington County</td>\n",
              "      <td>25195</td>\n",
              "      <td>25196</td>\n",
              "      <td>25177</td>\n",
              "      <td>...</td>\n",
              "      <td>-5.130755</td>\n",
              "      <td>-2.389867</td>\n",
              "      <td>0.079577</td>\n",
              "      <td>-1.592420</td>\n",
              "      <td>-11.511311</td>\n",
              "      <td>-5.011435</td>\n",
              "      <td>-2.389867</td>\n",
              "      <td>0.079577</td>\n",
              "      <td>-1.592420</td>\n",
              "      <td>-11.511311</td>\n",
              "    </tr>\n",
              "    <tr>\n",
              "      <th>1770</th>\n",
              "      <td>50</td>\n",
              "      <td>2</td>\n",
              "      <td>4</td>\n",
              "      <td>31</td>\n",
              "      <td>177</td>\n",
              "      <td>Nebraska</td>\n",
              "      <td>Washington County</td>\n",
              "      <td>20234</td>\n",
              "      <td>20234</td>\n",
              "      <td>20275</td>\n",
              "      <td>...</td>\n",
              "      <td>-1.874784</td>\n",
              "      <td>-1.331459</td>\n",
              "      <td>-4.492607</td>\n",
              "      <td>-0.889284</td>\n",
              "      <td>-3.998716</td>\n",
              "      <td>-1.825448</td>\n",
              "      <td>-1.282146</td>\n",
              "      <td>-4.393868</td>\n",
              "      <td>-0.790475</td>\n",
              "      <td>-3.899983</td>\n",
              "    </tr>\n",
              "    <tr>\n",
              "      <th>1918</th>\n",
              "      <td>50</td>\n",
              "      <td>1</td>\n",
              "      <td>2</td>\n",
              "      <td>36</td>\n",
              "      <td>115</td>\n",
              "      <td>New York</td>\n",
              "      <td>Washington County</td>\n",
              "      <td>63216</td>\n",
              "      <td>63216</td>\n",
              "      <td>63292</td>\n",
              "      <td>...</td>\n",
              "      <td>-3.719090</td>\n",
              "      <td>-1.776030</td>\n",
              "      <td>-4.165839</td>\n",
              "      <td>-4.954213</td>\n",
              "      <td>-2.342897</td>\n",
              "      <td>-3.418398</td>\n",
              "      <td>-1.522311</td>\n",
              "      <td>-3.879636</td>\n",
              "      <td>-4.634587</td>\n",
              "      <td>-2.021953</td>\n",
              "    </tr>\n",
              "    <tr>\n",
              "      <th>2017</th>\n",
              "      <td>50</td>\n",
              "      <td>3</td>\n",
              "      <td>5</td>\n",
              "      <td>37</td>\n",
              "      <td>187</td>\n",
              "      <td>North Carolina</td>\n",
              "      <td>Washington County</td>\n",
              "      <td>13228</td>\n",
              "      <td>13218</td>\n",
              "      <td>13163</td>\n",
              "      <td>...</td>\n",
              "      <td>-17.616422</td>\n",
              "      <td>-19.247253</td>\n",
              "      <td>3.143542</td>\n",
              "      <td>-15.579280</td>\n",
              "      <td>-15.234735</td>\n",
              "      <td>-15.854779</td>\n",
              "      <td>-17.766695</td>\n",
              "      <td>4.872490</td>\n",
              "      <td>-13.760380</td>\n",
              "      <td>-13.390530</td>\n",
              "    </tr>\n",
              "    <tr>\n",
              "      <th>2162</th>\n",
              "      <td>50</td>\n",
              "      <td>2</td>\n",
              "      <td>3</td>\n",
              "      <td>39</td>\n",
              "      <td>167</td>\n",
              "      <td>Ohio</td>\n",
              "      <td>Washington County</td>\n",
              "      <td>61778</td>\n",
              "      <td>61778</td>\n",
              "      <td>61708</td>\n",
              "      <td>...</td>\n",
              "      <td>0.129798</td>\n",
              "      <td>0.780050</td>\n",
              "      <td>-0.455611</td>\n",
              "      <td>-2.137467</td>\n",
              "      <td>0.016355</td>\n",
              "      <td>0.227147</td>\n",
              "      <td>1.023816</td>\n",
              "      <td>-0.162718</td>\n",
              "      <td>-1.778503</td>\n",
              "      <td>0.376173</td>\n",
              "    </tr>\n",
              "    <tr>\n",
              "      <th>2241</th>\n",
              "      <td>50</td>\n",
              "      <td>3</td>\n",
              "      <td>7</td>\n",
              "      <td>40</td>\n",
              "      <td>147</td>\n",
              "      <td>Oklahoma</td>\n",
              "      <td>Washington County</td>\n",
              "      <td>50976</td>\n",
              "      <td>50977</td>\n",
              "      <td>51064</td>\n",
              "      <td>...</td>\n",
              "      <td>6.550601</td>\n",
              "      <td>1.937177</td>\n",
              "      <td>-4.298577</td>\n",
              "      <td>5.621233</td>\n",
              "      <td>-0.538524</td>\n",
              "      <td>8.012789</td>\n",
              "      <td>3.273830</td>\n",
              "      <td>-2.826992</td>\n",
              "      <td>7.224540</td>\n",
              "      <td>1.057814</td>\n",
              "    </tr>\n",
              "    <tr>\n",
              "      <th>2279</th>\n",
              "      <td>50</td>\n",
              "      <td>4</td>\n",
              "      <td>9</td>\n",
              "      <td>41</td>\n",
              "      <td>67</td>\n",
              "      <td>Oregon</td>\n",
              "      <td>Washington County</td>\n",
              "      <td>529710</td>\n",
              "      <td>529849</td>\n",
              "      <td>531658</td>\n",
              "      <td>...</td>\n",
              "      <td>4.095125</td>\n",
              "      <td>4.109241</td>\n",
              "      <td>2.794508</td>\n",
              "      <td>2.761557</td>\n",
              "      <td>7.923706</td>\n",
              "      <td>7.187933</td>\n",
              "      <td>7.194390</td>\n",
              "      <td>6.167129</td>\n",
              "      <td>6.638461</td>\n",
              "      <td>11.759856</td>\n",
              "    </tr>\n",
              "    <tr>\n",
              "      <th>2345</th>\n",
              "      <td>50</td>\n",
              "      <td>1</td>\n",
              "      <td>2</td>\n",
              "      <td>42</td>\n",
              "      <td>125</td>\n",
              "      <td>Pennsylvania</td>\n",
              "      <td>Washington County</td>\n",
              "      <td>207820</td>\n",
              "      <td>207820</td>\n",
              "      <td>207877</td>\n",
              "      <td>...</td>\n",
              "      <td>3.683135</td>\n",
              "      <td>3.260434</td>\n",
              "      <td>1.219337</td>\n",
              "      <td>2.113561</td>\n",
              "      <td>1.656917</td>\n",
              "      <td>4.062988</td>\n",
              "      <td>3.750219</td>\n",
              "      <td>1.742595</td>\n",
              "      <td>2.762039</td>\n",
              "      <td>2.305276</td>\n",
              "    </tr>\n",
              "    <tr>\n",
              "      <th>2355</th>\n",
              "      <td>50</td>\n",
              "      <td>1</td>\n",
              "      <td>1</td>\n",
              "      <td>44</td>\n",
              "      <td>9</td>\n",
              "      <td>Rhode Island</td>\n",
              "      <td>Washington County</td>\n",
              "      <td>126979</td>\n",
              "      <td>127094</td>\n",
              "      <td>127085</td>\n",
              "      <td>...</td>\n",
              "      <td>-4.669304</td>\n",
              "      <td>-2.659574</td>\n",
              "      <td>1.551904</td>\n",
              "      <td>1.400112</td>\n",
              "      <td>0.506035</td>\n",
              "      <td>-3.533527</td>\n",
              "      <td>-1.788880</td>\n",
              "      <td>2.462459</td>\n",
              "      <td>2.428442</td>\n",
              "      <td>1.533918</td>\n",
              "    </tr>\n",
              "    <tr>\n",
              "      <th>2560</th>\n",
              "      <td>50</td>\n",
              "      <td>3</td>\n",
              "      <td>6</td>\n",
              "      <td>47</td>\n",
              "      <td>179</td>\n",
              "      <td>Tennessee</td>\n",
              "      <td>Washington County</td>\n",
              "      <td>122979</td>\n",
              "      <td>122979</td>\n",
              "      <td>123338</td>\n",
              "      <td>...</td>\n",
              "      <td>5.102082</td>\n",
              "      <td>6.355175</td>\n",
              "      <td>3.498305</td>\n",
              "      <td>2.204098</td>\n",
              "      <td>1.665583</td>\n",
              "      <td>5.562967</td>\n",
              "      <td>6.869373</td>\n",
              "      <td>4.065382</td>\n",
              "      <td>2.880446</td>\n",
              "      <td>2.347678</td>\n",
              "    </tr>\n",
              "    <tr>\n",
              "      <th>2805</th>\n",
              "      <td>50</td>\n",
              "      <td>3</td>\n",
              "      <td>7</td>\n",
              "      <td>48</td>\n",
              "      <td>477</td>\n",
              "      <td>Texas</td>\n",
              "      <td>Washington County</td>\n",
              "      <td>33718</td>\n",
              "      <td>33708</td>\n",
              "      <td>33726</td>\n",
              "      <td>...</td>\n",
              "      <td>3.929796</td>\n",
              "      <td>-3.861914</td>\n",
              "      <td>4.908877</td>\n",
              "      <td>3.937410</td>\n",
              "      <td>6.186938</td>\n",
              "      <td>5.288973</td>\n",
              "      <td>-2.505822</td>\n",
              "      <td>6.349206</td>\n",
              "      <td>5.687370</td>\n",
              "      <td>7.950504</td>\n",
              "    </tr>\n",
              "    <tr>\n",
              "      <th>2848</th>\n",
              "      <td>50</td>\n",
              "      <td>4</td>\n",
              "      <td>8</td>\n",
              "      <td>49</td>\n",
              "      <td>53</td>\n",
              "      <td>Utah</td>\n",
              "      <td>Washington County</td>\n",
              "      <td>138115</td>\n",
              "      <td>138115</td>\n",
              "      <td>138424</td>\n",
              "      <td>...</td>\n",
              "      <td>10.452576</td>\n",
              "      <td>13.931997</td>\n",
              "      <td>15.138553</td>\n",
              "      <td>17.835620</td>\n",
              "      <td>18.206181</td>\n",
              "      <td>10.809807</td>\n",
              "      <td>14.120739</td>\n",
              "      <td>15.384931</td>\n",
              "      <td>18.229593</td>\n",
              "      <td>18.589948</td>\n",
              "    </tr>\n",
              "    <tr>\n",
              "      <th>2863</th>\n",
              "      <td>50</td>\n",
              "      <td>1</td>\n",
              "      <td>1</td>\n",
              "      <td>50</td>\n",
              "      <td>23</td>\n",
              "      <td>Vermont</td>\n",
              "      <td>Washington County</td>\n",
              "      <td>59534</td>\n",
              "      <td>59526</td>\n",
              "      <td>59570</td>\n",
              "      <td>...</td>\n",
              "      <td>-1.578161</td>\n",
              "      <td>-5.617505</td>\n",
              "      <td>-3.407759</td>\n",
              "      <td>-4.097008</td>\n",
              "      <td>-6.278073</td>\n",
              "      <td>-1.376694</td>\n",
              "      <td>-5.281128</td>\n",
              "      <td>-3.087227</td>\n",
              "      <td>-3.741482</td>\n",
              "      <td>-5.920784</td>\n",
              "    </tr>\n",
              "    <tr>\n",
              "      <th>2957</th>\n",
              "      <td>50</td>\n",
              "      <td>3</td>\n",
              "      <td>5</td>\n",
              "      <td>51</td>\n",
              "      <td>191</td>\n",
              "      <td>Virginia</td>\n",
              "      <td>Washington County</td>\n",
              "      <td>54876</td>\n",
              "      <td>54870</td>\n",
              "      <td>54893</td>\n",
              "      <td>...</td>\n",
              "      <td>-1.058037</td>\n",
              "      <td>7.122105</td>\n",
              "      <td>-3.806956</td>\n",
              "      <td>-0.219364</td>\n",
              "      <td>-2.782507</td>\n",
              "      <td>-0.711439</td>\n",
              "      <td>7.522837</td>\n",
              "      <td>-3.388009</td>\n",
              "      <td>0.292486</td>\n",
              "      <td>-2.269940</td>\n",
              "    </tr>\n",
              "    <tr>\n",
              "      <th>3163</th>\n",
              "      <td>50</td>\n",
              "      <td>2</td>\n",
              "      <td>3</td>\n",
              "      <td>55</td>\n",
              "      <td>131</td>\n",
              "      <td>Wisconsin</td>\n",
              "      <td>Washington County</td>\n",
              "      <td>131887</td>\n",
              "      <td>131885</td>\n",
              "      <td>131967</td>\n",
              "      <td>...</td>\n",
              "      <td>-0.794876</td>\n",
              "      <td>0.785279</td>\n",
              "      <td>-2.215465</td>\n",
              "      <td>1.601149</td>\n",
              "      <td>-0.434498</td>\n",
              "      <td>-0.431504</td>\n",
              "      <td>1.162817</td>\n",
              "      <td>-1.763330</td>\n",
              "      <td>2.104796</td>\n",
              "      <td>0.059931</td>\n",
              "    </tr>\n",
              "  </tbody>\n",
              "</table>\n",
              "<p>31 rows × 100 columns</p>\n",
              "</div>"
            ],
            "text/plain": [
              "      SUMLEV  REGION  DIVISION  STATE  COUNTY          STNAME  \\\n",
              "65        50       3         6      1     129         Alabama   \n",
              "186       50       3         7      5     143        Arkansas   \n",
              "311       50       4         8      8     121        Colorado   \n",
              "396       50       3         5     12     133         Florida   \n",
              "547       50       3         5     13     303         Georgia   \n",
              "607       50       4         8     16      87           Idaho   \n",
              "703       50       2         3     17     189        Illinois   \n",
              "799       50       2         3     18     175         Indiana   \n",
              "896       50       2         4     19     183            Iowa   \n",
              "1005      50       2         4     20     201          Kansas   \n",
              "1125      50       3         6     21     229        Kentucky   \n",
              "1190      50       3         7     22     117       Louisiana   \n",
              "1211      50       1         1     23      29           Maine   \n",
              "1234      50       3         5     24      43        Maryland   \n",
              "1419      50       2         4     27     163       Minnesota   \n",
              "1501      50       3         6     28     151     Mississippi   \n",
              "1618      50       2         4     29     221        Missouri   \n",
              "1770      50       2         4     31     177        Nebraska   \n",
              "1918      50       1         2     36     115        New York   \n",
              "2017      50       3         5     37     187  North Carolina   \n",
              "2162      50       2         3     39     167            Ohio   \n",
              "2241      50       3         7     40     147        Oklahoma   \n",
              "2279      50       4         9     41      67          Oregon   \n",
              "2345      50       1         2     42     125    Pennsylvania   \n",
              "2355      50       1         1     44       9    Rhode Island   \n",
              "2560      50       3         6     47     179       Tennessee   \n",
              "2805      50       3         7     48     477           Texas   \n",
              "2848      50       4         8     49      53            Utah   \n",
              "2863      50       1         1     50      23         Vermont   \n",
              "2957      50       3         5     51     191        Virginia   \n",
              "3163      50       2         3     55     131       Wisconsin   \n",
              "\n",
              "                CTYNAME  CENSUS2010POP  ESTIMATESBASE2010  POPESTIMATE2010  \\\n",
              "65    Washington County          17581              17583            17610   \n",
              "186   Washington County         203065             203060           204026   \n",
              "311   Washington County           4814               4814             4801   \n",
              "396   Washington County          24896              24896            24754   \n",
              "547   Washington County          21187              21187            21110   \n",
              "607   Washington County          10198              10198            10195   \n",
              "703   Washington County          14716              14716            14701   \n",
              "799   Washington County          28262              28262            28284   \n",
              "896   Washington County          21704              21704            21697   \n",
              "1005  Washington County           5799               5799             5782   \n",
              "1125  Washington County          11717              11717            11742   \n",
              "1190  Washington Parish          47168              47171            47099   \n",
              "1211  Washington County          32856              32856            32824   \n",
              "1234  Washington County         147430             147430           147738   \n",
              "1419  Washington County         238136             238134           238995   \n",
              "1501  Washington County          51137              51135            51076   \n",
              "1618  Washington County          25195              25196            25177   \n",
              "1770  Washington County          20234              20234            20275   \n",
              "1918  Washington County          63216              63216            63292   \n",
              "2017  Washington County          13228              13218            13163   \n",
              "2162  Washington County          61778              61778            61708   \n",
              "2241  Washington County          50976              50977            51064   \n",
              "2279  Washington County         529710             529849           531658   \n",
              "2345  Washington County         207820             207820           207877   \n",
              "2355  Washington County         126979             127094           127085   \n",
              "2560  Washington County         122979             122979           123338   \n",
              "2805  Washington County          33718              33708            33726   \n",
              "2848  Washington County         138115             138115           138424   \n",
              "2863  Washington County          59534              59526            59570   \n",
              "2957  Washington County          54876              54870            54893   \n",
              "3163  Washington County         131887             131885           131967   \n",
              "\n",
              "         ...       RDOMESTICMIG2011  RDOMESTICMIG2012  RDOMESTICMIG2013  \\\n",
              "65       ...             -14.708407        -13.062030        -11.181733   \n",
              "186      ...               5.763423          5.801883         10.908233   \n",
              "311      ...              -3.537981        -12.780222         10.930110   \n",
              "396      ...              -5.796984         10.967886         -8.778317   \n",
              "547      ...              -6.219880        -11.035998        -12.870571   \n",
              "607      ...              -5.508558         -6.342285         -8.501700   \n",
              "703      ...              -8.057633          2.192006        -12.192182   \n",
              "799      ...              -3.683894         -9.517699         -5.310179   \n",
              "896      ...               5.743693          2.468684         -0.364282   \n",
              "1005     ...              10.504563        -18.164519        -18.821460   \n",
              "1125     ...               3.996259          7.610672         -1.852320   \n",
              "1190     ...               0.636693        -10.514642         -5.140614   \n",
              "1211     ...               0.213626         -3.280699         -4.262285   \n",
              "1234     ...               3.736213         -1.167699         -2.572657   \n",
              "1419     ...               2.555118          3.260957          2.285952   \n",
              "1501     ...             -17.258533        -12.536440        -11.003217   \n",
              "1618     ...              -5.130755         -2.389867          0.079577   \n",
              "1770     ...              -1.874784         -1.331459         -4.492607   \n",
              "1918     ...              -3.719090         -1.776030         -4.165839   \n",
              "2017     ...             -17.616422        -19.247253          3.143542   \n",
              "2162     ...               0.129798          0.780050         -0.455611   \n",
              "2241     ...               6.550601          1.937177         -4.298577   \n",
              "2279     ...               4.095125          4.109241          2.794508   \n",
              "2345     ...               3.683135          3.260434          1.219337   \n",
              "2355     ...              -4.669304         -2.659574          1.551904   \n",
              "2560     ...               5.102082          6.355175          3.498305   \n",
              "2805     ...               3.929796         -3.861914          4.908877   \n",
              "2848     ...              10.452576         13.931997         15.138553   \n",
              "2863     ...              -1.578161         -5.617505         -3.407759   \n",
              "2957     ...              -1.058037          7.122105         -3.806956   \n",
              "3163     ...              -0.794876          0.785279         -2.215465   \n",
              "\n",
              "      RDOMESTICMIG2014  RDOMESTICMIG2015  RNETMIG2011  RNETMIG2012  \\\n",
              "65            1.067236         -0.950486   -13.849940   -12.075121   \n",
              "186           7.168967          9.211963     9.191373     8.872065   \n",
              "311           1.463823         15.336788    -2.913632   -12.570710   \n",
              "396          -5.505710         11.155898    -5.756446    11.008357   \n",
              "547          -3.054694          8.835458    -6.219880   -11.035998   \n",
              "607           6.613558         -5.302121    -5.606925    -6.342285   \n",
              "703          -2.775850        -10.605638    -8.125918     2.123506   \n",
              "799           0.717901         -5.454774    -3.258829    -9.161231   \n",
              "896           0.272171          1.849596     5.881542     2.560117   \n",
              "1005         -5.501819         -6.948156    12.054417   -16.780555   \n",
              "1125          2.013592          6.245316     3.826205     7.695235   \n",
              "1190         -1.057904          1.273500     0.594246   -10.535969   \n",
              "1211         -9.111049         -4.284274     0.366217    -2.790127   \n",
              "1234         -2.349838         -3.264127     5.246883     0.429498   \n",
              "1419          3.072543          0.678755     4.178076     4.907905   \n",
              "1501        -15.335437        -24.304734   -17.278235   -12.178256   \n",
              "1618         -1.592420        -11.511311    -5.011435    -2.389867   \n",
              "1770         -0.889284         -3.998716    -1.825448    -1.282146   \n",
              "1918         -4.954213         -2.342897    -3.418398    -1.522311   \n",
              "2017        -15.579280        -15.234735   -15.854779   -17.766695   \n",
              "2162         -2.137467          0.016355     0.227147     1.023816   \n",
              "2241          5.621233         -0.538524     8.012789     3.273830   \n",
              "2279          2.761557          7.923706     7.187933     7.194390   \n",
              "2345          2.113561          1.656917     4.062988     3.750219   \n",
              "2355          1.400112          0.506035    -3.533527    -1.788880   \n",
              "2560          2.204098          1.665583     5.562967     6.869373   \n",
              "2805          3.937410          6.186938     5.288973    -2.505822   \n",
              "2848         17.835620         18.206181    10.809807    14.120739   \n",
              "2863         -4.097008         -6.278073    -1.376694    -5.281128   \n",
              "2957         -0.219364         -2.782507    -0.711439     7.522837   \n",
              "3163          1.601149         -0.434498    -0.431504     1.162817   \n",
              "\n",
              "      RNETMIG2013  RNETMIG2014  RNETMIG2015  \n",
              "65     -10.122411     2.193763     0.118811  \n",
              "186     14.267128    10.975336    12.950540  \n",
              "311     11.140305     1.672940    15.544041  \n",
              "396     -8.697411    -5.301794    11.359472  \n",
              "547    -12.870571    -3.006206     8.883739  \n",
              "607     -8.501700     6.713763    -5.102041  \n",
              "703    -12.192182    -2.775850   -10.605638  \n",
              "799     -4.879624     1.148641    -5.024134  \n",
              "896     -0.273212     0.408256     1.984933  \n",
              "1005   -17.238347    -3.549561    -4.988420  \n",
              "1125    -1.768123     2.097491     6.328587  \n",
              "1190    -5.140614    -1.057904     1.273500  \n",
              "1211    -3.829879    -8.643015    -3.811744  \n",
              "1234    -0.857552    -0.455239    -1.377890  \n",
              "1419     4.009584     5.040262     2.615204  \n",
              "1501   -10.602371   -14.930808   -23.893487  \n",
              "1618     0.079577    -1.592420   -11.511311  \n",
              "1770    -4.393868    -0.790475    -3.899983  \n",
              "1918    -3.879636    -4.634587    -2.021953  \n",
              "2017     4.872490   -13.760380   -13.390530  \n",
              "2162    -0.162718    -1.778503     0.376173  \n",
              "2241    -2.826992     7.224540     1.057814  \n",
              "2279     6.167129     6.638461    11.759856  \n",
              "2345     1.742595     2.762039     2.305276  \n",
              "2355     2.462459     2.428442     1.533918  \n",
              "2560     4.065382     2.880446     2.347678  \n",
              "2805     6.349206     5.687370     7.950504  \n",
              "2848    15.384931    18.229593    18.589948  \n",
              "2863    -3.087227    -3.741482    -5.920784  \n",
              "2957    -3.388009     0.292486    -2.269940  \n",
              "3163    -1.763330     2.104796     0.059931  \n",
              "\n",
              "[31 rows x 100 columns]"
            ]
          },
          "metadata": {
            "tags": []
          },
          "execution_count": 29
        }
      ]
    },
    {
      "metadata": {
        "id": "Fk0v5T36h1NR",
        "colab_type": "code",
        "outputId": "a562be58-66a5-49fe-d365-a77ce91c3c31",
        "colab": {
          "base_uri": "https://localhost:8080/",
          "height": 218
        }
      },
      "cell_type": "code",
      "source": [
        "washingtons = [\"Washington County\", \"County Washington\", \"Lincoln County\"]\n",
        "washington_ser = pd.Series(washingtons)\n",
        "print(washington_ser.str.contains(\"Washington\"))\n",
        "print(washington_ser.str.contains(\"^Washington\"))\n",
        "print(washington_ser.str.contains(\"Washington$\"))"
      ],
      "execution_count": 0,
      "outputs": [
        {
          "output_type": "stream",
          "text": [
            "0     True\n",
            "1     True\n",
            "2    False\n",
            "dtype: bool\n",
            "0     True\n",
            "1    False\n",
            "2    False\n",
            "dtype: bool\n",
            "0    False\n",
            "1     True\n",
            "2    False\n",
            "dtype: bool\n"
          ],
          "name": "stdout"
        }
      ]
    },
    {
      "metadata": {
        "id": "w310YV2WkWDZ",
        "colab_type": "code",
        "outputId": "3531dac5-dfd2-4ec2-a552-a9cafdc1bd9f",
        "colab": {
          "base_uri": "https://localhost:8080/",
          "height": 218
        }
      },
      "cell_type": "code",
      "source": [
        "print(washington_ser.str.match(\"Washington\"))\n",
        "print(washington_ser.str.match(\"^Washington\"))\n",
        "print(washington_ser.str.match(\"Washington$\"))"
      ],
      "execution_count": 0,
      "outputs": [
        {
          "output_type": "stream",
          "text": [
            "0     True\n",
            "1    False\n",
            "2    False\n",
            "dtype: bool\n",
            "0     True\n",
            "1    False\n",
            "2    False\n",
            "dtype: bool\n",
            "0    False\n",
            "1    False\n",
            "2    False\n",
            "dtype: bool\n"
          ],
          "name": "stdout"
        }
      ]
    },
    {
      "metadata": {
        "id": "fLKPT9OarSUk",
        "colab_type": "text"
      },
      "cell_type": "markdown",
      "source": [
        "## pandas：中選會投票所明細"
      ]
    },
    {
      "metadata": {
        "id": "X33CsV6CrWfo",
        "colab_type": "code",
        "colab": {}
      },
      "cell_type": "code",
      "source": [
        "import pandas as pd\n",
        "import string\n",
        "\n",
        "def read_cec_excel(xls_file):\n",
        "  \"\"\"\n",
        "  Import Excel sheet from CEC as a pandas DataFrame\n",
        "  \"\"\"\n",
        "  df = pd.read_excel(xls_file, skiprows=[0, 1, 3, 4])\n",
        "  # dealing with header\n",
        "  n_cols = len(df.columns)\n",
        "  n_candidates = n_cols - 11\n",
        "  column_names = df.columns\n",
        "  candidates = column_names[3:(3 + n_candidates)]\n",
        "  candidates_information = []\n",
        "  for cand in candidates:\n",
        "    cand_split = cand.split(\"\\n\")\n",
        "    if cand_split[2] == ' ':\n",
        "      party = \"無黨籍\"\n",
        "    else:\n",
        "      party = cand_split[2]\n",
        "    candidate_info = \"{} {} {}\".format(cand_split[0], cand_split[1], party)\n",
        "    candidates_information.append(candidate_info)\n",
        "  front_cols = [\"district\", \"village\", \"office\"]\n",
        "  back_cols = list(string.ascii_uppercase[:8])\n",
        "  df_header = front_cols + candidates_information + back_cols\n",
        "  # combining observations with header\n",
        "  df.columns = df_header\n",
        "  # imputing districts\n",
        "  district_without_space = [d.strip() for d in list(df[\"district\"])]\n",
        "  district_imputed = district_without_space\n",
        "  for i in range(len(district_without_space)):\n",
        "    if len(district_without_space[i]) == 0:\n",
        "      district_imputed[i] = district_imputed[i - 1]\n",
        "  df[\"district\"] = district_imputed\n",
        "  # drop rows with NaN\n",
        "  df = df.dropna().reset_index(drop=True)\n",
        "  # convert office dtype to int\n",
        "  df[\"office\"] = df[\"office\"].astype(int)\n",
        "  # returning dataframe\n",
        "  return df"
      ],
      "execution_count": 0,
      "outputs": []
    },
    {
      "metadata": {
        "id": "XEpEXpIWfbpb",
        "colab_type": "code",
        "outputId": "22826689-54fb-4e43-b4d4-f3c55fae3ae1",
        "colab": {
          "base_uri": "https://localhost:8080/",
          "height": 406
        }
      },
      "cell_type": "code",
      "source": [
        "city_ids = [100, 200, 300, 400, 500, 600]\n",
        "county_ids = list(range(701, 715)) + [801, 802]\n",
        "cities = [\"台北市\", \"新北市\", \"桃園市\", \"台中市\", \"台南市\", \"高雄市\"]\n",
        "counties = [\"新竹縣\", \"苗栗縣\", \"彰化縣\", \"南投縣\", \"雲林縣\", \"嘉義縣\", \"屏東縣\", \"宜蘭縣\", \"花蓮縣\", \"台東縣\", \"澎湖縣\", \"基隆市\", \"新竹市\", \"嘉義市\", \"金門縣\", \"連江縣\"]\n",
        "admin_areas = cities + counties\n",
        "city_xls_file_urls = [\"https://s3-ap-northeast-1.amazonaws.com/tw-election-2018/city-mayor/{}.xls\".format(cid) for cid in city_ids]\n",
        "county_xls_file_urls = [\"https://s3-ap-northeast-1.amazonaws.com/tw-election-2018/county-mayor/{}.xls\".format(cid) for cid in county_ids]\n",
        "xls_file_urls = city_xls_file_urls + county_xls_file_urls\n",
        "for aa, xfu in zip(admin_areas, xls_file_urls):\n",
        "  print(aa, xfu)"
      ],
      "execution_count": 0,
      "outputs": [
        {
          "output_type": "stream",
          "text": [
            "台北市 https://s3-ap-northeast-1.amazonaws.com/tw-election-2018/city-mayor/100.xls\n",
            "新北市 https://s3-ap-northeast-1.amazonaws.com/tw-election-2018/city-mayor/200.xls\n",
            "桃園市 https://s3-ap-northeast-1.amazonaws.com/tw-election-2018/city-mayor/300.xls\n",
            "台中市 https://s3-ap-northeast-1.amazonaws.com/tw-election-2018/city-mayor/400.xls\n",
            "台南市 https://s3-ap-northeast-1.amazonaws.com/tw-election-2018/city-mayor/500.xls\n",
            "高雄市 https://s3-ap-northeast-1.amazonaws.com/tw-election-2018/city-mayor/600.xls\n",
            "新竹縣 https://s3-ap-northeast-1.amazonaws.com/tw-election-2018/county-mayor/701.xls\n",
            "苗栗縣 https://s3-ap-northeast-1.amazonaws.com/tw-election-2018/county-mayor/702.xls\n",
            "彰化縣 https://s3-ap-northeast-1.amazonaws.com/tw-election-2018/county-mayor/703.xls\n",
            "南投縣 https://s3-ap-northeast-1.amazonaws.com/tw-election-2018/county-mayor/704.xls\n",
            "雲林縣 https://s3-ap-northeast-1.amazonaws.com/tw-election-2018/county-mayor/705.xls\n",
            "嘉義縣 https://s3-ap-northeast-1.amazonaws.com/tw-election-2018/county-mayor/706.xls\n",
            "屏東縣 https://s3-ap-northeast-1.amazonaws.com/tw-election-2018/county-mayor/707.xls\n",
            "宜蘭縣 https://s3-ap-northeast-1.amazonaws.com/tw-election-2018/county-mayor/708.xls\n",
            "花蓮縣 https://s3-ap-northeast-1.amazonaws.com/tw-election-2018/county-mayor/709.xls\n",
            "台東縣 https://s3-ap-northeast-1.amazonaws.com/tw-election-2018/county-mayor/710.xls\n",
            "澎湖縣 https://s3-ap-northeast-1.amazonaws.com/tw-election-2018/county-mayor/711.xls\n",
            "基隆市 https://s3-ap-northeast-1.amazonaws.com/tw-election-2018/county-mayor/712.xls\n",
            "新竹市 https://s3-ap-northeast-1.amazonaws.com/tw-election-2018/county-mayor/713.xls\n",
            "嘉義市 https://s3-ap-northeast-1.amazonaws.com/tw-election-2018/county-mayor/714.xls\n",
            "金門縣 https://s3-ap-northeast-1.amazonaws.com/tw-election-2018/county-mayor/801.xls\n",
            "連江縣 https://s3-ap-northeast-1.amazonaws.com/tw-election-2018/county-mayor/802.xls\n"
          ],
          "name": "stdout"
        }
      ]
    },
    {
      "metadata": {
        "id": "h1JSFHeEgnVL",
        "colab_type": "code",
        "outputId": "be081eb0-bb13-4002-bca3-d85ceedfe3df",
        "colab": {
          "base_uri": "https://localhost:8080/",
          "height": 403
        }
      },
      "cell_type": "code",
      "source": [
        "df_dict = dict()\n",
        "for aa, xfu in zip(admin_areas, xls_file_urls):\n",
        "  df_dict[aa] = read_cec_excel(xfu)\n",
        "  print(\"現在讀取{}資料...\".format(aa))\n",
        "print(len(df_dict))"
      ],
      "execution_count": 0,
      "outputs": [
        {
          "output_type": "stream",
          "text": [
            "現在讀取台北市資料\n",
            "現在讀取新北市資料\n",
            "現在讀取桃園市資料\n",
            "現在讀取台中市資料\n",
            "現在讀取台南市資料\n",
            "現在讀取高雄市資料\n",
            "現在讀取新竹縣資料\n",
            "現在讀取苗栗縣資料\n",
            "現在讀取彰化縣資料\n",
            "現在讀取南投縣資料\n",
            "現在讀取雲林縣資料\n",
            "現在讀取嘉義縣資料\n",
            "現在讀取屏東縣資料\n",
            "現在讀取宜蘭縣資料\n",
            "現在讀取花蓮縣資料\n",
            "現在讀取台東縣資料\n",
            "現在讀取澎湖縣資料\n",
            "現在讀取基隆市資料\n",
            "現在讀取新竹市資料\n",
            "現在讀取嘉義市資料\n",
            "現在讀取金門縣資料\n",
            "現在讀取連江縣資料\n",
            "22\n"
          ],
          "name": "stdout"
        }
      ]
    },
    {
      "metadata": {
        "id": "S1mt4NDvg-s6",
        "colab_type": "code",
        "outputId": "3caff7ef-b1f9-45c1-8cff-375c9a0284ce",
        "colab": {
          "base_uri": "https://localhost:8080/",
          "height": 54
        }
      },
      "cell_type": "code",
      "source": [
        "print(df_dict.keys())"
      ],
      "execution_count": 0,
      "outputs": [
        {
          "output_type": "stream",
          "text": [
            "dict_keys(['台北市', '新北市', '桃園市', '台中市', '台南市', '高雄市', '新竹縣', '苗栗縣', '彰化縣', '南投縣', '雲林縣', '嘉義縣', '屏東縣', '宜蘭縣', '花蓮縣', '台東縣', '澎湖縣', '基隆市', '新竹市', '嘉義市', '金門縣', '連江縣'])\n"
          ],
          "name": "stdout"
        }
      ]
    },
    {
      "metadata": {
        "id": "JknLYRYPhHHE",
        "colab_type": "code",
        "outputId": "12af2a10-0552-4390-8711-15a924110d41",
        "colab": {
          "base_uri": "https://localhost:8080/",
          "height": 34
        }
      },
      "cell_type": "code",
      "source": [
        "df_dict[\"台北市\"].shape"
      ],
      "execution_count": 0,
      "outputs": [
        {
          "output_type": "execute_result",
          "data": {
            "text/plain": [
              "(1563, 16)"
            ]
          },
          "metadata": {
            "tags": []
          },
          "execution_count": 66
        }
      ]
    },
    {
      "metadata": {
        "id": "Y37qxPG2hNaH",
        "colab_type": "code",
        "outputId": "cf60d11b-c97c-4b01-fd92-04dc1528d0cf",
        "colab": {
          "base_uri": "https://localhost:8080/",
          "height": 34
        }
      },
      "cell_type": "code",
      "source": [
        "df_dict[\"新北市\"].shape"
      ],
      "execution_count": 0,
      "outputs": [
        {
          "output_type": "execute_result",
          "data": {
            "text/plain": [
              "(2446, 13)"
            ]
          },
          "metadata": {
            "tags": []
          },
          "execution_count": 67
        }
      ]
    },
    {
      "metadata": {
        "id": "RJFNlC5YitvO",
        "colab_type": "code",
        "outputId": "e8ab5c2e-9a96-4ac2-9aa1-e5c8bdd181ff",
        "colab": {
          "base_uri": "https://localhost:8080/",
          "height": 195
        }
      },
      "cell_type": "code",
      "source": [
        "import pandas as pd\n",
        "\n",
        "cities = [\"Taipei\", \"Seoul\", \"Boston\", \"London\", \"Reykjavik\"]\n",
        "temps_c = [19, 2, 3, 8, 1]\n",
        "wide_df = pd.DataFrame()\n",
        "wide_df[\"city\"] = cities\n",
        "wide_df[\"Celsius\"] = temps_c\n",
        "wide_df[\"Fahrenheit\"] = wide_df[\"Celsius\"] * (9/5) + 32\n",
        "wide_df"
      ],
      "execution_count": 0,
      "outputs": [
        {
          "output_type": "execute_result",
          "data": {
            "text/html": [
              "<div>\n",
              "<style scoped>\n",
              "    .dataframe tbody tr th:only-of-type {\n",
              "        vertical-align: middle;\n",
              "    }\n",
              "\n",
              "    .dataframe tbody tr th {\n",
              "        vertical-align: top;\n",
              "    }\n",
              "\n",
              "    .dataframe thead th {\n",
              "        text-align: right;\n",
              "    }\n",
              "</style>\n",
              "<table border=\"1\" class=\"dataframe\">\n",
              "  <thead>\n",
              "    <tr style=\"text-align: right;\">\n",
              "      <th></th>\n",
              "      <th>city</th>\n",
              "      <th>Celsius</th>\n",
              "      <th>Fahrenheit</th>\n",
              "    </tr>\n",
              "  </thead>\n",
              "  <tbody>\n",
              "    <tr>\n",
              "      <th>0</th>\n",
              "      <td>Taipei</td>\n",
              "      <td>19</td>\n",
              "      <td>66.2</td>\n",
              "    </tr>\n",
              "    <tr>\n",
              "      <th>1</th>\n",
              "      <td>Seoul</td>\n",
              "      <td>2</td>\n",
              "      <td>35.6</td>\n",
              "    </tr>\n",
              "    <tr>\n",
              "      <th>2</th>\n",
              "      <td>Boston</td>\n",
              "      <td>3</td>\n",
              "      <td>37.4</td>\n",
              "    </tr>\n",
              "    <tr>\n",
              "      <th>3</th>\n",
              "      <td>London</td>\n",
              "      <td>8</td>\n",
              "      <td>46.4</td>\n",
              "    </tr>\n",
              "    <tr>\n",
              "      <th>4</th>\n",
              "      <td>Reykjavik</td>\n",
              "      <td>1</td>\n",
              "      <td>33.8</td>\n",
              "    </tr>\n",
              "  </tbody>\n",
              "</table>\n",
              "</div>"
            ],
            "text/plain": [
              "        city  Celsius  Fahrenheit\n",
              "0     Taipei       19        66.2\n",
              "1      Seoul        2        35.6\n",
              "2     Boston        3        37.4\n",
              "3     London        8        46.4\n",
              "4  Reykjavik        1        33.8"
            ]
          },
          "metadata": {
            "tags": []
          },
          "execution_count": 68
        }
      ]
    },
    {
      "metadata": {
        "id": "zdP1d042kGfF",
        "colab_type": "code",
        "outputId": "20f7a92f-91c4-4e83-99a8-231d02b6cd63",
        "colab": {
          "base_uri": "https://localhost:8080/",
          "height": 343
        }
      },
      "cell_type": "code",
      "source": [
        "cities = cities * 2\n",
        "scale = [\"Celsius\" for _ in range(5)] + [\"Fahrenheit\" for _ in range(5)]\n",
        "temp = temps_c + [t*(9/5) + 32 for t in temps_c]\n",
        "long_df = pd.DataFrame()\n",
        "long_df[\"city\"] = cities\n",
        "long_df[\"scale\"] = scale\n",
        "long_df[\"temp\"] = temp\n",
        "long_df"
      ],
      "execution_count": 0,
      "outputs": [
        {
          "output_type": "execute_result",
          "data": {
            "text/html": [
              "<div>\n",
              "<style scoped>\n",
              "    .dataframe tbody tr th:only-of-type {\n",
              "        vertical-align: middle;\n",
              "    }\n",
              "\n",
              "    .dataframe tbody tr th {\n",
              "        vertical-align: top;\n",
              "    }\n",
              "\n",
              "    .dataframe thead th {\n",
              "        text-align: right;\n",
              "    }\n",
              "</style>\n",
              "<table border=\"1\" class=\"dataframe\">\n",
              "  <thead>\n",
              "    <tr style=\"text-align: right;\">\n",
              "      <th></th>\n",
              "      <th>city</th>\n",
              "      <th>scale</th>\n",
              "      <th>temp</th>\n",
              "    </tr>\n",
              "  </thead>\n",
              "  <tbody>\n",
              "    <tr>\n",
              "      <th>0</th>\n",
              "      <td>Taipei</td>\n",
              "      <td>Celsius</td>\n",
              "      <td>19.0</td>\n",
              "    </tr>\n",
              "    <tr>\n",
              "      <th>1</th>\n",
              "      <td>Seoul</td>\n",
              "      <td>Celsius</td>\n",
              "      <td>2.0</td>\n",
              "    </tr>\n",
              "    <tr>\n",
              "      <th>2</th>\n",
              "      <td>Boston</td>\n",
              "      <td>Celsius</td>\n",
              "      <td>3.0</td>\n",
              "    </tr>\n",
              "    <tr>\n",
              "      <th>3</th>\n",
              "      <td>London</td>\n",
              "      <td>Celsius</td>\n",
              "      <td>8.0</td>\n",
              "    </tr>\n",
              "    <tr>\n",
              "      <th>4</th>\n",
              "      <td>Reykjavik</td>\n",
              "      <td>Celsius</td>\n",
              "      <td>1.0</td>\n",
              "    </tr>\n",
              "    <tr>\n",
              "      <th>5</th>\n",
              "      <td>Taipei</td>\n",
              "      <td>Fahrenheit</td>\n",
              "      <td>66.2</td>\n",
              "    </tr>\n",
              "    <tr>\n",
              "      <th>6</th>\n",
              "      <td>Seoul</td>\n",
              "      <td>Fahrenheit</td>\n",
              "      <td>35.6</td>\n",
              "    </tr>\n",
              "    <tr>\n",
              "      <th>7</th>\n",
              "      <td>Boston</td>\n",
              "      <td>Fahrenheit</td>\n",
              "      <td>37.4</td>\n",
              "    </tr>\n",
              "    <tr>\n",
              "      <th>8</th>\n",
              "      <td>London</td>\n",
              "      <td>Fahrenheit</td>\n",
              "      <td>46.4</td>\n",
              "    </tr>\n",
              "    <tr>\n",
              "      <th>9</th>\n",
              "      <td>Reykjavik</td>\n",
              "      <td>Fahrenheit</td>\n",
              "      <td>33.8</td>\n",
              "    </tr>\n",
              "  </tbody>\n",
              "</table>\n",
              "</div>"
            ],
            "text/plain": [
              "        city       scale  temp\n",
              "0     Taipei     Celsius  19.0\n",
              "1      Seoul     Celsius   2.0\n",
              "2     Boston     Celsius   3.0\n",
              "3     London     Celsius   8.0\n",
              "4  Reykjavik     Celsius   1.0\n",
              "5     Taipei  Fahrenheit  66.2\n",
              "6      Seoul  Fahrenheit  35.6\n",
              "7     Boston  Fahrenheit  37.4\n",
              "8     London  Fahrenheit  46.4\n",
              "9  Reykjavik  Fahrenheit  33.8"
            ]
          },
          "metadata": {
            "tags": []
          },
          "execution_count": 69
        }
      ]
    },
    {
      "metadata": {
        "id": "geDkYuBtlv6Z",
        "colab_type": "code",
        "outputId": "11b39a80-b57d-411e-eb6e-f0082683630e",
        "colab": {
          "base_uri": "https://localhost:8080/",
          "height": 343
        }
      },
      "cell_type": "code",
      "source": [
        "# pd.melt\n",
        "pd.melt(wide_df, id_vars=\"city\", var_name=\"scale\", value_name=\"degree\")"
      ],
      "execution_count": 0,
      "outputs": [
        {
          "output_type": "execute_result",
          "data": {
            "text/html": [
              "<div>\n",
              "<style scoped>\n",
              "    .dataframe tbody tr th:only-of-type {\n",
              "        vertical-align: middle;\n",
              "    }\n",
              "\n",
              "    .dataframe tbody tr th {\n",
              "        vertical-align: top;\n",
              "    }\n",
              "\n",
              "    .dataframe thead th {\n",
              "        text-align: right;\n",
              "    }\n",
              "</style>\n",
              "<table border=\"1\" class=\"dataframe\">\n",
              "  <thead>\n",
              "    <tr style=\"text-align: right;\">\n",
              "      <th></th>\n",
              "      <th>city</th>\n",
              "      <th>scale</th>\n",
              "      <th>degree</th>\n",
              "    </tr>\n",
              "  </thead>\n",
              "  <tbody>\n",
              "    <tr>\n",
              "      <th>0</th>\n",
              "      <td>Taipei</td>\n",
              "      <td>Celsius</td>\n",
              "      <td>19.0</td>\n",
              "    </tr>\n",
              "    <tr>\n",
              "      <th>1</th>\n",
              "      <td>Seoul</td>\n",
              "      <td>Celsius</td>\n",
              "      <td>2.0</td>\n",
              "    </tr>\n",
              "    <tr>\n",
              "      <th>2</th>\n",
              "      <td>Boston</td>\n",
              "      <td>Celsius</td>\n",
              "      <td>3.0</td>\n",
              "    </tr>\n",
              "    <tr>\n",
              "      <th>3</th>\n",
              "      <td>London</td>\n",
              "      <td>Celsius</td>\n",
              "      <td>8.0</td>\n",
              "    </tr>\n",
              "    <tr>\n",
              "      <th>4</th>\n",
              "      <td>Reykjavik</td>\n",
              "      <td>Celsius</td>\n",
              "      <td>1.0</td>\n",
              "    </tr>\n",
              "    <tr>\n",
              "      <th>5</th>\n",
              "      <td>Taipei</td>\n",
              "      <td>Fahrenheit</td>\n",
              "      <td>66.2</td>\n",
              "    </tr>\n",
              "    <tr>\n",
              "      <th>6</th>\n",
              "      <td>Seoul</td>\n",
              "      <td>Fahrenheit</td>\n",
              "      <td>35.6</td>\n",
              "    </tr>\n",
              "    <tr>\n",
              "      <th>7</th>\n",
              "      <td>Boston</td>\n",
              "      <td>Fahrenheit</td>\n",
              "      <td>37.4</td>\n",
              "    </tr>\n",
              "    <tr>\n",
              "      <th>8</th>\n",
              "      <td>London</td>\n",
              "      <td>Fahrenheit</td>\n",
              "      <td>46.4</td>\n",
              "    </tr>\n",
              "    <tr>\n",
              "      <th>9</th>\n",
              "      <td>Reykjavik</td>\n",
              "      <td>Fahrenheit</td>\n",
              "      <td>33.8</td>\n",
              "    </tr>\n",
              "  </tbody>\n",
              "</table>\n",
              "</div>"
            ],
            "text/plain": [
              "        city       scale  degree\n",
              "0     Taipei     Celsius    19.0\n",
              "1      Seoul     Celsius     2.0\n",
              "2     Boston     Celsius     3.0\n",
              "3     London     Celsius     8.0\n",
              "4  Reykjavik     Celsius     1.0\n",
              "5     Taipei  Fahrenheit    66.2\n",
              "6      Seoul  Fahrenheit    35.6\n",
              "7     Boston  Fahrenheit    37.4\n",
              "8     London  Fahrenheit    46.4\n",
              "9  Reykjavik  Fahrenheit    33.8"
            ]
          },
          "metadata": {
            "tags": []
          },
          "execution_count": 70
        }
      ]
    },
    {
      "metadata": {
        "id": "LVfuaTgYnXEo",
        "colab_type": "code",
        "colab": {}
      },
      "cell_type": "code",
      "source": [
        "import pandas as pd\n",
        "\n",
        "players = [\"Steve Nash\", \"Michael Jordan\", \"Kevin Garnett\", \"Dirk Nowitzski\", \"Shaquille O'Neal\"]\n",
        "heights = [190, 198, 213, 213, 216]\n",
        "weights = [82, 98, 113, 111, 148]\n",
        "# wide-format\n",
        "# use pd.melt() 轉換成 long-format"
      ],
      "execution_count": 0,
      "outputs": []
    },
    {
      "metadata": {
        "id": "3aIwT0z7m4G7",
        "colab_type": "code",
        "outputId": "ae7d18e3-4462-42f3-b6de-036c917689ee",
        "colab": {
          "base_uri": "https://localhost:8080/",
          "height": 225
        }
      },
      "cell_type": "code",
      "source": [
        "pd.melt(wide_df, id_vars=\"city\", var_name=\"scale\", value_name=\"degree\").pivot(index=\"city\", columns=\"scale\", values=\"degree\")"
      ],
      "execution_count": 0,
      "outputs": [
        {
          "output_type": "execute_result",
          "data": {
            "text/html": [
              "<div>\n",
              "<style scoped>\n",
              "    .dataframe tbody tr th:only-of-type {\n",
              "        vertical-align: middle;\n",
              "    }\n",
              "\n",
              "    .dataframe tbody tr th {\n",
              "        vertical-align: top;\n",
              "    }\n",
              "\n",
              "    .dataframe thead th {\n",
              "        text-align: right;\n",
              "    }\n",
              "</style>\n",
              "<table border=\"1\" class=\"dataframe\">\n",
              "  <thead>\n",
              "    <tr style=\"text-align: right;\">\n",
              "      <th>scale</th>\n",
              "      <th>Celsius</th>\n",
              "      <th>Fahrenheit</th>\n",
              "    </tr>\n",
              "    <tr>\n",
              "      <th>city</th>\n",
              "      <th></th>\n",
              "      <th></th>\n",
              "    </tr>\n",
              "  </thead>\n",
              "  <tbody>\n",
              "    <tr>\n",
              "      <th>Boston</th>\n",
              "      <td>3.0</td>\n",
              "      <td>37.4</td>\n",
              "    </tr>\n",
              "    <tr>\n",
              "      <th>London</th>\n",
              "      <td>8.0</td>\n",
              "      <td>46.4</td>\n",
              "    </tr>\n",
              "    <tr>\n",
              "      <th>Reykjavik</th>\n",
              "      <td>1.0</td>\n",
              "      <td>33.8</td>\n",
              "    </tr>\n",
              "    <tr>\n",
              "      <th>Seoul</th>\n",
              "      <td>2.0</td>\n",
              "      <td>35.6</td>\n",
              "    </tr>\n",
              "    <tr>\n",
              "      <th>Taipei</th>\n",
              "      <td>19.0</td>\n",
              "      <td>66.2</td>\n",
              "    </tr>\n",
              "  </tbody>\n",
              "</table>\n",
              "</div>"
            ],
            "text/plain": [
              "scale      Celsius  Fahrenheit\n",
              "city                          \n",
              "Boston         3.0        37.4\n",
              "London         8.0        46.4\n",
              "Reykjavik      1.0        33.8\n",
              "Seoul          2.0        35.6\n",
              "Taipei        19.0        66.2"
            ]
          },
          "metadata": {
            "tags": []
          },
          "execution_count": 72
        }
      ]
    },
    {
      "metadata": {
        "id": "lNKT_zmKrWX9",
        "colab_type": "code",
        "outputId": "e87a4102-91f2-460d-ae06-cad5959ce299",
        "colab": {
          "base_uri": "https://localhost:8080/",
          "height": 350
        }
      },
      "cell_type": "code",
      "source": [
        "df_dict[\"台北市\"].head()"
      ],
      "execution_count": 0,
      "outputs": [
        {
          "output_type": "execute_result",
          "data": {
            "text/html": [
              "<div>\n",
              "<style scoped>\n",
              "    .dataframe tbody tr th:only-of-type {\n",
              "        vertical-align: middle;\n",
              "    }\n",
              "\n",
              "    .dataframe tbody tr th {\n",
              "        vertical-align: top;\n",
              "    }\n",
              "\n",
              "    .dataframe thead th {\n",
              "        text-align: right;\n",
              "    }\n",
              "</style>\n",
              "<table border=\"1\" class=\"dataframe\">\n",
              "  <thead>\n",
              "    <tr style=\"text-align: right;\">\n",
              "      <th></th>\n",
              "      <th>district</th>\n",
              "      <th>village</th>\n",
              "      <th>office</th>\n",
              "      <th>1 吳蕚洋 無黨籍</th>\n",
              "      <th>2 丁守中 中國國民黨</th>\n",
              "      <th>3 姚文智 民主進步黨</th>\n",
              "      <th>4 柯文哲 無黨籍</th>\n",
              "      <th>5 李錫錕 無黨籍</th>\n",
              "      <th>A</th>\n",
              "      <th>B</th>\n",
              "      <th>C</th>\n",
              "      <th>D</th>\n",
              "      <th>E</th>\n",
              "      <th>F</th>\n",
              "      <th>G</th>\n",
              "      <th>H</th>\n",
              "    </tr>\n",
              "  </thead>\n",
              "  <tbody>\n",
              "    <tr>\n",
              "      <th>0</th>\n",
              "      <td>北投區</td>\n",
              "      <td>建民里</td>\n",
              "      <td>1</td>\n",
              "      <td>4</td>\n",
              "      <td>338</td>\n",
              "      <td>196</td>\n",
              "      <td>316</td>\n",
              "      <td>8</td>\n",
              "      <td>862</td>\n",
              "      <td>9</td>\n",
              "      <td>871</td>\n",
              "      <td>0</td>\n",
              "      <td>871</td>\n",
              "      <td>417</td>\n",
              "      <td>1288</td>\n",
              "      <td>67.620003</td>\n",
              "    </tr>\n",
              "    <tr>\n",
              "      <th>1</th>\n",
              "      <td>北投區</td>\n",
              "      <td>建民里</td>\n",
              "      <td>2</td>\n",
              "      <td>2</td>\n",
              "      <td>326</td>\n",
              "      <td>243</td>\n",
              "      <td>412</td>\n",
              "      <td>5</td>\n",
              "      <td>988</td>\n",
              "      <td>11</td>\n",
              "      <td>999</td>\n",
              "      <td>0</td>\n",
              "      <td>999</td>\n",
              "      <td>363</td>\n",
              "      <td>1362</td>\n",
              "      <td>73.349998</td>\n",
              "    </tr>\n",
              "    <tr>\n",
              "      <th>2</th>\n",
              "      <td>北投區</td>\n",
              "      <td>建民里</td>\n",
              "      <td>3</td>\n",
              "      <td>2</td>\n",
              "      <td>247</td>\n",
              "      <td>144</td>\n",
              "      <td>306</td>\n",
              "      <td>3</td>\n",
              "      <td>702</td>\n",
              "      <td>9</td>\n",
              "      <td>711</td>\n",
              "      <td>0</td>\n",
              "      <td>711</td>\n",
              "      <td>328</td>\n",
              "      <td>1039</td>\n",
              "      <td>68.430000</td>\n",
              "    </tr>\n",
              "    <tr>\n",
              "      <th>3</th>\n",
              "      <td>北投區</td>\n",
              "      <td>文林里</td>\n",
              "      <td>4</td>\n",
              "      <td>1</td>\n",
              "      <td>282</td>\n",
              "      <td>177</td>\n",
              "      <td>307</td>\n",
              "      <td>8</td>\n",
              "      <td>775</td>\n",
              "      <td>4</td>\n",
              "      <td>779</td>\n",
              "      <td>0</td>\n",
              "      <td>779</td>\n",
              "      <td>396</td>\n",
              "      <td>1175</td>\n",
              "      <td>66.300003</td>\n",
              "    </tr>\n",
              "    <tr>\n",
              "      <th>4</th>\n",
              "      <td>北投區</td>\n",
              "      <td>文林里</td>\n",
              "      <td>5</td>\n",
              "      <td>5</td>\n",
              "      <td>315</td>\n",
              "      <td>183</td>\n",
              "      <td>378</td>\n",
              "      <td>5</td>\n",
              "      <td>886</td>\n",
              "      <td>3</td>\n",
              "      <td>889</td>\n",
              "      <td>1</td>\n",
              "      <td>890</td>\n",
              "      <td>399</td>\n",
              "      <td>1289</td>\n",
              "      <td>68.970001</td>\n",
              "    </tr>\n",
              "  </tbody>\n",
              "</table>\n",
              "</div>"
            ],
            "text/plain": [
              "  district village  office  1 吳蕚洋 無黨籍  2 丁守中 中國國民黨  3 姚文智 民主進步黨  4 柯文哲 無黨籍  \\\n",
              "0      北投區     建民里       1          4          338          196        316   \n",
              "1      北投區     建民里       2          2          326          243        412   \n",
              "2      北投區     建民里       3          2          247          144        306   \n",
              "3      北投區     文林里       4          1          282          177        307   \n",
              "4      北投區     文林里       5          5          315          183        378   \n",
              "\n",
              "   5 李錫錕 無黨籍    A   B    C  D    E    F     G          H  \n",
              "0          8  862   9  871  0  871  417  1288  67.620003  \n",
              "1          5  988  11  999  0  999  363  1362  73.349998  \n",
              "2          3  702   9  711  0  711  328  1039  68.430000  \n",
              "3          8  775   4  779  0  779  396  1175  66.300003  \n",
              "4          5  886   3  889  1  890  399  1289  68.970001  "
            ]
          },
          "metadata": {
            "tags": []
          },
          "execution_count": 73
        }
      ]
    },
    {
      "metadata": {
        "id": "ht-Grj3GraXD",
        "colab_type": "code",
        "outputId": "f431cca2-330b-4bfa-8866-4150f00a2218",
        "colab": {
          "base_uri": "https://localhost:8080/",
          "height": 262
        }
      },
      "cell_type": "code",
      "source": [
        "df_dict[\"新北市\"].head()"
      ],
      "execution_count": 0,
      "outputs": [
        {
          "output_type": "execute_result",
          "data": {
            "text/html": [
              "<div>\n",
              "<style scoped>\n",
              "    .dataframe tbody tr th:only-of-type {\n",
              "        vertical-align: middle;\n",
              "    }\n",
              "\n",
              "    .dataframe tbody tr th {\n",
              "        vertical-align: top;\n",
              "    }\n",
              "\n",
              "    .dataframe thead th {\n",
              "        text-align: right;\n",
              "    }\n",
              "</style>\n",
              "<table border=\"1\" class=\"dataframe\">\n",
              "  <thead>\n",
              "    <tr style=\"text-align: right;\">\n",
              "      <th></th>\n",
              "      <th>district</th>\n",
              "      <th>village</th>\n",
              "      <th>office</th>\n",
              "      <th>1 蘇貞昌 民主進步黨</th>\n",
              "      <th>2 侯友宜 中國國民黨</th>\n",
              "      <th>A</th>\n",
              "      <th>B</th>\n",
              "      <th>C</th>\n",
              "      <th>D</th>\n",
              "      <th>E</th>\n",
              "      <th>F</th>\n",
              "      <th>G</th>\n",
              "      <th>H</th>\n",
              "    </tr>\n",
              "  </thead>\n",
              "  <tbody>\n",
              "    <tr>\n",
              "      <th>0</th>\n",
              "      <td>石門區</td>\n",
              "      <td>德茂里</td>\n",
              "      <td>1</td>\n",
              "      <td>399</td>\n",
              "      <td>451</td>\n",
              "      <td>850</td>\n",
              "      <td>14</td>\n",
              "      <td>864</td>\n",
              "      <td>0</td>\n",
              "      <td>864</td>\n",
              "      <td>228</td>\n",
              "      <td>1092</td>\n",
              "      <td>79.120003</td>\n",
              "    </tr>\n",
              "    <tr>\n",
              "      <th>1</th>\n",
              "      <td>石門區</td>\n",
              "      <td>富基里</td>\n",
              "      <td>2</td>\n",
              "      <td>354</td>\n",
              "      <td>474</td>\n",
              "      <td>828</td>\n",
              "      <td>31</td>\n",
              "      <td>859</td>\n",
              "      <td>0</td>\n",
              "      <td>859</td>\n",
              "      <td>483</td>\n",
              "      <td>1342</td>\n",
              "      <td>64.010002</td>\n",
              "    </tr>\n",
              "    <tr>\n",
              "      <th>2</th>\n",
              "      <td>石門區</td>\n",
              "      <td>老梅里</td>\n",
              "      <td>3</td>\n",
              "      <td>255</td>\n",
              "      <td>339</td>\n",
              "      <td>594</td>\n",
              "      <td>17</td>\n",
              "      <td>611</td>\n",
              "      <td>0</td>\n",
              "      <td>611</td>\n",
              "      <td>294</td>\n",
              "      <td>905</td>\n",
              "      <td>67.510002</td>\n",
              "    </tr>\n",
              "    <tr>\n",
              "      <th>3</th>\n",
              "      <td>石門區</td>\n",
              "      <td>老梅里</td>\n",
              "      <td>4</td>\n",
              "      <td>386</td>\n",
              "      <td>398</td>\n",
              "      <td>784</td>\n",
              "      <td>27</td>\n",
              "      <td>811</td>\n",
              "      <td>0</td>\n",
              "      <td>811</td>\n",
              "      <td>393</td>\n",
              "      <td>1204</td>\n",
              "      <td>67.360001</td>\n",
              "    </tr>\n",
              "    <tr>\n",
              "      <th>4</th>\n",
              "      <td>石門區</td>\n",
              "      <td>山溪里</td>\n",
              "      <td>5</td>\n",
              "      <td>241</td>\n",
              "      <td>369</td>\n",
              "      <td>610</td>\n",
              "      <td>21</td>\n",
              "      <td>631</td>\n",
              "      <td>0</td>\n",
              "      <td>631</td>\n",
              "      <td>229</td>\n",
              "      <td>860</td>\n",
              "      <td>73.370003</td>\n",
              "    </tr>\n",
              "  </tbody>\n",
              "</table>\n",
              "</div>"
            ],
            "text/plain": [
              "  district village  office  1 蘇貞昌 民主進步黨  2 侯友宜 中國國民黨    A   B    C  D    E  \\\n",
              "0      石門區     德茂里       1          399          451  850  14  864  0  864   \n",
              "1      石門區     富基里       2          354          474  828  31  859  0  859   \n",
              "2      石門區     老梅里       3          255          339  594  17  611  0  611   \n",
              "3      石門區     老梅里       4          386          398  784  27  811  0  811   \n",
              "4      石門區     山溪里       5          241          369  610  21  631  0  631   \n",
              "\n",
              "     F     G          H  \n",
              "0  228  1092  79.120003  \n",
              "1  483  1342  64.010002  \n",
              "2  294   905  67.510002  \n",
              "3  393  1204  67.360001  \n",
              "4  229   860  73.370003  "
            ]
          },
          "metadata": {
            "tags": []
          },
          "execution_count": 74
        }
      ]
    },
    {
      "metadata": {
        "id": "KYKtzgx4vMIA",
        "colab_type": "code",
        "outputId": "7d24c01c-99d1-4950-95a5-f66dc081091e",
        "colab": {
          "base_uri": "https://localhost:8080/",
          "height": 34
        }
      },
      "cell_type": "code",
      "source": [
        "import string\n",
        "\n",
        "tp = df_dict[\"台北市\"]\n",
        "back_cols = list(string.ascii_uppercase[:8])\n",
        "tp = tp.drop(labels = back_cols, axis=1)\n",
        "tp_long = pd.melt(tp, id_vars=[\"district\", \"village\", \"office\"], var_name=\"candidate_info\", value_name=\"votes\")\n",
        "tp_long.shape"
      ],
      "execution_count": 0,
      "outputs": [
        {
          "output_type": "execute_result",
          "data": {
            "text/plain": [
              "(7815, 5)"
            ]
          },
          "metadata": {
            "tags": []
          },
          "execution_count": 75
        }
      ]
    },
    {
      "metadata": {
        "id": "0aA8HXJpxGLh",
        "colab_type": "code",
        "outputId": "0ea3c126-1e3d-451e-c532-6d461d4e4d55",
        "colab": {
          "base_uri": "https://localhost:8080/",
          "height": 34
        }
      },
      "cell_type": "code",
      "source": [
        "ntp = df_dict[\"新北市\"]\n",
        "ntp = ntp.drop(labels = back_cols, axis=1)\n",
        "ntp_long = pd.melt(ntp, id_vars=[\"district\", \"village\", \"office\"], var_name=\"candidate_info\", value_name=\"votes\")\n",
        "ntp_long.shape"
      ],
      "execution_count": 0,
      "outputs": [
        {
          "output_type": "execute_result",
          "data": {
            "text/plain": [
              "(4892, 5)"
            ]
          },
          "metadata": {
            "tags": []
          },
          "execution_count": 76
        }
      ]
    },
    {
      "metadata": {
        "id": "KfMNdBkExnad",
        "colab_type": "code",
        "outputId": "927977a3-9081-4111-bce0-c101703ab6c2",
        "colab": {
          "base_uri": "https://localhost:8080/",
          "height": 1882
        }
      },
      "cell_type": "code",
      "source": [
        "mayors = pd.DataFrame()\n",
        "mayors = mayors.append(tp_long)\n",
        "mayors"
      ],
      "execution_count": 0,
      "outputs": [
        {
          "output_type": "execute_result",
          "data": {
            "text/html": [
              "<div>\n",
              "<style scoped>\n",
              "    .dataframe tbody tr th:only-of-type {\n",
              "        vertical-align: middle;\n",
              "    }\n",
              "\n",
              "    .dataframe tbody tr th {\n",
              "        vertical-align: top;\n",
              "    }\n",
              "\n",
              "    .dataframe thead th {\n",
              "        text-align: right;\n",
              "    }\n",
              "</style>\n",
              "<table border=\"1\" class=\"dataframe\">\n",
              "  <thead>\n",
              "    <tr style=\"text-align: right;\">\n",
              "      <th></th>\n",
              "      <th>district</th>\n",
              "      <th>village</th>\n",
              "      <th>office</th>\n",
              "      <th>candidate_info</th>\n",
              "      <th>votes</th>\n",
              "    </tr>\n",
              "  </thead>\n",
              "  <tbody>\n",
              "    <tr>\n",
              "      <th>0</th>\n",
              "      <td>北投區</td>\n",
              "      <td>建民里</td>\n",
              "      <td>1</td>\n",
              "      <td>1 吳蕚洋 無黨籍</td>\n",
              "      <td>4</td>\n",
              "    </tr>\n",
              "    <tr>\n",
              "      <th>1</th>\n",
              "      <td>北投區</td>\n",
              "      <td>建民里</td>\n",
              "      <td>2</td>\n",
              "      <td>1 吳蕚洋 無黨籍</td>\n",
              "      <td>2</td>\n",
              "    </tr>\n",
              "    <tr>\n",
              "      <th>2</th>\n",
              "      <td>北投區</td>\n",
              "      <td>建民里</td>\n",
              "      <td>3</td>\n",
              "      <td>1 吳蕚洋 無黨籍</td>\n",
              "      <td>2</td>\n",
              "    </tr>\n",
              "    <tr>\n",
              "      <th>3</th>\n",
              "      <td>北投區</td>\n",
              "      <td>文林里</td>\n",
              "      <td>4</td>\n",
              "      <td>1 吳蕚洋 無黨籍</td>\n",
              "      <td>1</td>\n",
              "    </tr>\n",
              "    <tr>\n",
              "      <th>4</th>\n",
              "      <td>北投區</td>\n",
              "      <td>文林里</td>\n",
              "      <td>5</td>\n",
              "      <td>1 吳蕚洋 無黨籍</td>\n",
              "      <td>5</td>\n",
              "    </tr>\n",
              "    <tr>\n",
              "      <th>5</th>\n",
              "      <td>北投區</td>\n",
              "      <td>文林里</td>\n",
              "      <td>6</td>\n",
              "      <td>1 吳蕚洋 無黨籍</td>\n",
              "      <td>3</td>\n",
              "    </tr>\n",
              "    <tr>\n",
              "      <th>6</th>\n",
              "      <td>北投區</td>\n",
              "      <td>石牌里</td>\n",
              "      <td>7</td>\n",
              "      <td>1 吳蕚洋 無黨籍</td>\n",
              "      <td>0</td>\n",
              "    </tr>\n",
              "    <tr>\n",
              "      <th>7</th>\n",
              "      <td>北投區</td>\n",
              "      <td>石牌里</td>\n",
              "      <td>8</td>\n",
              "      <td>1 吳蕚洋 無黨籍</td>\n",
              "      <td>4</td>\n",
              "    </tr>\n",
              "    <tr>\n",
              "      <th>8</th>\n",
              "      <td>北投區</td>\n",
              "      <td>石牌里</td>\n",
              "      <td>9</td>\n",
              "      <td>1 吳蕚洋 無黨籍</td>\n",
              "      <td>5</td>\n",
              "    </tr>\n",
              "    <tr>\n",
              "      <th>9</th>\n",
              "      <td>北投區</td>\n",
              "      <td>福興里</td>\n",
              "      <td>10</td>\n",
              "      <td>1 吳蕚洋 無黨籍</td>\n",
              "      <td>3</td>\n",
              "    </tr>\n",
              "    <tr>\n",
              "      <th>10</th>\n",
              "      <td>北投區</td>\n",
              "      <td>福興里</td>\n",
              "      <td>11</td>\n",
              "      <td>1 吳蕚洋 無黨籍</td>\n",
              "      <td>5</td>\n",
              "    </tr>\n",
              "    <tr>\n",
              "      <th>11</th>\n",
              "      <td>北投區</td>\n",
              "      <td>福興里</td>\n",
              "      <td>12</td>\n",
              "      <td>1 吳蕚洋 無黨籍</td>\n",
              "      <td>2</td>\n",
              "    </tr>\n",
              "    <tr>\n",
              "      <th>12</th>\n",
              "      <td>北投區</td>\n",
              "      <td>福興里</td>\n",
              "      <td>13</td>\n",
              "      <td>1 吳蕚洋 無黨籍</td>\n",
              "      <td>0</td>\n",
              "    </tr>\n",
              "    <tr>\n",
              "      <th>13</th>\n",
              "      <td>北投區</td>\n",
              "      <td>榮光里</td>\n",
              "      <td>14</td>\n",
              "      <td>1 吳蕚洋 無黨籍</td>\n",
              "      <td>4</td>\n",
              "    </tr>\n",
              "    <tr>\n",
              "      <th>14</th>\n",
              "      <td>北投區</td>\n",
              "      <td>榮光里</td>\n",
              "      <td>15</td>\n",
              "      <td>1 吳蕚洋 無黨籍</td>\n",
              "      <td>2</td>\n",
              "    </tr>\n",
              "    <tr>\n",
              "      <th>15</th>\n",
              "      <td>北投區</td>\n",
              "      <td>榮光里</td>\n",
              "      <td>16</td>\n",
              "      <td>1 吳蕚洋 無黨籍</td>\n",
              "      <td>4</td>\n",
              "    </tr>\n",
              "    <tr>\n",
              "      <th>16</th>\n",
              "      <td>北投區</td>\n",
              "      <td>榮光里</td>\n",
              "      <td>17</td>\n",
              "      <td>1 吳蕚洋 無黨籍</td>\n",
              "      <td>4</td>\n",
              "    </tr>\n",
              "    <tr>\n",
              "      <th>17</th>\n",
              "      <td>北投區</td>\n",
              "      <td>榮華里</td>\n",
              "      <td>18</td>\n",
              "      <td>1 吳蕚洋 無黨籍</td>\n",
              "      <td>3</td>\n",
              "    </tr>\n",
              "    <tr>\n",
              "      <th>18</th>\n",
              "      <td>北投區</td>\n",
              "      <td>榮華里</td>\n",
              "      <td>19</td>\n",
              "      <td>1 吳蕚洋 無黨籍</td>\n",
              "      <td>2</td>\n",
              "    </tr>\n",
              "    <tr>\n",
              "      <th>19</th>\n",
              "      <td>北投區</td>\n",
              "      <td>榮華里</td>\n",
              "      <td>20</td>\n",
              "      <td>1 吳蕚洋 無黨籍</td>\n",
              "      <td>4</td>\n",
              "    </tr>\n",
              "    <tr>\n",
              "      <th>20</th>\n",
              "      <td>北投區</td>\n",
              "      <td>榮華里</td>\n",
              "      <td>21</td>\n",
              "      <td>1 吳蕚洋 無黨籍</td>\n",
              "      <td>4</td>\n",
              "    </tr>\n",
              "    <tr>\n",
              "      <th>21</th>\n",
              "      <td>北投區</td>\n",
              "      <td>裕民里</td>\n",
              "      <td>22</td>\n",
              "      <td>1 吳蕚洋 無黨籍</td>\n",
              "      <td>4</td>\n",
              "    </tr>\n",
              "    <tr>\n",
              "      <th>22</th>\n",
              "      <td>北投區</td>\n",
              "      <td>裕民里</td>\n",
              "      <td>23</td>\n",
              "      <td>1 吳蕚洋 無黨籍</td>\n",
              "      <td>1</td>\n",
              "    </tr>\n",
              "    <tr>\n",
              "      <th>23</th>\n",
              "      <td>北投區</td>\n",
              "      <td>裕民里</td>\n",
              "      <td>24</td>\n",
              "      <td>1 吳蕚洋 無黨籍</td>\n",
              "      <td>3</td>\n",
              "    </tr>\n",
              "    <tr>\n",
              "      <th>24</th>\n",
              "      <td>北投區</td>\n",
              "      <td>裕民里</td>\n",
              "      <td>25</td>\n",
              "      <td>1 吳蕚洋 無黨籍</td>\n",
              "      <td>2</td>\n",
              "    </tr>\n",
              "    <tr>\n",
              "      <th>25</th>\n",
              "      <td>北投區</td>\n",
              "      <td>振華里</td>\n",
              "      <td>26</td>\n",
              "      <td>1 吳蕚洋 無黨籍</td>\n",
              "      <td>4</td>\n",
              "    </tr>\n",
              "    <tr>\n",
              "      <th>26</th>\n",
              "      <td>北投區</td>\n",
              "      <td>振華里</td>\n",
              "      <td>27</td>\n",
              "      <td>1 吳蕚洋 無黨籍</td>\n",
              "      <td>5</td>\n",
              "    </tr>\n",
              "    <tr>\n",
              "      <th>27</th>\n",
              "      <td>北投區</td>\n",
              "      <td>振華里</td>\n",
              "      <td>28</td>\n",
              "      <td>1 吳蕚洋 無黨籍</td>\n",
              "      <td>0</td>\n",
              "    </tr>\n",
              "    <tr>\n",
              "      <th>28</th>\n",
              "      <td>北投區</td>\n",
              "      <td>振華里</td>\n",
              "      <td>29</td>\n",
              "      <td>1 吳蕚洋 無黨籍</td>\n",
              "      <td>2</td>\n",
              "    </tr>\n",
              "    <tr>\n",
              "      <th>29</th>\n",
              "      <td>北投區</td>\n",
              "      <td>永和里</td>\n",
              "      <td>30</td>\n",
              "      <td>1 吳蕚洋 無黨籍</td>\n",
              "      <td>8</td>\n",
              "    </tr>\n",
              "    <tr>\n",
              "      <th>...</th>\n",
              "      <td>...</td>\n",
              "      <td>...</td>\n",
              "      <td>...</td>\n",
              "      <td>...</td>\n",
              "      <td>...</td>\n",
              "    </tr>\n",
              "    <tr>\n",
              "      <th>7785</th>\n",
              "      <td>文山區</td>\n",
              "      <td>樟腳里</td>\n",
              "      <td>1534</td>\n",
              "      <td>5 李錫錕 無黨籍</td>\n",
              "      <td>9</td>\n",
              "    </tr>\n",
              "    <tr>\n",
              "      <th>7786</th>\n",
              "      <td>文山區</td>\n",
              "      <td>樟樹里</td>\n",
              "      <td>1535</td>\n",
              "      <td>5 李錫錕 無黨籍</td>\n",
              "      <td>2</td>\n",
              "    </tr>\n",
              "    <tr>\n",
              "      <th>7787</th>\n",
              "      <td>文山區</td>\n",
              "      <td>樟樹里</td>\n",
              "      <td>1536</td>\n",
              "      <td>5 李錫錕 無黨籍</td>\n",
              "      <td>2</td>\n",
              "    </tr>\n",
              "    <tr>\n",
              "      <th>7788</th>\n",
              "      <td>文山區</td>\n",
              "      <td>樟樹里</td>\n",
              "      <td>1537</td>\n",
              "      <td>5 李錫錕 無黨籍</td>\n",
              "      <td>2</td>\n",
              "    </tr>\n",
              "    <tr>\n",
              "      <th>7789</th>\n",
              "      <td>文山區</td>\n",
              "      <td>萬芳里</td>\n",
              "      <td>1538</td>\n",
              "      <td>5 李錫錕 無黨籍</td>\n",
              "      <td>6</td>\n",
              "    </tr>\n",
              "    <tr>\n",
              "      <th>7790</th>\n",
              "      <td>文山區</td>\n",
              "      <td>萬芳里</td>\n",
              "      <td>1539</td>\n",
              "      <td>5 李錫錕 無黨籍</td>\n",
              "      <td>4</td>\n",
              "    </tr>\n",
              "    <tr>\n",
              "      <th>7791</th>\n",
              "      <td>文山區</td>\n",
              "      <td>萬芳里</td>\n",
              "      <td>1540</td>\n",
              "      <td>5 李錫錕 無黨籍</td>\n",
              "      <td>0</td>\n",
              "    </tr>\n",
              "    <tr>\n",
              "      <th>7792</th>\n",
              "      <td>文山區</td>\n",
              "      <td>萬芳里</td>\n",
              "      <td>1541</td>\n",
              "      <td>5 李錫錕 無黨籍</td>\n",
              "      <td>4</td>\n",
              "    </tr>\n",
              "    <tr>\n",
              "      <th>7793</th>\n",
              "      <td>文山區</td>\n",
              "      <td>萬芳里</td>\n",
              "      <td>1542</td>\n",
              "      <td>5 李錫錕 無黨籍</td>\n",
              "      <td>5</td>\n",
              "    </tr>\n",
              "    <tr>\n",
              "      <th>7794</th>\n",
              "      <td>文山區</td>\n",
              "      <td>萬美里</td>\n",
              "      <td>1543</td>\n",
              "      <td>5 李錫錕 無黨籍</td>\n",
              "      <td>8</td>\n",
              "    </tr>\n",
              "    <tr>\n",
              "      <th>7795</th>\n",
              "      <td>文山區</td>\n",
              "      <td>萬美里</td>\n",
              "      <td>1544</td>\n",
              "      <td>5 李錫錕 無黨籍</td>\n",
              "      <td>0</td>\n",
              "    </tr>\n",
              "    <tr>\n",
              "      <th>7796</th>\n",
              "      <td>文山區</td>\n",
              "      <td>萬美里</td>\n",
              "      <td>1545</td>\n",
              "      <td>5 李錫錕 無黨籍</td>\n",
              "      <td>3</td>\n",
              "    </tr>\n",
              "    <tr>\n",
              "      <th>7797</th>\n",
              "      <td>文山區</td>\n",
              "      <td>萬美里</td>\n",
              "      <td>1546</td>\n",
              "      <td>5 李錫錕 無黨籍</td>\n",
              "      <td>7</td>\n",
              "    </tr>\n",
              "    <tr>\n",
              "      <th>7798</th>\n",
              "      <td>文山區</td>\n",
              "      <td>博嘉里</td>\n",
              "      <td>1547</td>\n",
              "      <td>5 李錫錕 無黨籍</td>\n",
              "      <td>3</td>\n",
              "    </tr>\n",
              "    <tr>\n",
              "      <th>7799</th>\n",
              "      <td>文山區</td>\n",
              "      <td>博嘉里</td>\n",
              "      <td>1548</td>\n",
              "      <td>5 李錫錕 無黨籍</td>\n",
              "      <td>4</td>\n",
              "    </tr>\n",
              "    <tr>\n",
              "      <th>7800</th>\n",
              "      <td>文山區</td>\n",
              "      <td>博嘉里</td>\n",
              "      <td>1549</td>\n",
              "      <td>5 李錫錕 無黨籍</td>\n",
              "      <td>5</td>\n",
              "    </tr>\n",
              "    <tr>\n",
              "      <th>7801</th>\n",
              "      <td>文山區</td>\n",
              "      <td>博嘉里</td>\n",
              "      <td>1550</td>\n",
              "      <td>5 李錫錕 無黨籍</td>\n",
              "      <td>1</td>\n",
              "    </tr>\n",
              "    <tr>\n",
              "      <th>7802</th>\n",
              "      <td>文山區</td>\n",
              "      <td>萬興里</td>\n",
              "      <td>1551</td>\n",
              "      <td>5 李錫錕 無黨籍</td>\n",
              "      <td>4</td>\n",
              "    </tr>\n",
              "    <tr>\n",
              "      <th>7803</th>\n",
              "      <td>文山區</td>\n",
              "      <td>萬興里</td>\n",
              "      <td>1552</td>\n",
              "      <td>5 李錫錕 無黨籍</td>\n",
              "      <td>4</td>\n",
              "    </tr>\n",
              "    <tr>\n",
              "      <th>7804</th>\n",
              "      <td>文山區</td>\n",
              "      <td>萬興里</td>\n",
              "      <td>1553</td>\n",
              "      <td>5 李錫錕 無黨籍</td>\n",
              "      <td>4</td>\n",
              "    </tr>\n",
              "    <tr>\n",
              "      <th>7805</th>\n",
              "      <td>文山區</td>\n",
              "      <td>萬興里</td>\n",
              "      <td>1554</td>\n",
              "      <td>5 李錫錕 無黨籍</td>\n",
              "      <td>4</td>\n",
              "    </tr>\n",
              "    <tr>\n",
              "      <th>7806</th>\n",
              "      <td>文山區</td>\n",
              "      <td>萬興里</td>\n",
              "      <td>1555</td>\n",
              "      <td>5 李錫錕 無黨籍</td>\n",
              "      <td>8</td>\n",
              "    </tr>\n",
              "    <tr>\n",
              "      <th>7807</th>\n",
              "      <td>文山區</td>\n",
              "      <td>政大里</td>\n",
              "      <td>1556</td>\n",
              "      <td>5 李錫錕 無黨籍</td>\n",
              "      <td>9</td>\n",
              "    </tr>\n",
              "    <tr>\n",
              "      <th>7808</th>\n",
              "      <td>文山區</td>\n",
              "      <td>政大里</td>\n",
              "      <td>1557</td>\n",
              "      <td>5 李錫錕 無黨籍</td>\n",
              "      <td>2</td>\n",
              "    </tr>\n",
              "    <tr>\n",
              "      <th>7809</th>\n",
              "      <td>文山區</td>\n",
              "      <td>政大里</td>\n",
              "      <td>1558</td>\n",
              "      <td>5 李錫錕 無黨籍</td>\n",
              "      <td>3</td>\n",
              "    </tr>\n",
              "    <tr>\n",
              "      <th>7810</th>\n",
              "      <td>文山區</td>\n",
              "      <td>政大里</td>\n",
              "      <td>1559</td>\n",
              "      <td>5 李錫錕 無黨籍</td>\n",
              "      <td>2</td>\n",
              "    </tr>\n",
              "    <tr>\n",
              "      <th>7811</th>\n",
              "      <td>文山區</td>\n",
              "      <td>指南里</td>\n",
              "      <td>1560</td>\n",
              "      <td>5 李錫錕 無黨籍</td>\n",
              "      <td>2</td>\n",
              "    </tr>\n",
              "    <tr>\n",
              "      <th>7812</th>\n",
              "      <td>文山區</td>\n",
              "      <td>指南里</td>\n",
              "      <td>1561</td>\n",
              "      <td>5 李錫錕 無黨籍</td>\n",
              "      <td>3</td>\n",
              "    </tr>\n",
              "    <tr>\n",
              "      <th>7813</th>\n",
              "      <td>文山區</td>\n",
              "      <td>指南里</td>\n",
              "      <td>1562</td>\n",
              "      <td>5 李錫錕 無黨籍</td>\n",
              "      <td>7</td>\n",
              "    </tr>\n",
              "    <tr>\n",
              "      <th>7814</th>\n",
              "      <td>文山區</td>\n",
              "      <td>老泉里</td>\n",
              "      <td>1563</td>\n",
              "      <td>5 李錫錕 無黨籍</td>\n",
              "      <td>2</td>\n",
              "    </tr>\n",
              "  </tbody>\n",
              "</table>\n",
              "<p>7815 rows × 5 columns</p>\n",
              "</div>"
            ],
            "text/plain": [
              "     district village  office candidate_info  votes\n",
              "0         北投區     建民里       1      1 吳蕚洋 無黨籍      4\n",
              "1         北投區     建民里       2      1 吳蕚洋 無黨籍      2\n",
              "2         北投區     建民里       3      1 吳蕚洋 無黨籍      2\n",
              "3         北投區     文林里       4      1 吳蕚洋 無黨籍      1\n",
              "4         北投區     文林里       5      1 吳蕚洋 無黨籍      5\n",
              "5         北投區     文林里       6      1 吳蕚洋 無黨籍      3\n",
              "6         北投區     石牌里       7      1 吳蕚洋 無黨籍      0\n",
              "7         北投區     石牌里       8      1 吳蕚洋 無黨籍      4\n",
              "8         北投區     石牌里       9      1 吳蕚洋 無黨籍      5\n",
              "9         北投區     福興里      10      1 吳蕚洋 無黨籍      3\n",
              "10        北投區     福興里      11      1 吳蕚洋 無黨籍      5\n",
              "11        北投區     福興里      12      1 吳蕚洋 無黨籍      2\n",
              "12        北投區     福興里      13      1 吳蕚洋 無黨籍      0\n",
              "13        北投區     榮光里      14      1 吳蕚洋 無黨籍      4\n",
              "14        北投區     榮光里      15      1 吳蕚洋 無黨籍      2\n",
              "15        北投區     榮光里      16      1 吳蕚洋 無黨籍      4\n",
              "16        北投區     榮光里      17      1 吳蕚洋 無黨籍      4\n",
              "17        北投區     榮華里      18      1 吳蕚洋 無黨籍      3\n",
              "18        北投區     榮華里      19      1 吳蕚洋 無黨籍      2\n",
              "19        北投區     榮華里      20      1 吳蕚洋 無黨籍      4\n",
              "20        北投區     榮華里      21      1 吳蕚洋 無黨籍      4\n",
              "21        北投區     裕民里      22      1 吳蕚洋 無黨籍      4\n",
              "22        北投區     裕民里      23      1 吳蕚洋 無黨籍      1\n",
              "23        北投區     裕民里      24      1 吳蕚洋 無黨籍      3\n",
              "24        北投區     裕民里      25      1 吳蕚洋 無黨籍      2\n",
              "25        北投區     振華里      26      1 吳蕚洋 無黨籍      4\n",
              "26        北投區     振華里      27      1 吳蕚洋 無黨籍      5\n",
              "27        北投區     振華里      28      1 吳蕚洋 無黨籍      0\n",
              "28        北投區     振華里      29      1 吳蕚洋 無黨籍      2\n",
              "29        北投區     永和里      30      1 吳蕚洋 無黨籍      8\n",
              "...       ...     ...     ...            ...    ...\n",
              "7785      文山區     樟腳里    1534      5 李錫錕 無黨籍      9\n",
              "7786      文山區     樟樹里    1535      5 李錫錕 無黨籍      2\n",
              "7787      文山區     樟樹里    1536      5 李錫錕 無黨籍      2\n",
              "7788      文山區     樟樹里    1537      5 李錫錕 無黨籍      2\n",
              "7789      文山區     萬芳里    1538      5 李錫錕 無黨籍      6\n",
              "7790      文山區     萬芳里    1539      5 李錫錕 無黨籍      4\n",
              "7791      文山區     萬芳里    1540      5 李錫錕 無黨籍      0\n",
              "7792      文山區     萬芳里    1541      5 李錫錕 無黨籍      4\n",
              "7793      文山區     萬芳里    1542      5 李錫錕 無黨籍      5\n",
              "7794      文山區     萬美里    1543      5 李錫錕 無黨籍      8\n",
              "7795      文山區     萬美里    1544      5 李錫錕 無黨籍      0\n",
              "7796      文山區     萬美里    1545      5 李錫錕 無黨籍      3\n",
              "7797      文山區     萬美里    1546      5 李錫錕 無黨籍      7\n",
              "7798      文山區     博嘉里    1547      5 李錫錕 無黨籍      3\n",
              "7799      文山區     博嘉里    1548      5 李錫錕 無黨籍      4\n",
              "7800      文山區     博嘉里    1549      5 李錫錕 無黨籍      5\n",
              "7801      文山區     博嘉里    1550      5 李錫錕 無黨籍      1\n",
              "7802      文山區     萬興里    1551      5 李錫錕 無黨籍      4\n",
              "7803      文山區     萬興里    1552      5 李錫錕 無黨籍      4\n",
              "7804      文山區     萬興里    1553      5 李錫錕 無黨籍      4\n",
              "7805      文山區     萬興里    1554      5 李錫錕 無黨籍      4\n",
              "7806      文山區     萬興里    1555      5 李錫錕 無黨籍      8\n",
              "7807      文山區     政大里    1556      5 李錫錕 無黨籍      9\n",
              "7808      文山區     政大里    1557      5 李錫錕 無黨籍      2\n",
              "7809      文山區     政大里    1558      5 李錫錕 無黨籍      3\n",
              "7810      文山區     政大里    1559      5 李錫錕 無黨籍      2\n",
              "7811      文山區     指南里    1560      5 李錫錕 無黨籍      2\n",
              "7812      文山區     指南里    1561      5 李錫錕 無黨籍      3\n",
              "7813      文山區     指南里    1562      5 李錫錕 無黨籍      7\n",
              "7814      文山區     老泉里    1563      5 李錫錕 無黨籍      2\n",
              "\n",
              "[7815 rows x 5 columns]"
            ]
          },
          "metadata": {
            "tags": []
          },
          "execution_count": 77
        }
      ]
    },
    {
      "metadata": {
        "id": "32PeqR-8yC-D",
        "colab_type": "code",
        "outputId": "a1d7b124-d445-4cd4-db26-7013b99dd05a",
        "colab": {
          "base_uri": "https://localhost:8080/",
          "height": 195
        }
      },
      "cell_type": "code",
      "source": [
        "mayors = mayors.append(ntp_long)\n",
        "mayors.tail()"
      ],
      "execution_count": 0,
      "outputs": [
        {
          "output_type": "execute_result",
          "data": {
            "text/html": [
              "<div>\n",
              "<style scoped>\n",
              "    .dataframe tbody tr th:only-of-type {\n",
              "        vertical-align: middle;\n",
              "    }\n",
              "\n",
              "    .dataframe tbody tr th {\n",
              "        vertical-align: top;\n",
              "    }\n",
              "\n",
              "    .dataframe thead th {\n",
              "        text-align: right;\n",
              "    }\n",
              "</style>\n",
              "<table border=\"1\" class=\"dataframe\">\n",
              "  <thead>\n",
              "    <tr style=\"text-align: right;\">\n",
              "      <th></th>\n",
              "      <th>district</th>\n",
              "      <th>village</th>\n",
              "      <th>office</th>\n",
              "      <th>candidate_info</th>\n",
              "      <th>votes</th>\n",
              "    </tr>\n",
              "  </thead>\n",
              "  <tbody>\n",
              "    <tr>\n",
              "      <th>4887</th>\n",
              "      <td>汐止區</td>\n",
              "      <td>宜興里</td>\n",
              "      <td>2442</td>\n",
              "      <td>2 侯友宜 中國國民黨</td>\n",
              "      <td>570</td>\n",
              "    </tr>\n",
              "    <tr>\n",
              "      <th>4888</th>\n",
              "      <td>汐止區</td>\n",
              "      <td>宜興里</td>\n",
              "      <td>2443</td>\n",
              "      <td>2 侯友宜 中國國民黨</td>\n",
              "      <td>562</td>\n",
              "    </tr>\n",
              "    <tr>\n",
              "      <th>4889</th>\n",
              "      <td>汐止區</td>\n",
              "      <td>東勢里</td>\n",
              "      <td>2444</td>\n",
              "      <td>2 侯友宜 中國國民黨</td>\n",
              "      <td>397</td>\n",
              "    </tr>\n",
              "    <tr>\n",
              "      <th>4890</th>\n",
              "      <td>汐止區</td>\n",
              "      <td>東勢里</td>\n",
              "      <td>2445</td>\n",
              "      <td>2 侯友宜 中國國民黨</td>\n",
              "      <td>431</td>\n",
              "    </tr>\n",
              "    <tr>\n",
              "      <th>4891</th>\n",
              "      <td>汐止區</td>\n",
              "      <td>東勢里</td>\n",
              "      <td>2446</td>\n",
              "      <td>2 侯友宜 中國國民黨</td>\n",
              "      <td>642</td>\n",
              "    </tr>\n",
              "  </tbody>\n",
              "</table>\n",
              "</div>"
            ],
            "text/plain": [
              "     district village  office candidate_info  votes\n",
              "4887      汐止區     宜興里    2442    2 侯友宜 中國國民黨    570\n",
              "4888      汐止區     宜興里    2443    2 侯友宜 中國國民黨    562\n",
              "4889      汐止區     東勢里    2444    2 侯友宜 中國國民黨    397\n",
              "4890      汐止區     東勢里    2445    2 侯友宜 中國國民黨    431\n",
              "4891      汐止區     東勢里    2446    2 侯友宜 中國國民黨    642"
            ]
          },
          "metadata": {
            "tags": []
          },
          "execution_count": 78
        }
      ]
    },
    {
      "metadata": {
        "id": "OpDZyX422SQt",
        "colab_type": "code",
        "outputId": "89bdb8ed-b479-44d2-8d1c-3e967728cd4d",
        "colab": {
          "base_uri": "https://localhost:8080/",
          "height": 195
        }
      },
      "cell_type": "code",
      "source": [
        "mayors.head()"
      ],
      "execution_count": 0,
      "outputs": [
        {
          "output_type": "execute_result",
          "data": {
            "text/html": [
              "<div>\n",
              "<style scoped>\n",
              "    .dataframe tbody tr th:only-of-type {\n",
              "        vertical-align: middle;\n",
              "    }\n",
              "\n",
              "    .dataframe tbody tr th {\n",
              "        vertical-align: top;\n",
              "    }\n",
              "\n",
              "    .dataframe thead th {\n",
              "        text-align: right;\n",
              "    }\n",
              "</style>\n",
              "<table border=\"1\" class=\"dataframe\">\n",
              "  <thead>\n",
              "    <tr style=\"text-align: right;\">\n",
              "      <th></th>\n",
              "      <th>district</th>\n",
              "      <th>village</th>\n",
              "      <th>office</th>\n",
              "      <th>candidate_info</th>\n",
              "      <th>votes</th>\n",
              "    </tr>\n",
              "  </thead>\n",
              "  <tbody>\n",
              "    <tr>\n",
              "      <th>0</th>\n",
              "      <td>北投區</td>\n",
              "      <td>建民里</td>\n",
              "      <td>1</td>\n",
              "      <td>1 吳蕚洋 無黨籍</td>\n",
              "      <td>4</td>\n",
              "    </tr>\n",
              "    <tr>\n",
              "      <th>1</th>\n",
              "      <td>北投區</td>\n",
              "      <td>建民里</td>\n",
              "      <td>2</td>\n",
              "      <td>1 吳蕚洋 無黨籍</td>\n",
              "      <td>2</td>\n",
              "    </tr>\n",
              "    <tr>\n",
              "      <th>2</th>\n",
              "      <td>北投區</td>\n",
              "      <td>建民里</td>\n",
              "      <td>3</td>\n",
              "      <td>1 吳蕚洋 無黨籍</td>\n",
              "      <td>2</td>\n",
              "    </tr>\n",
              "    <tr>\n",
              "      <th>3</th>\n",
              "      <td>北投區</td>\n",
              "      <td>文林里</td>\n",
              "      <td>4</td>\n",
              "      <td>1 吳蕚洋 無黨籍</td>\n",
              "      <td>1</td>\n",
              "    </tr>\n",
              "    <tr>\n",
              "      <th>4</th>\n",
              "      <td>北投區</td>\n",
              "      <td>文林里</td>\n",
              "      <td>5</td>\n",
              "      <td>1 吳蕚洋 無黨籍</td>\n",
              "      <td>5</td>\n",
              "    </tr>\n",
              "  </tbody>\n",
              "</table>\n",
              "</div>"
            ],
            "text/plain": [
              "  district village  office candidate_info  votes\n",
              "0      北投區     建民里       1      1 吳蕚洋 無黨籍      4\n",
              "1      北投區     建民里       2      1 吳蕚洋 無黨籍      2\n",
              "2      北投區     建民里       3      1 吳蕚洋 無黨籍      2\n",
              "3      北投區     文林里       4      1 吳蕚洋 無黨籍      1\n",
              "4      北投區     文林里       5      1 吳蕚洋 無黨籍      5"
            ]
          },
          "metadata": {
            "tags": []
          },
          "execution_count": 79
        }
      ]
    },
    {
      "metadata": {
        "id": "DzG71kJQ2m4S",
        "colab_type": "code",
        "outputId": "e216f6b0-8633-41f7-dcbc-975cfcb40fd7",
        "colab": {
          "base_uri": "https://localhost:8080/",
          "height": 34
        }
      },
      "cell_type": "code",
      "source": [
        "import string\n",
        "\n",
        "# 堆疊 22 個 DataFrames 成為一個 df: mayors\n",
        "# 新增一個 column: admin_area 註記縣市\n",
        "mayors = pd.DataFrame()\n",
        "for k in df_dict.keys():\n",
        "  wide_df = df_dict[k]\n",
        "  # drop A:H columns\n",
        "  cols_to_drop = list(string.ascii_uppercase[:8])\n",
        "  wide_df = wide_df.drop(labels = cols_to_drop, axis=1)\n",
        "  # pd.melt()\n",
        "  long_df = pd.melt(wide_df, id_vars=[\"district\", \"village\", \"office\"], var_name=\"candidate_info\", value_name=\"votes\")\n",
        "  # mutate column: admin_area\n",
        "  long_df[\"admin_area\"] = k\n",
        "  # append\n",
        "  mayors = mayors.append(long_df)\n",
        "# reset index!\n",
        "mayors = mayors.reset_index(drop=True)\n",
        "# 將 candidate_info 拆開成為三個獨立的欄位 number / candidate / party\n",
        "candidate_info = mayors[\"candidate_info\"].str.split(expand=True)\n",
        "mayors[\"number\"] = candidate_info[0]\n",
        "mayors[\"candidate\"] = candidate_info[1]\n",
        "mayors[\"party\"] = candidate_info[2]\n",
        "# drop candidate_info\n",
        "mayors = mayors.drop(\"candidate_info\", axis=1)\n",
        "# select columns\n",
        "mayors = mayors[[\"admin_area\", \"district\", \"village\", \"office\", \"party\", \"number\", \"candidate\", \"votes\"]]\n",
        "mayors.shape"
      ],
      "execution_count": 0,
      "outputs": [
        {
          "output_type": "execute_result",
          "data": {
            "text/plain": [
              "(62689, 8)"
            ]
          },
          "metadata": {
            "tags": []
          },
          "execution_count": 87
        }
      ]
    },
    {
      "metadata": {
        "id": "HsFzDzGAEw4W",
        "colab_type": "code",
        "colab": {}
      },
      "cell_type": "code",
      "source": [
        "mayors.to_csv(\"mayors.csv\", index=False)"
      ],
      "execution_count": 0,
      "outputs": []
    },
    {
      "metadata": {
        "id": "HcrfAKW1FVAA",
        "colab_type": "code",
        "outputId": "095f3740-0119-46dd-a5e5-1b63772a7854",
        "colab": {
          "base_uri": "https://localhost:8080/",
          "height": 34
        }
      },
      "cell_type": "code",
      "source": [
        "!ls"
      ],
      "execution_count": 0,
      "outputs": [
        {
          "output_type": "stream",
          "text": [
            "mayors.csv  sample_data  twCounty2010.geo.json\n"
          ],
          "name": "stdout"
        }
      ]
    },
    {
      "metadata": {
        "id": "Pg75XIYbFb0R",
        "colab_type": "code",
        "colab": {}
      },
      "cell_type": "code",
      "source": [
        "from google.colab import files\n",
        "\n",
        "files.download(\"mayors.csv\")"
      ],
      "execution_count": 0,
      "outputs": []
    },
    {
      "metadata": {
        "id": "urPP8A4SKWsv",
        "colab_type": "text"
      },
      "cell_type": "markdown",
      "source": [
        "## Matplotlib\n",
        "\n",
        "- 文件：<https://matplotlib.org/tutorials/index.html>\n",
        "\n",
        "- 安裝\n",
        "\n",
        "```bash\n",
        "pip install matplotlib\n",
        "```\n",
        "\n",
        "- 載入\n",
        "\n",
        "```python\n",
        "import matplotlib.pyplot as plt\n",
        "```\n",
        "\n",
        "- 常用的 Python 視覺化套件\n",
        "  - 低階\n",
        "    - matplotlib（作圖單位為純量與陣列）\n",
        "  - 高階\n",
        "    - pandas（作圖單位為 DataFrame）\n",
        "    - seaborn（作圖單位為 DataFrame）\n",
        " - 互動性（htmlWidget）\n",
        "    - plotly / dash / bokeh\n",
        "    \n",
        "- Demo 資料：Gapminder\n",
        "- 作圖目的：\n",
        "  - 觀察排名、個數：長條圖（bar chart）\n",
        "  - 觀察分佈：直方圖（histogram）、盒鬚圖（boxplot）\n",
        "  - 觀察相關：散佈圖（scatter plot）\n",
        "  - 觀察趨勢：線圖（line plot）"
      ]
    },
    {
      "metadata": {
        "id": "umVmHRDbI5K6",
        "colab_type": "code",
        "outputId": "b0bfcf33-5156-4029-9a68-64dd3edded17",
        "colab": {
          "base_uri": "https://localhost:8080/",
          "height": 336
        }
      },
      "cell_type": "code",
      "source": [
        "from IPython.core.display import display, HTML\n",
        "display(HTML('<iframe width=\"560\" height=\"315\" src=\"https://www.youtube.com/embed/jbkSRLYSojo\" frameborder=\"0\" allow=\"accelerometer; autoplay; encrypted-media; gyroscope; picture-in-picture\" allowfullscreen></iframe>'))"
      ],
      "execution_count": 0,
      "outputs": [
        {
          "output_type": "display_data",
          "data": {
            "text/html": [
              "<iframe width=\"560\" height=\"315\" src=\"https://www.youtube.com/embed/jbkSRLYSojo\" frameborder=\"0\" allow=\"accelerometer; autoplay; encrypted-media; gyroscope; picture-in-picture\" allowfullscreen></iframe>"
            ],
            "text/plain": [
              "<IPython.core.display.HTML object>"
            ]
          },
          "metadata": {
            "tags": []
          }
        }
      ]
    },
    {
      "metadata": {
        "id": "mYxsDaNdogTl",
        "colab_type": "code",
        "colab": {}
      },
      "cell_type": "code",
      "source": [
        "import pandas as pd\n",
        "\n",
        "mayors_url = \"https://s3-ap-northeast-1.amazonaws.com/tw-election-2018/mayors.csv\"\n",
        "gapminder_url = \"https://storage.googleapis.com/learn_pd_like_tidyverse/gapminder.csv\"\n",
        "mayors = pd.read_csv(mayors_url)\n",
        "gapminder = pd.read_csv(gapminder_url)"
      ],
      "execution_count": 0,
      "outputs": []
    },
    {
      "metadata": {
        "id": "hary9yPdphmX",
        "colab_type": "code",
        "outputId": "08913340-fb28-47b9-9666-d8b13b886eef",
        "colab": {
          "base_uri": "https://localhost:8080/",
          "height": 34
        }
      },
      "cell_type": "code",
      "source": [
        "gapminder.shape"
      ],
      "execution_count": 0,
      "outputs": [
        {
          "output_type": "execute_result",
          "data": {
            "text/plain": [
              "(1704, 6)"
            ]
          },
          "metadata": {
            "tags": []
          },
          "execution_count": 4
        }
      ]
    },
    {
      "metadata": {
        "id": "JaCq4oPTppqS",
        "colab_type": "code",
        "outputId": "57a2e180-ddde-4dc4-b9a5-2a115c489d99",
        "colab": {
          "base_uri": "https://localhost:8080/",
          "height": 195
        }
      },
      "cell_type": "code",
      "source": [
        "gapminder.head()"
      ],
      "execution_count": 0,
      "outputs": [
        {
          "output_type": "execute_result",
          "data": {
            "text/html": [
              "<div>\n",
              "<style scoped>\n",
              "    .dataframe tbody tr th:only-of-type {\n",
              "        vertical-align: middle;\n",
              "    }\n",
              "\n",
              "    .dataframe tbody tr th {\n",
              "        vertical-align: top;\n",
              "    }\n",
              "\n",
              "    .dataframe thead th {\n",
              "        text-align: right;\n",
              "    }\n",
              "</style>\n",
              "<table border=\"1\" class=\"dataframe\">\n",
              "  <thead>\n",
              "    <tr style=\"text-align: right;\">\n",
              "      <th></th>\n",
              "      <th>country</th>\n",
              "      <th>continent</th>\n",
              "      <th>year</th>\n",
              "      <th>lifeExp</th>\n",
              "      <th>pop</th>\n",
              "      <th>gdpPercap</th>\n",
              "    </tr>\n",
              "  </thead>\n",
              "  <tbody>\n",
              "    <tr>\n",
              "      <th>0</th>\n",
              "      <td>Afghanistan</td>\n",
              "      <td>Asia</td>\n",
              "      <td>1952</td>\n",
              "      <td>28.801</td>\n",
              "      <td>8425333</td>\n",
              "      <td>779.445314</td>\n",
              "    </tr>\n",
              "    <tr>\n",
              "      <th>1</th>\n",
              "      <td>Afghanistan</td>\n",
              "      <td>Asia</td>\n",
              "      <td>1957</td>\n",
              "      <td>30.332</td>\n",
              "      <td>9240934</td>\n",
              "      <td>820.853030</td>\n",
              "    </tr>\n",
              "    <tr>\n",
              "      <th>2</th>\n",
              "      <td>Afghanistan</td>\n",
              "      <td>Asia</td>\n",
              "      <td>1962</td>\n",
              "      <td>31.997</td>\n",
              "      <td>10267083</td>\n",
              "      <td>853.100710</td>\n",
              "    </tr>\n",
              "    <tr>\n",
              "      <th>3</th>\n",
              "      <td>Afghanistan</td>\n",
              "      <td>Asia</td>\n",
              "      <td>1967</td>\n",
              "      <td>34.020</td>\n",
              "      <td>11537966</td>\n",
              "      <td>836.197138</td>\n",
              "    </tr>\n",
              "    <tr>\n",
              "      <th>4</th>\n",
              "      <td>Afghanistan</td>\n",
              "      <td>Asia</td>\n",
              "      <td>1972</td>\n",
              "      <td>36.088</td>\n",
              "      <td>13079460</td>\n",
              "      <td>739.981106</td>\n",
              "    </tr>\n",
              "  </tbody>\n",
              "</table>\n",
              "</div>"
            ],
            "text/plain": [
              "       country continent  year  lifeExp       pop   gdpPercap\n",
              "0  Afghanistan      Asia  1952   28.801   8425333  779.445314\n",
              "1  Afghanistan      Asia  1957   30.332   9240934  820.853030\n",
              "2  Afghanistan      Asia  1962   31.997  10267083  853.100710\n",
              "3  Afghanistan      Asia  1967   34.020  11537966  836.197138\n",
              "4  Afghanistan      Asia  1972   36.088  13079460  739.981106"
            ]
          },
          "metadata": {
            "tags": []
          },
          "execution_count": 5
        }
      ]
    },
    {
      "metadata": {
        "id": "lRJZtc0Xpuev",
        "colab_type": "code",
        "outputId": "8a1e14cc-8cdd-4fbc-8886-3b5bfbc676d7",
        "colab": {
          "base_uri": "https://localhost:8080/",
          "height": 195
        }
      },
      "cell_type": "code",
      "source": [
        "gapminder.tail()"
      ],
      "execution_count": 0,
      "outputs": [
        {
          "output_type": "execute_result",
          "data": {
            "text/html": [
              "<div>\n",
              "<style scoped>\n",
              "    .dataframe tbody tr th:only-of-type {\n",
              "        vertical-align: middle;\n",
              "    }\n",
              "\n",
              "    .dataframe tbody tr th {\n",
              "        vertical-align: top;\n",
              "    }\n",
              "\n",
              "    .dataframe thead th {\n",
              "        text-align: right;\n",
              "    }\n",
              "</style>\n",
              "<table border=\"1\" class=\"dataframe\">\n",
              "  <thead>\n",
              "    <tr style=\"text-align: right;\">\n",
              "      <th></th>\n",
              "      <th>country</th>\n",
              "      <th>continent</th>\n",
              "      <th>year</th>\n",
              "      <th>lifeExp</th>\n",
              "      <th>pop</th>\n",
              "      <th>gdpPercap</th>\n",
              "    </tr>\n",
              "  </thead>\n",
              "  <tbody>\n",
              "    <tr>\n",
              "      <th>1699</th>\n",
              "      <td>Zimbabwe</td>\n",
              "      <td>Africa</td>\n",
              "      <td>1987</td>\n",
              "      <td>62.351</td>\n",
              "      <td>9216418</td>\n",
              "      <td>706.157306</td>\n",
              "    </tr>\n",
              "    <tr>\n",
              "      <th>1700</th>\n",
              "      <td>Zimbabwe</td>\n",
              "      <td>Africa</td>\n",
              "      <td>1992</td>\n",
              "      <td>60.377</td>\n",
              "      <td>10704340</td>\n",
              "      <td>693.420786</td>\n",
              "    </tr>\n",
              "    <tr>\n",
              "      <th>1701</th>\n",
              "      <td>Zimbabwe</td>\n",
              "      <td>Africa</td>\n",
              "      <td>1997</td>\n",
              "      <td>46.809</td>\n",
              "      <td>11404948</td>\n",
              "      <td>792.449960</td>\n",
              "    </tr>\n",
              "    <tr>\n",
              "      <th>1702</th>\n",
              "      <td>Zimbabwe</td>\n",
              "      <td>Africa</td>\n",
              "      <td>2002</td>\n",
              "      <td>39.989</td>\n",
              "      <td>11926563</td>\n",
              "      <td>672.038623</td>\n",
              "    </tr>\n",
              "    <tr>\n",
              "      <th>1703</th>\n",
              "      <td>Zimbabwe</td>\n",
              "      <td>Africa</td>\n",
              "      <td>2007</td>\n",
              "      <td>43.487</td>\n",
              "      <td>12311143</td>\n",
              "      <td>469.709298</td>\n",
              "    </tr>\n",
              "  </tbody>\n",
              "</table>\n",
              "</div>"
            ],
            "text/plain": [
              "       country continent  year  lifeExp       pop   gdpPercap\n",
              "1699  Zimbabwe    Africa  1987   62.351   9216418  706.157306\n",
              "1700  Zimbabwe    Africa  1992   60.377  10704340  693.420786\n",
              "1701  Zimbabwe    Africa  1997   46.809  11404948  792.449960\n",
              "1702  Zimbabwe    Africa  2002   39.989  11926563  672.038623\n",
              "1703  Zimbabwe    Africa  2007   43.487  12311143  469.709298"
            ]
          },
          "metadata": {
            "tags": []
          },
          "execution_count": 6
        }
      ]
    },
    {
      "metadata": {
        "id": "Wto0X3gorZzc",
        "colab_type": "code",
        "outputId": "df425d8c-114c-4f3d-dd96-5225746764f9",
        "colab": {
          "base_uri": "https://localhost:8080/",
          "height": 300
        }
      },
      "cell_type": "code",
      "source": [
        "gapminder.plot(kind=\"scatter\", x=\"gdpPercap\", y=\"lifeExp\")\n",
        "#gapminder.plot.scatter(x=\"gdpPercap\", y=\"lifeExp\")"
      ],
      "execution_count": 0,
      "outputs": [
        {
          "output_type": "execute_result",
          "data": {
            "text/plain": [
              "<matplotlib.axes._subplots.AxesSubplot at 0x7f09a21a72b0>"
            ]
          },
          "metadata": {
            "tags": []
          },
          "execution_count": 7
        },
        {
          "output_type": "display_data",
          "data": {
            "image/png": "[encoded data removed]",
            "text/plain": [
              "<Figure size 432x288 with 1 Axes>"
            ]
          },
          "metadata": {
            "tags": []
          }
        }
      ]
    },
    {
      "metadata": {
        "id": "p70fa9hLwiit",
        "colab_type": "code",
        "outputId": "ba47f276-4f40-4260-8bc5-2b531283a829",
        "colab": {
          "base_uri": "https://localhost:8080/",
          "height": 238
        }
      },
      "cell_type": "code",
      "source": [
        "!pip install --upgrade seaborn"
      ],
      "execution_count": 0,
      "outputs": [
        {
          "output_type": "stream",
          "text": [
            "Requirement already up-to-date: seaborn in /usr/local/lib/python3.6/dist-packages (0.9.0)\n",
            "Requirement already satisfied, skipping upgrade: numpy>=1.9.3 in /usr/local/lib/python3.6/dist-packages (from seaborn) (1.14.6)\n",
            "Requirement already satisfied, skipping upgrade: pandas>=0.15.2 in /usr/local/lib/python3.6/dist-packages (from seaborn) (0.22.0)\n",
            "Requirement already satisfied, skipping upgrade: matplotlib>=1.4.3 in /usr/local/lib/python3.6/dist-packages (from seaborn) (3.0.2)\n",
            "Requirement already satisfied, skipping upgrade: scipy>=0.14.0 in /usr/local/lib/python3.6/dist-packages (from seaborn) (1.1.0)\n",
            "Requirement already satisfied, skipping upgrade: python-dateutil>=2 in /usr/local/lib/python3.6/dist-packages (from pandas>=0.15.2->seaborn) (2.5.3)\n",
            "Requirement already satisfied, skipping upgrade: pytz>=2011k in /usr/local/lib/python3.6/dist-packages (from pandas>=0.15.2->seaborn) (2018.9)\n",
            "Requirement already satisfied, skipping upgrade: kiwisolver>=1.0.1 in /usr/local/lib/python3.6/dist-packages (from matplotlib>=1.4.3->seaborn) (1.0.1)\n",
            "Requirement already satisfied, skipping upgrade: pyparsing!=2.0.4,!=2.1.2,!=2.1.6,>=2.0.1 in /usr/local/lib/python3.6/dist-packages (from matplotlib>=1.4.3->seaborn) (2.3.1)\n",
            "Requirement already satisfied, skipping upgrade: cycler>=0.10 in /usr/local/lib/python3.6/dist-packages (from matplotlib>=1.4.3->seaborn) (0.10.0)\n",
            "Requirement already satisfied, skipping upgrade: six>=1.5 in /usr/local/lib/python3.6/dist-packages (from python-dateutil>=2->pandas>=0.15.2->seaborn) (1.11.0)\n",
            "Requirement already satisfied, skipping upgrade: setuptools in /usr/local/lib/python3.6/dist-packages (from kiwisolver>=1.0.1->matplotlib>=1.4.3->seaborn) (40.8.0)\n"
          ],
          "name": "stdout"
        }
      ]
    },
    {
      "metadata": {
        "id": "xL4sGSfvvvuN",
        "colab_type": "code",
        "outputId": "da3942d3-e9fe-4565-8230-1cf7eac1f50e",
        "colab": {
          "base_uri": "https://localhost:8080/",
          "height": 300
        }
      },
      "cell_type": "code",
      "source": [
        "import seaborn as sns\n",
        "\n",
        "sns.scatterplot(x=\"gdpPercap\", y=\"lifeExp\", data=gapminder)"
      ],
      "execution_count": 0,
      "outputs": [
        {
          "output_type": "execute_result",
          "data": {
            "text/plain": [
              "<matplotlib.axes._subplots.AxesSubplot at 0x7f09a012cdd8>"
            ]
          },
          "metadata": {
            "tags": []
          },
          "execution_count": 9
        },
        {
          "output_type": "display_data",
          "data": {
            "image/png": "[encoded data removed]",
            "text/plain": [
              "<Figure size 432x288 with 1 Axes>"
            ]
          },
          "metadata": {
            "tags": []
          }
        }
      ]
    },
    {
      "metadata": {
        "id": "6NvqRnBRxEfX",
        "colab_type": "code",
        "outputId": "3ba28782-8baa-44b8-fee5-2b975e3884c3",
        "colab": {
          "base_uri": "https://localhost:8080/",
          "height": 269
        }
      },
      "cell_type": "code",
      "source": [
        "import matplotlib.pyplot as plt\n",
        "\n",
        "x_arr = gapminder[\"gdpPercap\"].values\n",
        "y_arr = gapminder[\"lifeExp\"].values\n",
        "plt.scatter(x=x_arr, y=y_arr)\n",
        "plt.show()"
      ],
      "execution_count": 0,
      "outputs": [
        {
          "output_type": "display_data",
          "data": {
            "image/png": "[encoded data removed]",
            "text/plain": [
              "<Figure size 432x288 with 1 Axes>"
            ]
          },
          "metadata": {
            "tags": []
          }
        }
      ]
    },
    {
      "metadata": {
        "id": "yaAz7WZCyL8q",
        "colab_type": "code",
        "outputId": "6531757e-ac86-48d5-b1ec-41b64dce1be0",
        "colab": {
          "base_uri": "https://localhost:8080/",
          "height": 269
        }
      },
      "cell_type": "code",
      "source": [
        "gapminder[\"gdpPercap\"].plot(kind=\"hist\", bins=30)\n",
        "#gapminder[\"gdpPercap\"].plot.hist(bins=30)\n",
        "plt.show()"
      ],
      "execution_count": 0,
      "outputs": [
        {
          "output_type": "display_data",
          "data": {
            "image/png": "[encoded data removed]",
            "text/plain": [
              "<Figure size 432x288 with 1 Axes>"
            ]
          },
          "metadata": {
            "tags": []
          }
        }
      ]
    },
    {
      "metadata": {
        "id": "qZjroLQAzodq",
        "colab_type": "code",
        "outputId": "1bed8d91-723b-4806-e488-0cb00b0a4c51",
        "colab": {
          "base_uri": "https://localhost:8080/",
          "height": 283
        }
      },
      "cell_type": "code",
      "source": [
        "sns.distplot(gapminder[\"gdpPercap\"], bins=30, kde=False)\n",
        "plt.show()"
      ],
      "execution_count": 0,
      "outputs": [
        {
          "output_type": "display_data",
          "data": {
            "image/png": "[encoded data removed]",
            "text/plain": [
              "<Figure size 432x288 with 1 Axes>"
            ]
          },
          "metadata": {
            "tags": []
          }
        }
      ]
    },
    {
      "metadata": {
        "id": "X2tgJ_ZK0GHg",
        "colab_type": "code",
        "outputId": "ee8e1842-b522-4cdc-86a5-45c9226c12bc",
        "colab": {
          "base_uri": "https://localhost:8080/",
          "height": 269
        }
      },
      "cell_type": "code",
      "source": [
        "plt.hist(x_arr, bins=30)\n",
        "plt.show()"
      ],
      "execution_count": 0,
      "outputs": [
        {
          "output_type": "display_data",
          "data": {
            "image/png": "[encoded data removed]",
            "text/plain": [
              "<Figure size 432x288 with 1 Axes>"
            ]
          },
          "metadata": {
            "tags": []
          }
        }
      ]
    },
    {
      "metadata": {
        "id": "hatGngym0vEd",
        "colab_type": "code",
        "outputId": "f947a829-dabb-477a-e7aa-a16f15bac319",
        "colab": {
          "base_uri": "https://localhost:8080/",
          "height": 295
        }
      },
      "cell_type": "code",
      "source": [
        "ax = gapminder[\"gdpPercap\"].plot.hist(bins=30, title=\"GDP Percapita is left-skewed\")\n",
        "ax.set_xlabel(\"GDP Percapita\")\n",
        "ax.set_ylabel(\"Freq\")\n",
        "plt.show()"
      ],
      "execution_count": 0,
      "outputs": [
        {
          "output_type": "display_data",
          "data": {
            "image/png": "[encoded data removed]",
            "text/plain": [
              "<Figure size 432x288 with 1 Axes>"
            ]
          },
          "metadata": {
            "tags": []
          }
        }
      ]
    },
    {
      "metadata": {
        "id": "c0JFAaAh2Bui",
        "colab_type": "code",
        "outputId": "b2b6c6fa-d2bf-4fc6-e1ee-0ff52c030a3d",
        "colab": {
          "base_uri": "https://localhost:8080/",
          "height": 295
        }
      },
      "cell_type": "code",
      "source": [
        "sns.distplot(gapminder[\"gdpPercap\"], bins=30, kde=False)\n",
        "plt.title(\"GDP Percapita is left-skewed\")\n",
        "plt.xlabel(\"GDP Percapita\")\n",
        "plt.ylabel(\"Frequency\")\n",
        "plt.show()"
      ],
      "execution_count": 0,
      "outputs": [
        {
          "output_type": "display_data",
          "data": {
            "image/png": "[encoded data removed]",
            "text/plain": [
              "<Figure size 432x288 with 1 Axes>"
            ]
          },
          "metadata": {
            "tags": []
          }
        }
      ]
    },
    {
      "metadata": {
        "id": "xiAp2Q8C3F35",
        "colab_type": "code",
        "outputId": "97fa0b87-841b-40d0-e796-5bd4d1928462",
        "colab": {
          "base_uri": "https://localhost:8080/",
          "height": 295
        }
      },
      "cell_type": "code",
      "source": [
        "plt.hist(x_arr, bins=30)\n",
        "plt.title(\"GDP Percapita is left-skewed\")\n",
        "plt.xlabel(\"GDP Percapita\")\n",
        "plt.ylabel(\"Frequency\")\n",
        "plt.show()"
      ],
      "execution_count": 0,
      "outputs": [
        {
          "output_type": "display_data",
          "data": {
            "image/png": "[encoded data removed]",
            "text/plain": [
              "<Figure size 432x288 with 1 Axes>"
            ]
          },
          "metadata": {
            "tags": []
          }
        }
      ]
    },
    {
      "metadata": {
        "id": "kwWK1nIE3cWI",
        "colab_type": "code",
        "outputId": "c4f281ba-0d75-4631-9e16-82962492bf5b",
        "colab": {
          "base_uri": "https://localhost:8080/",
          "height": 295
        }
      },
      "cell_type": "code",
      "source": [
        "colors = [\"red\", \"green\", \"blue\", \"yellow\", \"purple\"]\n",
        "continents = gapminder[\"continent\"].unique()\n",
        "for col, cont in zip(colors, continents):\n",
        "  gapminder_subset = gapminder[gapminder[\"continent\"] == cont]\n",
        "  x_arr = gapminder_subset[\"gdpPercap\"].values\n",
        "  y_arr = gapminder_subset[\"lifeExp\"].values\n",
        "  plt.scatter(x=x_arr, y=y_arr, c=col, s=6, alpha=0.5, label=cont)\n",
        "plt.title(\"Gapminder Visualization\")\n",
        "plt.xlabel(\"GDP Per Capita\")\n",
        "plt.ylabel(\"Life Expectancy\")\n",
        "plt.legend()\n",
        "plt.show()"
      ],
      "execution_count": 0,
      "outputs": [
        {
          "output_type": "display_data",
          "data": {
            "image/png": "[encoded data removed]",
            "text/plain": [
              "<Figure size 432x288 with 1 Axes>"
            ]
          },
          "metadata": {
            "tags": []
          }
        }
      ]
    },
    {
      "metadata": {
        "id": "To8OtPotDVW5",
        "colab_type": "code",
        "outputId": "09d948a1-0df8-4efb-96c3-a025507a512d",
        "colab": {
          "base_uri": "https://localhost:8080/",
          "height": 295
        }
      },
      "cell_type": "code",
      "source": [
        "colors = [\"red\", \"green\", \"blue\", \"yellow\", \"purple\"]\n",
        "continents = gapminder[\"continent\"].unique()\n",
        "for col, cont in zip(colors, continents):\n",
        "  gapminder_subset = gapminder[gapminder[\"continent\"] == cont]\n",
        "  x_arr = gapminder_subset[\"gdpPercap\"].values\n",
        "  #y_arr = gapminder_subset[\"lifeExp\"].values\n",
        "  plt.hist(x=x_arr, color=col, label=cont, alpha=0.4)\n",
        "plt.title(\"Gapminder Visualization: GDP Percap Distribution\")\n",
        "plt.xlabel(\"GDP Per Capita\")\n",
        "plt.ylabel(\"Frequency\")\n",
        "plt.legend()\n",
        "plt.show()"
      ],
      "execution_count": 0,
      "outputs": [
        {
          "output_type": "display_data",
          "data": {
            "image/png": "[encoded data removed]",
            "text/plain": [
              "<Figure size 432x288 with 1 Axes>"
            ]
          },
          "metadata": {
            "tags": []
          }
        }
      ]
    },
    {
      "metadata": {
        "id": "oJp1Q4gPE4-J",
        "colab_type": "code",
        "outputId": "32232026-7448-4103-f51f-e74cbb52c1bf",
        "colab": {
          "base_uri": "https://localhost:8080/",
          "height": 269
        }
      },
      "cell_type": "code",
      "source": [
        "# subplots\n",
        "fig, axes = plt.subplots(nrows=1, ncols=5)"
      ],
      "execution_count": 0,
      "outputs": [
        {
          "output_type": "display_data",
          "data": {
            "image/png": "[encoded data removed]",
            "text/plain": [
              "<Figure size 432x288 with 5 Axes>"
            ]
          },
          "metadata": {
            "tags": []
          }
        }
      ]
    },
    {
      "metadata": {
        "id": "t_Nj8UsWFrxW",
        "colab_type": "code",
        "outputId": "bbc2a633-0df0-4bf2-e01f-4dbb960c311e",
        "colab": {
          "base_uri": "https://localhost:8080/",
          "height": 50
        }
      },
      "cell_type": "code",
      "source": [
        "print(type(fig))\n",
        "print(type(axes))"
      ],
      "execution_count": 0,
      "outputs": [
        {
          "output_type": "stream",
          "text": [
            "<class 'matplotlib.figure.Figure'>\n",
            "<class 'numpy.ndarray'>\n"
          ],
          "name": "stdout"
        }
      ]
    },
    {
      "metadata": {
        "id": "VtnzNPFjF1E1",
        "colab_type": "code",
        "outputId": "3cde2e89-5eed-413c-cf1f-a135584a5116",
        "colab": {
          "base_uri": "https://localhost:8080/",
          "height": 34
        }
      },
      "cell_type": "code",
      "source": [
        "print(axes.shape)"
      ],
      "execution_count": 0,
      "outputs": [
        {
          "output_type": "stream",
          "text": [
            "(5,)\n"
          ],
          "name": "stdout"
        }
      ]
    },
    {
      "metadata": {
        "id": "wgufVx7dF9z1",
        "colab_type": "code",
        "outputId": "eb96bf36-aa1f-455a-db16-4ae6b94ebd1a",
        "colab": {
          "base_uri": "https://localhost:8080/",
          "height": 297
        }
      },
      "cell_type": "code",
      "source": [
        "fig, axes = plt.subplots(nrows=2, ncols=3, figsize=(8, 4))\n",
        "colors = [\"red\", \"green\", \"blue\", \"yellow\", \"purple\"]\n",
        "continents = gapminder[\"continent\"].unique()\n",
        "row_indice = [0, 0, 0, 1, 1]\n",
        "col_indice = [0, 1, 2, 0, 1]\n",
        "for col, cont, ri, ci in zip(colors, continents, row_indice, col_indice):\n",
        "  gapminder_subset = gapminder[gapminder[\"continent\"] == cont]\n",
        "  x_arr = gapminder_subset[\"gdpPercap\"].values\n",
        "  axes[ri, ci].hist(x_arr, bins=30, color=col)\n",
        "  axes[ri, ci].set_title(cont)\n",
        "axes[1, 2].set_visible(False)\n",
        "plt.tight_layout()\n",
        "plt.show()"
      ],
      "execution_count": 0,
      "outputs": [
        {
          "output_type": "display_data",
          "data": {
            "image/png": "[encoded data removed]",
            "text/plain": [
              "<Figure size 576x288 with 6 Axes>"
            ]
          },
          "metadata": {
            "tags": []
          }
        }
      ]
    },
    {
      "metadata": {
        "id": "OqYKEW7AM-pl",
        "colab_type": "code",
        "outputId": "eb7c95ad-1868-4829-846d-66ce94d096e9",
        "colab": {
          "base_uri": "https://localhost:8080/",
          "height": 758
        }
      },
      "cell_type": "code",
      "source": [
        "gapminder.head(n=24)"
      ],
      "execution_count": 0,
      "outputs": [
        {
          "output_type": "execute_result",
          "data": {
            "text/html": [
              "<div>\n",
              "<style scoped>\n",
              "    .dataframe tbody tr th:only-of-type {\n",
              "        vertical-align: middle;\n",
              "    }\n",
              "\n",
              "    .dataframe tbody tr th {\n",
              "        vertical-align: top;\n",
              "    }\n",
              "\n",
              "    .dataframe thead th {\n",
              "        text-align: right;\n",
              "    }\n",
              "</style>\n",
              "<table border=\"1\" class=\"dataframe\">\n",
              "  <thead>\n",
              "    <tr style=\"text-align: right;\">\n",
              "      <th></th>\n",
              "      <th>country</th>\n",
              "      <th>continent</th>\n",
              "      <th>year</th>\n",
              "      <th>lifeExp</th>\n",
              "      <th>pop</th>\n",
              "      <th>gdpPercap</th>\n",
              "    </tr>\n",
              "  </thead>\n",
              "  <tbody>\n",
              "    <tr>\n",
              "      <th>0</th>\n",
              "      <td>Afghanistan</td>\n",
              "      <td>Asia</td>\n",
              "      <td>1952</td>\n",
              "      <td>28.801</td>\n",
              "      <td>8425333</td>\n",
              "      <td>779.445314</td>\n",
              "    </tr>\n",
              "    <tr>\n",
              "      <th>1</th>\n",
              "      <td>Afghanistan</td>\n",
              "      <td>Asia</td>\n",
              "      <td>1957</td>\n",
              "      <td>30.332</td>\n",
              "      <td>9240934</td>\n",
              "      <td>820.853030</td>\n",
              "    </tr>\n",
              "    <tr>\n",
              "      <th>2</th>\n",
              "      <td>Afghanistan</td>\n",
              "      <td>Asia</td>\n",
              "      <td>1962</td>\n",
              "      <td>31.997</td>\n",
              "      <td>10267083</td>\n",
              "      <td>853.100710</td>\n",
              "    </tr>\n",
              "    <tr>\n",
              "      <th>3</th>\n",
              "      <td>Afghanistan</td>\n",
              "      <td>Asia</td>\n",
              "      <td>1967</td>\n",
              "      <td>34.020</td>\n",
              "      <td>11537966</td>\n",
              "      <td>836.197138</td>\n",
              "    </tr>\n",
              "    <tr>\n",
              "      <th>4</th>\n",
              "      <td>Afghanistan</td>\n",
              "      <td>Asia</td>\n",
              "      <td>1972</td>\n",
              "      <td>36.088</td>\n",
              "      <td>13079460</td>\n",
              "      <td>739.981106</td>\n",
              "    </tr>\n",
              "    <tr>\n",
              "      <th>5</th>\n",
              "      <td>Afghanistan</td>\n",
              "      <td>Asia</td>\n",
              "      <td>1977</td>\n",
              "      <td>38.438</td>\n",
              "      <td>14880372</td>\n",
              "      <td>786.113360</td>\n",
              "    </tr>\n",
              "    <tr>\n",
              "      <th>6</th>\n",
              "      <td>Afghanistan</td>\n",
              "      <td>Asia</td>\n",
              "      <td>1982</td>\n",
              "      <td>39.854</td>\n",
              "      <td>12881816</td>\n",
              "      <td>978.011439</td>\n",
              "    </tr>\n",
              "    <tr>\n",
              "      <th>7</th>\n",
              "      <td>Afghanistan</td>\n",
              "      <td>Asia</td>\n",
              "      <td>1987</td>\n",
              "      <td>40.822</td>\n",
              "      <td>13867957</td>\n",
              "      <td>852.395945</td>\n",
              "    </tr>\n",
              "    <tr>\n",
              "      <th>8</th>\n",
              "      <td>Afghanistan</td>\n",
              "      <td>Asia</td>\n",
              "      <td>1992</td>\n",
              "      <td>41.674</td>\n",
              "      <td>16317921</td>\n",
              "      <td>649.341395</td>\n",
              "    </tr>\n",
              "    <tr>\n",
              "      <th>9</th>\n",
              "      <td>Afghanistan</td>\n",
              "      <td>Asia</td>\n",
              "      <td>1997</td>\n",
              "      <td>41.763</td>\n",
              "      <td>22227415</td>\n",
              "      <td>635.341351</td>\n",
              "    </tr>\n",
              "    <tr>\n",
              "      <th>10</th>\n",
              "      <td>Afghanistan</td>\n",
              "      <td>Asia</td>\n",
              "      <td>2002</td>\n",
              "      <td>42.129</td>\n",
              "      <td>25268405</td>\n",
              "      <td>726.734055</td>\n",
              "    </tr>\n",
              "    <tr>\n",
              "      <th>11</th>\n",
              "      <td>Afghanistan</td>\n",
              "      <td>Asia</td>\n",
              "      <td>2007</td>\n",
              "      <td>43.828</td>\n",
              "      <td>31889923</td>\n",
              "      <td>974.580338</td>\n",
              "    </tr>\n",
              "    <tr>\n",
              "      <th>12</th>\n",
              "      <td>Albania</td>\n",
              "      <td>Europe</td>\n",
              "      <td>1952</td>\n",
              "      <td>55.230</td>\n",
              "      <td>1282697</td>\n",
              "      <td>1601.056136</td>\n",
              "    </tr>\n",
              "    <tr>\n",
              "      <th>13</th>\n",
              "      <td>Albania</td>\n",
              "      <td>Europe</td>\n",
              "      <td>1957</td>\n",
              "      <td>59.280</td>\n",
              "      <td>1476505</td>\n",
              "      <td>1942.284244</td>\n",
              "    </tr>\n",
              "    <tr>\n",
              "      <th>14</th>\n",
              "      <td>Albania</td>\n",
              "      <td>Europe</td>\n",
              "      <td>1962</td>\n",
              "      <td>64.820</td>\n",
              "      <td>1728137</td>\n",
              "      <td>2312.888958</td>\n",
              "    </tr>\n",
              "    <tr>\n",
              "      <th>15</th>\n",
              "      <td>Albania</td>\n",
              "      <td>Europe</td>\n",
              "      <td>1967</td>\n",
              "      <td>66.220</td>\n",
              "      <td>1984060</td>\n",
              "      <td>2760.196931</td>\n",
              "    </tr>\n",
              "    <tr>\n",
              "      <th>16</th>\n",
              "      <td>Albania</td>\n",
              "      <td>Europe</td>\n",
              "      <td>1972</td>\n",
              "      <td>67.690</td>\n",
              "      <td>2263554</td>\n",
              "      <td>3313.422188</td>\n",
              "    </tr>\n",
              "    <tr>\n",
              "      <th>17</th>\n",
              "      <td>Albania</td>\n",
              "      <td>Europe</td>\n",
              "      <td>1977</td>\n",
              "      <td>68.930</td>\n",
              "      <td>2509048</td>\n",
              "      <td>3533.003910</td>\n",
              "    </tr>\n",
              "    <tr>\n",
              "      <th>18</th>\n",
              "      <td>Albania</td>\n",
              "      <td>Europe</td>\n",
              "      <td>1982</td>\n",
              "      <td>70.420</td>\n",
              "      <td>2780097</td>\n",
              "      <td>3630.880722</td>\n",
              "    </tr>\n",
              "    <tr>\n",
              "      <th>19</th>\n",
              "      <td>Albania</td>\n",
              "      <td>Europe</td>\n",
              "      <td>1987</td>\n",
              "      <td>72.000</td>\n",
              "      <td>3075321</td>\n",
              "      <td>3738.932735</td>\n",
              "    </tr>\n",
              "    <tr>\n",
              "      <th>20</th>\n",
              "      <td>Albania</td>\n",
              "      <td>Europe</td>\n",
              "      <td>1992</td>\n",
              "      <td>71.581</td>\n",
              "      <td>3326498</td>\n",
              "      <td>2497.437901</td>\n",
              "    </tr>\n",
              "    <tr>\n",
              "      <th>21</th>\n",
              "      <td>Albania</td>\n",
              "      <td>Europe</td>\n",
              "      <td>1997</td>\n",
              "      <td>72.950</td>\n",
              "      <td>3428038</td>\n",
              "      <td>3193.054604</td>\n",
              "    </tr>\n",
              "    <tr>\n",
              "      <th>22</th>\n",
              "      <td>Albania</td>\n",
              "      <td>Europe</td>\n",
              "      <td>2002</td>\n",
              "      <td>75.651</td>\n",
              "      <td>3508512</td>\n",
              "      <td>4604.211737</td>\n",
              "    </tr>\n",
              "    <tr>\n",
              "      <th>23</th>\n",
              "      <td>Albania</td>\n",
              "      <td>Europe</td>\n",
              "      <td>2007</td>\n",
              "      <td>76.423</td>\n",
              "      <td>3600523</td>\n",
              "      <td>5937.029526</td>\n",
              "    </tr>\n",
              "  </tbody>\n",
              "</table>\n",
              "</div>"
            ],
            "text/plain": [
              "        country continent  year  lifeExp       pop    gdpPercap\n",
              "0   Afghanistan      Asia  1952   28.801   8425333   779.445314\n",
              "1   Afghanistan      Asia  1957   30.332   9240934   820.853030\n",
              "2   Afghanistan      Asia  1962   31.997  10267083   853.100710\n",
              "3   Afghanistan      Asia  1967   34.020  11537966   836.197138\n",
              "4   Afghanistan      Asia  1972   36.088  13079460   739.981106\n",
              "5   Afghanistan      Asia  1977   38.438  14880372   786.113360\n",
              "6   Afghanistan      Asia  1982   39.854  12881816   978.011439\n",
              "7   Afghanistan      Asia  1987   40.822  13867957   852.395945\n",
              "8   Afghanistan      Asia  1992   41.674  16317921   649.341395\n",
              "9   Afghanistan      Asia  1997   41.763  22227415   635.341351\n",
              "10  Afghanistan      Asia  2002   42.129  25268405   726.734055\n",
              "11  Afghanistan      Asia  2007   43.828  31889923   974.580338\n",
              "12      Albania    Europe  1952   55.230   1282697  1601.056136\n",
              "13      Albania    Europe  1957   59.280   1476505  1942.284244\n",
              "14      Albania    Europe  1962   64.820   1728137  2312.888958\n",
              "15      Albania    Europe  1967   66.220   1984060  2760.196931\n",
              "16      Albania    Europe  1972   67.690   2263554  3313.422188\n",
              "17      Albania    Europe  1977   68.930   2509048  3533.003910\n",
              "18      Albania    Europe  1982   70.420   2780097  3630.880722\n",
              "19      Albania    Europe  1987   72.000   3075321  3738.932735\n",
              "20      Albania    Europe  1992   71.581   3326498  2497.437901\n",
              "21      Albania    Europe  1997   72.950   3428038  3193.054604\n",
              "22      Albania    Europe  2002   75.651   3508512  4604.211737\n",
              "23      Albania    Europe  2007   76.423   3600523  5937.029526"
            ]
          },
          "metadata": {
            "tags": []
          },
          "execution_count": 23
        }
      ]
    },
    {
      "metadata": {
        "id": "WmqtVZOlPNQl",
        "colab_type": "code",
        "outputId": "2f19ad9f-9767-4e07-d7fd-45909ce68150",
        "colab": {
          "base_uri": "https://localhost:8080/",
          "height": 269
        }
      },
      "cell_type": "code",
      "source": [
        "gapminder_with_idx = gapminder.reset_index()\n",
        "gdpPercap_wide = gapminder_with_idx.pivot(index=\"index\", columns=\"continent\", values=\"gdpPercap\")\n",
        "gdpPercap_wide.plot.box()\n",
        "plt.show() "
      ],
      "execution_count": 0,
      "outputs": [
        {
          "output_type": "display_data",
          "data": {
            "image/png": "[encoded data removed]",
            "text/plain": [
              "<Figure size 432x288 with 1 Axes>"
            ]
          },
          "metadata": {
            "tags": []
          }
        }
      ]
    },
    {
      "metadata": {
        "id": "QI2NO2dcRypt",
        "colab_type": "code",
        "outputId": "2a24c17c-535b-47d4-fc5c-b8c68df0a656",
        "colab": {
          "base_uri": "https://localhost:8080/",
          "height": 269
        }
      },
      "cell_type": "code",
      "source": [
        "import numpy as np\n",
        "\n",
        "gdpPercap_wide_arr = gdpPercap_wide.values\n",
        "n_cols = gdpPercap_wide_arr.shape[1]\n",
        "arr_to_plot = []\n",
        "for i in range(n_cols):\n",
        "  arr_with_nan = gdpPercap_wide_arr[:, i]\n",
        "  arr_without_nan = arr_with_nan[~np.isnan(arr_with_nan)]\n",
        "  arr_to_plot.append(arr_without_nan)\n",
        "  #print(arr_without_nan.shape)\n",
        "plt.boxplot(arr_to_plot)\n",
        "plt.show()"
      ],
      "execution_count": 0,
      "outputs": [
        {
          "output_type": "display_data",
          "data": {
            "image/png": "[encoded data removed]",
            "text/plain": [
              "<Figure size 432x288 with 1 Axes>"
            ]
          },
          "metadata": {
            "tags": []
          }
        }
      ]
    },
    {
      "metadata": {
        "id": "lzD_ppXXV6wE",
        "colab_type": "code",
        "outputId": "f9e0e975-bdfe-4fca-a492-929b90ae53c3",
        "colab": {
          "base_uri": "https://localhost:8080/",
          "height": 269
        }
      },
      "cell_type": "code",
      "source": [
        "cols_to_plot = []\n",
        "continents = gapminder[\"continent\"].unique()\n",
        "for cont in continents:\n",
        "  gapminder_subset = gapminder[gapminder[\"continent\"] == cont][\"gdpPercap\"].values\n",
        "  cols_to_plot.append(gapminder_subset)\n",
        "  #print(gapminder_subset.shape)\n",
        "plt.boxplot(cols_to_plot)\n",
        "plt.xticks(range(1, 6), labels=continents)\n",
        "plt.show()"
      ],
      "execution_count": 0,
      "outputs": [
        {
          "output_type": "display_data",
          "data": {
            "image/png": "[encoded data removed]",
            "text/plain": [
              "<Figure size 432x288 with 1 Axes>"
            ]
          },
          "metadata": {
            "tags": []
          }
        }
      ]
    },
    {
      "metadata": {
        "id": "ggcFxBc_08Aw",
        "colab_type": "code",
        "outputId": "ad001ba7-91ba-46cc-eda9-c30f5933ac51",
        "colab": {
          "base_uri": "https://localhost:8080/",
          "height": 300
        }
      },
      "cell_type": "code",
      "source": [
        "tw = gapminder[gapminder[\"country\"] == \"Taiwan\"]\n",
        "tw.plot(x=\"year\", y=\"gdpPercap\", kind=\"line\")"
      ],
      "execution_count": 0,
      "outputs": [
        {
          "output_type": "execute_result",
          "data": {
            "text/plain": [
              "<matplotlib.axes._subplots.AxesSubplot at 0x7f099f6c4ef0>"
            ]
          },
          "metadata": {
            "tags": []
          },
          "execution_count": 29
        },
        {
          "output_type": "display_data",
          "data": {
            "image/png": "[encoded data removed]",
            "text/plain": [
              "<Figure size 432x288 with 1 Axes>"
            ]
          },
          "metadata": {
            "tags": []
          }
        }
      ]
    },
    {
      "metadata": {
        "id": "qrPfCMVa1jKx",
        "colab_type": "code",
        "outputId": "5f61a188-6312-4bb8-c87f-094e5918338c",
        "colab": {
          "base_uri": "https://localhost:8080/",
          "height": 269
        }
      },
      "cell_type": "code",
      "source": [
        "import matplotlib.pyplot as plt\n",
        "\n",
        "plt.plot(tw[\"year\"].values, tw[\"gdpPercap\"].values)\n",
        "plt.show()"
      ],
      "execution_count": 0,
      "outputs": [
        {
          "output_type": "display_data",
          "data": {
            "image/png": "[encoded data removed]",
            "text/plain": [
              "<Figure size 432x288 with 1 Axes>"
            ]
          },
          "metadata": {
            "tags": []
          }
        }
      ]
    },
    {
      "metadata": {
        "id": "5jzhYa1b2ByP",
        "colab_type": "code",
        "outputId": "a8ca6b13-dc91-41f6-a303-be4c5e72e2ab",
        "colab": {
          "base_uri": "https://localhost:8080/",
          "height": 269
        }
      },
      "cell_type": "code",
      "source": [
        "country_list = [\"Taiwan\", \"China\", \"Japan\", \"Singapore\"]\n",
        "for country in country_list:\n",
        "  subset = gapminder[gapminder[\"country\"] == country]\n",
        "  plt.plot(subset[\"year\"].values, subset[\"gdpPercap\"], label=country)\n",
        "plt.legend()\n",
        "plt.show()"
      ],
      "execution_count": 0,
      "outputs": [
        {
          "output_type": "display_data",
          "data": {
            "image/png": "[encoded data removed]",
            "text/plain": [
              "<Figure size 432x288 with 1 Axes>"
            ]
          },
          "metadata": {
            "tags": []
          }
        }
      ]
    },
    {
      "metadata": {
        "id": "5jMG0vfv4ISO",
        "colab_type": "code",
        "outputId": "bd12ac42-93a1-4e1d-c2aa-0bf92d61c478",
        "colab": {
          "base_uri": "https://localhost:8080/",
          "height": 283
        }
      },
      "cell_type": "code",
      "source": [
        "continent_list = gapminder[\"continent\"].unique()\n",
        "grouped = gapminder.groupby([\"year\", \"continent\"])\n",
        "lifeExp_by_yr_cont = pd.DataFrame(grouped[\"lifeExp\"].mean())\n",
        "lifeExp_by_yr_cont = lifeExp_by_yr_cont.reset_index()\n",
        "wide_format = lifeExp_by_yr_cont.pivot(index=\"year\", columns=\"continent\", values=\"lifeExp\")\n",
        "wide_format.plot.line()\n",
        "plt.show()"
      ],
      "execution_count": 0,
      "outputs": [
        {
          "output_type": "display_data",
          "data": {
            "image/png": "[encoded data removed]",
            "text/plain": [
              "<Figure size 432x288 with 1 Axes>"
            ]
          },
          "metadata": {
            "tags": []
          }
        }
      ]
    },
    {
      "metadata": {
        "id": "xMMOoEzW5zdT",
        "colab_type": "code",
        "outputId": "30f9d8f5-a5a1-4c7e-bf03-76f6cc57fd66",
        "colab": {
          "base_uri": "https://localhost:8080/",
          "height": 319
        }
      },
      "cell_type": "code",
      "source": [
        "grouped = gapminder.groupby(\"continent\")\n",
        "n_obs = grouped[\"country\"].count()\n",
        "n_obs.plot.bar()\n",
        "plt.show()"
      ],
      "execution_count": 0,
      "outputs": [
        {
          "output_type": "display_data",
          "data": {
            "image/png": "[encoded data removed]",
            "text/plain": [
              "<Figure size 432x288 with 1 Axes>"
            ]
          },
          "metadata": {
            "tags": []
          }
        }
      ]
    },
    {
      "metadata": {
        "id": "Ta9a-uNZ6XPv",
        "colab_type": "code",
        "outputId": "8f50d660-0ae1-48f8-e05f-fa11c0120a84",
        "colab": {
          "base_uri": "https://localhost:8080/",
          "height": 269
        }
      },
      "cell_type": "code",
      "source": [
        "plt.bar(x=range(n_obs.size), height=n_obs.values)\n",
        "plt.xticks(range(n_obs.size), n_obs.index)\n",
        "plt.show()"
      ],
      "execution_count": 0,
      "outputs": [
        {
          "output_type": "display_data",
          "data": {
            "image/png": "[encoded data removed]",
            "text/plain": [
              "<Figure size 432x288 with 1 Axes>"
            ]
          },
          "metadata": {
            "tags": []
          }
        }
      ]
    },
    {
      "metadata": {
        "id": "C2WCY_VLApjo",
        "colab_type": "code",
        "outputId": "7b442ae9-c09f-435e-e254-0fd6408e03d1",
        "colab": {
          "resources": {
            "http://localhost:8080/nbextensions/google.colab/files.js": {
              "data": "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",
              "ok": true,
              "headers": [
                [
                  "content-type",
                  "application/javascript"
                ]
              ],
              "status": 200,
              "status_text": ""
            }
          },
          "base_uri": "https://localhost:8080/",
          "height": 622
        }
      },
      "cell_type": "code",
      "source": [
        "from google.colab import files\n",
        "\n",
        "files.upload()"
      ],
      "execution_count": 0,
      "outputs": [
        {
          "output_type": "display_data",
          "data": {
            "text/html": [
              "\n",
              "     <input type=\"file\" id=\"files-fc219fde-28b2-46bb-9bfb-eccbd18c0274\" name=\"files[]\" multiple disabled />\n",
              "     <output id=\"result-fc219fde-28b2-46bb-9bfb-eccbd18c0274\">\n",
              "      Upload widget is only available when the cell has been executed in the\n",
              "      current browser session. Please rerun this cell to enable.\n",
              "      </output>\n",
              "      <script src=\"/nbextensions/google.colab/files.js\"></script> "
            ],
            "text/plain": [
              "<IPython.core.display.HTML object>"
            ]
          },
          "metadata": {
            "tags": []
          }
        },
        {
          "output_type": "stream",
          "text": [
            "Saving STHeiti Light.ttc to STHeiti Light.ttc\n"
          ],
          "name": "stdout"
        },
        {
          "output_type": "error",
          "ename": "KeyboardInterrupt",
          "evalue": "ignored",
          "traceback": [
            "\u001b[0;31m---------------------------------------------------------------------------\u001b[0m",
            "\u001b[0;31mKeyboardInterrupt\u001b[0m                         Traceback (most recent call last)",
            "\u001b[0;32m<ipython-input-77-aac4dfaac8e9>\u001b[0m in \u001b[0;36m<module>\u001b[0;34m()\u001b[0m\n\u001b[1;32m      1\u001b[0m \u001b[0;32mfrom\u001b[0m \u001b[0mgoogle\u001b[0m\u001b[0;34m.\u001b[0m\u001b[0mcolab\u001b[0m \u001b[0;32mimport\u001b[0m \u001b[0mfiles\u001b[0m\u001b[0;34m\u001b[0m\u001b[0;34m\u001b[0m\u001b[0m\n\u001b[1;32m      2\u001b[0m \u001b[0;34m\u001b[0m\u001b[0m\n\u001b[0;32m----> 3\u001b[0;31m \u001b[0mfiles\u001b[0m\u001b[0;34m.\u001b[0m\u001b[0mupload\u001b[0m\u001b[0;34m(\u001b[0m\u001b[0;34m)\u001b[0m\u001b[0;34m\u001b[0m\u001b[0;34m\u001b[0m\u001b[0m\n\u001b[0m",
            "\u001b[0;32m/usr/local/lib/python3.6/dist-packages/google/colab/files.py\u001b[0m in \u001b[0;36mupload\u001b[0;34m()\u001b[0m\n\u001b[1;32m     70\u001b[0m     result = _output.eval_js(\n\u001b[1;32m     71\u001b[0m         'google.colab._files._uploadFilesContinue(\"{output_id}\")'.format(\n\u001b[0;32m---> 72\u001b[0;31m             output_id=output_id))\n\u001b[0m\u001b[1;32m     73\u001b[0m     \u001b[0;32mif\u001b[0m \u001b[0mresult\u001b[0m\u001b[0;34m[\u001b[0m\u001b[0;34m'action'\u001b[0m\u001b[0;34m]\u001b[0m \u001b[0;34m!=\u001b[0m \u001b[0;34m'append'\u001b[0m\u001b[0;34m:\u001b[0m\u001b[0;34m\u001b[0m\u001b[0;34m\u001b[0m\u001b[0m\n\u001b[1;32m     74\u001b[0m       \u001b[0;31m# JS side uses a generator of promises to process all of the files- some\u001b[0m\u001b[0;34m\u001b[0m\u001b[0;34m\u001b[0m\u001b[0;34m\u001b[0m\u001b[0m\n",
            "\u001b[0;32m/usr/local/lib/python3.6/dist-packages/google/colab/output/_js.py\u001b[0m in \u001b[0;36meval_js\u001b[0;34m(script, ignore_result)\u001b[0m\n\u001b[1;32m     37\u001b[0m   \u001b[0;32mif\u001b[0m \u001b[0mignore_result\u001b[0m\u001b[0;34m:\u001b[0m\u001b[0;34m\u001b[0m\u001b[0;34m\u001b[0m\u001b[0m\n\u001b[1;32m     38\u001b[0m     \u001b[0;32mreturn\u001b[0m\u001b[0;34m\u001b[0m\u001b[0;34m\u001b[0m\u001b[0m\n\u001b[0;32m---> 39\u001b[0;31m   \u001b[0;32mreturn\u001b[0m \u001b[0m_message\u001b[0m\u001b[0;34m.\u001b[0m\u001b[0mread_reply_from_input\u001b[0m\u001b[0;34m(\u001b[0m\u001b[0mrequest_id\u001b[0m\u001b[0;34m)\u001b[0m\u001b[0;34m\u001b[0m\u001b[0;34m\u001b[0m\u001b[0m\n\u001b[0m\u001b[1;32m     40\u001b[0m \u001b[0;34m\u001b[0m\u001b[0m\n\u001b[1;32m     41\u001b[0m \u001b[0;34m\u001b[0m\u001b[0m\n",
            "\u001b[0;32m/usr/local/lib/python3.6/dist-packages/google/colab/_message.py\u001b[0m in \u001b[0;36mread_reply_from_input\u001b[0;34m(message_id, timeout_sec)\u001b[0m\n\u001b[1;32m     99\u001b[0m     \u001b[0mreply\u001b[0m \u001b[0;34m=\u001b[0m \u001b[0m_read_next_input_message\u001b[0m\u001b[0;34m(\u001b[0m\u001b[0;34m)\u001b[0m\u001b[0;34m\u001b[0m\u001b[0;34m\u001b[0m\u001b[0m\n\u001b[1;32m    100\u001b[0m     \u001b[0;32mif\u001b[0m \u001b[0mreply\u001b[0m \u001b[0;34m==\u001b[0m \u001b[0m_NOT_READY\u001b[0m \u001b[0;32mor\u001b[0m \u001b[0;32mnot\u001b[0m \u001b[0misinstance\u001b[0m\u001b[0;34m(\u001b[0m\u001b[0mreply\u001b[0m\u001b[0;34m,\u001b[0m \u001b[0mdict\u001b[0m\u001b[0;34m)\u001b[0m\u001b[0;34m:\u001b[0m\u001b[0;34m\u001b[0m\u001b[0;34m\u001b[0m\u001b[0m\n\u001b[0;32m--> 101\u001b[0;31m       \u001b[0mtime\u001b[0m\u001b[0;34m.\u001b[0m\u001b[0msleep\u001b[0m\u001b[0;34m(\u001b[0m\u001b[0;36m0.025\u001b[0m\u001b[0;34m)\u001b[0m\u001b[0;34m\u001b[0m\u001b[0;34m\u001b[0m\u001b[0m\n\u001b[0m\u001b[1;32m    102\u001b[0m       \u001b[0;32mcontinue\u001b[0m\u001b[0;34m\u001b[0m\u001b[0;34m\u001b[0m\u001b[0m\n\u001b[1;32m    103\u001b[0m     if (reply.get('type') == 'colab_reply' and\n",
            "\u001b[0;31mKeyboardInterrupt\u001b[0m: "
          ]
        }
      ]
    },
    {
      "metadata": {
        "id": "jtTc0TGXBCkG",
        "colab_type": "code",
        "outputId": "68c52a6c-f9c4-4a73-ccd3-175800c2a31d",
        "colab": {
          "base_uri": "https://localhost:8080/",
          "height": 34
        }
      },
      "cell_type": "code",
      "source": [
        "!ls"
      ],
      "execution_count": 0,
      "outputs": [
        {
          "output_type": "stream",
          "text": [
            " sample_data  'STHeiti Light.ttc'\n"
          ],
          "name": "stdout"
        }
      ]
    },
    {
      "metadata": {
        "id": "6sDeM6je-9Uk",
        "colab_type": "code",
        "outputId": "c38a70ff-2591-41aa-ebb8-5f8dc70917ee",
        "colab": {
          "base_uri": "https://localhost:8080/",
          "height": 280
        }
      },
      "cell_type": "code",
      "source": [
        "from matplotlib.font_manager import FontProperties\n",
        "\n",
        "tp = mayors[mayors[\"admin_area\"] == \"台北市\"]\n",
        "grouped = tp.groupby([\"number\", \"candidate\"])\n",
        "tp_votes_sum = pd.DataFrame(grouped[\"votes\"].sum()).reset_index()\n",
        "my_font = FontProperties(fname=\"STHeiti Light.ttc\")\n",
        "plt.bar(x=range(tp_votes_sum.shape[0]), height=tp_votes_sum[\"votes\"].values)\n",
        "plt.xticks(range(tp_votes_sum.shape[0]), tp_votes_sum[\"candidate\"].values, fontproperties=my_font)\n",
        "plt.title(\"台北市長候選人得票數\", fontproperties=my_font)\n",
        "plt.show()"
      ],
      "execution_count": 0,
      "outputs": [
        {
          "output_type": "display_data",
          "data": {
            "image/png": "[encoded data removed]",
            "text/plain": [
              "<Figure size 432x288 with 1 Axes>"
            ]
          },
          "metadata": {
            "tags": []
          }
        }
      ]
    },
    {
      "metadata": {
        "id": "-1NqZj8QKY0-",
        "colab_type": "text"
      },
      "cell_type": "markdown",
      "source": [
        "## Scikit-Learn\n",
        "\n",
        "<https://scikit-learn.org/stable/>\n",
        "\n",
        "- 安裝\n",
        "\n",
        "```bash\n",
        "pip install sklearn\n",
        "```\n",
        "\n",
        "- 載入\n",
        "\n",
        "```python\n",
        "from sklearn.MODULE import FUNCTION/CLASS\n",
        "```\n",
        "\n",
        "- Scikit-Learn 六大模組：\n",
        "  - 分類\n",
        "  - 回歸\n",
        "  - 聚類\n",
        "  - 降維\n",
        "  - 評估\n",
        "  - 預處理"
      ]
    },
    {
      "metadata": {
        "id": "0XXlZ2l_TDnk",
        "colab_type": "text"
      },
      "cell_type": "markdown",
      "source": [
        "### Sklearn 內建資料集\n",
        "\n",
        "- Boston\n",
        "- Digits"
      ]
    },
    {
      "metadata": {
        "id": "NAYMbypCTQmq",
        "colab_type": "code",
        "outputId": "60572dff-a513-49b7-c99a-6a330d05c9e6",
        "colab": {
          "base_uri": "https://localhost:8080/",
          "height": 927
        }
      },
      "cell_type": "code",
      "source": [
        "from sklearn.datasets import load_boston\n",
        "\n",
        "boston = load_boston()\n",
        "print(boston.DESCR)\n",
        "print(boston.data.shape)\n",
        "print(boston.target.shape)"
      ],
      "execution_count": 0,
      "outputs": [
        {
          "output_type": "stream",
          "text": [
            ".. _boston_dataset:\n",
            "\n",
            "Boston house prices dataset\n",
            "---------------------------\n",
            "\n",
            "**Data Set Characteristics:**  \n",
            "\n",
            "    :Number of Instances: 506 \n",
            "\n",
            "    :Number of Attributes: 13 numeric/categorical predictive. Median Value (attribute 14) is usually the target.\n",
            "\n",
            "    :Attribute Information (in order):\n",
            "        - CRIM     per capita crime rate by town\n",
            "        - ZN       proportion of residential land zoned for lots over 25,000 sq.ft.\n",
            "        - INDUS    proportion of non-retail business acres per town\n",
            "        - CHAS     Charles River dummy variable (= 1 if tract bounds river; 0 otherwise)\n",
            "        - NOX      nitric oxides concentration (parts per 10 million)\n",
            "        - RM       average number of rooms per dwelling\n",
            "        - AGE      proportion of owner-occupied units built prior to 1940\n",
            "        - DIS      weighted distances to five Boston employment centres\n",
            "        - RAD      index of accessibility to radial highways\n",
            "        - TAX      full-value property-tax rate per $10,000\n",
            "        - PTRATIO  pupil-teacher ratio by town\n",
            "        - B        1000(Bk - 0.63)^2 where Bk is the proportion of blacks by town\n",
            "        - LSTAT    % lower status of the population\n",
            "        - MEDV     Median value of owner-occupied homes in $1000's\n",
            "\n",
            "    :Missing Attribute Values: None\n",
            "\n",
            "    :Creator: Harrison, D. and Rubinfeld, D.L.\n",
            "\n",
            "This is a copy of UCI ML housing dataset.\n",
            "https://archive.ics.uci.edu/ml/machine-learning-databases/housing/\n",
            "\n",
            "\n",
            "This dataset was taken from the StatLib library which is maintained at Carnegie Mellon University.\n",
            "\n",
            "The Boston house-price data of Harrison, D. and Rubinfeld, D.L. 'Hedonic\n",
            "prices and the demand for clean air', J. Environ. Economics & Management,\n",
            "vol.5, 81-102, 1978.   Used in Belsley, Kuh & Welsch, 'Regression diagnostics\n",
            "...', Wiley, 1980.   N.B. Various transformations are used in the table on\n",
            "pages 244-261 of the latter.\n",
            "\n",
            "The Boston house-price data has been used in many machine learning papers that address regression\n",
            "problems.   \n",
            "     \n",
            ".. topic:: References\n",
            "\n",
            "   - Belsley, Kuh & Welsch, 'Regression diagnostics: Identifying Influential Data and Sources of Collinearity', Wiley, 1980. 244-261.\n",
            "   - Quinlan,R. (1993). Combining Instance-Based and Model-Based Learning. In Proceedings on the Tenth International Conference of Machine Learning, 236-243, University of Massachusetts, Amherst. Morgan Kaufmann.\n",
            "\n",
            "(506, 13)\n",
            "(506,)\n"
          ],
          "name": "stdout"
        }
      ]
    },
    {
      "metadata": {
        "id": "5dfLRIkNUZ7A",
        "colab_type": "code",
        "outputId": "190f6c87-42ef-4145-82dd-c1b0c10135f8",
        "colab": {
          "base_uri": "https://localhost:8080/",
          "height": 843
        }
      },
      "cell_type": "code",
      "source": [
        "from sklearn.datasets import load_digits\n",
        "\n",
        "digits = load_digits()\n",
        "print(digits.DESCR)\n",
        "print(digits.data.shape)\n",
        "print(digits.target.shape)"
      ],
      "execution_count": 0,
      "outputs": [
        {
          "output_type": "stream",
          "text": [
            ".. _digits_dataset:\n",
            "\n",
            "Optical recognition of handwritten digits dataset\n",
            "--------------------------------------------------\n",
            "\n",
            "**Data Set Characteristics:**\n",
            "\n",
            "    :Number of Instances: 5620\n",
            "    :Number of Attributes: 64\n",
            "    :Attribute Information: 8x8 image of integer pixels in the range 0..16.\n",
            "    :Missing Attribute Values: None\n",
            "    :Creator: E. Alpaydin (alpaydin '@' boun.edu.tr)\n",
            "    :Date: July; 1998\n",
            "\n",
            "This is a copy of the test set of the UCI ML hand-written digits datasets\n",
            "http://archive.ics.uci.edu/ml/datasets/Optical+Recognition+of+Handwritten+Digits\n",
            "\n",
            "The data set contains images of hand-written digits: 10 classes where\n",
            "each class refers to a digit.\n",
            "\n",
            "Preprocessing programs made available by NIST were used to extract\n",
            "normalized bitmaps of handwritten digits from a preprinted form. From a\n",
            "total of 43 people, 30 contributed to the training set and different 13\n",
            "to the test set. 32x32 bitmaps are divided into nonoverlapping blocks of\n",
            "4x4 and the number of on pixels are counted in each block. This generates\n",
            "an input matrix of 8x8 where each element is an integer in the range\n",
            "0..16. This reduces dimensionality and gives invariance to small\n",
            "distortions.\n",
            "\n",
            "For info on NIST preprocessing routines, see M. D. Garris, J. L. Blue, G.\n",
            "T. Candela, D. L. Dimmick, J. Geist, P. J. Grother, S. A. Janet, and C.\n",
            "L. Wilson, NIST Form-Based Handprint Recognition System, NISTIR 5469,\n",
            "1994.\n",
            "\n",
            ".. topic:: References\n",
            "\n",
            "  - C. Kaynak (1995) Methods of Combining Multiple Classifiers and Their\n",
            "    Applications to Handwritten Digit Recognition, MSc Thesis, Institute of\n",
            "    Graduate Studies in Science and Engineering, Bogazici University.\n",
            "  - E. Alpaydin, C. Kaynak (1998) Cascading Classifiers, Kybernetika.\n",
            "  - Ken Tang and Ponnuthurai N. Suganthan and Xi Yao and A. Kai Qin.\n",
            "    Linear dimensionalityreduction using relevance weighted LDA. School of\n",
            "    Electrical and Electronic Engineering Nanyang Technological University.\n",
            "    2005.\n",
            "  - Claudio Gentile. A New Approximate Maximal Margin Classification\n",
            "    Algorithm. NIPS. 2000.\n",
            "(1797, 64)\n",
            "(1797,)\n"
          ],
          "name": "stdout"
        }
      ]
    },
    {
      "metadata": {
        "id": "itbYrfuOUvgb",
        "colab_type": "code",
        "outputId": "7cfa2f80-dd7e-433e-fb7d-17609e7c5922",
        "colab": {
          "base_uri": "https://localhost:8080/",
          "height": 151
        }
      },
      "cell_type": "code",
      "source": [
        "first_digit = digits.data[3, :].reshape(8, 8)\n",
        "print(first_digit)"
      ],
      "execution_count": 0,
      "outputs": [
        {
          "output_type": "stream",
          "text": [
            "[[ 0.  0.  7. 15. 13.  1.  0.  0.]\n",
            " [ 0.  8. 13.  6. 15.  4.  0.  0.]\n",
            " [ 0.  2.  1. 13. 13.  0.  0.  0.]\n",
            " [ 0.  0.  2. 15. 11.  1.  0.  0.]\n",
            " [ 0.  0.  0.  1. 12. 12.  1.  0.]\n",
            " [ 0.  0.  0.  0.  1. 10.  8.  0.]\n",
            " [ 0.  0.  8.  4.  5. 14.  9.  0.]\n",
            " [ 0.  0.  7. 13. 13.  9.  0.  0.]]\n"
          ],
          "name": "stdout"
        }
      ]
    },
    {
      "metadata": {
        "id": "GJp0Cd92VNI6",
        "colab_type": "code",
        "outputId": "33cf2354-685d-42f6-d2ca-a7245a334bd4",
        "colab": {
          "base_uri": "https://localhost:8080/",
          "height": 269
        }
      },
      "cell_type": "code",
      "source": [
        "plt.imshow(first_digit, cmap=\"gray\")\n",
        "plt.show()"
      ],
      "execution_count": 0,
      "outputs": [
        {
          "output_type": "display_data",
          "data": {
            "image/png": "[encoded data removed]",
            "text/plain": [
              "<Figure size 432x288 with 1 Axes>"
            ]
          },
          "metadata": {
            "tags": []
          }
        }
      ]
    },
    {
      "metadata": {
        "id": "Y8mWL4ffWdEP",
        "colab_type": "code",
        "outputId": "012ec75d-1912-40f9-e136-c8e230dddbb9",
        "colab": {
          "base_uri": "https://localhost:8080/",
          "height": 34
        }
      },
      "cell_type": "code",
      "source": [
        "print(digits.target[:10])"
      ],
      "execution_count": 0,
      "outputs": [
        {
          "output_type": "stream",
          "text": [
            "[0 1 2 3 4 5 6 7 8 9]\n"
          ],
          "name": "stdout"
        }
      ]
    },
    {
      "metadata": {
        "id": "GAP5fkPwOGBO",
        "colab_type": "text"
      },
      "cell_type": "markdown",
      "source": [
        "## Kaggle\n",
        "\n",
        "<https://www.kaggle.com/>\n",
        "\n",
        "- [Competitions](https://www.kaggle.com/competitions)\n",
        "- [Learn](https://www.kaggle.com/learn)\n",
        "- [Kernels](https://www.kaggle.com/kernels)"
      ]
    },
    {
      "metadata": {
        "id": "79WBfIu6JC7o",
        "colab_type": "code",
        "colab": {}
      },
      "cell_type": "code",
      "source": [
        "import pandas as pd\n",
        "\n",
        "mnist_train_url = \"https://s3-ap-northeast-1.amazonaws.com/kaggle-getting-started/mnist/train.csv\"\n",
        "mnist_test_url = \"https://s3-ap-northeast-1.amazonaws.com/kaggle-getting-started/mnist/test.csv\"\n",
        "titanic_train_url = \"https://s3-ap-northeast-1.amazonaws.com/kaggle-getting-started/titanic/train.csv\"\n",
        "titanic_test_url = \"https://s3-ap-northeast-1.amazonaws.com/kaggle-getting-started/titanic/test.csv\"\n",
        "house_price_train_url = \"https://s3-ap-northeast-1.amazonaws.com/kaggle-getting-started/house-prices/train.csv\"\n",
        "house_price_test_url = \"https://s3-ap-northeast-1.amazonaws.com/kaggle-getting-started/house-prices/test.csv\""
      ],
      "execution_count": 0,
      "outputs": []
    },
    {
      "metadata": {
        "id": "2H-3m3bcS9KP",
        "colab_type": "code",
        "outputId": "4b98f32e-59ba-49d3-97e3-2a021f9a532f",
        "colab": {
          "base_uri": "https://localhost:8080/",
          "height": 50
        }
      },
      "cell_type": "code",
      "source": [
        "mnist_train = pd.read_csv(mnist_train_url)\n",
        "mnist_test = pd.read_csv(mnist_test_url)\n",
        "print(mnist_train.shape)\n",
        "print(mnist_test.shape)"
      ],
      "execution_count": 0,
      "outputs": [
        {
          "output_type": "stream",
          "text": [
            "(42000, 785)\n",
            "(28000, 784)\n"
          ],
          "name": "stdout"
        }
      ]
    },
    {
      "metadata": {
        "id": "qhYePSXbW7S9",
        "colab_type": "code",
        "outputId": "aa2258b3-623b-4264-80c8-336ecafa7eda",
        "colab": {
          "base_uri": "https://localhost:8080/",
          "height": 269
        }
      },
      "cell_type": "code",
      "source": [
        "fourth_digit = mnist_train.iloc[3, 1:].values.reshape(28, 28)\n",
        "plt.imshow(fourth_digit, cmap=\"gray\")\n",
        "plt.show()"
      ],
      "execution_count": 0,
      "outputs": [
        {
          "output_type": "display_data",
          "data": {
            "image/png": "[encoded data removed]",
            "text/plain": [
              "<Figure size 432x288 with 1 Axes>"
            ]
          },
          "metadata": {
            "tags": []
          }
        }
      ]
    },
    {
      "metadata": {
        "id": "OC926ewEXCmR",
        "colab_type": "code",
        "outputId": "faadabbf-45ee-4c4c-f9f3-83a0a0b6fdd6",
        "colab": {
          "base_uri": "https://localhost:8080/",
          "height": 171
        }
      },
      "cell_type": "code",
      "source": [
        "from sklearn.linear_model import LogisticRegression\n",
        "\n",
        "X_arr = mnist_train.iloc[:1000, 1:].values\n",
        "y_arr = mnist_train.iloc[:1000, 0].values\n",
        "#print(X_arr.shape)\n",
        "#print(y_arr.shape)\n",
        "lr = LogisticRegression()\n",
        "lr.fit(X_arr, y_arr)"
      ],
      "execution_count": 0,
      "outputs": [
        {
          "output_type": "stream",
          "text": [
            "/usr/local/lib/python3.6/dist-packages/sklearn/linear_model/logistic.py:433: FutureWarning: Default solver will be changed to 'lbfgs' in 0.22. Specify a solver to silence this warning.\n",
            "  FutureWarning)\n",
            "/usr/local/lib/python3.6/dist-packages/sklearn/linear_model/logistic.py:460: FutureWarning: Default multi_class will be changed to 'auto' in 0.22. Specify the multi_class option to silence this warning.\n",
            "  \"this warning.\", FutureWarning)\n"
          ],
          "name": "stderr"
        },
        {
          "output_type": "execute_result",
          "data": {
            "text/plain": [
              "LogisticRegression(C=1.0, class_weight=None, dual=False, fit_intercept=True,\n",
              "          intercept_scaling=1, max_iter=100, multi_class='warn',\n",
              "          n_jobs=None, penalty='l2', random_state=None, solver='warn',\n",
              "          tol=0.0001, verbose=0, warm_start=False)"
            ]
          },
          "metadata": {
            "tags": []
          },
          "execution_count": 3
        }
      ]
    },
    {
      "metadata": {
        "id": "NxZVtFSzeqCZ",
        "colab_type": "code",
        "colab": {}
      },
      "cell_type": "code",
      "source": [
        "y_pred = lr.predict(mnist_test.values)"
      ],
      "execution_count": 0,
      "outputs": []
    },
    {
      "metadata": {
        "id": "gvk91xHbe9GH",
        "colab_type": "code",
        "outputId": "e13ef314-7491-4003-97b3-83ff10f5376f",
        "colab": {
          "base_uri": "https://localhost:8080/",
          "height": 34
        }
      },
      "cell_type": "code",
      "source": [
        "print(y_pred[:10])"
      ],
      "execution_count": 0,
      "outputs": [
        {
          "output_type": "stream",
          "text": [
            "[2 0 9 9 2 7 0 3 0 3]\n"
          ],
          "name": "stdout"
        }
      ]
    },
    {
      "metadata": {
        "id": "7Ghb_yhTe-1P",
        "colab_type": "code",
        "outputId": "4840120b-a225-4244-ad88-d62353d2a11a",
        "colab": {
          "base_uri": "https://localhost:8080/",
          "height": 302
        }
      },
      "cell_type": "code",
      "source": [
        "titanic_train = pd.read_csv(titanic_train_url)\n",
        "titanic_test = pd.read_csv(titanic_test_url)\n",
        "titanic_train.info()"
      ],
      "execution_count": 0,
      "outputs": [
        {
          "output_type": "stream",
          "text": [
            "<class 'pandas.core.frame.DataFrame'>\n",
            "RangeIndex: 891 entries, 0 to 890\n",
            "Data columns (total 12 columns):\n",
            "PassengerId    891 non-null int64\n",
            "Survived       891 non-null int64\n",
            "Pclass         891 non-null int64\n",
            "Name           891 non-null object\n",
            "Sex            891 non-null object\n",
            "Age            714 non-null float64\n",
            "SibSp          891 non-null int64\n",
            "Parch          891 non-null int64\n",
            "Ticket         891 non-null object\n",
            "Fare           891 non-null float64\n",
            "Cabin          204 non-null object\n",
            "Embarked       889 non-null object\n",
            "dtypes: float64(2), int64(5), object(5)\n",
            "memory usage: 83.6+ KB\n"
          ],
          "name": "stdout"
        }
      ]
    },
    {
      "metadata": {
        "id": "xbRskKjkgZui",
        "colab_type": "code",
        "outputId": "f11a3356-6f57-47f9-e67b-2402a4cfb87c",
        "colab": {
          "base_uri": "https://localhost:8080/",
          "height": 286
        }
      },
      "cell_type": "code",
      "source": [
        "titanic_test.info()"
      ],
      "execution_count": 0,
      "outputs": [
        {
          "output_type": "stream",
          "text": [
            "<class 'pandas.core.frame.DataFrame'>\n",
            "RangeIndex: 418 entries, 0 to 417\n",
            "Data columns (total 11 columns):\n",
            "PassengerId    418 non-null int64\n",
            "Pclass         418 non-null int64\n",
            "Name           418 non-null object\n",
            "Sex            418 non-null object\n",
            "Age            332 non-null float64\n",
            "SibSp          418 non-null int64\n",
            "Parch          418 non-null int64\n",
            "Ticket         418 non-null object\n",
            "Fare           417 non-null float64\n",
            "Cabin          91 non-null object\n",
            "Embarked       418 non-null object\n",
            "dtypes: float64(2), int64(4), object(5)\n",
            "memory usage: 36.0+ KB\n"
          ],
          "name": "stdout"
        }
      ]
    },
    {
      "metadata": {
        "id": "yoSgsV_ZfiEZ",
        "colab_type": "code",
        "outputId": "7d61f392-f0cd-4518-f0b9-1133cc16719e",
        "colab": {
          "base_uri": "https://localhost:8080/",
          "height": 306
        }
      },
      "cell_type": "code",
      "source": [
        "from sklearn.svm import SVC\n",
        "\n",
        "X_arr = titanic_train.loc[:, \"Pclass\"].values.reshape(-1, 1)\n",
        "y_arr = titanic_train.loc[:, \"Survived\"].values.reshape(-1, 1)\n",
        "svc = SVC()\n",
        "svc.fit(X_arr, y_arr)\n",
        "y_pred = svc.predict(titanic_test[\"Pclass\"].values.reshape(-1, 1))\n",
        "print(y_pred)"
      ],
      "execution_count": 0,
      "outputs": [
        {
          "output_type": "stream",
          "text": [
            "[0 0 0 0 0 0 0 0 0 0 0 1 1 0 1 0 0 0 0 0 1 0 1 1 1 0 1 0 1 0 0 0 0 0 1 0 0\n",
            " 0 0 0 0 1 0 0 1 0 1 0 1 0 1 0 0 1 0 0 0 0 0 1 0 0 0 0 1 0 0 1 1 1 0 0 0 1\n",
            " 1 1 0 1 0 0 0 1 1 0 0 0 0 0 0 0 0 0 1 0 1 0 1 0 0 0 1 0 0 0 0 0 0 0 0 0 0\n",
            " 0 1 0 1 0 0 0 1 0 0 0 1 0 0 0 0 0 0 0 0 1 0 0 0 0 0 0 0 0 0 1 1 0 1 0 1 0\n",
            " 1 0 1 0 0 0 0 0 1 0 1 0 0 0 0 0 0 0 1 0 1 0 0 0 0 0 0 0 0 1 0 1 0 1 1 0 1\n",
            " 0 0 0 0 0 0 1 0 0 0 0 1 0 0 0 0 0 1 0 0 1 0 0 1 0 0 0 0 0 0 1 0 1 1 0 0 0\n",
            " 0 0 1 0 0 0 0 0 0 1 0 0 1 0 1 0 0 1 1 0 1 0 0 1 0 0 0 0 0 0 1 0 0 0 0 0 0\n",
            " 0 0 0 0 0 0 0 1 0 0 0 1 0 1 0 0 0 0 0 0 0 0 0 0 0 0 0 0 1 0 0 1 0 0 1 0 0\n",
            " 0 0 1 0 0 0 0 0 0 1 1 0 1 0 0 0 0 0 1 0 1 0 0 0 0 0 0 1 1 0 0 1 0 0 0 1 0\n",
            " 0 0 1 0 0 0 0 0 0 0 1 0 0 0 0 0 0 1 0 0 0 0 1 1 0 0 0 0 0 0 0 1 0 0 0 1 0\n",
            " 0 1 1 0 1 1 0 0 1 0 0 0 0 0 0 0 0 0 0 0 1 1 0 0 0 1 0 1 0 0 1 0 1 1 1 0 0\n",
            " 1 0 0 0 1 0 0 1 0 0 0]\n"
          ],
          "name": "stdout"
        },
        {
          "output_type": "stream",
          "text": [
            "/usr/local/lib/python3.6/dist-packages/sklearn/utils/validation.py:761: DataConversionWarning: A column-vector y was passed when a 1d array was expected. Please change the shape of y to (n_samples, ), for example using ravel().\n",
            "  y = column_or_1d(y, warn=True)\n",
            "/usr/local/lib/python3.6/dist-packages/sklearn/svm/base.py:196: FutureWarning: The default value of gamma will change from 'auto' to 'scale' in version 0.22 to account better for unscaled features. Set gamma explicitly to 'auto' or 'scale' to avoid this warning.\n",
            "  \"avoid this warning.\", FutureWarning)\n"
          ],
          "name": "stderr"
        }
      ]
    },
    {
      "metadata": {
        "id": "3_tyJUGvgkSa",
        "colab_type": "code",
        "colab": {}
      },
      "cell_type": "code",
      "source": [
        ""
      ],
      "execution_count": 0,
      "outputs": []
    }
  ]
}