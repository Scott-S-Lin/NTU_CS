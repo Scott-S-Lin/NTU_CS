{
  "nbformat": 4,
  "nbformat_minor": 0,
  "metadata": {
    "colab": {
      "name": "Scott_pyds309.ipynb",
      "version": "0.3.2",
      "provenance": [],
      "collapsed_sections": [],
      "toc_visible": true
    },
    "kernelspec": {
      "name": "python3",
      "display_name": "Python 3"
    }
  },
  "cells": [
    {
      "metadata": {
        "id": "32dX2FhkJBeU",
        "colab_type": "code",
        "colab": {}
      },
      "cell_type": "code",
      "source": [
        "# pchome data json\n",
        "import requests # from requests import get\n",
        "\n",
        "pchome_data_url = \"https://ecshweb.pchome.com.tw/search/v3.3/all/results?q=macbook)&page=1&sort=sale/dc\"\n",
        "response = requests.get(pchome_data_url)"
      ],
      "execution_count": 0,
      "outputs": []
    },
    {
      "metadata": {
        "id": "4x2mQtHQYjPA",
        "colab_type": "text"
      },
      "cell_type": "markdown",
      "source": [
        "# 新段落"
      ]
    },
    {
      "metadata": {
        "id": "oZP9hYn7KvVW",
        "colab_type": "code",
        "outputId": "b9764655-5e9f-475c-b496-1c0f76440041",
        "colab": {
          "base_uri": "https://localhost:8080/",
          "height": 122
        }
      },
      "cell_type": "code",
      "source": [
        "json_str = response.text\n",
        "json_dict = response.json()\n",
        "print(type(json_str))\n",
        "print(type(json_dict))\n",
        "print(json_str)\n",
        "print(len(json_str))\n",
        "print(json_dict)\n",
        "json_dict.keys()\n",
        "\n"
      ],
      "execution_count": 0,
      "outputs": [
        {
          "output_type": "stream",
          "text": [
            "<class 'str'>\n",
            "<class 'dict'>\n",
            "{\"QTime\":64,\"totalRows\":13413,\"totalPage\":100,\"range\":{\"min\":\"\",\"max\":\"\"},\"cateName\":\"\",\"q\":\"macbook)\",\"subq\":\"\",\"token\":[\"macbook\"],\"prods\":[{\"Id\":\"DYAJBL-A90097XCB\",\"cateId\":\"DYAJBG\",\"picS\":\"\\/items\\/DYAJBLA90097XCB\\/000002_1544666864.jpg\",\"picB\":\"\\/items\\/DYAJBLA90097XCB\\/000001_1548381756.jpg\",\"name\":\"MacBook Air 13-inch: 1.8GHz dual-core Intel Core i5, 128GB (MQD32TA\\/A)\",\"describe\":\"2017 MacBook Air 13\\u7b2c\\u4e94\\u4ee3 i5 \\/ 8GB \\/ 128GB \\/ 1.8GHz dual\\\\r\\\\n\\u9650\\u6642\\u512a\\u60e0\\u2605\\u7acb\\u5373\\u77013\\u5343\\u81f31 31(\\u56db)10:00\\u6b62 \\r\\n\\u6578\\u91cf\\u6709\\u9650\\uff0c\\u552e\\u5b8c\\u70ba\\u6b62\\r\\n\\u7db2\\u8def\\u50f9$31900\\uff0e\\u9650\\u6642\\u50f9\\u2198$\\uff12\\uff18\\uff19\\uff10\\uff10\\r\\n\\r\\n\\u25cf intel core  i5 \\u8655\\u7406\\u5668\\r\\n\\u25cf intel hd graphics 6000\\r\\n\\u25cf ssd \\u5132\\u5b58\\u88dd\\u7f6e\\r\\n\\u25cf \\u9577\\u9054 12 \\u5c0f\\u6642\\u96fb\\u6c60\\u7e8c\\u822a\\u529b\\r\\n\\u25cf 802.11 ac wi-fi\\r\\n\\u25cf multi - touch \\u89f8\\u63a7\\u5f0f\\u8ecc\\u8de1\\u677f\\r\\n\\u25cf \\u6700\\u9577\\u53ef\\u9054 30 \\u5929\\u5f85\\u6a5f\\u6642\\u9593\\r\\n\\u25cf \\u7bc0\\u80fd\\u4f4e\\u8017\\u53c8\\u517c\\u5177\\u9ad8\\u6548\\u80fd\\u7684\\u8a2d\\u8a08\\r\\n\\r\\n\\u6ce8\\u610f\\u4e8b\\u9805\",\"price\":28900,\"originPrice\":28900,\"author\":\"\",\"brand\":\"\",\"publishDate\":\"\",\"sellerId\":\"\",\"isPChome\":1,\"isNC17\":0,\"couponActid\":[],\"BU\":\"ec\"},{\"Id\":\"DYAJBL-19009QDO2\",\"cateId\":\"DYAJBL\",\"picS\":\"\\/items\\/DYAJBL19009QDO2\\/000002_1548381532.jpg\",\"picB\":\"\\/items\\/DYAJBL19009QDO2\\/000001_1548381532.jpg\",\"name\":\"MacBook Air 13: 1.6GHz dual-core Intel Core i5, 128GB - Space Grey\",\"describe\":\"MacBook Air 13 \\u7070\\u8272\\u7b2c\\u516b\\u4ee3 i5 \\/ 8GB \\/ 128GB \\/ 1.6GHz\\\\r\\\\n\\u300a\\u964d3\\u5343\\u512a\\u60e0\\u26052018\\u65b0\\u6b3e\\u300b \\r\\n\\u7db2\\u8def\\u50f9$39900\\uff0e\\r\\n\\u9650\\u6642\\u50f9\\u2198$\\uff13\\uff16\\uff19\\uff10\\uff10\\r\\n\\r\\n\\u25cf touch id\\r\\n\\u25cf \\u96d9\\u6838\\u5fc3\\u7b2c\\u516b\\u4ee3 intel core i5 \\u8655\\u7406\\u5668\\r\\n\\u25cf intel uhd graphics 617\\r\\n\\u25cf \\u5feb\\u901f\\u7684 ssd \\u5132\\u5b58\\u88dd\\u7f6e\\r\\n\\u25cf 8gb \\u8a18\\u61b6\\u9ad4\\r\\n\\u25cf \\u7acb\\u9ad4\\u8072\\u63da\\u8072\\u5668\\u5177\\u5099\\u66f4\\u5bec\\u5ee3\\u7684\\u7acb\\u9ad4\\u8072\\r\\n\\u25cf \\u5169\\u500b thunderbolt 3 (usb-c) \\u57e0\\r\\n\\u25cf \\u9577\\u9054 12 \\u5c0f\\u6642\\u96fb\\u6c60\\u7e8c\\u822a\\u529b\\r\\n\\u25cf 802.11ac wi-fi\\r\\n\\r\\n\\u6ce8\\u610f\\u4e8b\\u9805\",\"price\":36900,\"originPrice\":36900,\"author\":\"\",\"brand\":\"\",\"publishDate\":\"\",\"sellerId\":\"\",\"isPChome\":1,\"isNC17\":0,\"couponActid\":[],\"BU\":\"ec\"},{\"Id\":\"DYAJBL-19009QCP8\",\"cateId\":\"DYAJBL\",\"picS\":\"\\/items\\/DYAJBL19009QCP8\\/000002_1548641503.jpg\",\"picB\":\"\\/items\\/DYAJBL19009QCP8\\/000001_1548641503.jpg\",\"name\":\"MacBook Air 13: 1.6GHz dual-core Intel Core i5, 128GB - Space Grey\",\"describe\":\"MacBook Air 13 \\u7070\\u8272\\u7b2c\\u516b\\u4ee3 i5 \\/ 8GB \\/ 128GB \\/ 1.6GHz\\\\r\\\\n\\u300a\\u2605\\u518d\\u8d08\\u8d85\\u503c\\u597d\\u79ae\\u7d44\\u300b\\r\\n\\r\\n\\u25cf touch id\\r\\n\\u25cf \\u96d9\\u6838\\u5fc3\\u7b2c\\u516b\\u4ee3 intel core i5 \\u8655\\u7406\\u5668\\r\\n\\u25cf intel uhd graphics 617\\r\\n\\u25cf \\u5feb\\u901f\\u7684 ssd \\u5132\\u5b58\\u88dd\\u7f6e\\r\\n\\u25cf 8gb \\u8a18\\u61b6\\u9ad4\\r\\n\\u25cf \\u7acb\\u9ad4\\u8072\\u63da\\u8072\\u5668\\u5177\\u5099\\u66f4\\u5bec\\u5ee3\\u7684\\u7acb\\u9ad4\\u8072\\r\\n\\u25cf \\u5169\\u500b thunderbolt 3 (usb-c) \\u57e0\\r\\n\\u25cf \\u9577\\u9054 12 \\u5c0f\\u6642\\u96fb\\u6c60\\u7e8c\\u822a\\u529b\\r\\n\\u25cf 802.11ac wi-fi\\r\\n\\r\\n\\u6ce8\\u610f\\u4e8b\\u9805\",\"price\":39900,\"originPrice\":39900,\"author\":\"\",\"brand\":\"\",\"publishDate\":\"\",\"sellerId\":\"\",\"isPChome\":1,\"isNC17\":0,\"couponActid\":[],\"BU\":\"ec\"},{\"Id\":\"DCADHZ-A9008WQYY\",\"cateId\":\"DCADMP\",\"picS\":\"\\/items\\/DCADHZA9008WQYY\\/000002_1544163763.jpg\",\"picB\":\"\\/items\\/DCADHZA9008WQYY\\/000001_1548208201.jpg\",\"name\":\"New MacBook Pro hub Type-C\\u8f49USB\\u8f49\\u63a5\\u5668mac\\u8f49\\u63db\\u982d \\u591a\\u529f\\u80fd\\u5145\\u96fb\\u96c6\\u7dda\\u5668-T8\",\"describe\":\"WIWU type-c\\u8f49USB \\u8f49\\u63db\\u5668USB 3.1 Type-C HDMI 7 port \\u591a\\u529f\\u80fd\\u96c6\\u7dda\\u5668\\u3010\\u9280\\u8272\\u3011\\u25bc\\u65b0\\u6b3e\\u5c08\\u7528 \\u96d9\\u4ecb\\u9762\\u25bc\\\\r\\\\n\\u2606\\u4e03\\u5408\\u4e00\\u591a\\u529f\\u80fd\\u8f49\\u63a5\\u5668\\u2606\\r\\n\\r\\n\\u25bcnew macbook\\u7684\\u6700\\u4f73\\u642d\\u6a94\\u25bc\\r\\n\\u25c6 \\u4e00\\u7269\\u591a\\u7528\\uff0c\\u9023\\u63a5\\u591a\\u7a2e\\u8a2d\\u5099\\r\\n\\u25c6 typec\\u63a5\\u53e3\\u8a2d\\u8a08\\uff0c\\u53ef\\u96d9\\u5411\\u5145\\u96fb\\u3001\\u50b3\\u8f38\\r\\n\\u25c6 \\u652f\\u63f4\\u5feb\\u5145\\u6280\\u8853\\uff0c\\u8fa6\\u516c\\u5fc5\\u5099\\u7684mac\\u642d\\u6a94\\r\\n\\u25c6 type-c\\u5145\\u96fb\\uff0c\\u908a\\u5145\\u908a\\u73a9\\u4e0d\\u6389\\u96fb\\r\\n\\u25c6 \\u652f\\u63f4 4k hdmi\\u8f49\\u63a5\\u3001sd\\u8b80\\u5361\\u6a5f\\r\\n\\u25c6 \\u56db\\u91cd\\u4fdd\\u8b77\\uff0c\\u8b93\\u60a8\\u4f7f\\u7528\\u8d77\\u4f86\\u66f4\\u653e\\u5fc3\\r\\n\\u25c6 \\u52a0\\u78bc\\u8d08\\u9001\\u7279\\u88fd\\u6536\\u7d0d\\u5305\\uff0c\\u65b9\\u4fbf\\u651c\\u5e36\\u4e0d\\u6613\\u522e\\u50b7\\u7b46\\u96fb\\r\\n\\u25c6 macbook pro\\u65b0\\u6b3e\\u5c08\\u7528\\r\\n\\r\\n\\u25bc\\u6ce8\\u610f\\u4e8b\\u9805\\u25bc\\uff1a\\r\\n\\u2605 \\u8cfc\\u8cb7\\u6642\\u8acb\\u6ce8\\u610f\\uff0c\\u6b64\\u6b3e\\u7522\\u54c1\\u70bamacbook\\u5c08\\u7528\\u7684\\uff0c\\u5176\\u4ed6\\u54c1\\u724c\\u7684\\u7b46\\u96fb\\u6709\\u4e00\\u4e9b\\u662f\\u4e0d\\u80fd\\u652f\\u63f4\\u4f7f\\u7528\\u7684\\r\\n\\u2605 \\u63d0\\u9192\\u82e5macbook pro\\u50c5\\u55ae\\u908a\\u4e00\\u500busb-c\\u57e0\\uff0c\\u4e0d\\u5efa\\u8b70\\u8cfc\\u8cb7\\u6b64\\u914d\\u4ef6 \\r\\n\\r\\n\\u2605\\u5176\\u4ed6\\u984f\\u8272\\u53ef\\u9078\\u64c7\\u2605 \\r\\n\\u25ba\\u25ba\\u9226\\u91d1\\u7070\",\"price\":1790,\"originPrice\":1790,\"author\":\"\",\"brand\":\"\",\"publishDate\":\"\",\"sellerId\":\"\",\"isPChome\":1,\"isNC17\":0,\"couponActid\":[],\"BU\":\"ec\"},{\"Id\":\"DYAJBD-19009C3MU\",\"cateId\":\"DYAJBD\",\"picS\":\"\\/items\\/DYAJBD19009C3MU\\/000002_1544580264.jpg\",\"picB\":\"\\/items\\/DYAJBD19009C3MU\\/000001_1545188587.jpg\",\"name\":\"MacBook Pro 13-inch : 2.3GHz dual-core i5, 256GB - Space Grey (MPXT2TA\\/A)\",\"describe\":\"MacBook Pro 13 \\u7070\\u8272\\u7b2c\\u4e03\\u4ee3 i5 \\/ 8GB \\/ 256GB \\/ 2.3GHz\\\\r\\\\n\\u300a\\u7acb\\u5373\\u77013\\u5343\\u2605\\u518d\\u8d08\\u597d\\u79ae\\u300b \\r\\n\\u7db2\\u8def\\u50f9$47900\\uff0e\\r\\n\\u9650\\u6642\\u50f9\\u2198$\\uff14\\uff14\\uff19\\uff10\\uff10\\r\\n\\r\\n\\u2605\\u6b64\\u6a5f\\u578b\\u7121\\u89f8\\u63a7\\u5217\\u548ctouch id \\r\\n\\r\\n\\u5546\\u54c1\\u7279\\u8272\\r\\n\\u25cf 2.3 ghz \\u8655\\u7406\\u5668 \\r\\n\\u25cf 256 gb \\u5132\\u5b58\\u7a7a\\u9593\\r\\n\\u25cf 2.3 ghz \\u96d9\\u6838\\u5fc3\\u7b2c\\u4e03\\u4ee3 intel core i5 \\u8655\\u7406\\u5668\\r\\n\\u25cf turbo boost \\u53ef\\u9054 3.6 ghz\\r\\n\\u25cf 8 gb 2133 mhz lpddr 3 \\u8a18\\u61b6\\u9ad4\\r\\n\\u25cf 256 gb ssd \\u5132\\u5b58\\u88dd\\u7f6e\\r\\n\\u25cf intel iris plus graphics 640\\r\\n\\u25cf \\u5169\\u500b thunderbolt 3 \\u57e0\\r\\n\\r\\n\\u6ce8\\u610f\\u4e8b\\u9805\",\"price\":44900,\"originPrice\":44900,\"author\":\"\",\"brand\":\"\",\"publishDate\":\"\",\"sellerId\":\"\",\"isPChome\":1,\"isNC17\":0,\"couponActid\":[],\"BU\":\"ec\"},{\"Id\":\"DYAJBD-19009C7V3\",\"cateId\":\"DYAJBD\",\"picS\":\"\\/items\\/DYAJBD19009C7V3\\/000002_1546396003.jpg\",\"picB\":\"\\/items\\/DYAJBD19009C7V3\\/000001_1548384189.jpg\",\"name\":\"MacBook Pro 13-inch : 2.3GHz dual-core i5, 128GB - Space Grey (MPXQ2TA\\/A)\",\"describe\":\"MacBook Pro 13 \\u7070\\u8272 \\u7b2c\\u4e03\\u4ee3 i5 \\/ 8GB \\/ 128GB \\/ 2.3GHz\\\\r\\\\n\\u300a\\u7acb\\u5373\\u77013\\u5343\\u2605\\u518d\\u8d08\\u597d\\u79ae\\u300b \\r\\n\\u7db2\\u8def\\u50f9$41900\\uff0e\\r\\n\\u9650\\u6642\\u50f9\\u2198$\\uff13\\uff18\\uff19\\uff10\\uff10\\r\\n\\r\\n\\u2605\\u6b64\\u6a5f\\u578b\\u7121\\u89f8\\u63a7\\u5217\\u548ctouch id \\r\\n\\r\\n\\u5546\\u54c1\\u7279\\u8272\\r\\n\\u25cf 2.3 ghz \\u8655\\u7406\\u5668 \\r\\n\\u25cf 128 gb \\u5132\\u5b58\\u7a7a\\u9593\\r\\n\\u25cf 2.3 ghz \\u96d9\\u6838\\u5fc3\\u7b2c\\u4e03\\u4ee3 intel core i5 \\u8655\\u7406\\u5668\\r\\n\\u25cf turbo boost \\u53ef\\u9054 3.6 ghz\\r\\n\\u25cf 8 gb 2133 mhz lpddr 3 \\u8a18\\u61b6\\u9ad4\\r\\n\\u25cf 128 gb ssd \\u5132\\u5b58\\u88dd\\u7f6e\\r\\n\\u25cf intel iris plus graphics 640\\r\\n\\u25cf \\u5169\\u500b thunderbolt 3 \\u57e0\\r\\n\\r\\n\\u6ce8\\u610f\\u4e8b\\u9805\",\"price\":38900,\"originPrice\":38900,\"author\":\"\",\"brand\":\"\",\"publishDate\":\"\",\"sellerId\":\"\",\"isPChome\":1,\"isNC17\":0,\"couponActid\":[],\"BU\":\"ec\"},{\"Id\":\"DYAJBL-19009QDOJ\",\"cateId\":\"DYAJBL\",\"picS\":\"\\/items\\/DYAJBL19009QDOJ\\/000002_1547445073.jpg\",\"picB\":\"\\/items\\/DYAJBL19009QDOJ\\/000001_1547445073.jpg\",\"name\":\"MacBook Air 13: 1.6GHz dual-core Intel Core i5, 256GB - Space Grey\",\"describe\":\"MacBook Air 13 \\u7070\\u8272\\u7b2c\\u516b\\u4ee3 i5 \\/ 8GB \\/ 256GB \\/ 1.6GHz\\\\r\\\\n\\u300a\\u964d3\\u5343\\u512a\\u60e0\\u26052018\\u65b0\\u6b3e\\u300b \\r\\n\\u7db2\\u8def\\u50f9$45900\\uff0e\\r\\n\\u9650\\u6642\\u50f9\\u2198$\\uff14\\uff12\\uff19\\uff10\\uff10\\r\\n\\r\\n\\u25cf touch id\\r\\n\\u25cf \\u96d9\\u6838\\u5fc3\\u7b2c\\u516b\\u4ee3 intel core i5 \\u8655\\u7406\\u5668\\r\\n\\u25cf intel uhd graphics 617\\r\\n\\u25cf \\u5feb\\u901f\\u7684 ssd \\u5132\\u5b58\\u88dd\\u7f6e\\r\\n\\u25cf 8gb \\u8a18\\u61b6\\u9ad4\\r\\n\\u25cf \\u7acb\\u9ad4\\u8072\\u63da\\u8072\\u5668\\u5177\\u5099\\u66f4\\u5bec\\u5ee3\\u7684\\u7acb\\u9ad4\\u8072\\r\\n\\u25cf \\u5169\\u500b thunderbolt 3 (usb-c) \\u57e0\\r\\n\\u25cf \\u9577\\u9054 12 \\u5c0f\\u6642\\u96fb\\u6c60\\u7e8c\\u822a\\u529b\\r\\n\\u25cf 802.11ac wi-fi\\r\\n\\r\\n\\u6ce8\\u610f\\u4e8b\\u9805\",\"price\":42900,\"originPrice\":42900,\"author\":\"\",\"brand\":\"\",\"publishDate\":\"\",\"sellerId\":\"\",\"isPChome\":1,\"isNC17\":0,\"couponActid\":[],\"BU\":\"ec\"},{\"Id\":\"DYAJBL-19009QDOL\",\"cateId\":\"DYAJBL\",\"picS\":\"\\/items\\/DYAJBL19009QDOL\\/000002_1547445108.jpg\",\"picB\":\"\\/items\\/DYAJBL19009QDOL\\/000001_1547445108.jpg\",\"name\":\"MacBook Air 13: 1.6GHz dual-core Intel Core i5, 128GB - Gold\",\"describe\":\"MacBook Air 13 \\u91d1\\u8272\\u7b2c\\u516b\\u4ee3 i5 \\/ 8GB \\/ 128GB \\/ 1.6GHz\\\\r\\\\n\\u300a\\u964d3\\u5343\\u512a\\u60e0\\u26052018\\u65b0\\u6b3e\\u300b \\r\\n\\u7db2\\u8def\\u50f9$39900\\uff0e\\r\\n\\u9650\\u6642\\u50f9\\u2198$\\uff13\\uff16\\uff19\\uff10\\uff10\\r\\n\\r\\n\\u25cf touch id\\r\\n\\u25cf \\u96d9\\u6838\\u5fc3\\u7b2c\\u516b\\u4ee3 intel core i5 \\u8655\\u7406\\u5668\\r\\n\\u25cf intel uhd graphics 617\\r\\n\\u25cf \\u5feb\\u901f\\u7684 ssd \\u5132\\u5b58\\u88dd\\u7f6e\\r\\n\\u25cf 8gb \\u8a18\\u61b6\\u9ad4\\r\\n\\u25cf \\u7acb\\u9ad4\\u8072\\u63da\\u8072\\u5668\\u5177\\u5099\\u66f4\\u5bec\\u5ee3\\u7684\\u7acb\\u9ad4\\u8072\\r\\n\\u25cf \\u5169\\u500b thunderbolt 3 (usb-c) \\u57e0\\r\\n\\u25cf \\u9577\\u9054 12 \\u5c0f\\u6642\\u96fb\\u6c60\\u7e8c\\u822a\\u529b\\r\\n\\u25cf 802.11ac wi-fi\\r\\n\\r\\n\\u6ce8\\u610f\\u4e8b\\u9805\",\"price\":36900,\"originPrice\":36900,\"author\":\"\",\"brand\":\"\",\"publishDate\":\"\",\"sellerId\":\"\",\"isPChome\":1,\"isNC17\":0,\"couponActid\":[],\"BU\":\"ec\"},{\"Id\":\"DCADHZ-A9008CTGG\",\"cateId\":\"DCADLA\",\"picS\":\"\\/items\\/DCADHZA9008CTGG\\/000002_1541407853.jpg\",\"picB\":\"\\/items\\/DCADHZA9008CTGG\\/000001_1503307976.jpg\",\"name\":\"innowatt DOCK Pro+ Thunderbolt Type-C Hub for MacBook Pro \\u591a\\u529f\\u80fd\\u5145\\u96fb\\u50b3\\u8f38\\u96c6\\u7dda\\u5668\",\"describe\":\"innowatt THE DOCK Pro+ \\u4e03\\u5408\\u4e00\\u591a\\u529f\\u80fd\\u5145\\u96fb\\u50b3\\u8f38\\u96c6\\u7dda\\u5668 for MacBook Pro with Thunderbolt 3 & HDMI (\\u578b\\u865fiW71)\\\\r\\\\n1.\\u9069\\u7528macbook pro 2016~2019\\u5168\\u7cfb\\u5217\\r\\n2.\\u591a\\u529f\\u80fd\\u96c6\\u7dda\\u5668\\u9ad8\\u968ethunderbolt 3\\u7248\\u672c (iw71)\\r\\n3.\\u7121\\u7dda\\u6536\\u7d0d\\u8d85easy\\uff0c\\u8f15\\u8584\\u77ed\\u5c0f\\u653epocket \\r\\n4.\\u96d9type-c\\u516c\\u982d\\u4e14\\u6b63\\u53cd\\u7686\\u53ef\\u7528\\u7684hub \\r\\n5.usb-c1\\u5177thunderbolt 3 (40gb\\uff09\\u50b3\\u8f38\\u898f\\u683c \\r\\n6.usb-c1\\u6bcd\\u5ea7\\u53ef\\u652f\\u63f4pd\\u5145\\u96fb 5k video\\u8f38\\u51fa \\u96d9\\u5c4f4k\\u8f38\\u51fa \\r\\n7.usb-c2\\u6bcd\\u5ea7\\u53ef\\u652f\\u63f4\\u8cc7\\u6599\\u9ad8\\u901f\\u50b3\\u8f385gb s\\r\\n8.\\u5177\\u5099hdmi 1080p@60hz & 4k@30hz\\r\\n\\r\\n\\u2605\\u82e5\\u672c\\u5340\\u5eab\\u5b58\\u92b7\\u552e\\u4e00\\u7a7a\\uff0c\\u8acb\\u81f3\\u4e0b\\u5217\\u539f\\u5ee0\\u8207pchome\\u5408\\u4f5c\\u7684\\u53e6\\u4e00\\u9023\\u7d50\\u63a1\\u8cfc\\uff0c\\u53ef\\u7372\\u8d08\\u5c08\\u5c6cmacbook pro\\u4fdd\\u8b77\\u6bbc\\r\\n\\u2192\\u300adock pro+ \\u8d08\\u5c08\\u5c6c\\u5ba2\\u88fdmacbook pro\\u4fdd\\u8b77\\u6bbc\\u300b\\r\\n\\r\\n\\u2605\\u672c\\u5c08\\u5340\\u8d08\\u9001\\u597d\\u79ae \\u542b\\u76ae\\u5957 iphone\\u50b3\\u8f38\\u7dda\\u7b49\\r\\n\\r\\n\\u25bcinnowatt\\u71b1\\u92b7\\u63a8\\u85a6 \\r\\n\\u300adock net thunderbolt  usb 3.1\\u591a\\u529f\\u80fd\\u5145\\u96fb\\u50b3\\u8f38\\u96c6\\u7dda\\u5668\\u300b\\r\\n\\u300athe dock s type-c hdmi usb \\u591a\\u529f\\u80fd\\u5145\\u96fb\\u50b3\\u8f38\\u96c6\\u7dda\\u5668\\u300b\\r\\n\\u300adock pro thunderbolt  usb 3.1\\u591a\\u529f\\u80fd\\u5145\\u96fb\\u50b3\\u8f38\\u96c6\\u7dda\\u5668\\u300b\\r\\n\\u300adock dock mini  usb 3.1\\u591a\\u529f\\u80fd\\u5145\\u96fb\\u50b3\\u8f38\\u96c6\\u7dda\\u5668\\u7070\\u8272\\u300b\\r\\n\\u300adock dock mini  usb 3.1\\u591a\\u529f\\u80fd\\u5145\\u96fb\\u50b3\\u8f38\\u96c6\\u7dda\\u5668\\u9280\\u8272\\u300b\\r\\n\\u300aapple macbook pro\\u5c08\\u7528\\u8d85\\u8584\\u9ad8\\u900f\\u9375\\u76e4\\u4fdd\\u8b77\\u819c\\u300b\\r\\n\\u300a\\u87a2\\u5e55\\u9632\\u7aba\\u7247macbook retina12\\u540b\\u300b\\r\\n\\u300a\\u87a2\\u5e55\\u9632\\u7aba\\u7247macbook retina13\\u540b\\u300b\\r\\n\\u300amfi\\u860b\\u679c\\u8a8d\\u8b49 270cm\\u5145\\u96fb\\u50b3\\u8f38\\u7dda\\u300b\\r\\n\\u300atough\\u7dda (1\\u7c73 \\u73ab\\u7470\\u91d1\\uff09\\u300b\\r\\n\\u300atough\\u7dda (1\\u7c73 \\u91d1\\uff09\\u300b\\r\\n\\u300ainnowatt the yoga \\u512a\\u67b6(l) \\u7b46\\u96fb\\u652f\\u67b6\\u300b\",\"price\":2290,\"originPrice\":2290,\"author\":\"\",\"brand\":\"\",\"publishDate\":\"\",\"sellerId\":\"\",\"isPChome\":1,\"isNC17\":0,\"couponActid\":[],\"BU\":\"ec\"},{\"Id\":\"DYAJCS-19009FXVG\",\"cateId\":\"DYAJCS\",\"picS\":\"\\/items\\/DYAJCS19009FXVG\\/000002_1548036822.jpg\",\"picB\":\"\\/items\\/DYAJCS19009FXVG\\/000001_1548036822.jpg\",\"name\":\"MacBook Pro13 Touch Bar: 2.3GHz quad-core 8th- Intel Core i5 , 256GB - Space Grey\",\"describe\":\"MacBook Pro13 \\u7070\\u8272\\u7b2c\\u516b\\u4ee3 i5 \\/ 8GB \\/ 256GB \\/ 2.3GHz\\\\r\\\\n\\u300a\\u964d3\\u5343\\u512a\\u60e0\\u2605\\u518d\\u8d08\\u597d\\u79ae\\u300b \\r\\n\\u7db2\\u8def\\u50f9$57900\\uff0e\\r\\n\\u9650\\u6642\\u50f9\\u2198$\\uff15\\uff14\\uff19\\uff10\\uff10\\r\\n\\r\\n\\u5546\\u54c1\\u7279\\u8272\\r\\n\\u2022 4 \\u6838\\u5fc3 intel core i5 \\u8655\\u7406\\u5668\\r\\n\\u2022 \\u5177\\u5099\\u539f\\u5f69\\u986f\\u793a\\u6280\\u8853\\u7684\\u4eae\\u9e97 retina \\u986f\\u793a\\u5668\\r\\n\\u2022 \\u89f8\\u63a7\\u5217\\u548c touch id\\r\\n\\u2022 intel iris plus graphics 655\\r\\n\\u2022 \\u8d85\\u5feb\\u901f ssd\\r\\n\\u2022 \\u56db\\u500b thunderbolt 3 (usb-c) \\u57e0\\r\\n\\u2022 \\u9577\\u9054 10 \\u5c0f\\u6642\\u96fb\\u6c60\\u7e8c\\u822a\\u529b2\\r\\n\\u2022 802.11ac wi-fi\\r\\n\\u2022 \\u529b\\u5ea6\\u89f8\\u63a7\\u677f\\r\\n\\r\\n\\u6ce8\\u610f\\u4e8b\\u9805\",\"price\":54900,\"originPrice\":54900,\"author\":\"\",\"brand\":\"\",\"publishDate\":\"\",\"sellerId\":\"\",\"isPChome\":1,\"isNC17\":0,\"couponActid\":[],\"BU\":\"ec\"},{\"Id\":\"DYAJCS-19009FXWV\",\"cateId\":\"DYAJCS\",\"picS\":\"\\/items\\/DYAJCS19009FXWV\\/000002_1548036804.jpg\",\"picB\":\"\\/items\\/DYAJCS19009FXWV\\/000001_1548036804.jpg\",\"name\":\"MacBook Pro13 Touch Bar: 2.3GHz quad-core 8th- Intel Core i5, 256GB - Silve\",\"describe\":\"MacBook Pro13 \\u9280\\u8272\\u7b2c\\u516b\\u4ee3 i5 \\/ 8GB \\/ 256GB \\/ 2.3GHz\\\\r\\\\n\\u300a\\u964d3\\u5343\\u512a\\u60e0\\u2605\\u518d\\u8d08\\u597d\\u79ae\\u300b \\r\\n\\u7db2\\u8def\\u50f9$57900\\uff0e\\r\\n\\u9650\\u6642\\u50f9\\u2198$\\uff15\\uff14\\uff19\\uff10\\uff10\\r\\n\\r\\n\\u5546\\u54c1\\u7279\\u8272\\r\\n\\u2022 4 \\u6838\\u5fc3 intel core i5 \\u8655\\u7406\\u5668\\r\\n\\u2022 \\u5177\\u5099\\u539f\\u5f69\\u986f\\u793a\\u6280\\u8853\\u7684\\u4eae\\u9e97 retina \\u986f\\u793a\\u5668\\r\\n\\u2022 \\u89f8\\u63a7\\u5217\\u548c touch id\\r\\n\\u2022 intel iris plus graphics 655\\r\\n\\u2022 \\u8d85\\u5feb\\u901f ssd\\r\\n\\u2022 \\u56db\\u500b thunderbolt 3 (usb-c) \\u57e0\\r\\n\\u2022 \\u9577\\u9054 10 \\u5c0f\\u6642\\u96fb\\u6c60\\u7e8c\\u822a\\u529b2\\r\\n\\u2022 802.11ac wi-fi\\r\\n\\u2022 \\u529b\\u5ea6\\u89f8\\u63a7\\u677f\\r\\n\\r\\n\\u6ce8\\u610f\\u4e8b\\u9805\",\"price\":54900,\"originPrice\":54900,\"author\":\"\",\"brand\":\"\",\"publishDate\":\"\",\"sellerId\":\"\",\"isPChome\":1,\"isNC17\":0,\"couponActid\":[],\"BU\":\"ec\"},{\"Id\":\"DYAJBL-19009QDNG\",\"cateId\":\"DYAJBL\",\"picS\":\"\\/items\\/DYAJBL19009QDNG\\/000002_1547445040.jpg\",\"picB\":\"\\/items\\/DYAJBL19009QDNG\\/000001_1547445040.jpg\",\"name\":\"MacBook Air 13: 1.6GHz dual-core Intel Core i5, 256GB - Gold\",\"describe\":\"MacBook Air 13 \\u91d1\\u8272\\u7b2c\\u516b\\u4ee3 i5 \\/ 8GB \\/ 256GB \\/ 1.6GHz\\\\r\\\\n\\u300a\\u964d3\\u5343\\u512a\\u60e0\\u26052018\\u65b0\\u6b3e\\u300b \\r\\n\\u7db2\\u8def\\u50f9$45900\\uff0e\\r\\n\\u9650\\u6642\\u50f9\\u2198$\\uff14\\uff12\\uff19\\uff10\\uff10\\r\\n\\r\\n\\u25cf touch id\\r\\n\\u25cf \\u96d9\\u6838\\u5fc3\\u7b2c\\u516b\\u4ee3 intel core i5 \\u8655\\u7406\\u5668\\r\\n\\u25cf intel uhd graphics 617\\r\\n\\u25cf \\u5feb\\u901f\\u7684 ssd \\u5132\\u5b58\\u88dd\\u7f6e\\r\\n\\u25cf 8gb \\u8a18\\u61b6\\u9ad4\\r\\n\\u25cf \\u7acb\\u9ad4\\u8072\\u63da\\u8072\\u5668\\u5177\\u5099\\u66f4\\u5bec\\u5ee3\\u7684\\u7acb\\u9ad4\\u8072\\r\\n\\u25cf \\u5169\\u500b thunderbolt 3 (usb-c) \\u57e0\\r\\n\\u25cf \\u9577\\u9054 12 \\u5c0f\\u6642\\u96fb\\u6c60\\u7e8c\\u822a\\u529b\\r\\n\\u25cf 802.11ac wi-fi\\r\\n\\r\\n\\u6ce8\\u610f\\u4e8b\\u9805\",\"price\":42900,\"originPrice\":42900,\"author\":\"\",\"brand\":\"\",\"publishDate\":\"\",\"sellerId\":\"\",\"isPChome\":1,\"isNC17\":0,\"couponActid\":[],\"BU\":\"ec\"},{\"Id\":\"DYAJBD-19009C3LV\",\"cateId\":\"DYAJBD\",\"picS\":\"\\/items\\/DYAJBD19009C3LV\\/000002_1545903221.jpg\",\"picB\":\"\\/items\\/DYAJBD19009C3LV\\/000001_1545903221.jpg\",\"name\":\"MacBook Pro 13-inch: 2.3GHz dual-core i5, 128GB - Silver (MPXR2TA\\/A)\",\"describe\":\"MacBook Pro 13 \\u9280\\u8272\\u7b2c\\u4e03\\u4ee3 i5 \\/ 8GB \\/ 128GB \\/ 2.3GHz\\\\r\\\\n\\u300a\\u7acb\\u5373\\u77013\\u5343\\u2605\\u518d\\u8d08\\u597d\\u79ae\\u300b \\r\\n\\u7db2\\u8def\\u50f9$41900\\uff0e\\r\\n\\u9650\\u6642\\u50f9\\u2198$\\uff13\\uff18\\uff19\\uff10\\uff10\\r\\n\\r\\n\\u2605\\u6b64\\u6a5f\\u578b\\u7121\\u89f8\\u63a7\\u5217\\u548ctouch id \\r\\n\\r\\n\\u5546\\u54c1\\u7279\\u8272\\r\\n\\u25cf 2.3 ghz \\u8655\\u7406\\u5668 \\r\\n\\u25cf 128 gb \\u5132\\u5b58\\u7a7a\\u9593\\r\\n\\u25cf 2.3 ghz \\u96d9\\u6838\\u5fc3\\u7b2c\\u4e03\\u4ee3 intel core i5 \\u8655\\u7406\\u5668\\r\\n\\u25cf turbo boost \\u53ef\\u9054 3.6 ghz\\r\\n\\u25cf 8 gb 2133 mhz lpddr 3 \\u8a18\\u61b6\\u9ad4\\r\\n\\u25cf 128 gb ssd \\u5132\\u5b58\\u88dd\\u7f6e\\r\\n\\u25cf intel iris plus graphics 640\\r\\n\\u25cf \\u5169\\u500b thunderbolt 3 \\u57e0\\r\\n\\r\\n\\u6ce8\\u610f\\u4e8b\\u9805\",\"price\":38900,\"originPrice\":38900,\"author\":\"\",\"brand\":\"\",\"publishDate\":\"\",\"sellerId\":\"\",\"isPChome\":1,\"isNC17\":0,\"couponActid\":[],\"BU\":\"ec\"},{\"Id\":\"DYAJBL-A9009J0CH\",\"cateId\":\"DYAJBL\",\"picS\":\"\\/items\\/DYAJBLA9009J0CH\\/000002_1544173097.jpg\",\"picB\":\"\\/items\\/DYAJBLA9009J0CH\\/000001_1544173097.jpg\",\"name\":\"MacBook Air 13: 1.6GHz dual-core Intel Core i5, 128GB - Space Grey\\u00a0\\u00a0\\u00a0\",\"describe\":\"MacBook Air 13 \\u7070\\u8272\\u7b2c\\u516b\\u4ee3 i5 \\/ 8GB \\/ 128GB \\/ 1.6GHz\\\\r\\\\n\\u2605\\u518d\\u8d08hdmi\\u8f49\\u63a5\\u7dda+\\u9632\\u76dc\\u5f8c\\u80cc\\u5305\\u2605\\u65b0\\u54c1\\u9650\\u91cf\\u5230\\u8ca8\\r\\n\\r\\n\\u25cf touch id\\r\\n\\u25cf \\u96d9\\u6838\\u5fc3\\u7b2c\\u516b\\u4ee3 intel core i5 \\u8655\\u7406\\u5668\\r\\n\\u25cf intel uhd graphics 617\\r\\n\\u25cf \\u5feb\\u901f\\u7684 ssd \\u5132\\u5b58\\u88dd\\u7f6e\\r\\n\\u25cf 8gb \\u8a18\\u61b6\\u9ad4\\r\\n\\u25cf \\u7acb\\u9ad4\\u8072\\u63da\\u8072\\u5668\\u5177\\u5099\\u66f4\\u5bec\\u5ee3\\u7684\\u7acb\\u9ad4\\u8072\\r\\n\\u25cf \\u5169\\u500b thunderbolt 3 (usb-c) \\u57e0\\r\\n\\u25cf \\u9577\\u9054 12 \\u5c0f\\u6642\\u96fb\\u6c60\\u7e8c\\u822a\\u529b\\r\\n\\u25cf 802.11ac wi-fi\\r\\n\\r\\n\\u6ce8\\u610f\\u4e8b\\u9805\",\"price\":39900,\"originPrice\":39900,\"author\":\"\",\"brand\":\"\",\"publishDate\":\"\",\"sellerId\":\"\",\"isPChome\":1,\"isNC17\":0,\"couponActid\":[],\"BU\":\"ec\"},{\"Id\":\"DYAJBF-19009PCD9\",\"cateId\":\"DYAJBF\",\"picS\":\"\\/items\\/DYAJBF19009PCD9\\/000002_1548641192.png\",\"picB\":\"\\/items\\/DYAJBF19009PCD9\\/000001_1548641192.jpg\",\"name\":\"MacBook Pro 13-inch : 2.3GHz dual-core i5, 256GB - Silver (Z0UL000E2)\",\"describe\":\"MacBook Pro 13 \\u9280\\u8272RAM\\u5347\\u7d1a16GB \\/ 256GB \\/ i5 \\/ 2.3GHz\\\\r\\\\n\\u300a95\\u6298\\u512a\\u60e0\\u2605\\u518d\\u8d08\\u597d\\u79ae\\u300b \\r\\n\\u7db2\\u8def\\u50f9$54420\\uff0e\\r\\n\\u9650\\u6642\\u50f9\\u2198$\\uff15\\uff11\\uff16\\uff19\\uff19\\r\\n\\r\\n\\u2605\\u6b64\\u6a5f\\u578b\\u7121\\u89f8\\u63a7\\u5217\\u548ctouch id \\r\\n\\r\\n\\u2605\\u6b64\\u5546\\u54c1\\u70ba\\u898f\\u683c\\u7279\\u88fd\\u6a5f\\r\\n\\u25cf\\u539fram8gb\\u2197\\u5347\\u7d1a16gb \\r\\n\\r\\n\\u2605\\u4e3b\\u6a5f\\u7cbe\\u5178\\u4ecb\\u7d39\\r\\n\\u25cf 13 \\u540b\\u6a5f\\u578b\\u539a\\u5ea6 14.9 \\u516c\\u91d0\\uff0c\\u91cd\\u91cf\\u66f4\\u50c5\\u6709 1.37 \\u516c\\u65a4\\r\\n\\r\\n\\u25cf retina \\u986f\\u793a\\u5668\\u4eae\\u5ea6\\u9ad8\\u9054 500 \\u5c3c\\u7279\\uff0c\\u53ef\\u5728\\u660e\\u4eae\\u7684\\r\\n   \\u5149\\u7dda\\u74b0\\u5883\\u4e0b\\u5448\\u73fe\\u66f4\\u591a\\u7d30\\u7bc0\\r\\n\\r\\n\\u25cf \\u9019\\u6b3e\\u986f\\u793a\\u5668\\u5177\\u6709\\u9ad8\\u5c0d\\u6bd4\\u7387\\uff0c\\u8272\\u5f69\\u6578\\u66f4\\u8d85\\u51fa\\u6a19\\u6e96 rgb \\r\\n   \\u986f\\u793a\\u566825%\\uff0c\\u56e0\\u6b64\\u53ef\\u8b93\\u7167\\u7247\\u756b\\u8cea\\u66f4\\u52a0\\u903c\\u771f\\u5beb\\u5be6\\r\\n\\r\\n\\u25cf thunderbolt 3 \\u9023\\u63a5\\u57e0\\u5c07\\u5145\\u96fb\\u3001\\u8cc7\\u6599\\u50b3\\u8f38\\u8207\\u8996\\u8a0a\\u8f38\\u51fa\\r\\n   \\u4e09\\u5927\\u529f\\u80fd\\u96c6\\u65bc\\u4e00\\u8eab\\r\\n\\r\\n\\u25cf thunderbolt 3 \\u6280\\u8853\\u7684\\u50b3\\u8f38\\u901f\\u5ea6\\u9ad8\\u905440gbps\\uff0c\\u5728\\u50b3\\u8f38\\r\\n   \\u8cc7\\u6599\\u901f\\u5ea6\\u53ca\\u8996\\u8a0a\\u983b\\u5bec\\u65b9\\u9762\\u90fd\\u662f thunderbolt 2 \\u7684\\u5169\\u500d\\r\\n\\r\\n\\u6ce8\\u610f\\u4e8b\\u9805\",\"price\":51699,\"originPrice\":51699,\"author\":\"\",\"brand\":\"\",\"publishDate\":\"\",\"sellerId\":\"\",\"isPChome\":1,\"isNC17\":0,\"couponActid\":[],\"BU\":\"ec\"},{\"Id\":\"DYAJBL-19009FB34\",\"cateId\":\"DYAJBG\",\"picS\":\"\\/items\\/DYAJBL19009FB34\\/000002_1546394156.jpg\",\"picB\":\"\\/items\\/DYAJBL19009FB34\\/000001_1548381757.jpg\",\"name\":\"MacBook Air 13-inch: 1.8GHz dual-core Intel Core i5, 128GB (MQD32TA\\/A)\",\"describe\":\"2017 MacBook Air 13\\u7b2c\\u4e94\\u4ee3 i5 \\/ 8GB \\/ 128GB \\/ 1.8GHz dual\\\\r\\\\n\\u300a\\u964d2\\u5343\\u512a\\u60e0\\u2605\\u518d\\u8d08\\u597d\\u79ae\\u300b \\r\\n\\u7db2\\u8def\\u50f9$31900\\uff0e\\r\\n\\u9650\\u6642\\u50f9\\u2198$\\uff12\\uff19\\uff19\\uff10\\uff10\\r\\n\\r\\n\\u25cf intel core  i5 \\u8655\\u7406\\u5668\\r\\n\\u25cf intel hd graphics 6000\\r\\n\\u25cf ssd \\u5132\\u5b58\\u88dd\\u7f6e\\r\\n\\u25cf \\u9577\\u9054 12 \\u5c0f\\u6642\\u96fb\\u6c60\\u7e8c\\u822a\\u529b\\r\\n\\u25cf 802.11 ac wi-fi\\r\\n\\u25cf multi - touch \\u89f8\\u63a7\\u5f0f\\u8ecc\\u8de1\\u677f\\r\\n\\u25cf \\u6700\\u9577\\u53ef\\u9054 30 \\u5929\\u5f85\\u6a5f\\u6642\\u9593\\r\\n\\u25cf \\u7bc0\\u80fd\\u4f4e\\u8017\\u53c8\\u517c\\u5177\\u9ad8\\u6548\\u80fd\\u7684\\u8a2d\\u8a08\\r\\n\\r\\n\\u6ce8\\u610f\\u4e8b\\u9805\",\"price\":29900,\"originPrice\":29900,\"author\":\"\",\"brand\":\"\",\"publishDate\":\"\",\"sellerId\":\"\",\"isPChome\":1,\"isNC17\":0,\"couponActid\":[],\"BU\":\"ec\"},{\"Id\":\"DYAJBD-A90097XIB\",\"cateId\":\"DYAJBD\",\"picS\":\"\\/items\\/DYAJBDA90097XIB\\/000002_1544086661.jpg\",\"picB\":\"\\/items\\/DYAJBDA90097XIB\\/000001_1546999441.jpg\",\"name\":\"MacBook Pro13 Touch Bar: 2.3GHz quad-core 8th- Intel\\u00a0Core\\u00a0i5, 256GB - Silve\",\"describe\":\"MacBook Pro13 \\u9280\\u8272\\u7b2c\\u516b\\u4ee3 i5 \\/ 8GB \\/ 256GB \\/ 2.3GHz\\\\r\\\\n\\u26052018\\u65b0\\u6b3e\\u89f8\\u63a7\\r\\n\\u5546\\u54c1\\u7279\\u8272\\r\\n\\u2022 4 \\u6838\\u5fc3 intel core i5 \\u8655\\u7406\\u5668\\r\\n\\u2022 \\u5177\\u5099\\u539f\\u5f69\\u986f\\u793a\\u6280\\u8853\\u7684\\u4eae\\u9e97 retina \\u986f\\u793a\\u5668\\r\\n\\u2022 \\u89f8\\u63a7\\u5217\\u548c touch id\\r\\n\\u2022 intel iris plus graphics 655\\r\\n\\u2022 \\u8d85\\u5feb\\u901f ssd\\r\\n\\u2022 \\u56db\\u500b thunderbolt 3 (usb-c) \\u57e0\\r\\n\\u2022 \\u9577\\u9054 10 \\u5c0f\\u6642\\u96fb\\u6c60\\u7e8c\\u822a\\u529b2\\r\\n\\u2022 802.11ac wi-fi\\r\\n\\u2022 \\u529b\\u5ea6\\u89f8\\u63a7\\u677f\\r\\n\\r\\n\\u6ce8\\u610f\\u4e8b\\u9805\",\"price\":51530,\"originPrice\":51530,\"author\":\"\",\"brand\":\"\",\"publishDate\":\"\",\"sellerId\":\"\",\"isPChome\":1,\"isNC17\":0,\"couponActid\":[],\"BU\":\"ec\"},{\"Id\":\"DYAJCS-19009QLN7\",\"cateId\":\"DYAJCR\",\"picS\":\"\\/items\\/DYAJCS19009QLN7\\/000002_1547607133.jpg\",\"picB\":\"\\/items\\/DYAJCS19009QLN7\\/000001_1547607133.jpg\",\"name\":\"MacBook Pro15 Touch Bar: 2.2GHz 6-core 8th- Intel Core i7, 256GB - Silver\",\"describe\":\"MacBook Pro15 \\u9280\\u8272 \\u7b2c\\u516b\\u4ee3 i7 \\/ 16GB \\/ 256GB \\/ 2.2GHz\\\\r\\\\n\\u964d3\\u5343\\u512a\\u60e0\\u2605\\u518d\\u8d08\\u597d\\u79ae\\u81f31 31(\\u56db)10:00\\u6b62 \\r\\n\\u6578\\u91cf\\u6709\\u9650\\uff0c\\u552e\\u5b8c\\u70ba\\u6b62\\r\\n\\u7db2\\u8def\\u50f9$77900\\uff0e\\u9650\\u6642\\u50f9\\u2198$\\uff17\\uff14\\uff19\\uff10\\uff10\\r\\n\\r\\n\\u26052018\\u65b0\\u6b3e\\u89f8\\u63a7\\r\\n\\u5546\\u54c1\\u7279\\u8272\\r\\n\\u2022 6 \\u6838\\u5fc3 intel core i7 \\u8655\\u7406\\u5668\\r\\n\\u2022 \\u5177\\u5099\\u539f\\u5f69\\u986f\\u793a\\u6280\\u8853\\u7684\\u4eae\\u9e97 retina \\u986f\\u793a\\u5668\\r\\n\\u2022 \\u89f8\\u63a7\\u5217\\u548c touch id\\r\\n\\u2022 radeon pro 555x \\u7e6a\\u5716\\u8655\\u7406\\u5668\\u914d\\u5099 4gb \\u8996\\u8a0a\\u8a18\\u61b6\\u9ad4\\r\\n\\u2022 intel uhd graphics 630\\r\\n\\u2022 \\u8d85\\u5feb\\u901f ssd\\r\\n\\u2022 \\u56db\\u500b thunderbolt 3 (usb-c) \\u57e0\\r\\n\\u2022 \\u9577\\u9054 10 \\u5c0f\\u6642\\u96fb\\u6c60\\u7e8c\\u822a\\u529b\\r\\n\\u2022 802.11ac wi-fi\\r\\n\\u2022 \\u529b\\u5ea6\\u89f8\\u63a7\\u677f\\r\\n\\r\\n\\u6ce8\\u610f\\u4e8b\\u9805\",\"price\":74900,\"originPrice\":74900,\"author\":\"\",\"brand\":\"\",\"publishDate\":\"\",\"sellerId\":\"\",\"isPChome\":1,\"isNC17\":0,\"couponActid\":[],\"BU\":\"ec\"},{\"Id\":\"DCADLA-A9009LMQZ\",\"cateId\":\"DCADLA\",\"picS\":\"\\/items\\/DCADLAA9009LMQZ\\/000002_1542967034.jpg\",\"picB\":\"\\/items\\/DCADLAA9009LMQZ\\/000001_1542967034.jpg\",\"name\":\"innowatt DOCK NET RJ45 & HDMI Type-C Hub for Macbook Pro \\u591a\\u529f\\u80fd\\u5145\\u96fb\\u50b3\\u8f38\\u96c6\\u7dda\\u5668 iW71N\",\"describe\":\"innowatt DOCK NET Thunderbolt 3 & RJ45 & HDMI Type-C Hub for Macbook Pro \\u591a\\u529f\\u80fd\\u5145\\u96fb\\u50b3\\u8f38\\u96c6\\u7dda\\u5668 iW71N\\\\r\\\\n1.\\u9069\\u7528macbook pro 2016~2019\\u5168\\u7cfb\\u5217 \\r\\n2.\\u591a\\u529f\\u80fd\\u96c6\\u7dda\\u5668\\u9ad8\\u968ethunderbolt 3\\u7248\\u672c (iw71n) \\r\\n3.usb-c\\u5177thunderbolt 3 (40gb\\uff09\\u50b3\\u8f38\\u898f\\u683c \\r\\n4.\\u652f\\u63f4pd\\u5145\\u96fb 5k video\\u8f38\\u51fa \\u96d9\\u5c4f4k\\u8f38\\u51fa \\r\\n5.\\u5177\\u5099hdmi 1080p@60hz & 4k@30hz \\r\\n6.\\u5177\\u5099rj45\\u7db2\\u8def\\u5b54\\u8a2d\\u8a08 \\u96a8\\u63d2\\u5373\\u7528\\u4e0d\\u9700\\u8a2d\\u5b9a \\u53ef\\u90541 gb s \\r\\n7.\\u7121\\u7dda\\u6536\\u7d0d\\u8d85easy\\uff0c\\u8f15\\u8584\\u77ed\\u5c0f\\u653epocket\\r\\n\\r\\n\\u2605\\u82e5\\u672c\\u5340\\u5eab\\u5b58\\u92b7\\u552e\\u4e00\\u7a7a\\uff0c\\u8acb\\u81f3\\u4e0b\\u5217\\u539f\\u5ee0\\u8207pchome\\u5408\\u4f5c\\u7684\\u53e6\\u4e00\\u9023\\u7d50\\u63a1\\u8cfc\\uff0c\\u53ef\\u7372\\u8d08\\u5c08\\u5c6cmacbook pro\\u4fdd\\u8b77\\u6bbc\\r\\n\\u2192\\u300adock net \\u8d08\\u5c08\\u5c6c\\u5ba2\\u88fdmacbook pro\\u4fdd\\u8b77\\u6bbc\\u300b\\r\\n\\r\\n\\u2605\\u672c\\u5c08\\u5340\\u8d08\\u9001\\u591a\\u91cd\\u597d\\u79ae \\u542b\\u76ae\\u5957 iphone\\u50b3\\u8f38\\u7dda\\u7b49\\r\\n\\r\\n\\u25bcinnowatt\\u71b1\\u92b7\\u63a8\\u85a6 \\r\\n\\u300athe dock s type-c hdmi usb \\u591a\\u529f\\u80fd\\u5145\\u96fb\\u50b3\\u8f38\\u96c6\\u7dda\\u5668\\u300b\\r\\n\\u300adock pro+ thunderbolt  usb 3.1\\u591a\\u529f\\u80fd\\u5145\\u96fb\\u50b3\\u8f38\\u96c6\\u7dda\\u5668\\u300b\\r\\n\\u300adock pro thunderbolt  usb 3.1\\u591a\\u529f\\u80fd\\u5145\\u96fb\\u50b3\\u8f38\\u96c6\\u7dda\\u5668\\u300b\\r\\n\\u300adock dock mini  usb 3.1\\u591a\\u529f\\u80fd\\u5145\\u96fb\\u50b3\\u8f38\\u96c6\\u7dda\\u5668\\u7070\\u8272\\u300b\\r\\n\\u300adock dock mini  usb 3.1\\u591a\\u529f\\u80fd\\u5145\\u96fb\\u50b3\\u8f38\\u96c6\\u7dda\\u5668\\u9280\\u8272\\u300b\\r\\n\\u300aapple macbook pro\\u5c08\\u7528\\u8d85\\u8584\\u9ad8\\u900f\\u9375\\u76e4\\u4fdd\\u8b77\\u819c\\u300b\\r\\n\\u300a\\u87a2\\u5e55\\u9632\\u7aba\\u7247macbook retina12\\u540b\\u300b\\r\\n\\u300a\\u87a2\\u5e55\\u9632\\u7aba\\u7247macbook retina13\\u540b\\u300b\\r\\n\\u300amfi\\u860b\\u679c\\u8a8d\\u8b49 270cm\\u5145\\u96fb\\u50b3\\u8f38\\u7dda\\u300b\\r\\n\\u300atough\\u7dda (1\\u7c73 \\u73ab\\u7470\\u91d1\\uff09\\u300b\\r\\n\\u300atough\\u7dda (1\\u7c73 \\u91d1\\uff09\\u300b\\r\\n\\u300ainnowatt the yoga \\u512a\\u67b6(l) \\u7b46\\u96fb\\u652f\\u67b6\\u300b\",\"price\":2490,\"originPrice\":2490,\"author\":\"\",\"brand\":\"\",\"publishDate\":\"\",\"sellerId\":\"\",\"isPChome\":1,\"isNC17\":0,\"couponActid\":[],\"BU\":\"ec\"},{\"Id\":\"DYAJCS-19009FXWN\",\"cateId\":\"DYAJCR\",\"picS\":\"\\/items\\/DYAJCS19009FXWN\\/000002_1544004628.jpg\",\"picB\":\"\\/items\\/DYAJCS19009FXWN\\/000001_1538028054.jpg\",\"name\":\"MacBook Pro15 Touch Bar: 2.6GHz 6-core 8th- Intel Core i7, 512GB - Silver\",\"describe\":\"MacBook Pro15 \\u9280\\u8272 i7 \\/ 16GB \\/ 512GB \\/ 2.6GHz\\\\r\\\\n95\\u6298\\u512a\\u60e0\\u2605\\u518d\\u9001\\u8d85\\u503c\\u96d9\\u91cd\\u597d\\u79ae \\r\\n\\u6578\\u91cf\\u6709\\u9650\\uff0c\\u552e\\u5b8c\\u70ba\\u6b62\\r\\n\\u7db2\\u8def\\u50f9$89900\\uff0e\\u9650\\u6642\\u50f9\\u2198$\\uff18\\uff15\\uff14\\uff10\\uff15\\r\\n\\r\\n\\u26052018\\u65b0\\u6b3e\\u89f8\\u63a7\\r\\n\\u5546\\u54c1\\u7279\\u8272\\r\\n\\u2022 6 \\u6838\\u5fc3 intel core i7 \\u8655\\u7406\\u5668\\r\\n\\u2022 \\u5177\\u5099\\u539f\\u5f69\\u986f\\u793a\\u6280\\u8853\\u7684\\u4eae\\u9e97 retina \\u986f\\u793a\\u5668\\r\\n\\u2022 \\u89f8\\u63a7\\u5217\\u548c touch id\\r\\n\\u2022 radeon pro 560x \\u7e6a\\u5716\\u8655\\u7406\\u5668\\u914d\\u5099 4gb \\u8996\\u8a0a\\u8a18\\u61b6\\u9ad4\\r\\n\\u2022 intel uhd graphics 630\\r\\n\\u2022 \\u8d85\\u5feb\\u901f ssd\\r\\n\\u2022 \\u56db\\u500b thunderbolt 3 (usb-c) \\u57e0\\r\\n\\u2022 \\u9577\\u9054 10 \\u5c0f\\u6642\\u96fb\\u6c60\\u7e8c\\u822a\\u529b\\r\\n\\u2022 802.11ac wi-fi\\r\\n\\u2022 \\u529b\\u5ea6\\u89f8\\u63a7\\u677f\\r\\n\\r\\n\\u6ce8\\u610f\\u4e8b\\u9805\",\"price\":85405,\"originPrice\":85405,\"author\":\"\",\"brand\":\"\",\"publishDate\":\"\",\"sellerId\":\"\",\"isPChome\":1,\"isNC17\":0,\"couponActid\":[],\"BU\":\"ec\"}]}\n",
            "27799\n",
            "{'QTime': 64, 'totalRows': 13413, 'totalPage': 100, 'range': {'min': '', 'max': ''}, 'cateName': '', 'q': 'macbook)', 'subq': '', 'token': ['macbook'], 'prods': [{'Id': 'DYAJBL-A90097XCB', 'cateId': 'DYAJBG', 'picS': '/items/DYAJBLA90097XCB/000002_1544666864.jpg', 'picB': '/items/DYAJBLA90097XCB/000001_1548381756.jpg', 'name': 'MacBook Air 13-inch: 1.8GHz dual-core Intel Core i5, 128GB (MQD32TA/A)', 'describe': '2017 MacBook Air 13第五代 i5 / 8GB / 128GB / 1.8GHz dual\\\\r\\\\n限時優惠★立即省3千至1 31(四)10:00止 \\r\\n數量有限，售完為止\\r\\n網路價$31900．限時價↘$２８９００\\r\\n\\r\\n● intel core  i5 處理器\\r\\n● intel hd graphics 6000\\r\\n● ssd 儲存裝置\\r\\n● 長達 12 小時電池續航力\\r\\n● 802.11 ac wi-fi\\r\\n● multi - touch 觸控式軌跡板\\r\\n● 最長可達 30 天待機時間\\r\\n● 節能低耗又兼具高效能的設計\\r\\n\\r\\n注意事項', 'price': 28900, 'originPrice': 28900, 'author': '', 'brand': '', 'publishDate': '', 'sellerId': '', 'isPChome': 1, 'isNC17': 0, 'couponActid': [], 'BU': 'ec'}, {'Id': 'DYAJBL-19009QDO2', 'cateId': 'DYAJBL', 'picS': '/items/DYAJBL19009QDO2/000002_1548381532.jpg', 'picB': '/items/DYAJBL19009QDO2/000001_1548381532.jpg', 'name': 'MacBook Air 13: 1.6GHz dual-core Intel Core i5, 128GB - Space Grey', 'describe': 'MacBook Air 13 灰色第八代 i5 / 8GB / 128GB / 1.6GHz\\\\r\\\\n《降3千優惠★2018新款》 \\r\\n網路價$39900．\\r\\n限時價↘$３６９００\\r\\n\\r\\n● touch id\\r\\n● 雙核心第八代 intel core i5 處理器\\r\\n● intel uhd graphics 617\\r\\n● 快速的 ssd 儲存裝置\\r\\n● 8gb 記憶體\\r\\n● 立體聲揚聲器具備更寬廣的立體聲\\r\\n● 兩個 thunderbolt 3 (usb-c) 埠\\r\\n● 長達 12 小時電池續航力\\r\\n● 802.11ac wi-fi\\r\\n\\r\\n注意事項', 'price': 36900, 'originPrice': 36900, 'author': '', 'brand': '', 'publishDate': '', 'sellerId': '', 'isPChome': 1, 'isNC17': 0, 'couponActid': [], 'BU': 'ec'}, {'Id': 'DYAJBL-19009QCP8', 'cateId': 'DYAJBL', 'picS': '/items/DYAJBL19009QCP8/000002_1548641503.jpg', 'picB': '/items/DYAJBL19009QCP8/000001_1548641503.jpg', 'name': 'MacBook Air 13: 1.6GHz dual-core Intel Core i5, 128GB - Space Grey', 'describe': 'MacBook Air 13 灰色第八代 i5 / 8GB / 128GB / 1.6GHz\\\\r\\\\n《★再贈超值好禮組》\\r\\n\\r\\n● touch id\\r\\n● 雙核心第八代 intel core i5 處理器\\r\\n● intel uhd graphics 617\\r\\n● 快速的 ssd 儲存裝置\\r\\n● 8gb 記憶體\\r\\n● 立體聲揚聲器具備更寬廣的立體聲\\r\\n● 兩個 thunderbolt 3 (usb-c) 埠\\r\\n● 長達 12 小時電池續航力\\r\\n● 802.11ac wi-fi\\r\\n\\r\\n注意事項', 'price': 39900, 'originPrice': 39900, 'author': '', 'brand': '', 'publishDate': '', 'sellerId': '', 'isPChome': 1, 'isNC17': 0, 'couponActid': [], 'BU': 'ec'}, {'Id': 'DCADHZ-A9008WQYY', 'cateId': 'DCADMP', 'picS': '/items/DCADHZA9008WQYY/000002_1544163763.jpg', 'picB': '/items/DCADHZA9008WQYY/000001_1548208201.jpg', 'name': 'New MacBook Pro hub Type-C轉USB轉接器mac轉換頭 多功能充電集線器-T8', 'describe': 'WIWU type-c轉USB 轉換器USB 3.1 Type-C HDMI 7 port 多功能集線器【銀色】▼新款專用 雙介面▼\\\\r\\\\n☆七合一多功能轉接器☆\\r\\n\\r\\n▼new macbook的最佳搭檔▼\\r\\n◆ 一物多用，連接多種設備\\r\\n◆ typec接口設計，可雙向充電、傳輸\\r\\n◆ 支援快充技術，辦公必備的mac搭檔\\r\\n◆ type-c充電，邊充邊玩不掉電\\r\\n◆ 支援 4k hdmi轉接、sd讀卡機\\r\\n◆ 四重保護，讓您使用起來更放心\\r\\n◆ 加碼贈送特製收納包，方便攜帶不易刮傷筆電\\r\\n◆ macbook pro新款專用\\r\\n\\r\\n▼注意事項▼：\\r\\n★ 購買時請注意，此款產品為macbook專用的，其他品牌的筆電有一些是不能支援使用的\\r\\n★ 提醒若macbook pro僅單邊一個usb-c埠，不建議購買此配件 \\r\\n\\r\\n★其他顏色可選擇★ \\r\\n►►鈦金灰', 'price': 1790, 'originPrice': 1790, 'author': '', 'brand': '', 'publishDate': '', 'sellerId': '', 'isPChome': 1, 'isNC17': 0, 'couponActid': [], 'BU': 'ec'}, {'Id': 'DYAJBD-19009C3MU', 'cateId': 'DYAJBD', 'picS': '/items/DYAJBD19009C3MU/000002_1544580264.jpg', 'picB': '/items/DYAJBD19009C3MU/000001_1545188587.jpg', 'name': 'MacBook Pro 13-inch : 2.3GHz dual-core i5, 256GB - Space Grey (MPXT2TA/A)', 'describe': 'MacBook Pro 13 灰色第七代 i5 / 8GB / 256GB / 2.3GHz\\\\r\\\\n《立即省3千★再贈好禮》 \\r\\n網路價$47900．\\r\\n限時價↘$４４９００\\r\\n\\r\\n★此機型無觸控列和touch id \\r\\n\\r\\n商品特色\\r\\n● 2.3 ghz 處理器 \\r\\n● 256 gb 儲存空間\\r\\n● 2.3 ghz 雙核心第七代 intel core i5 處理器\\r\\n● turbo boost 可達 3.6 ghz\\r\\n● 8 gb 2133 mhz lpddr 3 記憶體\\r\\n● 256 gb ssd 儲存裝置\\r\\n● intel iris plus graphics 640\\r\\n● 兩個 thunderbolt 3 埠\\r\\n\\r\\n注意事項', 'price': 44900, 'originPrice': 44900, 'author': '', 'brand': '', 'publishDate': '', 'sellerId': '', 'isPChome': 1, 'isNC17': 0, 'couponActid': [], 'BU': 'ec'}, {'Id': 'DYAJBD-19009C7V3', 'cateId': 'DYAJBD', 'picS': '/items/DYAJBD19009C7V3/000002_1546396003.jpg', 'picB': '/items/DYAJBD19009C7V3/000001_1548384189.jpg', 'name': 'MacBook Pro 13-inch : 2.3GHz dual-core i5, 128GB - Space Grey (MPXQ2TA/A)', 'describe': 'MacBook Pro 13 灰色 第七代 i5 / 8GB / 128GB / 2.3GHz\\\\r\\\\n《立即省3千★再贈好禮》 \\r\\n網路價$41900．\\r\\n限時價↘$３８９００\\r\\n\\r\\n★此機型無觸控列和touch id \\r\\n\\r\\n商品特色\\r\\n● 2.3 ghz 處理器 \\r\\n● 128 gb 儲存空間\\r\\n● 2.3 ghz 雙核心第七代 intel core i5 處理器\\r\\n● turbo boost 可達 3.6 ghz\\r\\n● 8 gb 2133 mhz lpddr 3 記憶體\\r\\n● 128 gb ssd 儲存裝置\\r\\n● intel iris plus graphics 640\\r\\n● 兩個 thunderbolt 3 埠\\r\\n\\r\\n注意事項', 'price': 38900, 'originPrice': 38900, 'author': '', 'brand': '', 'publishDate': '', 'sellerId': '', 'isPChome': 1, 'isNC17': 0, 'couponActid': [], 'BU': 'ec'}, {'Id': 'DYAJBL-19009QDOJ', 'cateId': 'DYAJBL', 'picS': '/items/DYAJBL19009QDOJ/000002_1547445073.jpg', 'picB': '/items/DYAJBL19009QDOJ/000001_1547445073.jpg', 'name': 'MacBook Air 13: 1.6GHz dual-core Intel Core i5, 256GB - Space Grey', 'describe': 'MacBook Air 13 灰色第八代 i5 / 8GB / 256GB / 1.6GHz\\\\r\\\\n《降3千優惠★2018新款》 \\r\\n網路價$45900．\\r\\n限時價↘$４２９００\\r\\n\\r\\n● touch id\\r\\n● 雙核心第八代 intel core i5 處理器\\r\\n● intel uhd graphics 617\\r\\n● 快速的 ssd 儲存裝置\\r\\n● 8gb 記憶體\\r\\n● 立體聲揚聲器具備更寬廣的立體聲\\r\\n● 兩個 thunderbolt 3 (usb-c) 埠\\r\\n● 長達 12 小時電池續航力\\r\\n● 802.11ac wi-fi\\r\\n\\r\\n注意事項', 'price': 42900, 'originPrice': 42900, 'author': '', 'brand': '', 'publishDate': '', 'sellerId': '', 'isPChome': 1, 'isNC17': 0, 'couponActid': [], 'BU': 'ec'}, {'Id': 'DYAJBL-19009QDOL', 'cateId': 'DYAJBL', 'picS': '/items/DYAJBL19009QDOL/000002_1547445108.jpg', 'picB': '/items/DYAJBL19009QDOL/000001_1547445108.jpg', 'name': 'MacBook Air 13: 1.6GHz dual-core Intel Core i5, 128GB - Gold', 'describe': 'MacBook Air 13 金色第八代 i5 / 8GB / 128GB / 1.6GHz\\\\r\\\\n《降3千優惠★2018新款》 \\r\\n網路價$39900．\\r\\n限時價↘$３６９００\\r\\n\\r\\n● touch id\\r\\n● 雙核心第八代 intel core i5 處理器\\r\\n● intel uhd graphics 617\\r\\n● 快速的 ssd 儲存裝置\\r\\n● 8gb 記憶體\\r\\n● 立體聲揚聲器具備更寬廣的立體聲\\r\\n● 兩個 thunderbolt 3 (usb-c) 埠\\r\\n● 長達 12 小時電池續航力\\r\\n● 802.11ac wi-fi\\r\\n\\r\\n注意事項', 'price': 36900, 'originPrice': 36900, 'author': '', 'brand': '', 'publishDate': '', 'sellerId': '', 'isPChome': 1, 'isNC17': 0, 'couponActid': [], 'BU': 'ec'}, {'Id': 'DCADHZ-A9008CTGG', 'cateId': 'DCADLA', 'picS': '/items/DCADHZA9008CTGG/000002_1541407853.jpg', 'picB': '/items/DCADHZA9008CTGG/000001_1503307976.jpg', 'name': 'innowatt DOCK Pro+ Thunderbolt Type-C Hub for MacBook Pro 多功能充電傳輸集線器', 'describe': 'innowatt THE DOCK Pro+ 七合一多功能充電傳輸集線器 for MacBook Pro with Thunderbolt 3 & HDMI (型號iW71)\\\\r\\\\n1.適用macbook pro 2016~2019全系列\\r\\n2.多功能集線器高階thunderbolt 3版本 (iw71)\\r\\n3.無線收納超easy，輕薄短小放pocket \\r\\n4.雙type-c公頭且正反皆可用的hub \\r\\n5.usb-c1具thunderbolt 3 (40gb）傳輸規格 \\r\\n6.usb-c1母座可支援pd充電 5k video輸出 雙屏4k輸出 \\r\\n7.usb-c2母座可支援資料高速傳輸5gb s\\r\\n8.具備hdmi 1080p@60hz & 4k@30hz\\r\\n\\r\\n★若本區庫存銷售一空，請至下列原廠與pchome合作的另一連結採購，可獲贈專屬macbook pro保護殼\\r\\n→《dock pro+ 贈專屬客製macbook pro保護殼》\\r\\n\\r\\n★本專區贈送好禮 含皮套 iphone傳輸線等\\r\\n\\r\\n▼innowatt熱銷推薦 \\r\\n《dock net thunderbolt  usb 3.1多功能充電傳輸集線器》\\r\\n《the dock s type-c hdmi usb 多功能充電傳輸集線器》\\r\\n《dock pro thunderbolt  usb 3.1多功能充電傳輸集線器》\\r\\n《dock dock mini  usb 3.1多功能充電傳輸集線器灰色》\\r\\n《dock dock mini  usb 3.1多功能充電傳輸集線器銀色》\\r\\n《apple macbook pro專用超薄高透鍵盤保護膜》\\r\\n《螢幕防窺片macbook retina12吋》\\r\\n《螢幕防窺片macbook retina13吋》\\r\\n《mfi蘋果認證 270cm充電傳輸線》\\r\\n《tough線 (1米 玫瑰金）》\\r\\n《tough線 (1米 金）》\\r\\n《innowatt the yoga 優架(l) 筆電支架》', 'price': 2290, 'originPrice': 2290, 'author': '', 'brand': '', 'publishDate': '', 'sellerId': '', 'isPChome': 1, 'isNC17': 0, 'couponActid': [], 'BU': 'ec'}, {'Id': 'DYAJCS-19009FXVG', 'cateId': 'DYAJCS', 'picS': '/items/DYAJCS19009FXVG/000002_1548036822.jpg', 'picB': '/items/DYAJCS19009FXVG/000001_1548036822.jpg', 'name': 'MacBook Pro13 Touch Bar: 2.3GHz quad-core 8th- Intel Core i5 , 256GB - Space Grey', 'describe': 'MacBook Pro13 灰色第八代 i5 / 8GB / 256GB / 2.3GHz\\\\r\\\\n《降3千優惠★再贈好禮》 \\r\\n網路價$57900．\\r\\n限時價↘$５４９００\\r\\n\\r\\n商品特色\\r\\n• 4 核心 intel core i5 處理器\\r\\n• 具備原彩顯示技術的亮麗 retina 顯示器\\r\\n• 觸控列和 touch id\\r\\n• intel iris plus graphics 655\\r\\n• 超快速 ssd\\r\\n• 四個 thunderbolt 3 (usb-c) 埠\\r\\n• 長達 10 小時電池續航力2\\r\\n• 802.11ac wi-fi\\r\\n• 力度觸控板\\r\\n\\r\\n注意事項', 'price': 54900, 'originPrice': 54900, 'author': '', 'brand': '', 'publishDate': '', 'sellerId': '', 'isPChome': 1, 'isNC17': 0, 'couponActid': [], 'BU': 'ec'}, {'Id': 'DYAJCS-19009FXWV', 'cateId': 'DYAJCS', 'picS': '/items/DYAJCS19009FXWV/000002_1548036804.jpg', 'picB': '/items/DYAJCS19009FXWV/000001_1548036804.jpg', 'name': 'MacBook Pro13 Touch Bar: 2.3GHz quad-core 8th- Intel Core i5, 256GB - Silve', 'describe': 'MacBook Pro13 銀色第八代 i5 / 8GB / 256GB / 2.3GHz\\\\r\\\\n《降3千優惠★再贈好禮》 \\r\\n網路價$57900．\\r\\n限時價↘$５４９００\\r\\n\\r\\n商品特色\\r\\n• 4 核心 intel core i5 處理器\\r\\n• 具備原彩顯示技術的亮麗 retina 顯示器\\r\\n• 觸控列和 touch id\\r\\n• intel iris plus graphics 655\\r\\n• 超快速 ssd\\r\\n• 四個 thunderbolt 3 (usb-c) 埠\\r\\n• 長達 10 小時電池續航力2\\r\\n• 802.11ac wi-fi\\r\\n• 力度觸控板\\r\\n\\r\\n注意事項', 'price': 54900, 'originPrice': 54900, 'author': '', 'brand': '', 'publishDate': '', 'sellerId': '', 'isPChome': 1, 'isNC17': 0, 'couponActid': [], 'BU': 'ec'}, {'Id': 'DYAJBL-19009QDNG', 'cateId': 'DYAJBL', 'picS': '/items/DYAJBL19009QDNG/000002_1547445040.jpg', 'picB': '/items/DYAJBL19009QDNG/000001_1547445040.jpg', 'name': 'MacBook Air 13: 1.6GHz dual-core Intel Core i5, 256GB - Gold', 'describe': 'MacBook Air 13 金色第八代 i5 / 8GB / 256GB / 1.6GHz\\\\r\\\\n《降3千優惠★2018新款》 \\r\\n網路價$45900．\\r\\n限時價↘$４２９００\\r\\n\\r\\n● touch id\\r\\n● 雙核心第八代 intel core i5 處理器\\r\\n● intel uhd graphics 617\\r\\n● 快速的 ssd 儲存裝置\\r\\n● 8gb 記憶體\\r\\n● 立體聲揚聲器具備更寬廣的立體聲\\r\\n● 兩個 thunderbolt 3 (usb-c) 埠\\r\\n● 長達 12 小時電池續航力\\r\\n● 802.11ac wi-fi\\r\\n\\r\\n注意事項', 'price': 42900, 'originPrice': 42900, 'author': '', 'brand': '', 'publishDate': '', 'sellerId': '', 'isPChome': 1, 'isNC17': 0, 'couponActid': [], 'BU': 'ec'}, {'Id': 'DYAJBD-19009C3LV', 'cateId': 'DYAJBD', 'picS': '/items/DYAJBD19009C3LV/000002_1545903221.jpg', 'picB': '/items/DYAJBD19009C3LV/000001_1545903221.jpg', 'name': 'MacBook Pro 13-inch: 2.3GHz dual-core i5, 128GB - Silver (MPXR2TA/A)', 'describe': 'MacBook Pro 13 銀色第七代 i5 / 8GB / 128GB / 2.3GHz\\\\r\\\\n《立即省3千★再贈好禮》 \\r\\n網路價$41900．\\r\\n限時價↘$３８９００\\r\\n\\r\\n★此機型無觸控列和touch id \\r\\n\\r\\n商品特色\\r\\n● 2.3 ghz 處理器 \\r\\n● 128 gb 儲存空間\\r\\n● 2.3 ghz 雙核心第七代 intel core i5 處理器\\r\\n● turbo boost 可達 3.6 ghz\\r\\n● 8 gb 2133 mhz lpddr 3 記憶體\\r\\n● 128 gb ssd 儲存裝置\\r\\n● intel iris plus graphics 640\\r\\n● 兩個 thunderbolt 3 埠\\r\\n\\r\\n注意事項', 'price': 38900, 'originPrice': 38900, 'author': '', 'brand': '', 'publishDate': '', 'sellerId': '', 'isPChome': 1, 'isNC17': 0, 'couponActid': [], 'BU': 'ec'}, {'Id': 'DYAJBL-A9009J0CH', 'cateId': 'DYAJBL', 'picS': '/items/DYAJBLA9009J0CH/000002_1544173097.jpg', 'picB': '/items/DYAJBLA9009J0CH/000001_1544173097.jpg', 'name': 'MacBook Air 13: 1.6GHz dual-core Intel Core i5, 128GB - Space Grey\\xa0\\xa0\\xa0', 'describe': 'MacBook Air 13 灰色第八代 i5 / 8GB / 128GB / 1.6GHz\\\\r\\\\n★再贈hdmi轉接線+防盜後背包★新品限量到貨\\r\\n\\r\\n● touch id\\r\\n● 雙核心第八代 intel core i5 處理器\\r\\n● intel uhd graphics 617\\r\\n● 快速的 ssd 儲存裝置\\r\\n● 8gb 記憶體\\r\\n● 立體聲揚聲器具備更寬廣的立體聲\\r\\n● 兩個 thunderbolt 3 (usb-c) 埠\\r\\n● 長達 12 小時電池續航力\\r\\n● 802.11ac wi-fi\\r\\n\\r\\n注意事項', 'price': 39900, 'originPrice': 39900, 'author': '', 'brand': '', 'publishDate': '', 'sellerId': '', 'isPChome': 1, 'isNC17': 0, 'couponActid': [], 'BU': 'ec'}, {'Id': 'DYAJBF-19009PCD9', 'cateId': 'DYAJBF', 'picS': '/items/DYAJBF19009PCD9/000002_1548641192.png', 'picB': '/items/DYAJBF19009PCD9/000001_1548641192.jpg', 'name': 'MacBook Pro 13-inch : 2.3GHz dual-core i5, 256GB - Silver (Z0UL000E2)', 'describe': 'MacBook Pro 13 銀色RAM升級16GB / 256GB / i5 / 2.3GHz\\\\r\\\\n《95折優惠★再贈好禮》 \\r\\n網路價$54420．\\r\\n限時價↘$５１６９９\\r\\n\\r\\n★此機型無觸控列和touch id \\r\\n\\r\\n★此商品為規格特製機\\r\\n●原ram8gb↗升級16gb \\r\\n\\r\\n★主機精典介紹\\r\\n● 13 吋機型厚度 14.9 公釐，重量更僅有 1.37 公斤\\r\\n\\r\\n● retina 顯示器亮度高達 500 尼特，可在明亮的\\r\\n   光線環境下呈現更多細節\\r\\n\\r\\n● 這款顯示器具有高對比率，色彩數更超出標準 rgb \\r\\n   顯示器25%，因此可讓照片畫質更加逼真寫實\\r\\n\\r\\n● thunderbolt 3 連接埠將充電、資料傳輸與視訊輸出\\r\\n   三大功能集於一身\\r\\n\\r\\n● thunderbolt 3 技術的傳輸速度高達40gbps，在傳輸\\r\\n   資料速度及視訊頻寬方面都是 thunderbolt 2 的兩倍\\r\\n\\r\\n注意事項', 'price': 51699, 'originPrice': 51699, 'author': '', 'brand': '', 'publishDate': '', 'sellerId': '', 'isPChome': 1, 'isNC17': 0, 'couponActid': [], 'BU': 'ec'}, {'Id': 'DYAJBL-19009FB34', 'cateId': 'DYAJBG', 'picS': '/items/DYAJBL19009FB34/000002_1546394156.jpg', 'picB': '/items/DYAJBL19009FB34/000001_1548381757.jpg', 'name': 'MacBook Air 13-inch: 1.8GHz dual-core Intel Core i5, 128GB (MQD32TA/A)', 'describe': '2017 MacBook Air 13第五代 i5 / 8GB / 128GB / 1.8GHz dual\\\\r\\\\n《降2千優惠★再贈好禮》 \\r\\n網路價$31900．\\r\\n限時價↘$２９９００\\r\\n\\r\\n● intel core  i5 處理器\\r\\n● intel hd graphics 6000\\r\\n● ssd 儲存裝置\\r\\n● 長達 12 小時電池續航力\\r\\n● 802.11 ac wi-fi\\r\\n● multi - touch 觸控式軌跡板\\r\\n● 最長可達 30 天待機時間\\r\\n● 節能低耗又兼具高效能的設計\\r\\n\\r\\n注意事項', 'price': 29900, 'originPrice': 29900, 'author': '', 'brand': '', 'publishDate': '', 'sellerId': '', 'isPChome': 1, 'isNC17': 0, 'couponActid': [], 'BU': 'ec'}, {'Id': 'DYAJBD-A90097XIB', 'cateId': 'DYAJBD', 'picS': '/items/DYAJBDA90097XIB/000002_1544086661.jpg', 'picB': '/items/DYAJBDA90097XIB/000001_1546999441.jpg', 'name': 'MacBook Pro13 Touch Bar: 2.3GHz quad-core 8th- Intel\\xa0Core\\xa0i5, 256GB - Silve', 'describe': 'MacBook Pro13 銀色第八代 i5 / 8GB / 256GB / 2.3GHz\\\\r\\\\n★2018新款觸控\\r\\n商品特色\\r\\n• 4 核心 intel core i5 處理器\\r\\n• 具備原彩顯示技術的亮麗 retina 顯示器\\r\\n• 觸控列和 touch id\\r\\n• intel iris plus graphics 655\\r\\n• 超快速 ssd\\r\\n• 四個 thunderbolt 3 (usb-c) 埠\\r\\n• 長達 10 小時電池續航力2\\r\\n• 802.11ac wi-fi\\r\\n• 力度觸控板\\r\\n\\r\\n注意事項', 'price': 51530, 'originPrice': 51530, 'author': '', 'brand': '', 'publishDate': '', 'sellerId': '', 'isPChome': 1, 'isNC17': 0, 'couponActid': [], 'BU': 'ec'}, {'Id': 'DYAJCS-19009QLN7', 'cateId': 'DYAJCR', 'picS': '/items/DYAJCS19009QLN7/000002_1547607133.jpg', 'picB': '/items/DYAJCS19009QLN7/000001_1547607133.jpg', 'name': 'MacBook Pro15 Touch Bar: 2.2GHz 6-core 8th- Intel Core i7, 256GB - Silver', 'describe': 'MacBook Pro15 銀色 第八代 i7 / 16GB / 256GB / 2.2GHz\\\\r\\\\n降3千優惠★再贈好禮至1 31(四)10:00止 \\r\\n數量有限，售完為止\\r\\n網路價$77900．限時價↘$７４９００\\r\\n\\r\\n★2018新款觸控\\r\\n商品特色\\r\\n• 6 核心 intel core i7 處理器\\r\\n• 具備原彩顯示技術的亮麗 retina 顯示器\\r\\n• 觸控列和 touch id\\r\\n• radeon pro 555x 繪圖處理器配備 4gb 視訊記憶體\\r\\n• intel uhd graphics 630\\r\\n• 超快速 ssd\\r\\n• 四個 thunderbolt 3 (usb-c) 埠\\r\\n• 長達 10 小時電池續航力\\r\\n• 802.11ac wi-fi\\r\\n• 力度觸控板\\r\\n\\r\\n注意事項', 'price': 74900, 'originPrice': 74900, 'author': '', 'brand': '', 'publishDate': '', 'sellerId': '', 'isPChome': 1, 'isNC17': 0, 'couponActid': [], 'BU': 'ec'}, {'Id': 'DCADLA-A9009LMQZ', 'cateId': 'DCADLA', 'picS': '/items/DCADLAA9009LMQZ/000002_1542967034.jpg', 'picB': '/items/DCADLAA9009LMQZ/000001_1542967034.jpg', 'name': 'innowatt DOCK NET RJ45 & HDMI Type-C Hub for Macbook Pro 多功能充電傳輸集線器 iW71N', 'describe': 'innowatt DOCK NET Thunderbolt 3 & RJ45 & HDMI Type-C Hub for Macbook Pro 多功能充電傳輸集線器 iW71N\\\\r\\\\n1.適用macbook pro 2016~2019全系列 \\r\\n2.多功能集線器高階thunderbolt 3版本 (iw71n) \\r\\n3.usb-c具thunderbolt 3 (40gb）傳輸規格 \\r\\n4.支援pd充電 5k video輸出 雙屏4k輸出 \\r\\n5.具備hdmi 1080p@60hz & 4k@30hz \\r\\n6.具備rj45網路孔設計 隨插即用不需設定 可達1 gb s \\r\\n7.無線收納超easy，輕薄短小放pocket\\r\\n\\r\\n★若本區庫存銷售一空，請至下列原廠與pchome合作的另一連結採購，可獲贈專屬macbook pro保護殼\\r\\n→《dock net 贈專屬客製macbook pro保護殼》\\r\\n\\r\\n★本專區贈送多重好禮 含皮套 iphone傳輸線等\\r\\n\\r\\n▼innowatt熱銷推薦 \\r\\n《the dock s type-c hdmi usb 多功能充電傳輸集線器》\\r\\n《dock pro+ thunderbolt  usb 3.1多功能充電傳輸集線器》\\r\\n《dock pro thunderbolt  usb 3.1多功能充電傳輸集線器》\\r\\n《dock dock mini  usb 3.1多功能充電傳輸集線器灰色》\\r\\n《dock dock mini  usb 3.1多功能充電傳輸集線器銀色》\\r\\n《apple macbook pro專用超薄高透鍵盤保護膜》\\r\\n《螢幕防窺片macbook retina12吋》\\r\\n《螢幕防窺片macbook retina13吋》\\r\\n《mfi蘋果認證 270cm充電傳輸線》\\r\\n《tough線 (1米 玫瑰金）》\\r\\n《tough線 (1米 金）》\\r\\n《innowatt the yoga 優架(l) 筆電支架》', 'price': 2490, 'originPrice': 2490, 'author': '', 'brand': '', 'publishDate': '', 'sellerId': '', 'isPChome': 1, 'isNC17': 0, 'couponActid': [], 'BU': 'ec'}, {'Id': 'DYAJCS-19009FXWN', 'cateId': 'DYAJCR', 'picS': '/items/DYAJCS19009FXWN/000002_1544004628.jpg', 'picB': '/items/DYAJCS19009FXWN/000001_1538028054.jpg', 'name': 'MacBook Pro15 Touch Bar: 2.6GHz 6-core 8th- Intel Core i7, 512GB - Silver', 'describe': 'MacBook Pro15 銀色 i7 / 16GB / 512GB / 2.6GHz\\\\r\\\\n95折優惠★再送超值雙重好禮 \\r\\n數量有限，售完為止\\r\\n網路價$89900．限時價↘$８５４０５\\r\\n\\r\\n★2018新款觸控\\r\\n商品特色\\r\\n• 6 核心 intel core i7 處理器\\r\\n• 具備原彩顯示技術的亮麗 retina 顯示器\\r\\n• 觸控列和 touch id\\r\\n• radeon pro 560x 繪圖處理器配備 4gb 視訊記憶體\\r\\n• intel uhd graphics 630\\r\\n• 超快速 ssd\\r\\n• 四個 thunderbolt 3 (usb-c) 埠\\r\\n• 長達 10 小時電池續航力\\r\\n• 802.11ac wi-fi\\r\\n• 力度觸控板\\r\\n\\r\\n注意事項', 'price': 85405, 'originPrice': 85405, 'author': '', 'brand': '', 'publishDate': '', 'sellerId': '', 'isPChome': 1, 'isNC17': 0, 'couponActid': [], 'BU': 'ec'}]}\n"
          ],
          "name": "stdout"
        }
      ]
    },
    {
      "metadata": {
        "id": "iC05lkQsLtGd",
        "colab_type": "code",
        "colab": {}
      },
      "cell_type": "code",
      "source": [
        "json_dict[\"prods\"]\n",
        "\n",
        "len = len(json_dict[\"prods\"])\n"
      ],
      "execution_count": 0,
      "outputs": []
    },
    {
      "metadata": {
        "id": "GgKuEfyFcV3D",
        "colab_type": "code",
        "outputId": "f73eba88-45be-45f0-b9f2-aef24387554b",
        "colab": {
          "base_uri": "https://localhost:8080/",
          "height": 34
        }
      },
      "cell_type": "code",
      "source": [
        "prod_prices = []\n",
        "for i in range(20): \n",
        "  prod_prices.append(json_dict[\"prods\"][i][\"price\"])\n",
        "  #print(price_list ) \n",
        "print(\"max = {}\",format(max(prod_prices)))    "
      ],
      "execution_count": 0,
      "outputs": [
        {
          "output_type": "stream",
          "text": [
            "max = {} 85405\n"
          ],
          "name": "stdout"
        }
      ]
    },
    {
      "metadata": {
        "id": "5d5jO2ZchORj",
        "colab_type": "code",
        "outputId": "db46ce58-dae4-4472-e3a9-ba558d2664b4",
        "colab": {
          "base_uri": "https://localhost:8080/",
          "height": 34
        }
      },
      "cell_type": "code",
      "source": [
        "print(\"max = {}\",format(min(prod_prices)))    "
      ],
      "execution_count": 0,
      "outputs": [
        {
          "output_type": "stream",
          "text": [
            "max = {} 1790\n"
          ],
          "name": "stdout"
        }
      ]
    },
    {
      "metadata": {
        "id": "8xbQbMHglUoj",
        "colab_type": "code",
        "outputId": "febc3606-03a8-4d12-d130-b4a023ab98d7",
        "colab": {
          "base_uri": "https://localhost:8080/",
          "height": 34
        }
      },
      "cell_type": "code",
      "source": [
        "print(\"平均的價格為：{}\".format(sum(prod_prices) / len))"
      ],
      "execution_count": 0,
      "outputs": [
        {
          "output_type": "stream",
          "text": [
            "平均的價格為：40040.2\n"
          ],
          "name": "stdout"
        }
      ]
    },
    {
      "metadata": {
        "id": "yW_hV68Oo11j",
        "colab_type": "code",
        "colab": {}
      },
      "cell_type": "code",
      "source": [
        "import requests\n",
        "lakers_roster_url = \"https://data.nba.com/data/10s/v2015/json/mobile_teams/nba/2018/teams/lakers/player_averages_02.json\"\n",
        "response = requests.get(lakers_roster_url)"
      ],
      "execution_count": 0,
      "outputs": []
    },
    {
      "metadata": {
        "id": "0Ws9Uv_LpIFL",
        "colab_type": "code",
        "outputId": "ce1415db-944c-4e24-aa89-571d8c4271b8",
        "colab": {
          "base_uri": "https://localhost:8080/",
          "height": 233
        }
      },
      "cell_type": "code",
      "source": [
        "json_dict = response.json()\n",
        "num_of_players = len(json_dict[\"tpsts\"][\"pl\"])\n",
        "print(\"洛杉磯湖人隊有 {} 個球員\".format(num_of_players))\n",
        "#json_dict[\"tpsts\"][\"pl\"][0][\"fn\"] + \" \" + json_dict[\"tpsts\"][\"pl\"][0][\"ln\"]\n",
        "lakers_roster = []\n",
        "for i in range(num_of_players):\n",
        "  player_name = \"{} {}\".format(json_dict[\"tpsts\"][\"pl\"][i][\"fn\"], json_dict[\"tpsts\"][\"pl\"][i][\"ln\"])\n",
        "  lakers_roster.append(player_name)\n",
        "# list comprehension\n",
        "#lakers_roster = [\"{} {}\".format(json_dict[\"tpsts\"][\"pl\"][i][\"fn\"], json_dict[\"tpsts\"][\"pl\"][i][\"ln\"]) for i in range(num_of_players)]\n",
        "print(lakers_roster)\n",
        "# [\"Tyson Chandler\", \"LeBron James\", \"Rajon Rondo\", ...]"
      ],
      "execution_count": 0,
      "outputs": [
        {
          "output_type": "error",
          "ename": "TypeError",
          "evalue": "ignored",
          "traceback": [
            "\u001b[0;31m---------------------------------------------------------------------------\u001b[0m",
            "\u001b[0;31mTypeError\u001b[0m                                 Traceback (most recent call last)",
            "\u001b[0;32m<ipython-input-75-d23f2a550a07>\u001b[0m in \u001b[0;36m<module>\u001b[0;34m()\u001b[0m\n\u001b[1;32m      1\u001b[0m \u001b[0mjson_dict\u001b[0m \u001b[0;34m=\u001b[0m \u001b[0mresponse\u001b[0m\u001b[0;34m.\u001b[0m\u001b[0mjson\u001b[0m\u001b[0;34m(\u001b[0m\u001b[0;34m)\u001b[0m\u001b[0;34m\u001b[0m\u001b[0;34m\u001b[0m\u001b[0m\n\u001b[0;32m----> 2\u001b[0;31m \u001b[0mnum_of_players\u001b[0m \u001b[0;34m=\u001b[0m \u001b[0mlen\u001b[0m\u001b[0;34m(\u001b[0m\u001b[0mjson_dict\u001b[0m\u001b[0;34m[\u001b[0m\u001b[0;34m\"tpsts\"\u001b[0m\u001b[0;34m]\u001b[0m\u001b[0;34m[\u001b[0m\u001b[0;34m\"pl\"\u001b[0m\u001b[0;34m]\u001b[0m\u001b[0;34m)\u001b[0m\u001b[0;34m\u001b[0m\u001b[0;34m\u001b[0m\u001b[0m\n\u001b[0m\u001b[1;32m      3\u001b[0m \u001b[0mprint\u001b[0m\u001b[0;34m(\u001b[0m\u001b[0;34m\"洛杉磯湖人隊有 {} 個球員\"\u001b[0m\u001b[0;34m.\u001b[0m\u001b[0mformat\u001b[0m\u001b[0;34m(\u001b[0m\u001b[0mnum_of_players\u001b[0m\u001b[0;34m)\u001b[0m\u001b[0;34m)\u001b[0m\u001b[0;34m\u001b[0m\u001b[0;34m\u001b[0m\u001b[0m\n\u001b[1;32m      4\u001b[0m \u001b[0;31m#json_dict[\"tpsts\"][\"pl\"][0][\"fn\"] + \" \" + json_dict[\"tpsts\"][\"pl\"][0][\"ln\"]\u001b[0m\u001b[0;34m\u001b[0m\u001b[0;34m\u001b[0m\u001b[0;34m\u001b[0m\u001b[0m\n\u001b[1;32m      5\u001b[0m \u001b[0mlakers_roster\u001b[0m \u001b[0;34m=\u001b[0m \u001b[0;34m[\u001b[0m\u001b[0;34m]\u001b[0m\u001b[0;34m\u001b[0m\u001b[0;34m\u001b[0m\u001b[0m\n",
            "\u001b[0;31mTypeError\u001b[0m: 'int' object is not callable"
          ]
        }
      ]
    },
    {
      "metadata": {
        "id": "qH0xahvOzXhZ",
        "colab_type": "code",
        "colab": {}
      },
      "cell_type": "code",
      "source": [
        "############   2-11 W324\n",
        "Dataframe 的index\n",
        "\n"
      ],
      "execution_count": 0,
      "outputs": []
    },
    {
      "metadata": {
        "id": "TMHot2BdMOLE",
        "colab_type": "code",
        "outputId": "34f31a2d-bf10-474a-a5cd-c6bbe68b95a3",
        "colab": {
          "base_uri": "https://localhost:8080/",
          "height": 204
        }
      },
      "cell_type": "code",
      "source": [
        "import pandas as pd\n",
        "\n",
        "cities = [\"Taipei\", \"Tokyo\", \"New York\", \"London\", \"Honolulu\"]\n",
        "temps_c = [17, 4, 1, 3, 18]\n",
        "df = pd.DataFrame()\n",
        "df[\"city\"] = cities\n",
        "df[\"temp_c\"] = temps_c\n",
        "df"
      ],
      "execution_count": 0,
      "outputs": [
        {
          "output_type": "execute_result",
          "data": {
            "text/html": [
              "<div>\n",
              "<style scoped>\n",
              "    .dataframe tbody tr th:only-of-type {\n",
              "        vertical-align: middle;\n",
              "    }\n",
              "\n",
              "    .dataframe tbody tr th {\n",
              "        vertical-align: top;\n",
              "    }\n",
              "\n",
              "    .dataframe thead th {\n",
              "        text-align: right;\n",
              "    }\n",
              "</style>\n",
              "<table border=\"1\" class=\"dataframe\">\n",
              "  <thead>\n",
              "    <tr style=\"text-align: right;\">\n",
              "      <th></th>\n",
              "      <th>city</th>\n",
              "      <th>temp_c</th>\n",
              "    </tr>\n",
              "  </thead>\n",
              "  <tbody>\n",
              "    <tr>\n",
              "      <th>0</th>\n",
              "      <td>Taipei</td>\n",
              "      <td>17</td>\n",
              "    </tr>\n",
              "    <tr>\n",
              "      <th>1</th>\n",
              "      <td>Tokyo</td>\n",
              "      <td>4</td>\n",
              "    </tr>\n",
              "    <tr>\n",
              "      <th>2</th>\n",
              "      <td>New York</td>\n",
              "      <td>1</td>\n",
              "    </tr>\n",
              "    <tr>\n",
              "      <th>3</th>\n",
              "      <td>London</td>\n",
              "      <td>3</td>\n",
              "    </tr>\n",
              "    <tr>\n",
              "      <th>4</th>\n",
              "      <td>Honolulu</td>\n",
              "      <td>18</td>\n",
              "    </tr>\n",
              "  </tbody>\n",
              "</table>\n",
              "</div>"
            ],
            "text/plain": [
              "       city  temp_c\n",
              "0    Taipei      17\n",
              "1     Tokyo       4\n",
              "2  New York       1\n",
              "3    London       3\n",
              "4  Honolulu      18"
            ]
          },
          "metadata": {
            "tags": []
          },
          "execution_count": 2
        }
      ]
    },
    {
      "metadata": {
        "id": "y-kMgr5JMGF8",
        "colab_type": "text"
      },
      "cell_type": "markdown",
      "source": [
        ""
      ]
    },
    {
      "metadata": {
        "id": "MQGcPOu5NmuT",
        "colab_type": "code",
        "outputId": "e3bc4f37-5427-482e-e204-bbe86b4a17df",
        "colab": {
          "base_uri": "https://localhost:8080/",
          "height": 51
        }
      },
      "cell_type": "code",
      "source": [
        "df.set_index(\"city\").loc[\"Taipei\",:]"
      ],
      "execution_count": 0,
      "outputs": [
        {
          "output_type": "execute_result",
          "data": {
            "text/plain": [
              "temp_c    17\n",
              "Name: Taipei, dtype: int64"
            ]
          },
          "metadata": {
            "tags": []
          },
          "execution_count": 4
        }
      ]
    },
    {
      "metadata": {
        "id": "SiYeC5MBNp9n",
        "colab_type": "code",
        "colab": {}
      },
      "cell_type": "code",
      "source": [
        "      #######  "
      ],
      "execution_count": 0,
      "outputs": []
    },
    {
      "metadata": {
        "id": "EumNXYimQ1ob",
        "colab_type": "text"
      },
      "cell_type": "markdown",
      "source": [
        " pandas：奧運獎牌\n",
        " "
      ]
    },
    {
      "metadata": {
        "id": "aHlDWfrMQ3M7",
        "colab_type": "code",
        "colab": {}
      },
      "cell_type": "code",
      "source": [
        "import pandas as pd\n",
        "\n",
        "df = pd.read_csv('https://storage.googleapis.com/py_ml_datasets/olympics.csv', index_col=0, skiprows=1)\n",
        "\n",
        "for col in df.columns:\n",
        "    if col[:2]=='01':\n",
        "        df.rename(columns={col:'Gold'+col[4:]}, inplace=True)\n",
        "    if col[:2]=='02':\n",
        "        df.rename(columns={col:'Silver'+col[4:]}, inplace=True)\n",
        "    if col[:2]=='03':\n",
        "        df.rename(columns={col:'Bronze'+col[4:]}, inplace=True)\n",
        "    if col[:1]=='№':\n",
        "        df.rename(columns={col:'#'+col[1:]}, inplace=True)\n",
        "\n",
        "names_ids = df.index.str.split('\\s\\(') # split the index by '('\n",
        "\n",
        "df.index = names_ids.str[0] # the [0] element is the country name (new index) \n",
        "df['ID'] = names_ids.str[1].str[:3] # the [1] element is the abbreviation or ID (take first 3 characters from that)\n",
        "\n",
        "df = df.drop('Totals')"
      ],
      "execution_count": 0,
      "outputs": []
    },
    {
      "metadata": {
        "id": "wBiJ6-CMQyZq",
        "colab_type": "text"
      },
      "cell_type": "markdown",
      "source": [
        ""
      ]
    },
    {
      "metadata": {
        "id": "8oWFeS8xRNDL",
        "colab_type": "code",
        "outputId": "07e187a8-1e57-4244-ca61-66870f97b310",
        "colab": {
          "base_uri": "https://localhost:8080/",
          "height": 1969
        }
      },
      "cell_type": "code",
      "source": [
        "df"
      ],
      "execution_count": 0,
      "outputs": [
        {
          "output_type": "execute_result",
          "data": {
            "text/html": [
              "<div>\n",
              "<style scoped>\n",
              "    .dataframe tbody tr th:only-of-type {\n",
              "        vertical-align: middle;\n",
              "    }\n",
              "\n",
              "    .dataframe tbody tr th {\n",
              "        vertical-align: top;\n",
              "    }\n",
              "\n",
              "    .dataframe thead th {\n",
              "        text-align: right;\n",
              "    }\n",
              "</style>\n",
              "<table border=\"1\" class=\"dataframe\">\n",
              "  <thead>\n",
              "    <tr style=\"text-align: right;\">\n",
              "      <th></th>\n",
              "      <th># Summer</th>\n",
              "      <th>Gold</th>\n",
              "      <th>Silver</th>\n",
              "      <th>Bronze</th>\n",
              "      <th>Total</th>\n",
              "      <th># Winter</th>\n",
              "      <th>Gold.1</th>\n",
              "      <th>Silver.1</th>\n",
              "      <th>Bronze.1</th>\n",
              "      <th>Total.1</th>\n",
              "      <th># Games</th>\n",
              "      <th>Gold.2</th>\n",
              "      <th>Silver.2</th>\n",
              "      <th>Bronze.2</th>\n",
              "      <th>Combined total</th>\n",
              "      <th>ID</th>\n",
              "    </tr>\n",
              "  </thead>\n",
              "  <tbody>\n",
              "    <tr>\n",
              "      <th>Afghanistan</th>\n",
              "      <td>13</td>\n",
              "      <td>0</td>\n",
              "      <td>0</td>\n",
              "      <td>2</td>\n",
              "      <td>2</td>\n",
              "      <td>0</td>\n",
              "      <td>0</td>\n",
              "      <td>0</td>\n",
              "      <td>0</td>\n",
              "      <td>0</td>\n",
              "      <td>13</td>\n",
              "      <td>0</td>\n",
              "      <td>0</td>\n",
              "      <td>2</td>\n",
              "      <td>2</td>\n",
              "      <td>AFG</td>\n",
              "    </tr>\n",
              "    <tr>\n",
              "      <th>Algeria</th>\n",
              "      <td>12</td>\n",
              "      <td>5</td>\n",
              "      <td>2</td>\n",
              "      <td>8</td>\n",
              "      <td>15</td>\n",
              "      <td>3</td>\n",
              "      <td>0</td>\n",
              "      <td>0</td>\n",
              "      <td>0</td>\n",
              "      <td>0</td>\n",
              "      <td>15</td>\n",
              "      <td>5</td>\n",
              "      <td>2</td>\n",
              "      <td>8</td>\n",
              "      <td>15</td>\n",
              "      <td>ALG</td>\n",
              "    </tr>\n",
              "    <tr>\n",
              "      <th>Argentina</th>\n",
              "      <td>23</td>\n",
              "      <td>18</td>\n",
              "      <td>24</td>\n",
              "      <td>28</td>\n",
              "      <td>70</td>\n",
              "      <td>18</td>\n",
              "      <td>0</td>\n",
              "      <td>0</td>\n",
              "      <td>0</td>\n",
              "      <td>0</td>\n",
              "      <td>41</td>\n",
              "      <td>18</td>\n",
              "      <td>24</td>\n",
              "      <td>28</td>\n",
              "      <td>70</td>\n",
              "      <td>ARG</td>\n",
              "    </tr>\n",
              "    <tr>\n",
              "      <th>Armenia</th>\n",
              "      <td>5</td>\n",
              "      <td>1</td>\n",
              "      <td>2</td>\n",
              "      <td>9</td>\n",
              "      <td>12</td>\n",
              "      <td>6</td>\n",
              "      <td>0</td>\n",
              "      <td>0</td>\n",
              "      <td>0</td>\n",
              "      <td>0</td>\n",
              "      <td>11</td>\n",
              "      <td>1</td>\n",
              "      <td>2</td>\n",
              "      <td>9</td>\n",
              "      <td>12</td>\n",
              "      <td>ARM</td>\n",
              "    </tr>\n",
              "    <tr>\n",
              "      <th>Australasia</th>\n",
              "      <td>2</td>\n",
              "      <td>3</td>\n",
              "      <td>4</td>\n",
              "      <td>5</td>\n",
              "      <td>12</td>\n",
              "      <td>0</td>\n",
              "      <td>0</td>\n",
              "      <td>0</td>\n",
              "      <td>0</td>\n",
              "      <td>0</td>\n",
              "      <td>2</td>\n",
              "      <td>3</td>\n",
              "      <td>4</td>\n",
              "      <td>5</td>\n",
              "      <td>12</td>\n",
              "      <td>ANZ</td>\n",
              "    </tr>\n",
              "    <tr>\n",
              "      <th>Australia</th>\n",
              "      <td>25</td>\n",
              "      <td>139</td>\n",
              "      <td>152</td>\n",
              "      <td>177</td>\n",
              "      <td>468</td>\n",
              "      <td>18</td>\n",
              "      <td>5</td>\n",
              "      <td>3</td>\n",
              "      <td>4</td>\n",
              "      <td>12</td>\n",
              "      <td>43</td>\n",
              "      <td>144</td>\n",
              "      <td>155</td>\n",
              "      <td>181</td>\n",
              "      <td>480</td>\n",
              "      <td>AUS</td>\n",
              "    </tr>\n",
              "    <tr>\n",
              "      <th>Austria</th>\n",
              "      <td>26</td>\n",
              "      <td>18</td>\n",
              "      <td>33</td>\n",
              "      <td>35</td>\n",
              "      <td>86</td>\n",
              "      <td>22</td>\n",
              "      <td>59</td>\n",
              "      <td>78</td>\n",
              "      <td>81</td>\n",
              "      <td>218</td>\n",
              "      <td>48</td>\n",
              "      <td>77</td>\n",
              "      <td>111</td>\n",
              "      <td>116</td>\n",
              "      <td>304</td>\n",
              "      <td>AUT</td>\n",
              "    </tr>\n",
              "    <tr>\n",
              "      <th>Azerbaijan</th>\n",
              "      <td>5</td>\n",
              "      <td>6</td>\n",
              "      <td>5</td>\n",
              "      <td>15</td>\n",
              "      <td>26</td>\n",
              "      <td>5</td>\n",
              "      <td>0</td>\n",
              "      <td>0</td>\n",
              "      <td>0</td>\n",
              "      <td>0</td>\n",
              "      <td>10</td>\n",
              "      <td>6</td>\n",
              "      <td>5</td>\n",
              "      <td>15</td>\n",
              "      <td>26</td>\n",
              "      <td>AZE</td>\n",
              "    </tr>\n",
              "    <tr>\n",
              "      <th>Bahamas</th>\n",
              "      <td>15</td>\n",
              "      <td>5</td>\n",
              "      <td>2</td>\n",
              "      <td>5</td>\n",
              "      <td>12</td>\n",
              "      <td>0</td>\n",
              "      <td>0</td>\n",
              "      <td>0</td>\n",
              "      <td>0</td>\n",
              "      <td>0</td>\n",
              "      <td>15</td>\n",
              "      <td>5</td>\n",
              "      <td>2</td>\n",
              "      <td>5</td>\n",
              "      <td>12</td>\n",
              "      <td>BAH</td>\n",
              "    </tr>\n",
              "    <tr>\n",
              "      <th>Bahrain</th>\n",
              "      <td>8</td>\n",
              "      <td>0</td>\n",
              "      <td>0</td>\n",
              "      <td>1</td>\n",
              "      <td>1</td>\n",
              "      <td>0</td>\n",
              "      <td>0</td>\n",
              "      <td>0</td>\n",
              "      <td>0</td>\n",
              "      <td>0</td>\n",
              "      <td>8</td>\n",
              "      <td>0</td>\n",
              "      <td>0</td>\n",
              "      <td>1</td>\n",
              "      <td>1</td>\n",
              "      <td>BRN</td>\n",
              "    </tr>\n",
              "    <tr>\n",
              "      <th>Barbados</th>\n",
              "      <td>11</td>\n",
              "      <td>0</td>\n",
              "      <td>0</td>\n",
              "      <td>1</td>\n",
              "      <td>1</td>\n",
              "      <td>0</td>\n",
              "      <td>0</td>\n",
              "      <td>0</td>\n",
              "      <td>0</td>\n",
              "      <td>0</td>\n",
              "      <td>11</td>\n",
              "      <td>0</td>\n",
              "      <td>0</td>\n",
              "      <td>1</td>\n",
              "      <td>1</td>\n",
              "      <td>BAR</td>\n",
              "    </tr>\n",
              "    <tr>\n",
              "      <th>Belarus</th>\n",
              "      <td>5</td>\n",
              "      <td>12</td>\n",
              "      <td>24</td>\n",
              "      <td>39</td>\n",
              "      <td>75</td>\n",
              "      <td>6</td>\n",
              "      <td>6</td>\n",
              "      <td>4</td>\n",
              "      <td>5</td>\n",
              "      <td>15</td>\n",
              "      <td>11</td>\n",
              "      <td>18</td>\n",
              "      <td>28</td>\n",
              "      <td>44</td>\n",
              "      <td>90</td>\n",
              "      <td>BLR</td>\n",
              "    </tr>\n",
              "    <tr>\n",
              "      <th>Belgium</th>\n",
              "      <td>25</td>\n",
              "      <td>37</td>\n",
              "      <td>52</td>\n",
              "      <td>53</td>\n",
              "      <td>142</td>\n",
              "      <td>20</td>\n",
              "      <td>1</td>\n",
              "      <td>1</td>\n",
              "      <td>3</td>\n",
              "      <td>5</td>\n",
              "      <td>45</td>\n",
              "      <td>38</td>\n",
              "      <td>53</td>\n",
              "      <td>56</td>\n",
              "      <td>147</td>\n",
              "      <td>BEL</td>\n",
              "    </tr>\n",
              "    <tr>\n",
              "      <th>Bermuda</th>\n",
              "      <td>17</td>\n",
              "      <td>0</td>\n",
              "      <td>0</td>\n",
              "      <td>1</td>\n",
              "      <td>1</td>\n",
              "      <td>7</td>\n",
              "      <td>0</td>\n",
              "      <td>0</td>\n",
              "      <td>0</td>\n",
              "      <td>0</td>\n",
              "      <td>24</td>\n",
              "      <td>0</td>\n",
              "      <td>0</td>\n",
              "      <td>1</td>\n",
              "      <td>1</td>\n",
              "      <td>BER</td>\n",
              "    </tr>\n",
              "    <tr>\n",
              "      <th>Bohemia</th>\n",
              "      <td>3</td>\n",
              "      <td>0</td>\n",
              "      <td>1</td>\n",
              "      <td>3</td>\n",
              "      <td>4</td>\n",
              "      <td>0</td>\n",
              "      <td>0</td>\n",
              "      <td>0</td>\n",
              "      <td>0</td>\n",
              "      <td>0</td>\n",
              "      <td>3</td>\n",
              "      <td>0</td>\n",
              "      <td>1</td>\n",
              "      <td>3</td>\n",
              "      <td>4</td>\n",
              "      <td>BOH</td>\n",
              "    </tr>\n",
              "    <tr>\n",
              "      <th>Botswana</th>\n",
              "      <td>9</td>\n",
              "      <td>0</td>\n",
              "      <td>1</td>\n",
              "      <td>0</td>\n",
              "      <td>1</td>\n",
              "      <td>0</td>\n",
              "      <td>0</td>\n",
              "      <td>0</td>\n",
              "      <td>0</td>\n",
              "      <td>0</td>\n",
              "      <td>9</td>\n",
              "      <td>0</td>\n",
              "      <td>1</td>\n",
              "      <td>0</td>\n",
              "      <td>1</td>\n",
              "      <td>BOT</td>\n",
              "    </tr>\n",
              "    <tr>\n",
              "      <th>Brazil</th>\n",
              "      <td>21</td>\n",
              "      <td>23</td>\n",
              "      <td>30</td>\n",
              "      <td>55</td>\n",
              "      <td>108</td>\n",
              "      <td>7</td>\n",
              "      <td>0</td>\n",
              "      <td>0</td>\n",
              "      <td>0</td>\n",
              "      <td>0</td>\n",
              "      <td>28</td>\n",
              "      <td>23</td>\n",
              "      <td>30</td>\n",
              "      <td>55</td>\n",
              "      <td>108</td>\n",
              "      <td>BRA</td>\n",
              "    </tr>\n",
              "    <tr>\n",
              "      <th>British West Indies</th>\n",
              "      <td>1</td>\n",
              "      <td>0</td>\n",
              "      <td>0</td>\n",
              "      <td>2</td>\n",
              "      <td>2</td>\n",
              "      <td>0</td>\n",
              "      <td>0</td>\n",
              "      <td>0</td>\n",
              "      <td>0</td>\n",
              "      <td>0</td>\n",
              "      <td>1</td>\n",
              "      <td>0</td>\n",
              "      <td>0</td>\n",
              "      <td>2</td>\n",
              "      <td>2</td>\n",
              "      <td>BWI</td>\n",
              "    </tr>\n",
              "    <tr>\n",
              "      <th>Bulgaria</th>\n",
              "      <td>19</td>\n",
              "      <td>51</td>\n",
              "      <td>85</td>\n",
              "      <td>78</td>\n",
              "      <td>214</td>\n",
              "      <td>19</td>\n",
              "      <td>1</td>\n",
              "      <td>2</td>\n",
              "      <td>3</td>\n",
              "      <td>6</td>\n",
              "      <td>38</td>\n",
              "      <td>52</td>\n",
              "      <td>87</td>\n",
              "      <td>81</td>\n",
              "      <td>220</td>\n",
              "      <td>BUL</td>\n",
              "    </tr>\n",
              "    <tr>\n",
              "      <th>Burundi</th>\n",
              "      <td>5</td>\n",
              "      <td>1</td>\n",
              "      <td>0</td>\n",
              "      <td>0</td>\n",
              "      <td>1</td>\n",
              "      <td>0</td>\n",
              "      <td>0</td>\n",
              "      <td>0</td>\n",
              "      <td>0</td>\n",
              "      <td>0</td>\n",
              "      <td>5</td>\n",
              "      <td>1</td>\n",
              "      <td>0</td>\n",
              "      <td>0</td>\n",
              "      <td>1</td>\n",
              "      <td>BDI</td>\n",
              "    </tr>\n",
              "    <tr>\n",
              "      <th>Cameroon</th>\n",
              "      <td>13</td>\n",
              "      <td>3</td>\n",
              "      <td>1</td>\n",
              "      <td>1</td>\n",
              "      <td>5</td>\n",
              "      <td>1</td>\n",
              "      <td>0</td>\n",
              "      <td>0</td>\n",
              "      <td>0</td>\n",
              "      <td>0</td>\n",
              "      <td>14</td>\n",
              "      <td>3</td>\n",
              "      <td>1</td>\n",
              "      <td>1</td>\n",
              "      <td>5</td>\n",
              "      <td>CMR</td>\n",
              "    </tr>\n",
              "    <tr>\n",
              "      <th>Canada</th>\n",
              "      <td>25</td>\n",
              "      <td>59</td>\n",
              "      <td>99</td>\n",
              "      <td>121</td>\n",
              "      <td>279</td>\n",
              "      <td>22</td>\n",
              "      <td>62</td>\n",
              "      <td>56</td>\n",
              "      <td>52</td>\n",
              "      <td>170</td>\n",
              "      <td>47</td>\n",
              "      <td>121</td>\n",
              "      <td>155</td>\n",
              "      <td>173</td>\n",
              "      <td>449</td>\n",
              "      <td>CAN</td>\n",
              "    </tr>\n",
              "    <tr>\n",
              "      <th>Chile</th>\n",
              "      <td>22</td>\n",
              "      <td>2</td>\n",
              "      <td>7</td>\n",
              "      <td>4</td>\n",
              "      <td>13</td>\n",
              "      <td>16</td>\n",
              "      <td>0</td>\n",
              "      <td>0</td>\n",
              "      <td>0</td>\n",
              "      <td>0</td>\n",
              "      <td>38</td>\n",
              "      <td>2</td>\n",
              "      <td>7</td>\n",
              "      <td>4</td>\n",
              "      <td>13</td>\n",
              "      <td>CHI</td>\n",
              "    </tr>\n",
              "    <tr>\n",
              "      <th>China</th>\n",
              "      <td>9</td>\n",
              "      <td>201</td>\n",
              "      <td>146</td>\n",
              "      <td>126</td>\n",
              "      <td>473</td>\n",
              "      <td>10</td>\n",
              "      <td>12</td>\n",
              "      <td>22</td>\n",
              "      <td>19</td>\n",
              "      <td>53</td>\n",
              "      <td>19</td>\n",
              "      <td>213</td>\n",
              "      <td>168</td>\n",
              "      <td>145</td>\n",
              "      <td>526</td>\n",
              "      <td>CHN</td>\n",
              "    </tr>\n",
              "    <tr>\n",
              "      <th>Colombia</th>\n",
              "      <td>18</td>\n",
              "      <td>2</td>\n",
              "      <td>6</td>\n",
              "      <td>11</td>\n",
              "      <td>19</td>\n",
              "      <td>1</td>\n",
              "      <td>0</td>\n",
              "      <td>0</td>\n",
              "      <td>0</td>\n",
              "      <td>0</td>\n",
              "      <td>19</td>\n",
              "      <td>2</td>\n",
              "      <td>6</td>\n",
              "      <td>11</td>\n",
              "      <td>19</td>\n",
              "      <td>COL</td>\n",
              "    </tr>\n",
              "    <tr>\n",
              "      <th>Costa Rica</th>\n",
              "      <td>14</td>\n",
              "      <td>1</td>\n",
              "      <td>1</td>\n",
              "      <td>2</td>\n",
              "      <td>4</td>\n",
              "      <td>6</td>\n",
              "      <td>0</td>\n",
              "      <td>0</td>\n",
              "      <td>0</td>\n",
              "      <td>0</td>\n",
              "      <td>20</td>\n",
              "      <td>1</td>\n",
              "      <td>1</td>\n",
              "      <td>2</td>\n",
              "      <td>4</td>\n",
              "      <td>CRC</td>\n",
              "    </tr>\n",
              "    <tr>\n",
              "      <th>Ivory Coast</th>\n",
              "      <td>12</td>\n",
              "      <td>0</td>\n",
              "      <td>1</td>\n",
              "      <td>0</td>\n",
              "      <td>1</td>\n",
              "      <td>0</td>\n",
              "      <td>0</td>\n",
              "      <td>0</td>\n",
              "      <td>0</td>\n",
              "      <td>0</td>\n",
              "      <td>12</td>\n",
              "      <td>0</td>\n",
              "      <td>1</td>\n",
              "      <td>0</td>\n",
              "      <td>1</td>\n",
              "      <td>CIV</td>\n",
              "    </tr>\n",
              "    <tr>\n",
              "      <th>Croatia</th>\n",
              "      <td>6</td>\n",
              "      <td>6</td>\n",
              "      <td>7</td>\n",
              "      <td>10</td>\n",
              "      <td>23</td>\n",
              "      <td>7</td>\n",
              "      <td>4</td>\n",
              "      <td>6</td>\n",
              "      <td>1</td>\n",
              "      <td>11</td>\n",
              "      <td>13</td>\n",
              "      <td>10</td>\n",
              "      <td>13</td>\n",
              "      <td>11</td>\n",
              "      <td>34</td>\n",
              "      <td>CRO</td>\n",
              "    </tr>\n",
              "    <tr>\n",
              "      <th>Cuba</th>\n",
              "      <td>19</td>\n",
              "      <td>72</td>\n",
              "      <td>67</td>\n",
              "      <td>70</td>\n",
              "      <td>209</td>\n",
              "      <td>0</td>\n",
              "      <td>0</td>\n",
              "      <td>0</td>\n",
              "      <td>0</td>\n",
              "      <td>0</td>\n",
              "      <td>19</td>\n",
              "      <td>72</td>\n",
              "      <td>67</td>\n",
              "      <td>70</td>\n",
              "      <td>209</td>\n",
              "      <td>CUB</td>\n",
              "    </tr>\n",
              "    <tr>\n",
              "      <th>Cyprus</th>\n",
              "      <td>9</td>\n",
              "      <td>0</td>\n",
              "      <td>1</td>\n",
              "      <td>0</td>\n",
              "      <td>1</td>\n",
              "      <td>10</td>\n",
              "      <td>0</td>\n",
              "      <td>0</td>\n",
              "      <td>0</td>\n",
              "      <td>0</td>\n",
              "      <td>19</td>\n",
              "      <td>0</td>\n",
              "      <td>1</td>\n",
              "      <td>0</td>\n",
              "      <td>1</td>\n",
              "      <td>CYP</td>\n",
              "    </tr>\n",
              "    <tr>\n",
              "      <th>...</th>\n",
              "      <td>...</td>\n",
              "      <td>...</td>\n",
              "      <td>...</td>\n",
              "      <td>...</td>\n",
              "      <td>...</td>\n",
              "      <td>...</td>\n",
              "      <td>...</td>\n",
              "      <td>...</td>\n",
              "      <td>...</td>\n",
              "      <td>...</td>\n",
              "      <td>...</td>\n",
              "      <td>...</td>\n",
              "      <td>...</td>\n",
              "      <td>...</td>\n",
              "      <td>...</td>\n",
              "      <td>...</td>\n",
              "    </tr>\n",
              "    <tr>\n",
              "      <th>Spain</th>\n",
              "      <td>22</td>\n",
              "      <td>37</td>\n",
              "      <td>59</td>\n",
              "      <td>35</td>\n",
              "      <td>131</td>\n",
              "      <td>19</td>\n",
              "      <td>1</td>\n",
              "      <td>0</td>\n",
              "      <td>1</td>\n",
              "      <td>2</td>\n",
              "      <td>41</td>\n",
              "      <td>38</td>\n",
              "      <td>59</td>\n",
              "      <td>36</td>\n",
              "      <td>133</td>\n",
              "      <td>ESP</td>\n",
              "    </tr>\n",
              "    <tr>\n",
              "      <th>Sri Lanka</th>\n",
              "      <td>16</td>\n",
              "      <td>0</td>\n",
              "      <td>2</td>\n",
              "      <td>0</td>\n",
              "      <td>2</td>\n",
              "      <td>0</td>\n",
              "      <td>0</td>\n",
              "      <td>0</td>\n",
              "      <td>0</td>\n",
              "      <td>0</td>\n",
              "      <td>16</td>\n",
              "      <td>0</td>\n",
              "      <td>2</td>\n",
              "      <td>0</td>\n",
              "      <td>2</td>\n",
              "      <td>SRI</td>\n",
              "    </tr>\n",
              "    <tr>\n",
              "      <th>Sudan</th>\n",
              "      <td>11</td>\n",
              "      <td>0</td>\n",
              "      <td>1</td>\n",
              "      <td>0</td>\n",
              "      <td>1</td>\n",
              "      <td>0</td>\n",
              "      <td>0</td>\n",
              "      <td>0</td>\n",
              "      <td>0</td>\n",
              "      <td>0</td>\n",
              "      <td>11</td>\n",
              "      <td>0</td>\n",
              "      <td>1</td>\n",
              "      <td>0</td>\n",
              "      <td>1</td>\n",
              "      <td>SUD</td>\n",
              "    </tr>\n",
              "    <tr>\n",
              "      <th>Suriname</th>\n",
              "      <td>11</td>\n",
              "      <td>1</td>\n",
              "      <td>0</td>\n",
              "      <td>1</td>\n",
              "      <td>2</td>\n",
              "      <td>0</td>\n",
              "      <td>0</td>\n",
              "      <td>0</td>\n",
              "      <td>0</td>\n",
              "      <td>0</td>\n",
              "      <td>11</td>\n",
              "      <td>1</td>\n",
              "      <td>0</td>\n",
              "      <td>1</td>\n",
              "      <td>2</td>\n",
              "      <td>SUR</td>\n",
              "    </tr>\n",
              "    <tr>\n",
              "      <th>Sweden</th>\n",
              "      <td>26</td>\n",
              "      <td>143</td>\n",
              "      <td>164</td>\n",
              "      <td>176</td>\n",
              "      <td>483</td>\n",
              "      <td>22</td>\n",
              "      <td>50</td>\n",
              "      <td>40</td>\n",
              "      <td>54</td>\n",
              "      <td>144</td>\n",
              "      <td>48</td>\n",
              "      <td>193</td>\n",
              "      <td>204</td>\n",
              "      <td>230</td>\n",
              "      <td>627</td>\n",
              "      <td>SWE</td>\n",
              "    </tr>\n",
              "    <tr>\n",
              "      <th>Switzerland</th>\n",
              "      <td>27</td>\n",
              "      <td>47</td>\n",
              "      <td>73</td>\n",
              "      <td>65</td>\n",
              "      <td>185</td>\n",
              "      <td>22</td>\n",
              "      <td>50</td>\n",
              "      <td>40</td>\n",
              "      <td>48</td>\n",
              "      <td>138</td>\n",
              "      <td>49</td>\n",
              "      <td>97</td>\n",
              "      <td>113</td>\n",
              "      <td>113</td>\n",
              "      <td>323</td>\n",
              "      <td>SUI</td>\n",
              "    </tr>\n",
              "    <tr>\n",
              "      <th>Syria</th>\n",
              "      <td>12</td>\n",
              "      <td>1</td>\n",
              "      <td>1</td>\n",
              "      <td>1</td>\n",
              "      <td>3</td>\n",
              "      <td>0</td>\n",
              "      <td>0</td>\n",
              "      <td>0</td>\n",
              "      <td>0</td>\n",
              "      <td>0</td>\n",
              "      <td>12</td>\n",
              "      <td>1</td>\n",
              "      <td>1</td>\n",
              "      <td>1</td>\n",
              "      <td>3</td>\n",
              "      <td>SYR</td>\n",
              "    </tr>\n",
              "    <tr>\n",
              "      <th>Chinese Taipei</th>\n",
              "      <td>13</td>\n",
              "      <td>2</td>\n",
              "      <td>7</td>\n",
              "      <td>12</td>\n",
              "      <td>21</td>\n",
              "      <td>11</td>\n",
              "      <td>0</td>\n",
              "      <td>0</td>\n",
              "      <td>0</td>\n",
              "      <td>0</td>\n",
              "      <td>24</td>\n",
              "      <td>2</td>\n",
              "      <td>7</td>\n",
              "      <td>12</td>\n",
              "      <td>21</td>\n",
              "      <td>TPE</td>\n",
              "    </tr>\n",
              "    <tr>\n",
              "      <th>Tajikistan</th>\n",
              "      <td>5</td>\n",
              "      <td>0</td>\n",
              "      <td>1</td>\n",
              "      <td>2</td>\n",
              "      <td>3</td>\n",
              "      <td>4</td>\n",
              "      <td>0</td>\n",
              "      <td>0</td>\n",
              "      <td>0</td>\n",
              "      <td>0</td>\n",
              "      <td>9</td>\n",
              "      <td>0</td>\n",
              "      <td>1</td>\n",
              "      <td>2</td>\n",
              "      <td>3</td>\n",
              "      <td>TJK</td>\n",
              "    </tr>\n",
              "    <tr>\n",
              "      <th>Tanzania</th>\n",
              "      <td>12</td>\n",
              "      <td>0</td>\n",
              "      <td>2</td>\n",
              "      <td>0</td>\n",
              "      <td>2</td>\n",
              "      <td>0</td>\n",
              "      <td>0</td>\n",
              "      <td>0</td>\n",
              "      <td>0</td>\n",
              "      <td>0</td>\n",
              "      <td>12</td>\n",
              "      <td>0</td>\n",
              "      <td>2</td>\n",
              "      <td>0</td>\n",
              "      <td>2</td>\n",
              "      <td>TAN</td>\n",
              "    </tr>\n",
              "    <tr>\n",
              "      <th>Thailand</th>\n",
              "      <td>15</td>\n",
              "      <td>7</td>\n",
              "      <td>6</td>\n",
              "      <td>11</td>\n",
              "      <td>24</td>\n",
              "      <td>3</td>\n",
              "      <td>0</td>\n",
              "      <td>0</td>\n",
              "      <td>0</td>\n",
              "      <td>0</td>\n",
              "      <td>18</td>\n",
              "      <td>7</td>\n",
              "      <td>6</td>\n",
              "      <td>11</td>\n",
              "      <td>24</td>\n",
              "      <td>THA</td>\n",
              "    </tr>\n",
              "    <tr>\n",
              "      <th>Togo</th>\n",
              "      <td>9</td>\n",
              "      <td>0</td>\n",
              "      <td>0</td>\n",
              "      <td>1</td>\n",
              "      <td>1</td>\n",
              "      <td>1</td>\n",
              "      <td>0</td>\n",
              "      <td>0</td>\n",
              "      <td>0</td>\n",
              "      <td>0</td>\n",
              "      <td>10</td>\n",
              "      <td>0</td>\n",
              "      <td>0</td>\n",
              "      <td>1</td>\n",
              "      <td>1</td>\n",
              "      <td>TOG</td>\n",
              "    </tr>\n",
              "    <tr>\n",
              "      <th>Tonga</th>\n",
              "      <td>8</td>\n",
              "      <td>0</td>\n",
              "      <td>1</td>\n",
              "      <td>0</td>\n",
              "      <td>1</td>\n",
              "      <td>1</td>\n",
              "      <td>0</td>\n",
              "      <td>0</td>\n",
              "      <td>0</td>\n",
              "      <td>0</td>\n",
              "      <td>9</td>\n",
              "      <td>0</td>\n",
              "      <td>1</td>\n",
              "      <td>0</td>\n",
              "      <td>1</td>\n",
              "      <td>TGA</td>\n",
              "    </tr>\n",
              "    <tr>\n",
              "      <th>Trinidad and Tobago</th>\n",
              "      <td>16</td>\n",
              "      <td>2</td>\n",
              "      <td>5</td>\n",
              "      <td>11</td>\n",
              "      <td>18</td>\n",
              "      <td>3</td>\n",
              "      <td>0</td>\n",
              "      <td>0</td>\n",
              "      <td>0</td>\n",
              "      <td>0</td>\n",
              "      <td>19</td>\n",
              "      <td>2</td>\n",
              "      <td>5</td>\n",
              "      <td>11</td>\n",
              "      <td>18</td>\n",
              "      <td>TRI</td>\n",
              "    </tr>\n",
              "    <tr>\n",
              "      <th>Tunisia</th>\n",
              "      <td>13</td>\n",
              "      <td>3</td>\n",
              "      <td>3</td>\n",
              "      <td>4</td>\n",
              "      <td>10</td>\n",
              "      <td>0</td>\n",
              "      <td>0</td>\n",
              "      <td>0</td>\n",
              "      <td>0</td>\n",
              "      <td>0</td>\n",
              "      <td>13</td>\n",
              "      <td>3</td>\n",
              "      <td>3</td>\n",
              "      <td>4</td>\n",
              "      <td>10</td>\n",
              "      <td>TUN</td>\n",
              "    </tr>\n",
              "    <tr>\n",
              "      <th>Turkey</th>\n",
              "      <td>21</td>\n",
              "      <td>39</td>\n",
              "      <td>25</td>\n",
              "      <td>24</td>\n",
              "      <td>88</td>\n",
              "      <td>16</td>\n",
              "      <td>0</td>\n",
              "      <td>0</td>\n",
              "      <td>0</td>\n",
              "      <td>0</td>\n",
              "      <td>37</td>\n",
              "      <td>39</td>\n",
              "      <td>25</td>\n",
              "      <td>24</td>\n",
              "      <td>88</td>\n",
              "      <td>TUR</td>\n",
              "    </tr>\n",
              "    <tr>\n",
              "      <th>Uganda</th>\n",
              "      <td>14</td>\n",
              "      <td>2</td>\n",
              "      <td>3</td>\n",
              "      <td>2</td>\n",
              "      <td>7</td>\n",
              "      <td>0</td>\n",
              "      <td>0</td>\n",
              "      <td>0</td>\n",
              "      <td>0</td>\n",
              "      <td>0</td>\n",
              "      <td>14</td>\n",
              "      <td>2</td>\n",
              "      <td>3</td>\n",
              "      <td>2</td>\n",
              "      <td>7</td>\n",
              "      <td>UGA</td>\n",
              "    </tr>\n",
              "    <tr>\n",
              "      <th>Ukraine</th>\n",
              "      <td>5</td>\n",
              "      <td>33</td>\n",
              "      <td>27</td>\n",
              "      <td>55</td>\n",
              "      <td>115</td>\n",
              "      <td>6</td>\n",
              "      <td>2</td>\n",
              "      <td>1</td>\n",
              "      <td>4</td>\n",
              "      <td>7</td>\n",
              "      <td>11</td>\n",
              "      <td>35</td>\n",
              "      <td>28</td>\n",
              "      <td>59</td>\n",
              "      <td>122</td>\n",
              "      <td>UKR</td>\n",
              "    </tr>\n",
              "    <tr>\n",
              "      <th>United Arab Emirates</th>\n",
              "      <td>8</td>\n",
              "      <td>1</td>\n",
              "      <td>0</td>\n",
              "      <td>0</td>\n",
              "      <td>1</td>\n",
              "      <td>0</td>\n",
              "      <td>0</td>\n",
              "      <td>0</td>\n",
              "      <td>0</td>\n",
              "      <td>0</td>\n",
              "      <td>8</td>\n",
              "      <td>1</td>\n",
              "      <td>0</td>\n",
              "      <td>0</td>\n",
              "      <td>1</td>\n",
              "      <td>UAE</td>\n",
              "    </tr>\n",
              "    <tr>\n",
              "      <th>United States</th>\n",
              "      <td>26</td>\n",
              "      <td>976</td>\n",
              "      <td>757</td>\n",
              "      <td>666</td>\n",
              "      <td>2399</td>\n",
              "      <td>22</td>\n",
              "      <td>96</td>\n",
              "      <td>102</td>\n",
              "      <td>84</td>\n",
              "      <td>282</td>\n",
              "      <td>48</td>\n",
              "      <td>1072</td>\n",
              "      <td>859</td>\n",
              "      <td>750</td>\n",
              "      <td>2681</td>\n",
              "      <td>USA</td>\n",
              "    </tr>\n",
              "    <tr>\n",
              "      <th>Uruguay</th>\n",
              "      <td>20</td>\n",
              "      <td>2</td>\n",
              "      <td>2</td>\n",
              "      <td>6</td>\n",
              "      <td>10</td>\n",
              "      <td>1</td>\n",
              "      <td>0</td>\n",
              "      <td>0</td>\n",
              "      <td>0</td>\n",
              "      <td>0</td>\n",
              "      <td>21</td>\n",
              "      <td>2</td>\n",
              "      <td>2</td>\n",
              "      <td>6</td>\n",
              "      <td>10</td>\n",
              "      <td>URU</td>\n",
              "    </tr>\n",
              "    <tr>\n",
              "      <th>Uzbekistan</th>\n",
              "      <td>5</td>\n",
              "      <td>5</td>\n",
              "      <td>5</td>\n",
              "      <td>10</td>\n",
              "      <td>20</td>\n",
              "      <td>6</td>\n",
              "      <td>1</td>\n",
              "      <td>0</td>\n",
              "      <td>0</td>\n",
              "      <td>1</td>\n",
              "      <td>11</td>\n",
              "      <td>6</td>\n",
              "      <td>5</td>\n",
              "      <td>10</td>\n",
              "      <td>21</td>\n",
              "      <td>UZB</td>\n",
              "    </tr>\n",
              "    <tr>\n",
              "      <th>Venezuela</th>\n",
              "      <td>17</td>\n",
              "      <td>2</td>\n",
              "      <td>2</td>\n",
              "      <td>8</td>\n",
              "      <td>12</td>\n",
              "      <td>4</td>\n",
              "      <td>0</td>\n",
              "      <td>0</td>\n",
              "      <td>0</td>\n",
              "      <td>0</td>\n",
              "      <td>21</td>\n",
              "      <td>2</td>\n",
              "      <td>2</td>\n",
              "      <td>8</td>\n",
              "      <td>12</td>\n",
              "      <td>VEN</td>\n",
              "    </tr>\n",
              "    <tr>\n",
              "      <th>Vietnam</th>\n",
              "      <td>14</td>\n",
              "      <td>0</td>\n",
              "      <td>2</td>\n",
              "      <td>0</td>\n",
              "      <td>2</td>\n",
              "      <td>0</td>\n",
              "      <td>0</td>\n",
              "      <td>0</td>\n",
              "      <td>0</td>\n",
              "      <td>0</td>\n",
              "      <td>14</td>\n",
              "      <td>0</td>\n",
              "      <td>2</td>\n",
              "      <td>0</td>\n",
              "      <td>2</td>\n",
              "      <td>VIE</td>\n",
              "    </tr>\n",
              "    <tr>\n",
              "      <th>Virgin Islands</th>\n",
              "      <td>11</td>\n",
              "      <td>0</td>\n",
              "      <td>1</td>\n",
              "      <td>0</td>\n",
              "      <td>1</td>\n",
              "      <td>7</td>\n",
              "      <td>0</td>\n",
              "      <td>0</td>\n",
              "      <td>0</td>\n",
              "      <td>0</td>\n",
              "      <td>18</td>\n",
              "      <td>0</td>\n",
              "      <td>1</td>\n",
              "      <td>0</td>\n",
              "      <td>1</td>\n",
              "      <td>ISV</td>\n",
              "    </tr>\n",
              "    <tr>\n",
              "      <th>Yugoslavia</th>\n",
              "      <td>16</td>\n",
              "      <td>26</td>\n",
              "      <td>29</td>\n",
              "      <td>28</td>\n",
              "      <td>83</td>\n",
              "      <td>14</td>\n",
              "      <td>0</td>\n",
              "      <td>3</td>\n",
              "      <td>1</td>\n",
              "      <td>4</td>\n",
              "      <td>30</td>\n",
              "      <td>26</td>\n",
              "      <td>32</td>\n",
              "      <td>29</td>\n",
              "      <td>87</td>\n",
              "      <td>YUG</td>\n",
              "    </tr>\n",
              "    <tr>\n",
              "      <th>Independent Olympic Participants</th>\n",
              "      <td>1</td>\n",
              "      <td>0</td>\n",
              "      <td>1</td>\n",
              "      <td>2</td>\n",
              "      <td>3</td>\n",
              "      <td>0</td>\n",
              "      <td>0</td>\n",
              "      <td>0</td>\n",
              "      <td>0</td>\n",
              "      <td>0</td>\n",
              "      <td>1</td>\n",
              "      <td>0</td>\n",
              "      <td>1</td>\n",
              "      <td>2</td>\n",
              "      <td>3</td>\n",
              "      <td>IOP</td>\n",
              "    </tr>\n",
              "    <tr>\n",
              "      <th>Zambia</th>\n",
              "      <td>12</td>\n",
              "      <td>0</td>\n",
              "      <td>1</td>\n",
              "      <td>1</td>\n",
              "      <td>2</td>\n",
              "      <td>0</td>\n",
              "      <td>0</td>\n",
              "      <td>0</td>\n",
              "      <td>0</td>\n",
              "      <td>0</td>\n",
              "      <td>12</td>\n",
              "      <td>0</td>\n",
              "      <td>1</td>\n",
              "      <td>1</td>\n",
              "      <td>2</td>\n",
              "      <td>ZAM</td>\n",
              "    </tr>\n",
              "    <tr>\n",
              "      <th>Zimbabwe</th>\n",
              "      <td>12</td>\n",
              "      <td>3</td>\n",
              "      <td>4</td>\n",
              "      <td>1</td>\n",
              "      <td>8</td>\n",
              "      <td>1</td>\n",
              "      <td>0</td>\n",
              "      <td>0</td>\n",
              "      <td>0</td>\n",
              "      <td>0</td>\n",
              "      <td>13</td>\n",
              "      <td>3</td>\n",
              "      <td>4</td>\n",
              "      <td>1</td>\n",
              "      <td>8</td>\n",
              "      <td>ZIM</td>\n",
              "    </tr>\n",
              "    <tr>\n",
              "      <th>Mixed team</th>\n",
              "      <td>3</td>\n",
              "      <td>8</td>\n",
              "      <td>5</td>\n",
              "      <td>4</td>\n",
              "      <td>17</td>\n",
              "      <td>0</td>\n",
              "      <td>0</td>\n",
              "      <td>0</td>\n",
              "      <td>0</td>\n",
              "      <td>0</td>\n",
              "      <td>3</td>\n",
              "      <td>8</td>\n",
              "      <td>5</td>\n",
              "      <td>4</td>\n",
              "      <td>17</td>\n",
              "      <td>ZZX</td>\n",
              "    </tr>\n",
              "  </tbody>\n",
              "</table>\n",
              "<p>146 rows × 16 columns</p>\n",
              "</div>"
            ],
            "text/plain": [
              "                                  # Summer  Gold  Silver  Bronze  Total  \\\n",
              "Afghanistan                             13     0       0       2      2   \n",
              "Algeria                                 12     5       2       8     15   \n",
              "Argentina                               23    18      24      28     70   \n",
              "Armenia                                  5     1       2       9     12   \n",
              "Australasia                              2     3       4       5     12   \n",
              "Australia                               25   139     152     177    468   \n",
              "Austria                                 26    18      33      35     86   \n",
              "Azerbaijan                               5     6       5      15     26   \n",
              "Bahamas                                 15     5       2       5     12   \n",
              "Bahrain                                  8     0       0       1      1   \n",
              "Barbados                                11     0       0       1      1   \n",
              "Belarus                                  5    12      24      39     75   \n",
              "Belgium                                 25    37      52      53    142   \n",
              "Bermuda                                 17     0       0       1      1   \n",
              "Bohemia                                  3     0       1       3      4   \n",
              "Botswana                                 9     0       1       0      1   \n",
              "Brazil                                  21    23      30      55    108   \n",
              "British West Indies                      1     0       0       2      2   \n",
              "Bulgaria                                19    51      85      78    214   \n",
              "Burundi                                  5     1       0       0      1   \n",
              "Cameroon                                13     3       1       1      5   \n",
              "Canada                                  25    59      99     121    279   \n",
              "Chile                                   22     2       7       4     13   \n",
              "China                                    9   201     146     126    473   \n",
              "Colombia                                18     2       6      11     19   \n",
              "Costa Rica                              14     1       1       2      4   \n",
              "Ivory Coast                             12     0       1       0      1   \n",
              "Croatia                                  6     6       7      10     23   \n",
              "Cuba                                    19    72      67      70    209   \n",
              "Cyprus                                   9     0       1       0      1   \n",
              "...                                    ...   ...     ...     ...    ...   \n",
              "Spain                                   22    37      59      35    131   \n",
              "Sri Lanka                               16     0       2       0      2   \n",
              "Sudan                                   11     0       1       0      1   \n",
              "Suriname                                11     1       0       1      2   \n",
              "Sweden                                  26   143     164     176    483   \n",
              "Switzerland                             27    47      73      65    185   \n",
              "Syria                                   12     1       1       1      3   \n",
              "Chinese Taipei                          13     2       7      12     21   \n",
              "Tajikistan                               5     0       1       2      3   \n",
              "Tanzania                                12     0       2       0      2   \n",
              "Thailand                                15     7       6      11     24   \n",
              "Togo                                     9     0       0       1      1   \n",
              "Tonga                                    8     0       1       0      1   \n",
              "Trinidad and Tobago                     16     2       5      11     18   \n",
              "Tunisia                                 13     3       3       4     10   \n",
              "Turkey                                  21    39      25      24     88   \n",
              "Uganda                                  14     2       3       2      7   \n",
              "Ukraine                                  5    33      27      55    115   \n",
              "United Arab Emirates                     8     1       0       0      1   \n",
              "United States                           26   976     757     666   2399   \n",
              "Uruguay                                 20     2       2       6     10   \n",
              "Uzbekistan                               5     5       5      10     20   \n",
              "Venezuela                               17     2       2       8     12   \n",
              "Vietnam                                 14     0       2       0      2   \n",
              "Virgin Islands                          11     0       1       0      1   \n",
              "Yugoslavia                              16    26      29      28     83   \n",
              "Independent Olympic Participants         1     0       1       2      3   \n",
              "Zambia                                  12     0       1       1      2   \n",
              "Zimbabwe                                12     3       4       1      8   \n",
              "Mixed team                               3     8       5       4     17   \n",
              "\n",
              "                                  # Winter  Gold.1  Silver.1  Bronze.1  \\\n",
              "Afghanistan                              0       0         0         0   \n",
              "Algeria                                  3       0         0         0   \n",
              "Argentina                               18       0         0         0   \n",
              "Armenia                                  6       0         0         0   \n",
              "Australasia                              0       0         0         0   \n",
              "Australia                               18       5         3         4   \n",
              "Austria                                 22      59        78        81   \n",
              "Azerbaijan                               5       0         0         0   \n",
              "Bahamas                                  0       0         0         0   \n",
              "Bahrain                                  0       0         0         0   \n",
              "Barbados                                 0       0         0         0   \n",
              "Belarus                                  6       6         4         5   \n",
              "Belgium                                 20       1         1         3   \n",
              "Bermuda                                  7       0         0         0   \n",
              "Bohemia                                  0       0         0         0   \n",
              "Botswana                                 0       0         0         0   \n",
              "Brazil                                   7       0         0         0   \n",
              "British West Indies                      0       0         0         0   \n",
              "Bulgaria                                19       1         2         3   \n",
              "Burundi                                  0       0         0         0   \n",
              "Cameroon                                 1       0         0         0   \n",
              "Canada                                  22      62        56        52   \n",
              "Chile                                   16       0         0         0   \n",
              "China                                   10      12        22        19   \n",
              "Colombia                                 1       0         0         0   \n",
              "Costa Rica                               6       0         0         0   \n",
              "Ivory Coast                              0       0         0         0   \n",
              "Croatia                                  7       4         6         1   \n",
              "Cuba                                     0       0         0         0   \n",
              "Cyprus                                  10       0         0         0   \n",
              "...                                    ...     ...       ...       ...   \n",
              "Spain                                   19       1         0         1   \n",
              "Sri Lanka                                0       0         0         0   \n",
              "Sudan                                    0       0         0         0   \n",
              "Suriname                                 0       0         0         0   \n",
              "Sweden                                  22      50        40        54   \n",
              "Switzerland                             22      50        40        48   \n",
              "Syria                                    0       0         0         0   \n",
              "Chinese Taipei                          11       0         0         0   \n",
              "Tajikistan                               4       0         0         0   \n",
              "Tanzania                                 0       0         0         0   \n",
              "Thailand                                 3       0         0         0   \n",
              "Togo                                     1       0         0         0   \n",
              "Tonga                                    1       0         0         0   \n",
              "Trinidad and Tobago                      3       0         0         0   \n",
              "Tunisia                                  0       0         0         0   \n",
              "Turkey                                  16       0         0         0   \n",
              "Uganda                                   0       0         0         0   \n",
              "Ukraine                                  6       2         1         4   \n",
              "United Arab Emirates                     0       0         0         0   \n",
              "United States                           22      96       102        84   \n",
              "Uruguay                                  1       0         0         0   \n",
              "Uzbekistan                               6       1         0         0   \n",
              "Venezuela                                4       0         0         0   \n",
              "Vietnam                                  0       0         0         0   \n",
              "Virgin Islands                           7       0         0         0   \n",
              "Yugoslavia                              14       0         3         1   \n",
              "Independent Olympic Participants         0       0         0         0   \n",
              "Zambia                                   0       0         0         0   \n",
              "Zimbabwe                                 1       0         0         0   \n",
              "Mixed team                               0       0         0         0   \n",
              "\n",
              "                                  Total.1  # Games  Gold.2  Silver.2  \\\n",
              "Afghanistan                             0       13       0         0   \n",
              "Algeria                                 0       15       5         2   \n",
              "Argentina                               0       41      18        24   \n",
              "Armenia                                 0       11       1         2   \n",
              "Australasia                             0        2       3         4   \n",
              "Australia                              12       43     144       155   \n",
              "Austria                               218       48      77       111   \n",
              "Azerbaijan                              0       10       6         5   \n",
              "Bahamas                                 0       15       5         2   \n",
              "Bahrain                                 0        8       0         0   \n",
              "Barbados                                0       11       0         0   \n",
              "Belarus                                15       11      18        28   \n",
              "Belgium                                 5       45      38        53   \n",
              "Bermuda                                 0       24       0         0   \n",
              "Bohemia                                 0        3       0         1   \n",
              "Botswana                                0        9       0         1   \n",
              "Brazil                                  0       28      23        30   \n",
              "British West Indies                     0        1       0         0   \n",
              "Bulgaria                                6       38      52        87   \n",
              "Burundi                                 0        5       1         0   \n",
              "Cameroon                                0       14       3         1   \n",
              "Canada                                170       47     121       155   \n",
              "Chile                                   0       38       2         7   \n",
              "China                                  53       19     213       168   \n",
              "Colombia                                0       19       2         6   \n",
              "Costa Rica                              0       20       1         1   \n",
              "Ivory Coast                             0       12       0         1   \n",
              "Croatia                                11       13      10        13   \n",
              "Cuba                                    0       19      72        67   \n",
              "Cyprus                                  0       19       0         1   \n",
              "...                                   ...      ...     ...       ...   \n",
              "Spain                                   2       41      38        59   \n",
              "Sri Lanka                               0       16       0         2   \n",
              "Sudan                                   0       11       0         1   \n",
              "Suriname                                0       11       1         0   \n",
              "Sweden                                144       48     193       204   \n",
              "Switzerland                           138       49      97       113   \n",
              "Syria                                   0       12       1         1   \n",
              "Chinese Taipei                          0       24       2         7   \n",
              "Tajikistan                              0        9       0         1   \n",
              "Tanzania                                0       12       0         2   \n",
              "Thailand                                0       18       7         6   \n",
              "Togo                                    0       10       0         0   \n",
              "Tonga                                   0        9       0         1   \n",
              "Trinidad and Tobago                     0       19       2         5   \n",
              "Tunisia                                 0       13       3         3   \n",
              "Turkey                                  0       37      39        25   \n",
              "Uganda                                  0       14       2         3   \n",
              "Ukraine                                 7       11      35        28   \n",
              "United Arab Emirates                    0        8       1         0   \n",
              "United States                         282       48    1072       859   \n",
              "Uruguay                                 0       21       2         2   \n",
              "Uzbekistan                              1       11       6         5   \n",
              "Venezuela                               0       21       2         2   \n",
              "Vietnam                                 0       14       0         2   \n",
              "Virgin Islands                          0       18       0         1   \n",
              "Yugoslavia                              4       30      26        32   \n",
              "Independent Olympic Participants        0        1       0         1   \n",
              "Zambia                                  0       12       0         1   \n",
              "Zimbabwe                                0       13       3         4   \n",
              "Mixed team                              0        3       8         5   \n",
              "\n",
              "                                  Bronze.2  Combined total   ID  \n",
              "Afghanistan                              2               2  AFG  \n",
              "Algeria                                  8              15  ALG  \n",
              "Argentina                               28              70  ARG  \n",
              "Armenia                                  9              12  ARM  \n",
              "Australasia                              5              12  ANZ  \n",
              "Australia                              181             480  AUS  \n",
              "Austria                                116             304  AUT  \n",
              "Azerbaijan                              15              26  AZE  \n",
              "Bahamas                                  5              12  BAH  \n",
              "Bahrain                                  1               1  BRN  \n",
              "Barbados                                 1               1  BAR  \n",
              "Belarus                                 44              90  BLR  \n",
              "Belgium                                 56             147  BEL  \n",
              "Bermuda                                  1               1  BER  \n",
              "Bohemia                                  3               4  BOH  \n",
              "Botswana                                 0               1  BOT  \n",
              "Brazil                                  55             108  BRA  \n",
              "British West Indies                      2               2  BWI  \n",
              "Bulgaria                                81             220  BUL  \n",
              "Burundi                                  0               1  BDI  \n",
              "Cameroon                                 1               5  CMR  \n",
              "Canada                                 173             449  CAN  \n",
              "Chile                                    4              13  CHI  \n",
              "China                                  145             526  CHN  \n",
              "Colombia                                11              19  COL  \n",
              "Costa Rica                               2               4  CRC  \n",
              "Ivory Coast                              0               1  CIV  \n",
              "Croatia                                 11              34  CRO  \n",
              "Cuba                                    70             209  CUB  \n",
              "Cyprus                                   0               1  CYP  \n",
              "...                                    ...             ...  ...  \n",
              "Spain                                   36             133  ESP  \n",
              "Sri Lanka                                0               2  SRI  \n",
              "Sudan                                    0               1  SUD  \n",
              "Suriname                                 1               2  SUR  \n",
              "Sweden                                 230             627  SWE  \n",
              "Switzerland                            113             323  SUI  \n",
              "Syria                                    1               3  SYR  \n",
              "Chinese Taipei                          12              21  TPE  \n",
              "Tajikistan                               2               3  TJK  \n",
              "Tanzania                                 0               2  TAN  \n",
              "Thailand                                11              24  THA  \n",
              "Togo                                     1               1  TOG  \n",
              "Tonga                                    0               1  TGA  \n",
              "Trinidad and Tobago                     11              18  TRI  \n",
              "Tunisia                                  4              10  TUN  \n",
              "Turkey                                  24              88  TUR  \n",
              "Uganda                                   2               7  UGA  \n",
              "Ukraine                                 59             122  UKR  \n",
              "United Arab Emirates                     0               1  UAE  \n",
              "United States                          750            2681  USA  \n",
              "Uruguay                                  6              10  URU  \n",
              "Uzbekistan                              10              21  UZB  \n",
              "Venezuela                                8              12  VEN  \n",
              "Vietnam                                  0               2  VIE  \n",
              "Virgin Islands                           0               1  ISV  \n",
              "Yugoslavia                              29              87  YUG  \n",
              "Independent Olympic Participants         2               3  IOP  \n",
              "Zambia                                   1               2  ZAM  \n",
              "Zimbabwe                                 1               8  ZIM  \n",
              "Mixed team                               4              17  ZZX  \n",
              "\n",
              "[146 rows x 16 columns]"
            ]
          },
          "metadata": {
            "tags": []
          },
          "execution_count": 10
        }
      ]
    },
    {
      "metadata": {
        "id": "4C1bxPnwROeK",
        "colab_type": "code",
        "outputId": "1d116189-9f60-4c99-9e65-ca6aed251458",
        "colab": {
          "base_uri": "https://localhost:8080/",
          "height": 34
        }
      },
      "cell_type": "code",
      "source": [
        "#Q1\n",
        "df['Gold'].idxmax()"
      ],
      "execution_count": 0,
      "outputs": [
        {
          "output_type": "execute_result",
          "data": {
            "text/plain": [
              "'United States'"
            ]
          },
          "metadata": {
            "tags": []
          },
          "execution_count": 11
        }
      ]
    },
    {
      "metadata": {
        "id": "eTbxKW2kRwVK",
        "colab_type": "code",
        "outputId": "c02ab5a9-92c9-4087-a76a-786351fbc538",
        "colab": {
          "base_uri": "https://localhost:8080/",
          "height": 34
        }
      },
      "cell_type": "code",
      "source": [
        "#Q2\n",
        "abs(df['Gold']-df['Gold.1']).idxmax()\n"
      ],
      "execution_count": 0,
      "outputs": [
        {
          "output_type": "execute_result",
          "data": {
            "text/plain": [
              "'United States'"
            ]
          },
          "metadata": {
            "tags": []
          },
          "execution_count": 32
        }
      ]
    },
    {
      "metadata": {
        "id": "s9nthrU0Tt9h",
        "colab_type": "code",
        "outputId": "a7cce75b-b7fe-4386-81f8-ec1ccd5d0267",
        "colab": {
          "base_uri": "https://localhost:8080/",
          "height": 34
        }
      },
      "cell_type": "code",
      "source": [
        "#Q3\n",
        "dff = (abs(df['Gold']-df['Gold.1'])/df['Gold.2'])\n",
        "dff[dff<1].idxmax()"
      ],
      "execution_count": 0,
      "outputs": [
        {
          "output_type": "execute_result",
          "data": {
            "text/plain": [
              "'Bulgaria'"
            ]
          },
          "metadata": {
            "tags": []
          },
          "execution_count": 31
        }
      ]
    },
    {
      "metadata": {
        "id": "Yxi1CNkDbsoZ",
        "colab_type": "text"
      },
      "cell_type": "markdown",
      "source": [
        "Pandas: 美國普查\n"
      ]
    },
    {
      "metadata": {
        "id": "OHqCn7Jvb1Wh",
        "colab_type": "code",
        "colab": {}
      },
      "cell_type": "code",
      "source": [
        "import pandas as pd\n",
        "\n",
        "census_df = pd.read_csv('https://storage.googleapis.com/py_ml_datasets/census.csv')"
      ],
      "execution_count": 0,
      "outputs": []
    },
    {
      "metadata": {
        "id": "F8B_GsAjUGjZ",
        "colab_type": "code",
        "outputId": "81c5218b-c2b2-4f8c-e03e-d681ba586416",
        "colab": {
          "base_uri": "https://localhost:8080/",
          "height": 34
        }
      },
      "cell_type": "code",
      "source": [
        "census_df\n",
        "print(type(census_df))\n"
      ],
      "execution_count": 0,
      "outputs": [
        {
          "output_type": "stream",
          "text": [
            "<class 'pandas.core.frame.DataFrame'>\n"
          ],
          "name": "stdout"
        }
      ]
    },
    {
      "metadata": {
        "id": "ugXbFBteU2Mx",
        "colab_type": "code",
        "outputId": "796c9036-0cc5-491b-f2de-2db5e2055e3f",
        "colab": {
          "base_uri": "https://localhost:8080/",
          "height": 321
        }
      },
      "cell_type": "code",
      "source": [
        "# 40 State Level\n",
        "# 50 County Level\n",
        "census_df.head()"
      ],
      "execution_count": 0,
      "outputs": [
        {
          "output_type": "execute_result",
          "data": {
            "text/html": [
              "<div>\n",
              "<style scoped>\n",
              "    .dataframe tbody tr th:only-of-type {\n",
              "        vertical-align: middle;\n",
              "    }\n",
              "\n",
              "    .dataframe tbody tr th {\n",
              "        vertical-align: top;\n",
              "    }\n",
              "\n",
              "    .dataframe thead th {\n",
              "        text-align: right;\n",
              "    }\n",
              "</style>\n",
              "<table border=\"1\" class=\"dataframe\">\n",
              "  <thead>\n",
              "    <tr style=\"text-align: right;\">\n",
              "      <th></th>\n",
              "      <th>SUMLEV</th>\n",
              "      <th>REGION</th>\n",
              "      <th>DIVISION</th>\n",
              "      <th>STATE</th>\n",
              "      <th>COUNTY</th>\n",
              "      <th>STNAME</th>\n",
              "      <th>CTYNAME</th>\n",
              "      <th>CENSUS2010POP</th>\n",
              "      <th>ESTIMATESBASE2010</th>\n",
              "      <th>POPESTIMATE2010</th>\n",
              "      <th>...</th>\n",
              "      <th>RDOMESTICMIG2011</th>\n",
              "      <th>RDOMESTICMIG2012</th>\n",
              "      <th>RDOMESTICMIG2013</th>\n",
              "      <th>RDOMESTICMIG2014</th>\n",
              "      <th>RDOMESTICMIG2015</th>\n",
              "      <th>RNETMIG2011</th>\n",
              "      <th>RNETMIG2012</th>\n",
              "      <th>RNETMIG2013</th>\n",
              "      <th>RNETMIG2014</th>\n",
              "      <th>RNETMIG2015</th>\n",
              "    </tr>\n",
              "  </thead>\n",
              "  <tbody>\n",
              "    <tr>\n",
              "      <th>0</th>\n",
              "      <td>40</td>\n",
              "      <td>3</td>\n",
              "      <td>6</td>\n",
              "      <td>1</td>\n",
              "      <td>0</td>\n",
              "      <td>Alabama</td>\n",
              "      <td>Alabama</td>\n",
              "      <td>4779736</td>\n",
              "      <td>4780127</td>\n",
              "      <td>4785161</td>\n",
              "      <td>...</td>\n",
              "      <td>0.002295</td>\n",
              "      <td>-0.193196</td>\n",
              "      <td>0.381066</td>\n",
              "      <td>0.582002</td>\n",
              "      <td>-0.467369</td>\n",
              "      <td>1.030015</td>\n",
              "      <td>0.826644</td>\n",
              "      <td>1.383282</td>\n",
              "      <td>1.724718</td>\n",
              "      <td>0.712594</td>\n",
              "    </tr>\n",
              "    <tr>\n",
              "      <th>1</th>\n",
              "      <td>50</td>\n",
              "      <td>3</td>\n",
              "      <td>6</td>\n",
              "      <td>1</td>\n",
              "      <td>1</td>\n",
              "      <td>Alabama</td>\n",
              "      <td>Autauga County</td>\n",
              "      <td>54571</td>\n",
              "      <td>54571</td>\n",
              "      <td>54660</td>\n",
              "      <td>...</td>\n",
              "      <td>7.242091</td>\n",
              "      <td>-2.915927</td>\n",
              "      <td>-3.012349</td>\n",
              "      <td>2.265971</td>\n",
              "      <td>-2.530799</td>\n",
              "      <td>7.606016</td>\n",
              "      <td>-2.626146</td>\n",
              "      <td>-2.722002</td>\n",
              "      <td>2.592270</td>\n",
              "      <td>-2.187333</td>\n",
              "    </tr>\n",
              "    <tr>\n",
              "      <th>2</th>\n",
              "      <td>50</td>\n",
              "      <td>3</td>\n",
              "      <td>6</td>\n",
              "      <td>1</td>\n",
              "      <td>3</td>\n",
              "      <td>Alabama</td>\n",
              "      <td>Baldwin County</td>\n",
              "      <td>182265</td>\n",
              "      <td>182265</td>\n",
              "      <td>183193</td>\n",
              "      <td>...</td>\n",
              "      <td>14.832960</td>\n",
              "      <td>17.647293</td>\n",
              "      <td>21.845705</td>\n",
              "      <td>19.243287</td>\n",
              "      <td>17.197872</td>\n",
              "      <td>15.844176</td>\n",
              "      <td>18.559627</td>\n",
              "      <td>22.727626</td>\n",
              "      <td>20.317142</td>\n",
              "      <td>18.293499</td>\n",
              "    </tr>\n",
              "    <tr>\n",
              "      <th>3</th>\n",
              "      <td>50</td>\n",
              "      <td>3</td>\n",
              "      <td>6</td>\n",
              "      <td>1</td>\n",
              "      <td>5</td>\n",
              "      <td>Alabama</td>\n",
              "      <td>Barbour County</td>\n",
              "      <td>27457</td>\n",
              "      <td>27457</td>\n",
              "      <td>27341</td>\n",
              "      <td>...</td>\n",
              "      <td>-4.728132</td>\n",
              "      <td>-2.500690</td>\n",
              "      <td>-7.056824</td>\n",
              "      <td>-3.904217</td>\n",
              "      <td>-10.543299</td>\n",
              "      <td>-4.874741</td>\n",
              "      <td>-2.758113</td>\n",
              "      <td>-7.167664</td>\n",
              "      <td>-3.978583</td>\n",
              "      <td>-10.543299</td>\n",
              "    </tr>\n",
              "    <tr>\n",
              "      <th>4</th>\n",
              "      <td>50</td>\n",
              "      <td>3</td>\n",
              "      <td>6</td>\n",
              "      <td>1</td>\n",
              "      <td>7</td>\n",
              "      <td>Alabama</td>\n",
              "      <td>Bibb County</td>\n",
              "      <td>22915</td>\n",
              "      <td>22919</td>\n",
              "      <td>22861</td>\n",
              "      <td>...</td>\n",
              "      <td>-5.527043</td>\n",
              "      <td>-5.068871</td>\n",
              "      <td>-6.201001</td>\n",
              "      <td>-0.177537</td>\n",
              "      <td>0.177258</td>\n",
              "      <td>-5.088389</td>\n",
              "      <td>-4.363636</td>\n",
              "      <td>-5.403729</td>\n",
              "      <td>0.754533</td>\n",
              "      <td>1.107861</td>\n",
              "    </tr>\n",
              "  </tbody>\n",
              "</table>\n",
              "<p>5 rows × 100 columns</p>\n",
              "</div>"
            ],
            "text/plain": [
              "   SUMLEV  REGION  DIVISION  STATE  COUNTY   STNAME         CTYNAME  \\\n",
              "0      40       3         6      1       0  Alabama         Alabama   \n",
              "1      50       3         6      1       1  Alabama  Autauga County   \n",
              "2      50       3         6      1       3  Alabama  Baldwin County   \n",
              "3      50       3         6      1       5  Alabama  Barbour County   \n",
              "4      50       3         6      1       7  Alabama     Bibb County   \n",
              "\n",
              "   CENSUS2010POP  ESTIMATESBASE2010  POPESTIMATE2010     ...       \\\n",
              "0        4779736            4780127          4785161     ...        \n",
              "1          54571              54571            54660     ...        \n",
              "2         182265             182265           183193     ...        \n",
              "3          27457              27457            27341     ...        \n",
              "4          22915              22919            22861     ...        \n",
              "\n",
              "   RDOMESTICMIG2011  RDOMESTICMIG2012  RDOMESTICMIG2013  RDOMESTICMIG2014  \\\n",
              "0          0.002295         -0.193196          0.381066          0.582002   \n",
              "1          7.242091         -2.915927         -3.012349          2.265971   \n",
              "2         14.832960         17.647293         21.845705         19.243287   \n",
              "3         -4.728132         -2.500690         -7.056824         -3.904217   \n",
              "4         -5.527043         -5.068871         -6.201001         -0.177537   \n",
              "\n",
              "   RDOMESTICMIG2015  RNETMIG2011  RNETMIG2012  RNETMIG2013  RNETMIG2014  \\\n",
              "0         -0.467369     1.030015     0.826644     1.383282     1.724718   \n",
              "1         -2.530799     7.606016    -2.626146    -2.722002     2.592270   \n",
              "2         17.197872    15.844176    18.559627    22.727626    20.317142   \n",
              "3        -10.543299    -4.874741    -2.758113    -7.167664    -3.978583   \n",
              "4          0.177258    -5.088389    -4.363636    -5.403729     0.754533   \n",
              "\n",
              "   RNETMIG2015  \n",
              "0     0.712594  \n",
              "1    -2.187333  \n",
              "2    18.293499  \n",
              "3   -10.543299  \n",
              "4     1.107861  \n",
              "\n",
              "[5 rows x 100 columns]"
            ]
          },
          "metadata": {
            "tags": []
          },
          "execution_count": 33
        }
      ]
    },
    {
      "metadata": {
        "id": "AbfXyF3a2aR0",
        "colab_type": "text"
      },
      "cell_type": "markdown",
      "source": [
        "###############################################\n",
        "\n",
        "問題一\n",
        "哪一個州（state）的郡（county）數最多？（注意 SUMLEV 變數）\n",
        "###############################################"
      ]
    },
    {
      "metadata": {
        "id": "4dWuITG1cHMI",
        "colab_type": "code",
        "outputId": "d8b30f06-c4c8-4dfa-f13f-09af2c2e37c0",
        "colab": {
          "base_uri": "https://localhost:8080/",
          "height": 34
        }
      },
      "cell_type": "code",
      "source": [
        " ##pandas：美國普查 Q1\n",
        "\n",
        "(census_df[census_df['SUMLEV'] == 50].groupby('STNAME')['SUMLEV'].size()).idxmax()\n",
        "\n",
        "\n"
      ],
      "execution_count": 0,
      "outputs": [
        {
          "output_type": "execute_result",
          "data": {
            "text/plain": [
              "'Texas'"
            ]
          },
          "metadata": {
            "tags": []
          },
          "execution_count": 34
        }
      ]
    },
    {
      "metadata": {
        "id": "-yS7XS0j2NL2",
        "colab_type": "text"
      },
      "cell_type": "markdown",
      "source": [
        "####################################################\n",
        "\n",
        "問題二\n",
        "假如僅考慮每州（state）人口最多的三個郡（county）計算人口總和，哪三個州總和數最多？（利用 CENSUS2010POP 變數）\n",
        "\n",
        "###################################################\n"
      ]
    },
    {
      "metadata": {
        "id": "Mrb-tGvLfnb_",
        "colab_type": "code",
        "outputId": "a8072221-e81f-4cd9-b13a-753c5be32a83",
        "colab": {
          "base_uri": "https://localhost:8080/",
          "height": 34
        }
      },
      "cell_type": "code",
      "source": [
        "\n",
        "\n",
        " ##pandas：美國普查 Q2\n",
        "\n",
        "df_po_sorted = (census_df[census_df['SUMLEV'] == 50].sort_values('CENSUS2010POP',ascending=False))\n",
        "\n",
        "county_num_dict = dict()\n",
        "\n",
        "for st in census_df['STNAME'].unique():\n",
        "   pop_county_sum = df_po_sorted[ df_po_sorted['STNAME'] == st].nlargest(3,'CENSUS2010POP')['CENSUS2010POP'].sum()\n",
        "   county_num_dict[st] = pop_county_sum\n",
        "\n",
        "\n",
        "df = pd.DataFrame([county_num_dict] )\n",
        "\n",
        "print(list(df.transpose().nlargest(3, 0).index))\n",
        "\n"
      ],
      "execution_count": 0,
      "outputs": [
        {
          "output_type": "stream",
          "text": [
            "['California', 'Texas', 'Illinois']\n"
          ],
          "name": "stdout"
        }
      ]
    },
    {
      "metadata": {
        "id": "HKUN-J-q2Wrn",
        "colab_type": "text"
      },
      "cell_type": "markdown",
      "source": [
        "####################################################\n",
        "\n",
        "問題三\n",
        "哪個郡（county）在 2010-2015 期間人口改變數量的絕對值最高？（考慮 POPESTIMATE2010 到 POPESTIMATE2015 這六個變數） \n",
        "\n",
        "提示：如果 6 年的人口數分別為 100, 120, 80, 105, 100, 130, 120 則人口改變數量的絕對值為 |130-80| = 50\n",
        "\n",
        "####################################################"
      ]
    },
    {
      "metadata": {
        "id": "BGmBOu-4nd9u",
        "colab_type": "code",
        "outputId": "a9d5cd7f-9fd3-49c4-a0e9-2ed2f915b9ed",
        "colab": {
          "base_uri": "https://localhost:8080/",
          "height": 34
        }
      },
      "cell_type": "code",
      "source": [
        " ##pandas：美國普查 Q3\n",
        "  \n",
        "  \n",
        "county_df = census_df[census_df[\"SUMLEV\"] == 50]\n",
        "#print(county_df.loc[:, \"POPESTIMATE2010\":\"POPESTIMATE2015\"])\n",
        "max_pop = county_df.loc[:, \"POPESTIMATE2010\":\"POPESTIMATE2015\"].max(axis=1)\n",
        "#print(max_pop)\n",
        "min_pop = county_df.loc[:, \"POPESTIMATE2010\":\"POPESTIMATE2015\"].min(axis=1)\n",
        "diff_pop = max_pop - min_pop\n",
        "#print(diff_pop)\n",
        "max_idx = diff_pop.idxmax()\n",
        "#print(max_idx)\n",
        "print(county_df.loc[max_idx, \"CTYNAME\"])\n",
        "#county_df.loc[[max_idx], :][\"CTYNAME\"].values[0]"
      ],
      "execution_count": 0,
      "outputs": [
        {
          "output_type": "stream",
          "text": [
            "Harris County\n"
          ],
          "name": "stdout"
        }
      ]
    },
    {
      "metadata": {
        "id": "8_btngazzXfM",
        "colab_type": "code",
        "outputId": "85df6c30-9365-423a-b411-e1306c4dc58d",
        "colab": {
          "base_uri": "https://localhost:8080/",
          "height": 204
        }
      },
      "cell_type": "code",
      "source": [
        "##pandas：美國普查 Q4\n",
        "  \n",
        "county_df = census_df[census_df['SUMLEV'] == 50]\n",
        "\n",
        "county_df = county_df[ (census_df['REGION'] == 1) | (census_df['REGION'] == 2)] \n",
        "#s1.str.contains(\n",
        "county_df = county_df[ county_df['CTYNAME'].str.startswith(\"Washington\")]\n",
        "#print(county_df)\n",
        "county_df = county_df[ census_df['POPESTIMATE2015'] > census_df['POPESTIMATE2014'] ]\n",
        "#print(county_df)\n",
        "\n",
        "#county_df = county_df[ (census_df['REGION'] == 1) | (census_df['REGION'] == 2)] \n",
        "#or (census_df['REGION'] == 2)]\n",
        "\n",
        "\n",
        "print(county_df[['STNAME', 'CTYNAME']])   \n",
        "print(county_df[['STNAME', 'CTYNAME']].shape)   \n",
        "\n"
      ],
      "execution_count": 0,
      "outputs": [
        {
          "output_type": "stream",
          "text": [
            "            STNAME            CTYNAME\n",
            "896           Iowa  Washington County\n",
            "1419     Minnesota  Washington County\n",
            "2345  Pennsylvania  Washington County\n",
            "2355  Rhode Island  Washington County\n",
            "3163     Wisconsin  Washington County\n",
            "(5, 2)\n"
          ],
          "name": "stdout"
        },
        {
          "output_type": "stream",
          "text": [
            "/usr/local/lib/python3.6/dist-packages/ipykernel_launcher.py:4: UserWarning: Boolean Series key will be reindexed to match DataFrame index.\n",
            "  after removing the cwd from sys.path.\n",
            "/usr/local/lib/python3.6/dist-packages/ipykernel_launcher.py:8: UserWarning: Boolean Series key will be reindexed to match DataFrame index.\n",
            "  \n"
          ],
          "name": "stderr"
        }
      ]
    },
    {
      "metadata": {
        "id": "-m6fIa3uXPYX",
        "colab_type": "code",
        "colab": {}
      },
      "cell_type": "code",
      "source": [
        "import pandas as pd\n",
        "import string\n",
        "\n",
        "def read_cec_excel(xls_file):\n",
        "  \"\"\"\n",
        "  Import Excel sheet from CEC as a pandas DataFrame\n",
        "  \"\"\"\n",
        "  df = pd.read_excel(xls_file, skiprows=[0, 1, 3, 4])\n",
        "  # dealing with header\n",
        "  n_cols = len(df.columns)\n",
        "  n_candidates = n_cols - 11\n",
        "  column_names = df.columns\n",
        "  candidates = column_names[3:(3 + n_candidates)]\n",
        "  candidates_information = []\n",
        "  for cand in candidates:\n",
        "    cand_split = cand.split(\"\\n\")\n",
        "    if cand_split[2] == ' ':\n",
        "      party = \"無黨籍\"\n",
        "    else:\n",
        "      party = cand_split[2]\n",
        "    candidate_info = \"{} {} {}\".format(cand_split[0], cand_split[1], party)\n",
        "    candidates_information.append(candidate_info)\n",
        "  front_cols = [\"district\", \"village\", \"office\"]\n",
        "  back_cols = list(string.ascii_uppercase[:8])\n",
        "  df_header = front_cols + candidates_information + back_cols\n",
        "  # combining observations with header\n",
        "  df.columns = df_header\n",
        "  # returning dataframe\n",
        "  return df"
      ],
      "execution_count": 0,
      "outputs": []
    },
    {
      "metadata": {
        "id": "PdWGMhbp5DIl",
        "colab_type": "code",
        "outputId": "13dbd469-2aba-4b21-8f3c-56fcc7eb9fba",
        "colab": {
          "base_uri": "https://localhost:8080/",
          "height": 204
        }
      },
      "cell_type": "code",
      "source": [
        "tp = read_cec_excel(\"https://s3-ap-northeast-1.amazonaws.com/tw-election-2018/city-mayor/100.xls\")\n",
        "tp.head()"
      ],
      "execution_count": 0,
      "outputs": [
        {
          "output_type": "execute_result",
          "data": {
            "text/html": [
              "<div>\n",
              "<style scoped>\n",
              "    .dataframe tbody tr th:only-of-type {\n",
              "        vertical-align: middle;\n",
              "    }\n",
              "\n",
              "    .dataframe tbody tr th {\n",
              "        vertical-align: top;\n",
              "    }\n",
              "\n",
              "    .dataframe thead th {\n",
              "        text-align: right;\n",
              "    }\n",
              "</style>\n",
              "<table border=\"1\" class=\"dataframe\">\n",
              "  <thead>\n",
              "    <tr style=\"text-align: right;\">\n",
              "      <th></th>\n",
              "      <th>district</th>\n",
              "      <th>village</th>\n",
              "      <th>office</th>\n",
              "      <th>1 吳蕚洋 無黨籍</th>\n",
              "      <th>2 丁守中 中國國民黨</th>\n",
              "      <th>3 姚文智 民主進步黨</th>\n",
              "      <th>4 柯文哲 無黨籍</th>\n",
              "      <th>5 李錫錕 無黨籍</th>\n",
              "      <th>A</th>\n",
              "      <th>B</th>\n",
              "      <th>C</th>\n",
              "      <th>D</th>\n",
              "      <th>E</th>\n",
              "      <th>F</th>\n",
              "      <th>G</th>\n",
              "      <th>H</th>\n",
              "    </tr>\n",
              "  </thead>\n",
              "  <tbody>\n",
              "    <tr>\n",
              "      <th>0</th>\n",
              "      <td>北投區</td>\n",
              "      <td>NaN</td>\n",
              "      <td>NaN</td>\n",
              "      <td>499</td>\n",
              "      <td>52445</td>\n",
              "      <td>24586</td>\n",
              "      <td>56096</td>\n",
              "      <td>578</td>\n",
              "      <td>134204</td>\n",
              "      <td>1104</td>\n",
              "      <td>135308</td>\n",
              "      <td>12</td>\n",
              "      <td>135320</td>\n",
              "      <td>71723</td>\n",
              "      <td>207043</td>\n",
              "      <td>65.349998</td>\n",
              "    </tr>\n",
              "    <tr>\n",
              "      <th>1</th>\n",
              "      <td></td>\n",
              "      <td>建民里</td>\n",
              "      <td>1.0</td>\n",
              "      <td>4</td>\n",
              "      <td>338</td>\n",
              "      <td>196</td>\n",
              "      <td>316</td>\n",
              "      <td>8</td>\n",
              "      <td>862</td>\n",
              "      <td>9</td>\n",
              "      <td>871</td>\n",
              "      <td>0</td>\n",
              "      <td>871</td>\n",
              "      <td>417</td>\n",
              "      <td>1288</td>\n",
              "      <td>67.620003</td>\n",
              "    </tr>\n",
              "    <tr>\n",
              "      <th>2</th>\n",
              "      <td></td>\n",
              "      <td>建民里</td>\n",
              "      <td>2.0</td>\n",
              "      <td>2</td>\n",
              "      <td>326</td>\n",
              "      <td>243</td>\n",
              "      <td>412</td>\n",
              "      <td>5</td>\n",
              "      <td>988</td>\n",
              "      <td>11</td>\n",
              "      <td>999</td>\n",
              "      <td>0</td>\n",
              "      <td>999</td>\n",
              "      <td>363</td>\n",
              "      <td>1362</td>\n",
              "      <td>73.349998</td>\n",
              "    </tr>\n",
              "    <tr>\n",
              "      <th>3</th>\n",
              "      <td></td>\n",
              "      <td>建民里</td>\n",
              "      <td>3.0</td>\n",
              "      <td>2</td>\n",
              "      <td>247</td>\n",
              "      <td>144</td>\n",
              "      <td>306</td>\n",
              "      <td>3</td>\n",
              "      <td>702</td>\n",
              "      <td>9</td>\n",
              "      <td>711</td>\n",
              "      <td>0</td>\n",
              "      <td>711</td>\n",
              "      <td>328</td>\n",
              "      <td>1039</td>\n",
              "      <td>68.430000</td>\n",
              "    </tr>\n",
              "    <tr>\n",
              "      <th>4</th>\n",
              "      <td></td>\n",
              "      <td>文林里</td>\n",
              "      <td>4.0</td>\n",
              "      <td>1</td>\n",
              "      <td>282</td>\n",
              "      <td>177</td>\n",
              "      <td>307</td>\n",
              "      <td>8</td>\n",
              "      <td>775</td>\n",
              "      <td>4</td>\n",
              "      <td>779</td>\n",
              "      <td>0</td>\n",
              "      <td>779</td>\n",
              "      <td>396</td>\n",
              "      <td>1175</td>\n",
              "      <td>66.300003</td>\n",
              "    </tr>\n",
              "  </tbody>\n",
              "</table>\n",
              "</div>"
            ],
            "text/plain": [
              "  district village  office  1 吳蕚洋 無黨籍  2 丁守中 中國國民黨  3 姚文智 民主進步黨  4 柯文哲 無黨籍  \\\n",
              "0     　北投區     NaN     NaN        499        52445        24586      56096   \n",
              "1       　　     建民里     1.0          4          338          196        316   \n",
              "2       　　     建民里     2.0          2          326          243        412   \n",
              "3       　　     建民里     3.0          2          247          144        306   \n",
              "4       　　     文林里     4.0          1          282          177        307   \n",
              "\n",
              "   5 李錫錕 無黨籍       A     B       C   D       E      F       G          H  \n",
              "0        578  134204  1104  135308  12  135320  71723  207043  65.349998  \n",
              "1          8     862     9     871   0     871    417    1288  67.620003  \n",
              "2          5     988    11     999   0     999    363    1362  73.349998  \n",
              "3          3     702     9     711   0     711    328    1039  68.430000  \n",
              "4          8     775     4     779   0     779    396    1175  66.300003  "
            ]
          },
          "metadata": {
            "tags": []
          },
          "execution_count": 4
        }
      ]
    },
    {
      "metadata": {
        "id": "qyjWEMti5KZc",
        "colab_type": "code",
        "colab": {}
      },
      "cell_type": "code",
      "source": [
        ""
      ],
      "execution_count": 0,
      "outputs": []
    },
    {
      "metadata": {
        "id": "zRKhuUkD5uV_",
        "colab_type": "text"
      },
      "cell_type": "markdown",
      "source": [
        "# 1. 把 district 填回去\n",
        "\n",
        "# 2. 把小計（有 NaN 的 rows）都刪掉\n"
      ]
    },
    {
      "metadata": {
        "id": "skSlXXWz51UC",
        "colab_type": "code",
        "outputId": "7c617bd5-8f49-434d-9f49-4dd8dfa2cd02",
        "colab": {
          "base_uri": "https://localhost:8080/",
          "height": 2176
        }
      },
      "cell_type": "code",
      "source": [
        "\n",
        "#print(len(tp['district']))\n",
        "fill_str = str()\n",
        "#distrct_list = list(tp['district'])\n",
        "#print(distrct_list)\n",
        "district_without_space = [d.strip() for d in list(tp[\"district\"])]\n",
        "for i in range(len(district_without_space)):\n",
        "   #print(\"i=\", i)\n",
        "   # if \"blah\" not in somestring    \n",
        "   if( \"區\"  in district_without_space[i] ):\n",
        "       fill_str = district_without_space[i]\n",
        "       #print(\"XX{}XX\".format(fill_str))\n",
        "   else:   \n",
        "       district_without_space[i] = fill_str\n",
        "   #print(fill_str)   \n",
        "      \n",
        "tp['district'] = district_without_space    \n",
        "print(tp)   \n",
        "\n"
      ],
      "execution_count": 0,
      "outputs": [
        {
          "output_type": "stream",
          "text": [
            "     district village  office  1 吳蕚洋 無黨籍  2 丁守中 中國國民黨  3 姚文智 民主進步黨  4 柯文哲 無黨籍  \\\n",
            "0         北投區     NaN     NaN        499        52445        24586      56096   \n",
            "1         北投區     建民里     1.0          4          338          196        316   \n",
            "2         北投區     建民里     2.0          2          326          243        412   \n",
            "3         北投區     建民里     3.0          2          247          144        306   \n",
            "4         北投區     文林里     4.0          1          282          177        307   \n",
            "5         北投區     文林里     5.0          5          315          183        378   \n",
            "6         北投區     文林里     6.0          3          306          194        340   \n",
            "7         北投區     石牌里     7.0          0          348          214        478   \n",
            "8         北投區     石牌里     8.0          4          367          215        428   \n",
            "9         北投區     石牌里     9.0          5          337          199        427   \n",
            "10        北投區     福興里    10.0          3          347          174        396   \n",
            "11        北投區     福興里    11.0          5          358          175        411   \n",
            "12        北投區     福興里    12.0          2          420          197        467   \n",
            "13        北投區     福興里    13.0          0          370          172        418   \n",
            "14        北投區     榮光里    14.0          4          326          184        396   \n",
            "15        北投區     榮光里    15.0          2          386          158        422   \n",
            "16        北投區     榮光里    16.0          4          421          180        437   \n",
            "17        北投區     榮光里    17.0          4          432          132        406   \n",
            "18        北投區     榮華里    18.0          3          479          189        417   \n",
            "19        北投區     榮華里    19.0          2          440          171        446   \n",
            "20        北投區     榮華里    20.0          4          410          174        444   \n",
            "21        北投區     榮華里    21.0          4          413          145        403   \n",
            "22        北投區     裕民里    22.0          4          468          175        410   \n",
            "23        北投區     裕民里    23.0          1          421          202        408   \n",
            "24        北投區     裕民里    24.0          3          392          190        441   \n",
            "25        北投區     裕民里    25.0          2          439          193        467   \n",
            "26        北投區     振華里    26.0          4          468          175        450   \n",
            "27        北投區     振華里    27.0          5          416          183        405   \n",
            "28        北投區     振華里    28.0          0          445          207        413   \n",
            "29        北投區     振華里    29.0          2          426          196        408   \n",
            "...       ...     ...     ...        ...          ...          ...        ...   \n",
            "1545      文山區     樟腳里  1534.0          2          439          121        442   \n",
            "1546      文山區     樟樹里  1535.0          5          390          143        369   \n",
            "1547      文山區     樟樹里  1536.0          2          431          149        401   \n",
            "1548      文山區     樟樹里  1537.0          1          429          132        398   \n",
            "1549      文山區     萬芳里  1538.0          4          450          112        471   \n",
            "1550      文山區     萬芳里  1539.0          3          358          103        350   \n",
            "1551      文山區     萬芳里  1540.0          4          396           75        327   \n",
            "1552      文山區     萬芳里  1541.0          3          455           91        339   \n",
            "1553      文山區     萬芳里  1542.0          2          449          112        340   \n",
            "1554      文山區     萬美里  1543.0          1          480          116        442   \n",
            "1555      文山區     萬美里  1544.0          6          447          116        324   \n",
            "1556      文山區     萬美里  1545.0          4          550          102        358   \n",
            "1557      文山區     萬美里  1546.0          6          461          155        369   \n",
            "1558      文山區     博嘉里  1547.0         13          490          222        433   \n",
            "1559      文山區     博嘉里  1548.0          2          272          111        270   \n",
            "1560      文山區     博嘉里  1549.0          5          476           65        321   \n",
            "1561      文山區     博嘉里  1550.0          3          319           97        280   \n",
            "1562      文山區     萬興里  1551.0          5          455          123        412   \n",
            "1563      文山區     萬興里  1552.0          2          400          137        369   \n",
            "1564      文山區     萬興里  1553.0          5          427          131        314   \n",
            "1565      文山區     萬興里  1554.0          5          393          134        365   \n",
            "1566      文山區     萬興里  1555.0          4          334          170        346   \n",
            "1567      文山區     政大里  1556.0          4          388          129        378   \n",
            "1568      文山區     政大里  1557.0          6          438          119        390   \n",
            "1569      文山區     政大里  1558.0         11          496          102        525   \n",
            "1570      文山區     政大里  1559.0          4          432          106        367   \n",
            "1571      文山區     指南里  1560.0          4          373           96        358   \n",
            "1572      文山區     指南里  1561.0          4          332          127        319   \n",
            "1573      文山區     指南里  1562.0          4          154          150        230   \n",
            "1574      文山區     老泉里  1563.0          5          149          149        224   \n",
            "\n",
            "      5 李錫錕 無黨籍       A     B       C   D       E      F       G          H  \n",
            "0           578  134204  1104  135308  12  135320  71723  207043  65.349998  \n",
            "1             8     862     9     871   0     871    417    1288  67.620003  \n",
            "2             5     988    11     999   0     999    363    1362  73.349998  \n",
            "3             3     702     9     711   0     711    328    1039  68.430000  \n",
            "4             8     775     4     779   0     779    396    1175  66.300003  \n",
            "5             5     886     3     889   1     890    399    1289  68.970001  \n",
            "6             4     847     2     849   0     849    371    1220  69.589996  \n",
            "7             5    1045     2    1047   0    1047    491    1538  68.080002  \n",
            "8             5    1019    11    1030   0    1030    510    1540  66.879997  \n",
            "9             4     972     9     981   0     981    463    1444  67.940002  \n",
            "10            3     923     5     928   0     928    495    1423  65.209999  \n",
            "11            2     951     8     959   0     959    451    1410  68.010002  \n",
            "12            1    1087    13    1100   0    1100    467    1567  70.199997  \n",
            "13            5     965     6     971   1     972    507    1479  65.650002  \n",
            "14            3     913     4     917   0     917    553    1470  62.380001  \n",
            "15            3     971     7     978   0     978    517    1495  65.419998  \n",
            "16            8    1050     9    1059   0    1059    538    1597  66.309998  \n",
            "17            5     979    28    1007   0    1007    477    1484  67.860001  \n",
            "18            3    1091     9    1100   0    1100    549    1649  66.709999  \n",
            "19            4    1063    14    1077   0    1077    606    1683  63.990002  \n",
            "20            3    1035     7    1042   0    1042    492    1534  67.930000  \n",
            "21            5     970     3     973   1     974    508    1482  65.650002  \n",
            "22            3    1060     5    1065   0    1065    610    1675  63.580002  \n",
            "23            1    1033     9    1042   0    1042    602    1644  63.380001  \n",
            "24            3    1029    10    1039   0    1039    617    1656  62.740002  \n",
            "25            3    1104     8    1112   1    1113    527    1640  67.800003  \n",
            "26            3    1100     7    1107   0    1107    560    1667  66.410004  \n",
            "27            6    1015     3    1018   0    1018    537    1555  65.470001  \n",
            "28            2    1067     7    1074   0    1074    599    1673  64.199997  \n",
            "29            8    1040     4    1044   0    1044    510    1554  67.180000  \n",
            "...         ...     ...   ...     ...  ..     ...    ...     ...        ...  \n",
            "1545          9    1013     5    1018   0    1018    502    1520  66.970001  \n",
            "1546          2     909     8     917   0     917    365    1282  71.529999  \n",
            "1547          2     985    20    1005   0    1005    373    1378  72.930000  \n",
            "1548          2     962    10     972   0     972    440    1412  68.839996  \n",
            "1549          6    1043    10    1053   0    1053    544    1597  65.940002  \n",
            "1550          4     818    10     828   0     828    424    1252  66.129997  \n",
            "1551          0     802     5     807   0     807    371    1178  68.510002  \n",
            "1552          4     892     5     897   0     897    363    1260  71.190002  \n",
            "1553          5     908     5     913   0     913    501    1414  64.570000  \n",
            "1554          8    1047     9    1056   0    1056    503    1559  67.739998  \n",
            "1555          0     893    14     907   0     907    590    1497  60.590000  \n",
            "1556          3    1017     9    1026   0    1026    596    1622  63.259998  \n",
            "1557          7     998    11    1009   0    1009    602    1611  62.630001  \n",
            "1558          3    1161    10    1171   0    1171    593    1764  66.379997  \n",
            "1559          4     659     7     666   0     666    280     946  70.400002  \n",
            "1560          5     872     9     881   0     881    386    1267  69.529999  \n",
            "1561          1     700     9     709   0     709    280     989  71.690002  \n",
            "1562          4     999     8    1007   0    1007    501    1508  66.779999  \n",
            "1563          4     912     6     918   0     918    484    1402  65.480003  \n",
            "1564          4     881     6     887   0     887    388    1275  69.570000  \n",
            "1565          4     901     5     906   0     906    435    1341  67.559998  \n",
            "1566          8     862     9     871   0     871    468    1339  65.050003  \n",
            "1567          9     908     6     914   0     914    482    1396  65.470001  \n",
            "1568          2     955     0     955   0     955    437    1392  68.610001  \n",
            "1569          3    1137    10    1147   0    1147    508    1655  69.309998  \n",
            "1570          2     911     6     917   1     918    477    1395  65.730003  \n",
            "1571          2     833     4     837   0     837    405    1242  67.389999  \n",
            "1572          3     785    16     801   0     801    460    1261  63.520000  \n",
            "1573          7     545    15     560   0     560    280     840  66.669998  \n",
            "1574          2     529    11     540   0     540    216     756  71.430000  \n",
            "\n",
            "[1575 rows x 16 columns]\n"
          ],
          "name": "stdout"
        }
      ]
    },
    {
      "metadata": {
        "id": "7KNjzDqA6D5M",
        "colab_type": "code",
        "colab": {}
      },
      "cell_type": "code",
      "source": [
        "import pandas as pd\n",
        "\n",
        "players = [\"Steve Nash\", \"Michael Jordan\", \"Kevin Garnett\", \"Dirk Nowitzski\", \"Shaquille O'Neal\"]\n",
        "heights = [190, 198, 213, 213, 216]\n",
        "weights = [82, 98, 113, 111, 148]\n"
      ],
      "execution_count": 0,
      "outputs": []
    },
    {
      "metadata": {
        "id": "LpWEMb4hn7Uo",
        "colab_type": "code",
        "outputId": "39bc2944-ba57-41bc-a338-3e851c18e54f",
        "colab": {
          "base_uri": "https://localhost:8080/",
          "height": 119
        }
      },
      "cell_type": "code",
      "source": [
        "wide_df = pd.DataFrame() \n",
        "wide_df['players']= players\n",
        "wide_df['heights']= heights\n",
        "wide_df['weights']= weights\n",
        "print(wide_df)"
      ],
      "execution_count": 0,
      "outputs": [
        {
          "output_type": "stream",
          "text": [
            "            players  heights  weights\n",
            "0        Steve Nash      190       82\n",
            "1    Michael Jordan      198       98\n",
            "2     Kevin Garnett      213      113\n",
            "3    Dirk Nowitzski      213      111\n",
            "4  Shaquille O'Neal      216      148\n"
          ],
          "name": "stdout"
        }
      ]
    },
    {
      "metadata": {
        "id": "NMQxTHZOoHlS",
        "colab_type": "code",
        "outputId": "865d18a4-c3c8-4464-b99e-208c65f4e89c",
        "colab": {
          "base_uri": "https://localhost:8080/",
          "height": 204
        }
      },
      "cell_type": "code",
      "source": [
        "\n",
        "\n",
        "# pd.melt\n",
        "#wide_df = wide_df.rename(columns={'heights': 'scale'})\n",
        "long_df = pd.melt(wide_df, id_vars=\"players\", var_name=\"heights\", value_name=\"weights\")\n",
        "long_df = long_df.rename(columns={'heights': 'scale','weights': 'hight/weights' })\n",
        "print(long_df)\n"
      ],
      "execution_count": 0,
      "outputs": [
        {
          "output_type": "stream",
          "text": [
            "            players    scale  hight/weights\n",
            "0        Steve Nash  heights            190\n",
            "1    Michael Jordan  heights            198\n",
            "2     Kevin Garnett  heights            213\n",
            "3    Dirk Nowitzski  heights            213\n",
            "4  Shaquille O'Neal  heights            216\n",
            "5        Steve Nash  weights             82\n",
            "6    Michael Jordan  weights             98\n",
            "7     Kevin Garnett  weights            113\n",
            "8    Dirk Nowitzski  weights            111\n",
            "9  Shaquille O'Neal  weights            148\n"
          ],
          "name": "stdout"
        }
      ]
    },
    {
      "metadata": {
        "id": "yWJ7kS90o_GS",
        "colab_type": "code",
        "colab": {}
      },
      "cell_type": "code",
      "source": [
        ""
      ],
      "execution_count": 0,
      "outputs": []
    },
    {
      "metadata": {
        "id": "UtspTn_PsD5t",
        "colab_type": "text"
      },
      "cell_type": "markdown",
      "source": [
        "###################\n",
        "###Taipei & New Taipei\n",
        "###################"
      ]
    },
    {
      "metadata": {
        "id": "479HE6CjsHvE",
        "colab_type": "code",
        "colab": {}
      },
      "cell_type": "code",
      "source": [
        "import pandas as pd\n",
        "import string\n",
        "\n",
        "def read_cec_excel(xls_file):\n",
        "  \"\"\"\n",
        "  Import Excel sheet from CEC as a pandas DataFrame\n",
        "  \"\"\"\n",
        "  df = pd.read_excel(xls_file, skiprows=[0, 1, 3, 4])\n",
        "  # dealing with header\n",
        "  n_cols = len(df.columns)\n",
        "  n_candidates = n_cols - 11\n",
        "  column_names = df.columns\n",
        "  candidates = column_names[3:(3 + n_candidates)]\n",
        "  candidates_information = []\n",
        "  for cand in candidates:\n",
        "    cand_split = cand.split(\"\\n\")\n",
        "    if cand_split[2] == ' ':\n",
        "      party = \"無黨籍\"\n",
        "    else:\n",
        "      party = cand_split[2]\n",
        "    candidate_info = \"{} {} {}\".format(cand_split[0], cand_split[1], party)\n",
        "    candidates_information.append(candidate_info)\n",
        "  front_cols = [\"district\", \"village\", \"office\"]\n",
        "  back_cols = list(string.ascii_uppercase[:8])\n",
        "  df_header = front_cols + candidates_information + back_cols\n",
        "  # combining observations with header\n",
        "  df.columns = df_header\n",
        "  # imputing districts\n",
        "  district_without_space = [d.strip() for d in list(df[\"district\"])]\n",
        "  district_imputed = district_without_space\n",
        "  for i in range(len(district_without_space)):\n",
        "    if len(district_without_space[i]) == 0:\n",
        "      district_imputed[i] = district_imputed[i - 1]\n",
        "  df[\"district\"] = district_imputed\n",
        "  # drop rows with NaN\n",
        "  df = df.dropna().reset_index(drop=True)\n",
        "  # convert office dtype to int\n",
        "  df[\"office\"] = df[\"office\"].astype(int)\n",
        "  # returning dataframe\n",
        "  return df"
      ],
      "execution_count": 0,
      "outputs": []
    },
    {
      "metadata": {
        "id": "eeKmpH8tsKK0",
        "colab_type": "code",
        "outputId": "c2c34eac-817a-46f6-bd92-74ac3ba8f16d",
        "colab": {
          "base_uri": "https://localhost:8080/",
          "height": 391
        }
      },
      "cell_type": "code",
      "source": [
        "city_ids = [100, 200, 300, 400, 500, 600]\n",
        "county_ids = list(range(701, 715)) + [801, 802]\n",
        "cities = [\"台北市\", \"新北市\", \"桃園市\", \"台中市\", \"台南市\", \"高雄市\"]\n",
        "counties = [\"新竹縣\", \"苗栗縣\", \"彰化縣\", \"南投縣\", \"雲林縣\", \"嘉義縣\", \"屏東縣\", \"宜蘭縣\", \"花蓮縣\", \"台東縣\", \"澎湖縣\", \"基隆市\", \"新竹市\", \"嘉義市\", \"金門縣\", \"連江縣\"]\n",
        "admin_areas = cities + counties\n",
        "city_xls_file_urls = [\"https://s3-ap-northeast-1.amazonaws.com/tw-election-2018/city-mayor/{}.xls\".format(cid) for cid in city_ids]\n",
        "county_xls_file_urls = [\"https://s3-ap-northeast-1.amazonaws.com/tw-election-2018/county-mayor/{}.xls\".format(cid) for cid in county_ids]\n",
        "xls_file_urls = city_xls_file_urls + county_xls_file_urls\n",
        "for aa, xfu in zip(admin_areas, xls_file_urls):\n",
        "  print(aa, xfu)"
      ],
      "execution_count": 0,
      "outputs": [
        {
          "output_type": "stream",
          "text": [
            "台北市 https://s3-ap-northeast-1.amazonaws.com/tw-election-2018/city-mayor/100.xls\n",
            "新北市 https://s3-ap-northeast-1.amazonaws.com/tw-election-2018/city-mayor/200.xls\n",
            "桃園市 https://s3-ap-northeast-1.amazonaws.com/tw-election-2018/city-mayor/300.xls\n",
            "台中市 https://s3-ap-northeast-1.amazonaws.com/tw-election-2018/city-mayor/400.xls\n",
            "台南市 https://s3-ap-northeast-1.amazonaws.com/tw-election-2018/city-mayor/500.xls\n",
            "高雄市 https://s3-ap-northeast-1.amazonaws.com/tw-election-2018/city-mayor/600.xls\n",
            "新竹縣 https://s3-ap-northeast-1.amazonaws.com/tw-election-2018/county-mayor/701.xls\n",
            "苗栗縣 https://s3-ap-northeast-1.amazonaws.com/tw-election-2018/county-mayor/702.xls\n",
            "彰化縣 https://s3-ap-northeast-1.amazonaws.com/tw-election-2018/county-mayor/703.xls\n",
            "南投縣 https://s3-ap-northeast-1.amazonaws.com/tw-election-2018/county-mayor/704.xls\n",
            "雲林縣 https://s3-ap-northeast-1.amazonaws.com/tw-election-2018/county-mayor/705.xls\n",
            "嘉義縣 https://s3-ap-northeast-1.amazonaws.com/tw-election-2018/county-mayor/706.xls\n",
            "屏東縣 https://s3-ap-northeast-1.amazonaws.com/tw-election-2018/county-mayor/707.xls\n",
            "宜蘭縣 https://s3-ap-northeast-1.amazonaws.com/tw-election-2018/county-mayor/708.xls\n",
            "花蓮縣 https://s3-ap-northeast-1.amazonaws.com/tw-election-2018/county-mayor/709.xls\n",
            "台東縣 https://s3-ap-northeast-1.amazonaws.com/tw-election-2018/county-mayor/710.xls\n",
            "澎湖縣 https://s3-ap-northeast-1.amazonaws.com/tw-election-2018/county-mayor/711.xls\n",
            "基隆市 https://s3-ap-northeast-1.amazonaws.com/tw-election-2018/county-mayor/712.xls\n",
            "新竹市 https://s3-ap-northeast-1.amazonaws.com/tw-election-2018/county-mayor/713.xls\n",
            "嘉義市 https://s3-ap-northeast-1.amazonaws.com/tw-election-2018/county-mayor/714.xls\n",
            "金門縣 https://s3-ap-northeast-1.amazonaws.com/tw-election-2018/county-mayor/801.xls\n",
            "連江縣 https://s3-ap-northeast-1.amazonaws.com/tw-election-2018/county-mayor/802.xls\n"
          ],
          "name": "stdout"
        }
      ]
    },
    {
      "metadata": {
        "id": "FgJM8l3hsPZF",
        "colab_type": "code",
        "outputId": "6b9859e7-d66e-4136-d110-084ff1f33efa",
        "colab": {
          "base_uri": "https://localhost:8080/",
          "height": 34
        }
      },
      "cell_type": "code",
      "source": [
        "df_dict = dict()\n",
        "for aa, xfu in zip(admin_areas, xls_file_urls):\n",
        "  df_dict[aa] = read_cec_excel(xfu)\n",
        "print(len(df_dict))"
      ],
      "execution_count": 0,
      "outputs": [
        {
          "output_type": "stream",
          "text": [
            "22\n"
          ],
          "name": "stdout"
        }
      ]
    },
    {
      "metadata": {
        "id": "5LAj3MoOu3nV",
        "colab_type": "code",
        "outputId": "1899f60e-5e00-4a76-fbb8-496cfb4bbf0b",
        "colab": {
          "base_uri": "https://localhost:8080/",
          "height": 182
        }
      },
      "cell_type": "code",
      "source": [
        "\n",
        "pd.melt(df, id_vars=\"players\", var_name=\"1 吳蕚洋 無黨籍\", value_name=\"2 丁守中 中國國民黨\")"
      ],
      "execution_count": 0,
      "outputs": [
        {
          "output_type": "error",
          "ename": "NameError",
          "evalue": "ignored",
          "traceback": [
            "\u001b[0;31m---------------------------------------------------------------------------\u001b[0m",
            "\u001b[0;31mNameError\u001b[0m                                 Traceback (most recent call last)",
            "\u001b[0;32m<ipython-input-5-4bc51bfb9d80>\u001b[0m in \u001b[0;36m<module>\u001b[0;34m()\u001b[0m\n\u001b[1;32m      1\u001b[0m \u001b[0;34m\u001b[0m\u001b[0m\n\u001b[0;32m----> 2\u001b[0;31m \u001b[0mpd\u001b[0m\u001b[0;34m.\u001b[0m\u001b[0mmelt\u001b[0m\u001b[0;34m(\u001b[0m\u001b[0mdf\u001b[0m\u001b[0;34m,\u001b[0m \u001b[0mid_vars\u001b[0m\u001b[0;34m=\u001b[0m\u001b[0;34m\"players\"\u001b[0m\u001b[0;34m,\u001b[0m \u001b[0mvar_name\u001b[0m\u001b[0;34m=\u001b[0m\u001b[0;34m\"1 吳蕚洋 無黨籍\"\u001b[0m\u001b[0;34m,\u001b[0m \u001b[0mvalue_name\u001b[0m\u001b[0;34m=\u001b[0m\u001b[0;34m\"2 丁守中 中國國民黨\"\u001b[0m\u001b[0;34m)\u001b[0m\u001b[0;34m\u001b[0m\u001b[0;34m\u001b[0m\u001b[0m\n\u001b[0m",
            "\u001b[0;31mNameError\u001b[0m: name 'df' is not defined"
          ]
        }
      ]
    },
    {
      "metadata": {
        "id": "UJ6OIC2eYv8P",
        "colab_type": "text"
      },
      "cell_type": "markdown",
      "source": [
        "# #### append 22 districts"
      ]
    },
    {
      "metadata": {
        "id": "Pi2rHNRdtRYq",
        "colab_type": "code",
        "outputId": "a1411f74-9bff-40ce-9ce2-2820e79437db",
        "colab": {
          "base_uri": "https://localhost:8080/",
          "height": 238
        }
      },
      "cell_type": "code",
      "source": [
        "#### append 22 districts\n",
        "\n",
        "\n",
        "\n",
        "import string\n",
        "mayors = pd.DataFrame()\n",
        "for aa, xfu in zip(admin_areas, xls_file_urls):\n",
        "  tp = df_dict[aa]\n",
        "  back_cols = list(string.ascii_uppercase[:8])\n",
        "\n",
        "  tp = tp.drop(labels = back_cols, axis=1)\n",
        "  tp['district'] = aa\n",
        "  # number / candidate / party\n",
        "\n",
        "  tp_long = pd.melt(tp, id_vars=[\"district\", \"village\", \"office\"], var_name=\"candidate_info\", value_name=\"votes\")\n",
        "   \n",
        "  #print(\"len=\",len(tp_long['candidate_info'][0]))\n",
        "  #print(\"tp_long=\",tp_long['candidate_info'][0])\n",
        "  #pass      \n",
        "  \n",
        "  #for can in tp_long['candidate_info']:\n",
        "  # x = can.split(\" \")\n",
        "   \n",
        "  \n",
        "  for i in range(len(tp_long['candidate_info'])):\n",
        "    x= tp_long['candidate_info'][i].split(\" \")\n",
        "    tp_long['number'] = x[0]\n",
        "    tp_long['candidate']=x[1]\n",
        "    tp_long['party']=x[2]\n",
        "  \n",
        "  tp_long = tp_long.drop(labels =\"candidate_info\", axis=1)\n",
        "  #tp_long.shape\n",
        "  mayors = mayors.append(tp_long)\n",
        "  \n",
        "mayors = mayors.reset_index()  \n",
        "#print(mayors.head())\n",
        "#print(mayors.shape) \n",
        "print(mayors.tail()) \n",
        "  "
      ],
      "execution_count": 0,
      "outputs": [
        {
          "output_type": "stream",
          "text": [
            "       index district      village  office candidate_info  votes number  \\\n",
            "62684     31      連江縣  后沃村、橋仔村、塘岐村       5    4 劉增應 中國國民黨    838      4   \n",
            "62685     32      連江縣  坂里村、白沙村、芹壁村       6    4 劉增應 中國國民黨    301      4   \n",
            "62686     33      連江縣  田沃村、西坵村、青帆村       7    4 劉增應 中國國民黨    341      4   \n",
            "62687     34      連江縣      大坪村、福正村       8    4 劉增應 中國國民黨    391      4   \n",
            "62688     35      連江縣      樂華村、中柳村       9    4 劉增應 中國國民黨    396      4   \n",
            "\n",
            "      candidate  party  \n",
            "62684       劉增應  中國國民黨  \n",
            "62685       劉增應  中國國民黨  \n",
            "62686       劉增應  中國國民黨  \n",
            "62687       劉增應  中國國民黨  \n",
            "62688       劉增應  中國國民黨  \n"
          ],
          "name": "stdout"
        }
      ]
    },
    {
      "metadata": {
        "id": "Y_r_DAm_4wnq",
        "colab_type": "code",
        "colab": {}
      },
      "cell_type": "code",
      "source": [
        "mayors.reset_index()"
      ],
      "execution_count": 0,
      "outputs": []
    },
    {
      "metadata": {
        "id": "G819HUfy5X5y",
        "colab_type": "code",
        "outputId": "cad742ac-75b1-445e-e03f-6d9d7adaed37",
        "colab": {
          "base_uri": "https://localhost:8080/",
          "height": 1290
        }
      },
      "cell_type": "code",
      "source": [
        "for can in mayors['candidate_info']:\n",
        "   x = can.split(\" \")\n",
        "  \n",
        "print(x)\n",
        "for i in range(len(mayors['district'])):\n",
        "  mayors['number'] = x[0]\n",
        "  mayors['candidate']=x[1]\n",
        "  mayors['party']=x[2]\n",
        "\n",
        "print(mayors)  \n",
        "print(mayors['number'])\n",
        "  \n",
        "  \n",
        "  "
      ],
      "execution_count": 0,
      "outputs": [
        {
          "output_type": "error",
          "ename": "KeyError",
          "evalue": "ignored",
          "traceback": [
            "\u001b[0;31m---------------------------------------------------------------------------\u001b[0m",
            "\u001b[0;31mKeyError\u001b[0m                                  Traceback (most recent call last)",
            "\u001b[0;32m/usr/local/lib/python3.6/dist-packages/pandas/core/indexes/base.py\u001b[0m in \u001b[0;36mget_loc\u001b[0;34m(self, key, method, tolerance)\u001b[0m\n\u001b[1;32m   2524\u001b[0m             \u001b[0;32mtry\u001b[0m\u001b[0;34m:\u001b[0m\u001b[0;34m\u001b[0m\u001b[0;34m\u001b[0m\u001b[0m\n\u001b[0;32m-> 2525\u001b[0;31m                 \u001b[0;32mreturn\u001b[0m \u001b[0mself\u001b[0m\u001b[0;34m.\u001b[0m\u001b[0m_engine\u001b[0m\u001b[0;34m.\u001b[0m\u001b[0mget_loc\u001b[0m\u001b[0;34m(\u001b[0m\u001b[0mkey\u001b[0m\u001b[0;34m)\u001b[0m\u001b[0;34m\u001b[0m\u001b[0;34m\u001b[0m\u001b[0m\n\u001b[0m\u001b[1;32m   2526\u001b[0m             \u001b[0;32mexcept\u001b[0m \u001b[0mKeyError\u001b[0m\u001b[0;34m:\u001b[0m\u001b[0;34m\u001b[0m\u001b[0;34m\u001b[0m\u001b[0m\n",
            "\u001b[0;32mpandas/_libs/index.pyx\u001b[0m in \u001b[0;36mpandas._libs.index.IndexEngine.get_loc\u001b[0;34m()\u001b[0m\n",
            "\u001b[0;32mpandas/_libs/index.pyx\u001b[0m in \u001b[0;36mpandas._libs.index.IndexEngine.get_loc\u001b[0;34m()\u001b[0m\n",
            "\u001b[0;32mpandas/_libs/hashtable_class_helper.pxi\u001b[0m in \u001b[0;36mpandas._libs.hashtable.PyObjectHashTable.get_item\u001b[0;34m()\u001b[0m\n",
            "\u001b[0;32mpandas/_libs/hashtable_class_helper.pxi\u001b[0m in \u001b[0;36mpandas._libs.hashtable.PyObjectHashTable.get_item\u001b[0;34m()\u001b[0m\n",
            "\u001b[0;31mKeyError\u001b[0m: 'candidate_info'",
            "\nDuring handling of the above exception, another exception occurred:\n",
            "\u001b[0;31mKeyError\u001b[0m                                  Traceback (most recent call last)",
            "\u001b[0;32m<ipython-input-16-07160971d9a3>\u001b[0m in \u001b[0;36m<module>\u001b[0;34m()\u001b[0m\n\u001b[0;32m----> 1\u001b[0;31m \u001b[0;32mfor\u001b[0m \u001b[0mcan\u001b[0m \u001b[0;32min\u001b[0m \u001b[0mmayors\u001b[0m\u001b[0;34m[\u001b[0m\u001b[0;34m'candidate_info'\u001b[0m\u001b[0;34m]\u001b[0m\u001b[0;34m:\u001b[0m\u001b[0;34m\u001b[0m\u001b[0;34m\u001b[0m\u001b[0m\n\u001b[0m\u001b[1;32m      2\u001b[0m    \u001b[0mx\u001b[0m \u001b[0;34m=\u001b[0m \u001b[0mcan\u001b[0m\u001b[0;34m.\u001b[0m\u001b[0msplit\u001b[0m\u001b[0;34m(\u001b[0m\u001b[0;34m\" \"\u001b[0m\u001b[0;34m)\u001b[0m\u001b[0;34m\u001b[0m\u001b[0;34m\u001b[0m\u001b[0m\n\u001b[1;32m      3\u001b[0m \u001b[0;34m\u001b[0m\u001b[0m\n\u001b[1;32m      4\u001b[0m \u001b[0mprint\u001b[0m\u001b[0;34m(\u001b[0m\u001b[0mx\u001b[0m\u001b[0;34m)\u001b[0m\u001b[0;34m\u001b[0m\u001b[0;34m\u001b[0m\u001b[0m\n\u001b[1;32m      5\u001b[0m \u001b[0;32mfor\u001b[0m \u001b[0mi\u001b[0m \u001b[0;32min\u001b[0m \u001b[0mrange\u001b[0m\u001b[0;34m(\u001b[0m\u001b[0mlen\u001b[0m\u001b[0;34m(\u001b[0m\u001b[0mmayors\u001b[0m\u001b[0;34m[\u001b[0m\u001b[0;34m'district'\u001b[0m\u001b[0;34m]\u001b[0m\u001b[0;34m)\u001b[0m\u001b[0;34m)\u001b[0m\u001b[0;34m:\u001b[0m\u001b[0;34m\u001b[0m\u001b[0;34m\u001b[0m\u001b[0m\n",
            "\u001b[0;32m/usr/local/lib/python3.6/dist-packages/pandas/core/frame.py\u001b[0m in \u001b[0;36m__getitem__\u001b[0;34m(self, key)\u001b[0m\n\u001b[1;32m   2137\u001b[0m             \u001b[0;32mreturn\u001b[0m \u001b[0mself\u001b[0m\u001b[0;34m.\u001b[0m\u001b[0m_getitem_multilevel\u001b[0m\u001b[0;34m(\u001b[0m\u001b[0mkey\u001b[0m\u001b[0;34m)\u001b[0m\u001b[0;34m\u001b[0m\u001b[0;34m\u001b[0m\u001b[0m\n\u001b[1;32m   2138\u001b[0m         \u001b[0;32melse\u001b[0m\u001b[0;34m:\u001b[0m\u001b[0;34m\u001b[0m\u001b[0;34m\u001b[0m\u001b[0m\n\u001b[0;32m-> 2139\u001b[0;31m             \u001b[0;32mreturn\u001b[0m \u001b[0mself\u001b[0m\u001b[0;34m.\u001b[0m\u001b[0m_getitem_column\u001b[0m\u001b[0;34m(\u001b[0m\u001b[0mkey\u001b[0m\u001b[0;34m)\u001b[0m\u001b[0;34m\u001b[0m\u001b[0;34m\u001b[0m\u001b[0m\n\u001b[0m\u001b[1;32m   2140\u001b[0m \u001b[0;34m\u001b[0m\u001b[0m\n\u001b[1;32m   2141\u001b[0m     \u001b[0;32mdef\u001b[0m \u001b[0m_getitem_column\u001b[0m\u001b[0;34m(\u001b[0m\u001b[0mself\u001b[0m\u001b[0;34m,\u001b[0m \u001b[0mkey\u001b[0m\u001b[0;34m)\u001b[0m\u001b[0;34m:\u001b[0m\u001b[0;34m\u001b[0m\u001b[0;34m\u001b[0m\u001b[0m\n",
            "\u001b[0;32m/usr/local/lib/python3.6/dist-packages/pandas/core/frame.py\u001b[0m in \u001b[0;36m_getitem_column\u001b[0;34m(self, key)\u001b[0m\n\u001b[1;32m   2144\u001b[0m         \u001b[0;31m# get column\u001b[0m\u001b[0;34m\u001b[0m\u001b[0;34m\u001b[0m\u001b[0;34m\u001b[0m\u001b[0m\n\u001b[1;32m   2145\u001b[0m         \u001b[0;32mif\u001b[0m \u001b[0mself\u001b[0m\u001b[0;34m.\u001b[0m\u001b[0mcolumns\u001b[0m\u001b[0;34m.\u001b[0m\u001b[0mis_unique\u001b[0m\u001b[0;34m:\u001b[0m\u001b[0;34m\u001b[0m\u001b[0;34m\u001b[0m\u001b[0m\n\u001b[0;32m-> 2146\u001b[0;31m             \u001b[0;32mreturn\u001b[0m \u001b[0mself\u001b[0m\u001b[0;34m.\u001b[0m\u001b[0m_get_item_cache\u001b[0m\u001b[0;34m(\u001b[0m\u001b[0mkey\u001b[0m\u001b[0;34m)\u001b[0m\u001b[0;34m\u001b[0m\u001b[0;34m\u001b[0m\u001b[0m\n\u001b[0m\u001b[1;32m   2147\u001b[0m \u001b[0;34m\u001b[0m\u001b[0m\n\u001b[1;32m   2148\u001b[0m         \u001b[0;31m# duplicate columns & possible reduce dimensionality\u001b[0m\u001b[0;34m\u001b[0m\u001b[0;34m\u001b[0m\u001b[0;34m\u001b[0m\u001b[0m\n",
            "\u001b[0;32m/usr/local/lib/python3.6/dist-packages/pandas/core/generic.py\u001b[0m in \u001b[0;36m_get_item_cache\u001b[0;34m(self, item)\u001b[0m\n\u001b[1;32m   1840\u001b[0m         \u001b[0mres\u001b[0m \u001b[0;34m=\u001b[0m \u001b[0mcache\u001b[0m\u001b[0;34m.\u001b[0m\u001b[0mget\u001b[0m\u001b[0;34m(\u001b[0m\u001b[0mitem\u001b[0m\u001b[0;34m)\u001b[0m\u001b[0;34m\u001b[0m\u001b[0;34m\u001b[0m\u001b[0m\n\u001b[1;32m   1841\u001b[0m         \u001b[0;32mif\u001b[0m \u001b[0mres\u001b[0m \u001b[0;32mis\u001b[0m \u001b[0;32mNone\u001b[0m\u001b[0;34m:\u001b[0m\u001b[0;34m\u001b[0m\u001b[0;34m\u001b[0m\u001b[0m\n\u001b[0;32m-> 1842\u001b[0;31m             \u001b[0mvalues\u001b[0m \u001b[0;34m=\u001b[0m \u001b[0mself\u001b[0m\u001b[0;34m.\u001b[0m\u001b[0m_data\u001b[0m\u001b[0;34m.\u001b[0m\u001b[0mget\u001b[0m\u001b[0;34m(\u001b[0m\u001b[0mitem\u001b[0m\u001b[0;34m)\u001b[0m\u001b[0;34m\u001b[0m\u001b[0;34m\u001b[0m\u001b[0m\n\u001b[0m\u001b[1;32m   1843\u001b[0m             \u001b[0mres\u001b[0m \u001b[0;34m=\u001b[0m \u001b[0mself\u001b[0m\u001b[0;34m.\u001b[0m\u001b[0m_box_item_values\u001b[0m\u001b[0;34m(\u001b[0m\u001b[0mitem\u001b[0m\u001b[0;34m,\u001b[0m \u001b[0mvalues\u001b[0m\u001b[0;34m)\u001b[0m\u001b[0;34m\u001b[0m\u001b[0;34m\u001b[0m\u001b[0m\n\u001b[1;32m   1844\u001b[0m             \u001b[0mcache\u001b[0m\u001b[0;34m[\u001b[0m\u001b[0mitem\u001b[0m\u001b[0;34m]\u001b[0m \u001b[0;34m=\u001b[0m \u001b[0mres\u001b[0m\u001b[0;34m\u001b[0m\u001b[0;34m\u001b[0m\u001b[0m\n",
            "\u001b[0;32m/usr/local/lib/python3.6/dist-packages/pandas/core/internals.py\u001b[0m in \u001b[0;36mget\u001b[0;34m(self, item, fastpath)\u001b[0m\n\u001b[1;32m   3841\u001b[0m \u001b[0;34m\u001b[0m\u001b[0m\n\u001b[1;32m   3842\u001b[0m             \u001b[0;32mif\u001b[0m \u001b[0;32mnot\u001b[0m \u001b[0misna\u001b[0m\u001b[0;34m(\u001b[0m\u001b[0mitem\u001b[0m\u001b[0;34m)\u001b[0m\u001b[0;34m:\u001b[0m\u001b[0;34m\u001b[0m\u001b[0;34m\u001b[0m\u001b[0m\n\u001b[0;32m-> 3843\u001b[0;31m                 \u001b[0mloc\u001b[0m \u001b[0;34m=\u001b[0m \u001b[0mself\u001b[0m\u001b[0;34m.\u001b[0m\u001b[0mitems\u001b[0m\u001b[0;34m.\u001b[0m\u001b[0mget_loc\u001b[0m\u001b[0;34m(\u001b[0m\u001b[0mitem\u001b[0m\u001b[0;34m)\u001b[0m\u001b[0;34m\u001b[0m\u001b[0;34m\u001b[0m\u001b[0m\n\u001b[0m\u001b[1;32m   3844\u001b[0m             \u001b[0;32melse\u001b[0m\u001b[0;34m:\u001b[0m\u001b[0;34m\u001b[0m\u001b[0;34m\u001b[0m\u001b[0m\n\u001b[1;32m   3845\u001b[0m                 \u001b[0mindexer\u001b[0m \u001b[0;34m=\u001b[0m \u001b[0mnp\u001b[0m\u001b[0;34m.\u001b[0m\u001b[0marange\u001b[0m\u001b[0;34m(\u001b[0m\u001b[0mlen\u001b[0m\u001b[0;34m(\u001b[0m\u001b[0mself\u001b[0m\u001b[0;34m.\u001b[0m\u001b[0mitems\u001b[0m\u001b[0;34m)\u001b[0m\u001b[0;34m)\u001b[0m\u001b[0;34m[\u001b[0m\u001b[0misna\u001b[0m\u001b[0;34m(\u001b[0m\u001b[0mself\u001b[0m\u001b[0;34m.\u001b[0m\u001b[0mitems\u001b[0m\u001b[0;34m)\u001b[0m\u001b[0;34m]\u001b[0m\u001b[0;34m\u001b[0m\u001b[0;34m\u001b[0m\u001b[0m\n",
            "\u001b[0;32m/usr/local/lib/python3.6/dist-packages/pandas/core/indexes/base.py\u001b[0m in \u001b[0;36mget_loc\u001b[0;34m(self, key, method, tolerance)\u001b[0m\n\u001b[1;32m   2525\u001b[0m                 \u001b[0;32mreturn\u001b[0m \u001b[0mself\u001b[0m\u001b[0;34m.\u001b[0m\u001b[0m_engine\u001b[0m\u001b[0;34m.\u001b[0m\u001b[0mget_loc\u001b[0m\u001b[0;34m(\u001b[0m\u001b[0mkey\u001b[0m\u001b[0;34m)\u001b[0m\u001b[0;34m\u001b[0m\u001b[0;34m\u001b[0m\u001b[0m\n\u001b[1;32m   2526\u001b[0m             \u001b[0;32mexcept\u001b[0m \u001b[0mKeyError\u001b[0m\u001b[0;34m:\u001b[0m\u001b[0;34m\u001b[0m\u001b[0;34m\u001b[0m\u001b[0m\n\u001b[0;32m-> 2527\u001b[0;31m                 \u001b[0;32mreturn\u001b[0m \u001b[0mself\u001b[0m\u001b[0;34m.\u001b[0m\u001b[0m_engine\u001b[0m\u001b[0;34m.\u001b[0m\u001b[0mget_loc\u001b[0m\u001b[0;34m(\u001b[0m\u001b[0mself\u001b[0m\u001b[0;34m.\u001b[0m\u001b[0m_maybe_cast_indexer\u001b[0m\u001b[0;34m(\u001b[0m\u001b[0mkey\u001b[0m\u001b[0;34m)\u001b[0m\u001b[0;34m)\u001b[0m\u001b[0;34m\u001b[0m\u001b[0;34m\u001b[0m\u001b[0m\n\u001b[0m\u001b[1;32m   2528\u001b[0m \u001b[0;34m\u001b[0m\u001b[0m\n\u001b[1;32m   2529\u001b[0m         \u001b[0mindexer\u001b[0m \u001b[0;34m=\u001b[0m \u001b[0mself\u001b[0m\u001b[0;34m.\u001b[0m\u001b[0mget_indexer\u001b[0m\u001b[0;34m(\u001b[0m\u001b[0;34m[\u001b[0m\u001b[0mkey\u001b[0m\u001b[0;34m]\u001b[0m\u001b[0;34m,\u001b[0m \u001b[0mmethod\u001b[0m\u001b[0;34m=\u001b[0m\u001b[0mmethod\u001b[0m\u001b[0;34m,\u001b[0m \u001b[0mtolerance\u001b[0m\u001b[0;34m=\u001b[0m\u001b[0mtolerance\u001b[0m\u001b[0;34m)\u001b[0m\u001b[0;34m\u001b[0m\u001b[0;34m\u001b[0m\u001b[0m\n",
            "\u001b[0;32mpandas/_libs/index.pyx\u001b[0m in \u001b[0;36mpandas._libs.index.IndexEngine.get_loc\u001b[0;34m()\u001b[0m\n",
            "\u001b[0;32mpandas/_libs/index.pyx\u001b[0m in \u001b[0;36mpandas._libs.index.IndexEngine.get_loc\u001b[0;34m()\u001b[0m\n",
            "\u001b[0;32mpandas/_libs/hashtable_class_helper.pxi\u001b[0m in \u001b[0;36mpandas._libs.hashtable.PyObjectHashTable.get_item\u001b[0;34m()\u001b[0m\n",
            "\u001b[0;32mpandas/_libs/hashtable_class_helper.pxi\u001b[0m in \u001b[0;36mpandas._libs.hashtable.PyObjectHashTable.get_item\u001b[0;34m()\u001b[0m\n",
            "\u001b[0;31mKeyError\u001b[0m: 'candidate_info'"
          ]
        }
      ]
    },
    {
      "metadata": {
        "id": "Wnq_aZJ68-R6",
        "colab_type": "code",
        "colab": {}
      },
      "cell_type": "code",
      "source": [
        ""
      ],
      "execution_count": 0,
      "outputs": []
    },
    {
      "metadata": {
        "id": "mIsX2WcnpD5h",
        "colab_type": "text"
      },
      "cell_type": "markdown",
      "source": [
        "## *Matplotlib*\n"
      ]
    },
    {
      "metadata": {
        "id": "96EApQ6dpOI3",
        "colab_type": "code",
        "colab": {}
      },
      "cell_type": "code",
      "source": [
        "import pandas as pd\n",
        "\n",
        "mayors_url = \"https://s3-ap-northeast-1.amazonaws.com/tw-election-2018/mayors.csv\"\n",
        "gapminder_url = \"https://storage.googleapis.com/learn_pd_like_tidyverse/gapminder.csv\"\n",
        "mayors = pd.read_csv(mayors_url)\n",
        "gapminder = pd.read_csv(gapminder_url)"
      ],
      "execution_count": 0,
      "outputs": []
    },
    {
      "metadata": {
        "id": "a5D4xv4ZpwSu",
        "colab_type": "code",
        "outputId": "65112258-ab94-4a9c-93e5-c4e96b80ba6b",
        "colab": {
          "base_uri": "https://localhost:8080/",
          "height": 1599
        }
      },
      "cell_type": "code",
      "source": [
        "gapminder.head(50)"
      ],
      "execution_count": 0,
      "outputs": [
        {
          "output_type": "execute_result",
          "data": {
            "text/html": [
              "<div>\n",
              "<style scoped>\n",
              "    .dataframe tbody tr th:only-of-type {\n",
              "        vertical-align: middle;\n",
              "    }\n",
              "\n",
              "    .dataframe tbody tr th {\n",
              "        vertical-align: top;\n",
              "    }\n",
              "\n",
              "    .dataframe thead th {\n",
              "        text-align: right;\n",
              "    }\n",
              "</style>\n",
              "<table border=\"1\" class=\"dataframe\">\n",
              "  <thead>\n",
              "    <tr style=\"text-align: right;\">\n",
              "      <th></th>\n",
              "      <th>country</th>\n",
              "      <th>continent</th>\n",
              "      <th>year</th>\n",
              "      <th>lifeExp</th>\n",
              "      <th>pop</th>\n",
              "      <th>gdpPercap</th>\n",
              "    </tr>\n",
              "  </thead>\n",
              "  <tbody>\n",
              "    <tr>\n",
              "      <th>0</th>\n",
              "      <td>Afghanistan</td>\n",
              "      <td>Asia</td>\n",
              "      <td>1952</td>\n",
              "      <td>28.801</td>\n",
              "      <td>8425333</td>\n",
              "      <td>779.445314</td>\n",
              "    </tr>\n",
              "    <tr>\n",
              "      <th>1</th>\n",
              "      <td>Afghanistan</td>\n",
              "      <td>Asia</td>\n",
              "      <td>1957</td>\n",
              "      <td>30.332</td>\n",
              "      <td>9240934</td>\n",
              "      <td>820.853030</td>\n",
              "    </tr>\n",
              "    <tr>\n",
              "      <th>2</th>\n",
              "      <td>Afghanistan</td>\n",
              "      <td>Asia</td>\n",
              "      <td>1962</td>\n",
              "      <td>31.997</td>\n",
              "      <td>10267083</td>\n",
              "      <td>853.100710</td>\n",
              "    </tr>\n",
              "    <tr>\n",
              "      <th>3</th>\n",
              "      <td>Afghanistan</td>\n",
              "      <td>Asia</td>\n",
              "      <td>1967</td>\n",
              "      <td>34.020</td>\n",
              "      <td>11537966</td>\n",
              "      <td>836.197138</td>\n",
              "    </tr>\n",
              "    <tr>\n",
              "      <th>4</th>\n",
              "      <td>Afghanistan</td>\n",
              "      <td>Asia</td>\n",
              "      <td>1972</td>\n",
              "      <td>36.088</td>\n",
              "      <td>13079460</td>\n",
              "      <td>739.981106</td>\n",
              "    </tr>\n",
              "    <tr>\n",
              "      <th>5</th>\n",
              "      <td>Afghanistan</td>\n",
              "      <td>Asia</td>\n",
              "      <td>1977</td>\n",
              "      <td>38.438</td>\n",
              "      <td>14880372</td>\n",
              "      <td>786.113360</td>\n",
              "    </tr>\n",
              "    <tr>\n",
              "      <th>6</th>\n",
              "      <td>Afghanistan</td>\n",
              "      <td>Asia</td>\n",
              "      <td>1982</td>\n",
              "      <td>39.854</td>\n",
              "      <td>12881816</td>\n",
              "      <td>978.011439</td>\n",
              "    </tr>\n",
              "    <tr>\n",
              "      <th>7</th>\n",
              "      <td>Afghanistan</td>\n",
              "      <td>Asia</td>\n",
              "      <td>1987</td>\n",
              "      <td>40.822</td>\n",
              "      <td>13867957</td>\n",
              "      <td>852.395945</td>\n",
              "    </tr>\n",
              "    <tr>\n",
              "      <th>8</th>\n",
              "      <td>Afghanistan</td>\n",
              "      <td>Asia</td>\n",
              "      <td>1992</td>\n",
              "      <td>41.674</td>\n",
              "      <td>16317921</td>\n",
              "      <td>649.341395</td>\n",
              "    </tr>\n",
              "    <tr>\n",
              "      <th>9</th>\n",
              "      <td>Afghanistan</td>\n",
              "      <td>Asia</td>\n",
              "      <td>1997</td>\n",
              "      <td>41.763</td>\n",
              "      <td>22227415</td>\n",
              "      <td>635.341351</td>\n",
              "    </tr>\n",
              "    <tr>\n",
              "      <th>10</th>\n",
              "      <td>Afghanistan</td>\n",
              "      <td>Asia</td>\n",
              "      <td>2002</td>\n",
              "      <td>42.129</td>\n",
              "      <td>25268405</td>\n",
              "      <td>726.734055</td>\n",
              "    </tr>\n",
              "    <tr>\n",
              "      <th>11</th>\n",
              "      <td>Afghanistan</td>\n",
              "      <td>Asia</td>\n",
              "      <td>2007</td>\n",
              "      <td>43.828</td>\n",
              "      <td>31889923</td>\n",
              "      <td>974.580338</td>\n",
              "    </tr>\n",
              "    <tr>\n",
              "      <th>12</th>\n",
              "      <td>Albania</td>\n",
              "      <td>Europe</td>\n",
              "      <td>1952</td>\n",
              "      <td>55.230</td>\n",
              "      <td>1282697</td>\n",
              "      <td>1601.056136</td>\n",
              "    </tr>\n",
              "    <tr>\n",
              "      <th>13</th>\n",
              "      <td>Albania</td>\n",
              "      <td>Europe</td>\n",
              "      <td>1957</td>\n",
              "      <td>59.280</td>\n",
              "      <td>1476505</td>\n",
              "      <td>1942.284244</td>\n",
              "    </tr>\n",
              "    <tr>\n",
              "      <th>14</th>\n",
              "      <td>Albania</td>\n",
              "      <td>Europe</td>\n",
              "      <td>1962</td>\n",
              "      <td>64.820</td>\n",
              "      <td>1728137</td>\n",
              "      <td>2312.888958</td>\n",
              "    </tr>\n",
              "    <tr>\n",
              "      <th>15</th>\n",
              "      <td>Albania</td>\n",
              "      <td>Europe</td>\n",
              "      <td>1967</td>\n",
              "      <td>66.220</td>\n",
              "      <td>1984060</td>\n",
              "      <td>2760.196931</td>\n",
              "    </tr>\n",
              "    <tr>\n",
              "      <th>16</th>\n",
              "      <td>Albania</td>\n",
              "      <td>Europe</td>\n",
              "      <td>1972</td>\n",
              "      <td>67.690</td>\n",
              "      <td>2263554</td>\n",
              "      <td>3313.422188</td>\n",
              "    </tr>\n",
              "    <tr>\n",
              "      <th>17</th>\n",
              "      <td>Albania</td>\n",
              "      <td>Europe</td>\n",
              "      <td>1977</td>\n",
              "      <td>68.930</td>\n",
              "      <td>2509048</td>\n",
              "      <td>3533.003910</td>\n",
              "    </tr>\n",
              "    <tr>\n",
              "      <th>18</th>\n",
              "      <td>Albania</td>\n",
              "      <td>Europe</td>\n",
              "      <td>1982</td>\n",
              "      <td>70.420</td>\n",
              "      <td>2780097</td>\n",
              "      <td>3630.880722</td>\n",
              "    </tr>\n",
              "    <tr>\n",
              "      <th>19</th>\n",
              "      <td>Albania</td>\n",
              "      <td>Europe</td>\n",
              "      <td>1987</td>\n",
              "      <td>72.000</td>\n",
              "      <td>3075321</td>\n",
              "      <td>3738.932735</td>\n",
              "    </tr>\n",
              "    <tr>\n",
              "      <th>20</th>\n",
              "      <td>Albania</td>\n",
              "      <td>Europe</td>\n",
              "      <td>1992</td>\n",
              "      <td>71.581</td>\n",
              "      <td>3326498</td>\n",
              "      <td>2497.437901</td>\n",
              "    </tr>\n",
              "    <tr>\n",
              "      <th>21</th>\n",
              "      <td>Albania</td>\n",
              "      <td>Europe</td>\n",
              "      <td>1997</td>\n",
              "      <td>72.950</td>\n",
              "      <td>3428038</td>\n",
              "      <td>3193.054604</td>\n",
              "    </tr>\n",
              "    <tr>\n",
              "      <th>22</th>\n",
              "      <td>Albania</td>\n",
              "      <td>Europe</td>\n",
              "      <td>2002</td>\n",
              "      <td>75.651</td>\n",
              "      <td>3508512</td>\n",
              "      <td>4604.211737</td>\n",
              "    </tr>\n",
              "    <tr>\n",
              "      <th>23</th>\n",
              "      <td>Albania</td>\n",
              "      <td>Europe</td>\n",
              "      <td>2007</td>\n",
              "      <td>76.423</td>\n",
              "      <td>3600523</td>\n",
              "      <td>5937.029526</td>\n",
              "    </tr>\n",
              "    <tr>\n",
              "      <th>24</th>\n",
              "      <td>Algeria</td>\n",
              "      <td>Africa</td>\n",
              "      <td>1952</td>\n",
              "      <td>43.077</td>\n",
              "      <td>9279525</td>\n",
              "      <td>2449.008185</td>\n",
              "    </tr>\n",
              "    <tr>\n",
              "      <th>25</th>\n",
              "      <td>Algeria</td>\n",
              "      <td>Africa</td>\n",
              "      <td>1957</td>\n",
              "      <td>45.685</td>\n",
              "      <td>10270856</td>\n",
              "      <td>3013.976023</td>\n",
              "    </tr>\n",
              "    <tr>\n",
              "      <th>26</th>\n",
              "      <td>Algeria</td>\n",
              "      <td>Africa</td>\n",
              "      <td>1962</td>\n",
              "      <td>48.303</td>\n",
              "      <td>11000948</td>\n",
              "      <td>2550.816880</td>\n",
              "    </tr>\n",
              "    <tr>\n",
              "      <th>27</th>\n",
              "      <td>Algeria</td>\n",
              "      <td>Africa</td>\n",
              "      <td>1967</td>\n",
              "      <td>51.407</td>\n",
              "      <td>12760499</td>\n",
              "      <td>3246.991771</td>\n",
              "    </tr>\n",
              "    <tr>\n",
              "      <th>28</th>\n",
              "      <td>Algeria</td>\n",
              "      <td>Africa</td>\n",
              "      <td>1972</td>\n",
              "      <td>54.518</td>\n",
              "      <td>14760787</td>\n",
              "      <td>4182.663766</td>\n",
              "    </tr>\n",
              "    <tr>\n",
              "      <th>29</th>\n",
              "      <td>Algeria</td>\n",
              "      <td>Africa</td>\n",
              "      <td>1977</td>\n",
              "      <td>58.014</td>\n",
              "      <td>17152804</td>\n",
              "      <td>4910.416756</td>\n",
              "    </tr>\n",
              "    <tr>\n",
              "      <th>30</th>\n",
              "      <td>Algeria</td>\n",
              "      <td>Africa</td>\n",
              "      <td>1982</td>\n",
              "      <td>61.368</td>\n",
              "      <td>20033753</td>\n",
              "      <td>5745.160213</td>\n",
              "    </tr>\n",
              "    <tr>\n",
              "      <th>31</th>\n",
              "      <td>Algeria</td>\n",
              "      <td>Africa</td>\n",
              "      <td>1987</td>\n",
              "      <td>65.799</td>\n",
              "      <td>23254956</td>\n",
              "      <td>5681.358539</td>\n",
              "    </tr>\n",
              "    <tr>\n",
              "      <th>32</th>\n",
              "      <td>Algeria</td>\n",
              "      <td>Africa</td>\n",
              "      <td>1992</td>\n",
              "      <td>67.744</td>\n",
              "      <td>26298373</td>\n",
              "      <td>5023.216647</td>\n",
              "    </tr>\n",
              "    <tr>\n",
              "      <th>33</th>\n",
              "      <td>Algeria</td>\n",
              "      <td>Africa</td>\n",
              "      <td>1997</td>\n",
              "      <td>69.152</td>\n",
              "      <td>29072015</td>\n",
              "      <td>4797.295051</td>\n",
              "    </tr>\n",
              "    <tr>\n",
              "      <th>34</th>\n",
              "      <td>Algeria</td>\n",
              "      <td>Africa</td>\n",
              "      <td>2002</td>\n",
              "      <td>70.994</td>\n",
              "      <td>31287142</td>\n",
              "      <td>5288.040382</td>\n",
              "    </tr>\n",
              "    <tr>\n",
              "      <th>35</th>\n",
              "      <td>Algeria</td>\n",
              "      <td>Africa</td>\n",
              "      <td>2007</td>\n",
              "      <td>72.301</td>\n",
              "      <td>33333216</td>\n",
              "      <td>6223.367465</td>\n",
              "    </tr>\n",
              "    <tr>\n",
              "      <th>36</th>\n",
              "      <td>Angola</td>\n",
              "      <td>Africa</td>\n",
              "      <td>1952</td>\n",
              "      <td>30.015</td>\n",
              "      <td>4232095</td>\n",
              "      <td>3520.610273</td>\n",
              "    </tr>\n",
              "    <tr>\n",
              "      <th>37</th>\n",
              "      <td>Angola</td>\n",
              "      <td>Africa</td>\n",
              "      <td>1957</td>\n",
              "      <td>31.999</td>\n",
              "      <td>4561361</td>\n",
              "      <td>3827.940465</td>\n",
              "    </tr>\n",
              "    <tr>\n",
              "      <th>38</th>\n",
              "      <td>Angola</td>\n",
              "      <td>Africa</td>\n",
              "      <td>1962</td>\n",
              "      <td>34.000</td>\n",
              "      <td>4826015</td>\n",
              "      <td>4269.276742</td>\n",
              "    </tr>\n",
              "    <tr>\n",
              "      <th>39</th>\n",
              "      <td>Angola</td>\n",
              "      <td>Africa</td>\n",
              "      <td>1967</td>\n",
              "      <td>35.985</td>\n",
              "      <td>5247469</td>\n",
              "      <td>5522.776375</td>\n",
              "    </tr>\n",
              "    <tr>\n",
              "      <th>40</th>\n",
              "      <td>Angola</td>\n",
              "      <td>Africa</td>\n",
              "      <td>1972</td>\n",
              "      <td>37.928</td>\n",
              "      <td>5894858</td>\n",
              "      <td>5473.288005</td>\n",
              "    </tr>\n",
              "    <tr>\n",
              "      <th>41</th>\n",
              "      <td>Angola</td>\n",
              "      <td>Africa</td>\n",
              "      <td>1977</td>\n",
              "      <td>39.483</td>\n",
              "      <td>6162675</td>\n",
              "      <td>3008.647355</td>\n",
              "    </tr>\n",
              "    <tr>\n",
              "      <th>42</th>\n",
              "      <td>Angola</td>\n",
              "      <td>Africa</td>\n",
              "      <td>1982</td>\n",
              "      <td>39.942</td>\n",
              "      <td>7016384</td>\n",
              "      <td>2756.953672</td>\n",
              "    </tr>\n",
              "    <tr>\n",
              "      <th>43</th>\n",
              "      <td>Angola</td>\n",
              "      <td>Africa</td>\n",
              "      <td>1987</td>\n",
              "      <td>39.906</td>\n",
              "      <td>7874230</td>\n",
              "      <td>2430.208311</td>\n",
              "    </tr>\n",
              "    <tr>\n",
              "      <th>44</th>\n",
              "      <td>Angola</td>\n",
              "      <td>Africa</td>\n",
              "      <td>1992</td>\n",
              "      <td>40.647</td>\n",
              "      <td>8735988</td>\n",
              "      <td>2627.845685</td>\n",
              "    </tr>\n",
              "    <tr>\n",
              "      <th>45</th>\n",
              "      <td>Angola</td>\n",
              "      <td>Africa</td>\n",
              "      <td>1997</td>\n",
              "      <td>40.963</td>\n",
              "      <td>9875024</td>\n",
              "      <td>2277.140884</td>\n",
              "    </tr>\n",
              "    <tr>\n",
              "      <th>46</th>\n",
              "      <td>Angola</td>\n",
              "      <td>Africa</td>\n",
              "      <td>2002</td>\n",
              "      <td>41.003</td>\n",
              "      <td>10866106</td>\n",
              "      <td>2773.287312</td>\n",
              "    </tr>\n",
              "    <tr>\n",
              "      <th>47</th>\n",
              "      <td>Angola</td>\n",
              "      <td>Africa</td>\n",
              "      <td>2007</td>\n",
              "      <td>42.731</td>\n",
              "      <td>12420476</td>\n",
              "      <td>4797.231267</td>\n",
              "    </tr>\n",
              "    <tr>\n",
              "      <th>48</th>\n",
              "      <td>Argentina</td>\n",
              "      <td>Americas</td>\n",
              "      <td>1952</td>\n",
              "      <td>62.485</td>\n",
              "      <td>17876956</td>\n",
              "      <td>5911.315053</td>\n",
              "    </tr>\n",
              "    <tr>\n",
              "      <th>49</th>\n",
              "      <td>Argentina</td>\n",
              "      <td>Americas</td>\n",
              "      <td>1957</td>\n",
              "      <td>64.399</td>\n",
              "      <td>19610538</td>\n",
              "      <td>6856.856212</td>\n",
              "    </tr>\n",
              "  </tbody>\n",
              "</table>\n",
              "</div>"
            ],
            "text/plain": [
              "        country continent  year  lifeExp       pop    gdpPercap\n",
              "0   Afghanistan      Asia  1952   28.801   8425333   779.445314\n",
              "1   Afghanistan      Asia  1957   30.332   9240934   820.853030\n",
              "2   Afghanistan      Asia  1962   31.997  10267083   853.100710\n",
              "3   Afghanistan      Asia  1967   34.020  11537966   836.197138\n",
              "4   Afghanistan      Asia  1972   36.088  13079460   739.981106\n",
              "5   Afghanistan      Asia  1977   38.438  14880372   786.113360\n",
              "6   Afghanistan      Asia  1982   39.854  12881816   978.011439\n",
              "7   Afghanistan      Asia  1987   40.822  13867957   852.395945\n",
              "8   Afghanistan      Asia  1992   41.674  16317921   649.341395\n",
              "9   Afghanistan      Asia  1997   41.763  22227415   635.341351\n",
              "10  Afghanistan      Asia  2002   42.129  25268405   726.734055\n",
              "11  Afghanistan      Asia  2007   43.828  31889923   974.580338\n",
              "12      Albania    Europe  1952   55.230   1282697  1601.056136\n",
              "13      Albania    Europe  1957   59.280   1476505  1942.284244\n",
              "14      Albania    Europe  1962   64.820   1728137  2312.888958\n",
              "15      Albania    Europe  1967   66.220   1984060  2760.196931\n",
              "16      Albania    Europe  1972   67.690   2263554  3313.422188\n",
              "17      Albania    Europe  1977   68.930   2509048  3533.003910\n",
              "18      Albania    Europe  1982   70.420   2780097  3630.880722\n",
              "19      Albania    Europe  1987   72.000   3075321  3738.932735\n",
              "20      Albania    Europe  1992   71.581   3326498  2497.437901\n",
              "21      Albania    Europe  1997   72.950   3428038  3193.054604\n",
              "22      Albania    Europe  2002   75.651   3508512  4604.211737\n",
              "23      Albania    Europe  2007   76.423   3600523  5937.029526\n",
              "24      Algeria    Africa  1952   43.077   9279525  2449.008185\n",
              "25      Algeria    Africa  1957   45.685  10270856  3013.976023\n",
              "26      Algeria    Africa  1962   48.303  11000948  2550.816880\n",
              "27      Algeria    Africa  1967   51.407  12760499  3246.991771\n",
              "28      Algeria    Africa  1972   54.518  14760787  4182.663766\n",
              "29      Algeria    Africa  1977   58.014  17152804  4910.416756\n",
              "30      Algeria    Africa  1982   61.368  20033753  5745.160213\n",
              "31      Algeria    Africa  1987   65.799  23254956  5681.358539\n",
              "32      Algeria    Africa  1992   67.744  26298373  5023.216647\n",
              "33      Algeria    Africa  1997   69.152  29072015  4797.295051\n",
              "34      Algeria    Africa  2002   70.994  31287142  5288.040382\n",
              "35      Algeria    Africa  2007   72.301  33333216  6223.367465\n",
              "36       Angola    Africa  1952   30.015   4232095  3520.610273\n",
              "37       Angola    Africa  1957   31.999   4561361  3827.940465\n",
              "38       Angola    Africa  1962   34.000   4826015  4269.276742\n",
              "39       Angola    Africa  1967   35.985   5247469  5522.776375\n",
              "40       Angola    Africa  1972   37.928   5894858  5473.288005\n",
              "41       Angola    Africa  1977   39.483   6162675  3008.647355\n",
              "42       Angola    Africa  1982   39.942   7016384  2756.953672\n",
              "43       Angola    Africa  1987   39.906   7874230  2430.208311\n",
              "44       Angola    Africa  1992   40.647   8735988  2627.845685\n",
              "45       Angola    Africa  1997   40.963   9875024  2277.140884\n",
              "46       Angola    Africa  2002   41.003  10866106  2773.287312\n",
              "47       Angola    Africa  2007   42.731  12420476  4797.231267\n",
              "48    Argentina  Americas  1952   62.485  17876956  5911.315053\n",
              "49    Argentina  Americas  1957   64.399  19610538  6856.856212"
            ]
          },
          "metadata": {
            "tags": []
          },
          "execution_count": 3
        }
      ]
    },
    {
      "metadata": {
        "id": "Pn19CNRcp2yV",
        "colab_type": "code",
        "outputId": "58d1af9f-e10f-4c9d-c2b0-903e3357ab66",
        "colab": {
          "base_uri": "https://localhost:8080/",
          "height": 459
        }
      },
      "cell_type": "code",
      "source": [
        "list = gapminder[gapminder['country'] == \"Taiwan\"]\n",
        "print(list)\n",
        "list = gapminder[gapminder['country'] == \"United States\"]\n",
        "print(list)\n",
        "#list = gapminder[gapminder['continent']== \"Americas\"]\n",
        "#print(list)"
      ],
      "execution_count": 0,
      "outputs": [
        {
          "output_type": "stream",
          "text": [
            "     country continent  year  lifeExp       pop     gdpPercap\n",
            "1500  Taiwan      Asia  1952    58.50   8550362   1206.947913\n",
            "1501  Taiwan      Asia  1957    62.40  10164215   1507.861290\n",
            "1502  Taiwan      Asia  1962    65.20  11918938   1822.879028\n",
            "1503  Taiwan      Asia  1967    67.50  13648692   2643.858681\n",
            "1504  Taiwan      Asia  1972    69.39  15226039   4062.523897\n",
            "1505  Taiwan      Asia  1977    70.59  16785196   5596.519826\n",
            "1506  Taiwan      Asia  1982    72.16  18501390   7426.354774\n",
            "1507  Taiwan      Asia  1987    73.40  19757799  11054.561750\n",
            "1508  Taiwan      Asia  1992    74.26  20686918  15215.657900\n",
            "1509  Taiwan      Asia  1997    75.25  21628605  20206.820980\n",
            "1510  Taiwan      Asia  2002    76.99  22454239  23235.423290\n",
            "1511  Taiwan      Asia  2007    78.40  23174294  28718.276840\n",
            "            country continent  year  lifeExp        pop    gdpPercap\n",
            "1608  United States  Americas  1952   68.440  157553000  13990.48208\n",
            "1609  United States  Americas  1957   69.490  171984000  14847.12712\n",
            "1610  United States  Americas  1962   70.210  186538000  16173.14586\n",
            "1611  United States  Americas  1967   70.760  198712000  19530.36557\n",
            "1612  United States  Americas  1972   71.340  209896000  21806.03594\n",
            "1613  United States  Americas  1977   73.380  220239000  24072.63213\n",
            "1614  United States  Americas  1982   74.650  232187835  25009.55914\n",
            "1615  United States  Americas  1987   75.020  242803533  29884.35041\n",
            "1616  United States  Americas  1992   76.090  256894189  32003.93224\n",
            "1617  United States  Americas  1997   76.810  272911760  35767.43303\n",
            "1618  United States  Americas  2002   77.310  287675526  39097.09955\n",
            "1619  United States  Americas  2007   78.242  301139947  42951.65309\n"
          ],
          "name": "stdout"
        }
      ]
    },
    {
      "metadata": {
        "id": "1MenHh9aqOT8",
        "colab_type": "code",
        "outputId": "6f226b42-24fe-468b-dadf-7e4538e415d3",
        "colab": {
          "base_uri": "https://localhost:8080/",
          "height": 347
        }
      },
      "cell_type": "code",
      "source": [
        "import matplotlib.pyplot as plt\n",
        "\n",
        "x_arr = gapminder[\"gdpPercap\"].values\n",
        "y_arr = gapminder[\"lifeExp\"].values\n",
        "plt.scatter(x=x_arr, y=y_arr)\n",
        "plt.show()\n"
      ],
      "execution_count": 0,
      "outputs": [
        {
          "output_type": "display_data",
          "data": {
            "image/png": "[encoded data removed]",
            "text/plain": [
              "<Figure size 576x396 with 1 Axes>"
            ]
          },
          "metadata": {
            "tags": []
          }
        }
      ]
    },
    {
      "metadata": {
        "id": "pExHtUp7y-86",
        "colab_type": "code",
        "outputId": "c6903ea4-8902-4a83-9577-b7d7c27fa4f9",
        "colab": {
          "base_uri": "https://localhost:8080/",
          "height": 347
        }
      },
      "cell_type": "code",
      "source": [
        "gapminder[\"gdpPercap\"].plot.hist(bins=30,)\n",
        "plt.show()"
      ],
      "execution_count": 0,
      "outputs": [
        {
          "output_type": "display_data",
          "data": {
            "image/png": "[encoded data removed]",
            "text/plain": [
              "<Figure size 576x396 with 1 Axes>"
            ]
          },
          "metadata": {
            "tags": []
          }
        }
      ]
    },
    {
      "metadata": {
        "id": "NMDbpgZDzCJ5",
        "colab_type": "code",
        "outputId": "97cfb999-3b92-4f32-8200-5a49b121369c",
        "colab": {
          "base_uri": "https://localhost:8080/",
          "height": 449
        }
      },
      "cell_type": "code",
      "source": [
        "colors_list = [\"red\", \"green\", \"blue\", \"yellow\", \"purple\"]\n",
        "#print(type(gapminder[\"continent\"]))\n",
        "#print(type(gapminder.iloc[:,0]))\n",
        "#print(type(gapminder))\n",
        "      \n",
        "#contient_list = pd.unique(gapminder[\"continent\"])\n",
        "contient_list = gapminder[\"continent\"].unique()\n",
        "print(gapminder[\"continent\"].unique())\n",
        "\n",
        "for con, col in zip(contient_list,colors_list ):\n",
        "      print(type(con))\n",
        "      Continent_arr =  gapminder[ gapminder[\"continent\"] == con ]\n",
        "      x_arr = Continent_arr[\"gdpPercap\"] \n",
        "      y_arr = Continent_arr[\"lifeExp\"]\n",
        "      \n",
        "      plt.scatter(x=x_arr, y=y_arr, c=col, s=6, alpha=0.5, label = con)\n",
        "\n",
        "plt.legend()\n",
        "plt.show()\n",
        "\n"
      ],
      "execution_count": 0,
      "outputs": [
        {
          "output_type": "stream",
          "text": [
            "['Asia' 'Europe' 'Africa' 'Americas' 'Oceania']\n",
            "<class 'str'>\n",
            "<class 'str'>\n",
            "<class 'str'>\n",
            "<class 'str'>\n",
            "<class 'str'>\n"
          ],
          "name": "stdout"
        },
        {
          "output_type": "display_data",
          "data": {
            "image/png": "[encoded data removed]",
            "text/plain": [
              "<Figure size 576x396 with 1 Axes>"
            ]
          },
          "metadata": {
            "tags": []
          }
        }
      ]
    },
    {
      "metadata": {
        "id": "tm1-PBcAz-AS",
        "colab_type": "code",
        "outputId": "04e0d4bc-bef5-4816-9bd0-5ff1d6e8e44a",
        "colab": {
          "base_uri": "https://localhost:8080/",
          "height": 51
        }
      },
      "cell_type": "code",
      "source": [
        "contient_list = pd.unique(gapminder[\"continent\"])\n",
        "print(contient_list)\n",
        "print(gapminder[\"continent\"].unique())"
      ],
      "execution_count": 0,
      "outputs": [
        {
          "output_type": "stream",
          "text": [
            "['Asia' 'Europe' 'Africa' 'Americas' 'Oceania']\n",
            "['Asia' 'Europe' 'Africa' 'Americas' 'Oceania']\n"
          ],
          "name": "stdout"
        }
      ]
    },
    {
      "metadata": {
        "id": "1Yv2xlru8DGP",
        "colab_type": "code",
        "colab": {}
      },
      "cell_type": "code",
      "source": [
        "list =[gapminder[\"continent\"].unique]\n"
      ],
      "execution_count": 0,
      "outputs": []
    },
    {
      "metadata": {
        "id": "-mQmqYsP9dOG",
        "colab_type": "code",
        "outputId": "6d067783-3ed7-4d9c-d9d6-33cd4a63fb2d",
        "colab": {
          "base_uri": "https://localhost:8080/",
          "height": 376
        }
      },
      "cell_type": "code",
      "source": [
        "colors = [\"red\", \"green\", \"blue\", \"yellow\", \"purple\"]\n",
        "continents = gapminder[\"continent\"].unique()\n",
        "for col, cont in zip(colors, continents):\n",
        "  gapminder_subset = gapminder[gapminder[\"continent\"] == cont]\n",
        "  x_arr = gapminder_subset[\"gdpPercap\"].values\n",
        "  #y_arr = gapminder_subset[\"lifeExp\"].values\n",
        "  plt.hist(x=x_arr, color=col, label=cont, alpha=0.4)\n",
        "plt.title(\"Gapminder Visualization: GDP Percap Distribution\")\n",
        "plt.xlabel(\"GDP Per Capita\")\n",
        "plt.ylabel(\"Frequency\")\n",
        "plt.legend()\n",
        "plt.show()"
      ],
      "execution_count": 0,
      "outputs": [
        {
          "output_type": "display_data",
          "data": {
            "image/png": "[encoded data removed]",
            "text/plain": [
              "<Figure size 576x396 with 1 Axes>"
            ]
          },
          "metadata": {
            "tags": []
          }
        }
      ]
    },
    {
      "metadata": {
        "id": "XVLfF49KE980",
        "colab_type": "code",
        "outputId": "d4a9bd01-dd84-4c97-f9c9-fa576f962b6e",
        "colab": {
          "base_uri": "https://localhost:8080/",
          "height": 351
        }
      },
      "cell_type": "code",
      "source": [
        "# subplots\n",
        "fig, ax = plt.subplots(nrows=1, ncols=5)"
      ],
      "execution_count": 0,
      "outputs": [
        {
          "output_type": "display_data",
          "data": {
            "image/png": "[encoded data removed]",
            "text/plain": [
              "<Figure size 576x396 with 5 Axes>"
            ]
          },
          "metadata": {
            "tags": []
          }
        }
      ]
    },
    {
      "metadata": {
        "id": "xfwNrueWFJC8",
        "colab_type": "code",
        "outputId": "922c6aa5-6005-4eda-fbd3-790686e8cf04",
        "colab": {
          "base_uri": "https://localhost:8080/",
          "height": 362
        }
      },
      "cell_type": "code",
      "source": [
        "fig, axes = plt.subplots(nrows=2, ncols=3)\n",
        "continents = gapminder[\"continent\"].unique()\n",
        "colors = [\"red\", \"green\", \"blue\", \"yellow\", \"purple\"]\n",
        "axis = [0,0,0,1,1]\n",
        "yxis = [0,1,2,0,1]\n",
        "k = 0\n",
        "for i, j in zip( axis, yxis):  \n",
        "    gapminder_subset = gapminder[gapminder[\"continent\"] == continents[k]]\n",
        "    x_arr = gapminder_subset[\"gdpPercap\"].values\n",
        "    axes[i, j].hist(x_arr, bins=30, color=colors[k])\n",
        "    axes[i, j].set_title(continents[k])\n",
        "    k = k+1\n",
        "    \n",
        "plt.show()"
      ],
      "execution_count": 0,
      "outputs": [
        {
          "output_type": "display_data",
          "data": {
            "image/png": "[encoded data removed]",
            "text/plain": [
              "<Figure size 576x396 with 6 Axes>"
            ]
          },
          "metadata": {
            "tags": []
          }
        }
      ]
    },
    {
      "metadata": {
        "id": "-_7iRsX8HwLr",
        "colab_type": "code",
        "outputId": "bc87a6ef-4c70-4e59-81e3-05cb236cdaf5",
        "colab": {
          "base_uri": "https://localhost:8080/",
          "height": 293
        }
      },
      "cell_type": "code",
      "source": [
        "fig, axes = plt.subplots(nrows=2, ncols=3,figsize=(8, 4))\n",
        "colors = [\"red\", \"green\", \"blue\", \"yellow\", \"purple\"]\n",
        "continents = gapminder[\"continent\"].unique()\n",
        "row_indice = [0, 0, 0, 1, 1]\n",
        "col_indice = [0, 1, 2, 0, 1]\n",
        "for col, cont, ri, ci in zip(colors, continents, row_indice, col_indice):\n",
        "  gapminder_subset = gapminder[gapminder[\"continent\"] == cont]\n",
        "  x_arr = gapminder_subset[\"gdpPercap\"].values\n",
        "  axes[ri, ci].hist(x_arr, bins=30, color=col)\n",
        "  axes[ri, ci].set_title(cont)\n",
        "axes[1, 2].set_visible(False)\n",
        "plt.tight_layout()\n",
        "plt.show()"
      ],
      "execution_count": 0,
      "outputs": [
        {
          "output_type": "display_data",
          "data": {
            "image/png": "[encoded data removed]",
            "text/plain": [
              "<Figure size 576x288 with 6 Axes>"
            ]
          },
          "metadata": {
            "tags": []
          }
        }
      ]
    },
    {
      "metadata": {
        "id": "Az5XRQnQMilq",
        "colab_type": "code",
        "outputId": "d242f76e-5fd7-4590-97ab-a45643d60a67",
        "colab": {
          "base_uri": "https://localhost:8080/",
          "height": 119
        }
      },
      "cell_type": "code",
      "source": [
        "i_movie_titles = [3,4,5]\n",
        "i_movie_titles2 = [9,10,11]\n",
        "com = zip(i_movie_titles,i_movie_titles2 )\n",
        "for i, movie_title in enumerate(com):\n",
        "  print(\"i=\",i)\n",
        "  print(\"movie_title=\",movie_title)"
      ],
      "execution_count": 0,
      "outputs": [
        {
          "output_type": "stream",
          "text": [
            "i= 0\n",
            "movie_title= (3, 9)\n",
            "i= 1\n",
            "movie_title= (4, 10)\n",
            "i= 2\n",
            "movie_title= (5, 11)\n"
          ],
          "name": "stdout"
        }
      ]
    },
    {
      "metadata": {
        "id": "Ap0atRNQWCxb",
        "colab_type": "text"
      },
      "cell_type": "markdown",
      "source": [
        "#test 2 variables + enumerate ( wrong usage)"
      ]
    },
    {
      "metadata": {
        "id": "uqKUOCuZVfGN",
        "colab_type": "code",
        "outputId": "39bb088c-bc6c-498b-b067-7353802b13f2",
        "colab": {
          "base_uri": "https://localhost:8080/",
          "height": 567
        }
      },
      "cell_type": "code",
      "source": [
        "import array\n",
        "fig, axes = plt.subplots(nrows=2, ncols=3)\n",
        "continents = gapminder[\"continent\"].unique()\n",
        "colors = [\"red\", \"green\", \"blue\", \"yellow\", \"purple\"]\n",
        "axis = [0,0,0,1,1]\n",
        "yxis = [0,1,2,0,1]\n",
        "com = zip(axis, yxis)\n",
        "for k, i, j in enumerate(com):  \n",
        "    gapminder_subset = gapminder[gapminder[\"continent\"] == continents[k]]\n",
        "    x_arr = gapminder_subset[\"gdpPercap\"].values\n",
        "    axes[i, j].hist(x_arr, bins=30, color=colors[k])\n",
        "    axes[i, j].set_title(continents[k])\n",
        "  \n",
        "    \n",
        "plt.show()"
      ],
      "execution_count": 0,
      "outputs": [
        {
          "output_type": "error",
          "ename": "ValueError",
          "evalue": "ignored",
          "traceback": [
            "\u001b[0;31m---------------------------------------------------------------------------\u001b[0m",
            "\u001b[0;31mValueError\u001b[0m                                Traceback (most recent call last)",
            "\u001b[0;32m<ipython-input-15-ccf35211f4da>\u001b[0m in \u001b[0;36m<module>\u001b[0;34m()\u001b[0m\n\u001b[1;32m      6\u001b[0m \u001b[0myxis\u001b[0m \u001b[0;34m=\u001b[0m \u001b[0;34m[\u001b[0m\u001b[0;36m0\u001b[0m\u001b[0;34m,\u001b[0m\u001b[0;36m1\u001b[0m\u001b[0;34m,\u001b[0m\u001b[0;36m2\u001b[0m\u001b[0;34m,\u001b[0m\u001b[0;36m0\u001b[0m\u001b[0;34m,\u001b[0m\u001b[0;36m1\u001b[0m\u001b[0;34m]\u001b[0m\u001b[0;34m\u001b[0m\u001b[0;34m\u001b[0m\u001b[0m\n\u001b[1;32m      7\u001b[0m \u001b[0mcom\u001b[0m \u001b[0;34m=\u001b[0m \u001b[0mzip\u001b[0m\u001b[0;34m(\u001b[0m\u001b[0maxis\u001b[0m\u001b[0;34m,\u001b[0m \u001b[0myxis\u001b[0m\u001b[0;34m)\u001b[0m\u001b[0;34m\u001b[0m\u001b[0;34m\u001b[0m\u001b[0m\n\u001b[0;32m----> 8\u001b[0;31m \u001b[0;32mfor\u001b[0m \u001b[0mk\u001b[0m\u001b[0;34m,\u001b[0m \u001b[0mi\u001b[0m\u001b[0;34m,\u001b[0m \u001b[0mj\u001b[0m \u001b[0;32min\u001b[0m \u001b[0menumerate\u001b[0m\u001b[0;34m(\u001b[0m\u001b[0mcom\u001b[0m\u001b[0;34m)\u001b[0m\u001b[0;34m:\u001b[0m\u001b[0;34m\u001b[0m\u001b[0;34m\u001b[0m\u001b[0m\n\u001b[0m\u001b[1;32m      9\u001b[0m     \u001b[0mgapminder_subset\u001b[0m \u001b[0;34m=\u001b[0m \u001b[0mgapminder\u001b[0m\u001b[0;34m[\u001b[0m\u001b[0mgapminder\u001b[0m\u001b[0;34m[\u001b[0m\u001b[0;34m\"continent\"\u001b[0m\u001b[0;34m]\u001b[0m \u001b[0;34m==\u001b[0m \u001b[0mcontinents\u001b[0m\u001b[0;34m[\u001b[0m\u001b[0mk\u001b[0m\u001b[0;34m]\u001b[0m\u001b[0;34m]\u001b[0m\u001b[0;34m\u001b[0m\u001b[0;34m\u001b[0m\u001b[0m\n\u001b[1;32m     10\u001b[0m     \u001b[0mx_arr\u001b[0m \u001b[0;34m=\u001b[0m \u001b[0mgapminder_subset\u001b[0m\u001b[0;34m[\u001b[0m\u001b[0;34m\"gdpPercap\"\u001b[0m\u001b[0;34m]\u001b[0m\u001b[0;34m.\u001b[0m\u001b[0mvalues\u001b[0m\u001b[0;34m\u001b[0m\u001b[0;34m\u001b[0m\u001b[0m\n",
            "\u001b[0;31mValueError\u001b[0m: not enough values to unpack (expected 3, got 2)"
          ]
        },
        {
          "output_type": "display_data",
          "data": {
            "image/png": "[encoded data removed]",
            "text/plain": [
              "<Figure size 576x396 with 6 Axes>"
            ]
          },
          "metadata": {
            "tags": []
          }
        }
      ]
    },
    {
      "metadata": {
        "id": "yPY-Xu8oel_x",
        "colab_type": "text"
      },
      "cell_type": "markdown",
      "source": [
        "#Pivot\n",
        "\n",
        "# Box"
      ]
    },
    {
      "metadata": {
        "id": "ZwUzCgunWRIs",
        "colab_type": "code",
        "colab": {}
      },
      "cell_type": "code",
      "source": [
        "gapminder.head(n=24)"
      ],
      "execution_count": 0,
      "outputs": []
    },
    {
      "metadata": {
        "id": "IKPbokrZejnh",
        "colab_type": "code",
        "outputId": "1b175641-5c27-406e-813b-44ce6e067782",
        "colab": {
          "base_uri": "https://localhost:8080/",
          "height": 347
        }
      },
      "cell_type": "code",
      "source": [
        "gapminder_with_idx = gapminder.reset_index()\n",
        "gdpPercap_wide = gapminder_with_idx.pivot(index=\"index\", columns=\"continent\", values=\"gdpPercap\")\n",
        "\n",
        "#print(gdpPercap_wide)\n",
        "gdpPercap_wide.plot.box()\n",
        "plt.show() "
      ],
      "execution_count": 0,
      "outputs": [
        {
          "output_type": "display_data",
          "data": {
            "image/png": "[encoded data removed]",
            "text/plain": [
              "<Figure size 576x396 with 1 Axes>"
            ]
          },
          "metadata": {
            "tags": []
          }
        }
      ]
    },
    {
      "metadata": {
        "id": "JGfih0y0ewld",
        "colab_type": "code",
        "outputId": "4884ecec-a5fa-4643-a3de-8275ac928e6d",
        "colab": {
          "base_uri": "https://localhost:8080/",
          "height": 347
        }
      },
      "cell_type": "code",
      "source": [
        "import numpy as np\n",
        "\n",
        "gdpPercap_wide_arr = gdpPercap_wide.values\n",
        "#print(gdpPercap_wide_arr)\n",
        "n_cols = gdpPercap_wide_arr.shape[1]\n",
        "arr_to_plot = []\n",
        "for i in range(n_cols):\n",
        "  arr_with_nan = gdpPercap_wide_arr[:, i]\n",
        " \n",
        "  arr_without_nan = arr_with_nan[~np.isnan(arr_with_nan)]\n",
        "  \n",
        "  #print(arr_without_nan)\n",
        "  \n",
        "  arr_to_plot.append(arr_without_nan)\n",
        "  #print(arr_without_nan.shape)\n",
        "plt.boxplot(arr_to_plot)\n",
        "plt.show()"
      ],
      "execution_count": 0,
      "outputs": [
        {
          "output_type": "display_data",
          "data": {
            "image/png": "[encoded data removed]",
            "text/plain": [
              "<Figure size 576x396 with 1 Axes>"
            ]
          },
          "metadata": {
            "tags": []
          }
        }
      ]
    },
    {
      "metadata": {
        "id": "s0F6XwAz7h3a",
        "colab_type": "code",
        "outputId": "b1008ddc-ab6b-4a08-cbd1-697a2907b525",
        "colab": {
          "base_uri": "https://localhost:8080/",
          "height": 199
        }
      },
      "cell_type": "code",
      "source": [
        "plt.bar(x=range(n_obs.size), height=n_obs.values)\n",
        "plt.xticks(range(n_obs.size), n_obs.index)\n",
        "plt.show()"
      ],
      "execution_count": 0,
      "outputs": [
        {
          "output_type": "error",
          "ename": "NameError",
          "evalue": "ignored",
          "traceback": [
            "\u001b[0;31m---------------------------------------------------------------------------\u001b[0m",
            "\u001b[0;31mNameError\u001b[0m                                 Traceback (most recent call last)",
            "\u001b[0;32m<ipython-input-23-181ecde703c5>\u001b[0m in \u001b[0;36m<module>\u001b[0;34m()\u001b[0m\n\u001b[0;32m----> 1\u001b[0;31m \u001b[0mplt\u001b[0m\u001b[0;34m.\u001b[0m\u001b[0mbar\u001b[0m\u001b[0;34m(\u001b[0m\u001b[0mx\u001b[0m\u001b[0;34m=\u001b[0m\u001b[0mrange\u001b[0m\u001b[0;34m(\u001b[0m\u001b[0mn_obs\u001b[0m\u001b[0;34m.\u001b[0m\u001b[0msize\u001b[0m\u001b[0;34m)\u001b[0m\u001b[0;34m,\u001b[0m \u001b[0mheight\u001b[0m\u001b[0;34m=\u001b[0m\u001b[0mn_obs\u001b[0m\u001b[0;34m.\u001b[0m\u001b[0mvalues\u001b[0m\u001b[0;34m)\u001b[0m\u001b[0;34m\u001b[0m\u001b[0;34m\u001b[0m\u001b[0m\n\u001b[0m\u001b[1;32m      2\u001b[0m \u001b[0mplt\u001b[0m\u001b[0;34m.\u001b[0m\u001b[0mxticks\u001b[0m\u001b[0;34m(\u001b[0m\u001b[0mrange\u001b[0m\u001b[0;34m(\u001b[0m\u001b[0mn_obs\u001b[0m\u001b[0;34m.\u001b[0m\u001b[0msize\u001b[0m\u001b[0;34m)\u001b[0m\u001b[0;34m,\u001b[0m \u001b[0mn_obs\u001b[0m\u001b[0;34m.\u001b[0m\u001b[0mindex\u001b[0m\u001b[0;34m)\u001b[0m\u001b[0;34m\u001b[0m\u001b[0;34m\u001b[0m\u001b[0m\n\u001b[1;32m      3\u001b[0m \u001b[0mplt\u001b[0m\u001b[0;34m.\u001b[0m\u001b[0mshow\u001b[0m\u001b[0;34m(\u001b[0m\u001b[0;34m)\u001b[0m\u001b[0;34m\u001b[0m\u001b[0;34m\u001b[0m\u001b[0m\n",
            "\u001b[0;31mNameError\u001b[0m: name 'n_obs' is not defined"
          ]
        }
      ]
    },
    {
      "metadata": {
        "id": "BWUyWROq9Etc",
        "colab_type": "code",
        "outputId": "b8926ee5-f8cc-4f7a-f8ab-3664fd44a020",
        "colab": {
          "base_uri": "https://localhost:8080/",
          "height": 136
        }
      },
      "cell_type": "code",
      "source": [
        "tp = mayors[mayors[\"admin_area\"] == \"台北市\"]\n",
        "grouped = tp.groupby([\"number\", \"candidate\"])\n",
        "grouped[\"votes\"].sum()"
      ],
      "execution_count": 0,
      "outputs": [
        {
          "output_type": "execute_result",
          "data": {
            "text/plain": [
              "number  candidate\n",
              "1       吳蕚洋            5617\n",
              "2       丁守中          577566\n",
              "3       姚文智          244641\n",
              "4       柯文哲          580820\n",
              "5       李錫錕            6172\n",
              "Name: votes, dtype: int64"
            ]
          },
          "metadata": {
            "tags": []
          },
          "execution_count": 22
        }
      ]
    },
    {
      "metadata": {
        "id": "p16jGkkL9Fug",
        "colab_type": "text"
      },
      "cell_type": "markdown",
      "source": [
        "############  example code  ############\n",
        "\n",
        "plt.bar(x=range(n_obs.size), height=n_obs.values)\n",
        "\n",
        "plt.xticks(range(n_obs.size), n_obs.index)\n",
        "\n",
        "plt.show()\n",
        "############  example code  ############\n",
        "tp = mayors[mayors[\"admin_area\"] == \"台北市\"]\n",
        "\n",
        "grouped = tp.groupby([\"number\", \"candidate\"])\n",
        "\n",
        "tp_votes_sum = grouped[\"votes\"].sum()\n",
        "\n",
        "plt.bar(x=range(tp_votes_sum.size), height=tp_votes_sum.values)\n",
        "\n",
        "plt.xticks(range(tp_votes_sum.size), tp_votes_sum.index)\n",
        "\n",
        "plt.show()"
      ]
    },
    {
      "metadata": {
        "id": "BOm6y-Os7afe",
        "colab_type": "code",
        "outputId": "1546f8e1-f9b5-44f1-fe57-bd16fc6502c9",
        "colab": {
          "base_uri": "https://localhost:8080/",
          "height": 233
        }
      },
      "cell_type": "code",
      "source": [
        "\n",
        "import matplotlib.font_manager as FontProperties\n",
        "\n",
        "my_font = FontProperties(fname=\"msjh.ttc\")\n",
        "plt.bar(x=range(grouped[\"votes\"].sum().size), height=grouped[\"votes\"].sum().values)\n",
        "plt.xticks(range(grouped[\"votes\"].sum().size), grouped[\"votes\"].sum().index, fontproperties=my_font)\n",
        "plt.show()"
      ],
      "execution_count": 0,
      "outputs": [
        {
          "output_type": "error",
          "ename": "TypeError",
          "evalue": "ignored",
          "traceback": [
            "\u001b[0;31m---------------------------------------------------------------------------\u001b[0m",
            "\u001b[0;31mTypeError\u001b[0m                                 Traceback (most recent call last)",
            "\u001b[0;32m<ipython-input-61-b52261e64191>\u001b[0m in \u001b[0;36m<module>\u001b[0;34m()\u001b[0m\n\u001b[1;32m      2\u001b[0m \u001b[0;32mimport\u001b[0m \u001b[0mmatplotlib\u001b[0m\u001b[0;34m.\u001b[0m\u001b[0mfont_manager\u001b[0m \u001b[0;32mas\u001b[0m \u001b[0mFontProperties\u001b[0m\u001b[0;34m\u001b[0m\u001b[0;34m\u001b[0m\u001b[0m\n\u001b[1;32m      3\u001b[0m \u001b[0;34m\u001b[0m\u001b[0m\n\u001b[0;32m----> 4\u001b[0;31m \u001b[0mmy_font\u001b[0m \u001b[0;34m=\u001b[0m \u001b[0mFontProperties\u001b[0m\u001b[0;34m(\u001b[0m\u001b[0mfname\u001b[0m\u001b[0;34m=\u001b[0m\u001b[0;34m\"msjh.ttc\"\u001b[0m\u001b[0;34m)\u001b[0m\u001b[0;34m\u001b[0m\u001b[0;34m\u001b[0m\u001b[0m\n\u001b[0m\u001b[1;32m      5\u001b[0m \u001b[0mplt\u001b[0m\u001b[0;34m.\u001b[0m\u001b[0mbar\u001b[0m\u001b[0;34m(\u001b[0m\u001b[0mx\u001b[0m\u001b[0;34m=\u001b[0m\u001b[0mrange\u001b[0m\u001b[0;34m(\u001b[0m\u001b[0mgrouped\u001b[0m\u001b[0;34m[\u001b[0m\u001b[0;34m\"votes\"\u001b[0m\u001b[0;34m]\u001b[0m\u001b[0;34m.\u001b[0m\u001b[0msum\u001b[0m\u001b[0;34m(\u001b[0m\u001b[0;34m)\u001b[0m\u001b[0;34m.\u001b[0m\u001b[0msize\u001b[0m\u001b[0;34m)\u001b[0m\u001b[0;34m,\u001b[0m \u001b[0mheight\u001b[0m\u001b[0;34m=\u001b[0m\u001b[0mgrouped\u001b[0m\u001b[0;34m[\u001b[0m\u001b[0;34m\"votes\"\u001b[0m\u001b[0;34m]\u001b[0m\u001b[0;34m.\u001b[0m\u001b[0msum\u001b[0m\u001b[0;34m(\u001b[0m\u001b[0;34m)\u001b[0m\u001b[0;34m.\u001b[0m\u001b[0mvalues\u001b[0m\u001b[0;34m)\u001b[0m\u001b[0;34m\u001b[0m\u001b[0;34m\u001b[0m\u001b[0m\n\u001b[1;32m      6\u001b[0m \u001b[0mplt\u001b[0m\u001b[0;34m.\u001b[0m\u001b[0mxticks\u001b[0m\u001b[0;34m(\u001b[0m\u001b[0mrange\u001b[0m\u001b[0;34m(\u001b[0m\u001b[0mgrouped\u001b[0m\u001b[0;34m[\u001b[0m\u001b[0;34m\"votes\"\u001b[0m\u001b[0;34m]\u001b[0m\u001b[0;34m.\u001b[0m\u001b[0msum\u001b[0m\u001b[0;34m(\u001b[0m\u001b[0;34m)\u001b[0m\u001b[0;34m.\u001b[0m\u001b[0msize\u001b[0m\u001b[0;34m)\u001b[0m\u001b[0;34m,\u001b[0m \u001b[0mgrouped\u001b[0m\u001b[0;34m[\u001b[0m\u001b[0;34m\"votes\"\u001b[0m\u001b[0;34m]\u001b[0m\u001b[0;34m.\u001b[0m\u001b[0msum\u001b[0m\u001b[0;34m(\u001b[0m\u001b[0;34m)\u001b[0m\u001b[0;34m.\u001b[0m\u001b[0mindex\u001b[0m\u001b[0;34m,\u001b[0m \u001b[0mfontproperties\u001b[0m\u001b[0;34m=\u001b[0m\u001b[0mmy_font\u001b[0m\u001b[0;34m)\u001b[0m\u001b[0;34m\u001b[0m\u001b[0;34m\u001b[0m\u001b[0m\n",
            "\u001b[0;31mTypeError\u001b[0m: 'module' object is not callable"
          ]
        }
      ]
    },
    {
      "metadata": {
        "id": "Nwmm2jvY7qY8",
        "colab_type": "code",
        "outputId": "25d2f03f-bd64-481b-e2e8-10f0df01a568",
        "colab": {
          "resources": {
            "http://localhost:8080/nbextensions/google.colab/files.js": {
              "data": "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",
              "ok": true,
              "headers": [
                [
                  "content-type",
                  "application/javascript"
                ]
              ],
              "status": 200,
              "status_text": ""
            }
          },
          "base_uri": "https://localhost:8080/",
          "height": 59
        }
      },
      "cell_type": "code",
      "source": [
        "from google.colab import files\n",
        "files.upload()\n",
        "\n"
      ],
      "execution_count": 0,
      "outputs": [
        {
          "output_type": "display_data",
          "data": {
            "text/html": [
              "\n",
              "     <input type=\"file\" id=\"files-55938f8b-3ddc-4f81-8af3-7f0603edff6d\" name=\"files[]\" multiple disabled />\n",
              "     <output id=\"result-55938f8b-3ddc-4f81-8af3-7f0603edff6d\">\n",
              "      Upload widget is only available when the cell has been executed in the\n",
              "      current browser session. Please rerun this cell to enable.\n",
              "      </output>\n",
              "      <script src=\"/nbextensions/google.colab/files.js\"></script> "
            ],
            "text/plain": [
              "<IPython.core.display.HTML object>"
            ]
          },
          "metadata": {
            "tags": []
          }
        },
        {
          "output_type": "execute_result",
          "data": {
            "text/plain": [
              "{}"
            ]
          },
          "metadata": {
            "tags": []
          },
          "execution_count": 52
        }
      ]
    },
    {
      "metadata": {
        "id": "mphrib5MB81y",
        "colab_type": "code",
        "outputId": "c015601b-791f-4d2f-fca9-45c7ab713f88",
        "colab": {
          "base_uri": "https://localhost:8080/",
          "height": 34
        }
      },
      "cell_type": "code",
      "source": [
        "!ls\n"
      ],
      "execution_count": 0,
      "outputs": [
        {
          "output_type": "stream",
          "text": [
            "sample_data\n"
          ],
          "name": "stdout"
        }
      ]
    },
    {
      "metadata": {
        "id": "ZTpA0lxoCwTB",
        "colab_type": "code",
        "colab": {}
      },
      "cell_type": "code",
      "source": [
        ""
      ],
      "execution_count": 0,
      "outputs": []
    }
  ]
}