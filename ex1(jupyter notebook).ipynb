{
 "cells": [
  {
   "cell_type": "markdown",
   "metadata": {},
   "source": [
    "作業 1: NumPy 入門（35）"
   ]
  },
  {
   "cell_type": "code",
   "execution_count": 2,
   "metadata": {},
   "outputs": [
    {
     "name": "stdout",
     "output_type": "stream",
     "text": [
      "28.86607004772212\n"
     ]
    }
   ],
   "source": [
    "####################################\n",
    "\n",
    "#作業 1: NumPy 入門（35）\n",
    "\n",
    "#寫作一個函數 std_fun()\n",
    "\n",
    "#利用 numpy ndarray 實作\n",
    "\n",
    "#SD=1N−1∑i=1N(xi−x¯)2−−−−−−−−−−−−−−−⎷\n",
    "\n",
    "#################################### \n",
    "import numpy as np\n",
    "\n",
    "def std_fun(arr): print(np.std(arr))\n",
    "\n",
    "std_fun(np.arange(1, 101))"
   ]
  },
  {
   "cell_type": "code",
   "execution_count": null,
   "metadata": {},
   "outputs": [],
   "source": []
  }
 ],
 "metadata": {
  "kernelspec": {
   "display_name": "Python 3",
   "language": "python",
   "name": "python3"
  },
  "language_info": {
   "codemirror_mode": {
    "name": "ipython",
    "version": 3
   },
   "file_extension": ".py",
   "mimetype": "text/x-python",
   "name": "python",
   "nbconvert_exporter": "python",
   "pygments_lexer": "ipython3",
   "version": "3.6.5"
  }
 },
 "nbformat": 4,
 "nbformat_minor": 2
}
